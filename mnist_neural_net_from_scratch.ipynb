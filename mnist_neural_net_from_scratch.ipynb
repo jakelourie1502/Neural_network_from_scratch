{
 "metadata": {
  "language_info": {
   "codemirror_mode": {
    "name": "ipython",
    "version": 3
   },
   "file_extension": ".py",
   "mimetype": "text/x-python",
   "name": "python",
   "nbconvert_exporter": "python",
   "pygments_lexer": "ipython3",
   "version": "3.8.5"
  },
  "orig_nbformat": 2,
  "kernelspec": {
   "name": "python385jvsc74a57bd03140f74d8e1d28421ccd34109d4bdb636d1200d25e7dadfa8785402db4096f74",
   "display_name": "Python 3.8.5 64-bit ('base': conda)"
  },
  "metadata": {
   "interpreter": {
    "hash": "ae44bc0eae4a697e13956773fab0a10687b55ffe583901dc88e01866ea6f570f"
   }
  }
 },
 "nbformat": 4,
 "nbformat_minor": 2,
 "cells": [
  {
   "cell_type": "code",
   "execution_count": 1,
   "metadata": {},
   "outputs": [],
   "source": [
    "sys.path.append('/Users/jacoblourie')"
   ]
  },
  {
   "cell_type": "code",
   "execution_count": 243,
   "metadata": {},
   "outputs": [],
   "source": [
    "import tensorflow as tf\n",
    "import sys\n",
    "import numpy as np \n",
    "import matplotlib.pyplot as plt\n",
    "import seaborn as sns\n",
    "#From my own library\n",
    "from computer_vision.my_lib.blur_contrast import display_image\n",
    "import pandas as pd"
   ]
  },
  {
   "source": [
    "## Trying to build a full 3 layer neural net from scratch using MNIST data"
   ],
   "cell_type": "markdown",
   "metadata": {}
  },
  {
   "cell_type": "code",
   "execution_count": 244,
   "metadata": {},
   "outputs": [],
   "source": [
    "#Load the dataset\n",
    "mnist = tf.keras.datasets.mnist\n",
    "(x_train, y_train), (x_test, y_test) = mnist.load_data()\n",
    "\n",
    "\n",
    "#need to make it smaller though\n",
    "# x_train = x_train[0:10000]\n",
    "# y_train = y_train[0:10000]"
   ]
  },
  {
   "cell_type": "code",
   "execution_count": 629,
   "metadata": {},
   "outputs": [
    {
     "output_type": "display_data",
     "data": {
      "text/plain": "<Figure size 432x432 with 1 Axes>",
      "image/svg+xml": "<?xml version=\"1.0\" encoding=\"utf-8\" standalone=\"no\"?>\n<!DOCTYPE svg PUBLIC \"-//W3C//DTD SVG 1.1//EN\"\n  \"http://www.w3.org/Graphics/SVG/1.1/DTD/svg11.dtd\">\n<!-- Created with matplotlib (https://matplotlib.org/) -->\n<svg height=\"370.67125pt\" version=\"1.1\" viewBox=\"0 0 360.058 370.67125\" width=\"360.058pt\" xmlns=\"http://www.w3.org/2000/svg\" xmlns:xlink=\"http://www.w3.org/1999/xlink\">\n <metadata>\n  <rdf:RDF xmlns:cc=\"http://creativecommons.org/ns#\" xmlns:dc=\"http://purl.org/dc/elements/1.1/\" xmlns:rdf=\"http://www.w3.org/1999/02/22-rdf-syntax-ns#\">\n   <cc:Work>\n    <dc:type rdf:resource=\"http://purl.org/dc/dcmitype/StillImage\"/>\n    <dc:date>2021-05-05T20:58:56.857085</dc:date>\n    <dc:format>image/svg+xml</dc:format>\n    <dc:creator>\n     <cc:Agent>\n      <dc:title>Matplotlib v3.3.2, https://matplotlib.org/</dc:title>\n     </cc:Agent>\n    </dc:creator>\n   </cc:Work>\n  </rdf:RDF>\n </metadata>\n <defs>\n  <style type=\"text/css\">*{stroke-linecap:butt;stroke-linejoin:round;}</style>\n </defs>\n <g id=\"figure_1\">\n  <g id=\"patch_1\">\n   <path d=\"M 0 370.67125 \nL 360.058 370.67125 \nL 360.058 0 \nL 0 0 \nz\n\" style=\"fill:none;\"/>\n  </g>\n  <g id=\"axes_1\">\n   <g id=\"patch_2\">\n    <path d=\"M 26.698 346.6545 \nL 352.858 346.6545 \nL 352.858 20.4945 \nL 26.698 20.4945 \nz\n\" style=\"fill:#ffffff;\"/>\n   </g>\n   <g clip-path=\"url(#pee0985b1bb)\">\n    <image height=\"327\" id=\"image92c1371448\" transform=\"scale(1 -1)translate(0 -327)\" width=\"327\" x=\"26.698\" xlink:href=\"data:image/png;base64,\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\" y=\"-19.6545\"/>\n   </g>\n   <g id=\"matplotlib.axis_1\">\n    <g id=\"xtick_1\">\n     <g id=\"line2d_1\">\n      <defs>\n       <path d=\"M 0 0 \nL 0 4.8 \n\" id=\"m1abe0d778a\" style=\"stroke:#000000;\"/>\n      </defs>\n      <g>\n       <use style=\"stroke:#000000;\" x=\"32.522286\" xlink:href=\"#m1abe0d778a\" y=\"346.6545\"/>\n      </g>\n     </g>\n     <g id=\"text_1\">\n      <!-- 0 -->\n      <g transform=\"translate(29.722786 361.641125)scale(0.088 -0.088)\">\n       <defs>\n        <path d=\"M 31.78125 66.40625 \nQ 24.171875 66.40625 20.328125 58.90625 \nQ 16.5 51.421875 16.5 36.375 \nQ 16.5 21.390625 20.328125 13.890625 \nQ 24.171875 6.390625 31.78125 6.390625 \nQ 39.453125 6.390625 43.28125 13.890625 \nQ 47.125 21.390625 47.125 36.375 \nQ 47.125 51.421875 43.28125 58.90625 \nQ 39.453125 66.40625 31.78125 66.40625 \nz\nM 31.78125 74.21875 \nQ 44.046875 74.21875 50.515625 64.515625 \nQ 56.984375 54.828125 56.984375 36.375 \nQ 56.984375 17.96875 50.515625 8.265625 \nQ 44.046875 -1.421875 31.78125 -1.421875 \nQ 19.53125 -1.421875 13.0625 8.265625 \nQ 6.59375 17.96875 6.59375 36.375 \nQ 6.59375 54.828125 13.0625 64.515625 \nQ 19.53125 74.21875 31.78125 74.21875 \nz\n\" id=\"DejaVuSans-48\"/>\n       </defs>\n       <use xlink:href=\"#DejaVuSans-48\"/>\n      </g>\n     </g>\n    </g>\n    <g id=\"xtick_2\">\n     <g id=\"line2d_2\">\n      <g>\n       <use style=\"stroke:#000000;\" x=\"90.765143\" xlink:href=\"#m1abe0d778a\" y=\"346.6545\"/>\n      </g>\n     </g>\n     <g id=\"text_2\">\n      <!-- 5 -->\n      <g transform=\"translate(87.965643 361.641125)scale(0.088 -0.088)\">\n       <defs>\n        <path d=\"M 10.796875 72.90625 \nL 49.515625 72.90625 \nL 49.515625 64.59375 \nL 19.828125 64.59375 \nL 19.828125 46.734375 \nQ 21.96875 47.46875 24.109375 47.828125 \nQ 26.265625 48.1875 28.421875 48.1875 \nQ 40.625 48.1875 47.75 41.5 \nQ 54.890625 34.8125 54.890625 23.390625 \nQ 54.890625 11.625 47.5625 5.09375 \nQ 40.234375 -1.421875 26.90625 -1.421875 \nQ 22.3125 -1.421875 17.546875 -0.640625 \nQ 12.796875 0.140625 7.71875 1.703125 \nL 7.71875 11.625 \nQ 12.109375 9.234375 16.796875 8.0625 \nQ 21.484375 6.890625 26.703125 6.890625 \nQ 35.15625 6.890625 40.078125 11.328125 \nQ 45.015625 15.765625 45.015625 23.390625 \nQ 45.015625 31 40.078125 35.4375 \nQ 35.15625 39.890625 26.703125 39.890625 \nQ 22.75 39.890625 18.8125 39.015625 \nQ 14.890625 38.140625 10.796875 36.28125 \nz\n\" id=\"DejaVuSans-53\"/>\n       </defs>\n       <use xlink:href=\"#DejaVuSans-53\"/>\n      </g>\n     </g>\n    </g>\n    <g id=\"xtick_3\">\n     <g id=\"line2d_3\">\n      <g>\n       <use style=\"stroke:#000000;\" x=\"149.008\" xlink:href=\"#m1abe0d778a\" y=\"346.6545\"/>\n      </g>\n     </g>\n     <g id=\"text_3\">\n      <!-- 10 -->\n      <g transform=\"translate(143.409 361.641125)scale(0.088 -0.088)\">\n       <defs>\n        <path d=\"M 12.40625 8.296875 \nL 28.515625 8.296875 \nL 28.515625 63.921875 \nL 10.984375 60.40625 \nL 10.984375 69.390625 \nL 28.421875 72.90625 \nL 38.28125 72.90625 \nL 38.28125 8.296875 \nL 54.390625 8.296875 \nL 54.390625 0 \nL 12.40625 0 \nz\n\" id=\"DejaVuSans-49\"/>\n       </defs>\n       <use xlink:href=\"#DejaVuSans-49\"/>\n       <use x=\"63.623047\" xlink:href=\"#DejaVuSans-48\"/>\n      </g>\n     </g>\n    </g>\n    <g id=\"xtick_4\">\n     <g id=\"line2d_4\">\n      <g>\n       <use style=\"stroke:#000000;\" x=\"207.250857\" xlink:href=\"#m1abe0d778a\" y=\"346.6545\"/>\n      </g>\n     </g>\n     <g id=\"text_4\">\n      <!-- 15 -->\n      <g transform=\"translate(201.651857 361.641125)scale(0.088 -0.088)\">\n       <use xlink:href=\"#DejaVuSans-49\"/>\n       <use x=\"63.623047\" xlink:href=\"#DejaVuSans-53\"/>\n      </g>\n     </g>\n    </g>\n    <g id=\"xtick_5\">\n     <g id=\"line2d_5\">\n      <g>\n       <use style=\"stroke:#000000;\" x=\"265.493714\" xlink:href=\"#m1abe0d778a\" y=\"346.6545\"/>\n      </g>\n     </g>\n     <g id=\"text_5\">\n      <!-- 20 -->\n      <g transform=\"translate(259.894714 361.641125)scale(0.088 -0.088)\">\n       <defs>\n        <path d=\"M 19.1875 8.296875 \nL 53.609375 8.296875 \nL 53.609375 0 \nL 7.328125 0 \nL 7.328125 8.296875 \nQ 12.9375 14.109375 22.625 23.890625 \nQ 32.328125 33.6875 34.8125 36.53125 \nQ 39.546875 41.84375 41.421875 45.53125 \nQ 43.3125 49.21875 43.3125 52.78125 \nQ 43.3125 58.59375 39.234375 62.25 \nQ 35.15625 65.921875 28.609375 65.921875 \nQ 23.96875 65.921875 18.8125 64.3125 \nQ 13.671875 62.703125 7.8125 59.421875 \nL 7.8125 69.390625 \nQ 13.765625 71.78125 18.9375 73 \nQ 24.125 74.21875 28.421875 74.21875 \nQ 39.75 74.21875 46.484375 68.546875 \nQ 53.21875 62.890625 53.21875 53.421875 \nQ 53.21875 48.921875 51.53125 44.890625 \nQ 49.859375 40.875 45.40625 35.40625 \nQ 44.1875 33.984375 37.640625 27.21875 \nQ 31.109375 20.453125 19.1875 8.296875 \nz\n\" id=\"DejaVuSans-50\"/>\n       </defs>\n       <use xlink:href=\"#DejaVuSans-50\"/>\n       <use x=\"63.623047\" xlink:href=\"#DejaVuSans-48\"/>\n      </g>\n     </g>\n    </g>\n    <g id=\"xtick_6\">\n     <g id=\"line2d_6\">\n      <g>\n       <use style=\"stroke:#000000;\" x=\"323.736571\" xlink:href=\"#m1abe0d778a\" y=\"346.6545\"/>\n      </g>\n     </g>\n     <g id=\"text_6\">\n      <!-- 25 -->\n      <g transform=\"translate(318.137571 361.641125)scale(0.088 -0.088)\">\n       <use xlink:href=\"#DejaVuSans-50\"/>\n       <use x=\"63.623047\" xlink:href=\"#DejaVuSans-53\"/>\n      </g>\n     </g>\n    </g>\n   </g>\n   <g id=\"matplotlib.axis_2\">\n    <g id=\"ytick_1\">\n     <g id=\"line2d_7\">\n      <defs>\n       <path d=\"M 0 0 \nL -4.8 0 \n\" id=\"m3203cb5136\" style=\"stroke:#000000;\"/>\n      </defs>\n      <g>\n       <use style=\"stroke:#000000;\" x=\"26.698\" xlink:href=\"#m3203cb5136\" y=\"26.318786\"/>\n      </g>\n     </g>\n     <g id=\"text_7\">\n      <!-- 0 -->\n      <g transform=\"translate(12.799 29.662098)scale(0.088 -0.088)\">\n       <use xlink:href=\"#DejaVuSans-48\"/>\n      </g>\n     </g>\n    </g>\n    <g id=\"ytick_2\">\n     <g id=\"line2d_8\">\n      <g>\n       <use style=\"stroke:#000000;\" x=\"26.698\" xlink:href=\"#m3203cb5136\" y=\"84.561643\"/>\n      </g>\n     </g>\n     <g id=\"text_8\">\n      <!-- 5 -->\n      <g transform=\"translate(12.799 87.904955)scale(0.088 -0.088)\">\n       <use xlink:href=\"#DejaVuSans-53\"/>\n      </g>\n     </g>\n    </g>\n    <g id=\"ytick_3\">\n     <g id=\"line2d_9\">\n      <g>\n       <use style=\"stroke:#000000;\" x=\"26.698\" xlink:href=\"#m3203cb5136\" y=\"142.8045\"/>\n      </g>\n     </g>\n     <g id=\"text_9\">\n      <!-- 10 -->\n      <g transform=\"translate(7.2 146.147812)scale(0.088 -0.088)\">\n       <use xlink:href=\"#DejaVuSans-49\"/>\n       <use x=\"63.623047\" xlink:href=\"#DejaVuSans-48\"/>\n      </g>\n     </g>\n    </g>\n    <g id=\"ytick_4\">\n     <g id=\"line2d_10\">\n      <g>\n       <use style=\"stroke:#000000;\" x=\"26.698\" xlink:href=\"#m3203cb5136\" y=\"201.047357\"/>\n      </g>\n     </g>\n     <g id=\"text_10\">\n      <!-- 15 -->\n      <g transform=\"translate(7.2 204.39067)scale(0.088 -0.088)\">\n       <use xlink:href=\"#DejaVuSans-49\"/>\n       <use x=\"63.623047\" xlink:href=\"#DejaVuSans-53\"/>\n      </g>\n     </g>\n    </g>\n    <g id=\"ytick_5\">\n     <g id=\"line2d_11\">\n      <g>\n       <use style=\"stroke:#000000;\" x=\"26.698\" xlink:href=\"#m3203cb5136\" y=\"259.290214\"/>\n      </g>\n     </g>\n     <g id=\"text_11\">\n      <!-- 20 -->\n      <g transform=\"translate(7.2 262.633527)scale(0.088 -0.088)\">\n       <use xlink:href=\"#DejaVuSans-50\"/>\n       <use x=\"63.623047\" xlink:href=\"#DejaVuSans-48\"/>\n      </g>\n     </g>\n    </g>\n    <g id=\"ytick_6\">\n     <g id=\"line2d_12\">\n      <g>\n       <use style=\"stroke:#000000;\" x=\"26.698\" xlink:href=\"#m3203cb5136\" y=\"317.533071\"/>\n      </g>\n     </g>\n     <g id=\"text_12\">\n      <!-- 25 -->\n      <g transform=\"translate(7.2 320.876384)scale(0.088 -0.088)\">\n       <use xlink:href=\"#DejaVuSans-50\"/>\n       <use x=\"63.623047\" xlink:href=\"#DejaVuSans-53\"/>\n      </g>\n     </g>\n    </g>\n   </g>\n   <g id=\"patch_3\">\n    <path d=\"M 26.698 346.6545 \nL 26.698 20.4945 \n\" style=\"fill:none;stroke:#000000;stroke-linecap:square;stroke-linejoin:miter;\"/>\n   </g>\n   <g id=\"patch_4\">\n    <path d=\"M 352.858 346.6545 \nL 352.858 20.4945 \n\" style=\"fill:none;stroke:#000000;stroke-linecap:square;stroke-linejoin:miter;\"/>\n   </g>\n   <g id=\"patch_5\">\n    <path d=\"M 26.698 346.6545 \nL 352.858 346.6545 \n\" style=\"fill:none;stroke:#000000;stroke-linecap:square;stroke-linejoin:miter;\"/>\n   </g>\n   <g id=\"patch_6\">\n    <path d=\"M 26.698 20.4945 \nL 352.858 20.4945 \n\" style=\"fill:none;stroke:#000000;stroke-linecap:square;stroke-linejoin:miter;\"/>\n   </g>\n   <g id=\"text_13\">\n    <!-- first image -->\n    <g transform=\"translate(163.9225 14.4945)scale(0.096 -0.096)\">\n     <defs>\n      <path d=\"M 37.109375 75.984375 \nL 37.109375 68.5 \nL 28.515625 68.5 \nQ 23.6875 68.5 21.796875 66.546875 \nQ 19.921875 64.59375 19.921875 59.515625 \nL 19.921875 54.6875 \nL 34.71875 54.6875 \nL 34.71875 47.703125 \nL 19.921875 47.703125 \nL 19.921875 0 \nL 10.890625 0 \nL 10.890625 47.703125 \nL 2.296875 47.703125 \nL 2.296875 54.6875 \nL 10.890625 54.6875 \nL 10.890625 58.5 \nQ 10.890625 67.625 15.140625 71.796875 \nQ 19.390625 75.984375 28.609375 75.984375 \nz\n\" id=\"DejaVuSans-102\"/>\n      <path d=\"M 9.421875 54.6875 \nL 18.40625 54.6875 \nL 18.40625 0 \nL 9.421875 0 \nz\nM 9.421875 75.984375 \nL 18.40625 75.984375 \nL 18.40625 64.59375 \nL 9.421875 64.59375 \nz\n\" id=\"DejaVuSans-105\"/>\n      <path d=\"M 41.109375 46.296875 \nQ 39.59375 47.171875 37.8125 47.578125 \nQ 36.03125 48 33.890625 48 \nQ 26.265625 48 22.1875 43.046875 \nQ 18.109375 38.09375 18.109375 28.8125 \nL 18.109375 0 \nL 9.078125 0 \nL 9.078125 54.6875 \nL 18.109375 54.6875 \nL 18.109375 46.1875 \nQ 20.953125 51.171875 25.484375 53.578125 \nQ 30.03125 56 36.53125 56 \nQ 37.453125 56 38.578125 55.875 \nQ 39.703125 55.765625 41.0625 55.515625 \nz\n\" id=\"DejaVuSans-114\"/>\n      <path d=\"M 44.28125 53.078125 \nL 44.28125 44.578125 \nQ 40.484375 46.53125 36.375 47.5 \nQ 32.28125 48.484375 27.875 48.484375 \nQ 21.1875 48.484375 17.84375 46.4375 \nQ 14.5 44.390625 14.5 40.28125 \nQ 14.5 37.15625 16.890625 35.375 \nQ 19.28125 33.59375 26.515625 31.984375 \nL 29.59375 31.296875 \nQ 39.15625 29.25 43.1875 25.515625 \nQ 47.21875 21.78125 47.21875 15.09375 \nQ 47.21875 7.46875 41.1875 3.015625 \nQ 35.15625 -1.421875 24.609375 -1.421875 \nQ 20.21875 -1.421875 15.453125 -0.5625 \nQ 10.6875 0.296875 5.421875 2 \nL 5.421875 11.28125 \nQ 10.40625 8.6875 15.234375 7.390625 \nQ 20.0625 6.109375 24.8125 6.109375 \nQ 31.15625 6.109375 34.5625 8.28125 \nQ 37.984375 10.453125 37.984375 14.40625 \nQ 37.984375 18.0625 35.515625 20.015625 \nQ 33.0625 21.96875 24.703125 23.78125 \nL 21.578125 24.515625 \nQ 13.234375 26.265625 9.515625 29.90625 \nQ 5.8125 33.546875 5.8125 39.890625 \nQ 5.8125 47.609375 11.28125 51.796875 \nQ 16.75 56 26.8125 56 \nQ 31.78125 56 36.171875 55.265625 \nQ 40.578125 54.546875 44.28125 53.078125 \nz\n\" id=\"DejaVuSans-115\"/>\n      <path d=\"M 18.3125 70.21875 \nL 18.3125 54.6875 \nL 36.8125 54.6875 \nL 36.8125 47.703125 \nL 18.3125 47.703125 \nL 18.3125 18.015625 \nQ 18.3125 11.328125 20.140625 9.421875 \nQ 21.96875 7.515625 27.59375 7.515625 \nL 36.8125 7.515625 \nL 36.8125 0 \nL 27.59375 0 \nQ 17.1875 0 13.234375 3.875 \nQ 9.28125 7.765625 9.28125 18.015625 \nL 9.28125 47.703125 \nL 2.6875 47.703125 \nL 2.6875 54.6875 \nL 9.28125 54.6875 \nL 9.28125 70.21875 \nz\n\" id=\"DejaVuSans-116\"/>\n      <path id=\"DejaVuSans-32\"/>\n      <path d=\"M 52 44.1875 \nQ 55.375 50.25 60.0625 53.125 \nQ 64.75 56 71.09375 56 \nQ 79.640625 56 84.28125 50.015625 \nQ 88.921875 44.046875 88.921875 33.015625 \nL 88.921875 0 \nL 79.890625 0 \nL 79.890625 32.71875 \nQ 79.890625 40.578125 77.09375 44.375 \nQ 74.3125 48.1875 68.609375 48.1875 \nQ 61.625 48.1875 57.5625 43.546875 \nQ 53.515625 38.921875 53.515625 30.90625 \nL 53.515625 0 \nL 44.484375 0 \nL 44.484375 32.71875 \nQ 44.484375 40.625 41.703125 44.40625 \nQ 38.921875 48.1875 33.109375 48.1875 \nQ 26.21875 48.1875 22.15625 43.53125 \nQ 18.109375 38.875 18.109375 30.90625 \nL 18.109375 0 \nL 9.078125 0 \nL 9.078125 54.6875 \nL 18.109375 54.6875 \nL 18.109375 46.1875 \nQ 21.1875 51.21875 25.484375 53.609375 \nQ 29.78125 56 35.6875 56 \nQ 41.65625 56 45.828125 52.96875 \nQ 50 49.953125 52 44.1875 \nz\n\" id=\"DejaVuSans-109\"/>\n      <path d=\"M 34.28125 27.484375 \nQ 23.390625 27.484375 19.1875 25 \nQ 14.984375 22.515625 14.984375 16.5 \nQ 14.984375 11.71875 18.140625 8.90625 \nQ 21.296875 6.109375 26.703125 6.109375 \nQ 34.1875 6.109375 38.703125 11.40625 \nQ 43.21875 16.703125 43.21875 25.484375 \nL 43.21875 27.484375 \nz\nM 52.203125 31.203125 \nL 52.203125 0 \nL 43.21875 0 \nL 43.21875 8.296875 \nQ 40.140625 3.328125 35.546875 0.953125 \nQ 30.953125 -1.421875 24.3125 -1.421875 \nQ 15.921875 -1.421875 10.953125 3.296875 \nQ 6 8.015625 6 15.921875 \nQ 6 25.140625 12.171875 29.828125 \nQ 18.359375 34.515625 30.609375 34.515625 \nL 43.21875 34.515625 \nL 43.21875 35.40625 \nQ 43.21875 41.609375 39.140625 45 \nQ 35.0625 48.390625 27.6875 48.390625 \nQ 23 48.390625 18.546875 47.265625 \nQ 14.109375 46.140625 10.015625 43.890625 \nL 10.015625 52.203125 \nQ 14.9375 54.109375 19.578125 55.046875 \nQ 24.21875 56 28.609375 56 \nQ 40.484375 56 46.34375 49.84375 \nQ 52.203125 43.703125 52.203125 31.203125 \nz\n\" id=\"DejaVuSans-97\"/>\n      <path d=\"M 45.40625 27.984375 \nQ 45.40625 37.75 41.375 43.109375 \nQ 37.359375 48.484375 30.078125 48.484375 \nQ 22.859375 48.484375 18.828125 43.109375 \nQ 14.796875 37.75 14.796875 27.984375 \nQ 14.796875 18.265625 18.828125 12.890625 \nQ 22.859375 7.515625 30.078125 7.515625 \nQ 37.359375 7.515625 41.375 12.890625 \nQ 45.40625 18.265625 45.40625 27.984375 \nz\nM 54.390625 6.78125 \nQ 54.390625 -7.171875 48.1875 -13.984375 \nQ 42 -20.796875 29.203125 -20.796875 \nQ 24.46875 -20.796875 20.265625 -20.09375 \nQ 16.0625 -19.390625 12.109375 -17.921875 \nL 12.109375 -9.1875 \nQ 16.0625 -11.328125 19.921875 -12.34375 \nQ 23.78125 -13.375 27.78125 -13.375 \nQ 36.625 -13.375 41.015625 -8.765625 \nQ 45.40625 -4.15625 45.40625 5.171875 \nL 45.40625 9.625 \nQ 42.625 4.78125 38.28125 2.390625 \nQ 33.9375 0 27.875 0 \nQ 17.828125 0 11.671875 7.65625 \nQ 5.515625 15.328125 5.515625 27.984375 \nQ 5.515625 40.671875 11.671875 48.328125 \nQ 17.828125 56 27.875 56 \nQ 33.9375 56 38.28125 53.609375 \nQ 42.625 51.21875 45.40625 46.390625 \nL 45.40625 54.6875 \nL 54.390625 54.6875 \nz\n\" id=\"DejaVuSans-103\"/>\n      <path d=\"M 56.203125 29.59375 \nL 56.203125 25.203125 \nL 14.890625 25.203125 \nQ 15.484375 15.921875 20.484375 11.0625 \nQ 25.484375 6.203125 34.421875 6.203125 \nQ 39.59375 6.203125 44.453125 7.46875 \nQ 49.3125 8.734375 54.109375 11.28125 \nL 54.109375 2.78125 \nQ 49.265625 0.734375 44.1875 -0.34375 \nQ 39.109375 -1.421875 33.890625 -1.421875 \nQ 20.796875 -1.421875 13.15625 6.1875 \nQ 5.515625 13.8125 5.515625 26.8125 \nQ 5.515625 40.234375 12.765625 48.109375 \nQ 20.015625 56 32.328125 56 \nQ 43.359375 56 49.78125 48.890625 \nQ 56.203125 41.796875 56.203125 29.59375 \nz\nM 47.21875 32.234375 \nQ 47.125 39.59375 43.09375 43.984375 \nQ 39.0625 48.390625 32.421875 48.390625 \nQ 24.90625 48.390625 20.390625 44.140625 \nQ 15.875 39.890625 15.1875 32.171875 \nz\n\" id=\"DejaVuSans-101\"/>\n     </defs>\n     <use xlink:href=\"#DejaVuSans-102\"/>\n     <use x=\"35.205078\" xlink:href=\"#DejaVuSans-105\"/>\n     <use x=\"62.988281\" xlink:href=\"#DejaVuSans-114\"/>\n     <use x=\"104.101562\" xlink:href=\"#DejaVuSans-115\"/>\n     <use x=\"156.201172\" xlink:href=\"#DejaVuSans-116\"/>\n     <use x=\"195.410156\" xlink:href=\"#DejaVuSans-32\"/>\n     <use x=\"227.197266\" xlink:href=\"#DejaVuSans-105\"/>\n     <use x=\"254.980469\" xlink:href=\"#DejaVuSans-109\"/>\n     <use x=\"352.392578\" xlink:href=\"#DejaVuSans-97\"/>\n     <use x=\"413.671875\" xlink:href=\"#DejaVuSans-103\"/>\n     <use x=\"477.148438\" xlink:href=\"#DejaVuSans-101\"/>\n    </g>\n   </g>\n  </g>\n </g>\n <defs>\n  <clipPath id=\"pee0985b1bb\">\n   <rect height=\"326.16\" width=\"326.16\" x=\"26.698\" y=\"20.4945\"/>\n  </clipPath>\n </defs>\n</svg>\n",
      "image/png": "[encoded data removed]"
     },
     "metadata": {
      "needs_background": "light"
     }
    }
   ],
   "source": [
    "#see what an image looks like\n",
    "display_image(x_train[7],'first image', size=(6,6))"
   ]
  },
  {
   "source": [
    "## To make this simple, we will start by runnin a \"is it a 1? \" model \n",
    "We want to run a 1/0 model, so let's label all \"1\"s as 1, and everything else as 0"
   ],
   "cell_type": "markdown",
   "metadata": {}
  },
  {
   "cell_type": "code",
   "execution_count": 246,
   "metadata": {},
   "outputs": [],
   "source": [
    "binary_y_train = np.array([1 if y == 1 else 0 for y in y_train])\n",
    "binary_y_test = np.array([1 if y == 1 else 0 for y in y_test])"
   ]
  },
  {
   "source": [
    "Let's go for 2 hidden layers, of 50 and 50 levels and let's just use sigmoid functions for now"
   ],
   "cell_type": "markdown",
   "metadata": {}
  },
  {
   "cell_type": "code",
   "execution_count": 290,
   "metadata": {},
   "outputs": [
    {
     "output_type": "stream",
     "name": "stdout",
     "text": [
      "(784, 60000)\n"
     ]
    }
   ],
   "source": [
    "#this helps much simpler\n",
    "def flatten_and_reshape(x_train,x_test, y_train, y_test):\n",
    "\n",
    "    x_train_flat = x_train.reshape((x_train.shape[0],-1)).T / 255\n",
    "    x_test_flat = x_test.reshape((x_test.shape[0],-1)).T / 255\n",
    "    print(x_train_flat.shape)\n",
    "    bin_y_train = y_train.reshape(1,-1)\n",
    "    bin_y_test = y_test.reshape(1,-1)\n",
    "    return x_train_flat, x_test_flat, bin_y_train, bin_y_test\n",
    "\n",
    "x_train_flat, x_test_flat, bin_y_train, bin_y_test = flatten_and_reshape(x_train, x_test, binary_y_train, binary_y_test)\n",
    "\n",
    "#Create the binary model\n",
    "\n",
    "# y_train_transp = y_train.reshape(1,-1) \n",
    "# y_test_transp = y_test.reshape(1,-1)\n",
    "\n"
   ]
  },
  {
   "source": [
    "We'll go with a Gaussian initialisation of matrices"
   ],
   "cell_type": "markdown",
   "metadata": {}
  },
  {
   "cell_type": "code",
   "execution_count": 291,
   "metadata": {},
   "outputs": [
    {
     "output_type": "stream",
     "name": "stdout",
     "text": [
      "Weights matrices\nW1 (50, 784)\nB1 (50, 1)\nW2 (15, 50)\nB2 (15, 1)\nW3 (1, 15)\nB3 (1, 1)\n"
     ]
    }
   ],
   "source": [
    "#Let's create the 'weights' matrices\n",
    "def init_weights(x_train_flat, layer_1, layer_2,output):\n",
    "    np.random_state = 112\n",
    "    layer_1 = layer_1\n",
    "    layer_2 = layer_2\n",
    "    size_of_layer = [x_train_flat.shape[0], layer_1,layer_2, output]\n",
    "    dict_of_weights = {}\n",
    "\n",
    "    for layer in range(len(size_of_layer) - 1):\n",
    "        dict_of_weights[f\"W{layer+1}\"] = np.random.randn(size_of_layer[layer+1],size_of_layer[layer])\n",
    "        dict_of_weights[f\"B{layer+1}\"] = np.random.randn(size_of_layer[layer+1],1)\n",
    "    #Print the sizes of the matrix\n",
    "    print(f\"Weights matrices\")\n",
    "    for name, matrix in dict_of_weights.items():\n",
    "        print(name, matrix.shape)\n",
    "    return dict_of_weights\n",
    "\n",
    "dict_of_weights = init_weights(x_train_flat, 50, 15, 1)"
   ]
  },
  {
   "source": [
    "## To start with, let's do sigmoid activation for each layer"
   ],
   "cell_type": "markdown",
   "metadata": {}
  },
  {
   "cell_type": "code",
   "execution_count": 623,
   "metadata": {},
   "outputs": [],
   "source": [
    "def sigmoid(x):\n",
    "    return (1/(1+np.exp(-x)))\n",
    "\n",
    "dict_of_FP_values = {}\n",
    "#FORWARD PROPOGATION\n",
    "def sigmoid_forward_prop(previous_a, W, B):\n",
    "    Z = W @ previous_a + B\n",
    "    next_A = sigmoid(Z)\n",
    "    return Z, next_A\n",
    "\n",
    "def forward_prop(dict_of_weights,x_train_flat,bin_y_train):\n",
    "    W1, B1, W2, B2, W3, B3 = dict_of_weights.values()\n",
    "    \n",
    "    Z1, A1 = sigmoid_forward_prop(x_train_flat, W1, B1)\n",
    "    Z2, A2 = sigmoid_forward_prop(A1, W2, B2)    \n",
    "    Z3, A3 = sigmoid_forward_prop(A2, W3, B3)\n",
    "    \n",
    "    dict_of_FP_values['Z1'] = Z1\n",
    "    dict_of_FP_values['A1'] = A1\n",
    "    dict_of_FP_values['Z2'] = Z2\n",
    "    dict_of_FP_values['A2'] = A2\n",
    "    dict_of_FP_values['Z3'] = Z3\n",
    "    dict_of_FP_values['A3'] = A3\n",
    "    \n",
    "    Cost = ((bin_y_train - A3) @ np.transpose(bin_y_train - A3) / A3.size )[0]\n",
    "\n",
    "    return dict_of_FP_values, Cost\n",
    "\n",
    "dict_of_FP_values, Cost = forward_prop(dict_of_weights,x_train_flat,bin_y_train)"
   ]
  },
  {
   "source": [
    "## Great, so now we need to do back propogation.\n",
    "\n"
   ],
   "cell_type": "markdown",
   "metadata": {}
  },
  {
   "source": [
    "Worth nothing, that everything is positive - this kind of makes sense because right now the dumb model can be improved by just setting everything to 0 (as only 10% of outputs are \"1\")\n",
    "\n",
    "Let's keep going back through the differentials"
   ],
   "cell_type": "markdown",
   "metadata": {}
  },
  {
   "cell_type": "code",
   "execution_count": 624,
   "metadata": {},
   "outputs": [],
   "source": [
    "differentiat_dict = {} #putting this here for later"
   ]
  },
  {
   "cell_type": "code",
   "execution_count": 625,
   "metadata": {},
   "outputs": [],
   "source": [
    "def back_prop_one_layer_from_A_to_previous_A(cost_of_that_A, Z, prev_A,W):    \n",
    "        #going back from A to z\n",
    "        dAn_dZn = np.exp(-Z) / ((1+np.exp(-Z))**2)\n",
    "        dC_dZn = cost_of_that_A * dAn_dZn\n",
    "        \n",
    "        #get diffs at that layer\n",
    "        dZn_dWn = prev_A\n",
    "        dZn_dBn = np.zeros_like(Z) + 1\n",
    "\n",
    "        #combien to get useful differentials\n",
    "        dC_dWn = dC_dZn @ dZn_dWn.T / Z.size\n",
    "        dC_dBn = np.sum(dC_dZn @ dZn_dBn.T,axis=1,keepdims=True) / dZn_dBn.shape[1]\n",
    "\n",
    "        #and then get the previous layer cost fuctions\n",
    "        dZn_dA_minus_one = W\n",
    "        dC_dA_minus_one = (dC_dZn.T @ dZn_dA_minus_one).T\n",
    "\n",
    "        return dC_dWn, dC_dBn, dC_dZn, dC_dA_minus_one\n",
    "\n",
    "def back_prop(dict_of_weights, dict_of_FP_values, bin_y_train, x_train_flat):\n",
    "    W1, B1, W2, B2, W3, W3 = dict_of_weights.values()\n",
    "    Z1, A1, Z2, A2, Z3, A3 = dict_of_FP_values.values()\n",
    "    \n",
    "    differentiat_dict = {}\n",
    "    \n",
    "    '''Let's look at W3 and B3 first'''\n",
    "    \n",
    "    #This line is unique\n",
    "    dC_dA3 = 2*(A3 - bin_y_train) #gives 1 by m matrix\n",
    "\n",
    "    #do the back props\n",
    "    dC_dW3, dC_dB3, dC_dZ3, dC_dA2 = back_prop_one_layer_from_A_to_previous_A(dC_dA3, Z3, A2, W3)\n",
    "    dC_dW2, dC_dB2, dC_dZ2, dC_dA1 = back_prop_one_layer_from_A_to_previous_A(dC_dA2, Z2, A1, W2)\n",
    "    dC_dW1, dC_dB1, dC_dZ1, dC_dA0 = back_prop_one_layer_from_A_to_previous_A(dC_dA1, Z1, x_train_flat, W1)\n",
    "\n",
    "    differentiat_dict['dW1'] = dC_dW1\n",
    "    differentiat_dict['dB1'] = dC_dB1\n",
    "    differentiat_dict['dW2'] = dC_dW2\n",
    "    differentiat_dict['dB2'] = dC_dB2\n",
    "    differentiat_dict['dW3'] = dC_dW3\n",
    "    differentiat_dict['dB3'] = dC_dB3\n",
    "\n",
    "    return differentiat_dict\n",
    "\n",
    "differentiat_dict = back_prop(dict_of_weights, dict_of_FP_values, bin_y_train, x_train_flat)"
   ]
  },
  {
   "cell_type": "code",
   "execution_count": 288,
   "metadata": {},
   "outputs": [
    {
     "output_type": "execute_result",
     "data": {
      "text/plain": [
       "12665"
      ]
     },
     "metadata": {},
     "execution_count": 288
    }
   ],
   "source": [
    "dict_of_FP_values['Z3'].size"
   ]
  },
  {
   "source": [
    "## Great stuff, now we need to update the weights."
   ],
   "cell_type": "markdown",
   "metadata": {}
  },
  {
   "cell_type": "code",
   "execution_count": 252,
   "metadata": {},
   "outputs": [],
   "source": [
    "def gradient_descent(learning_rate, dict_of_weights, differentiat_dict):\n",
    "    \n",
    "    #we have dictionaries for the weights and the differentials, which we should be able to use quite easily here. They are also in order so we can kind of cheat... but let's not \n",
    "    for key, value in dict_of_weights.items():\n",
    "        dict_of_weights[key] += -learning_rate * differentiat_dict[f'd{key}']\n",
    "    "
   ]
  },
  {
   "source": [
    "## SO, now let's run this in a loop and see what happens to Cost"
   ],
   "cell_type": "markdown",
   "metadata": {}
  },
  {
   "cell_type": "code",
   "execution_count": 630,
   "metadata": {
    "tags": []
   },
   "outputs": [
    {
     "output_type": "stream",
     "name": "stdout",
     "text": [
      "iteration: 0\n",
      "cost: [0.59158784]\n",
      "iteration: 100\n",
      "cost: [0.09616434]\n",
      "iteration: 200\n",
      "cost: [0.09593042]\n"
     ]
    }
   ],
   "source": [
    "#We start with forward propogation, storing the cost\n",
    "learning_rate = 0.1 #set an arbitrary learning rate... we can iterate and try a few others soon\n",
    "iterations = 250\n",
    "cost = []\n",
    "\n",
    "for iteration in range(iterations):\n",
    "    \n",
    "    dict_of_FP_values, Cost = forward_prop(dict_of_weights,x_train_flat,bin_y_train)\n",
    "    cost.append(Cost[0]) #add cost to the list.\n",
    "    #then, do back prop, storing the differentials\n",
    "    differentiat_dict = back_prop(dict_of_weights, dict_of_FP_values, bin_y_train, x_train_flat)\n",
    "\n",
    "    #then, do the gradient descent. Nothing stored, the weights just update and we re-use the new values in forward prop.\n",
    "    gradient_descent(learning_rate, dict_of_weights, differentiat_dict)\n",
    "    if iteration % 100 == 0:\n",
    "        print(f'iteration: {iteration}\\ncost: {Cost}')"
   ]
  },
  {
   "cell_type": "code",
   "execution_count": 612,
   "metadata": {},
   "outputs": [
    {
     "output_type": "stream",
     "name": "stderr",
     "text": [
      "/Users/jacoblourie/opt/anaconda3/lib/python3.8/site-packages/seaborn/_decorators.py:36: FutureWarning: Pass the following variables as keyword args: x, y. From version 0.12, the only valid positional argument will be `data`, and passing other arguments without an explicit keyword will result in an error or misinterpretation.\n  warnings.warn(\n"
     ]
    },
    {
     "output_type": "execute_result",
     "data": {
      "text/plain": [
       "<AxesSubplot:>"
      ]
     },
     "metadata": {},
     "execution_count": 612
    },
    {
     "output_type": "display_data",
     "data": {
      "text/plain": "<Figure size 432x288 with 1 Axes>",
      "image/svg+xml": "<?xml version=\"1.0\" encoding=\"utf-8\" standalone=\"no\"?>\n<!DOCTYPE svg PUBLIC \"-//W3C//DTD SVG 1.1//EN\"\n  \"http://www.w3.org/Graphics/SVG/1.1/DTD/svg11.dtd\">\n<!-- Created with matplotlib (https://matplotlib.org/) -->\n<svg height=\"248.65675pt\" version=\"1.1\" viewBox=\"0 0 405.08875 248.65675\" width=\"405.08875pt\" xmlns=\"http://www.w3.org/2000/svg\" xmlns:xlink=\"http://www.w3.org/1999/xlink\">\n <metadata>\n  <rdf:RDF xmlns:cc=\"http://creativecommons.org/ns#\" xmlns:dc=\"http://purl.org/dc/elements/1.1/\" xmlns:rdf=\"http://www.w3.org/1999/02/22-rdf-syntax-ns#\">\n   <cc:Work>\n    <dc:type rdf:resource=\"http://purl.org/dc/dcmitype/StillImage\"/>\n    <dc:date>2021-05-05T20:46:19.170499</dc:date>\n    <dc:format>image/svg+xml</dc:format>\n    <dc:creator>\n     <cc:Agent>\n      <dc:title>Matplotlib v3.3.2, https://matplotlib.org/</dc:title>\n     </cc:Agent>\n    </dc:creator>\n   </cc:Work>\n  </rdf:RDF>\n </metadata>\n <defs>\n  <style type=\"text/css\">*{stroke-linecap:butt;stroke-linejoin:round;}</style>\n </defs>\n <g id=\"figure_1\">\n  <g id=\"patch_1\">\n   <path d=\"M 0 248.65675 \nL 405.08875 248.65675 \nL 405.08875 0 \nL 0 0 \nz\n\" style=\"fill:none;\"/>\n  </g>\n  <g id=\"axes_1\">\n   <g id=\"patch_2\">\n    <path d=\"M 63.08875 224.64 \nL 397.88875 224.64 \nL 397.88875 7.2 \nL 63.08875 7.2 \nz\n\" style=\"fill:#ffffff;\"/>\n   </g>\n   <g id=\"matplotlib.axis_1\">\n    <g id=\"xtick_1\">\n     <g id=\"line2d_1\">\n      <defs>\n       <path d=\"M 0 0 \nL 0 4.8 \n\" id=\"m85e2eae9ad\" style=\"stroke:#000000;\"/>\n      </defs>\n      <g>\n       <use style=\"stroke:#000000;\" x=\"72.095429\" xlink:href=\"#m85e2eae9ad\" y=\"224.64\"/>\n      </g>\n     </g>\n     <g id=\"text_1\">\n      <!-- 0 -->\n      <g transform=\"translate(69.295929 239.626625)scale(0.088 -0.088)\">\n       <defs>\n        <path d=\"M 31.78125 66.40625 \nQ 24.171875 66.40625 20.328125 58.90625 \nQ 16.5 51.421875 16.5 36.375 \nQ 16.5 21.390625 20.328125 13.890625 \nQ 24.171875 6.390625 31.78125 6.390625 \nQ 39.453125 6.390625 43.28125 13.890625 \nQ 47.125 21.390625 47.125 36.375 \nQ 47.125 51.421875 43.28125 58.90625 \nQ 39.453125 66.40625 31.78125 66.40625 \nz\nM 31.78125 74.21875 \nQ 44.046875 74.21875 50.515625 64.515625 \nQ 56.984375 54.828125 56.984375 36.375 \nQ 56.984375 17.96875 50.515625 8.265625 \nQ 44.046875 -1.421875 31.78125 -1.421875 \nQ 19.53125 -1.421875 13.0625 8.265625 \nQ 6.59375 17.96875 6.59375 36.375 \nQ 6.59375 54.828125 13.0625 64.515625 \nQ 19.53125 74.21875 31.78125 74.21875 \nz\n\" id=\"DejaVuSans-48\"/>\n       </defs>\n       <use xlink:href=\"#DejaVuSans-48\"/>\n      </g>\n     </g>\n    </g>\n    <g id=\"xtick_2\">\n     <g id=\"line2d_2\">\n      <g>\n       <use style=\"stroke:#000000;\" x=\"134.210457\" xlink:href=\"#m85e2eae9ad\" y=\"224.64\"/>\n      </g>\n     </g>\n     <g id=\"text_2\">\n      <!-- 10 -->\n      <g transform=\"translate(128.611457 239.626625)scale(0.088 -0.088)\">\n       <defs>\n        <path d=\"M 12.40625 8.296875 \nL 28.515625 8.296875 \nL 28.515625 63.921875 \nL 10.984375 60.40625 \nL 10.984375 69.390625 \nL 28.421875 72.90625 \nL 38.28125 72.90625 \nL 38.28125 8.296875 \nL 54.390625 8.296875 \nL 54.390625 0 \nL 12.40625 0 \nz\n\" id=\"DejaVuSans-49\"/>\n       </defs>\n       <use xlink:href=\"#DejaVuSans-49\"/>\n       <use x=\"63.623047\" xlink:href=\"#DejaVuSans-48\"/>\n      </g>\n     </g>\n    </g>\n    <g id=\"xtick_3\">\n     <g id=\"line2d_3\">\n      <g>\n       <use style=\"stroke:#000000;\" x=\"196.325485\" xlink:href=\"#m85e2eae9ad\" y=\"224.64\"/>\n      </g>\n     </g>\n     <g id=\"text_3\">\n      <!-- 20 -->\n      <g transform=\"translate(190.726485 239.626625)scale(0.088 -0.088)\">\n       <defs>\n        <path d=\"M 19.1875 8.296875 \nL 53.609375 8.296875 \nL 53.609375 0 \nL 7.328125 0 \nL 7.328125 8.296875 \nQ 12.9375 14.109375 22.625 23.890625 \nQ 32.328125 33.6875 34.8125 36.53125 \nQ 39.546875 41.84375 41.421875 45.53125 \nQ 43.3125 49.21875 43.3125 52.78125 \nQ 43.3125 58.59375 39.234375 62.25 \nQ 35.15625 65.921875 28.609375 65.921875 \nQ 23.96875 65.921875 18.8125 64.3125 \nQ 13.671875 62.703125 7.8125 59.421875 \nL 7.8125 69.390625 \nQ 13.765625 71.78125 18.9375 73 \nQ 24.125 74.21875 28.421875 74.21875 \nQ 39.75 74.21875 46.484375 68.546875 \nQ 53.21875 62.890625 53.21875 53.421875 \nQ 53.21875 48.921875 51.53125 44.890625 \nQ 49.859375 40.875 45.40625 35.40625 \nQ 44.1875 33.984375 37.640625 27.21875 \nQ 31.109375 20.453125 19.1875 8.296875 \nz\n\" id=\"DejaVuSans-50\"/>\n       </defs>\n       <use xlink:href=\"#DejaVuSans-50\"/>\n       <use x=\"63.623047\" xlink:href=\"#DejaVuSans-48\"/>\n      </g>\n     </g>\n    </g>\n    <g id=\"xtick_4\">\n     <g id=\"line2d_4\">\n      <g>\n       <use style=\"stroke:#000000;\" x=\"258.440513\" xlink:href=\"#m85e2eae9ad\" y=\"224.64\"/>\n      </g>\n     </g>\n     <g id=\"text_4\">\n      <!-- 30 -->\n      <g transform=\"translate(252.841513 239.626625)scale(0.088 -0.088)\">\n       <defs>\n        <path d=\"M 40.578125 39.3125 \nQ 47.65625 37.796875 51.625 33 \nQ 55.609375 28.21875 55.609375 21.1875 \nQ 55.609375 10.40625 48.1875 4.484375 \nQ 40.765625 -1.421875 27.09375 -1.421875 \nQ 22.515625 -1.421875 17.65625 -0.515625 \nQ 12.796875 0.390625 7.625 2.203125 \nL 7.625 11.71875 \nQ 11.71875 9.328125 16.59375 8.109375 \nQ 21.484375 6.890625 26.8125 6.890625 \nQ 36.078125 6.890625 40.9375 10.546875 \nQ 45.796875 14.203125 45.796875 21.1875 \nQ 45.796875 27.640625 41.28125 31.265625 \nQ 36.765625 34.90625 28.71875 34.90625 \nL 20.21875 34.90625 \nL 20.21875 43.015625 \nL 29.109375 43.015625 \nQ 36.375 43.015625 40.234375 45.921875 \nQ 44.09375 48.828125 44.09375 54.296875 \nQ 44.09375 59.90625 40.109375 62.90625 \nQ 36.140625 65.921875 28.71875 65.921875 \nQ 24.65625 65.921875 20.015625 65.03125 \nQ 15.375 64.15625 9.8125 62.3125 \nL 9.8125 71.09375 \nQ 15.4375 72.65625 20.34375 73.4375 \nQ 25.25 74.21875 29.59375 74.21875 \nQ 40.828125 74.21875 47.359375 69.109375 \nQ 53.90625 64.015625 53.90625 55.328125 \nQ 53.90625 49.265625 50.4375 45.09375 \nQ 46.96875 40.921875 40.578125 39.3125 \nz\n\" id=\"DejaVuSans-51\"/>\n       </defs>\n       <use xlink:href=\"#DejaVuSans-51\"/>\n       <use x=\"63.623047\" xlink:href=\"#DejaVuSans-48\"/>\n      </g>\n     </g>\n    </g>\n    <g id=\"xtick_5\">\n     <g id=\"line2d_5\">\n      <g>\n       <use style=\"stroke:#000000;\" x=\"320.55554\" xlink:href=\"#m85e2eae9ad\" y=\"224.64\"/>\n      </g>\n     </g>\n     <g id=\"text_5\">\n      <!-- 40 -->\n      <g transform=\"translate(314.95654 239.626625)scale(0.088 -0.088)\">\n       <defs>\n        <path d=\"M 37.796875 64.3125 \nL 12.890625 25.390625 \nL 37.796875 25.390625 \nz\nM 35.203125 72.90625 \nL 47.609375 72.90625 \nL 47.609375 25.390625 \nL 58.015625 25.390625 \nL 58.015625 17.1875 \nL 47.609375 17.1875 \nL 47.609375 0 \nL 37.796875 0 \nL 37.796875 17.1875 \nL 4.890625 17.1875 \nL 4.890625 26.703125 \nz\n\" id=\"DejaVuSans-52\"/>\n       </defs>\n       <use xlink:href=\"#DejaVuSans-52\"/>\n       <use x=\"63.623047\" xlink:href=\"#DejaVuSans-48\"/>\n      </g>\n     </g>\n    </g>\n    <g id=\"xtick_6\">\n     <g id=\"line2d_6\">\n      <g>\n       <use style=\"stroke:#000000;\" x=\"382.670568\" xlink:href=\"#m85e2eae9ad\" y=\"224.64\"/>\n      </g>\n     </g>\n     <g id=\"text_6\">\n      <!-- 50 -->\n      <g transform=\"translate(377.071568 239.626625)scale(0.088 -0.088)\">\n       <defs>\n        <path d=\"M 10.796875 72.90625 \nL 49.515625 72.90625 \nL 49.515625 64.59375 \nL 19.828125 64.59375 \nL 19.828125 46.734375 \nQ 21.96875 47.46875 24.109375 47.828125 \nQ 26.265625 48.1875 28.421875 48.1875 \nQ 40.625 48.1875 47.75 41.5 \nQ 54.890625 34.8125 54.890625 23.390625 \nQ 54.890625 11.625 47.5625 5.09375 \nQ 40.234375 -1.421875 26.90625 -1.421875 \nQ 22.3125 -1.421875 17.546875 -0.640625 \nQ 12.796875 0.140625 7.71875 1.703125 \nL 7.71875 11.625 \nQ 12.109375 9.234375 16.796875 8.0625 \nQ 21.484375 6.890625 26.703125 6.890625 \nQ 35.15625 6.890625 40.078125 11.328125 \nQ 45.015625 15.765625 45.015625 23.390625 \nQ 45.015625 31 40.078125 35.4375 \nQ 35.15625 39.890625 26.703125 39.890625 \nQ 22.75 39.890625 18.8125 39.015625 \nQ 14.890625 38.140625 10.796875 36.28125 \nz\n\" id=\"DejaVuSans-53\"/>\n       </defs>\n       <use xlink:href=\"#DejaVuSans-53\"/>\n       <use x=\"63.623047\" xlink:href=\"#DejaVuSans-48\"/>\n      </g>\n     </g>\n    </g>\n   </g>\n   <g id=\"matplotlib.axis_2\">\n    <g id=\"ytick_1\">\n     <g id=\"line2d_7\">\n      <defs>\n       <path d=\"M 0 0 \nL -4.8 0 \n\" id=\"m96e4d38ed4\" style=\"stroke:#000000;\"/>\n      </defs>\n      <g>\n       <use style=\"stroke:#000000;\" x=\"63.08875\" xlink:href=\"#m96e4d38ed4\" y=\"222.462024\"/>\n      </g>\n     </g>\n     <g id=\"text_7\">\n      <!-- 0.5915875 -->\n      <g transform=\"translate(7.2 225.805337)scale(0.088 -0.088)\">\n       <defs>\n        <path d=\"M 10.6875 12.40625 \nL 21 12.40625 \nL 21 0 \nL 10.6875 0 \nz\n\" id=\"DejaVuSans-46\"/>\n        <path d=\"M 10.984375 1.515625 \nL 10.984375 10.5 \nQ 14.703125 8.734375 18.5 7.8125 \nQ 22.3125 6.890625 25.984375 6.890625 \nQ 35.75 6.890625 40.890625 13.453125 \nQ 46.046875 20.015625 46.78125 33.40625 \nQ 43.953125 29.203125 39.59375 26.953125 \nQ 35.25 24.703125 29.984375 24.703125 \nQ 19.046875 24.703125 12.671875 31.3125 \nQ 6.296875 37.9375 6.296875 49.421875 \nQ 6.296875 60.640625 12.9375 67.421875 \nQ 19.578125 74.21875 30.609375 74.21875 \nQ 43.265625 74.21875 49.921875 64.515625 \nQ 56.59375 54.828125 56.59375 36.375 \nQ 56.59375 19.140625 48.40625 8.859375 \nQ 40.234375 -1.421875 26.421875 -1.421875 \nQ 22.703125 -1.421875 18.890625 -0.6875 \nQ 15.09375 0.046875 10.984375 1.515625 \nz\nM 30.609375 32.421875 \nQ 37.25 32.421875 41.125 36.953125 \nQ 45.015625 41.5 45.015625 49.421875 \nQ 45.015625 57.28125 41.125 61.84375 \nQ 37.25 66.40625 30.609375 66.40625 \nQ 23.96875 66.40625 20.09375 61.84375 \nQ 16.21875 57.28125 16.21875 49.421875 \nQ 16.21875 41.5 20.09375 36.953125 \nQ 23.96875 32.421875 30.609375 32.421875 \nz\n\" id=\"DejaVuSans-57\"/>\n        <path d=\"M 31.78125 34.625 \nQ 24.75 34.625 20.71875 30.859375 \nQ 16.703125 27.09375 16.703125 20.515625 \nQ 16.703125 13.921875 20.71875 10.15625 \nQ 24.75 6.390625 31.78125 6.390625 \nQ 38.8125 6.390625 42.859375 10.171875 \nQ 46.921875 13.96875 46.921875 20.515625 \nQ 46.921875 27.09375 42.890625 30.859375 \nQ 38.875 34.625 31.78125 34.625 \nz\nM 21.921875 38.8125 \nQ 15.578125 40.375 12.03125 44.71875 \nQ 8.5 49.078125 8.5 55.328125 \nQ 8.5 64.0625 14.71875 69.140625 \nQ 20.953125 74.21875 31.78125 74.21875 \nQ 42.671875 74.21875 48.875 69.140625 \nQ 55.078125 64.0625 55.078125 55.328125 \nQ 55.078125 49.078125 51.53125 44.71875 \nQ 48 40.375 41.703125 38.8125 \nQ 48.828125 37.15625 52.796875 32.3125 \nQ 56.78125 27.484375 56.78125 20.515625 \nQ 56.78125 9.90625 50.3125 4.234375 \nQ 43.84375 -1.421875 31.78125 -1.421875 \nQ 19.734375 -1.421875 13.25 4.234375 \nQ 6.78125 9.90625 6.78125 20.515625 \nQ 6.78125 27.484375 10.78125 32.3125 \nQ 14.796875 37.15625 21.921875 38.8125 \nz\nM 18.3125 54.390625 \nQ 18.3125 48.734375 21.84375 45.5625 \nQ 25.390625 42.390625 31.78125 42.390625 \nQ 38.140625 42.390625 41.71875 45.5625 \nQ 45.3125 48.734375 45.3125 54.390625 \nQ 45.3125 60.0625 41.71875 63.234375 \nQ 38.140625 66.40625 31.78125 66.40625 \nQ 25.390625 66.40625 21.84375 63.234375 \nQ 18.3125 60.0625 18.3125 54.390625 \nz\n\" id=\"DejaVuSans-56\"/>\n        <path d=\"M 8.203125 72.90625 \nL 55.078125 72.90625 \nL 55.078125 68.703125 \nL 28.609375 0 \nL 18.3125 0 \nL 43.21875 64.59375 \nL 8.203125 64.59375 \nz\n\" id=\"DejaVuSans-55\"/>\n       </defs>\n       <use xlink:href=\"#DejaVuSans-48\"/>\n       <use x=\"63.623047\" xlink:href=\"#DejaVuSans-46\"/>\n       <use x=\"95.410156\" xlink:href=\"#DejaVuSans-53\"/>\n       <use x=\"159.033203\" xlink:href=\"#DejaVuSans-57\"/>\n       <use x=\"222.65625\" xlink:href=\"#DejaVuSans-49\"/>\n       <use x=\"286.279297\" xlink:href=\"#DejaVuSans-53\"/>\n       <use x=\"349.902344\" xlink:href=\"#DejaVuSans-56\"/>\n       <use x=\"413.525391\" xlink:href=\"#DejaVuSans-55\"/>\n       <use x=\"477.148438\" xlink:href=\"#DejaVuSans-53\"/>\n      </g>\n     </g>\n    </g>\n    <g id=\"ytick_2\">\n     <g id=\"line2d_8\">\n      <g>\n       <use style=\"stroke:#000000;\" x=\"63.08875\" xlink:href=\"#m96e4d38ed4\" y=\"195.304249\"/>\n      </g>\n     </g>\n     <g id=\"text_8\">\n      <!-- 0.5915900 -->\n      <g transform=\"translate(7.2 198.647561)scale(0.088 -0.088)\">\n       <use xlink:href=\"#DejaVuSans-48\"/>\n       <use x=\"63.623047\" xlink:href=\"#DejaVuSans-46\"/>\n       <use x=\"95.410156\" xlink:href=\"#DejaVuSans-53\"/>\n       <use x=\"159.033203\" xlink:href=\"#DejaVuSans-57\"/>\n       <use x=\"222.65625\" xlink:href=\"#DejaVuSans-49\"/>\n       <use x=\"286.279297\" xlink:href=\"#DejaVuSans-53\"/>\n       <use x=\"349.902344\" xlink:href=\"#DejaVuSans-57\"/>\n       <use x=\"413.525391\" xlink:href=\"#DejaVuSans-48\"/>\n       <use x=\"477.148438\" xlink:href=\"#DejaVuSans-48\"/>\n      </g>\n     </g>\n    </g>\n    <g id=\"ytick_3\">\n     <g id=\"line2d_9\">\n      <g>\n       <use style=\"stroke:#000000;\" x=\"63.08875\" xlink:href=\"#m96e4d38ed4\" y=\"168.146473\"/>\n      </g>\n     </g>\n     <g id=\"text_9\">\n      <!-- 0.5915925 -->\n      <g transform=\"translate(7.2 171.489786)scale(0.088 -0.088)\">\n       <use xlink:href=\"#DejaVuSans-48\"/>\n       <use x=\"63.623047\" xlink:href=\"#DejaVuSans-46\"/>\n       <use x=\"95.410156\" xlink:href=\"#DejaVuSans-53\"/>\n       <use x=\"159.033203\" xlink:href=\"#DejaVuSans-57\"/>\n       <use x=\"222.65625\" xlink:href=\"#DejaVuSans-49\"/>\n       <use x=\"286.279297\" xlink:href=\"#DejaVuSans-53\"/>\n       <use x=\"349.902344\" xlink:href=\"#DejaVuSans-57\"/>\n       <use x=\"413.525391\" xlink:href=\"#DejaVuSans-50\"/>\n       <use x=\"477.148438\" xlink:href=\"#DejaVuSans-53\"/>\n      </g>\n     </g>\n    </g>\n    <g id=\"ytick_4\">\n     <g id=\"line2d_10\">\n      <g>\n       <use style=\"stroke:#000000;\" x=\"63.08875\" xlink:href=\"#m96e4d38ed4\" y=\"140.988698\"/>\n      </g>\n     </g>\n     <g id=\"text_10\">\n      <!-- 0.5915950 -->\n      <g transform=\"translate(7.2 144.33201)scale(0.088 -0.088)\">\n       <use xlink:href=\"#DejaVuSans-48\"/>\n       <use x=\"63.623047\" xlink:href=\"#DejaVuSans-46\"/>\n       <use x=\"95.410156\" xlink:href=\"#DejaVuSans-53\"/>\n       <use x=\"159.033203\" xlink:href=\"#DejaVuSans-57\"/>\n       <use x=\"222.65625\" xlink:href=\"#DejaVuSans-49\"/>\n       <use x=\"286.279297\" xlink:href=\"#DejaVuSans-53\"/>\n       <use x=\"349.902344\" xlink:href=\"#DejaVuSans-57\"/>\n       <use x=\"413.525391\" xlink:href=\"#DejaVuSans-53\"/>\n       <use x=\"477.148438\" xlink:href=\"#DejaVuSans-48\"/>\n      </g>\n     </g>\n    </g>\n    <g id=\"ytick_5\">\n     <g id=\"line2d_11\">\n      <g>\n       <use style=\"stroke:#000000;\" x=\"63.08875\" xlink:href=\"#m96e4d38ed4\" y=\"113.830922\"/>\n      </g>\n     </g>\n     <g id=\"text_11\">\n      <!-- 0.5915975 -->\n      <g transform=\"translate(7.2 117.174235)scale(0.088 -0.088)\">\n       <use xlink:href=\"#DejaVuSans-48\"/>\n       <use x=\"63.623047\" xlink:href=\"#DejaVuSans-46\"/>\n       <use x=\"95.410156\" xlink:href=\"#DejaVuSans-53\"/>\n       <use x=\"159.033203\" xlink:href=\"#DejaVuSans-57\"/>\n       <use x=\"222.65625\" xlink:href=\"#DejaVuSans-49\"/>\n       <use x=\"286.279297\" xlink:href=\"#DejaVuSans-53\"/>\n       <use x=\"349.902344\" xlink:href=\"#DejaVuSans-57\"/>\n       <use x=\"413.525391\" xlink:href=\"#DejaVuSans-55\"/>\n       <use x=\"477.148438\" xlink:href=\"#DejaVuSans-53\"/>\n      </g>\n     </g>\n    </g>\n    <g id=\"ytick_6\">\n     <g id=\"line2d_12\">\n      <g>\n       <use style=\"stroke:#000000;\" x=\"63.08875\" xlink:href=\"#m96e4d38ed4\" y=\"86.673147\"/>\n      </g>\n     </g>\n     <g id=\"text_12\">\n      <!-- 0.5916000 -->\n      <g transform=\"translate(7.2 90.016459)scale(0.088 -0.088)\">\n       <defs>\n        <path d=\"M 33.015625 40.375 \nQ 26.375 40.375 22.484375 35.828125 \nQ 18.609375 31.296875 18.609375 23.390625 \nQ 18.609375 15.53125 22.484375 10.953125 \nQ 26.375 6.390625 33.015625 6.390625 \nQ 39.65625 6.390625 43.53125 10.953125 \nQ 47.40625 15.53125 47.40625 23.390625 \nQ 47.40625 31.296875 43.53125 35.828125 \nQ 39.65625 40.375 33.015625 40.375 \nz\nM 52.59375 71.296875 \nL 52.59375 62.3125 \nQ 48.875 64.0625 45.09375 64.984375 \nQ 41.3125 65.921875 37.59375 65.921875 \nQ 27.828125 65.921875 22.671875 59.328125 \nQ 17.53125 52.734375 16.796875 39.40625 \nQ 19.671875 43.65625 24.015625 45.921875 \nQ 28.375 48.1875 33.59375 48.1875 \nQ 44.578125 48.1875 50.953125 41.515625 \nQ 57.328125 34.859375 57.328125 23.390625 \nQ 57.328125 12.15625 50.6875 5.359375 \nQ 44.046875 -1.421875 33.015625 -1.421875 \nQ 20.359375 -1.421875 13.671875 8.265625 \nQ 6.984375 17.96875 6.984375 36.375 \nQ 6.984375 53.65625 15.1875 63.9375 \nQ 23.390625 74.21875 37.203125 74.21875 \nQ 40.921875 74.21875 44.703125 73.484375 \nQ 48.484375 72.75 52.59375 71.296875 \nz\n\" id=\"DejaVuSans-54\"/>\n       </defs>\n       <use xlink:href=\"#DejaVuSans-48\"/>\n       <use x=\"63.623047\" xlink:href=\"#DejaVuSans-46\"/>\n       <use x=\"95.410156\" xlink:href=\"#DejaVuSans-53\"/>\n       <use x=\"159.033203\" xlink:href=\"#DejaVuSans-57\"/>\n       <use x=\"222.65625\" xlink:href=\"#DejaVuSans-49\"/>\n       <use x=\"286.279297\" xlink:href=\"#DejaVuSans-54\"/>\n       <use x=\"349.902344\" xlink:href=\"#DejaVuSans-48\"/>\n       <use x=\"413.525391\" xlink:href=\"#DejaVuSans-48\"/>\n       <use x=\"477.148438\" xlink:href=\"#DejaVuSans-48\"/>\n      </g>\n     </g>\n    </g>\n    <g id=\"ytick_7\">\n     <g id=\"line2d_13\">\n      <g>\n       <use style=\"stroke:#000000;\" x=\"63.08875\" xlink:href=\"#m96e4d38ed4\" y=\"59.515371\"/>\n      </g>\n     </g>\n     <g id=\"text_13\">\n      <!-- 0.5916025 -->\n      <g transform=\"translate(7.2 62.858684)scale(0.088 -0.088)\">\n       <use xlink:href=\"#DejaVuSans-48\"/>\n       <use x=\"63.623047\" xlink:href=\"#DejaVuSans-46\"/>\n       <use x=\"95.410156\" xlink:href=\"#DejaVuSans-53\"/>\n       <use x=\"159.033203\" xlink:href=\"#DejaVuSans-57\"/>\n       <use x=\"222.65625\" xlink:href=\"#DejaVuSans-49\"/>\n       <use x=\"286.279297\" xlink:href=\"#DejaVuSans-54\"/>\n       <use x=\"349.902344\" xlink:href=\"#DejaVuSans-48\"/>\n       <use x=\"413.525391\" xlink:href=\"#DejaVuSans-50\"/>\n       <use x=\"477.148438\" xlink:href=\"#DejaVuSans-53\"/>\n      </g>\n     </g>\n    </g>\n    <g id=\"ytick_8\">\n     <g id=\"line2d_14\">\n      <g>\n       <use style=\"stroke:#000000;\" x=\"63.08875\" xlink:href=\"#m96e4d38ed4\" y=\"32.357596\"/>\n      </g>\n     </g>\n     <g id=\"text_14\">\n      <!-- 0.5916050 -->\n      <g transform=\"translate(7.2 35.700908)scale(0.088 -0.088)\">\n       <use xlink:href=\"#DejaVuSans-48\"/>\n       <use x=\"63.623047\" xlink:href=\"#DejaVuSans-46\"/>\n       <use x=\"95.410156\" xlink:href=\"#DejaVuSans-53\"/>\n       <use x=\"159.033203\" xlink:href=\"#DejaVuSans-57\"/>\n       <use x=\"222.65625\" xlink:href=\"#DejaVuSans-49\"/>\n       <use x=\"286.279297\" xlink:href=\"#DejaVuSans-54\"/>\n       <use x=\"349.902344\" xlink:href=\"#DejaVuSans-48\"/>\n       <use x=\"413.525391\" xlink:href=\"#DejaVuSans-53\"/>\n       <use x=\"477.148438\" xlink:href=\"#DejaVuSans-48\"/>\n      </g>\n     </g>\n    </g>\n   </g>\n   <g id=\"line2d_15\">\n    <path clip-path=\"url(#p1dbbf098c3)\" d=\"M 78.306932 17.083636 \nL 84.518435 21.117634 \nL 90.729937 25.151637 \nL 96.94144 29.185646 \nL 103.152943 33.219661 \nL 109.364446 37.253681 \nL 115.575949 41.287708 \nL 121.787451 45.32174 \nL 127.998954 49.355778 \nL 134.210457 53.389822 \nL 140.42196 57.423872 \nL 146.633462 61.457927 \nL 152.844965 65.491989 \nL 159.056468 69.526056 \nL 165.267971 73.560129 \nL 171.479474 77.594208 \nL 177.690976 81.628293 \nL 183.902479 85.662384 \nL 190.113982 89.69648 \nL 196.325485 93.730582 \nL 202.536987 97.76469 \nL 208.74849 101.798804 \nL 214.959993 105.832924 \nL 221.171496 109.86705 \nL 227.382999 113.901181 \nL 233.594501 117.935319 \nL 239.806004 121.969462 \nL 246.017507 126.003611 \nL 252.22901 130.037765 \nL 258.440513 134.071926 \nL 264.652015 138.106093 \nL 270.863518 142.140265 \nL 277.075021 146.174443 \nL 283.286524 150.208627 \nL 289.498026 154.242817 \nL 295.709529 158.277012 \nL 301.921032 162.311214 \nL 308.132535 166.345421 \nL 314.344038 170.379634 \nL 320.55554 174.413853 \nL 326.767043 178.448078 \nL 332.978546 182.482309 \nL 339.190049 186.516545 \nL 345.401551 190.550787 \nL 351.613054 194.585035 \nL 357.824557 198.619289 \nL 364.03606 202.653549 \nL 370.247563 206.687815 \nL 376.459065 210.722086 \nL 382.670568 214.756364 \n\" style=\"fill:none;stroke:#1f77b4;stroke-linecap:square;stroke-width:1.2;\"/>\n   </g>\n   <g id=\"patch_3\">\n    <path d=\"M 63.08875 224.64 \nL 63.08875 7.2 \n\" style=\"fill:none;stroke:#000000;stroke-linecap:square;stroke-linejoin:miter;\"/>\n   </g>\n   <g id=\"patch_4\">\n    <path d=\"M 397.88875 224.64 \nL 397.88875 7.2 \n\" style=\"fill:none;stroke:#000000;stroke-linecap:square;stroke-linejoin:miter;\"/>\n   </g>\n   <g id=\"patch_5\">\n    <path d=\"M 63.08875 224.64 \nL 397.88875 224.64 \n\" style=\"fill:none;stroke:#000000;stroke-linecap:square;stroke-linejoin:miter;\"/>\n   </g>\n   <g id=\"patch_6\">\n    <path d=\"M 63.08875 7.2 \nL 397.88875 7.2 \n\" style=\"fill:none;stroke:#000000;stroke-linecap:square;stroke-linejoin:miter;\"/>\n   </g>\n  </g>\n </g>\n <defs>\n  <clipPath id=\"p1dbbf098c3\">\n   <rect height=\"217.44\" width=\"334.8\" x=\"63.08875\" y=\"7.2\"/>\n  </clipPath>\n </defs>\n</svg>\n",
      "image/png": "[encoded data removed]"
     },
     "metadata": {
      "needs_background": "light"
     }
    }
   ],
   "source": [
    "cost_x = np.linspace(1,iterations,iterations)\n",
    "fig = plt.figure(figsize = (6,4))\n",
    "sns.lineplot(cost_x,cost)\n"
   ]
  },
  {
   "cell_type": "code",
   "execution_count": 613,
   "metadata": {},
   "outputs": [
    {
     "output_type": "execute_result",
     "data": {
      "text/plain": [
       "<AxesSubplot:ylabel='Count'>"
      ]
     },
     "metadata": {},
     "execution_count": 613
    },
    {
     "output_type": "display_data",
     "data": {
      "text/plain": "<Figure size 432x288 with 1 Axes>",
      "image/svg+xml": "<?xml version=\"1.0\" encoding=\"utf-8\" standalone=\"no\"?>\n<!DOCTYPE svg PUBLIC \"-//W3C//DTD SVG 1.1//EN\"\n  \"http://www.w3.org/Graphics/SVG/1.1/DTD/svg11.dtd\">\n<!-- Created with matplotlib (https://matplotlib.org/) -->\n<svg height=\"248.65675pt\" version=\"1.1\" viewBox=\"0 0 393.187 248.65675\" width=\"393.187pt\" xmlns=\"http://www.w3.org/2000/svg\" xmlns:xlink=\"http://www.w3.org/1999/xlink\">\n <metadata>\n  <rdf:RDF xmlns:cc=\"http://creativecommons.org/ns#\" xmlns:dc=\"http://purl.org/dc/elements/1.1/\" xmlns:rdf=\"http://www.w3.org/1999/02/22-rdf-syntax-ns#\">\n   <cc:Work>\n    <dc:type rdf:resource=\"http://purl.org/dc/dcmitype/StillImage\"/>\n    <dc:date>2021-05-05T20:46:38.448570</dc:date>\n    <dc:format>image/svg+xml</dc:format>\n    <dc:creator>\n     <cc:Agent>\n      <dc:title>Matplotlib v3.3.2, https://matplotlib.org/</dc:title>\n     </cc:Agent>\n    </dc:creator>\n   </cc:Work>\n  </rdf:RDF>\n </metadata>\n <defs>\n  <style type=\"text/css\">*{stroke-linecap:butt;stroke-linejoin:round;}</style>\n </defs>\n <g id=\"figure_1\">\n  <g id=\"patch_1\">\n   <path d=\"M 0 248.65675 \nL 393.187 248.65675 \nL 393.187 0 \nL 0 0 \nz\n\" style=\"fill:none;\"/>\n  </g>\n  <g id=\"axes_1\">\n   <g id=\"patch_2\">\n    <path d=\"M 51.187 224.64 \nL 385.987 224.64 \nL 385.987 7.2 \nL 51.187 7.2 \nz\n\" style=\"fill:#ffffff;\"/>\n   </g>\n   <g id=\"patch_3\">\n    <path clip-path=\"url(#pfd83bc2c0f)\" d=\"M 66.405182 224.64 \nL 69.575636 224.64 \nL 69.575636 224.383917 \nL 66.405182 224.383917 \nz\n\" style=\"fill:#1f77b4;fill-opacity:0.75;stroke:#000000;stroke-linejoin:miter;stroke-width:0.317045;\"/>\n   </g>\n   <g id=\"patch_4\">\n    <path clip-path=\"url(#pfd83bc2c0f)\" d=\"M 69.575636 224.64 \nL 72.746091 224.64 \nL 72.746091 224.298556 \nL 69.575636 224.298556 \nz\n\" style=\"fill:#1f77b4;fill-opacity:0.75;stroke:#000000;stroke-linejoin:miter;stroke-width:0.317045;\"/>\n   </g>\n   <g id=\"patch_5\">\n    <path clip-path=\"url(#pfd83bc2c0f)\" d=\"M 72.746091 224.64 \nL 75.916545 224.64 \nL 75.916545 224.383917 \nL 72.746091 224.383917 \nz\n\" style=\"fill:#1f77b4;fill-opacity:0.75;stroke:#000000;stroke-linejoin:miter;stroke-width:0.317045;\"/>\n   </g>\n   <g id=\"patch_6\">\n    <path clip-path=\"url(#pfd83bc2c0f)\" d=\"M 75.916545 224.64 \nL 79.087 224.64 \nL 79.087 223.701029 \nL 75.916545 223.701029 \nz\n\" style=\"fill:#1f77b4;fill-opacity:0.75;stroke:#000000;stroke-linejoin:miter;stroke-width:0.317045;\"/>\n   </g>\n   <g id=\"patch_7\">\n    <path clip-path=\"url(#pfd83bc2c0f)\" d=\"M 79.087 224.64 \nL 82.257455 224.64 \nL 82.257455 223.701029 \nL 79.087 223.701029 \nz\n\" style=\"fill:#1f77b4;fill-opacity:0.75;stroke:#000000;stroke-linejoin:miter;stroke-width:0.317045;\"/>\n   </g>\n   <g id=\"patch_8\">\n    <path clip-path=\"url(#pfd83bc2c0f)\" d=\"M 82.257455 224.64 \nL 85.427909 224.64 \nL 85.427909 224.213195 \nL 82.257455 224.213195 \nz\n\" style=\"fill:#1f77b4;fill-opacity:0.75;stroke:#000000;stroke-linejoin:miter;stroke-width:0.317045;\"/>\n   </g>\n   <g id=\"patch_9\">\n    <path clip-path=\"url(#pfd83bc2c0f)\" d=\"M 85.427909 224.64 \nL 88.598364 224.64 \nL 88.598364 223.615668 \nL 85.427909 223.615668 \nz\n\" style=\"fill:#1f77b4;fill-opacity:0.75;stroke:#000000;stroke-linejoin:miter;stroke-width:0.317045;\"/>\n   </g>\n   <g id=\"patch_10\">\n    <path clip-path=\"url(#pfd83bc2c0f)\" d=\"M 88.598364 224.64 \nL 91.768818 224.64 \nL 91.768818 223.018142 \nL 88.598364 223.018142 \nz\n\" style=\"fill:#1f77b4;fill-opacity:0.75;stroke:#000000;stroke-linejoin:miter;stroke-width:0.317045;\"/>\n   </g>\n   <g id=\"patch_11\">\n    <path clip-path=\"url(#pfd83bc2c0f)\" d=\"M 91.768818 224.64 \nL 94.939273 224.64 \nL 94.939273 222.84742 \nL 91.768818 222.84742 \nz\n\" style=\"fill:#1f77b4;fill-opacity:0.75;stroke:#000000;stroke-linejoin:miter;stroke-width:0.317045;\"/>\n   </g>\n   <g id=\"patch_12\">\n    <path clip-path=\"url(#pfd83bc2c0f)\" d=\"M 94.939273 224.64 \nL 98.109727 224.64 \nL 98.109727 222.762059 \nL 94.939273 222.762059 \nz\n\" style=\"fill:#1f77b4;fill-opacity:0.75;stroke:#000000;stroke-linejoin:miter;stroke-width:0.317045;\"/>\n   </g>\n   <g id=\"patch_13\">\n    <path clip-path=\"url(#pfd83bc2c0f)\" d=\"M 98.109727 224.64 \nL 101.280182 224.64 \nL 101.280182 222.079171 \nL 98.109727 222.079171 \nz\n\" style=\"fill:#1f77b4;fill-opacity:0.75;stroke:#000000;stroke-linejoin:miter;stroke-width:0.317045;\"/>\n   </g>\n   <g id=\"patch_14\">\n    <path clip-path=\"url(#pfd83bc2c0f)\" d=\"M 101.280182 224.64 \nL 104.450636 224.64 \nL 104.450636 221.567005 \nL 101.280182 221.567005 \nz\n\" style=\"fill:#1f77b4;fill-opacity:0.75;stroke:#000000;stroke-linejoin:miter;stroke-width:0.317045;\"/>\n   </g>\n   <g id=\"patch_15\">\n    <path clip-path=\"url(#pfd83bc2c0f)\" d=\"M 104.450636 224.64 \nL 107.621091 224.64 \nL 107.621091 221.310922 \nL 104.450636 221.310922 \nz\n\" style=\"fill:#1f77b4;fill-opacity:0.75;stroke:#000000;stroke-linejoin:miter;stroke-width:0.317045;\"/>\n   </g>\n   <g id=\"patch_16\">\n    <path clip-path=\"url(#pfd83bc2c0f)\" d=\"M 107.621091 224.64 \nL 110.791545 224.64 \nL 110.791545 219.945147 \nL 107.621091 219.945147 \nz\n\" style=\"fill:#1f77b4;fill-opacity:0.75;stroke:#000000;stroke-linejoin:miter;stroke-width:0.317045;\"/>\n   </g>\n   <g id=\"patch_17\">\n    <path clip-path=\"url(#pfd83bc2c0f)\" d=\"M 110.791545 224.64 \nL 113.962 224.64 \nL 113.962 220.628034 \nL 110.791545 220.628034 \nz\n\" style=\"fill:#1f77b4;fill-opacity:0.75;stroke:#000000;stroke-linejoin:miter;stroke-width:0.317045;\"/>\n   </g>\n   <g id=\"patch_18\">\n    <path clip-path=\"url(#pfd83bc2c0f)\" d=\"M 113.962 224.64 \nL 117.132455 224.64 \nL 117.132455 221.567005 \nL 113.962 221.567005 \nz\n\" style=\"fill:#1f77b4;fill-opacity:0.75;stroke:#000000;stroke-linejoin:miter;stroke-width:0.317045;\"/>\n   </g>\n   <g id=\"patch_19\">\n    <path clip-path=\"url(#pfd83bc2c0f)\" d=\"M 117.132455 224.64 \nL 120.302909 224.64 \nL 120.302909 219.689064 \nL 117.132455 219.689064 \nz\n\" style=\"fill:#1f77b4;fill-opacity:0.75;stroke:#000000;stroke-linejoin:miter;stroke-width:0.317045;\"/>\n   </g>\n   <g id=\"patch_20\">\n    <path clip-path=\"url(#pfd83bc2c0f)\" d=\"M 120.302909 224.64 \nL 123.473364 224.64 \nL 123.473364 220.371951 \nL 120.302909 220.371951 \nz\n\" style=\"fill:#1f77b4;fill-opacity:0.75;stroke:#000000;stroke-linejoin:miter;stroke-width:0.317045;\"/>\n   </g>\n   <g id=\"patch_21\">\n    <path clip-path=\"url(#pfd83bc2c0f)\" d=\"M 123.473364 224.64 \nL 126.643818 224.64 \nL 126.643818 218.835454 \nL 123.473364 218.835454 \nz\n\" style=\"fill:#1f77b4;fill-opacity:0.75;stroke:#000000;stroke-linejoin:miter;stroke-width:0.317045;\"/>\n   </g>\n   <g id=\"patch_22\">\n    <path clip-path=\"url(#pfd83bc2c0f)\" d=\"M 126.643818 224.64 \nL 129.814273 224.64 \nL 129.814273 219.091537 \nL 126.643818 219.091537 \nz\n\" style=\"fill:#1f77b4;fill-opacity:0.75;stroke:#000000;stroke-linejoin:miter;stroke-width:0.317045;\"/>\n   </g>\n   <g id=\"patch_23\">\n    <path clip-path=\"url(#pfd83bc2c0f)\" d=\"M 129.814273 224.64 \nL 132.984727 224.64 \nL 132.984727 220.030508 \nL 129.814273 220.030508 \nz\n\" style=\"fill:#1f77b4;fill-opacity:0.75;stroke:#000000;stroke-linejoin:miter;stroke-width:0.317045;\"/>\n   </g>\n   <g id=\"patch_24\">\n    <path clip-path=\"url(#pfd83bc2c0f)\" d=\"M 132.984727 224.64 \nL 136.155182 224.64 \nL 136.155182 219.689064 \nL 132.984727 219.689064 \nz\n\" style=\"fill:#1f77b4;fill-opacity:0.75;stroke:#000000;stroke-linejoin:miter;stroke-width:0.317045;\"/>\n   </g>\n   <g id=\"patch_25\">\n    <path clip-path=\"url(#pfd83bc2c0f)\" d=\"M 136.155182 224.64 \nL 139.325636 224.64 \nL 139.325636 217.384318 \nL 136.155182 217.384318 \nz\n\" style=\"fill:#1f77b4;fill-opacity:0.75;stroke:#000000;stroke-linejoin:miter;stroke-width:0.317045;\"/>\n   </g>\n   <g id=\"patch_26\">\n    <path clip-path=\"url(#pfd83bc2c0f)\" d=\"M 139.325636 224.64 \nL 142.496091 224.64 \nL 142.496091 218.067205 \nL 139.325636 218.067205 \nz\n\" style=\"fill:#1f77b4;fill-opacity:0.75;stroke:#000000;stroke-linejoin:miter;stroke-width:0.317045;\"/>\n   </g>\n   <g id=\"patch_27\">\n    <path clip-path=\"url(#pfd83bc2c0f)\" d=\"M 142.496091 224.64 \nL 145.666545 224.64 \nL 145.666545 218.067205 \nL 142.496091 218.067205 \nz\n\" style=\"fill:#1f77b4;fill-opacity:0.75;stroke:#000000;stroke-linejoin:miter;stroke-width:0.317045;\"/>\n   </g>\n   <g id=\"patch_28\">\n    <path clip-path=\"url(#pfd83bc2c0f)\" d=\"M 145.666545 224.64 \nL 148.837 224.64 \nL 148.837 216.957513 \nL 145.666545 216.957513 \nz\n\" style=\"fill:#1f77b4;fill-opacity:0.75;stroke:#000000;stroke-linejoin:miter;stroke-width:0.317045;\"/>\n   </g>\n   <g id=\"patch_29\">\n    <path clip-path=\"url(#pfd83bc2c0f)\" d=\"M 148.837 224.64 \nL 152.007455 224.64 \nL 152.007455 217.6404 \nL 148.837 217.6404 \nz\n\" style=\"fill:#1f77b4;fill-opacity:0.75;stroke:#000000;stroke-linejoin:miter;stroke-width:0.317045;\"/>\n   </g>\n   <g id=\"patch_30\">\n    <path clip-path=\"url(#pfd83bc2c0f)\" d=\"M 152.007455 224.64 \nL 155.177909 224.64 \nL 155.177909 217.384318 \nL 152.007455 217.384318 \nz\n\" style=\"fill:#1f77b4;fill-opacity:0.75;stroke:#000000;stroke-linejoin:miter;stroke-width:0.317045;\"/>\n   </g>\n   <g id=\"patch_31\">\n    <path clip-path=\"url(#pfd83bc2c0f)\" d=\"M 155.177909 224.64 \nL 158.348364 224.64 \nL 158.348364 214.908849 \nL 155.177909 214.908849 \nz\n\" style=\"fill:#1f77b4;fill-opacity:0.75;stroke:#000000;stroke-linejoin:miter;stroke-width:0.317045;\"/>\n   </g>\n   <g id=\"patch_32\">\n    <path clip-path=\"url(#pfd83bc2c0f)\" d=\"M 158.348364 224.64 \nL 161.518818 224.64 \nL 161.518818 214.567405 \nL 158.348364 214.567405 \nz\n\" style=\"fill:#1f77b4;fill-opacity:0.75;stroke:#000000;stroke-linejoin:miter;stroke-width:0.317045;\"/>\n   </g>\n   <g id=\"patch_33\">\n    <path clip-path=\"url(#pfd83bc2c0f)\" d=\"M 161.518818 224.64 \nL 164.689273 224.64 \nL 164.689273 214.823488 \nL 161.518818 214.823488 \nz\n\" style=\"fill:#1f77b4;fill-opacity:0.75;stroke:#000000;stroke-linejoin:miter;stroke-width:0.317045;\"/>\n   </g>\n   <g id=\"patch_34\">\n    <path clip-path=\"url(#pfd83bc2c0f)\" d=\"M 164.689273 224.64 \nL 167.859727 224.64 \nL 167.859727 215.506376 \nL 164.689273 215.506376 \nz\n\" style=\"fill:#1f77b4;fill-opacity:0.75;stroke:#000000;stroke-linejoin:miter;stroke-width:0.317045;\"/>\n   </g>\n   <g id=\"patch_35\">\n    <path clip-path=\"url(#pfd83bc2c0f)\" d=\"M 167.859727 224.64 \nL 171.030182 224.64 \nL 171.030182 212.860186 \nL 167.859727 212.860186 \nz\n\" style=\"fill:#1f77b4;fill-opacity:0.75;stroke:#000000;stroke-linejoin:miter;stroke-width:0.317045;\"/>\n   </g>\n   <g id=\"patch_36\">\n    <path clip-path=\"url(#pfd83bc2c0f)\" d=\"M 171.030182 224.64 \nL 174.200636 224.64 \nL 174.200636 213.713796 \nL 171.030182 213.713796 \nz\n\" style=\"fill:#1f77b4;fill-opacity:0.75;stroke:#000000;stroke-linejoin:miter;stroke-width:0.317045;\"/>\n   </g>\n   <g id=\"patch_37\">\n    <path clip-path=\"url(#pfd83bc2c0f)\" d=\"M 174.200636 224.64 \nL 177.371091 224.64 \nL 177.371091 212.689464 \nL 174.200636 212.689464 \nz\n\" style=\"fill:#1f77b4;fill-opacity:0.75;stroke:#000000;stroke-linejoin:miter;stroke-width:0.317045;\"/>\n   </g>\n   <g id=\"patch_38\">\n    <path clip-path=\"url(#pfd83bc2c0f)\" d=\"M 177.371091 224.64 \nL 180.541545 224.64 \nL 180.541545 212.774825 \nL 177.371091 212.774825 \nz\n\" style=\"fill:#1f77b4;fill-opacity:0.75;stroke:#000000;stroke-linejoin:miter;stroke-width:0.317045;\"/>\n   </g>\n   <g id=\"patch_39\">\n    <path clip-path=\"url(#pfd83bc2c0f)\" d=\"M 180.541545 224.64 \nL 183.712 224.64 \nL 183.712 212.860186 \nL 180.541545 212.860186 \nz\n\" style=\"fill:#1f77b4;fill-opacity:0.75;stroke:#000000;stroke-linejoin:miter;stroke-width:0.317045;\"/>\n   </g>\n   <g id=\"patch_40\">\n    <path clip-path=\"url(#pfd83bc2c0f)\" d=\"M 183.712 224.64 \nL 186.882455 224.64 \nL 186.882455 211.835854 \nL 183.712 211.835854 \nz\n\" style=\"fill:#1f77b4;fill-opacity:0.75;stroke:#000000;stroke-linejoin:miter;stroke-width:0.317045;\"/>\n   </g>\n   <g id=\"patch_41\">\n    <path clip-path=\"url(#pfd83bc2c0f)\" d=\"M 186.882455 224.64 \nL 190.052909 224.64 \nL 190.052909 206.458113 \nL 186.882455 206.458113 \nz\n\" style=\"fill:#1f77b4;fill-opacity:0.75;stroke:#000000;stroke-linejoin:miter;stroke-width:0.317045;\"/>\n   </g>\n   <g id=\"patch_42\">\n    <path clip-path=\"url(#pfd83bc2c0f)\" d=\"M 190.052909 224.64 \nL 193.223364 224.64 \nL 193.223364 209.018942 \nL 190.052909 209.018942 \nz\n\" style=\"fill:#1f77b4;fill-opacity:0.75;stroke:#000000;stroke-linejoin:miter;stroke-width:0.317045;\"/>\n   </g>\n   <g id=\"patch_43\">\n    <path clip-path=\"url(#pfd83bc2c0f)\" d=\"M 193.223364 224.64 \nL 196.393818 224.64 \nL 196.393818 205.689865 \nL 193.223364 205.689865 \nz\n\" style=\"fill:#1f77b4;fill-opacity:0.75;stroke:#000000;stroke-linejoin:miter;stroke-width:0.317045;\"/>\n   </g>\n   <g id=\"patch_44\">\n    <path clip-path=\"url(#pfd83bc2c0f)\" d=\"M 196.393818 224.64 \nL 199.564273 224.64 \nL 199.564273 207.90925 \nL 196.393818 207.90925 \nz\n\" style=\"fill:#1f77b4;fill-opacity:0.75;stroke:#000000;stroke-linejoin:miter;stroke-width:0.317045;\"/>\n   </g>\n   <g id=\"patch_45\">\n    <path clip-path=\"url(#pfd83bc2c0f)\" d=\"M 199.564273 224.64 \nL 202.734727 224.64 \nL 202.734727 208.421416 \nL 199.564273 208.421416 \nz\n\" style=\"fill:#1f77b4;fill-opacity:0.75;stroke:#000000;stroke-linejoin:miter;stroke-width:0.317045;\"/>\n   </g>\n   <g id=\"patch_46\">\n    <path clip-path=\"url(#pfd83bc2c0f)\" d=\"M 202.734727 224.64 \nL 205.905182 224.64 \nL 205.905182 205.519143 \nL 202.734727 205.519143 \nz\n\" style=\"fill:#1f77b4;fill-opacity:0.75;stroke:#000000;stroke-linejoin:miter;stroke-width:0.317045;\"/>\n   </g>\n   <g id=\"patch_47\">\n    <path clip-path=\"url(#pfd83bc2c0f)\" d=\"M 205.905182 224.64 \nL 209.075636 224.64 \nL 209.075636 206.20203 \nL 205.905182 206.20203 \nz\n\" style=\"fill:#1f77b4;fill-opacity:0.75;stroke:#000000;stroke-linejoin:miter;stroke-width:0.317045;\"/>\n   </g>\n   <g id=\"patch_48\">\n    <path clip-path=\"url(#pfd83bc2c0f)\" d=\"M 209.075636 224.64 \nL 212.246091 224.64 \nL 212.246091 202.958314 \nL 209.075636 202.958314 \nz\n\" style=\"fill:#1f77b4;fill-opacity:0.75;stroke:#000000;stroke-linejoin:miter;stroke-width:0.317045;\"/>\n   </g>\n   <g id=\"patch_49\">\n    <path clip-path=\"url(#pfd83bc2c0f)\" d=\"M 212.246091 224.64 \nL 215.416545 224.64 \nL 215.416545 202.104704 \nL 212.246091 202.104704 \nz\n\" style=\"fill:#1f77b4;fill-opacity:0.75;stroke:#000000;stroke-linejoin:miter;stroke-width:0.317045;\"/>\n   </g>\n   <g id=\"patch_50\">\n    <path clip-path=\"url(#pfd83bc2c0f)\" d=\"M 215.416545 224.64 \nL 218.587 224.64 \nL 218.587 200.568206 \nL 215.416545 200.568206 \nz\n\" style=\"fill:#1f77b4;fill-opacity:0.75;stroke:#000000;stroke-linejoin:miter;stroke-width:0.317045;\"/>\n   </g>\n   <g id=\"patch_51\">\n    <path clip-path=\"url(#pfd83bc2c0f)\" d=\"M 218.587 224.64 \nL 221.757455 224.64 \nL 221.757455 201.848621 \nL 218.587 201.848621 \nz\n\" style=\"fill:#1f77b4;fill-opacity:0.75;stroke:#000000;stroke-linejoin:miter;stroke-width:0.317045;\"/>\n   </g>\n   <g id=\"patch_52\">\n    <path clip-path=\"url(#pfd83bc2c0f)\" d=\"M 221.757455 224.64 \nL 224.927909 224.64 \nL 224.927909 198.860987 \nL 221.757455 198.860987 \nz\n\" style=\"fill:#1f77b4;fill-opacity:0.75;stroke:#000000;stroke-linejoin:miter;stroke-width:0.317045;\"/>\n   </g>\n   <g id=\"patch_53\">\n    <path clip-path=\"url(#pfd83bc2c0f)\" d=\"M 224.927909 224.64 \nL 228.098364 224.64 \nL 228.098364 199.97068 \nL 224.927909 199.97068 \nz\n\" style=\"fill:#1f77b4;fill-opacity:0.75;stroke:#000000;stroke-linejoin:miter;stroke-width:0.317045;\"/>\n   </g>\n   <g id=\"patch_54\">\n    <path clip-path=\"url(#pfd83bc2c0f)\" d=\"M 228.098364 224.64 \nL 231.268818 224.64 \nL 231.268818 194.080773 \nL 228.098364 194.080773 \nz\n\" style=\"fill:#1f77b4;fill-opacity:0.75;stroke:#000000;stroke-linejoin:miter;stroke-width:0.317045;\"/>\n   </g>\n   <g id=\"patch_55\">\n    <path clip-path=\"url(#pfd83bc2c0f)\" d=\"M 231.268818 224.64 \nL 234.439273 224.64 \nL 234.439273 192.288192 \nL 231.268818 192.288192 \nz\n\" style=\"fill:#1f77b4;fill-opacity:0.75;stroke:#000000;stroke-linejoin:miter;stroke-width:0.317045;\"/>\n   </g>\n   <g id=\"patch_56\">\n    <path clip-path=\"url(#pfd83bc2c0f)\" d=\"M 234.439273 224.64 \nL 237.609727 224.64 \nL 237.609727 193.483246 \nL 234.439273 193.483246 \nz\n\" style=\"fill:#1f77b4;fill-opacity:0.75;stroke:#000000;stroke-linejoin:miter;stroke-width:0.317045;\"/>\n   </g>\n   <g id=\"patch_57\">\n    <path clip-path=\"url(#pfd83bc2c0f)\" d=\"M 237.609727 224.64 \nL 240.780182 224.64 \nL 240.780182 190.495612 \nL 237.609727 190.495612 \nz\n\" style=\"fill:#1f77b4;fill-opacity:0.75;stroke:#000000;stroke-linejoin:miter;stroke-width:0.317045;\"/>\n   </g>\n   <g id=\"patch_58\">\n    <path clip-path=\"url(#pfd83bc2c0f)\" d=\"M 240.780182 224.64 \nL 243.950636 224.64 \nL 243.950636 187.849422 \nL 240.780182 187.849422 \nz\n\" style=\"fill:#1f77b4;fill-opacity:0.75;stroke:#000000;stroke-linejoin:miter;stroke-width:0.317045;\"/>\n   </g>\n   <g id=\"patch_59\">\n    <path clip-path=\"url(#pfd83bc2c0f)\" d=\"M 243.950636 224.64 \nL 247.121091 224.64 \nL 247.121091 187.166534 \nL 243.950636 187.166534 \nz\n\" style=\"fill:#1f77b4;fill-opacity:0.75;stroke:#000000;stroke-linejoin:miter;stroke-width:0.317045;\"/>\n   </g>\n   <g id=\"patch_60\">\n    <path clip-path=\"url(#pfd83bc2c0f)\" d=\"M 247.121091 224.64 \nL 250.291545 224.64 \nL 250.291545 180.252295 \nL 247.121091 180.252295 \nz\n\" style=\"fill:#1f77b4;fill-opacity:0.75;stroke:#000000;stroke-linejoin:miter;stroke-width:0.317045;\"/>\n   </g>\n   <g id=\"patch_61\">\n    <path clip-path=\"url(#pfd83bc2c0f)\" d=\"M 250.291545 224.64 \nL 253.462 224.64 \nL 253.462 183.32529 \nL 250.291545 183.32529 \nz\n\" style=\"fill:#1f77b4;fill-opacity:0.75;stroke:#000000;stroke-linejoin:miter;stroke-width:0.317045;\"/>\n   </g>\n   <g id=\"patch_62\">\n    <path clip-path=\"url(#pfd83bc2c0f)\" d=\"M 253.462 224.64 \nL 256.632455 224.64 \nL 256.632455 175.898886 \nL 253.462 175.898886 \nz\n\" style=\"fill:#1f77b4;fill-opacity:0.75;stroke:#000000;stroke-linejoin:miter;stroke-width:0.317045;\"/>\n   </g>\n   <g id=\"patch_63\">\n    <path clip-path=\"url(#pfd83bc2c0f)\" d=\"M 256.632455 224.64 \nL 259.802909 224.64 \nL 259.802909 174.703832 \nL 256.632455 174.703832 \nz\n\" style=\"fill:#1f77b4;fill-opacity:0.75;stroke:#000000;stroke-linejoin:miter;stroke-width:0.317045;\"/>\n   </g>\n   <g id=\"patch_64\">\n    <path clip-path=\"url(#pfd83bc2c0f)\" d=\"M 259.802909 224.64 \nL 262.973364 224.64 \nL 262.973364 172.057642 \nL 259.802909 172.057642 \nz\n\" style=\"fill:#1f77b4;fill-opacity:0.75;stroke:#000000;stroke-linejoin:miter;stroke-width:0.317045;\"/>\n   </g>\n   <g id=\"patch_65\">\n    <path clip-path=\"url(#pfd83bc2c0f)\" d=\"M 262.973364 224.64 \nL 266.143818 224.64 \nL 266.143818 172.484447 \nL 262.973364 172.484447 \nz\n\" style=\"fill:#1f77b4;fill-opacity:0.75;stroke:#000000;stroke-linejoin:miter;stroke-width:0.317045;\"/>\n   </g>\n   <g id=\"patch_66\">\n    <path clip-path=\"url(#pfd83bc2c0f)\" d=\"M 266.143818 224.64 \nL 269.314273 224.64 \nL 269.314273 165.655569 \nL 266.143818 165.655569 \nz\n\" style=\"fill:#1f77b4;fill-opacity:0.75;stroke:#000000;stroke-linejoin:miter;stroke-width:0.317045;\"/>\n   </g>\n   <g id=\"patch_67\">\n    <path clip-path=\"url(#pfd83bc2c0f)\" d=\"M 269.314273 224.64 \nL 272.484727 224.64 \nL 272.484727 168.216399 \nL 269.314273 168.216399 \nz\n\" style=\"fill:#1f77b4;fill-opacity:0.75;stroke:#000000;stroke-linejoin:miter;stroke-width:0.317045;\"/>\n   </g>\n   <g id=\"patch_68\">\n    <path clip-path=\"url(#pfd83bc2c0f)\" d=\"M 272.484727 224.64 \nL 275.655182 224.64 \nL 275.655182 166.082374 \nL 272.484727 166.082374 \nz\n\" style=\"fill:#1f77b4;fill-opacity:0.75;stroke:#000000;stroke-linejoin:miter;stroke-width:0.317045;\"/>\n   </g>\n   <g id=\"patch_69\">\n    <path clip-path=\"url(#pfd83bc2c0f)\" d=\"M 275.655182 224.64 \nL 278.825636 224.64 \nL 278.825636 159.594941 \nL 275.655182 159.594941 \nz\n\" style=\"fill:#1f77b4;fill-opacity:0.75;stroke:#000000;stroke-linejoin:miter;stroke-width:0.317045;\"/>\n   </g>\n   <g id=\"patch_70\">\n    <path clip-path=\"url(#pfd83bc2c0f)\" d=\"M 278.825636 224.64 \nL 281.996091 224.64 \nL 281.996091 158.314526 \nL 278.825636 158.314526 \nz\n\" style=\"fill:#1f77b4;fill-opacity:0.75;stroke:#000000;stroke-linejoin:miter;stroke-width:0.317045;\"/>\n   </g>\n   <g id=\"patch_71\">\n    <path clip-path=\"url(#pfd83bc2c0f)\" d=\"M 281.996091 224.64 \nL 285.166545 224.64 \nL 285.166545 153.192868 \nL 281.996091 153.192868 \nz\n\" style=\"fill:#1f77b4;fill-opacity:0.75;stroke:#000000;stroke-linejoin:miter;stroke-width:0.317045;\"/>\n   </g>\n   <g id=\"patch_72\">\n    <path clip-path=\"url(#pfd83bc2c0f)\" d=\"M 285.166545 224.64 \nL 288.337 224.64 \nL 288.337 147.729766 \nL 285.166545 147.729766 \nz\n\" style=\"fill:#1f77b4;fill-opacity:0.75;stroke:#000000;stroke-linejoin:miter;stroke-width:0.317045;\"/>\n   </g>\n   <g id=\"patch_73\">\n    <path clip-path=\"url(#pfd83bc2c0f)\" d=\"M 288.337 224.64 \nL 291.507455 224.64 \nL 291.507455 138.510781 \nL 288.337 138.510781 \nz\n\" style=\"fill:#1f77b4;fill-opacity:0.75;stroke:#000000;stroke-linejoin:miter;stroke-width:0.317045;\"/>\n   </g>\n   <g id=\"patch_74\">\n    <path clip-path=\"url(#pfd83bc2c0f)\" d=\"M 291.507455 224.64 \nL 294.677909 224.64 \nL 294.677909 135.096342 \nL 291.507455 135.096342 \nz\n\" style=\"fill:#1f77b4;fill-opacity:0.75;stroke:#000000;stroke-linejoin:miter;stroke-width:0.317045;\"/>\n   </g>\n   <g id=\"patch_75\">\n    <path clip-path=\"url(#pfd83bc2c0f)\" d=\"M 294.677909 224.64 \nL 297.848364 224.64 \nL 297.848364 136.7182 \nL 294.677909 136.7182 \nz\n\" style=\"fill:#1f77b4;fill-opacity:0.75;stroke:#000000;stroke-linejoin:miter;stroke-width:0.317045;\"/>\n   </g>\n   <g id=\"patch_76\">\n    <path clip-path=\"url(#pfd83bc2c0f)\" d=\"M 297.848364 224.64 \nL 301.018818 224.64 \nL 301.018818 122.292196 \nL 297.848364 122.292196 \nz\n\" style=\"fill:#1f77b4;fill-opacity:0.75;stroke:#000000;stroke-linejoin:miter;stroke-width:0.317045;\"/>\n   </g>\n   <g id=\"patch_77\">\n    <path clip-path=\"url(#pfd83bc2c0f)\" d=\"M 301.018818 224.64 \nL 304.189273 224.64 \nL 304.189273 120.072811 \nL 301.018818 120.072811 \nz\n\" style=\"fill:#1f77b4;fill-opacity:0.75;stroke:#000000;stroke-linejoin:miter;stroke-width:0.317045;\"/>\n   </g>\n   <g id=\"patch_78\">\n    <path clip-path=\"url(#pfd83bc2c0f)\" d=\"M 304.189273 224.64 \nL 307.359727 224.64 \nL 307.359727 118.280231 \nL 304.189273 118.280231 \nz\n\" style=\"fill:#1f77b4;fill-opacity:0.75;stroke:#000000;stroke-linejoin:miter;stroke-width:0.317045;\"/>\n   </g>\n   <g id=\"patch_79\">\n    <path clip-path=\"url(#pfd83bc2c0f)\" d=\"M 307.359727 224.64 \nL 310.530182 224.64 \nL 310.530182 111.622075 \nL 307.359727 111.622075 \nz\n\" style=\"fill:#1f77b4;fill-opacity:0.75;stroke:#000000;stroke-linejoin:miter;stroke-width:0.317045;\"/>\n   </g>\n   <g id=\"patch_80\">\n    <path clip-path=\"url(#pfd83bc2c0f)\" d=\"M 310.530182 224.64 \nL 313.700636 224.64 \nL 313.700636 104.11031 \nL 310.530182 104.11031 \nz\n\" style=\"fill:#1f77b4;fill-opacity:0.75;stroke:#000000;stroke-linejoin:miter;stroke-width:0.317045;\"/>\n   </g>\n   <g id=\"patch_81\">\n    <path clip-path=\"url(#pfd83bc2c0f)\" d=\"M 313.700636 224.64 \nL 316.871091 224.64 \nL 316.871091 97.11071 \nL 313.700636 97.11071 \nz\n\" style=\"fill:#1f77b4;fill-opacity:0.75;stroke:#000000;stroke-linejoin:miter;stroke-width:0.317045;\"/>\n   </g>\n   <g id=\"patch_82\">\n    <path clip-path=\"url(#pfd83bc2c0f)\" d=\"M 316.871091 224.64 \nL 320.041545 224.64 \nL 320.041545 98.305764 \nL 316.871091 98.305764 \nz\n\" style=\"fill:#1f77b4;fill-opacity:0.75;stroke:#000000;stroke-linejoin:miter;stroke-width:0.317045;\"/>\n   </g>\n   <g id=\"patch_83\">\n    <path clip-path=\"url(#pfd83bc2c0f)\" d=\"M 320.041545 224.64 \nL 323.212 224.64 \nL 323.212 84.648008 \nL 320.041545 84.648008 \nz\n\" style=\"fill:#1f77b4;fill-opacity:0.75;stroke:#000000;stroke-linejoin:miter;stroke-width:0.317045;\"/>\n   </g>\n   <g id=\"patch_84\">\n    <path clip-path=\"url(#pfd83bc2c0f)\" d=\"M 323.212 224.64 \nL 326.382455 224.64 \nL 326.382455 74.063248 \nL 323.212 74.063248 \nz\n\" style=\"fill:#1f77b4;fill-opacity:0.75;stroke:#000000;stroke-linejoin:miter;stroke-width:0.317045;\"/>\n   </g>\n   <g id=\"patch_85\">\n    <path clip-path=\"url(#pfd83bc2c0f)\" d=\"M 326.382455 224.64 \nL 329.552909 224.64 \nL 329.552909 64.161376 \nL 326.382455 64.161376 \nz\n\" style=\"fill:#1f77b4;fill-opacity:0.75;stroke:#000000;stroke-linejoin:miter;stroke-width:0.317045;\"/>\n   </g>\n   <g id=\"patch_86\">\n    <path clip-path=\"url(#pfd83bc2c0f)\" d=\"M 329.552909 224.64 \nL 332.723364 224.64 \nL 332.723364 49.137845 \nL 329.552909 49.137845 \nz\n\" style=\"fill:#1f77b4;fill-opacity:0.75;stroke:#000000;stroke-linejoin:miter;stroke-width:0.317045;\"/>\n   </g>\n   <g id=\"patch_87\">\n    <path clip-path=\"url(#pfd83bc2c0f)\" d=\"M 332.723364 224.64 \nL 335.893818 224.64 \nL 335.893818 45.125879 \nL 332.723364 45.125879 \nz\n\" style=\"fill:#1f77b4;fill-opacity:0.75;stroke:#000000;stroke-linejoin:miter;stroke-width:0.317045;\"/>\n   </g>\n   <g id=\"patch_88\">\n    <path clip-path=\"url(#pfd83bc2c0f)\" d=\"M 335.893818 224.64 \nL 339.064273 224.64 \nL 339.064273 37.699475 \nL 335.893818 37.699475 \nz\n\" style=\"fill:#1f77b4;fill-opacity:0.75;stroke:#000000;stroke-linejoin:miter;stroke-width:0.317045;\"/>\n   </g>\n   <g id=\"patch_89\">\n    <path clip-path=\"url(#pfd83bc2c0f)\" d=\"M 339.064273 224.64 \nL 342.234727 224.64 \nL 342.234727 19.261505 \nL 339.064273 19.261505 \nz\n\" style=\"fill:#1f77b4;fill-opacity:0.75;stroke:#000000;stroke-linejoin:miter;stroke-width:0.317045;\"/>\n   </g>\n   <g id=\"patch_90\">\n    <path clip-path=\"url(#pfd83bc2c0f)\" d=\"M 342.234727 224.64 \nL 345.405182 224.64 \nL 345.405182 17.554286 \nL 342.234727 17.554286 \nz\n\" style=\"fill:#1f77b4;fill-opacity:0.75;stroke:#000000;stroke-linejoin:miter;stroke-width:0.317045;\"/>\n   </g>\n   <g id=\"patch_91\">\n    <path clip-path=\"url(#pfd83bc2c0f)\" d=\"M 345.405182 224.64 \nL 348.575636 224.64 \nL 348.575636 18.151813 \nL 345.405182 18.151813 \nz\n\" style=\"fill:#1f77b4;fill-opacity:0.75;stroke:#000000;stroke-linejoin:miter;stroke-width:0.317045;\"/>\n   </g>\n   <g id=\"patch_92\">\n    <path clip-path=\"url(#pfd83bc2c0f)\" d=\"M 348.575636 224.64 \nL 351.746091 224.64 \nL 351.746091 21.310168 \nL 348.575636 21.310168 \nz\n\" style=\"fill:#1f77b4;fill-opacity:0.75;stroke:#000000;stroke-linejoin:miter;stroke-width:0.317045;\"/>\n   </g>\n   <g id=\"patch_93\">\n    <path clip-path=\"url(#pfd83bc2c0f)\" d=\"M 351.746091 224.64 \nL 354.916545 224.64 \nL 354.916545 19.261505 \nL 351.746091 19.261505 \nz\n\" style=\"fill:#1f77b4;fill-opacity:0.75;stroke:#000000;stroke-linejoin:miter;stroke-width:0.317045;\"/>\n   </g>\n   <g id=\"patch_94\">\n    <path clip-path=\"url(#pfd83bc2c0f)\" d=\"M 354.916545 224.64 \nL 358.087 224.64 \nL 358.087 30.358431 \nL 354.916545 30.358431 \nz\n\" style=\"fill:#1f77b4;fill-opacity:0.75;stroke:#000000;stroke-linejoin:miter;stroke-width:0.317045;\"/>\n   </g>\n   <g id=\"patch_95\">\n    <path clip-path=\"url(#pfd83bc2c0f)\" d=\"M 358.087 224.64 \nL 361.257455 224.64 \nL 361.257455 51.869396 \nL 358.087 51.869396 \nz\n\" style=\"fill:#1f77b4;fill-opacity:0.75;stroke:#000000;stroke-linejoin:miter;stroke-width:0.317045;\"/>\n   </g>\n   <g id=\"patch_96\">\n    <path clip-path=\"url(#pfd83bc2c0f)\" d=\"M 361.257455 224.64 \nL 364.427909 224.64 \nL 364.427909 85.586979 \nL 361.257455 85.586979 \nz\n\" style=\"fill:#1f77b4;fill-opacity:0.75;stroke:#000000;stroke-linejoin:miter;stroke-width:0.317045;\"/>\n   </g>\n   <g id=\"patch_97\">\n    <path clip-path=\"url(#pfd83bc2c0f)\" d=\"M 364.427909 224.64 \nL 367.598364 224.64 \nL 367.598364 138.510781 \nL 364.427909 138.510781 \nz\n\" style=\"fill:#1f77b4;fill-opacity:0.75;stroke:#000000;stroke-linejoin:miter;stroke-width:0.317045;\"/>\n   </g>\n   <g id=\"patch_98\">\n    <path clip-path=\"url(#pfd83bc2c0f)\" d=\"M 367.598364 224.64 \nL 370.768818 224.64 \nL 370.768818 202.787592 \nL 367.598364 202.787592 \nz\n\" style=\"fill:#1f77b4;fill-opacity:0.75;stroke:#000000;stroke-linejoin:miter;stroke-width:0.317045;\"/>\n   </g>\n   <g id=\"matplotlib.axis_1\">\n    <g id=\"xtick_1\">\n     <g id=\"line2d_1\">\n      <defs>\n       <path d=\"M 0 0 \nL 0 4.8 \n\" id=\"m71441e1a6e\" style=\"stroke:#000000;\"/>\n      </defs>\n      <g>\n       <use style=\"stroke:#000000;\" x=\"110.100613\" xlink:href=\"#m71441e1a6e\" y=\"224.64\"/>\n      </g>\n     </g>\n     <g id=\"text_1\">\n      <!-- 0.2 -->\n      <g transform=\"translate(103.103238 239.626625)scale(0.088 -0.088)\">\n       <defs>\n        <path d=\"M 31.78125 66.40625 \nQ 24.171875 66.40625 20.328125 58.90625 \nQ 16.5 51.421875 16.5 36.375 \nQ 16.5 21.390625 20.328125 13.890625 \nQ 24.171875 6.390625 31.78125 6.390625 \nQ 39.453125 6.390625 43.28125 13.890625 \nQ 47.125 21.390625 47.125 36.375 \nQ 47.125 51.421875 43.28125 58.90625 \nQ 39.453125 66.40625 31.78125 66.40625 \nz\nM 31.78125 74.21875 \nQ 44.046875 74.21875 50.515625 64.515625 \nQ 56.984375 54.828125 56.984375 36.375 \nQ 56.984375 17.96875 50.515625 8.265625 \nQ 44.046875 -1.421875 31.78125 -1.421875 \nQ 19.53125 -1.421875 13.0625 8.265625 \nQ 6.59375 17.96875 6.59375 36.375 \nQ 6.59375 54.828125 13.0625 64.515625 \nQ 19.53125 74.21875 31.78125 74.21875 \nz\n\" id=\"DejaVuSans-48\"/>\n        <path d=\"M 10.6875 12.40625 \nL 21 12.40625 \nL 21 0 \nL 10.6875 0 \nz\n\" id=\"DejaVuSans-46\"/>\n        <path d=\"M 19.1875 8.296875 \nL 53.609375 8.296875 \nL 53.609375 0 \nL 7.328125 0 \nL 7.328125 8.296875 \nQ 12.9375 14.109375 22.625 23.890625 \nQ 32.328125 33.6875 34.8125 36.53125 \nQ 39.546875 41.84375 41.421875 45.53125 \nQ 43.3125 49.21875 43.3125 52.78125 \nQ 43.3125 58.59375 39.234375 62.25 \nQ 35.15625 65.921875 28.609375 65.921875 \nQ 23.96875 65.921875 18.8125 64.3125 \nQ 13.671875 62.703125 7.8125 59.421875 \nL 7.8125 69.390625 \nQ 13.765625 71.78125 18.9375 73 \nQ 24.125 74.21875 28.421875 74.21875 \nQ 39.75 74.21875 46.484375 68.546875 \nQ 53.21875 62.890625 53.21875 53.421875 \nQ 53.21875 48.921875 51.53125 44.890625 \nQ 49.859375 40.875 45.40625 35.40625 \nQ 44.1875 33.984375 37.640625 27.21875 \nQ 31.109375 20.453125 19.1875 8.296875 \nz\n\" id=\"DejaVuSans-50\"/>\n       </defs>\n       <use xlink:href=\"#DejaVuSans-48\"/>\n       <use x=\"63.623047\" xlink:href=\"#DejaVuSans-46\"/>\n       <use x=\"95.410156\" xlink:href=\"#DejaVuSans-50\"/>\n      </g>\n     </g>\n    </g>\n    <g id=\"xtick_2\">\n     <g id=\"line2d_2\">\n      <g>\n       <use style=\"stroke:#000000;\" x=\"175.799084\" xlink:href=\"#m71441e1a6e\" y=\"224.64\"/>\n      </g>\n     </g>\n     <g id=\"text_2\">\n      <!-- 0.4 -->\n      <g transform=\"translate(168.801709 239.626625)scale(0.088 -0.088)\">\n       <defs>\n        <path d=\"M 37.796875 64.3125 \nL 12.890625 25.390625 \nL 37.796875 25.390625 \nz\nM 35.203125 72.90625 \nL 47.609375 72.90625 \nL 47.609375 25.390625 \nL 58.015625 25.390625 \nL 58.015625 17.1875 \nL 47.609375 17.1875 \nL 47.609375 0 \nL 37.796875 0 \nL 37.796875 17.1875 \nL 4.890625 17.1875 \nL 4.890625 26.703125 \nz\n\" id=\"DejaVuSans-52\"/>\n       </defs>\n       <use xlink:href=\"#DejaVuSans-48\"/>\n       <use x=\"63.623047\" xlink:href=\"#DejaVuSans-46\"/>\n       <use x=\"95.410156\" xlink:href=\"#DejaVuSans-52\"/>\n      </g>\n     </g>\n    </g>\n    <g id=\"xtick_3\">\n     <g id=\"line2d_3\">\n      <g>\n       <use style=\"stroke:#000000;\" x=\"241.497555\" xlink:href=\"#m71441e1a6e\" y=\"224.64\"/>\n      </g>\n     </g>\n     <g id=\"text_3\">\n      <!-- 0.6 -->\n      <g transform=\"translate(234.50018 239.626625)scale(0.088 -0.088)\">\n       <defs>\n        <path d=\"M 33.015625 40.375 \nQ 26.375 40.375 22.484375 35.828125 \nQ 18.609375 31.296875 18.609375 23.390625 \nQ 18.609375 15.53125 22.484375 10.953125 \nQ 26.375 6.390625 33.015625 6.390625 \nQ 39.65625 6.390625 43.53125 10.953125 \nQ 47.40625 15.53125 47.40625 23.390625 \nQ 47.40625 31.296875 43.53125 35.828125 \nQ 39.65625 40.375 33.015625 40.375 \nz\nM 52.59375 71.296875 \nL 52.59375 62.3125 \nQ 48.875 64.0625 45.09375 64.984375 \nQ 41.3125 65.921875 37.59375 65.921875 \nQ 27.828125 65.921875 22.671875 59.328125 \nQ 17.53125 52.734375 16.796875 39.40625 \nQ 19.671875 43.65625 24.015625 45.921875 \nQ 28.375 48.1875 33.59375 48.1875 \nQ 44.578125 48.1875 50.953125 41.515625 \nQ 57.328125 34.859375 57.328125 23.390625 \nQ 57.328125 12.15625 50.6875 5.359375 \nQ 44.046875 -1.421875 33.015625 -1.421875 \nQ 20.359375 -1.421875 13.671875 8.265625 \nQ 6.984375 17.96875 6.984375 36.375 \nQ 6.984375 53.65625 15.1875 63.9375 \nQ 23.390625 74.21875 37.203125 74.21875 \nQ 40.921875 74.21875 44.703125 73.484375 \nQ 48.484375 72.75 52.59375 71.296875 \nz\n\" id=\"DejaVuSans-54\"/>\n       </defs>\n       <use xlink:href=\"#DejaVuSans-48\"/>\n       <use x=\"63.623047\" xlink:href=\"#DejaVuSans-46\"/>\n       <use x=\"95.410156\" xlink:href=\"#DejaVuSans-54\"/>\n      </g>\n     </g>\n    </g>\n    <g id=\"xtick_4\">\n     <g id=\"line2d_4\">\n      <g>\n       <use style=\"stroke:#000000;\" x=\"307.196026\" xlink:href=\"#m71441e1a6e\" y=\"224.64\"/>\n      </g>\n     </g>\n     <g id=\"text_4\">\n      <!-- 0.8 -->\n      <g transform=\"translate(300.198651 239.626625)scale(0.088 -0.088)\">\n       <defs>\n        <path d=\"M 31.78125 34.625 \nQ 24.75 34.625 20.71875 30.859375 \nQ 16.703125 27.09375 16.703125 20.515625 \nQ 16.703125 13.921875 20.71875 10.15625 \nQ 24.75 6.390625 31.78125 6.390625 \nQ 38.8125 6.390625 42.859375 10.171875 \nQ 46.921875 13.96875 46.921875 20.515625 \nQ 46.921875 27.09375 42.890625 30.859375 \nQ 38.875 34.625 31.78125 34.625 \nz\nM 21.921875 38.8125 \nQ 15.578125 40.375 12.03125 44.71875 \nQ 8.5 49.078125 8.5 55.328125 \nQ 8.5 64.0625 14.71875 69.140625 \nQ 20.953125 74.21875 31.78125 74.21875 \nQ 42.671875 74.21875 48.875 69.140625 \nQ 55.078125 64.0625 55.078125 55.328125 \nQ 55.078125 49.078125 51.53125 44.71875 \nQ 48 40.375 41.703125 38.8125 \nQ 48.828125 37.15625 52.796875 32.3125 \nQ 56.78125 27.484375 56.78125 20.515625 \nQ 56.78125 9.90625 50.3125 4.234375 \nQ 43.84375 -1.421875 31.78125 -1.421875 \nQ 19.734375 -1.421875 13.25 4.234375 \nQ 6.78125 9.90625 6.78125 20.515625 \nQ 6.78125 27.484375 10.78125 32.3125 \nQ 14.796875 37.15625 21.921875 38.8125 \nz\nM 18.3125 54.390625 \nQ 18.3125 48.734375 21.84375 45.5625 \nQ 25.390625 42.390625 31.78125 42.390625 \nQ 38.140625 42.390625 41.71875 45.5625 \nQ 45.3125 48.734375 45.3125 54.390625 \nQ 45.3125 60.0625 41.71875 63.234375 \nQ 38.140625 66.40625 31.78125 66.40625 \nQ 25.390625 66.40625 21.84375 63.234375 \nQ 18.3125 60.0625 18.3125 54.390625 \nz\n\" id=\"DejaVuSans-56\"/>\n       </defs>\n       <use xlink:href=\"#DejaVuSans-48\"/>\n       <use x=\"63.623047\" xlink:href=\"#DejaVuSans-46\"/>\n       <use x=\"95.410156\" xlink:href=\"#DejaVuSans-56\"/>\n      </g>\n     </g>\n    </g>\n    <g id=\"xtick_5\">\n     <g id=\"line2d_5\">\n      <g>\n       <use style=\"stroke:#000000;\" x=\"372.894497\" xlink:href=\"#m71441e1a6e\" y=\"224.64\"/>\n      </g>\n     </g>\n     <g id=\"text_5\">\n      <!-- 1.0 -->\n      <g transform=\"translate(365.897122 239.626625)scale(0.088 -0.088)\">\n       <defs>\n        <path d=\"M 12.40625 8.296875 \nL 28.515625 8.296875 \nL 28.515625 63.921875 \nL 10.984375 60.40625 \nL 10.984375 69.390625 \nL 28.421875 72.90625 \nL 38.28125 72.90625 \nL 38.28125 8.296875 \nL 54.390625 8.296875 \nL 54.390625 0 \nL 12.40625 0 \nz\n\" id=\"DejaVuSans-49\"/>\n       </defs>\n       <use xlink:href=\"#DejaVuSans-49\"/>\n       <use x=\"63.623047\" xlink:href=\"#DejaVuSans-46\"/>\n       <use x=\"95.410156\" xlink:href=\"#DejaVuSans-48\"/>\n      </g>\n     </g>\n    </g>\n   </g>\n   <g id=\"matplotlib.axis_2\">\n    <g id=\"ytick_1\">\n     <g id=\"line2d_6\">\n      <defs>\n       <path d=\"M 0 0 \nL -4.8 0 \n\" id=\"m27c4070116\" style=\"stroke:#000000;\"/>\n      </defs>\n      <g>\n       <use style=\"stroke:#000000;\" x=\"51.187\" xlink:href=\"#m27c4070116\" y=\"224.64\"/>\n      </g>\n     </g>\n     <g id=\"text_6\">\n      <!-- 0 -->\n      <g transform=\"translate(37.288 227.983312)scale(0.088 -0.088)\">\n       <use xlink:href=\"#DejaVuSans-48\"/>\n      </g>\n     </g>\n    </g>\n    <g id=\"ytick_2\">\n     <g id=\"line2d_7\">\n      <g>\n       <use style=\"stroke:#000000;\" x=\"51.187\" xlink:href=\"#m27c4070116\" y=\"181.959515\"/>\n      </g>\n     </g>\n     <g id=\"text_7\">\n      <!-- 500 -->\n      <g transform=\"translate(26.09 185.302827)scale(0.088 -0.088)\">\n       <defs>\n        <path d=\"M 10.796875 72.90625 \nL 49.515625 72.90625 \nL 49.515625 64.59375 \nL 19.828125 64.59375 \nL 19.828125 46.734375 \nQ 21.96875 47.46875 24.109375 47.828125 \nQ 26.265625 48.1875 28.421875 48.1875 \nQ 40.625 48.1875 47.75 41.5 \nQ 54.890625 34.8125 54.890625 23.390625 \nQ 54.890625 11.625 47.5625 5.09375 \nQ 40.234375 -1.421875 26.90625 -1.421875 \nQ 22.3125 -1.421875 17.546875 -0.640625 \nQ 12.796875 0.140625 7.71875 1.703125 \nL 7.71875 11.625 \nQ 12.109375 9.234375 16.796875 8.0625 \nQ 21.484375 6.890625 26.703125 6.890625 \nQ 35.15625 6.890625 40.078125 11.328125 \nQ 45.015625 15.765625 45.015625 23.390625 \nQ 45.015625 31 40.078125 35.4375 \nQ 35.15625 39.890625 26.703125 39.890625 \nQ 22.75 39.890625 18.8125 39.015625 \nQ 14.890625 38.140625 10.796875 36.28125 \nz\n\" id=\"DejaVuSans-53\"/>\n       </defs>\n       <use xlink:href=\"#DejaVuSans-53\"/>\n       <use x=\"63.623047\" xlink:href=\"#DejaVuSans-48\"/>\n       <use x=\"127.246094\" xlink:href=\"#DejaVuSans-48\"/>\n      </g>\n     </g>\n    </g>\n    <g id=\"ytick_3\">\n     <g id=\"line2d_8\">\n      <g>\n       <use style=\"stroke:#000000;\" x=\"51.187\" xlink:href=\"#m27c4070116\" y=\"139.27903\"/>\n      </g>\n     </g>\n     <g id=\"text_8\">\n      <!-- 1000 -->\n      <g transform=\"translate(20.491 142.622342)scale(0.088 -0.088)\">\n       <use xlink:href=\"#DejaVuSans-49\"/>\n       <use x=\"63.623047\" xlink:href=\"#DejaVuSans-48\"/>\n       <use x=\"127.246094\" xlink:href=\"#DejaVuSans-48\"/>\n       <use x=\"190.869141\" xlink:href=\"#DejaVuSans-48\"/>\n      </g>\n     </g>\n    </g>\n    <g id=\"ytick_4\">\n     <g id=\"line2d_9\">\n      <g>\n       <use style=\"stroke:#000000;\" x=\"51.187\" xlink:href=\"#m27c4070116\" y=\"96.598544\"/>\n      </g>\n     </g>\n     <g id=\"text_9\">\n      <!-- 1500 -->\n      <g transform=\"translate(20.491 99.941857)scale(0.088 -0.088)\">\n       <use xlink:href=\"#DejaVuSans-49\"/>\n       <use x=\"63.623047\" xlink:href=\"#DejaVuSans-53\"/>\n       <use x=\"127.246094\" xlink:href=\"#DejaVuSans-48\"/>\n       <use x=\"190.869141\" xlink:href=\"#DejaVuSans-48\"/>\n      </g>\n     </g>\n    </g>\n    <g id=\"ytick_5\">\n     <g id=\"line2d_10\">\n      <g>\n       <use style=\"stroke:#000000;\" x=\"51.187\" xlink:href=\"#m27c4070116\" y=\"53.918059\"/>\n      </g>\n     </g>\n     <g id=\"text_10\">\n      <!-- 2000 -->\n      <g transform=\"translate(20.491 57.261372)scale(0.088 -0.088)\">\n       <use xlink:href=\"#DejaVuSans-50\"/>\n       <use x=\"63.623047\" xlink:href=\"#DejaVuSans-48\"/>\n       <use x=\"127.246094\" xlink:href=\"#DejaVuSans-48\"/>\n       <use x=\"190.869141\" xlink:href=\"#DejaVuSans-48\"/>\n      </g>\n     </g>\n    </g>\n    <g id=\"ytick_6\">\n     <g id=\"line2d_11\">\n      <g>\n       <use style=\"stroke:#000000;\" x=\"51.187\" xlink:href=\"#m27c4070116\" y=\"11.237574\"/>\n      </g>\n     </g>\n     <g id=\"text_11\">\n      <!-- 2500 -->\n      <g transform=\"translate(20.491 14.580886)scale(0.088 -0.088)\">\n       <use xlink:href=\"#DejaVuSans-50\"/>\n       <use x=\"63.623047\" xlink:href=\"#DejaVuSans-53\"/>\n       <use x=\"127.246094\" xlink:href=\"#DejaVuSans-48\"/>\n       <use x=\"190.869141\" xlink:href=\"#DejaVuSans-48\"/>\n      </g>\n     </g>\n    </g>\n    <g id=\"text_12\">\n     <!-- Count -->\n     <g transform=\"translate(14.4945 130.1745)rotate(-90)scale(0.096 -0.096)\">\n      <defs>\n       <path d=\"M 64.40625 67.28125 \nL 64.40625 56.890625 \nQ 59.421875 61.53125 53.78125 63.8125 \nQ 48.140625 66.109375 41.796875 66.109375 \nQ 29.296875 66.109375 22.65625 58.46875 \nQ 16.015625 50.828125 16.015625 36.375 \nQ 16.015625 21.96875 22.65625 14.328125 \nQ 29.296875 6.6875 41.796875 6.6875 \nQ 48.140625 6.6875 53.78125 8.984375 \nQ 59.421875 11.28125 64.40625 15.921875 \nL 64.40625 5.609375 \nQ 59.234375 2.09375 53.4375 0.328125 \nQ 47.65625 -1.421875 41.21875 -1.421875 \nQ 24.65625 -1.421875 15.125 8.703125 \nQ 5.609375 18.84375 5.609375 36.375 \nQ 5.609375 53.953125 15.125 64.078125 \nQ 24.65625 74.21875 41.21875 74.21875 \nQ 47.75 74.21875 53.53125 72.484375 \nQ 59.328125 70.75 64.40625 67.28125 \nz\n\" id=\"DejaVuSans-67\"/>\n       <path d=\"M 30.609375 48.390625 \nQ 23.390625 48.390625 19.1875 42.75 \nQ 14.984375 37.109375 14.984375 27.296875 \nQ 14.984375 17.484375 19.15625 11.84375 \nQ 23.34375 6.203125 30.609375 6.203125 \nQ 37.796875 6.203125 41.984375 11.859375 \nQ 46.1875 17.53125 46.1875 27.296875 \nQ 46.1875 37.015625 41.984375 42.703125 \nQ 37.796875 48.390625 30.609375 48.390625 \nz\nM 30.609375 56 \nQ 42.328125 56 49.015625 48.375 \nQ 55.71875 40.765625 55.71875 27.296875 \nQ 55.71875 13.875 49.015625 6.21875 \nQ 42.328125 -1.421875 30.609375 -1.421875 \nQ 18.84375 -1.421875 12.171875 6.21875 \nQ 5.515625 13.875 5.515625 27.296875 \nQ 5.515625 40.765625 12.171875 48.375 \nQ 18.84375 56 30.609375 56 \nz\n\" id=\"DejaVuSans-111\"/>\n       <path d=\"M 8.5 21.578125 \nL 8.5 54.6875 \nL 17.484375 54.6875 \nL 17.484375 21.921875 \nQ 17.484375 14.15625 20.5 10.265625 \nQ 23.53125 6.390625 29.59375 6.390625 \nQ 36.859375 6.390625 41.078125 11.03125 \nQ 45.3125 15.671875 45.3125 23.6875 \nL 45.3125 54.6875 \nL 54.296875 54.6875 \nL 54.296875 0 \nL 45.3125 0 \nL 45.3125 8.40625 \nQ 42.046875 3.421875 37.71875 1 \nQ 33.40625 -1.421875 27.6875 -1.421875 \nQ 18.265625 -1.421875 13.375 4.4375 \nQ 8.5 10.296875 8.5 21.578125 \nz\nM 31.109375 56 \nz\n\" id=\"DejaVuSans-117\"/>\n       <path d=\"M 54.890625 33.015625 \nL 54.890625 0 \nL 45.90625 0 \nL 45.90625 32.71875 \nQ 45.90625 40.484375 42.875 44.328125 \nQ 39.84375 48.1875 33.796875 48.1875 \nQ 26.515625 48.1875 22.3125 43.546875 \nQ 18.109375 38.921875 18.109375 30.90625 \nL 18.109375 0 \nL 9.078125 0 \nL 9.078125 54.6875 \nL 18.109375 54.6875 \nL 18.109375 46.1875 \nQ 21.34375 51.125 25.703125 53.5625 \nQ 30.078125 56 35.796875 56 \nQ 45.21875 56 50.046875 50.171875 \nQ 54.890625 44.34375 54.890625 33.015625 \nz\n\" id=\"DejaVuSans-110\"/>\n       <path d=\"M 18.3125 70.21875 \nL 18.3125 54.6875 \nL 36.8125 54.6875 \nL 36.8125 47.703125 \nL 18.3125 47.703125 \nL 18.3125 18.015625 \nQ 18.3125 11.328125 20.140625 9.421875 \nQ 21.96875 7.515625 27.59375 7.515625 \nL 36.8125 7.515625 \nL 36.8125 0 \nL 27.59375 0 \nQ 17.1875 0 13.234375 3.875 \nQ 9.28125 7.765625 9.28125 18.015625 \nL 9.28125 47.703125 \nL 2.6875 47.703125 \nL 2.6875 54.6875 \nL 9.28125 54.6875 \nL 9.28125 70.21875 \nz\n\" id=\"DejaVuSans-116\"/>\n      </defs>\n      <use xlink:href=\"#DejaVuSans-67\"/>\n      <use x=\"69.824219\" xlink:href=\"#DejaVuSans-111\"/>\n      <use x=\"131.005859\" xlink:href=\"#DejaVuSans-117\"/>\n      <use x=\"194.384766\" xlink:href=\"#DejaVuSans-110\"/>\n      <use x=\"257.763672\" xlink:href=\"#DejaVuSans-116\"/>\n     </g>\n    </g>\n   </g>\n   <g id=\"patch_99\">\n    <path d=\"M 51.187 224.64 \nL 51.187 7.2 \n\" style=\"fill:none;stroke:#000000;stroke-linecap:square;stroke-linejoin:miter;\"/>\n   </g>\n   <g id=\"patch_100\">\n    <path d=\"M 385.987 224.64 \nL 385.987 7.2 \n\" style=\"fill:none;stroke:#000000;stroke-linecap:square;stroke-linejoin:miter;\"/>\n   </g>\n   <g id=\"patch_101\">\n    <path d=\"M 51.187 224.64 \nL 385.987 224.64 \n\" style=\"fill:none;stroke:#000000;stroke-linecap:square;stroke-linejoin:miter;\"/>\n   </g>\n   <g id=\"patch_102\">\n    <path d=\"M 51.187 7.2 \nL 385.987 7.2 \n\" style=\"fill:none;stroke:#000000;stroke-linecap:square;stroke-linejoin:miter;\"/>\n   </g>\n  </g>\n </g>\n <defs>\n  <clipPath id=\"pfd83bc2c0f\">\n   <rect height=\"217.44\" width=\"334.8\" x=\"51.187\" y=\"7.2\"/>\n  </clipPath>\n </defs>\n</svg>\n",
      "image/png": "[encoded data removed]"
     },
     "metadata": {
      "needs_background": "light"
     }
    }
   ],
   "source": [
    "sns.histplot(dict_of_FP_values['A3'][0])"
   ]
  },
  {
   "cell_type": "code",
   "execution_count": 614,
   "metadata": {},
   "outputs": [
    {
     "output_type": "execute_result",
     "data": {
      "text/plain": [
       "0    53258\n",
       "1     6742\n",
       "dtype: int64"
      ]
     },
     "metadata": {},
     "execution_count": 614
    }
   ],
   "source": [
    "pd.Series(bin_y_train[0]).value_counts()"
   ]
  },
  {
   "cell_type": "code",
   "execution_count": 615,
   "metadata": {},
   "outputs": [
    {
     "output_type": "execute_result",
     "data": {
      "text/plain": [
       "[0.901, 0.994)    18303\n",
       "[0.808, 0.901)    17211\n",
       "[0.716, 0.808)    10172\n",
       "[0.623, 0.716)     6060\n",
       "[0.53, 0.623)      3520\n",
       "[0.438, 0.53)      2159\n",
       "[0.345, 0.438)     1276\n",
       "[0.252, 0.345)      753\n",
       "[0.16, 0.252)       447\n",
       "[0.067, 0.16)        99\n",
       "dtype: int64"
      ]
     },
     "metadata": {},
     "execution_count": 615
    }
   ],
   "source": [
    "pd.cut(pd.Series(dict_of_FP_values['A3'][0]), bins=10, right=False).value_counts()"
   ]
  },
  {
   "source": [
    "## OK. It just seems to have optimised by making everything 0. Let's see what happens if we just have two numbers in the sample"
   ],
   "cell_type": "markdown",
   "metadata": {}
  },
  {
   "cell_type": "code",
   "execution_count": 579,
   "metadata": {},
   "outputs": [
    {
     "output_type": "stream",
     "name": "stdout",
     "text": [
      "[1, 0]\n(784, 12665)\n"
     ]
    }
   ],
   "source": [
    "\n",
    "def reduced_form(y_train,y_test, x_train, x_test, numbers):\n",
    "    \n",
    "    print(numbers)\n",
    "    #Put in an array format\n",
    "    y_train_arr_format = np.array(y_train)\n",
    "    y_test_arr_format = np.array(y_test)\n",
    "\n",
    "    y_train_df = pd.DataFrame( {'value': y_train_arr_format})\n",
    "    train_index = y_train_df['value'].isin(numbers)\n",
    "\n",
    "    #Repeat this for test\n",
    "    y_test_df = pd.DataFrame( {'value': y_test_arr_format})\n",
    "    test_index = y_test_df['value'].isin(numbers)\n",
    "\n",
    "    #then get the relevant lists\n",
    "    y_train_reduced = y_train_arr_format[train_index]\n",
    "    x_train_reduced = x_train[train_index]\n",
    "    y_test_reduced = y_test_arr_format[test_index]\n",
    "    x_test_reduced = x_test[test_index]\n",
    "\n",
    "    #flatten the shapes - note, we're not using x_test just yet, so can leave this as is.\n",
    "    x_train_subset, x_test_subset, y_train_subset, y_test_subset = flatten_and_reshape(x_train_reduced, x_test_reduced, y_train_reduced, y_test_reduced)\n",
    "    \n",
    "    return x_train_subset, x_test_subset, y_train_subset, y_test_subset\n",
    "\n",
    "numbers_looked_at = [1,2,3,4]\n",
    "\n",
    "x_train_binary, x_test_binary, y_train_binary, y_test_binary = reduced_form(y_train, y_test, x_train, x_test, [1,0])"
   ]
  },
  {
   "cell_type": "code",
   "execution_count": 634,
   "metadata": {},
   "outputs": [
    {
     "output_type": "execute_result",
     "data": {
      "text/plain": [
       "1    6742\n",
       "0    5923\n",
       "dtype: int64"
      ]
     },
     "metadata": {},
     "execution_count": 634
    }
   ],
   "source": [
    "#shows the split of class values\n",
    "pd.Series(y_train_binary[0]).value_counts()"
   ]
  },
  {
   "cell_type": "code",
   "execution_count": 640,
   "metadata": {},
   "outputs": [
    {
     "output_type": "stream",
     "name": "stdout",
     "text": [
      "Weights matrices\n",
      "W1 (50, 784)\n",
      "B1 (50, 1)\n",
      "W2 (50, 50)\n",
      "B2 (50, 1)\n",
      "W3 (1, 50)\n",
      "B3 (1, 1)\n",
      "[0.3022419]\n",
      "[0.2006925]\n",
      "[0.17360115]\n",
      "[0.16354055]\n",
      "[0.15645518]\n",
      "[0.15021601]\n",
      "[0.14446876]\n",
      "[0.13913079]\n",
      "[0.13416309]\n",
      "[0.12953478]\n",
      "[0.12521777]\n",
      "[0.12118615]\n",
      "[0.11741611]\n",
      "[0.11388586]\n",
      "[0.11057555]\n",
      "[0.10746714]\n",
      "[0.10454424]\n",
      "[0.10179196]\n",
      "[0.0991968]\n",
      "[0.0967465]\n",
      "[0.0944299]\n",
      "[0.09223688]\n",
      "[0.09015822]\n",
      "[0.08818552]\n",
      "[0.08631114]\n",
      "[0.08452809]\n",
      "[0.08282999]\n",
      "[0.08121102]\n",
      "[0.07966585]\n",
      "[0.07818959]\n",
      "[0.07677775]\n",
      "[0.07542624]\n",
      "[0.07413126]\n",
      "[0.07288935]\n",
      "[0.0716973]\n",
      "[0.07055215]\n",
      "[0.06945119]\n",
      "[0.06839188]\n",
      "[0.0673719]\n",
      "[0.06638907]\n",
      "[0.06544141]\n",
      "[0.06452703]\n",
      "[0.06364421]\n",
      "[0.06279134]\n",
      "[0.0619669]\n",
      "[0.0611695]\n",
      "[0.06039782]\n",
      "[0.05965063]\n",
      "[0.05892679]\n",
      "[0.05822521]\n",
      "[0.05754489]\n",
      "[0.05688487]\n",
      "[0.05624426]\n",
      "[0.05562222]\n",
      "[0.05501796]\n",
      "[0.05443073]\n",
      "[0.05385981]\n",
      "[0.05330456]\n",
      "[0.05276432]\n",
      "[0.05223852]\n",
      "[0.05172657]\n",
      "[0.05122796]\n",
      "[0.05074215]\n",
      "[0.05026869]\n",
      "[0.04980709]\n",
      "[0.04935694]\n",
      "[0.04891781]\n",
      "[0.0484893]\n",
      "[0.04807105]\n",
      "[0.04766269]\n",
      "[0.04726387]\n",
      "[0.04687428]\n",
      "[0.0464936]\n",
      "[0.04612152]\n",
      "[0.04575777]\n",
      "[0.04540207]\n",
      "[0.04505416]\n",
      "[0.04471379]\n",
      "[0.04438071]\n",
      "[0.0440547]\n",
      "[0.04373554]\n",
      "[0.04342302]\n",
      "[0.04311692]\n",
      "[0.04281707]\n",
      "[0.04252326]\n",
      "[0.04223531]\n",
      "[0.04195307]\n",
      "[0.04167634]\n",
      "[0.04140499]\n",
      "[0.04113885]\n",
      "[0.04087776]\n",
      "[0.0406216]\n",
      "[0.04037022]\n",
      "[0.04012348]\n",
      "[0.03988127]\n",
      "[0.03964344]\n",
      "[0.03940989]\n",
      "[0.03918051]\n",
      "[0.03895516]\n",
      "[0.03873376]\n"
     ]
    }
   ],
   "source": [
    "\n",
    "#init the weights\n",
    "dict_of_weights_2 = init_weights(x_train_binary, 50, 50, 1)\n",
    "#then let's do some iterations\n",
    "learning_rate = 0.1 #set an arbitrary learning rate... we can iterate and try a few others soon\n",
    "iterations = 1000\n",
    "cost = []\n",
    "\n",
    "for iteration in range(iterations):\n",
    "    \n",
    "    dict_of_FP_values_bin, Cost = forward_prop(dict_of_weights_2,x_train_binary,y_train_binary)\n",
    "    cost.append(Cost[0]) #add cost to the list.\n",
    "    #then, do back prop, storing the differentials\n",
    "    differentiat_dict_bin = back_prop(dict_of_weights_2, dict_of_FP_values_bin, y_train_binary, x_train_binary)\n",
    "\n",
    "    #then, do the gradient descent. Nothing stored, the weights just update and we re-use the new values in forward prop.\n",
    "    gradient_descent(learning_rate, dict_of_weights_2, differentiat_dict_bin)\n",
    "    if iteration % 30 == 0:\n",
    "        print(Cost)\n"
   ]
  },
  {
   "cell_type": "code",
   "execution_count": 641,
   "metadata": {},
   "outputs": [
    {
     "output_type": "execute_result",
     "data": {
      "text/plain": [
       "[0.9, 1.001)       5070\n",
       "[6.65e-05, 0.1)    4584\n",
       "[0.8, 0.9)          852\n",
       "[0.1, 0.2)          533\n",
       "[0.7, 0.8)          453\n",
       "[0.6, 0.7)          286\n",
       "[0.2, 0.3)          276\n",
       "[0.5, 0.6)          212\n",
       "[0.3, 0.4)          206\n",
       "[0.4, 0.5)          193\n",
       "dtype: int64"
      ]
     },
     "metadata": {},
     "execution_count": 641
    }
   ],
   "source": [
    "pd.cut(pd.Series(dict_of_FP_values_bin['A3'][0]), bins=10, right=False).value_counts()"
   ]
  },
  {
   "source": [
    "Great - we have values at both ends of the spectrum!"
   ],
   "cell_type": "markdown",
   "metadata": {}
  },
  {
   "cell_type": "code",
   "execution_count": 642,
   "metadata": {},
   "outputs": [
    {
     "output_type": "stream",
     "name": "stderr",
     "text": [
      "/Users/jacoblourie/opt/anaconda3/lib/python3.8/site-packages/seaborn/_decorators.py:36: FutureWarning: Pass the following variables as keyword args: x, y. From version 0.12, the only valid positional argument will be `data`, and passing other arguments without an explicit keyword will result in an error or misinterpretation.\n  warnings.warn(\n"
     ]
    },
    {
     "output_type": "execute_result",
     "data": {
      "text/plain": [
       "<AxesSubplot:>"
      ]
     },
     "metadata": {},
     "execution_count": 642
    },
    {
     "output_type": "display_data",
     "data": {
      "text/plain": "<Figure size 432x288 with 1 Axes>",
      "image/svg+xml": "<?xml version=\"1.0\" encoding=\"utf-8\" standalone=\"no\"?>\n<!DOCTYPE svg PUBLIC \"-//W3C//DTD SVG 1.1//EN\"\n  \"http://www.w3.org/Graphics/SVG/1.1/DTD/svg11.dtd\">\n<!-- Created with matplotlib (https://matplotlib.org/) -->\n<svg height=\"248.65675pt\" version=\"1.1\" viewBox=\"0 0 377.09375 248.65675\" width=\"377.09375pt\" xmlns=\"http://www.w3.org/2000/svg\" xmlns:xlink=\"http://www.w3.org/1999/xlink\">\n <metadata>\n  <rdf:RDF xmlns:cc=\"http://creativecommons.org/ns#\" xmlns:dc=\"http://purl.org/dc/elements/1.1/\" xmlns:rdf=\"http://www.w3.org/1999/02/22-rdf-syntax-ns#\">\n   <cc:Work>\n    <dc:type rdf:resource=\"http://purl.org/dc/dcmitype/StillImage\"/>\n    <dc:date>2021-05-05T21:25:16.629220</dc:date>\n    <dc:format>image/svg+xml</dc:format>\n    <dc:creator>\n     <cc:Agent>\n      <dc:title>Matplotlib v3.3.2, https://matplotlib.org/</dc:title>\n     </cc:Agent>\n    </dc:creator>\n   </cc:Work>\n  </rdf:RDF>\n </metadata>\n <defs>\n  <style type=\"text/css\">*{stroke-linecap:butt;stroke-linejoin:round;}</style>\n </defs>\n <g id=\"figure_1\">\n  <g id=\"patch_1\">\n   <path d=\"M 0 248.65675 \nL 377.09375 248.65675 \nL 377.09375 0 \nL 0 0 \nz\n\" style=\"fill:none;\"/>\n  </g>\n  <g id=\"axes_1\">\n   <g id=\"patch_2\">\n    <path d=\"M 35.09375 224.64 \nL 369.89375 224.64 \nL 369.89375 7.2 \nL 35.09375 7.2 \nz\n\" style=\"fill:#ffffff;\"/>\n   </g>\n   <g id=\"matplotlib.axis_1\">\n    <g id=\"xtick_1\">\n     <g id=\"line2d_1\">\n      <defs>\n       <path d=\"M 0 0 \nL 0 4.8 \n\" id=\"m9a8b55625d\" style=\"stroke:#000000;\"/>\n      </defs>\n      <g>\n       <use style=\"stroke:#000000;\" x=\"50.007264\" xlink:href=\"#m9a8b55625d\" y=\"224.64\"/>\n      </g>\n     </g>\n     <g id=\"text_1\">\n      <!-- 0 -->\n      <g transform=\"translate(47.207764 239.626625)scale(0.088 -0.088)\">\n       <defs>\n        <path d=\"M 31.78125 66.40625 \nQ 24.171875 66.40625 20.328125 58.90625 \nQ 16.5 51.421875 16.5 36.375 \nQ 16.5 21.390625 20.328125 13.890625 \nQ 24.171875 6.390625 31.78125 6.390625 \nQ 39.453125 6.390625 43.28125 13.890625 \nQ 47.125 21.390625 47.125 36.375 \nQ 47.125 51.421875 43.28125 58.90625 \nQ 39.453125 66.40625 31.78125 66.40625 \nz\nM 31.78125 74.21875 \nQ 44.046875 74.21875 50.515625 64.515625 \nQ 56.984375 54.828125 56.984375 36.375 \nQ 56.984375 17.96875 50.515625 8.265625 \nQ 44.046875 -1.421875 31.78125 -1.421875 \nQ 19.53125 -1.421875 13.0625 8.265625 \nQ 6.59375 17.96875 6.59375 36.375 \nQ 6.59375 54.828125 13.0625 64.515625 \nQ 19.53125 74.21875 31.78125 74.21875 \nz\n\" id=\"DejaVuSans-48\"/>\n       </defs>\n       <use xlink:href=\"#DejaVuSans-48\"/>\n      </g>\n     </g>\n    </g>\n    <g id=\"xtick_2\">\n     <g id=\"line2d_2\">\n      <g>\n       <use style=\"stroke:#000000;\" x=\"110.940924\" xlink:href=\"#m9a8b55625d\" y=\"224.64\"/>\n      </g>\n     </g>\n     <g id=\"text_2\">\n      <!-- 200 -->\n      <g transform=\"translate(102.542424 239.626625)scale(0.088 -0.088)\">\n       <defs>\n        <path d=\"M 19.1875 8.296875 \nL 53.609375 8.296875 \nL 53.609375 0 \nL 7.328125 0 \nL 7.328125 8.296875 \nQ 12.9375 14.109375 22.625 23.890625 \nQ 32.328125 33.6875 34.8125 36.53125 \nQ 39.546875 41.84375 41.421875 45.53125 \nQ 43.3125 49.21875 43.3125 52.78125 \nQ 43.3125 58.59375 39.234375 62.25 \nQ 35.15625 65.921875 28.609375 65.921875 \nQ 23.96875 65.921875 18.8125 64.3125 \nQ 13.671875 62.703125 7.8125 59.421875 \nL 7.8125 69.390625 \nQ 13.765625 71.78125 18.9375 73 \nQ 24.125 74.21875 28.421875 74.21875 \nQ 39.75 74.21875 46.484375 68.546875 \nQ 53.21875 62.890625 53.21875 53.421875 \nQ 53.21875 48.921875 51.53125 44.890625 \nQ 49.859375 40.875 45.40625 35.40625 \nQ 44.1875 33.984375 37.640625 27.21875 \nQ 31.109375 20.453125 19.1875 8.296875 \nz\n\" id=\"DejaVuSans-50\"/>\n       </defs>\n       <use xlink:href=\"#DejaVuSans-50\"/>\n       <use x=\"63.623047\" xlink:href=\"#DejaVuSans-48\"/>\n       <use x=\"127.246094\" xlink:href=\"#DejaVuSans-48\"/>\n      </g>\n     </g>\n    </g>\n    <g id=\"xtick_3\">\n     <g id=\"line2d_3\">\n      <g>\n       <use style=\"stroke:#000000;\" x=\"171.874585\" xlink:href=\"#m9a8b55625d\" y=\"224.64\"/>\n      </g>\n     </g>\n     <g id=\"text_3\">\n      <!-- 400 -->\n      <g transform=\"translate(163.476085 239.626625)scale(0.088 -0.088)\">\n       <defs>\n        <path d=\"M 37.796875 64.3125 \nL 12.890625 25.390625 \nL 37.796875 25.390625 \nz\nM 35.203125 72.90625 \nL 47.609375 72.90625 \nL 47.609375 25.390625 \nL 58.015625 25.390625 \nL 58.015625 17.1875 \nL 47.609375 17.1875 \nL 47.609375 0 \nL 37.796875 0 \nL 37.796875 17.1875 \nL 4.890625 17.1875 \nL 4.890625 26.703125 \nz\n\" id=\"DejaVuSans-52\"/>\n       </defs>\n       <use xlink:href=\"#DejaVuSans-52\"/>\n       <use x=\"63.623047\" xlink:href=\"#DejaVuSans-48\"/>\n       <use x=\"127.246094\" xlink:href=\"#DejaVuSans-48\"/>\n      </g>\n     </g>\n    </g>\n    <g id=\"xtick_4\">\n     <g id=\"line2d_4\">\n      <g>\n       <use style=\"stroke:#000000;\" x=\"232.808246\" xlink:href=\"#m9a8b55625d\" y=\"224.64\"/>\n      </g>\n     </g>\n     <g id=\"text_4\">\n      <!-- 600 -->\n      <g transform=\"translate(224.409746 239.626625)scale(0.088 -0.088)\">\n       <defs>\n        <path d=\"M 33.015625 40.375 \nQ 26.375 40.375 22.484375 35.828125 \nQ 18.609375 31.296875 18.609375 23.390625 \nQ 18.609375 15.53125 22.484375 10.953125 \nQ 26.375 6.390625 33.015625 6.390625 \nQ 39.65625 6.390625 43.53125 10.953125 \nQ 47.40625 15.53125 47.40625 23.390625 \nQ 47.40625 31.296875 43.53125 35.828125 \nQ 39.65625 40.375 33.015625 40.375 \nz\nM 52.59375 71.296875 \nL 52.59375 62.3125 \nQ 48.875 64.0625 45.09375 64.984375 \nQ 41.3125 65.921875 37.59375 65.921875 \nQ 27.828125 65.921875 22.671875 59.328125 \nQ 17.53125 52.734375 16.796875 39.40625 \nQ 19.671875 43.65625 24.015625 45.921875 \nQ 28.375 48.1875 33.59375 48.1875 \nQ 44.578125 48.1875 50.953125 41.515625 \nQ 57.328125 34.859375 57.328125 23.390625 \nQ 57.328125 12.15625 50.6875 5.359375 \nQ 44.046875 -1.421875 33.015625 -1.421875 \nQ 20.359375 -1.421875 13.671875 8.265625 \nQ 6.984375 17.96875 6.984375 36.375 \nQ 6.984375 53.65625 15.1875 63.9375 \nQ 23.390625 74.21875 37.203125 74.21875 \nQ 40.921875 74.21875 44.703125 73.484375 \nQ 48.484375 72.75 52.59375 71.296875 \nz\n\" id=\"DejaVuSans-54\"/>\n       </defs>\n       <use xlink:href=\"#DejaVuSans-54\"/>\n       <use x=\"63.623047\" xlink:href=\"#DejaVuSans-48\"/>\n       <use x=\"127.246094\" xlink:href=\"#DejaVuSans-48\"/>\n      </g>\n     </g>\n    </g>\n    <g id=\"xtick_5\">\n     <g id=\"line2d_5\">\n      <g>\n       <use style=\"stroke:#000000;\" x=\"293.741907\" xlink:href=\"#m9a8b55625d\" y=\"224.64\"/>\n      </g>\n     </g>\n     <g id=\"text_5\">\n      <!-- 800 -->\n      <g transform=\"translate(285.343407 239.626625)scale(0.088 -0.088)\">\n       <defs>\n        <path d=\"M 31.78125 34.625 \nQ 24.75 34.625 20.71875 30.859375 \nQ 16.703125 27.09375 16.703125 20.515625 \nQ 16.703125 13.921875 20.71875 10.15625 \nQ 24.75 6.390625 31.78125 6.390625 \nQ 38.8125 6.390625 42.859375 10.171875 \nQ 46.921875 13.96875 46.921875 20.515625 \nQ 46.921875 27.09375 42.890625 30.859375 \nQ 38.875 34.625 31.78125 34.625 \nz\nM 21.921875 38.8125 \nQ 15.578125 40.375 12.03125 44.71875 \nQ 8.5 49.078125 8.5 55.328125 \nQ 8.5 64.0625 14.71875 69.140625 \nQ 20.953125 74.21875 31.78125 74.21875 \nQ 42.671875 74.21875 48.875 69.140625 \nQ 55.078125 64.0625 55.078125 55.328125 \nQ 55.078125 49.078125 51.53125 44.71875 \nQ 48 40.375 41.703125 38.8125 \nQ 48.828125 37.15625 52.796875 32.3125 \nQ 56.78125 27.484375 56.78125 20.515625 \nQ 56.78125 9.90625 50.3125 4.234375 \nQ 43.84375 -1.421875 31.78125 -1.421875 \nQ 19.734375 -1.421875 13.25 4.234375 \nQ 6.78125 9.90625 6.78125 20.515625 \nQ 6.78125 27.484375 10.78125 32.3125 \nQ 14.796875 37.15625 21.921875 38.8125 \nz\nM 18.3125 54.390625 \nQ 18.3125 48.734375 21.84375 45.5625 \nQ 25.390625 42.390625 31.78125 42.390625 \nQ 38.140625 42.390625 41.71875 45.5625 \nQ 45.3125 48.734375 45.3125 54.390625 \nQ 45.3125 60.0625 41.71875 63.234375 \nQ 38.140625 66.40625 31.78125 66.40625 \nQ 25.390625 66.40625 21.84375 63.234375 \nQ 18.3125 60.0625 18.3125 54.390625 \nz\n\" id=\"DejaVuSans-56\"/>\n       </defs>\n       <use xlink:href=\"#DejaVuSans-56\"/>\n       <use x=\"63.623047\" xlink:href=\"#DejaVuSans-48\"/>\n       <use x=\"127.246094\" xlink:href=\"#DejaVuSans-48\"/>\n      </g>\n     </g>\n    </g>\n    <g id=\"xtick_6\">\n     <g id=\"line2d_6\">\n      <g>\n       <use style=\"stroke:#000000;\" x=\"354.675568\" xlink:href=\"#m9a8b55625d\" y=\"224.64\"/>\n      </g>\n     </g>\n     <g id=\"text_6\">\n      <!-- 1000 -->\n      <g transform=\"translate(343.477568 239.626625)scale(0.088 -0.088)\">\n       <defs>\n        <path d=\"M 12.40625 8.296875 \nL 28.515625 8.296875 \nL 28.515625 63.921875 \nL 10.984375 60.40625 \nL 10.984375 69.390625 \nL 28.421875 72.90625 \nL 38.28125 72.90625 \nL 38.28125 8.296875 \nL 54.390625 8.296875 \nL 54.390625 0 \nL 12.40625 0 \nz\n\" id=\"DejaVuSans-49\"/>\n       </defs>\n       <use xlink:href=\"#DejaVuSans-49\"/>\n       <use x=\"63.623047\" xlink:href=\"#DejaVuSans-48\"/>\n       <use x=\"127.246094\" xlink:href=\"#DejaVuSans-48\"/>\n       <use x=\"190.869141\" xlink:href=\"#DejaVuSans-48\"/>\n      </g>\n     </g>\n    </g>\n   </g>\n   <g id=\"matplotlib.axis_2\">\n    <g id=\"ytick_1\">\n     <g id=\"line2d_7\">\n      <defs>\n       <path d=\"M 0 0 \nL -4.8 0 \n\" id=\"m22b4897a5b\" style=\"stroke:#000000;\"/>\n      </defs>\n      <g>\n       <use style=\"stroke:#000000;\" x=\"35.09375\" xlink:href=\"#m22b4897a5b\" y=\"206.164279\"/>\n      </g>\n     </g>\n     <g id=\"text_7\">\n      <!-- 0.05 -->\n      <g transform=\"translate(7.2 209.507592)scale(0.088 -0.088)\">\n       <defs>\n        <path d=\"M 10.6875 12.40625 \nL 21 12.40625 \nL 21 0 \nL 10.6875 0 \nz\n\" id=\"DejaVuSans-46\"/>\n        <path d=\"M 10.796875 72.90625 \nL 49.515625 72.90625 \nL 49.515625 64.59375 \nL 19.828125 64.59375 \nL 19.828125 46.734375 \nQ 21.96875 47.46875 24.109375 47.828125 \nQ 26.265625 48.1875 28.421875 48.1875 \nQ 40.625 48.1875 47.75 41.5 \nQ 54.890625 34.8125 54.890625 23.390625 \nQ 54.890625 11.625 47.5625 5.09375 \nQ 40.234375 -1.421875 26.90625 -1.421875 \nQ 22.3125 -1.421875 17.546875 -0.640625 \nQ 12.796875 0.140625 7.71875 1.703125 \nL 7.71875 11.625 \nQ 12.109375 9.234375 16.796875 8.0625 \nQ 21.484375 6.890625 26.703125 6.890625 \nQ 35.15625 6.890625 40.078125 11.328125 \nQ 45.015625 15.765625 45.015625 23.390625 \nQ 45.015625 31 40.078125 35.4375 \nQ 35.15625 39.890625 26.703125 39.890625 \nQ 22.75 39.890625 18.8125 39.015625 \nQ 14.890625 38.140625 10.796875 36.28125 \nz\n\" id=\"DejaVuSans-53\"/>\n       </defs>\n       <use xlink:href=\"#DejaVuSans-48\"/>\n       <use x=\"63.623047\" xlink:href=\"#DejaVuSans-46\"/>\n       <use x=\"95.410156\" xlink:href=\"#DejaVuSans-48\"/>\n       <use x=\"159.033203\" xlink:href=\"#DejaVuSans-53\"/>\n      </g>\n     </g>\n    </g>\n    <g id=\"ytick_2\">\n     <g id=\"line2d_8\">\n      <g>\n       <use style=\"stroke:#000000;\" x=\"35.09375\" xlink:href=\"#m22b4897a5b\" y=\"168.684257\"/>\n      </g>\n     </g>\n     <g id=\"text_8\">\n      <!-- 0.10 -->\n      <g transform=\"translate(7.2 172.027569)scale(0.088 -0.088)\">\n       <use xlink:href=\"#DejaVuSans-48\"/>\n       <use x=\"63.623047\" xlink:href=\"#DejaVuSans-46\"/>\n       <use x=\"95.410156\" xlink:href=\"#DejaVuSans-49\"/>\n       <use x=\"159.033203\" xlink:href=\"#DejaVuSans-48\"/>\n      </g>\n     </g>\n    </g>\n    <g id=\"ytick_3\">\n     <g id=\"line2d_9\">\n      <g>\n       <use style=\"stroke:#000000;\" x=\"35.09375\" xlink:href=\"#m22b4897a5b\" y=\"131.204235\"/>\n      </g>\n     </g>\n     <g id=\"text_9\">\n      <!-- 0.15 -->\n      <g transform=\"translate(7.2 134.547547)scale(0.088 -0.088)\">\n       <use xlink:href=\"#DejaVuSans-48\"/>\n       <use x=\"63.623047\" xlink:href=\"#DejaVuSans-46\"/>\n       <use x=\"95.410156\" xlink:href=\"#DejaVuSans-49\"/>\n       <use x=\"159.033203\" xlink:href=\"#DejaVuSans-53\"/>\n      </g>\n     </g>\n    </g>\n    <g id=\"ytick_4\">\n     <g id=\"line2d_10\">\n      <g>\n       <use style=\"stroke:#000000;\" x=\"35.09375\" xlink:href=\"#m22b4897a5b\" y=\"93.724212\"/>\n      </g>\n     </g>\n     <g id=\"text_10\">\n      <!-- 0.20 -->\n      <g transform=\"translate(7.2 97.067525)scale(0.088 -0.088)\">\n       <use xlink:href=\"#DejaVuSans-48\"/>\n       <use x=\"63.623047\" xlink:href=\"#DejaVuSans-46\"/>\n       <use x=\"95.410156\" xlink:href=\"#DejaVuSans-50\"/>\n       <use x=\"159.033203\" xlink:href=\"#DejaVuSans-48\"/>\n      </g>\n     </g>\n    </g>\n    <g id=\"ytick_5\">\n     <g id=\"line2d_11\">\n      <g>\n       <use style=\"stroke:#000000;\" x=\"35.09375\" xlink:href=\"#m22b4897a5b\" y=\"56.24419\"/>\n      </g>\n     </g>\n     <g id=\"text_11\">\n      <!-- 0.25 -->\n      <g transform=\"translate(7.2 59.587503)scale(0.088 -0.088)\">\n       <use xlink:href=\"#DejaVuSans-48\"/>\n       <use x=\"63.623047\" xlink:href=\"#DejaVuSans-46\"/>\n       <use x=\"95.410156\" xlink:href=\"#DejaVuSans-50\"/>\n       <use x=\"159.033203\" xlink:href=\"#DejaVuSans-53\"/>\n      </g>\n     </g>\n    </g>\n    <g id=\"ytick_6\">\n     <g id=\"line2d_12\">\n      <g>\n       <use style=\"stroke:#000000;\" x=\"35.09375\" xlink:href=\"#m22b4897a5b\" y=\"18.764168\"/>\n      </g>\n     </g>\n     <g id=\"text_12\">\n      <!-- 0.30 -->\n      <g transform=\"translate(7.2 22.10748)scale(0.088 -0.088)\">\n       <defs>\n        <path d=\"M 40.578125 39.3125 \nQ 47.65625 37.796875 51.625 33 \nQ 55.609375 28.21875 55.609375 21.1875 \nQ 55.609375 10.40625 48.1875 4.484375 \nQ 40.765625 -1.421875 27.09375 -1.421875 \nQ 22.515625 -1.421875 17.65625 -0.515625 \nQ 12.796875 0.390625 7.625 2.203125 \nL 7.625 11.71875 \nQ 11.71875 9.328125 16.59375 8.109375 \nQ 21.484375 6.890625 26.8125 6.890625 \nQ 36.078125 6.890625 40.9375 10.546875 \nQ 45.796875 14.203125 45.796875 21.1875 \nQ 45.796875 27.640625 41.28125 31.265625 \nQ 36.765625 34.90625 28.71875 34.90625 \nL 20.21875 34.90625 \nL 20.21875 43.015625 \nL 29.109375 43.015625 \nQ 36.375 43.015625 40.234375 45.921875 \nQ 44.09375 48.828125 44.09375 54.296875 \nQ 44.09375 59.90625 40.109375 62.90625 \nQ 36.140625 65.921875 28.71875 65.921875 \nQ 24.65625 65.921875 20.015625 65.03125 \nQ 15.375 64.15625 9.8125 62.3125 \nL 9.8125 71.09375 \nQ 15.4375 72.65625 20.34375 73.4375 \nQ 25.25 74.21875 29.59375 74.21875 \nQ 40.828125 74.21875 47.359375 69.109375 \nQ 53.90625 64.015625 53.90625 55.328125 \nQ 53.90625 49.265625 50.4375 45.09375 \nQ 46.96875 40.921875 40.578125 39.3125 \nz\n\" id=\"DejaVuSans-51\"/>\n       </defs>\n       <use xlink:href=\"#DejaVuSans-48\"/>\n       <use x=\"63.623047\" xlink:href=\"#DejaVuSans-46\"/>\n       <use x=\"95.410156\" xlink:href=\"#DejaVuSans-51\"/>\n       <use x=\"159.033203\" xlink:href=\"#DejaVuSans-48\"/>\n      </g>\n     </g>\n    </g>\n   </g>\n   <g id=\"line2d_13\">\n    <path clip-path=\"url(#p17d56a9344)\" d=\"M 50.311932 17.083636 \nL 51.530605 57.258434 \nL 52.44461 78.860519 \nL 53.053947 89.110105 \nL 53.663283 96.727687 \nL 54.27262 102.374301 \nL 55.186625 108.33403 \nL 56.10063 112.418475 \nL 57.014635 115.426297 \nL 58.233308 118.518821 \nL 59.756649 121.635892 \nL 61.889327 125.371382 \nL 64.631342 129.682976 \nL 67.982693 134.514545 \nL 71.334045 138.964566 \nL 74.990064 143.433614 \nL 78.646084 147.539372 \nL 82.302104 151.317647 \nL 86.262792 155.078811 \nL 90.22348 158.530739 \nL 94.488836 161.939973 \nL 98.754192 165.064723 \nL 103.324217 168.132733 \nL 108.19891 171.123085 \nL 113.073603 173.8566 \nL 118.252964 176.513349 \nL 123.736993 179.082088 \nL 129.525691 181.554902 \nL 135.923725 184.039672 \nL 142.626428 186.400206 \nL 149.938467 188.731159 \nL 157.555175 190.926018 \nL 165.781219 193.067119 \nL 174.6166 195.13966 \nL 184.365986 197.193884 \nL 194.724708 199.149252 \nL 205.997436 201.05204 \nL 218.488836 202.929558 \nL 231.894241 204.717758 \nL 246.822988 206.478651 \nL 262.970408 208.156051 \nL 280.945838 209.794047 \nL 300.749278 211.369159 \nL 322.685396 212.885337 \nL 347.058861 214.342503 \nL 354.675568 214.756364 \nL 354.675568 214.756364 \n\" style=\"fill:none;stroke:#1f77b4;stroke-linecap:square;stroke-width:1.2;\"/>\n   </g>\n   <g id=\"patch_3\">\n    <path d=\"M 35.09375 224.64 \nL 35.09375 7.2 \n\" style=\"fill:none;stroke:#000000;stroke-linecap:square;stroke-linejoin:miter;\"/>\n   </g>\n   <g id=\"patch_4\">\n    <path d=\"M 369.89375 224.64 \nL 369.89375 7.2 \n\" style=\"fill:none;stroke:#000000;stroke-linecap:square;stroke-linejoin:miter;\"/>\n   </g>\n   <g id=\"patch_5\">\n    <path d=\"M 35.09375 224.64 \nL 369.89375 224.64 \n\" style=\"fill:none;stroke:#000000;stroke-linecap:square;stroke-linejoin:miter;\"/>\n   </g>\n   <g id=\"patch_6\">\n    <path d=\"M 35.09375 7.2 \nL 369.89375 7.2 \n\" style=\"fill:none;stroke:#000000;stroke-linecap:square;stroke-linejoin:miter;\"/>\n   </g>\n  </g>\n </g>\n <defs>\n  <clipPath id=\"p17d56a9344\">\n   <rect height=\"217.44\" width=\"334.8\" x=\"35.09375\" y=\"7.2\"/>\n  </clipPath>\n </defs>\n</svg>\n",
      "image/png": "[encoded data removed]"
     },
     "metadata": {
      "needs_background": "light"
     }
    }
   ],
   "source": [
    "cost_x = np.linspace(1,iterations,iterations)\n",
    "fig = plt.figure(figsize = (6,4))\n",
    "sns.lineplot(cost_x,cost)"
   ]
  },
  {
   "source": [
    "0.01 - what does this mean? it's the average of the sum of squared values. so on average the sum of the squared values is 0.01, which means the average modulus of the value is 0.1"
   ],
   "cell_type": "markdown",
   "metadata": {}
  },
  {
   "source": [
    "## Next - let's use this to \"Predict the Test Set\""
   ],
   "cell_type": "markdown",
   "metadata": {}
  },
  {
   "cell_type": "code",
   "execution_count": 645,
   "metadata": {},
   "outputs": [],
   "source": [
    "def predict(vector_of_x, vector_of_y):\n",
    "    FP_values, Cost = forward_prop(dict_of_weights_2,vector_of_x, vector_of_y)\n",
    "    y_prob = FP_values['A3']\n",
    "    #y_pred = round(FP_values['A3'])\n",
    "    accuracy_vector = abs(y_prob - vector_of_y) < 0.5\n",
    "    return y_prob,  accuracy_vector\n",
    "\n",
    "prob, av = predict(x_test_binary, y_test_binary)"
   ]
  },
  {
   "cell_type": "code",
   "execution_count": 646,
   "metadata": {},
   "outputs": [
    {
     "output_type": "execute_result",
     "data": {
      "text/plain": [
       "True     2044\n",
       "False      71\n",
       "dtype: int64"
      ]
     },
     "metadata": {},
     "execution_count": 646
    }
   ],
   "source": [
    "pd.Series(av[0]).value_counts()"
   ]
  },
  {
   "source": [
    "## Alright, Let's move on to SoftMax function and try to predict correctly from all the numbers\n",
    "\n",
    "We should also test the log versus non-logged form of the cost function, as the literature really supports the idea we should be using the logged form"
   ],
   "cell_type": "markdown",
   "metadata": {}
  },
  {
   "cell_type": "code",
   "execution_count": 670,
   "metadata": {},
   "outputs": [],
   "source": [
    "#for y, we need to do some form of hot encoding.\n",
    "from sklearn.preprocessing import OneHotEncoder\n",
    "\n",
    "def create_one_hot_train_and_test(y_train, y_test):\n",
    "    one_hot = OneHotEncoder(sparse = False)\n",
    "    one_hot_y_train= one_hot.fit_transform(y_train.reshape(-1,1)).T ###currently doing it on two classes\n",
    "    one_hot_y_test = one_hot.fit_transform(y_test.reshape(-1,1)).T\n",
    "    return one_hot_y_train, one_hot_y_test\n",
    "one_hot_y_train, one_hot_y_test = create_one_hot_train_and_test(y_train_binary, y_test_binary )"
   ]
  },
  {
   "cell_type": "code",
   "execution_count": null,
   "metadata": {},
   "outputs": [],
   "source": []
  },
  {
   "cell_type": "code",
   "execution_count": 649,
   "metadata": {},
   "outputs": [
    {
     "output_type": "stream",
     "name": "stdout",
     "text": [
      "Weights matrices\nW1 (50, 784)\nB1 (50, 1)\nW2 (50, 50)\nB2 (50, 1)\nW3 (2, 50)\nB3 (2, 1)\n"
     ]
    }
   ],
   "source": [
    "# let's see if we can initialise the weights\n",
    "dict_of_weights_softmax = init_weights(x_train_binary, 50, 50, 2)"
   ]
  },
  {
   "source": [
    "## Gravy. Now let's take a look at the forward prop\n",
    "\n",
    "One thing for sure is that we need to change the calculation of the cost function."
   ],
   "cell_type": "markdown",
   "metadata": {}
  },
  {
   "cell_type": "code",
   "execution_count": 507,
   "metadata": {},
   "outputs": [
    {
     "output_type": "execute_result",
     "data": {
      "text/plain": [
       "(10, 60000)"
      ]
     },
     "metadata": {},
     "execution_count": 507
    }
   ],
   "source": [
    "one_hot_y_train.shape"
   ]
  },
  {
   "cell_type": "code",
   "execution_count": 653,
   "metadata": {},
   "outputs": [],
   "source": [
    "dict_of_FP_values_softmax = {}\n",
    "#FORWARD PROPOGATION\n",
    "def last_leg_softmax(previous_a, W, B):\n",
    "    Z = W @ previous_a + B\n",
    "    A = np.exp(Z)\n",
    "    A = A / np.sum(A,axis=0) \n",
    "    return Z, A\n",
    "\n",
    "def forward_prop_softmax(dict_of_weights,x_train,y_train_softmax):\n",
    "    W1, B1, W2, B2, W3, B3 = dict_of_weights.values()\n",
    "    Z1, A1 = sigmoid_forward_prop(x_train, W1, B1)\n",
    "    Z2, A2 = sigmoid_forward_prop(A1, W2, B2)    \n",
    "    Z3, A3 = last_leg_softmax(A2, W3, B3)\n",
    "    \n",
    "    dict_of_FP_values['Z1'] = Z1\n",
    "    dict_of_FP_values['A1'] = A1\n",
    "    dict_of_FP_values['Z2'] = Z2\n",
    "    dict_of_FP_values['A2'] = A2\n",
    "    dict_of_FP_values['Z3'] = Z3\n",
    "    dict_of_FP_values['A3'] = A3\n",
    "    \n",
    "    #for cost fucntion, use the y log y_hat\n",
    "    Cost = -np.sum(y_train_softmax * np.log(A3)) / y_train_softmax.shape[1]\n",
    "    \n",
    "    return dict_of_FP_values, Cost\n",
    "\n",
    "dict_of_FP_values_softmax, Cost_softmax = forward_prop_softmax(dict_of_weights_softmax,x_train_binary,one_hot_y_train)"
   ]
  },
  {
   "cell_type": "code",
   "execution_count": 655,
   "metadata": {},
   "outputs": [],
   "source": [
    "def back_prop_first_soft_max_layer(y_true, y_predicted, previous_A, Z, W):    \n",
    "    #dC/dz first layer is just y - ÿ\n",
    "    dC_dZ_final = y_predicted - y_true\n",
    "\n",
    "    #get diffs at that layer\n",
    "    dZfinal_dW = previous_A\n",
    "    dZfinal_dB = np.zeros_like(Z) + 1\n",
    "\n",
    "    #combine to get useful differentials\n",
    "    dC_dW = dC_dZ_final @ dZfinal_dW.T / Z.size\n",
    "    dC_dB = np.sum(dC_dZ_final @ dZfinal_dB.T,axis=1,keepdims=True) / dZfinal_dB.shape[1]\n",
    "\n",
    "    #and then get the previous layer cost fuctions\n",
    "    dZfinal_dA_minus_one = W\n",
    "    dC_dA_minus_one = (dC_dZ_final.T @ dZfinal_dA_minus_one).T\n",
    "\n",
    "    return dC_dW, dC_dB, dC_dZ_final, dC_dA_minus_one\n",
    "\n",
    "def back_prop_softmax(dict_of_weights_softmax, dict_of_FP_values_softmax, y_true, x_train_flat):\n",
    "    W1, B1, W2, B2, W3, W3 = dict_of_weights_softmax.values()\n",
    "    Z1, A1, Z2, A2, Z3, A3 = dict_of_FP_values_softmax.values()\n",
    "    \n",
    "    differentiat_dict = {}\n",
    "    \n",
    "    #This line is unique it's for the first layer\n",
    "    dC_dW3, dC_dB3, dC_dZ_last, dC_dA2 = back_prop_first_soft_max_layer(y_true, A3, A2, Z3, W3)\n",
    "\n",
    "    #do the back props\n",
    "    dC_dW2, dC_dB2, dC_dZ2, dC_dA1 = back_prop_one_layer_from_A_to_previous_A(dC_dA2, Z2, A1, W2)\n",
    "    dC_dW1, dC_dB1, dC_dZ1, dC_dA0 = back_prop_one_layer_from_A_to_previous_A(dC_dA1, Z1, x_train_flat, W1)\n",
    "\n",
    "    differentiat_dict['dW1'] = dC_dW1\n",
    "    differentiat_dict['dB1'] = dC_dB1\n",
    "    differentiat_dict['dW2'] = dC_dW2\n",
    "    differentiat_dict['dB2'] = dC_dB2\n",
    "    differentiat_dict['dW3'] = dC_dW3\n",
    "    differentiat_dict['dB3'] = dC_dB3\n",
    "\n",
    "    return differentiat_dict\n",
    "\n",
    "differentiat_dict_softmax = back_prop_softmax(dict_of_weights_softmax, dict_of_FP_values_softmax, one_hot_y_train, x_train_binary)"
   ]
  },
  {
   "cell_type": "code",
   "execution_count": 692,
   "metadata": {
    "tags": []
   },
   "outputs": [],
   "source": [
    "##softmax iteration\n",
    "learning_rate = 0.1 #set an arbitrary learning rate... we can iterate and try a few others soon\n",
    "iterations_SM = 300\n",
    "    \n",
    "\n",
    "def soft_max_iteration(learning_rate, iterations, x_train, y_train):\n",
    "    cost_softmax = []\n",
    "    dict_of_weights_softmax = init_weights(x_train, 80, 80, y_train.shape[0])\n",
    "\n",
    "    for iteration in range(iterations):\n",
    "\n",
    "        dict_of_FP_values_softmax, Cost_softmax = forward_prop_softmax(dict_of_weights_softmax,x_train,y_train)\n",
    "        cost_softmax.append(Cost_softmax) #add cost to the list.\n",
    "        \n",
    "        #then, do back prop, storing the differentials\n",
    "\n",
    "        differentiat_dict_softmax = back_prop_softmax(dict_of_weights_softmax, dict_of_FP_values_softmax, y_train, x_train)\n",
    "        #then, do the gradient descent. Nothing stored, the weights just update and we re-use the new values in forward prop.\n",
    "        gradient_descent(learning_rate, dict_of_weights_softmax, differentiat_dict_softmax)\n",
    "        \n",
    "        # if iteration % 100 == 0:\n",
    "        #     print(f'iteration: {iteration}\\ncost: {Cost_softmax}')\n",
    "    \n",
    "    return cost_softmax, dict_of_FP_values_softmax, dict_of_weights_softmax\n",
    "\n"
   ]
  },
  {
   "cell_type": "code",
   "execution_count": 456,
   "metadata": {},
   "outputs": [
    {
     "output_type": "execute_result",
     "data": {
      "text/plain": [
       "-2.3025850929940455"
      ]
     },
     "metadata": {},
     "execution_count": 456
    }
   ],
   "source": [
    "#running the function\n",
    "cost_softmax_binary, dict_of_FP_values_softmax_binary, dict_of_weights_softmax_bianry = soft_max_iteration(learning_rate, iterations, x_train_binary, one_hot_y_train)\n"
   ]
  },
  {
   "cell_type": "code",
   "execution_count": 665,
   "metadata": {},
   "outputs": [
    {
     "output_type": "stream",
     "name": "stderr",
     "text": [
      "/Users/jacoblourie/opt/anaconda3/lib/python3.8/site-packages/seaborn/_decorators.py:36: FutureWarning: Pass the following variables as keyword args: x, y. From version 0.12, the only valid positional argument will be `data`, and passing other arguments without an explicit keyword will result in an error or misinterpretation.\n  warnings.warn(\n"
     ]
    },
    {
     "output_type": "display_data",
     "data": {
      "text/plain": "<Figure size 576x288 with 1 Axes>",
      "image/svg+xml": "<?xml version=\"1.0\" encoding=\"utf-8\" standalone=\"no\"?>\n<!DOCTYPE svg PUBLIC \"-//W3C//DTD SVG 1.1//EN\"\n  \"http://www.w3.org/Graphics/SVG/1.1/DTD/svg11.dtd\">\n<!-- Created with matplotlib (https://matplotlib.org/) -->\n<svg height=\"275.24225pt\" version=\"1.1\" viewBox=\"0 0 496.38575 275.24225\" width=\"496.38575pt\" xmlns=\"http://www.w3.org/2000/svg\" xmlns:xlink=\"http://www.w3.org/1999/xlink\">\n <metadata>\n  <rdf:RDF xmlns:cc=\"http://creativecommons.org/ns#\" xmlns:dc=\"http://purl.org/dc/elements/1.1/\" xmlns:rdf=\"http://www.w3.org/1999/02/22-rdf-syntax-ns#\">\n   <cc:Work>\n    <dc:type rdf:resource=\"http://purl.org/dc/dcmitype/StillImage\"/>\n    <dc:date>2021-05-05T22:13:03.798445</dc:date>\n    <dc:format>image/svg+xml</dc:format>\n    <dc:creator>\n     <cc:Agent>\n      <dc:title>Matplotlib v3.3.2, https://matplotlib.org/</dc:title>\n     </cc:Agent>\n    </dc:creator>\n   </cc:Work>\n  </rdf:RDF>\n </metadata>\n <defs>\n  <style type=\"text/css\">*{stroke-linecap:butt;stroke-linejoin:round;}</style>\n </defs>\n <g id=\"figure_1\">\n  <g id=\"patch_1\">\n   <path d=\"M 0 275.24225 \nL 496.38575 275.24225 \nL 496.38575 0 \nL 0 0 \nz\n\" style=\"fill:none;\"/>\n  </g>\n  <g id=\"axes_1\">\n   <g id=\"patch_2\">\n    <path d=\"M 42.78575 237.9345 \nL 489.18575 237.9345 \nL 489.18575 20.4945 \nL 42.78575 20.4945 \nz\n\" style=\"fill:#ffffff;\"/>\n   </g>\n   <g id=\"matplotlib.axis_1\">\n    <g id=\"xtick_1\">\n     <g id=\"line2d_1\">\n      <defs>\n       <path d=\"M 0 0 \nL 0 4.8 \n\" id=\"mce83066cb7\" style=\"stroke:#000000;\"/>\n      </defs>\n      <g>\n       <use style=\"stroke:#000000;\" x=\"61.719408\" xlink:href=\"#mce83066cb7\" y=\"237.9345\"/>\n      </g>\n     </g>\n     <g id=\"text_1\">\n      <!-- 0 -->\n      <g transform=\"translate(58.919908 252.921125)scale(0.088 -0.088)\">\n       <defs>\n        <path d=\"M 31.78125 66.40625 \nQ 24.171875 66.40625 20.328125 58.90625 \nQ 16.5 51.421875 16.5 36.375 \nQ 16.5 21.390625 20.328125 13.890625 \nQ 24.171875 6.390625 31.78125 6.390625 \nQ 39.453125 6.390625 43.28125 13.890625 \nQ 47.125 21.390625 47.125 36.375 \nQ 47.125 51.421875 43.28125 58.90625 \nQ 39.453125 66.40625 31.78125 66.40625 \nz\nM 31.78125 74.21875 \nQ 44.046875 74.21875 50.515625 64.515625 \nQ 56.984375 54.828125 56.984375 36.375 \nQ 56.984375 17.96875 50.515625 8.265625 \nQ 44.046875 -1.421875 31.78125 -1.421875 \nQ 19.53125 -1.421875 13.0625 8.265625 \nQ 6.59375 17.96875 6.59375 36.375 \nQ 6.59375 54.828125 13.0625 64.515625 \nQ 19.53125 74.21875 31.78125 74.21875 \nz\n\" id=\"DejaVuSans-48\"/>\n       </defs>\n       <use xlink:href=\"#DejaVuSans-48\"/>\n      </g>\n     </g>\n    </g>\n    <g id=\"xtick_2\">\n     <g id=\"line2d_2\">\n      <g>\n       <use style=\"stroke:#000000;\" x=\"129.58198\" xlink:href=\"#mce83066cb7\" y=\"237.9345\"/>\n      </g>\n     </g>\n     <g id=\"text_2\">\n      <!-- 50 -->\n      <g transform=\"translate(123.98298 252.921125)scale(0.088 -0.088)\">\n       <defs>\n        <path d=\"M 10.796875 72.90625 \nL 49.515625 72.90625 \nL 49.515625 64.59375 \nL 19.828125 64.59375 \nL 19.828125 46.734375 \nQ 21.96875 47.46875 24.109375 47.828125 \nQ 26.265625 48.1875 28.421875 48.1875 \nQ 40.625 48.1875 47.75 41.5 \nQ 54.890625 34.8125 54.890625 23.390625 \nQ 54.890625 11.625 47.5625 5.09375 \nQ 40.234375 -1.421875 26.90625 -1.421875 \nQ 22.3125 -1.421875 17.546875 -0.640625 \nQ 12.796875 0.140625 7.71875 1.703125 \nL 7.71875 11.625 \nQ 12.109375 9.234375 16.796875 8.0625 \nQ 21.484375 6.890625 26.703125 6.890625 \nQ 35.15625 6.890625 40.078125 11.328125 \nQ 45.015625 15.765625 45.015625 23.390625 \nQ 45.015625 31 40.078125 35.4375 \nQ 35.15625 39.890625 26.703125 39.890625 \nQ 22.75 39.890625 18.8125 39.015625 \nQ 14.890625 38.140625 10.796875 36.28125 \nz\n\" id=\"DejaVuSans-53\"/>\n       </defs>\n       <use xlink:href=\"#DejaVuSans-53\"/>\n       <use x=\"63.623047\" xlink:href=\"#DejaVuSans-48\"/>\n      </g>\n     </g>\n    </g>\n    <g id=\"xtick_3\">\n     <g id=\"line2d_3\">\n      <g>\n       <use style=\"stroke:#000000;\" x=\"197.444552\" xlink:href=\"#mce83066cb7\" y=\"237.9345\"/>\n      </g>\n     </g>\n     <g id=\"text_3\">\n      <!-- 100 -->\n      <g transform=\"translate(189.046052 252.921125)scale(0.088 -0.088)\">\n       <defs>\n        <path d=\"M 12.40625 8.296875 \nL 28.515625 8.296875 \nL 28.515625 63.921875 \nL 10.984375 60.40625 \nL 10.984375 69.390625 \nL 28.421875 72.90625 \nL 38.28125 72.90625 \nL 38.28125 8.296875 \nL 54.390625 8.296875 \nL 54.390625 0 \nL 12.40625 0 \nz\n\" id=\"DejaVuSans-49\"/>\n       </defs>\n       <use xlink:href=\"#DejaVuSans-49\"/>\n       <use x=\"63.623047\" xlink:href=\"#DejaVuSans-48\"/>\n       <use x=\"127.246094\" xlink:href=\"#DejaVuSans-48\"/>\n      </g>\n     </g>\n    </g>\n    <g id=\"xtick_4\">\n     <g id=\"line2d_4\">\n      <g>\n       <use style=\"stroke:#000000;\" x=\"265.307124\" xlink:href=\"#mce83066cb7\" y=\"237.9345\"/>\n      </g>\n     </g>\n     <g id=\"text_4\">\n      <!-- 150 -->\n      <g transform=\"translate(256.908624 252.921125)scale(0.088 -0.088)\">\n       <use xlink:href=\"#DejaVuSans-49\"/>\n       <use x=\"63.623047\" xlink:href=\"#DejaVuSans-53\"/>\n       <use x=\"127.246094\" xlink:href=\"#DejaVuSans-48\"/>\n      </g>\n     </g>\n    </g>\n    <g id=\"xtick_5\">\n     <g id=\"line2d_5\">\n      <g>\n       <use style=\"stroke:#000000;\" x=\"333.169696\" xlink:href=\"#mce83066cb7\" y=\"237.9345\"/>\n      </g>\n     </g>\n     <g id=\"text_5\">\n      <!-- 200 -->\n      <g transform=\"translate(324.771196 252.921125)scale(0.088 -0.088)\">\n       <defs>\n        <path d=\"M 19.1875 8.296875 \nL 53.609375 8.296875 \nL 53.609375 0 \nL 7.328125 0 \nL 7.328125 8.296875 \nQ 12.9375 14.109375 22.625 23.890625 \nQ 32.328125 33.6875 34.8125 36.53125 \nQ 39.546875 41.84375 41.421875 45.53125 \nQ 43.3125 49.21875 43.3125 52.78125 \nQ 43.3125 58.59375 39.234375 62.25 \nQ 35.15625 65.921875 28.609375 65.921875 \nQ 23.96875 65.921875 18.8125 64.3125 \nQ 13.671875 62.703125 7.8125 59.421875 \nL 7.8125 69.390625 \nQ 13.765625 71.78125 18.9375 73 \nQ 24.125 74.21875 28.421875 74.21875 \nQ 39.75 74.21875 46.484375 68.546875 \nQ 53.21875 62.890625 53.21875 53.421875 \nQ 53.21875 48.921875 51.53125 44.890625 \nQ 49.859375 40.875 45.40625 35.40625 \nQ 44.1875 33.984375 37.640625 27.21875 \nQ 31.109375 20.453125 19.1875 8.296875 \nz\n\" id=\"DejaVuSans-50\"/>\n       </defs>\n       <use xlink:href=\"#DejaVuSans-50\"/>\n       <use x=\"63.623047\" xlink:href=\"#DejaVuSans-48\"/>\n       <use x=\"127.246094\" xlink:href=\"#DejaVuSans-48\"/>\n      </g>\n     </g>\n    </g>\n    <g id=\"xtick_6\">\n     <g id=\"line2d_6\">\n      <g>\n       <use style=\"stroke:#000000;\" x=\"401.032269\" xlink:href=\"#mce83066cb7\" y=\"237.9345\"/>\n      </g>\n     </g>\n     <g id=\"text_6\">\n      <!-- 250 -->\n      <g transform=\"translate(392.633769 252.921125)scale(0.088 -0.088)\">\n       <use xlink:href=\"#DejaVuSans-50\"/>\n       <use x=\"63.623047\" xlink:href=\"#DejaVuSans-53\"/>\n       <use x=\"127.246094\" xlink:href=\"#DejaVuSans-48\"/>\n      </g>\n     </g>\n    </g>\n    <g id=\"xtick_7\">\n     <g id=\"line2d_7\">\n      <g>\n       <use style=\"stroke:#000000;\" x=\"468.894841\" xlink:href=\"#mce83066cb7\" y=\"237.9345\"/>\n      </g>\n     </g>\n     <g id=\"text_7\">\n      <!-- 300 -->\n      <g transform=\"translate(460.496341 252.921125)scale(0.088 -0.088)\">\n       <defs>\n        <path d=\"M 40.578125 39.3125 \nQ 47.65625 37.796875 51.625 33 \nQ 55.609375 28.21875 55.609375 21.1875 \nQ 55.609375 10.40625 48.1875 4.484375 \nQ 40.765625 -1.421875 27.09375 -1.421875 \nQ 22.515625 -1.421875 17.65625 -0.515625 \nQ 12.796875 0.390625 7.625 2.203125 \nL 7.625 11.71875 \nQ 11.71875 9.328125 16.59375 8.109375 \nQ 21.484375 6.890625 26.8125 6.890625 \nQ 36.078125 6.890625 40.9375 10.546875 \nQ 45.796875 14.203125 45.796875 21.1875 \nQ 45.796875 27.640625 41.28125 31.265625 \nQ 36.765625 34.90625 28.71875 34.90625 \nL 20.21875 34.90625 \nL 20.21875 43.015625 \nL 29.109375 43.015625 \nQ 36.375 43.015625 40.234375 45.921875 \nQ 44.09375 48.828125 44.09375 54.296875 \nQ 44.09375 59.90625 40.109375 62.90625 \nQ 36.140625 65.921875 28.71875 65.921875 \nQ 24.65625 65.921875 20.015625 65.03125 \nQ 15.375 64.15625 9.8125 62.3125 \nL 9.8125 71.09375 \nQ 15.4375 72.65625 20.34375 73.4375 \nQ 25.25 74.21875 29.59375 74.21875 \nQ 40.828125 74.21875 47.359375 69.109375 \nQ 53.90625 64.015625 53.90625 55.328125 \nQ 53.90625 49.265625 50.4375 45.09375 \nQ 46.96875 40.921875 40.578125 39.3125 \nz\n\" id=\"DejaVuSans-51\"/>\n       </defs>\n       <use xlink:href=\"#DejaVuSans-51\"/>\n       <use x=\"63.623047\" xlink:href=\"#DejaVuSans-48\"/>\n       <use x=\"127.246094\" xlink:href=\"#DejaVuSans-48\"/>\n      </g>\n     </g>\n    </g>\n    <g id=\"text_8\">\n     <!-- iteration -->\n     <g transform=\"translate(245.708 266.04575)scale(0.096 -0.096)\">\n      <defs>\n       <path d=\"M 9.421875 54.6875 \nL 18.40625 54.6875 \nL 18.40625 0 \nL 9.421875 0 \nz\nM 9.421875 75.984375 \nL 18.40625 75.984375 \nL 18.40625 64.59375 \nL 9.421875 64.59375 \nz\n\" id=\"DejaVuSans-105\"/>\n       <path d=\"M 18.3125 70.21875 \nL 18.3125 54.6875 \nL 36.8125 54.6875 \nL 36.8125 47.703125 \nL 18.3125 47.703125 \nL 18.3125 18.015625 \nQ 18.3125 11.328125 20.140625 9.421875 \nQ 21.96875 7.515625 27.59375 7.515625 \nL 36.8125 7.515625 \nL 36.8125 0 \nL 27.59375 0 \nQ 17.1875 0 13.234375 3.875 \nQ 9.28125 7.765625 9.28125 18.015625 \nL 9.28125 47.703125 \nL 2.6875 47.703125 \nL 2.6875 54.6875 \nL 9.28125 54.6875 \nL 9.28125 70.21875 \nz\n\" id=\"DejaVuSans-116\"/>\n       <path d=\"M 56.203125 29.59375 \nL 56.203125 25.203125 \nL 14.890625 25.203125 \nQ 15.484375 15.921875 20.484375 11.0625 \nQ 25.484375 6.203125 34.421875 6.203125 \nQ 39.59375 6.203125 44.453125 7.46875 \nQ 49.3125 8.734375 54.109375 11.28125 \nL 54.109375 2.78125 \nQ 49.265625 0.734375 44.1875 -0.34375 \nQ 39.109375 -1.421875 33.890625 -1.421875 \nQ 20.796875 -1.421875 13.15625 6.1875 \nQ 5.515625 13.8125 5.515625 26.8125 \nQ 5.515625 40.234375 12.765625 48.109375 \nQ 20.015625 56 32.328125 56 \nQ 43.359375 56 49.78125 48.890625 \nQ 56.203125 41.796875 56.203125 29.59375 \nz\nM 47.21875 32.234375 \nQ 47.125 39.59375 43.09375 43.984375 \nQ 39.0625 48.390625 32.421875 48.390625 \nQ 24.90625 48.390625 20.390625 44.140625 \nQ 15.875 39.890625 15.1875 32.171875 \nz\n\" id=\"DejaVuSans-101\"/>\n       <path d=\"M 41.109375 46.296875 \nQ 39.59375 47.171875 37.8125 47.578125 \nQ 36.03125 48 33.890625 48 \nQ 26.265625 48 22.1875 43.046875 \nQ 18.109375 38.09375 18.109375 28.8125 \nL 18.109375 0 \nL 9.078125 0 \nL 9.078125 54.6875 \nL 18.109375 54.6875 \nL 18.109375 46.1875 \nQ 20.953125 51.171875 25.484375 53.578125 \nQ 30.03125 56 36.53125 56 \nQ 37.453125 56 38.578125 55.875 \nQ 39.703125 55.765625 41.0625 55.515625 \nz\n\" id=\"DejaVuSans-114\"/>\n       <path d=\"M 34.28125 27.484375 \nQ 23.390625 27.484375 19.1875 25 \nQ 14.984375 22.515625 14.984375 16.5 \nQ 14.984375 11.71875 18.140625 8.90625 \nQ 21.296875 6.109375 26.703125 6.109375 \nQ 34.1875 6.109375 38.703125 11.40625 \nQ 43.21875 16.703125 43.21875 25.484375 \nL 43.21875 27.484375 \nz\nM 52.203125 31.203125 \nL 52.203125 0 \nL 43.21875 0 \nL 43.21875 8.296875 \nQ 40.140625 3.328125 35.546875 0.953125 \nQ 30.953125 -1.421875 24.3125 -1.421875 \nQ 15.921875 -1.421875 10.953125 3.296875 \nQ 6 8.015625 6 15.921875 \nQ 6 25.140625 12.171875 29.828125 \nQ 18.359375 34.515625 30.609375 34.515625 \nL 43.21875 34.515625 \nL 43.21875 35.40625 \nQ 43.21875 41.609375 39.140625 45 \nQ 35.0625 48.390625 27.6875 48.390625 \nQ 23 48.390625 18.546875 47.265625 \nQ 14.109375 46.140625 10.015625 43.890625 \nL 10.015625 52.203125 \nQ 14.9375 54.109375 19.578125 55.046875 \nQ 24.21875 56 28.609375 56 \nQ 40.484375 56 46.34375 49.84375 \nQ 52.203125 43.703125 52.203125 31.203125 \nz\n\" id=\"DejaVuSans-97\"/>\n       <path d=\"M 30.609375 48.390625 \nQ 23.390625 48.390625 19.1875 42.75 \nQ 14.984375 37.109375 14.984375 27.296875 \nQ 14.984375 17.484375 19.15625 11.84375 \nQ 23.34375 6.203125 30.609375 6.203125 \nQ 37.796875 6.203125 41.984375 11.859375 \nQ 46.1875 17.53125 46.1875 27.296875 \nQ 46.1875 37.015625 41.984375 42.703125 \nQ 37.796875 48.390625 30.609375 48.390625 \nz\nM 30.609375 56 \nQ 42.328125 56 49.015625 48.375 \nQ 55.71875 40.765625 55.71875 27.296875 \nQ 55.71875 13.875 49.015625 6.21875 \nQ 42.328125 -1.421875 30.609375 -1.421875 \nQ 18.84375 -1.421875 12.171875 6.21875 \nQ 5.515625 13.875 5.515625 27.296875 \nQ 5.515625 40.765625 12.171875 48.375 \nQ 18.84375 56 30.609375 56 \nz\n\" id=\"DejaVuSans-111\"/>\n       <path d=\"M 54.890625 33.015625 \nL 54.890625 0 \nL 45.90625 0 \nL 45.90625 32.71875 \nQ 45.90625 40.484375 42.875 44.328125 \nQ 39.84375 48.1875 33.796875 48.1875 \nQ 26.515625 48.1875 22.3125 43.546875 \nQ 18.109375 38.921875 18.109375 30.90625 \nL 18.109375 0 \nL 9.078125 0 \nL 9.078125 54.6875 \nL 18.109375 54.6875 \nL 18.109375 46.1875 \nQ 21.34375 51.125 25.703125 53.5625 \nQ 30.078125 56 35.796875 56 \nQ 45.21875 56 50.046875 50.171875 \nQ 54.890625 44.34375 54.890625 33.015625 \nz\n\" id=\"DejaVuSans-110\"/>\n      </defs>\n      <use xlink:href=\"#DejaVuSans-105\"/>\n      <use x=\"27.783203\" xlink:href=\"#DejaVuSans-116\"/>\n      <use x=\"66.992188\" xlink:href=\"#DejaVuSans-101\"/>\n      <use x=\"128.515625\" xlink:href=\"#DejaVuSans-114\"/>\n      <use x=\"169.628906\" xlink:href=\"#DejaVuSans-97\"/>\n      <use x=\"230.908203\" xlink:href=\"#DejaVuSans-116\"/>\n      <use x=\"270.117188\" xlink:href=\"#DejaVuSans-105\"/>\n      <use x=\"297.900391\" xlink:href=\"#DejaVuSans-111\"/>\n      <use x=\"359.082031\" xlink:href=\"#DejaVuSans-110\"/>\n     </g>\n    </g>\n   </g>\n   <g id=\"matplotlib.axis_2\">\n    <g id=\"ytick_1\">\n     <g id=\"line2d_8\">\n      <defs>\n       <path d=\"M 0 0 \nL -4.8 0 \n\" id=\"me41f6cdd48\" style=\"stroke:#000000;\"/>\n      </defs>\n      <g>\n       <use style=\"stroke:#000000;\" x=\"42.78575\" xlink:href=\"#me41f6cdd48\" y=\"199.699236\"/>\n      </g>\n     </g>\n     <g id=\"text_9\">\n      <!-- 0.5 -->\n      <g transform=\"translate(20.491 203.042548)scale(0.088 -0.088)\">\n       <defs>\n        <path d=\"M 10.6875 12.40625 \nL 21 12.40625 \nL 21 0 \nL 10.6875 0 \nz\n\" id=\"DejaVuSans-46\"/>\n       </defs>\n       <use xlink:href=\"#DejaVuSans-48\"/>\n       <use x=\"63.623047\" xlink:href=\"#DejaVuSans-46\"/>\n       <use x=\"95.410156\" xlink:href=\"#DejaVuSans-53\"/>\n      </g>\n     </g>\n    </g>\n    <g id=\"ytick_2\">\n     <g id=\"line2d_9\">\n      <g>\n       <use style=\"stroke:#000000;\" x=\"42.78575\" xlink:href=\"#me41f6cdd48\" y=\"160.139181\"/>\n      </g>\n     </g>\n     <g id=\"text_10\">\n      <!-- 1.0 -->\n      <g transform=\"translate(20.491 163.482494)scale(0.088 -0.088)\">\n       <use xlink:href=\"#DejaVuSans-49\"/>\n       <use x=\"63.623047\" xlink:href=\"#DejaVuSans-46\"/>\n       <use x=\"95.410156\" xlink:href=\"#DejaVuSans-48\"/>\n      </g>\n     </g>\n    </g>\n    <g id=\"ytick_3\">\n     <g id=\"line2d_10\">\n      <g>\n       <use style=\"stroke:#000000;\" x=\"42.78575\" xlink:href=\"#me41f6cdd48\" y=\"120.579127\"/>\n      </g>\n     </g>\n     <g id=\"text_11\">\n      <!-- 1.5 -->\n      <g transform=\"translate(20.491 123.92244)scale(0.088 -0.088)\">\n       <use xlink:href=\"#DejaVuSans-49\"/>\n       <use x=\"63.623047\" xlink:href=\"#DejaVuSans-46\"/>\n       <use x=\"95.410156\" xlink:href=\"#DejaVuSans-53\"/>\n      </g>\n     </g>\n    </g>\n    <g id=\"ytick_4\">\n     <g id=\"line2d_11\">\n      <g>\n       <use style=\"stroke:#000000;\" x=\"42.78575\" xlink:href=\"#me41f6cdd48\" y=\"81.019073\"/>\n      </g>\n     </g>\n     <g id=\"text_12\">\n      <!-- 2.0 -->\n      <g transform=\"translate(20.491 84.362385)scale(0.088 -0.088)\">\n       <use xlink:href=\"#DejaVuSans-50\"/>\n       <use x=\"63.623047\" xlink:href=\"#DejaVuSans-46\"/>\n       <use x=\"95.410156\" xlink:href=\"#DejaVuSans-48\"/>\n      </g>\n     </g>\n    </g>\n    <g id=\"ytick_5\">\n     <g id=\"line2d_12\">\n      <g>\n       <use style=\"stroke:#000000;\" x=\"42.78575\" xlink:href=\"#me41f6cdd48\" y=\"41.459018\"/>\n      </g>\n     </g>\n     <g id=\"text_13\">\n      <!-- 2.5 -->\n      <g transform=\"translate(20.491 44.802331)scale(0.088 -0.088)\">\n       <use xlink:href=\"#DejaVuSans-50\"/>\n       <use x=\"63.623047\" xlink:href=\"#DejaVuSans-46\"/>\n       <use x=\"95.410156\" xlink:href=\"#DejaVuSans-53\"/>\n      </g>\n     </g>\n    </g>\n    <g id=\"text_14\">\n     <!-- Cost function -->\n     <g transform=\"translate(14.4945 161.01825)rotate(-90)scale(0.096 -0.096)\">\n      <defs>\n       <path d=\"M 64.40625 67.28125 \nL 64.40625 56.890625 \nQ 59.421875 61.53125 53.78125 63.8125 \nQ 48.140625 66.109375 41.796875 66.109375 \nQ 29.296875 66.109375 22.65625 58.46875 \nQ 16.015625 50.828125 16.015625 36.375 \nQ 16.015625 21.96875 22.65625 14.328125 \nQ 29.296875 6.6875 41.796875 6.6875 \nQ 48.140625 6.6875 53.78125 8.984375 \nQ 59.421875 11.28125 64.40625 15.921875 \nL 64.40625 5.609375 \nQ 59.234375 2.09375 53.4375 0.328125 \nQ 47.65625 -1.421875 41.21875 -1.421875 \nQ 24.65625 -1.421875 15.125 8.703125 \nQ 5.609375 18.84375 5.609375 36.375 \nQ 5.609375 53.953125 15.125 64.078125 \nQ 24.65625 74.21875 41.21875 74.21875 \nQ 47.75 74.21875 53.53125 72.484375 \nQ 59.328125 70.75 64.40625 67.28125 \nz\n\" id=\"DejaVuSans-67\"/>\n       <path d=\"M 44.28125 53.078125 \nL 44.28125 44.578125 \nQ 40.484375 46.53125 36.375 47.5 \nQ 32.28125 48.484375 27.875 48.484375 \nQ 21.1875 48.484375 17.84375 46.4375 \nQ 14.5 44.390625 14.5 40.28125 \nQ 14.5 37.15625 16.890625 35.375 \nQ 19.28125 33.59375 26.515625 31.984375 \nL 29.59375 31.296875 \nQ 39.15625 29.25 43.1875 25.515625 \nQ 47.21875 21.78125 47.21875 15.09375 \nQ 47.21875 7.46875 41.1875 3.015625 \nQ 35.15625 -1.421875 24.609375 -1.421875 \nQ 20.21875 -1.421875 15.453125 -0.5625 \nQ 10.6875 0.296875 5.421875 2 \nL 5.421875 11.28125 \nQ 10.40625 8.6875 15.234375 7.390625 \nQ 20.0625 6.109375 24.8125 6.109375 \nQ 31.15625 6.109375 34.5625 8.28125 \nQ 37.984375 10.453125 37.984375 14.40625 \nQ 37.984375 18.0625 35.515625 20.015625 \nQ 33.0625 21.96875 24.703125 23.78125 \nL 21.578125 24.515625 \nQ 13.234375 26.265625 9.515625 29.90625 \nQ 5.8125 33.546875 5.8125 39.890625 \nQ 5.8125 47.609375 11.28125 51.796875 \nQ 16.75 56 26.8125 56 \nQ 31.78125 56 36.171875 55.265625 \nQ 40.578125 54.546875 44.28125 53.078125 \nz\n\" id=\"DejaVuSans-115\"/>\n       <path id=\"DejaVuSans-32\"/>\n       <path d=\"M 37.109375 75.984375 \nL 37.109375 68.5 \nL 28.515625 68.5 \nQ 23.6875 68.5 21.796875 66.546875 \nQ 19.921875 64.59375 19.921875 59.515625 \nL 19.921875 54.6875 \nL 34.71875 54.6875 \nL 34.71875 47.703125 \nL 19.921875 47.703125 \nL 19.921875 0 \nL 10.890625 0 \nL 10.890625 47.703125 \nL 2.296875 47.703125 \nL 2.296875 54.6875 \nL 10.890625 54.6875 \nL 10.890625 58.5 \nQ 10.890625 67.625 15.140625 71.796875 \nQ 19.390625 75.984375 28.609375 75.984375 \nz\n\" id=\"DejaVuSans-102\"/>\n       <path d=\"M 8.5 21.578125 \nL 8.5 54.6875 \nL 17.484375 54.6875 \nL 17.484375 21.921875 \nQ 17.484375 14.15625 20.5 10.265625 \nQ 23.53125 6.390625 29.59375 6.390625 \nQ 36.859375 6.390625 41.078125 11.03125 \nQ 45.3125 15.671875 45.3125 23.6875 \nL 45.3125 54.6875 \nL 54.296875 54.6875 \nL 54.296875 0 \nL 45.3125 0 \nL 45.3125 8.40625 \nQ 42.046875 3.421875 37.71875 1 \nQ 33.40625 -1.421875 27.6875 -1.421875 \nQ 18.265625 -1.421875 13.375 4.4375 \nQ 8.5 10.296875 8.5 21.578125 \nz\nM 31.109375 56 \nz\n\" id=\"DejaVuSans-117\"/>\n       <path d=\"M 48.78125 52.59375 \nL 48.78125 44.1875 \nQ 44.96875 46.296875 41.140625 47.34375 \nQ 37.3125 48.390625 33.40625 48.390625 \nQ 24.65625 48.390625 19.8125 42.84375 \nQ 14.984375 37.3125 14.984375 27.296875 \nQ 14.984375 17.28125 19.8125 11.734375 \nQ 24.65625 6.203125 33.40625 6.203125 \nQ 37.3125 6.203125 41.140625 7.25 \nQ 44.96875 8.296875 48.78125 10.40625 \nL 48.78125 2.09375 \nQ 45.015625 0.34375 40.984375 -0.53125 \nQ 36.96875 -1.421875 32.421875 -1.421875 \nQ 20.0625 -1.421875 12.78125 6.34375 \nQ 5.515625 14.109375 5.515625 27.296875 \nQ 5.515625 40.671875 12.859375 48.328125 \nQ 20.21875 56 33.015625 56 \nQ 37.15625 56 41.109375 55.140625 \nQ 45.0625 54.296875 48.78125 52.59375 \nz\n\" id=\"DejaVuSans-99\"/>\n      </defs>\n      <use xlink:href=\"#DejaVuSans-67\"/>\n      <use x=\"69.824219\" xlink:href=\"#DejaVuSans-111\"/>\n      <use x=\"131.005859\" xlink:href=\"#DejaVuSans-115\"/>\n      <use x=\"183.105469\" xlink:href=\"#DejaVuSans-116\"/>\n      <use x=\"222.314453\" xlink:href=\"#DejaVuSans-32\"/>\n      <use x=\"254.101562\" xlink:href=\"#DejaVuSans-102\"/>\n      <use x=\"289.306641\" xlink:href=\"#DejaVuSans-117\"/>\n      <use x=\"352.685547\" xlink:href=\"#DejaVuSans-110\"/>\n      <use x=\"416.064453\" xlink:href=\"#DejaVuSans-99\"/>\n      <use x=\"471.044922\" xlink:href=\"#DejaVuSans-116\"/>\n      <use x=\"510.253906\" xlink:href=\"#DejaVuSans-105\"/>\n      <use x=\"538.037109\" xlink:href=\"#DejaVuSans-111\"/>\n      <use x=\"599.21875\" xlink:href=\"#DejaVuSans-110\"/>\n     </g>\n    </g>\n   </g>\n   <g id=\"line2d_13\">\n    <path clip-path=\"url(#p2c3a15ed51)\" d=\"M 63.076659 30.378136 \nL 65.791162 38.338272 \nL 69.862916 49.059971 \nL 99.722448 125.185057 \nL 103.794202 134.659796 \nL 107.865957 143.448353 \nL 110.58046 148.891982 \nL 113.294963 153.99451 \nL 116.009465 158.757908 \nL 118.723968 163.19059 \nL 121.438471 167.305703 \nL 124.152974 171.119595 \nL 126.867477 174.650537 \nL 129.58198 177.917699 \nL 132.296483 180.940366 \nL 136.368237 185.056941 \nL 140.439991 188.72551 \nL 144.511746 192.000431 \nL 148.5835 194.930044 \nL 152.655254 197.556822 \nL 156.727009 199.917827 \nL 160.798763 202.04529 \nL 164.870517 203.967192 \nL 170.299523 206.251482 \nL 175.728529 208.262083 \nL 181.157535 210.039604 \nL 187.943792 211.984641 \nL 194.730049 213.67177 \nL 201.516306 215.144154 \nL 209.659815 216.675968 \nL 217.803324 217.9959 \nL 227.304084 219.317318 \nL 238.162095 220.594542 \nL 250.377358 221.795124 \nL 263.949873 222.898374 \nL 278.879639 223.892941 \nL 296.523907 224.839561 \nL 316.882679 225.695992 \nL 339.955954 226.434797 \nL 367.100983 227.066031 \nL 398.317766 227.553787 \nL 434.963555 227.890879 \nL 468.894841 228.050864 \nL 468.894841 228.050864 \n\" style=\"fill:none;stroke:#1f77b4;stroke-linecap:square;stroke-width:1.2;\"/>\n   </g>\n   <g id=\"patch_3\">\n    <path d=\"M 42.78575 237.9345 \nL 42.78575 20.4945 \n\" style=\"fill:none;stroke:#000000;stroke-linecap:square;stroke-linejoin:miter;\"/>\n   </g>\n   <g id=\"patch_4\">\n    <path d=\"M 489.18575 237.9345 \nL 489.18575 20.4945 \n\" style=\"fill:none;stroke:#000000;stroke-linecap:square;stroke-linejoin:miter;\"/>\n   </g>\n   <g id=\"patch_5\">\n    <path d=\"M 42.78575 237.9345 \nL 489.18575 237.9345 \n\" style=\"fill:none;stroke:#000000;stroke-linecap:square;stroke-linejoin:miter;\"/>\n   </g>\n   <g id=\"patch_6\">\n    <path d=\"M 42.78575 20.4945 \nL 489.18575 20.4945 \n\" style=\"fill:none;stroke:#000000;stroke-linecap:square;stroke-linejoin:miter;\"/>\n   </g>\n   <g id=\"text_15\">\n    <!-- cost over time -->\n    <g transform=\"translate(231.42725 14.4945)scale(0.096 -0.096)\">\n     <defs>\n      <path d=\"M 2.984375 54.6875 \nL 12.5 54.6875 \nL 29.59375 8.796875 \nL 46.6875 54.6875 \nL 56.203125 54.6875 \nL 35.6875 0 \nL 23.484375 0 \nz\n\" id=\"DejaVuSans-118\"/>\n      <path d=\"M 52 44.1875 \nQ 55.375 50.25 60.0625 53.125 \nQ 64.75 56 71.09375 56 \nQ 79.640625 56 84.28125 50.015625 \nQ 88.921875 44.046875 88.921875 33.015625 \nL 88.921875 0 \nL 79.890625 0 \nL 79.890625 32.71875 \nQ 79.890625 40.578125 77.09375 44.375 \nQ 74.3125 48.1875 68.609375 48.1875 \nQ 61.625 48.1875 57.5625 43.546875 \nQ 53.515625 38.921875 53.515625 30.90625 \nL 53.515625 0 \nL 44.484375 0 \nL 44.484375 32.71875 \nQ 44.484375 40.625 41.703125 44.40625 \nQ 38.921875 48.1875 33.109375 48.1875 \nQ 26.21875 48.1875 22.15625 43.53125 \nQ 18.109375 38.875 18.109375 30.90625 \nL 18.109375 0 \nL 9.078125 0 \nL 9.078125 54.6875 \nL 18.109375 54.6875 \nL 18.109375 46.1875 \nQ 21.1875 51.21875 25.484375 53.609375 \nQ 29.78125 56 35.6875 56 \nQ 41.65625 56 45.828125 52.96875 \nQ 50 49.953125 52 44.1875 \nz\n\" id=\"DejaVuSans-109\"/>\n     </defs>\n     <use xlink:href=\"#DejaVuSans-99\"/>\n     <use x=\"54.980469\" xlink:href=\"#DejaVuSans-111\"/>\n     <use x=\"116.162109\" xlink:href=\"#DejaVuSans-115\"/>\n     <use x=\"168.261719\" xlink:href=\"#DejaVuSans-116\"/>\n     <use x=\"207.470703\" xlink:href=\"#DejaVuSans-32\"/>\n     <use x=\"239.257812\" xlink:href=\"#DejaVuSans-111\"/>\n     <use x=\"300.439453\" xlink:href=\"#DejaVuSans-118\"/>\n     <use x=\"359.619141\" xlink:href=\"#DejaVuSans-101\"/>\n     <use x=\"421.142578\" xlink:href=\"#DejaVuSans-114\"/>\n     <use x=\"462.255859\" xlink:href=\"#DejaVuSans-32\"/>\n     <use x=\"494.042969\" xlink:href=\"#DejaVuSans-116\"/>\n     <use x=\"533.251953\" xlink:href=\"#DejaVuSans-105\"/>\n     <use x=\"561.035156\" xlink:href=\"#DejaVuSans-109\"/>\n     <use x=\"658.447266\" xlink:href=\"#DejaVuSans-101\"/>\n    </g>\n   </g>\n  </g>\n </g>\n <defs>\n  <clipPath id=\"p2c3a15ed51\">\n   <rect height=\"217.44\" width=\"446.4\" x=\"42.78575\" y=\"20.4945\"/>\n  </clipPath>\n </defs>\n</svg>\n",
      "image/png": "[encoded data removed]"
     },
     "metadata": {
      "needs_background": "light"
     }
    }
   ],
   "source": [
    "def plot_cost_over_time(cost_list, iterations):\n",
    "    sns.set_context('paper')\n",
    "    fig = plt.figure(figsize=(8,4))\n",
    "    ax = sns.lineplot(np.linspace(1,iterations,iterations),cost_list)\n",
    "    ax.set_title('cost over time')\n",
    "    ax.set_ylabel('Cost function')\n",
    "    ax.set_xlabel('iteration')\n",
    "    plt.show()\n",
    "\n",
    "plot_cost_over_time(cost_softmax_binary, iterations_SM)"
   ]
  },
  {
   "source": [
    "Alright, does it predict things correctly?"
   ],
   "cell_type": "markdown",
   "metadata": {}
  },
  {
   "cell_type": "code",
   "execution_count": 668,
   "metadata": {},
   "outputs": [
    {
     "output_type": "execute_result",
     "data": {
      "text/plain": [
       "      0         1         2         3         4         5         6      \\\n",
       "0  0.996416  0.016527  0.015603  0.188581  0.004322  0.240488  0.024664   \n",
       "1  0.003584  0.983473  0.984397  0.811419  0.995678  0.759512  0.975336   \n",
       "\n",
       "     7         8         9      ...     12655     12656     12657     12658  \\\n",
       "0  0.39057  0.124141  0.991152  ...  0.700934  0.997093  0.004857  0.018948   \n",
       "1  0.60943  0.875859  0.008848  ...  0.299066  0.002907  0.995143  0.981052   \n",
       "\n",
       "      12659     12660     12661     12662     12663     12664  \n",
       "0  0.055874  0.999089  0.007634  0.008252  0.998145  0.001177  \n",
       "1  0.944126  0.000911  0.992366  0.991748  0.001855  0.998823  \n",
       "\n",
       "[2 rows x 12665 columns]"
      ],
      "text/html": "<div>\n<style scoped>\n    .dataframe tbody tr th:only-of-type {\n        vertical-align: middle;\n    }\n\n    .dataframe tbody tr th {\n        vertical-align: top;\n    }\n\n    .dataframe thead th {\n        text-align: right;\n    }\n</style>\n<table border=\"1\" class=\"dataframe\">\n  <thead>\n    <tr style=\"text-align: right;\">\n      <th></th>\n      <th>0</th>\n      <th>1</th>\n      <th>2</th>\n      <th>3</th>\n      <th>4</th>\n      <th>5</th>\n      <th>6</th>\n      <th>7</th>\n      <th>8</th>\n      <th>9</th>\n      <th>...</th>\n      <th>12655</th>\n      <th>12656</th>\n      <th>12657</th>\n      <th>12658</th>\n      <th>12659</th>\n      <th>12660</th>\n      <th>12661</th>\n      <th>12662</th>\n      <th>12663</th>\n      <th>12664</th>\n    </tr>\n  </thead>\n  <tbody>\n    <tr>\n      <th>0</th>\n      <td>0.996416</td>\n      <td>0.016527</td>\n      <td>0.015603</td>\n      <td>0.188581</td>\n      <td>0.004322</td>\n      <td>0.240488</td>\n      <td>0.024664</td>\n      <td>0.39057</td>\n      <td>0.124141</td>\n      <td>0.991152</td>\n      <td>...</td>\n      <td>0.700934</td>\n      <td>0.997093</td>\n      <td>0.004857</td>\n      <td>0.018948</td>\n      <td>0.055874</td>\n      <td>0.999089</td>\n      <td>0.007634</td>\n      <td>0.008252</td>\n      <td>0.998145</td>\n      <td>0.001177</td>\n    </tr>\n    <tr>\n      <th>1</th>\n      <td>0.003584</td>\n      <td>0.983473</td>\n      <td>0.984397</td>\n      <td>0.811419</td>\n      <td>0.995678</td>\n      <td>0.759512</td>\n      <td>0.975336</td>\n      <td>0.60943</td>\n      <td>0.875859</td>\n      <td>0.008848</td>\n      <td>...</td>\n      <td>0.299066</td>\n      <td>0.002907</td>\n      <td>0.995143</td>\n      <td>0.981052</td>\n      <td>0.944126</td>\n      <td>0.000911</td>\n      <td>0.992366</td>\n      <td>0.991748</td>\n      <td>0.001855</td>\n      <td>0.998823</td>\n    </tr>\n  </tbody>\n</table>\n<p>2 rows × 12665 columns</p>\n</div>"
     },
     "metadata": {},
     "execution_count": 668
    }
   ],
   "source": [
    "pd.DataFrame(dict_of_FP_values_softmax_binary['A3'])"
   ]
  },
  {
   "cell_type": "code",
   "execution_count": 683,
   "metadata": {},
   "outputs": [
    {
     "output_type": "stream",
     "name": "stdout",
     "text": [
      "correct: 4581\nincorrect: 8084\n"
     ]
    }
   ],
   "source": [
    "def softmax_predictions(dict_of_FP_values_softmax, y_train_pre_hot):\n",
    "    predictions_softmax = dict_of_FP_values_softmax['A3'].T\n",
    "    list_of_predictions = []\n",
    "    for row in predictions_softmax:\n",
    "        max = np.amax(row)\n",
    "        for idx,col in enumerate(row):\n",
    "            if col == max:\n",
    "                list_of_predictions.append(idx)\n",
    "                break\n",
    "\n",
    "    #ok so we need now to compare the list of predcitions to the y values.list_of_prediction\n",
    "    correct = 0\n",
    "    incorrect = 0\n",
    "    for prediction, true in zip(list_of_predictions,y_train_pre_hot[0]):\n",
    "        if prediction == true:\n",
    "            correct +=1\n",
    "        else:\n",
    "            incorrect +=1 \n",
    "\n",
    "    print(f'correct: {correct}\\nincorrect: {incorrect}')\n",
    "softmax_predictions(dict_of_FP_values_softmax_binary, y_train_binary)"
   ]
  },
  {
   "source": [
    "Now trying with three classes\n"
   ],
   "cell_type": "markdown",
   "metadata": {}
  },
  {
   "cell_type": "code",
   "execution_count": 691,
   "metadata": {},
   "outputs": [
    {
     "output_type": "stream",
     "name": "stdout",
     "text": [
      "[1, 0, 2]\n",
      "(784, 18623)\n",
      "Weights matrices\n",
      "W1 (80, 784)\n",
      "B1 (80, 1)\n",
      "W2 (80, 80)\n",
      "B2 (80, 1)\n",
      "W3 (3, 80)\n",
      "B3 (3, 1)\n",
      "iteration: 0\n",
      "cost: 10.916867459982758\n",
      "iteration: 100\n",
      "cost: 1.596896074849333\n",
      "iteration: 200\n",
      "cost: 1.1954666847042974\n",
      "iteration: 300\n",
      "cost: 1.0107164525473151\n",
      "iteration: 400\n",
      "cost: 0.9030669056311865\n",
      "iteration: 500\n",
      "cost: 0.7773280747690606\n",
      "iteration: 600\n",
      "cost: 0.6869191754761516\n",
      "iteration: 700\n",
      "cost: 0.6215460826923921\n",
      "iteration: 800\n",
      "cost: 0.5494349138379001\n",
      "iteration: 900\n",
      "cost: 0.4946697477276433\n",
      "correct: 15305\n",
      "incorrect: 3318\n",
      "/Users/jacoblourie/opt/anaconda3/lib/python3.8/site-packages/seaborn/_decorators.py:36: FutureWarning: Pass the following variables as keyword args: x, y. From version 0.12, the only valid positional argument will be `data`, and passing other arguments without an explicit keyword will result in an error or misinterpretation.\n",
      "  warnings.warn(\n"
     ]
    },
    {
     "output_type": "display_data",
     "data": {
      "text/plain": "<Figure size 576x288 with 1 Axes>",
      "image/svg+xml": "<?xml version=\"1.0\" encoding=\"utf-8\" standalone=\"no\"?>\n<!DOCTYPE svg PUBLIC \"-//W3C//DTD SVG 1.1//EN\"\n  \"http://www.w3.org/Graphics/SVG/1.1/DTD/svg11.dtd\">\n<!-- Created with matplotlib (https://matplotlib.org/) -->\n<svg height=\"275.24225pt\" version=\"1.1\" viewBox=\"0 0 493.589 275.24225\" width=\"493.589pt\" xmlns=\"http://www.w3.org/2000/svg\" xmlns:xlink=\"http://www.w3.org/1999/xlink\">\n <metadata>\n  <rdf:RDF xmlns:cc=\"http://creativecommons.org/ns#\" xmlns:dc=\"http://purl.org/dc/elements/1.1/\" xmlns:rdf=\"http://www.w3.org/1999/02/22-rdf-syntax-ns#\">\n   <cc:Work>\n    <dc:type rdf:resource=\"http://purl.org/dc/dcmitype/StillImage\"/>\n    <dc:date>2021-05-05T22:34:43.461762</dc:date>\n    <dc:format>image/svg+xml</dc:format>\n    <dc:creator>\n     <cc:Agent>\n      <dc:title>Matplotlib v3.3.2, https://matplotlib.org/</dc:title>\n     </cc:Agent>\n    </dc:creator>\n   </cc:Work>\n  </rdf:RDF>\n </metadata>\n <defs>\n  <style type=\"text/css\">*{stroke-linecap:butt;stroke-linejoin:round;}</style>\n </defs>\n <g id=\"figure_1\">\n  <g id=\"patch_1\">\n   <path d=\"M 0 275.24225 \nL 493.589 275.24225 \nL 493.589 0 \nL 0 0 \nz\n\" style=\"fill:none;\"/>\n  </g>\n  <g id=\"axes_1\">\n   <g id=\"patch_2\">\n    <path d=\"M 39.989 237.9345 \nL 486.389 237.9345 \nL 486.389 20.4945 \nL 39.989 20.4945 \nz\n\" style=\"fill:#ffffff;\"/>\n   </g>\n   <g id=\"matplotlib.axis_1\">\n    <g id=\"xtick_1\">\n     <g id=\"line2d_1\">\n      <defs>\n       <path d=\"M 0 0 \nL 0 4.8 \n\" id=\"m43bed58a83\" style=\"stroke:#000000;\"/>\n      </defs>\n      <g>\n       <use style=\"stroke:#000000;\" x=\"59.873685\" xlink:href=\"#m43bed58a83\" y=\"237.9345\"/>\n      </g>\n     </g>\n     <g id=\"text_1\">\n      <!-- 0 -->\n      <g transform=\"translate(57.074185 252.921125)scale(0.088 -0.088)\">\n       <defs>\n        <path d=\"M 31.78125 66.40625 \nQ 24.171875 66.40625 20.328125 58.90625 \nQ 16.5 51.421875 16.5 36.375 \nQ 16.5 21.390625 20.328125 13.890625 \nQ 24.171875 6.390625 31.78125 6.390625 \nQ 39.453125 6.390625 43.28125 13.890625 \nQ 47.125 21.390625 47.125 36.375 \nQ 47.125 51.421875 43.28125 58.90625 \nQ 39.453125 66.40625 31.78125 66.40625 \nz\nM 31.78125 74.21875 \nQ 44.046875 74.21875 50.515625 64.515625 \nQ 56.984375 54.828125 56.984375 36.375 \nQ 56.984375 17.96875 50.515625 8.265625 \nQ 44.046875 -1.421875 31.78125 -1.421875 \nQ 19.53125 -1.421875 13.0625 8.265625 \nQ 6.59375 17.96875 6.59375 36.375 \nQ 6.59375 54.828125 13.0625 64.515625 \nQ 19.53125 74.21875 31.78125 74.21875 \nz\n\" id=\"DejaVuSans-48\"/>\n       </defs>\n       <use xlink:href=\"#DejaVuSans-48\"/>\n      </g>\n     </g>\n    </g>\n    <g id=\"xtick_2\">\n     <g id=\"line2d_2\">\n      <g>\n       <use style=\"stroke:#000000;\" x=\"141.118566\" xlink:href=\"#m43bed58a83\" y=\"237.9345\"/>\n      </g>\n     </g>\n     <g id=\"text_2\">\n      <!-- 200 -->\n      <g transform=\"translate(132.720066 252.921125)scale(0.088 -0.088)\">\n       <defs>\n        <path d=\"M 19.1875 8.296875 \nL 53.609375 8.296875 \nL 53.609375 0 \nL 7.328125 0 \nL 7.328125 8.296875 \nQ 12.9375 14.109375 22.625 23.890625 \nQ 32.328125 33.6875 34.8125 36.53125 \nQ 39.546875 41.84375 41.421875 45.53125 \nQ 43.3125 49.21875 43.3125 52.78125 \nQ 43.3125 58.59375 39.234375 62.25 \nQ 35.15625 65.921875 28.609375 65.921875 \nQ 23.96875 65.921875 18.8125 64.3125 \nQ 13.671875 62.703125 7.8125 59.421875 \nL 7.8125 69.390625 \nQ 13.765625 71.78125 18.9375 73 \nQ 24.125 74.21875 28.421875 74.21875 \nQ 39.75 74.21875 46.484375 68.546875 \nQ 53.21875 62.890625 53.21875 53.421875 \nQ 53.21875 48.921875 51.53125 44.890625 \nQ 49.859375 40.875 45.40625 35.40625 \nQ 44.1875 33.984375 37.640625 27.21875 \nQ 31.109375 20.453125 19.1875 8.296875 \nz\n\" id=\"DejaVuSans-50\"/>\n       </defs>\n       <use xlink:href=\"#DejaVuSans-50\"/>\n       <use x=\"63.623047\" xlink:href=\"#DejaVuSans-48\"/>\n       <use x=\"127.246094\" xlink:href=\"#DejaVuSans-48\"/>\n      </g>\n     </g>\n    </g>\n    <g id=\"xtick_3\">\n     <g id=\"line2d_3\">\n      <g>\n       <use style=\"stroke:#000000;\" x=\"222.363447\" xlink:href=\"#m43bed58a83\" y=\"237.9345\"/>\n      </g>\n     </g>\n     <g id=\"text_3\">\n      <!-- 400 -->\n      <g transform=\"translate(213.964947 252.921125)scale(0.088 -0.088)\">\n       <defs>\n        <path d=\"M 37.796875 64.3125 \nL 12.890625 25.390625 \nL 37.796875 25.390625 \nz\nM 35.203125 72.90625 \nL 47.609375 72.90625 \nL 47.609375 25.390625 \nL 58.015625 25.390625 \nL 58.015625 17.1875 \nL 47.609375 17.1875 \nL 47.609375 0 \nL 37.796875 0 \nL 37.796875 17.1875 \nL 4.890625 17.1875 \nL 4.890625 26.703125 \nz\n\" id=\"DejaVuSans-52\"/>\n       </defs>\n       <use xlink:href=\"#DejaVuSans-52\"/>\n       <use x=\"63.623047\" xlink:href=\"#DejaVuSans-48\"/>\n       <use x=\"127.246094\" xlink:href=\"#DejaVuSans-48\"/>\n      </g>\n     </g>\n    </g>\n    <g id=\"xtick_4\">\n     <g id=\"line2d_4\">\n      <g>\n       <use style=\"stroke:#000000;\" x=\"303.608328\" xlink:href=\"#m43bed58a83\" y=\"237.9345\"/>\n      </g>\n     </g>\n     <g id=\"text_4\">\n      <!-- 600 -->\n      <g transform=\"translate(295.209828 252.921125)scale(0.088 -0.088)\">\n       <defs>\n        <path d=\"M 33.015625 40.375 \nQ 26.375 40.375 22.484375 35.828125 \nQ 18.609375 31.296875 18.609375 23.390625 \nQ 18.609375 15.53125 22.484375 10.953125 \nQ 26.375 6.390625 33.015625 6.390625 \nQ 39.65625 6.390625 43.53125 10.953125 \nQ 47.40625 15.53125 47.40625 23.390625 \nQ 47.40625 31.296875 43.53125 35.828125 \nQ 39.65625 40.375 33.015625 40.375 \nz\nM 52.59375 71.296875 \nL 52.59375 62.3125 \nQ 48.875 64.0625 45.09375 64.984375 \nQ 41.3125 65.921875 37.59375 65.921875 \nQ 27.828125 65.921875 22.671875 59.328125 \nQ 17.53125 52.734375 16.796875 39.40625 \nQ 19.671875 43.65625 24.015625 45.921875 \nQ 28.375 48.1875 33.59375 48.1875 \nQ 44.578125 48.1875 50.953125 41.515625 \nQ 57.328125 34.859375 57.328125 23.390625 \nQ 57.328125 12.15625 50.6875 5.359375 \nQ 44.046875 -1.421875 33.015625 -1.421875 \nQ 20.359375 -1.421875 13.671875 8.265625 \nQ 6.984375 17.96875 6.984375 36.375 \nQ 6.984375 53.65625 15.1875 63.9375 \nQ 23.390625 74.21875 37.203125 74.21875 \nQ 40.921875 74.21875 44.703125 73.484375 \nQ 48.484375 72.75 52.59375 71.296875 \nz\n\" id=\"DejaVuSans-54\"/>\n       </defs>\n       <use xlink:href=\"#DejaVuSans-54\"/>\n       <use x=\"63.623047\" xlink:href=\"#DejaVuSans-48\"/>\n       <use x=\"127.246094\" xlink:href=\"#DejaVuSans-48\"/>\n      </g>\n     </g>\n    </g>\n    <g id=\"xtick_5\">\n     <g id=\"line2d_5\">\n      <g>\n       <use style=\"stroke:#000000;\" x=\"384.85321\" xlink:href=\"#m43bed58a83\" y=\"237.9345\"/>\n      </g>\n     </g>\n     <g id=\"text_5\">\n      <!-- 800 -->\n      <g transform=\"translate(376.45471 252.921125)scale(0.088 -0.088)\">\n       <defs>\n        <path d=\"M 31.78125 34.625 \nQ 24.75 34.625 20.71875 30.859375 \nQ 16.703125 27.09375 16.703125 20.515625 \nQ 16.703125 13.921875 20.71875 10.15625 \nQ 24.75 6.390625 31.78125 6.390625 \nQ 38.8125 6.390625 42.859375 10.171875 \nQ 46.921875 13.96875 46.921875 20.515625 \nQ 46.921875 27.09375 42.890625 30.859375 \nQ 38.875 34.625 31.78125 34.625 \nz\nM 21.921875 38.8125 \nQ 15.578125 40.375 12.03125 44.71875 \nQ 8.5 49.078125 8.5 55.328125 \nQ 8.5 64.0625 14.71875 69.140625 \nQ 20.953125 74.21875 31.78125 74.21875 \nQ 42.671875 74.21875 48.875 69.140625 \nQ 55.078125 64.0625 55.078125 55.328125 \nQ 55.078125 49.078125 51.53125 44.71875 \nQ 48 40.375 41.703125 38.8125 \nQ 48.828125 37.15625 52.796875 32.3125 \nQ 56.78125 27.484375 56.78125 20.515625 \nQ 56.78125 9.90625 50.3125 4.234375 \nQ 43.84375 -1.421875 31.78125 -1.421875 \nQ 19.734375 -1.421875 13.25 4.234375 \nQ 6.78125 9.90625 6.78125 20.515625 \nQ 6.78125 27.484375 10.78125 32.3125 \nQ 14.796875 37.15625 21.921875 38.8125 \nz\nM 18.3125 54.390625 \nQ 18.3125 48.734375 21.84375 45.5625 \nQ 25.390625 42.390625 31.78125 42.390625 \nQ 38.140625 42.390625 41.71875 45.5625 \nQ 45.3125 48.734375 45.3125 54.390625 \nQ 45.3125 60.0625 41.71875 63.234375 \nQ 38.140625 66.40625 31.78125 66.40625 \nQ 25.390625 66.40625 21.84375 63.234375 \nQ 18.3125 60.0625 18.3125 54.390625 \nz\n\" id=\"DejaVuSans-56\"/>\n       </defs>\n       <use xlink:href=\"#DejaVuSans-56\"/>\n       <use x=\"63.623047\" xlink:href=\"#DejaVuSans-48\"/>\n       <use x=\"127.246094\" xlink:href=\"#DejaVuSans-48\"/>\n      </g>\n     </g>\n    </g>\n    <g id=\"xtick_6\">\n     <g id=\"line2d_6\">\n      <g>\n       <use style=\"stroke:#000000;\" x=\"466.098091\" xlink:href=\"#m43bed58a83\" y=\"237.9345\"/>\n      </g>\n     </g>\n     <g id=\"text_6\">\n      <!-- 1000 -->\n      <g transform=\"translate(454.900091 252.921125)scale(0.088 -0.088)\">\n       <defs>\n        <path d=\"M 12.40625 8.296875 \nL 28.515625 8.296875 \nL 28.515625 63.921875 \nL 10.984375 60.40625 \nL 10.984375 69.390625 \nL 28.421875 72.90625 \nL 38.28125 72.90625 \nL 38.28125 8.296875 \nL 54.390625 8.296875 \nL 54.390625 0 \nL 12.40625 0 \nz\n\" id=\"DejaVuSans-49\"/>\n       </defs>\n       <use xlink:href=\"#DejaVuSans-49\"/>\n       <use x=\"63.623047\" xlink:href=\"#DejaVuSans-48\"/>\n       <use x=\"127.246094\" xlink:href=\"#DejaVuSans-48\"/>\n       <use x=\"190.869141\" xlink:href=\"#DejaVuSans-48\"/>\n      </g>\n     </g>\n    </g>\n    <g id=\"text_7\">\n     <!-- iteration -->\n     <g transform=\"translate(242.91125 266.04575)scale(0.096 -0.096)\">\n      <defs>\n       <path d=\"M 9.421875 54.6875 \nL 18.40625 54.6875 \nL 18.40625 0 \nL 9.421875 0 \nz\nM 9.421875 75.984375 \nL 18.40625 75.984375 \nL 18.40625 64.59375 \nL 9.421875 64.59375 \nz\n\" id=\"DejaVuSans-105\"/>\n       <path d=\"M 18.3125 70.21875 \nL 18.3125 54.6875 \nL 36.8125 54.6875 \nL 36.8125 47.703125 \nL 18.3125 47.703125 \nL 18.3125 18.015625 \nQ 18.3125 11.328125 20.140625 9.421875 \nQ 21.96875 7.515625 27.59375 7.515625 \nL 36.8125 7.515625 \nL 36.8125 0 \nL 27.59375 0 \nQ 17.1875 0 13.234375 3.875 \nQ 9.28125 7.765625 9.28125 18.015625 \nL 9.28125 47.703125 \nL 2.6875 47.703125 \nL 2.6875 54.6875 \nL 9.28125 54.6875 \nL 9.28125 70.21875 \nz\n\" id=\"DejaVuSans-116\"/>\n       <path d=\"M 56.203125 29.59375 \nL 56.203125 25.203125 \nL 14.890625 25.203125 \nQ 15.484375 15.921875 20.484375 11.0625 \nQ 25.484375 6.203125 34.421875 6.203125 \nQ 39.59375 6.203125 44.453125 7.46875 \nQ 49.3125 8.734375 54.109375 11.28125 \nL 54.109375 2.78125 \nQ 49.265625 0.734375 44.1875 -0.34375 \nQ 39.109375 -1.421875 33.890625 -1.421875 \nQ 20.796875 -1.421875 13.15625 6.1875 \nQ 5.515625 13.8125 5.515625 26.8125 \nQ 5.515625 40.234375 12.765625 48.109375 \nQ 20.015625 56 32.328125 56 \nQ 43.359375 56 49.78125 48.890625 \nQ 56.203125 41.796875 56.203125 29.59375 \nz\nM 47.21875 32.234375 \nQ 47.125 39.59375 43.09375 43.984375 \nQ 39.0625 48.390625 32.421875 48.390625 \nQ 24.90625 48.390625 20.390625 44.140625 \nQ 15.875 39.890625 15.1875 32.171875 \nz\n\" id=\"DejaVuSans-101\"/>\n       <path d=\"M 41.109375 46.296875 \nQ 39.59375 47.171875 37.8125 47.578125 \nQ 36.03125 48 33.890625 48 \nQ 26.265625 48 22.1875 43.046875 \nQ 18.109375 38.09375 18.109375 28.8125 \nL 18.109375 0 \nL 9.078125 0 \nL 9.078125 54.6875 \nL 18.109375 54.6875 \nL 18.109375 46.1875 \nQ 20.953125 51.171875 25.484375 53.578125 \nQ 30.03125 56 36.53125 56 \nQ 37.453125 56 38.578125 55.875 \nQ 39.703125 55.765625 41.0625 55.515625 \nz\n\" id=\"DejaVuSans-114\"/>\n       <path d=\"M 34.28125 27.484375 \nQ 23.390625 27.484375 19.1875 25 \nQ 14.984375 22.515625 14.984375 16.5 \nQ 14.984375 11.71875 18.140625 8.90625 \nQ 21.296875 6.109375 26.703125 6.109375 \nQ 34.1875 6.109375 38.703125 11.40625 \nQ 43.21875 16.703125 43.21875 25.484375 \nL 43.21875 27.484375 \nz\nM 52.203125 31.203125 \nL 52.203125 0 \nL 43.21875 0 \nL 43.21875 8.296875 \nQ 40.140625 3.328125 35.546875 0.953125 \nQ 30.953125 -1.421875 24.3125 -1.421875 \nQ 15.921875 -1.421875 10.953125 3.296875 \nQ 6 8.015625 6 15.921875 \nQ 6 25.140625 12.171875 29.828125 \nQ 18.359375 34.515625 30.609375 34.515625 \nL 43.21875 34.515625 \nL 43.21875 35.40625 \nQ 43.21875 41.609375 39.140625 45 \nQ 35.0625 48.390625 27.6875 48.390625 \nQ 23 48.390625 18.546875 47.265625 \nQ 14.109375 46.140625 10.015625 43.890625 \nL 10.015625 52.203125 \nQ 14.9375 54.109375 19.578125 55.046875 \nQ 24.21875 56 28.609375 56 \nQ 40.484375 56 46.34375 49.84375 \nQ 52.203125 43.703125 52.203125 31.203125 \nz\n\" id=\"DejaVuSans-97\"/>\n       <path d=\"M 30.609375 48.390625 \nQ 23.390625 48.390625 19.1875 42.75 \nQ 14.984375 37.109375 14.984375 27.296875 \nQ 14.984375 17.484375 19.15625 11.84375 \nQ 23.34375 6.203125 30.609375 6.203125 \nQ 37.796875 6.203125 41.984375 11.859375 \nQ 46.1875 17.53125 46.1875 27.296875 \nQ 46.1875 37.015625 41.984375 42.703125 \nQ 37.796875 48.390625 30.609375 48.390625 \nz\nM 30.609375 56 \nQ 42.328125 56 49.015625 48.375 \nQ 55.71875 40.765625 55.71875 27.296875 \nQ 55.71875 13.875 49.015625 6.21875 \nQ 42.328125 -1.421875 30.609375 -1.421875 \nQ 18.84375 -1.421875 12.171875 6.21875 \nQ 5.515625 13.875 5.515625 27.296875 \nQ 5.515625 40.765625 12.171875 48.375 \nQ 18.84375 56 30.609375 56 \nz\n\" id=\"DejaVuSans-111\"/>\n       <path d=\"M 54.890625 33.015625 \nL 54.890625 0 \nL 45.90625 0 \nL 45.90625 32.71875 \nQ 45.90625 40.484375 42.875 44.328125 \nQ 39.84375 48.1875 33.796875 48.1875 \nQ 26.515625 48.1875 22.3125 43.546875 \nQ 18.109375 38.921875 18.109375 30.90625 \nL 18.109375 0 \nL 9.078125 0 \nL 9.078125 54.6875 \nL 18.109375 54.6875 \nL 18.109375 46.1875 \nQ 21.34375 51.125 25.703125 53.5625 \nQ 30.078125 56 35.796875 56 \nQ 45.21875 56 50.046875 50.171875 \nQ 54.890625 44.34375 54.890625 33.015625 \nz\n\" id=\"DejaVuSans-110\"/>\n      </defs>\n      <use xlink:href=\"#DejaVuSans-105\"/>\n      <use x=\"27.783203\" xlink:href=\"#DejaVuSans-116\"/>\n      <use x=\"66.992188\" xlink:href=\"#DejaVuSans-101\"/>\n      <use x=\"128.515625\" xlink:href=\"#DejaVuSans-114\"/>\n      <use x=\"169.628906\" xlink:href=\"#DejaVuSans-97\"/>\n      <use x=\"230.908203\" xlink:href=\"#DejaVuSans-116\"/>\n      <use x=\"270.117188\" xlink:href=\"#DejaVuSans-105\"/>\n      <use x=\"297.900391\" xlink:href=\"#DejaVuSans-111\"/>\n      <use x=\"359.082031\" xlink:href=\"#DejaVuSans-110\"/>\n     </g>\n    </g>\n   </g>\n   <g id=\"matplotlib.axis_2\">\n    <g id=\"ytick_1\">\n     <g id=\"line2d_7\">\n      <defs>\n       <path d=\"M 0 0 \nL -4.8 0 \n\" id=\"mf5ec29a126\" style=\"stroke:#000000;\"/>\n      </defs>\n      <g>\n       <use style=\"stroke:#000000;\" x=\"39.989\" xlink:href=\"#mf5ec29a126\" y=\"236.670967\"/>\n      </g>\n     </g>\n     <g id=\"text_8\">\n      <!-- 0 -->\n      <g transform=\"translate(26.09 240.014279)scale(0.088 -0.088)\">\n       <use xlink:href=\"#DejaVuSans-48\"/>\n      </g>\n     </g>\n    </g>\n    <g id=\"ytick_2\">\n     <g id=\"line2d_8\">\n      <g>\n       <use style=\"stroke:#000000;\" x=\"39.989\" xlink:href=\"#mf5ec29a126\" y=\"198.877556\"/>\n      </g>\n     </g>\n     <g id=\"text_9\">\n      <!-- 2 -->\n      <g transform=\"translate(26.09 202.220868)scale(0.088 -0.088)\">\n       <use xlink:href=\"#DejaVuSans-50\"/>\n      </g>\n     </g>\n    </g>\n    <g id=\"ytick_3\">\n     <g id=\"line2d_9\">\n      <g>\n       <use style=\"stroke:#000000;\" x=\"39.989\" xlink:href=\"#mf5ec29a126\" y=\"161.084145\"/>\n      </g>\n     </g>\n     <g id=\"text_10\">\n      <!-- 4 -->\n      <g transform=\"translate(26.09 164.427457)scale(0.088 -0.088)\">\n       <use xlink:href=\"#DejaVuSans-52\"/>\n      </g>\n     </g>\n    </g>\n    <g id=\"ytick_4\">\n     <g id=\"line2d_10\">\n      <g>\n       <use style=\"stroke:#000000;\" x=\"39.989\" xlink:href=\"#mf5ec29a126\" y=\"123.290733\"/>\n      </g>\n     </g>\n     <g id=\"text_11\">\n      <!-- 6 -->\n      <g transform=\"translate(26.09 126.634046)scale(0.088 -0.088)\">\n       <use xlink:href=\"#DejaVuSans-54\"/>\n      </g>\n     </g>\n    </g>\n    <g id=\"ytick_5\">\n     <g id=\"line2d_11\">\n      <g>\n       <use style=\"stroke:#000000;\" x=\"39.989\" xlink:href=\"#mf5ec29a126\" y=\"85.497322\"/>\n      </g>\n     </g>\n     <g id=\"text_12\">\n      <!-- 8 -->\n      <g transform=\"translate(26.09 88.840635)scale(0.088 -0.088)\">\n       <use xlink:href=\"#DejaVuSans-56\"/>\n      </g>\n     </g>\n    </g>\n    <g id=\"ytick_6\">\n     <g id=\"line2d_12\">\n      <g>\n       <use style=\"stroke:#000000;\" x=\"39.989\" xlink:href=\"#mf5ec29a126\" y=\"47.703911\"/>\n      </g>\n     </g>\n     <g id=\"text_13\">\n      <!-- 10 -->\n      <g transform=\"translate(20.491 51.047223)scale(0.088 -0.088)\">\n       <use xlink:href=\"#DejaVuSans-49\"/>\n       <use x=\"63.623047\" xlink:href=\"#DejaVuSans-48\"/>\n      </g>\n     </g>\n    </g>\n    <g id=\"text_14\">\n     <!-- Cost function -->\n     <g transform=\"translate(14.4945 161.01825)rotate(-90)scale(0.096 -0.096)\">\n      <defs>\n       <path d=\"M 64.40625 67.28125 \nL 64.40625 56.890625 \nQ 59.421875 61.53125 53.78125 63.8125 \nQ 48.140625 66.109375 41.796875 66.109375 \nQ 29.296875 66.109375 22.65625 58.46875 \nQ 16.015625 50.828125 16.015625 36.375 \nQ 16.015625 21.96875 22.65625 14.328125 \nQ 29.296875 6.6875 41.796875 6.6875 \nQ 48.140625 6.6875 53.78125 8.984375 \nQ 59.421875 11.28125 64.40625 15.921875 \nL 64.40625 5.609375 \nQ 59.234375 2.09375 53.4375 0.328125 \nQ 47.65625 -1.421875 41.21875 -1.421875 \nQ 24.65625 -1.421875 15.125 8.703125 \nQ 5.609375 18.84375 5.609375 36.375 \nQ 5.609375 53.953125 15.125 64.078125 \nQ 24.65625 74.21875 41.21875 74.21875 \nQ 47.75 74.21875 53.53125 72.484375 \nQ 59.328125 70.75 64.40625 67.28125 \nz\n\" id=\"DejaVuSans-67\"/>\n       <path d=\"M 44.28125 53.078125 \nL 44.28125 44.578125 \nQ 40.484375 46.53125 36.375 47.5 \nQ 32.28125 48.484375 27.875 48.484375 \nQ 21.1875 48.484375 17.84375 46.4375 \nQ 14.5 44.390625 14.5 40.28125 \nQ 14.5 37.15625 16.890625 35.375 \nQ 19.28125 33.59375 26.515625 31.984375 \nL 29.59375 31.296875 \nQ 39.15625 29.25 43.1875 25.515625 \nQ 47.21875 21.78125 47.21875 15.09375 \nQ 47.21875 7.46875 41.1875 3.015625 \nQ 35.15625 -1.421875 24.609375 -1.421875 \nQ 20.21875 -1.421875 15.453125 -0.5625 \nQ 10.6875 0.296875 5.421875 2 \nL 5.421875 11.28125 \nQ 10.40625 8.6875 15.234375 7.390625 \nQ 20.0625 6.109375 24.8125 6.109375 \nQ 31.15625 6.109375 34.5625 8.28125 \nQ 37.984375 10.453125 37.984375 14.40625 \nQ 37.984375 18.0625 35.515625 20.015625 \nQ 33.0625 21.96875 24.703125 23.78125 \nL 21.578125 24.515625 \nQ 13.234375 26.265625 9.515625 29.90625 \nQ 5.8125 33.546875 5.8125 39.890625 \nQ 5.8125 47.609375 11.28125 51.796875 \nQ 16.75 56 26.8125 56 \nQ 31.78125 56 36.171875 55.265625 \nQ 40.578125 54.546875 44.28125 53.078125 \nz\n\" id=\"DejaVuSans-115\"/>\n       <path id=\"DejaVuSans-32\"/>\n       <path d=\"M 37.109375 75.984375 \nL 37.109375 68.5 \nL 28.515625 68.5 \nQ 23.6875 68.5 21.796875 66.546875 \nQ 19.921875 64.59375 19.921875 59.515625 \nL 19.921875 54.6875 \nL 34.71875 54.6875 \nL 34.71875 47.703125 \nL 19.921875 47.703125 \nL 19.921875 0 \nL 10.890625 0 \nL 10.890625 47.703125 \nL 2.296875 47.703125 \nL 2.296875 54.6875 \nL 10.890625 54.6875 \nL 10.890625 58.5 \nQ 10.890625 67.625 15.140625 71.796875 \nQ 19.390625 75.984375 28.609375 75.984375 \nz\n\" id=\"DejaVuSans-102\"/>\n       <path d=\"M 8.5 21.578125 \nL 8.5 54.6875 \nL 17.484375 54.6875 \nL 17.484375 21.921875 \nQ 17.484375 14.15625 20.5 10.265625 \nQ 23.53125 6.390625 29.59375 6.390625 \nQ 36.859375 6.390625 41.078125 11.03125 \nQ 45.3125 15.671875 45.3125 23.6875 \nL 45.3125 54.6875 \nL 54.296875 54.6875 \nL 54.296875 0 \nL 45.3125 0 \nL 45.3125 8.40625 \nQ 42.046875 3.421875 37.71875 1 \nQ 33.40625 -1.421875 27.6875 -1.421875 \nQ 18.265625 -1.421875 13.375 4.4375 \nQ 8.5 10.296875 8.5 21.578125 \nz\nM 31.109375 56 \nz\n\" id=\"DejaVuSans-117\"/>\n       <path d=\"M 48.78125 52.59375 \nL 48.78125 44.1875 \nQ 44.96875 46.296875 41.140625 47.34375 \nQ 37.3125 48.390625 33.40625 48.390625 \nQ 24.65625 48.390625 19.8125 42.84375 \nQ 14.984375 37.3125 14.984375 27.296875 \nQ 14.984375 17.28125 19.8125 11.734375 \nQ 24.65625 6.203125 33.40625 6.203125 \nQ 37.3125 6.203125 41.140625 7.25 \nQ 44.96875 8.296875 48.78125 10.40625 \nL 48.78125 2.09375 \nQ 45.015625 0.34375 40.984375 -0.53125 \nQ 36.96875 -1.421875 32.421875 -1.421875 \nQ 20.0625 -1.421875 12.78125 6.34375 \nQ 5.515625 14.109375 5.515625 27.296875 \nQ 5.515625 40.671875 12.859375 48.328125 \nQ 20.21875 56 33.015625 56 \nQ 37.15625 56 41.109375 55.140625 \nQ 45.0625 54.296875 48.78125 52.59375 \nz\n\" id=\"DejaVuSans-99\"/>\n      </defs>\n      <use xlink:href=\"#DejaVuSans-67\"/>\n      <use x=\"69.824219\" xlink:href=\"#DejaVuSans-111\"/>\n      <use x=\"131.005859\" xlink:href=\"#DejaVuSans-115\"/>\n      <use x=\"183.105469\" xlink:href=\"#DejaVuSans-116\"/>\n      <use x=\"222.314453\" xlink:href=\"#DejaVuSans-32\"/>\n      <use x=\"254.101562\" xlink:href=\"#DejaVuSans-102\"/>\n      <use x=\"289.306641\" xlink:href=\"#DejaVuSans-117\"/>\n      <use x=\"352.685547\" xlink:href=\"#DejaVuSans-110\"/>\n      <use x=\"416.064453\" xlink:href=\"#DejaVuSans-99\"/>\n      <use x=\"471.044922\" xlink:href=\"#DejaVuSans-116\"/>\n      <use x=\"510.253906\" xlink:href=\"#DejaVuSans-105\"/>\n      <use x=\"538.037109\" xlink:href=\"#DejaVuSans-111\"/>\n      <use x=\"599.21875\" xlink:href=\"#DejaVuSans-110\"/>\n     </g>\n    </g>\n   </g>\n   <g id=\"line2d_13\">\n    <path clip-path=\"url(#p98cac87f9a)\" d=\"M 60.279909 30.378136 \nL 61.092358 47.831532 \nL 63.529704 94.012897 \nL 63.935929 106.9892 \nL 65.154602 161.431033 \nL 65.560826 169.848891 \nL 66.7795 185.691764 \nL 67.998173 199.837076 \nL 68.810622 206.648256 \nL 69.216846 208.461787 \nL 69.62307 209.25114 \nL 70.029295 209.356733 \nL 70.435519 209.106436 \nL 73.685314 205.962216 \nL 76.122661 204.227154 \nL 78.153783 202.47848 \nL 78.966232 202.11684 \nL 79.778681 202.182204 \nL 80.591129 202.572208 \nL 82.216027 203.463499 \nL 83.028476 203.715418 \nL 84.247149 203.820721 \nL 86.684495 203.86101 \nL 88.715618 204.302949 \nL 90.74674 204.65104 \nL 95.621432 205.199456 \nL 99.683676 206.201055 \nL 111.05796 208.851805 \nL 124.057141 211.453896 \nL 131.36918 212.697721 \nL 139.087444 213.783019 \nL 148.024381 214.79435 \nL 162.648459 216.190839 \nL 174.428967 217.099057 \nL 187.021924 217.83094 \nL 239.424872 220.590925 \nL 269.891703 222.323602 \nL 289.390474 223.206794 \nL 306.858124 223.769378 \nL 342.199647 224.839707 \nL 392.165249 226.489165 \nL 424.663201 227.297147 \nL 461.223398 227.975191 \nL 466.098091 228.050864 \nL 466.098091 228.050864 \n\" style=\"fill:none;stroke:#1f77b4;stroke-linecap:square;stroke-width:1.2;\"/>\n   </g>\n   <g id=\"patch_3\">\n    <path d=\"M 39.989 237.9345 \nL 39.989 20.4945 \n\" style=\"fill:none;stroke:#000000;stroke-linecap:square;stroke-linejoin:miter;\"/>\n   </g>\n   <g id=\"patch_4\">\n    <path d=\"M 486.389 237.9345 \nL 486.389 20.4945 \n\" style=\"fill:none;stroke:#000000;stroke-linecap:square;stroke-linejoin:miter;\"/>\n   </g>\n   <g id=\"patch_5\">\n    <path d=\"M 39.989 237.9345 \nL 486.389 237.9345 \n\" style=\"fill:none;stroke:#000000;stroke-linecap:square;stroke-linejoin:miter;\"/>\n   </g>\n   <g id=\"patch_6\">\n    <path d=\"M 39.989 20.4945 \nL 486.389 20.4945 \n\" style=\"fill:none;stroke:#000000;stroke-linecap:square;stroke-linejoin:miter;\"/>\n   </g>\n   <g id=\"text_15\">\n    <!-- cost over time -->\n    <g transform=\"translate(228.6305 14.4945)scale(0.096 -0.096)\">\n     <defs>\n      <path d=\"M 2.984375 54.6875 \nL 12.5 54.6875 \nL 29.59375 8.796875 \nL 46.6875 54.6875 \nL 56.203125 54.6875 \nL 35.6875 0 \nL 23.484375 0 \nz\n\" id=\"DejaVuSans-118\"/>\n      <path d=\"M 52 44.1875 \nQ 55.375 50.25 60.0625 53.125 \nQ 64.75 56 71.09375 56 \nQ 79.640625 56 84.28125 50.015625 \nQ 88.921875 44.046875 88.921875 33.015625 \nL 88.921875 0 \nL 79.890625 0 \nL 79.890625 32.71875 \nQ 79.890625 40.578125 77.09375 44.375 \nQ 74.3125 48.1875 68.609375 48.1875 \nQ 61.625 48.1875 57.5625 43.546875 \nQ 53.515625 38.921875 53.515625 30.90625 \nL 53.515625 0 \nL 44.484375 0 \nL 44.484375 32.71875 \nQ 44.484375 40.625 41.703125 44.40625 \nQ 38.921875 48.1875 33.109375 48.1875 \nQ 26.21875 48.1875 22.15625 43.53125 \nQ 18.109375 38.875 18.109375 30.90625 \nL 18.109375 0 \nL 9.078125 0 \nL 9.078125 54.6875 \nL 18.109375 54.6875 \nL 18.109375 46.1875 \nQ 21.1875 51.21875 25.484375 53.609375 \nQ 29.78125 56 35.6875 56 \nQ 41.65625 56 45.828125 52.96875 \nQ 50 49.953125 52 44.1875 \nz\n\" id=\"DejaVuSans-109\"/>\n     </defs>\n     <use xlink:href=\"#DejaVuSans-99\"/>\n     <use x=\"54.980469\" xlink:href=\"#DejaVuSans-111\"/>\n     <use x=\"116.162109\" xlink:href=\"#DejaVuSans-115\"/>\n     <use x=\"168.261719\" xlink:href=\"#DejaVuSans-116\"/>\n     <use x=\"207.470703\" xlink:href=\"#DejaVuSans-32\"/>\n     <use x=\"239.257812\" xlink:href=\"#DejaVuSans-111\"/>\n     <use x=\"300.439453\" xlink:href=\"#DejaVuSans-118\"/>\n     <use x=\"359.619141\" xlink:href=\"#DejaVuSans-101\"/>\n     <use x=\"421.142578\" xlink:href=\"#DejaVuSans-114\"/>\n     <use x=\"462.255859\" xlink:href=\"#DejaVuSans-32\"/>\n     <use x=\"494.042969\" xlink:href=\"#DejaVuSans-116\"/>\n     <use x=\"533.251953\" xlink:href=\"#DejaVuSans-105\"/>\n     <use x=\"561.035156\" xlink:href=\"#DejaVuSans-109\"/>\n     <use x=\"658.447266\" xlink:href=\"#DejaVuSans-101\"/>\n    </g>\n   </g>\n  </g>\n </g>\n <defs>\n  <clipPath id=\"p98cac87f9a\">\n   <rect height=\"217.44\" width=\"446.4\" x=\"39.989\" y=\"20.4945\"/>\n  </clipPath>\n </defs>\n</svg>\n",
      "image/png": "[encoded data removed]"
     },
     "metadata": {
      "needs_background": "light"
     }
    }
   ],
   "source": [
    "#get three classes\n",
    "x_train_three, x_test_three, y_train_three, y_test_three = reduced_form(y_train, y_test, x_train, x_test, [1,0,2])\n",
    "#create one hot encoding\n",
    "y_train_three_one_hot, y_test_three_one_hot = create_one_hot_train_and_test(y_train_three, y_test_three)\n",
    "\n",
    "#decide on learning rate and iterations\n",
    "learning_rate = 0.07 #set an arbitrary learning rate... we can iterate and try a few others soon\n",
    "iterations_three = 1000\n",
    "\n",
    "#run loop\n",
    "cost_softmax_three, dict_of_FP_values_softmax_three, dict_of_weights_softmax_three = soft_max_iteration(learning_rate, iterations_three, x_train_three, y_train_three_one_hot)\n",
    "\n",
    "#train set predictions\n",
    "softmax_predictions(dict_of_FP_values_softmax_three, y_train_three)\n",
    "\n",
    "#plot cost\n",
    "plot_cost_over_time(cost_softmax_three, iterations_three)\n",
    "\n"
   ]
  },
  {
   "cell_type": "code",
   "execution_count": 693,
   "metadata": {},
   "outputs": [
    {
     "output_type": "stream",
     "name": "stdout",
     "text": [
      "[1, 0, 2, 3, 4]\n",
      "(784, 30596)\n",
      "Weights matrices\n",
      "W1 (80, 784)\n",
      "B1 (80, 1)\n",
      "W2 (80, 80)\n",
      "B2 (80, 1)\n",
      "W3 (5, 80)\n",
      "B3 (5, 1)\n",
      "correct: 19667\n",
      "incorrect: 10929\n",
      "/Users/jacoblourie/opt/anaconda3/lib/python3.8/site-packages/seaborn/_decorators.py:36: FutureWarning: Pass the following variables as keyword args: x, y. From version 0.12, the only valid positional argument will be `data`, and passing other arguments without an explicit keyword will result in an error or misinterpretation.\n",
      "  warnings.warn(\n"
     ]
    },
    {
     "output_type": "display_data",
     "data": {
      "text/plain": "<Figure size 576x288 with 1 Axes>",
      "image/svg+xml": "<?xml version=\"1.0\" encoding=\"utf-8\" standalone=\"no\"?>\n<!DOCTYPE svg PUBLIC \"-//W3C//DTD SVG 1.1//EN\"\n  \"http://www.w3.org/Graphics/SVG/1.1/DTD/svg11.dtd\">\n<!-- Created with matplotlib (https://matplotlib.org/) -->\n<svg height=\"275.24225pt\" version=\"1.1\" viewBox=\"0 0 487.99 275.24225\" width=\"487.99pt\" xmlns=\"http://www.w3.org/2000/svg\" xmlns:xlink=\"http://www.w3.org/1999/xlink\">\n <metadata>\n  <rdf:RDF xmlns:cc=\"http://creativecommons.org/ns#\" xmlns:dc=\"http://purl.org/dc/elements/1.1/\" xmlns:rdf=\"http://www.w3.org/1999/02/22-rdf-syntax-ns#\">\n   <cc:Work>\n    <dc:type rdf:resource=\"http://purl.org/dc/dcmitype/StillImage\"/>\n    <dc:date>2021-05-05T22:45:24.570781</dc:date>\n    <dc:format>image/svg+xml</dc:format>\n    <dc:creator>\n     <cc:Agent>\n      <dc:title>Matplotlib v3.3.2, https://matplotlib.org/</dc:title>\n     </cc:Agent>\n    </dc:creator>\n   </cc:Work>\n  </rdf:RDF>\n </metadata>\n <defs>\n  <style type=\"text/css\">*{stroke-linecap:butt;stroke-linejoin:round;}</style>\n </defs>\n <g id=\"figure_1\">\n  <g id=\"patch_1\">\n   <path d=\"M 0 275.24225 \nL 487.99 275.24225 \nL 487.99 0 \nL 0 0 \nz\n\" style=\"fill:none;\"/>\n  </g>\n  <g id=\"axes_1\">\n   <g id=\"patch_2\">\n    <path d=\"M 34.39 237.9345 \nL 480.79 237.9345 \nL 480.79 20.4945 \nL 34.39 20.4945 \nz\n\" style=\"fill:#ffffff;\"/>\n   </g>\n   <g id=\"matplotlib.axis_1\">\n    <g id=\"xtick_1\">\n     <g id=\"line2d_1\">\n      <defs>\n       <path d=\"M 0 0 \nL 0 4.8 \n\" id=\"m08b44bca1f\" style=\"stroke:#000000;\"/>\n      </defs>\n      <g>\n       <use style=\"stroke:#000000;\" x=\"54.274685\" xlink:href=\"#m08b44bca1f\" y=\"237.9345\"/>\n      </g>\n     </g>\n     <g id=\"text_1\">\n      <!-- 0 -->\n      <g transform=\"translate(51.475185 252.921125)scale(0.088 -0.088)\">\n       <defs>\n        <path d=\"M 31.78125 66.40625 \nQ 24.171875 66.40625 20.328125 58.90625 \nQ 16.5 51.421875 16.5 36.375 \nQ 16.5 21.390625 20.328125 13.890625 \nQ 24.171875 6.390625 31.78125 6.390625 \nQ 39.453125 6.390625 43.28125 13.890625 \nQ 47.125 21.390625 47.125 36.375 \nQ 47.125 51.421875 43.28125 58.90625 \nQ 39.453125 66.40625 31.78125 66.40625 \nz\nM 31.78125 74.21875 \nQ 44.046875 74.21875 50.515625 64.515625 \nQ 56.984375 54.828125 56.984375 36.375 \nQ 56.984375 17.96875 50.515625 8.265625 \nQ 44.046875 -1.421875 31.78125 -1.421875 \nQ 19.53125 -1.421875 13.0625 8.265625 \nQ 6.59375 17.96875 6.59375 36.375 \nQ 6.59375 54.828125 13.0625 64.515625 \nQ 19.53125 74.21875 31.78125 74.21875 \nz\n\" id=\"DejaVuSans-48\"/>\n       </defs>\n       <use xlink:href=\"#DejaVuSans-48\"/>\n      </g>\n     </g>\n    </g>\n    <g id=\"xtick_2\">\n     <g id=\"line2d_2\">\n      <g>\n       <use style=\"stroke:#000000;\" x=\"135.519566\" xlink:href=\"#m08b44bca1f\" y=\"237.9345\"/>\n      </g>\n     </g>\n     <g id=\"text_2\">\n      <!-- 200 -->\n      <g transform=\"translate(127.121066 252.921125)scale(0.088 -0.088)\">\n       <defs>\n        <path d=\"M 19.1875 8.296875 \nL 53.609375 8.296875 \nL 53.609375 0 \nL 7.328125 0 \nL 7.328125 8.296875 \nQ 12.9375 14.109375 22.625 23.890625 \nQ 32.328125 33.6875 34.8125 36.53125 \nQ 39.546875 41.84375 41.421875 45.53125 \nQ 43.3125 49.21875 43.3125 52.78125 \nQ 43.3125 58.59375 39.234375 62.25 \nQ 35.15625 65.921875 28.609375 65.921875 \nQ 23.96875 65.921875 18.8125 64.3125 \nQ 13.671875 62.703125 7.8125 59.421875 \nL 7.8125 69.390625 \nQ 13.765625 71.78125 18.9375 73 \nQ 24.125 74.21875 28.421875 74.21875 \nQ 39.75 74.21875 46.484375 68.546875 \nQ 53.21875 62.890625 53.21875 53.421875 \nQ 53.21875 48.921875 51.53125 44.890625 \nQ 49.859375 40.875 45.40625 35.40625 \nQ 44.1875 33.984375 37.640625 27.21875 \nQ 31.109375 20.453125 19.1875 8.296875 \nz\n\" id=\"DejaVuSans-50\"/>\n       </defs>\n       <use xlink:href=\"#DejaVuSans-50\"/>\n       <use x=\"63.623047\" xlink:href=\"#DejaVuSans-48\"/>\n       <use x=\"127.246094\" xlink:href=\"#DejaVuSans-48\"/>\n      </g>\n     </g>\n    </g>\n    <g id=\"xtick_3\">\n     <g id=\"line2d_3\">\n      <g>\n       <use style=\"stroke:#000000;\" x=\"216.764447\" xlink:href=\"#m08b44bca1f\" y=\"237.9345\"/>\n      </g>\n     </g>\n     <g id=\"text_3\">\n      <!-- 400 -->\n      <g transform=\"translate(208.365947 252.921125)scale(0.088 -0.088)\">\n       <defs>\n        <path d=\"M 37.796875 64.3125 \nL 12.890625 25.390625 \nL 37.796875 25.390625 \nz\nM 35.203125 72.90625 \nL 47.609375 72.90625 \nL 47.609375 25.390625 \nL 58.015625 25.390625 \nL 58.015625 17.1875 \nL 47.609375 17.1875 \nL 47.609375 0 \nL 37.796875 0 \nL 37.796875 17.1875 \nL 4.890625 17.1875 \nL 4.890625 26.703125 \nz\n\" id=\"DejaVuSans-52\"/>\n       </defs>\n       <use xlink:href=\"#DejaVuSans-52\"/>\n       <use x=\"63.623047\" xlink:href=\"#DejaVuSans-48\"/>\n       <use x=\"127.246094\" xlink:href=\"#DejaVuSans-48\"/>\n      </g>\n     </g>\n    </g>\n    <g id=\"xtick_4\">\n     <g id=\"line2d_4\">\n      <g>\n       <use style=\"stroke:#000000;\" x=\"298.009328\" xlink:href=\"#m08b44bca1f\" y=\"237.9345\"/>\n      </g>\n     </g>\n     <g id=\"text_4\">\n      <!-- 600 -->\n      <g transform=\"translate(289.610828 252.921125)scale(0.088 -0.088)\">\n       <defs>\n        <path d=\"M 33.015625 40.375 \nQ 26.375 40.375 22.484375 35.828125 \nQ 18.609375 31.296875 18.609375 23.390625 \nQ 18.609375 15.53125 22.484375 10.953125 \nQ 26.375 6.390625 33.015625 6.390625 \nQ 39.65625 6.390625 43.53125 10.953125 \nQ 47.40625 15.53125 47.40625 23.390625 \nQ 47.40625 31.296875 43.53125 35.828125 \nQ 39.65625 40.375 33.015625 40.375 \nz\nM 52.59375 71.296875 \nL 52.59375 62.3125 \nQ 48.875 64.0625 45.09375 64.984375 \nQ 41.3125 65.921875 37.59375 65.921875 \nQ 27.828125 65.921875 22.671875 59.328125 \nQ 17.53125 52.734375 16.796875 39.40625 \nQ 19.671875 43.65625 24.015625 45.921875 \nQ 28.375 48.1875 33.59375 48.1875 \nQ 44.578125 48.1875 50.953125 41.515625 \nQ 57.328125 34.859375 57.328125 23.390625 \nQ 57.328125 12.15625 50.6875 5.359375 \nQ 44.046875 -1.421875 33.015625 -1.421875 \nQ 20.359375 -1.421875 13.671875 8.265625 \nQ 6.984375 17.96875 6.984375 36.375 \nQ 6.984375 53.65625 15.1875 63.9375 \nQ 23.390625 74.21875 37.203125 74.21875 \nQ 40.921875 74.21875 44.703125 73.484375 \nQ 48.484375 72.75 52.59375 71.296875 \nz\n\" id=\"DejaVuSans-54\"/>\n       </defs>\n       <use xlink:href=\"#DejaVuSans-54\"/>\n       <use x=\"63.623047\" xlink:href=\"#DejaVuSans-48\"/>\n       <use x=\"127.246094\" xlink:href=\"#DejaVuSans-48\"/>\n      </g>\n     </g>\n    </g>\n    <g id=\"xtick_5\">\n     <g id=\"line2d_5\">\n      <g>\n       <use style=\"stroke:#000000;\" x=\"379.25421\" xlink:href=\"#m08b44bca1f\" y=\"237.9345\"/>\n      </g>\n     </g>\n     <g id=\"text_5\">\n      <!-- 800 -->\n      <g transform=\"translate(370.85571 252.921125)scale(0.088 -0.088)\">\n       <defs>\n        <path d=\"M 31.78125 34.625 \nQ 24.75 34.625 20.71875 30.859375 \nQ 16.703125 27.09375 16.703125 20.515625 \nQ 16.703125 13.921875 20.71875 10.15625 \nQ 24.75 6.390625 31.78125 6.390625 \nQ 38.8125 6.390625 42.859375 10.171875 \nQ 46.921875 13.96875 46.921875 20.515625 \nQ 46.921875 27.09375 42.890625 30.859375 \nQ 38.875 34.625 31.78125 34.625 \nz\nM 21.921875 38.8125 \nQ 15.578125 40.375 12.03125 44.71875 \nQ 8.5 49.078125 8.5 55.328125 \nQ 8.5 64.0625 14.71875 69.140625 \nQ 20.953125 74.21875 31.78125 74.21875 \nQ 42.671875 74.21875 48.875 69.140625 \nQ 55.078125 64.0625 55.078125 55.328125 \nQ 55.078125 49.078125 51.53125 44.71875 \nQ 48 40.375 41.703125 38.8125 \nQ 48.828125 37.15625 52.796875 32.3125 \nQ 56.78125 27.484375 56.78125 20.515625 \nQ 56.78125 9.90625 50.3125 4.234375 \nQ 43.84375 -1.421875 31.78125 -1.421875 \nQ 19.734375 -1.421875 13.25 4.234375 \nQ 6.78125 9.90625 6.78125 20.515625 \nQ 6.78125 27.484375 10.78125 32.3125 \nQ 14.796875 37.15625 21.921875 38.8125 \nz\nM 18.3125 54.390625 \nQ 18.3125 48.734375 21.84375 45.5625 \nQ 25.390625 42.390625 31.78125 42.390625 \nQ 38.140625 42.390625 41.71875 45.5625 \nQ 45.3125 48.734375 45.3125 54.390625 \nQ 45.3125 60.0625 41.71875 63.234375 \nQ 38.140625 66.40625 31.78125 66.40625 \nQ 25.390625 66.40625 21.84375 63.234375 \nQ 18.3125 60.0625 18.3125 54.390625 \nz\n\" id=\"DejaVuSans-56\"/>\n       </defs>\n       <use xlink:href=\"#DejaVuSans-56\"/>\n       <use x=\"63.623047\" xlink:href=\"#DejaVuSans-48\"/>\n       <use x=\"127.246094\" xlink:href=\"#DejaVuSans-48\"/>\n      </g>\n     </g>\n    </g>\n    <g id=\"xtick_6\">\n     <g id=\"line2d_6\">\n      <g>\n       <use style=\"stroke:#000000;\" x=\"460.499091\" xlink:href=\"#m08b44bca1f\" y=\"237.9345\"/>\n      </g>\n     </g>\n     <g id=\"text_6\">\n      <!-- 1000 -->\n      <g transform=\"translate(449.301091 252.921125)scale(0.088 -0.088)\">\n       <defs>\n        <path d=\"M 12.40625 8.296875 \nL 28.515625 8.296875 \nL 28.515625 63.921875 \nL 10.984375 60.40625 \nL 10.984375 69.390625 \nL 28.421875 72.90625 \nL 38.28125 72.90625 \nL 38.28125 8.296875 \nL 54.390625 8.296875 \nL 54.390625 0 \nL 12.40625 0 \nz\n\" id=\"DejaVuSans-49\"/>\n       </defs>\n       <use xlink:href=\"#DejaVuSans-49\"/>\n       <use x=\"63.623047\" xlink:href=\"#DejaVuSans-48\"/>\n       <use x=\"127.246094\" xlink:href=\"#DejaVuSans-48\"/>\n       <use x=\"190.869141\" xlink:href=\"#DejaVuSans-48\"/>\n      </g>\n     </g>\n    </g>\n    <g id=\"text_7\">\n     <!-- iteration -->\n     <g transform=\"translate(237.31225 266.04575)scale(0.096 -0.096)\">\n      <defs>\n       <path d=\"M 9.421875 54.6875 \nL 18.40625 54.6875 \nL 18.40625 0 \nL 9.421875 0 \nz\nM 9.421875 75.984375 \nL 18.40625 75.984375 \nL 18.40625 64.59375 \nL 9.421875 64.59375 \nz\n\" id=\"DejaVuSans-105\"/>\n       <path d=\"M 18.3125 70.21875 \nL 18.3125 54.6875 \nL 36.8125 54.6875 \nL 36.8125 47.703125 \nL 18.3125 47.703125 \nL 18.3125 18.015625 \nQ 18.3125 11.328125 20.140625 9.421875 \nQ 21.96875 7.515625 27.59375 7.515625 \nL 36.8125 7.515625 \nL 36.8125 0 \nL 27.59375 0 \nQ 17.1875 0 13.234375 3.875 \nQ 9.28125 7.765625 9.28125 18.015625 \nL 9.28125 47.703125 \nL 2.6875 47.703125 \nL 2.6875 54.6875 \nL 9.28125 54.6875 \nL 9.28125 70.21875 \nz\n\" id=\"DejaVuSans-116\"/>\n       <path d=\"M 56.203125 29.59375 \nL 56.203125 25.203125 \nL 14.890625 25.203125 \nQ 15.484375 15.921875 20.484375 11.0625 \nQ 25.484375 6.203125 34.421875 6.203125 \nQ 39.59375 6.203125 44.453125 7.46875 \nQ 49.3125 8.734375 54.109375 11.28125 \nL 54.109375 2.78125 \nQ 49.265625 0.734375 44.1875 -0.34375 \nQ 39.109375 -1.421875 33.890625 -1.421875 \nQ 20.796875 -1.421875 13.15625 6.1875 \nQ 5.515625 13.8125 5.515625 26.8125 \nQ 5.515625 40.234375 12.765625 48.109375 \nQ 20.015625 56 32.328125 56 \nQ 43.359375 56 49.78125 48.890625 \nQ 56.203125 41.796875 56.203125 29.59375 \nz\nM 47.21875 32.234375 \nQ 47.125 39.59375 43.09375 43.984375 \nQ 39.0625 48.390625 32.421875 48.390625 \nQ 24.90625 48.390625 20.390625 44.140625 \nQ 15.875 39.890625 15.1875 32.171875 \nz\n\" id=\"DejaVuSans-101\"/>\n       <path d=\"M 41.109375 46.296875 \nQ 39.59375 47.171875 37.8125 47.578125 \nQ 36.03125 48 33.890625 48 \nQ 26.265625 48 22.1875 43.046875 \nQ 18.109375 38.09375 18.109375 28.8125 \nL 18.109375 0 \nL 9.078125 0 \nL 9.078125 54.6875 \nL 18.109375 54.6875 \nL 18.109375 46.1875 \nQ 20.953125 51.171875 25.484375 53.578125 \nQ 30.03125 56 36.53125 56 \nQ 37.453125 56 38.578125 55.875 \nQ 39.703125 55.765625 41.0625 55.515625 \nz\n\" id=\"DejaVuSans-114\"/>\n       <path d=\"M 34.28125 27.484375 \nQ 23.390625 27.484375 19.1875 25 \nQ 14.984375 22.515625 14.984375 16.5 \nQ 14.984375 11.71875 18.140625 8.90625 \nQ 21.296875 6.109375 26.703125 6.109375 \nQ 34.1875 6.109375 38.703125 11.40625 \nQ 43.21875 16.703125 43.21875 25.484375 \nL 43.21875 27.484375 \nz\nM 52.203125 31.203125 \nL 52.203125 0 \nL 43.21875 0 \nL 43.21875 8.296875 \nQ 40.140625 3.328125 35.546875 0.953125 \nQ 30.953125 -1.421875 24.3125 -1.421875 \nQ 15.921875 -1.421875 10.953125 3.296875 \nQ 6 8.015625 6 15.921875 \nQ 6 25.140625 12.171875 29.828125 \nQ 18.359375 34.515625 30.609375 34.515625 \nL 43.21875 34.515625 \nL 43.21875 35.40625 \nQ 43.21875 41.609375 39.140625 45 \nQ 35.0625 48.390625 27.6875 48.390625 \nQ 23 48.390625 18.546875 47.265625 \nQ 14.109375 46.140625 10.015625 43.890625 \nL 10.015625 52.203125 \nQ 14.9375 54.109375 19.578125 55.046875 \nQ 24.21875 56 28.609375 56 \nQ 40.484375 56 46.34375 49.84375 \nQ 52.203125 43.703125 52.203125 31.203125 \nz\n\" id=\"DejaVuSans-97\"/>\n       <path d=\"M 30.609375 48.390625 \nQ 23.390625 48.390625 19.1875 42.75 \nQ 14.984375 37.109375 14.984375 27.296875 \nQ 14.984375 17.484375 19.15625 11.84375 \nQ 23.34375 6.203125 30.609375 6.203125 \nQ 37.796875 6.203125 41.984375 11.859375 \nQ 46.1875 17.53125 46.1875 27.296875 \nQ 46.1875 37.015625 41.984375 42.703125 \nQ 37.796875 48.390625 30.609375 48.390625 \nz\nM 30.609375 56 \nQ 42.328125 56 49.015625 48.375 \nQ 55.71875 40.765625 55.71875 27.296875 \nQ 55.71875 13.875 49.015625 6.21875 \nQ 42.328125 -1.421875 30.609375 -1.421875 \nQ 18.84375 -1.421875 12.171875 6.21875 \nQ 5.515625 13.875 5.515625 27.296875 \nQ 5.515625 40.765625 12.171875 48.375 \nQ 18.84375 56 30.609375 56 \nz\n\" id=\"DejaVuSans-111\"/>\n       <path d=\"M 54.890625 33.015625 \nL 54.890625 0 \nL 45.90625 0 \nL 45.90625 32.71875 \nQ 45.90625 40.484375 42.875 44.328125 \nQ 39.84375 48.1875 33.796875 48.1875 \nQ 26.515625 48.1875 22.3125 43.546875 \nQ 18.109375 38.921875 18.109375 30.90625 \nL 18.109375 0 \nL 9.078125 0 \nL 9.078125 54.6875 \nL 18.109375 54.6875 \nL 18.109375 46.1875 \nQ 21.34375 51.125 25.703125 53.5625 \nQ 30.078125 56 35.796875 56 \nQ 45.21875 56 50.046875 50.171875 \nQ 54.890625 44.34375 54.890625 33.015625 \nz\n\" id=\"DejaVuSans-110\"/>\n      </defs>\n      <use xlink:href=\"#DejaVuSans-105\"/>\n      <use x=\"27.783203\" xlink:href=\"#DejaVuSans-116\"/>\n      <use x=\"66.992188\" xlink:href=\"#DejaVuSans-101\"/>\n      <use x=\"128.515625\" xlink:href=\"#DejaVuSans-114\"/>\n      <use x=\"169.628906\" xlink:href=\"#DejaVuSans-97\"/>\n      <use x=\"230.908203\" xlink:href=\"#DejaVuSans-116\"/>\n      <use x=\"270.117188\" xlink:href=\"#DejaVuSans-105\"/>\n      <use x=\"297.900391\" xlink:href=\"#DejaVuSans-111\"/>\n      <use x=\"359.082031\" xlink:href=\"#DejaVuSans-110\"/>\n     </g>\n    </g>\n   </g>\n   <g id=\"matplotlib.axis_2\">\n    <g id=\"ytick_1\">\n     <g id=\"line2d_7\">\n      <defs>\n       <path d=\"M 0 0 \nL -4.8 0 \n\" id=\"m50142b6d97\" style=\"stroke:#000000;\"/>\n      </defs>\n      <g>\n       <use style=\"stroke:#000000;\" x=\"34.39\" xlink:href=\"#m50142b6d97\" y=\"228.764079\"/>\n      </g>\n     </g>\n     <g id=\"text_8\">\n      <!-- 1 -->\n      <g transform=\"translate(20.491 232.107391)scale(0.088 -0.088)\">\n       <use xlink:href=\"#DejaVuSans-49\"/>\n      </g>\n     </g>\n    </g>\n    <g id=\"ytick_2\">\n     <g id=\"line2d_8\">\n      <g>\n       <use style=\"stroke:#000000;\" x=\"34.39\" xlink:href=\"#m50142b6d97\" y=\"202.214061\"/>\n      </g>\n     </g>\n     <g id=\"text_9\">\n      <!-- 2 -->\n      <g transform=\"translate(20.491 205.557374)scale(0.088 -0.088)\">\n       <use xlink:href=\"#DejaVuSans-50\"/>\n      </g>\n     </g>\n    </g>\n    <g id=\"ytick_3\">\n     <g id=\"line2d_9\">\n      <g>\n       <use style=\"stroke:#000000;\" x=\"34.39\" xlink:href=\"#m50142b6d97\" y=\"175.664043\"/>\n      </g>\n     </g>\n     <g id=\"text_10\">\n      <!-- 3 -->\n      <g transform=\"translate(20.491 179.007356)scale(0.088 -0.088)\">\n       <defs>\n        <path d=\"M 40.578125 39.3125 \nQ 47.65625 37.796875 51.625 33 \nQ 55.609375 28.21875 55.609375 21.1875 \nQ 55.609375 10.40625 48.1875 4.484375 \nQ 40.765625 -1.421875 27.09375 -1.421875 \nQ 22.515625 -1.421875 17.65625 -0.515625 \nQ 12.796875 0.390625 7.625 2.203125 \nL 7.625 11.71875 \nQ 11.71875 9.328125 16.59375 8.109375 \nQ 21.484375 6.890625 26.8125 6.890625 \nQ 36.078125 6.890625 40.9375 10.546875 \nQ 45.796875 14.203125 45.796875 21.1875 \nQ 45.796875 27.640625 41.28125 31.265625 \nQ 36.765625 34.90625 28.71875 34.90625 \nL 20.21875 34.90625 \nL 20.21875 43.015625 \nL 29.109375 43.015625 \nQ 36.375 43.015625 40.234375 45.921875 \nQ 44.09375 48.828125 44.09375 54.296875 \nQ 44.09375 59.90625 40.109375 62.90625 \nQ 36.140625 65.921875 28.71875 65.921875 \nQ 24.65625 65.921875 20.015625 65.03125 \nQ 15.375 64.15625 9.8125 62.3125 \nL 9.8125 71.09375 \nQ 15.4375 72.65625 20.34375 73.4375 \nQ 25.25 74.21875 29.59375 74.21875 \nQ 40.828125 74.21875 47.359375 69.109375 \nQ 53.90625 64.015625 53.90625 55.328125 \nQ 53.90625 49.265625 50.4375 45.09375 \nQ 46.96875 40.921875 40.578125 39.3125 \nz\n\" id=\"DejaVuSans-51\"/>\n       </defs>\n       <use xlink:href=\"#DejaVuSans-51\"/>\n      </g>\n     </g>\n    </g>\n    <g id=\"ytick_4\">\n     <g id=\"line2d_10\">\n      <g>\n       <use style=\"stroke:#000000;\" x=\"34.39\" xlink:href=\"#m50142b6d97\" y=\"149.114026\"/>\n      </g>\n     </g>\n     <g id=\"text_11\">\n      <!-- 4 -->\n      <g transform=\"translate(20.491 152.457338)scale(0.088 -0.088)\">\n       <use xlink:href=\"#DejaVuSans-52\"/>\n      </g>\n     </g>\n    </g>\n    <g id=\"ytick_5\">\n     <g id=\"line2d_11\">\n      <g>\n       <use style=\"stroke:#000000;\" x=\"34.39\" xlink:href=\"#m50142b6d97\" y=\"122.564008\"/>\n      </g>\n     </g>\n     <g id=\"text_12\">\n      <!-- 5 -->\n      <g transform=\"translate(20.491 125.907321)scale(0.088 -0.088)\">\n       <defs>\n        <path d=\"M 10.796875 72.90625 \nL 49.515625 72.90625 \nL 49.515625 64.59375 \nL 19.828125 64.59375 \nL 19.828125 46.734375 \nQ 21.96875 47.46875 24.109375 47.828125 \nQ 26.265625 48.1875 28.421875 48.1875 \nQ 40.625 48.1875 47.75 41.5 \nQ 54.890625 34.8125 54.890625 23.390625 \nQ 54.890625 11.625 47.5625 5.09375 \nQ 40.234375 -1.421875 26.90625 -1.421875 \nQ 22.3125 -1.421875 17.546875 -0.640625 \nQ 12.796875 0.140625 7.71875 1.703125 \nL 7.71875 11.625 \nQ 12.109375 9.234375 16.796875 8.0625 \nQ 21.484375 6.890625 26.703125 6.890625 \nQ 35.15625 6.890625 40.078125 11.328125 \nQ 45.015625 15.765625 45.015625 23.390625 \nQ 45.015625 31 40.078125 35.4375 \nQ 35.15625 39.890625 26.703125 39.890625 \nQ 22.75 39.890625 18.8125 39.015625 \nQ 14.890625 38.140625 10.796875 36.28125 \nz\n\" id=\"DejaVuSans-53\"/>\n       </defs>\n       <use xlink:href=\"#DejaVuSans-53\"/>\n      </g>\n     </g>\n    </g>\n    <g id=\"ytick_6\">\n     <g id=\"line2d_12\">\n      <g>\n       <use style=\"stroke:#000000;\" x=\"34.39\" xlink:href=\"#m50142b6d97\" y=\"96.01399\"/>\n      </g>\n     </g>\n     <g id=\"text_13\">\n      <!-- 6 -->\n      <g transform=\"translate(20.491 99.357303)scale(0.088 -0.088)\">\n       <use xlink:href=\"#DejaVuSans-54\"/>\n      </g>\n     </g>\n    </g>\n    <g id=\"ytick_7\">\n     <g id=\"line2d_13\">\n      <g>\n       <use style=\"stroke:#000000;\" x=\"34.39\" xlink:href=\"#m50142b6d97\" y=\"69.463973\"/>\n      </g>\n     </g>\n     <g id=\"text_14\">\n      <!-- 7 -->\n      <g transform=\"translate(20.491 72.807285)scale(0.088 -0.088)\">\n       <defs>\n        <path d=\"M 8.203125 72.90625 \nL 55.078125 72.90625 \nL 55.078125 68.703125 \nL 28.609375 0 \nL 18.3125 0 \nL 43.21875 64.59375 \nL 8.203125 64.59375 \nz\n\" id=\"DejaVuSans-55\"/>\n       </defs>\n       <use xlink:href=\"#DejaVuSans-55\"/>\n      </g>\n     </g>\n    </g>\n    <g id=\"ytick_8\">\n     <g id=\"line2d_14\">\n      <g>\n       <use style=\"stroke:#000000;\" x=\"34.39\" xlink:href=\"#m50142b6d97\" y=\"42.913955\"/>\n      </g>\n     </g>\n     <g id=\"text_15\">\n      <!-- 8 -->\n      <g transform=\"translate(20.491 46.257268)scale(0.088 -0.088)\">\n       <use xlink:href=\"#DejaVuSans-56\"/>\n      </g>\n     </g>\n    </g>\n    <g id=\"text_16\">\n     <!-- Cost function -->\n     <g transform=\"translate(14.4945 161.01825)rotate(-90)scale(0.096 -0.096)\">\n      <defs>\n       <path d=\"M 64.40625 67.28125 \nL 64.40625 56.890625 \nQ 59.421875 61.53125 53.78125 63.8125 \nQ 48.140625 66.109375 41.796875 66.109375 \nQ 29.296875 66.109375 22.65625 58.46875 \nQ 16.015625 50.828125 16.015625 36.375 \nQ 16.015625 21.96875 22.65625 14.328125 \nQ 29.296875 6.6875 41.796875 6.6875 \nQ 48.140625 6.6875 53.78125 8.984375 \nQ 59.421875 11.28125 64.40625 15.921875 \nL 64.40625 5.609375 \nQ 59.234375 2.09375 53.4375 0.328125 \nQ 47.65625 -1.421875 41.21875 -1.421875 \nQ 24.65625 -1.421875 15.125 8.703125 \nQ 5.609375 18.84375 5.609375 36.375 \nQ 5.609375 53.953125 15.125 64.078125 \nQ 24.65625 74.21875 41.21875 74.21875 \nQ 47.75 74.21875 53.53125 72.484375 \nQ 59.328125 70.75 64.40625 67.28125 \nz\n\" id=\"DejaVuSans-67\"/>\n       <path d=\"M 44.28125 53.078125 \nL 44.28125 44.578125 \nQ 40.484375 46.53125 36.375 47.5 \nQ 32.28125 48.484375 27.875 48.484375 \nQ 21.1875 48.484375 17.84375 46.4375 \nQ 14.5 44.390625 14.5 40.28125 \nQ 14.5 37.15625 16.890625 35.375 \nQ 19.28125 33.59375 26.515625 31.984375 \nL 29.59375 31.296875 \nQ 39.15625 29.25 43.1875 25.515625 \nQ 47.21875 21.78125 47.21875 15.09375 \nQ 47.21875 7.46875 41.1875 3.015625 \nQ 35.15625 -1.421875 24.609375 -1.421875 \nQ 20.21875 -1.421875 15.453125 -0.5625 \nQ 10.6875 0.296875 5.421875 2 \nL 5.421875 11.28125 \nQ 10.40625 8.6875 15.234375 7.390625 \nQ 20.0625 6.109375 24.8125 6.109375 \nQ 31.15625 6.109375 34.5625 8.28125 \nQ 37.984375 10.453125 37.984375 14.40625 \nQ 37.984375 18.0625 35.515625 20.015625 \nQ 33.0625 21.96875 24.703125 23.78125 \nL 21.578125 24.515625 \nQ 13.234375 26.265625 9.515625 29.90625 \nQ 5.8125 33.546875 5.8125 39.890625 \nQ 5.8125 47.609375 11.28125 51.796875 \nQ 16.75 56 26.8125 56 \nQ 31.78125 56 36.171875 55.265625 \nQ 40.578125 54.546875 44.28125 53.078125 \nz\n\" id=\"DejaVuSans-115\"/>\n       <path id=\"DejaVuSans-32\"/>\n       <path d=\"M 37.109375 75.984375 \nL 37.109375 68.5 \nL 28.515625 68.5 \nQ 23.6875 68.5 21.796875 66.546875 \nQ 19.921875 64.59375 19.921875 59.515625 \nL 19.921875 54.6875 \nL 34.71875 54.6875 \nL 34.71875 47.703125 \nL 19.921875 47.703125 \nL 19.921875 0 \nL 10.890625 0 \nL 10.890625 47.703125 \nL 2.296875 47.703125 \nL 2.296875 54.6875 \nL 10.890625 54.6875 \nL 10.890625 58.5 \nQ 10.890625 67.625 15.140625 71.796875 \nQ 19.390625 75.984375 28.609375 75.984375 \nz\n\" id=\"DejaVuSans-102\"/>\n       <path d=\"M 8.5 21.578125 \nL 8.5 54.6875 \nL 17.484375 54.6875 \nL 17.484375 21.921875 \nQ 17.484375 14.15625 20.5 10.265625 \nQ 23.53125 6.390625 29.59375 6.390625 \nQ 36.859375 6.390625 41.078125 11.03125 \nQ 45.3125 15.671875 45.3125 23.6875 \nL 45.3125 54.6875 \nL 54.296875 54.6875 \nL 54.296875 0 \nL 45.3125 0 \nL 45.3125 8.40625 \nQ 42.046875 3.421875 37.71875 1 \nQ 33.40625 -1.421875 27.6875 -1.421875 \nQ 18.265625 -1.421875 13.375 4.4375 \nQ 8.5 10.296875 8.5 21.578125 \nz\nM 31.109375 56 \nz\n\" id=\"DejaVuSans-117\"/>\n       <path d=\"M 48.78125 52.59375 \nL 48.78125 44.1875 \nQ 44.96875 46.296875 41.140625 47.34375 \nQ 37.3125 48.390625 33.40625 48.390625 \nQ 24.65625 48.390625 19.8125 42.84375 \nQ 14.984375 37.3125 14.984375 27.296875 \nQ 14.984375 17.28125 19.8125 11.734375 \nQ 24.65625 6.203125 33.40625 6.203125 \nQ 37.3125 6.203125 41.140625 7.25 \nQ 44.96875 8.296875 48.78125 10.40625 \nL 48.78125 2.09375 \nQ 45.015625 0.34375 40.984375 -0.53125 \nQ 36.96875 -1.421875 32.421875 -1.421875 \nQ 20.0625 -1.421875 12.78125 6.34375 \nQ 5.515625 14.109375 5.515625 27.296875 \nQ 5.515625 40.671875 12.859375 48.328125 \nQ 20.21875 56 33.015625 56 \nQ 37.15625 56 41.109375 55.140625 \nQ 45.0625 54.296875 48.78125 52.59375 \nz\n\" id=\"DejaVuSans-99\"/>\n      </defs>\n      <use xlink:href=\"#DejaVuSans-67\"/>\n      <use x=\"69.824219\" xlink:href=\"#DejaVuSans-111\"/>\n      <use x=\"131.005859\" xlink:href=\"#DejaVuSans-115\"/>\n      <use x=\"183.105469\" xlink:href=\"#DejaVuSans-116\"/>\n      <use x=\"222.314453\" xlink:href=\"#DejaVuSans-32\"/>\n      <use x=\"254.101562\" xlink:href=\"#DejaVuSans-102\"/>\n      <use x=\"289.306641\" xlink:href=\"#DejaVuSans-117\"/>\n      <use x=\"352.685547\" xlink:href=\"#DejaVuSans-110\"/>\n      <use x=\"416.064453\" xlink:href=\"#DejaVuSans-99\"/>\n      <use x=\"471.044922\" xlink:href=\"#DejaVuSans-116\"/>\n      <use x=\"510.253906\" xlink:href=\"#DejaVuSans-105\"/>\n      <use x=\"538.037109\" xlink:href=\"#DejaVuSans-111\"/>\n      <use x=\"599.21875\" xlink:href=\"#DejaVuSans-110\"/>\n     </g>\n    </g>\n   </g>\n   <g id=\"line2d_15\">\n    <path clip-path=\"url(#pff5b0d7f4e)\" d=\"M 54.680909 30.378136 \nL 55.087133 62.662699 \nL 55.493358 82.500427 \nL 55.899582 93.126795 \nL 56.305807 97.465452 \nL 56.712031 97.614328 \nL 57.52448 93.998719 \nL 57.930704 95.077309 \nL 58.336929 99.587179 \nL 59.149378 112.697076 \nL 59.961826 132.440573 \nL 60.774275 153.016203 \nL 61.1805 160.325174 \nL 61.586724 164.990096 \nL 61.992948 167.00619 \nL 62.805397 167.348214 \nL 63.211622 169.77276 \nL 64.02407 178.376847 \nL 64.430295 181.377932 \nL 64.836519 183.293469 \nL 65.648968 185.636339 \nL 67.273866 190.150494 \nL 67.68009 190.712709 \nL 68.086314 190.871575 \nL 68.492539 190.709273 \nL 68.898763 190.327012 \nL 69.304988 189.72973 \nL 69.711212 188.870903 \nL 70.117437 188.284135 \nL 70.523661 188.340186 \nL 72.148559 189.306569 \nL 72.554783 189.183648 \nL 73.367232 188.062456 \nL 73.773456 187.532349 \nL 74.585905 186.969297 \nL 75.398354 186.505625 \nL 75.804578 186.100245 \nL 76.210803 185.439125 \nL 76.617027 184.375166 \nL 77.023251 182.732023 \nL 78.241925 176.583836 \nL 78.648149 175.691821 \nL 79.054373 175.622201 \nL 79.460598 176.044673 \nL 80.273047 177.087265 \nL 80.679271 177.257172 \nL 82.304169 177.059401 \nL 83.116618 177.19273 \nL 83.522842 177.065729 \nL 84.335291 176.454482 \nL 87.585086 173.621731 \nL 88.397535 173.177686 \nL 89.209984 173.107839 \nL 92.053554 173.145121 \nL 92.866003 172.974618 \nL 93.678452 172.519988 \nL 94.084676 172.09896 \nL 95.709574 169.897527 \nL 96.115799 169.990367 \nL 96.928247 170.842177 \nL 97.740696 171.611775 \nL 98.146921 171.751979 \nL 98.959369 171.601239 \nL 99.771818 171.372087 \nL 100.584267 171.48884 \nL 102.209165 172.012395 \nL 104.240287 172.459649 \nL 113.583448 175.492955 \nL 122.114161 178.623514 \nL 138.363137 184.667035 \nL 146.487625 187.51456 \nL 150.956093 189.491615 \nL 155.018337 190.959519 \nL 160.705479 192.766321 \nL 165.986396 194.222684 \nL 170.454865 195.216897 \nL 175.735782 196.345423 \nL 178.579353 197.284692 \nL 182.641597 198.614719 \nL 187.110066 199.83875 \nL 191.17231 200.725942 \nL 198.890573 202.300131 \nL 211.889754 205.440555 \nL 215.951998 206.174176 \nL 218.389345 206.429427 \nL 220.420467 206.447784 \nL 222.045364 206.259229 \nL 224.076486 205.829706 \nL 224.888935 205.88775 \nL 226.513833 206.349767 \nL 228.951179 206.971201 \nL 235.044545 208.119055 \nL 239.10679 208.713024 \nL 245.60638 209.506742 \nL 251.699746 210.745613 \nL 260.636683 212.238039 \nL 274.042088 214.260515 \nL 287.041269 215.998383 \nL 300.04045 217.511943 \nL 315.883202 219.121067 \nL 334.975749 220.831227 \nL 356.505643 222.52868 \nL 378.847985 224.067396 \nL 401.190328 225.377751 \nL 426.782465 226.646458 \nL 457.249296 227.926242 \nL 460.499091 228.050864 \nL 460.499091 228.050864 \n\" style=\"fill:none;stroke:#1f77b4;stroke-linecap:square;stroke-width:1.2;\"/>\n   </g>\n   <g id=\"patch_3\">\n    <path d=\"M 34.39 237.9345 \nL 34.39 20.4945 \n\" style=\"fill:none;stroke:#000000;stroke-linecap:square;stroke-linejoin:miter;\"/>\n   </g>\n   <g id=\"patch_4\">\n    <path d=\"M 480.79 237.9345 \nL 480.79 20.4945 \n\" style=\"fill:none;stroke:#000000;stroke-linecap:square;stroke-linejoin:miter;\"/>\n   </g>\n   <g id=\"patch_5\">\n    <path d=\"M 34.39 237.9345 \nL 480.79 237.9345 \n\" style=\"fill:none;stroke:#000000;stroke-linecap:square;stroke-linejoin:miter;\"/>\n   </g>\n   <g id=\"patch_6\">\n    <path d=\"M 34.39 20.4945 \nL 480.79 20.4945 \n\" style=\"fill:none;stroke:#000000;stroke-linecap:square;stroke-linejoin:miter;\"/>\n   </g>\n   <g id=\"text_17\">\n    <!-- cost over time -->\n    <g transform=\"translate(223.0315 14.4945)scale(0.096 -0.096)\">\n     <defs>\n      <path d=\"M 2.984375 54.6875 \nL 12.5 54.6875 \nL 29.59375 8.796875 \nL 46.6875 54.6875 \nL 56.203125 54.6875 \nL 35.6875 0 \nL 23.484375 0 \nz\n\" id=\"DejaVuSans-118\"/>\n      <path d=\"M 52 44.1875 \nQ 55.375 50.25 60.0625 53.125 \nQ 64.75 56 71.09375 56 \nQ 79.640625 56 84.28125 50.015625 \nQ 88.921875 44.046875 88.921875 33.015625 \nL 88.921875 0 \nL 79.890625 0 \nL 79.890625 32.71875 \nQ 79.890625 40.578125 77.09375 44.375 \nQ 74.3125 48.1875 68.609375 48.1875 \nQ 61.625 48.1875 57.5625 43.546875 \nQ 53.515625 38.921875 53.515625 30.90625 \nL 53.515625 0 \nL 44.484375 0 \nL 44.484375 32.71875 \nQ 44.484375 40.625 41.703125 44.40625 \nQ 38.921875 48.1875 33.109375 48.1875 \nQ 26.21875 48.1875 22.15625 43.53125 \nQ 18.109375 38.875 18.109375 30.90625 \nL 18.109375 0 \nL 9.078125 0 \nL 9.078125 54.6875 \nL 18.109375 54.6875 \nL 18.109375 46.1875 \nQ 21.1875 51.21875 25.484375 53.609375 \nQ 29.78125 56 35.6875 56 \nQ 41.65625 56 45.828125 52.96875 \nQ 50 49.953125 52 44.1875 \nz\n\" id=\"DejaVuSans-109\"/>\n     </defs>\n     <use xlink:href=\"#DejaVuSans-99\"/>\n     <use x=\"54.980469\" xlink:href=\"#DejaVuSans-111\"/>\n     <use x=\"116.162109\" xlink:href=\"#DejaVuSans-115\"/>\n     <use x=\"168.261719\" xlink:href=\"#DejaVuSans-116\"/>\n     <use x=\"207.470703\" xlink:href=\"#DejaVuSans-32\"/>\n     <use x=\"239.257812\" xlink:href=\"#DejaVuSans-111\"/>\n     <use x=\"300.439453\" xlink:href=\"#DejaVuSans-118\"/>\n     <use x=\"359.619141\" xlink:href=\"#DejaVuSans-101\"/>\n     <use x=\"421.142578\" xlink:href=\"#DejaVuSans-114\"/>\n     <use x=\"462.255859\" xlink:href=\"#DejaVuSans-32\"/>\n     <use x=\"494.042969\" xlink:href=\"#DejaVuSans-116\"/>\n     <use x=\"533.251953\" xlink:href=\"#DejaVuSans-105\"/>\n     <use x=\"561.035156\" xlink:href=\"#DejaVuSans-109\"/>\n     <use x=\"658.447266\" xlink:href=\"#DejaVuSans-101\"/>\n    </g>\n   </g>\n  </g>\n </g>\n <defs>\n  <clipPath id=\"pff5b0d7f4e\">\n   <rect height=\"217.44\" width=\"446.4\" x=\"34.39\" y=\"20.4945\"/>\n  </clipPath>\n </defs>\n</svg>\n",
      "image/png": "[encoded data removed]"
     },
     "metadata": {
      "needs_background": "light"
     }
    }
   ],
   "source": [
    "#get five classes\n",
    "x_train_five, x_test_five, y_train_five, y_test_five = reduced_form(y_train, y_test, x_train, x_test, [1,0,2,3,4])\n",
    "#create one hot encoding\n",
    "five_y_train_one_hot, five_y_test_one_hot = create_one_hot_train_and_test(y_train_five, y_test_five)\n",
    "\n",
    "#decide on learning rate and iterations\n",
    "learning_rate = 0.1 #set an arbitrary learning rate... we can iterate and try a few others soon\n",
    "iterations_five = 1000\n",
    "\n",
    "#run loop\n",
    "cost_softmax_five, dict_of_FP_values_softmax_five, dict_of_weights_softmax_five = soft_max_iteration(learning_rate, iterations_five, x_train_five, five_y_train_one_hot)\n",
    "\n",
    "#train set predictions\n",
    "softmax_predictions(dict_of_FP_values_softmax_five, y_train_five)\n",
    "\n",
    "#plot cost\n",
    "plot_cost_over_time(cost_softmax_five, iterations_five)"
   ]
  },
  {
   "cell_type": "code",
   "execution_count": 694,
   "metadata": {},
   "outputs": [
    {
     "output_type": "stream",
     "name": "stdout",
     "text": [
      "[1, 0, 2, 3, 4, 5, 6, 7, 8, 9]\n",
      "(784, 60000)\n",
      "Weights matrices\n",
      "W1 (80, 784)\n",
      "B1 (80, 1)\n",
      "W2 (80, 80)\n",
      "B2 (80, 1)\n",
      "W3 (10, 80)\n",
      "B3 (10, 1)\n",
      "correct: 9425\n",
      "incorrect: 50575\n",
      "/Users/jacoblourie/opt/anaconda3/lib/python3.8/site-packages/seaborn/_decorators.py:36: FutureWarning: Pass the following variables as keyword args: x, y. From version 0.12, the only valid positional argument will be `data`, and passing other arguments without an explicit keyword will result in an error or misinterpretation.\n",
      "  warnings.warn(\n"
     ]
    },
    {
     "output_type": "display_data",
     "data": {
      "text/plain": "<Figure size 576x288 with 1 Axes>",
      "image/svg+xml": "<?xml version=\"1.0\" encoding=\"utf-8\" standalone=\"no\"?>\n<!DOCTYPE svg PUBLIC \"-//W3C//DTD SVG 1.1//EN\"\n  \"http://www.w3.org/Graphics/SVG/1.1/DTD/svg11.dtd\">\n<!-- Created with matplotlib (https://matplotlib.org/) -->\n<svg height=\"275.24225pt\" version=\"1.1\" viewBox=\"0 0 493.589 275.24225\" width=\"493.589pt\" xmlns=\"http://www.w3.org/2000/svg\" xmlns:xlink=\"http://www.w3.org/1999/xlink\">\n <metadata>\n  <rdf:RDF xmlns:cc=\"http://creativecommons.org/ns#\" xmlns:dc=\"http://purl.org/dc/elements/1.1/\" xmlns:rdf=\"http://www.w3.org/1999/02/22-rdf-syntax-ns#\">\n   <cc:Work>\n    <dc:type rdf:resource=\"http://purl.org/dc/dcmitype/StillImage\"/>\n    <dc:date>2021-05-05T23:00:55.986927</dc:date>\n    <dc:format>image/svg+xml</dc:format>\n    <dc:creator>\n     <cc:Agent>\n      <dc:title>Matplotlib v3.3.2, https://matplotlib.org/</dc:title>\n     </cc:Agent>\n    </dc:creator>\n   </cc:Work>\n  </rdf:RDF>\n </metadata>\n <defs>\n  <style type=\"text/css\">*{stroke-linecap:butt;stroke-linejoin:round;}</style>\n </defs>\n <g id=\"figure_1\">\n  <g id=\"patch_1\">\n   <path d=\"M 0 275.24225 \nL 493.589 275.24225 \nL 493.589 0 \nL 0 0 \nz\n\" style=\"fill:none;\"/>\n  </g>\n  <g id=\"axes_1\">\n   <g id=\"patch_2\">\n    <path d=\"M 39.989 237.9345 \nL 486.389 237.9345 \nL 486.389 20.4945 \nL 39.989 20.4945 \nz\n\" style=\"fill:#ffffff;\"/>\n   </g>\n   <g id=\"matplotlib.axis_1\">\n    <g id=\"xtick_1\">\n     <g id=\"line2d_1\">\n      <defs>\n       <path d=\"M 0 0 \nL 0 4.8 \n\" id=\"me1c1bd4d31\" style=\"stroke:#000000;\"/>\n      </defs>\n      <g>\n       <use style=\"stroke:#000000;\" x=\"59.873685\" xlink:href=\"#me1c1bd4d31\" y=\"237.9345\"/>\n      </g>\n     </g>\n     <g id=\"text_1\">\n      <!-- 0 -->\n      <g transform=\"translate(57.074185 252.921125)scale(0.088 -0.088)\">\n       <defs>\n        <path d=\"M 31.78125 66.40625 \nQ 24.171875 66.40625 20.328125 58.90625 \nQ 16.5 51.421875 16.5 36.375 \nQ 16.5 21.390625 20.328125 13.890625 \nQ 24.171875 6.390625 31.78125 6.390625 \nQ 39.453125 6.390625 43.28125 13.890625 \nQ 47.125 21.390625 47.125 36.375 \nQ 47.125 51.421875 43.28125 58.90625 \nQ 39.453125 66.40625 31.78125 66.40625 \nz\nM 31.78125 74.21875 \nQ 44.046875 74.21875 50.515625 64.515625 \nQ 56.984375 54.828125 56.984375 36.375 \nQ 56.984375 17.96875 50.515625 8.265625 \nQ 44.046875 -1.421875 31.78125 -1.421875 \nQ 19.53125 -1.421875 13.0625 8.265625 \nQ 6.59375 17.96875 6.59375 36.375 \nQ 6.59375 54.828125 13.0625 64.515625 \nQ 19.53125 74.21875 31.78125 74.21875 \nz\n\" id=\"DejaVuSans-48\"/>\n       </defs>\n       <use xlink:href=\"#DejaVuSans-48\"/>\n      </g>\n     </g>\n    </g>\n    <g id=\"xtick_2\">\n     <g id=\"line2d_2\">\n      <g>\n       <use style=\"stroke:#000000;\" x=\"141.118566\" xlink:href=\"#me1c1bd4d31\" y=\"237.9345\"/>\n      </g>\n     </g>\n     <g id=\"text_2\">\n      <!-- 200 -->\n      <g transform=\"translate(132.720066 252.921125)scale(0.088 -0.088)\">\n       <defs>\n        <path d=\"M 19.1875 8.296875 \nL 53.609375 8.296875 \nL 53.609375 0 \nL 7.328125 0 \nL 7.328125 8.296875 \nQ 12.9375 14.109375 22.625 23.890625 \nQ 32.328125 33.6875 34.8125 36.53125 \nQ 39.546875 41.84375 41.421875 45.53125 \nQ 43.3125 49.21875 43.3125 52.78125 \nQ 43.3125 58.59375 39.234375 62.25 \nQ 35.15625 65.921875 28.609375 65.921875 \nQ 23.96875 65.921875 18.8125 64.3125 \nQ 13.671875 62.703125 7.8125 59.421875 \nL 7.8125 69.390625 \nQ 13.765625 71.78125 18.9375 73 \nQ 24.125 74.21875 28.421875 74.21875 \nQ 39.75 74.21875 46.484375 68.546875 \nQ 53.21875 62.890625 53.21875 53.421875 \nQ 53.21875 48.921875 51.53125 44.890625 \nQ 49.859375 40.875 45.40625 35.40625 \nQ 44.1875 33.984375 37.640625 27.21875 \nQ 31.109375 20.453125 19.1875 8.296875 \nz\n\" id=\"DejaVuSans-50\"/>\n       </defs>\n       <use xlink:href=\"#DejaVuSans-50\"/>\n       <use x=\"63.623047\" xlink:href=\"#DejaVuSans-48\"/>\n       <use x=\"127.246094\" xlink:href=\"#DejaVuSans-48\"/>\n      </g>\n     </g>\n    </g>\n    <g id=\"xtick_3\">\n     <g id=\"line2d_3\">\n      <g>\n       <use style=\"stroke:#000000;\" x=\"222.363447\" xlink:href=\"#me1c1bd4d31\" y=\"237.9345\"/>\n      </g>\n     </g>\n     <g id=\"text_3\">\n      <!-- 400 -->\n      <g transform=\"translate(213.964947 252.921125)scale(0.088 -0.088)\">\n       <defs>\n        <path d=\"M 37.796875 64.3125 \nL 12.890625 25.390625 \nL 37.796875 25.390625 \nz\nM 35.203125 72.90625 \nL 47.609375 72.90625 \nL 47.609375 25.390625 \nL 58.015625 25.390625 \nL 58.015625 17.1875 \nL 47.609375 17.1875 \nL 47.609375 0 \nL 37.796875 0 \nL 37.796875 17.1875 \nL 4.890625 17.1875 \nL 4.890625 26.703125 \nz\n\" id=\"DejaVuSans-52\"/>\n       </defs>\n       <use xlink:href=\"#DejaVuSans-52\"/>\n       <use x=\"63.623047\" xlink:href=\"#DejaVuSans-48\"/>\n       <use x=\"127.246094\" xlink:href=\"#DejaVuSans-48\"/>\n      </g>\n     </g>\n    </g>\n    <g id=\"xtick_4\">\n     <g id=\"line2d_4\">\n      <g>\n       <use style=\"stroke:#000000;\" x=\"303.608328\" xlink:href=\"#me1c1bd4d31\" y=\"237.9345\"/>\n      </g>\n     </g>\n     <g id=\"text_4\">\n      <!-- 600 -->\n      <g transform=\"translate(295.209828 252.921125)scale(0.088 -0.088)\">\n       <defs>\n        <path d=\"M 33.015625 40.375 \nQ 26.375 40.375 22.484375 35.828125 \nQ 18.609375 31.296875 18.609375 23.390625 \nQ 18.609375 15.53125 22.484375 10.953125 \nQ 26.375 6.390625 33.015625 6.390625 \nQ 39.65625 6.390625 43.53125 10.953125 \nQ 47.40625 15.53125 47.40625 23.390625 \nQ 47.40625 31.296875 43.53125 35.828125 \nQ 39.65625 40.375 33.015625 40.375 \nz\nM 52.59375 71.296875 \nL 52.59375 62.3125 \nQ 48.875 64.0625 45.09375 64.984375 \nQ 41.3125 65.921875 37.59375 65.921875 \nQ 27.828125 65.921875 22.671875 59.328125 \nQ 17.53125 52.734375 16.796875 39.40625 \nQ 19.671875 43.65625 24.015625 45.921875 \nQ 28.375 48.1875 33.59375 48.1875 \nQ 44.578125 48.1875 50.953125 41.515625 \nQ 57.328125 34.859375 57.328125 23.390625 \nQ 57.328125 12.15625 50.6875 5.359375 \nQ 44.046875 -1.421875 33.015625 -1.421875 \nQ 20.359375 -1.421875 13.671875 8.265625 \nQ 6.984375 17.96875 6.984375 36.375 \nQ 6.984375 53.65625 15.1875 63.9375 \nQ 23.390625 74.21875 37.203125 74.21875 \nQ 40.921875 74.21875 44.703125 73.484375 \nQ 48.484375 72.75 52.59375 71.296875 \nz\n\" id=\"DejaVuSans-54\"/>\n       </defs>\n       <use xlink:href=\"#DejaVuSans-54\"/>\n       <use x=\"63.623047\" xlink:href=\"#DejaVuSans-48\"/>\n       <use x=\"127.246094\" xlink:href=\"#DejaVuSans-48\"/>\n      </g>\n     </g>\n    </g>\n    <g id=\"xtick_5\">\n     <g id=\"line2d_5\">\n      <g>\n       <use style=\"stroke:#000000;\" x=\"384.85321\" xlink:href=\"#me1c1bd4d31\" y=\"237.9345\"/>\n      </g>\n     </g>\n     <g id=\"text_5\">\n      <!-- 800 -->\n      <g transform=\"translate(376.45471 252.921125)scale(0.088 -0.088)\">\n       <defs>\n        <path d=\"M 31.78125 34.625 \nQ 24.75 34.625 20.71875 30.859375 \nQ 16.703125 27.09375 16.703125 20.515625 \nQ 16.703125 13.921875 20.71875 10.15625 \nQ 24.75 6.390625 31.78125 6.390625 \nQ 38.8125 6.390625 42.859375 10.171875 \nQ 46.921875 13.96875 46.921875 20.515625 \nQ 46.921875 27.09375 42.890625 30.859375 \nQ 38.875 34.625 31.78125 34.625 \nz\nM 21.921875 38.8125 \nQ 15.578125 40.375 12.03125 44.71875 \nQ 8.5 49.078125 8.5 55.328125 \nQ 8.5 64.0625 14.71875 69.140625 \nQ 20.953125 74.21875 31.78125 74.21875 \nQ 42.671875 74.21875 48.875 69.140625 \nQ 55.078125 64.0625 55.078125 55.328125 \nQ 55.078125 49.078125 51.53125 44.71875 \nQ 48 40.375 41.703125 38.8125 \nQ 48.828125 37.15625 52.796875 32.3125 \nQ 56.78125 27.484375 56.78125 20.515625 \nQ 56.78125 9.90625 50.3125 4.234375 \nQ 43.84375 -1.421875 31.78125 -1.421875 \nQ 19.734375 -1.421875 13.25 4.234375 \nQ 6.78125 9.90625 6.78125 20.515625 \nQ 6.78125 27.484375 10.78125 32.3125 \nQ 14.796875 37.15625 21.921875 38.8125 \nz\nM 18.3125 54.390625 \nQ 18.3125 48.734375 21.84375 45.5625 \nQ 25.390625 42.390625 31.78125 42.390625 \nQ 38.140625 42.390625 41.71875 45.5625 \nQ 45.3125 48.734375 45.3125 54.390625 \nQ 45.3125 60.0625 41.71875 63.234375 \nQ 38.140625 66.40625 31.78125 66.40625 \nQ 25.390625 66.40625 21.84375 63.234375 \nQ 18.3125 60.0625 18.3125 54.390625 \nz\n\" id=\"DejaVuSans-56\"/>\n       </defs>\n       <use xlink:href=\"#DejaVuSans-56\"/>\n       <use x=\"63.623047\" xlink:href=\"#DejaVuSans-48\"/>\n       <use x=\"127.246094\" xlink:href=\"#DejaVuSans-48\"/>\n      </g>\n     </g>\n    </g>\n    <g id=\"xtick_6\">\n     <g id=\"line2d_6\">\n      <g>\n       <use style=\"stroke:#000000;\" x=\"466.098091\" xlink:href=\"#me1c1bd4d31\" y=\"237.9345\"/>\n      </g>\n     </g>\n     <g id=\"text_6\">\n      <!-- 1000 -->\n      <g transform=\"translate(454.900091 252.921125)scale(0.088 -0.088)\">\n       <defs>\n        <path d=\"M 12.40625 8.296875 \nL 28.515625 8.296875 \nL 28.515625 63.921875 \nL 10.984375 60.40625 \nL 10.984375 69.390625 \nL 28.421875 72.90625 \nL 38.28125 72.90625 \nL 38.28125 8.296875 \nL 54.390625 8.296875 \nL 54.390625 0 \nL 12.40625 0 \nz\n\" id=\"DejaVuSans-49\"/>\n       </defs>\n       <use xlink:href=\"#DejaVuSans-49\"/>\n       <use x=\"63.623047\" xlink:href=\"#DejaVuSans-48\"/>\n       <use x=\"127.246094\" xlink:href=\"#DejaVuSans-48\"/>\n       <use x=\"190.869141\" xlink:href=\"#DejaVuSans-48\"/>\n      </g>\n     </g>\n    </g>\n    <g id=\"text_7\">\n     <!-- iteration -->\n     <g transform=\"translate(242.91125 266.04575)scale(0.096 -0.096)\">\n      <defs>\n       <path d=\"M 9.421875 54.6875 \nL 18.40625 54.6875 \nL 18.40625 0 \nL 9.421875 0 \nz\nM 9.421875 75.984375 \nL 18.40625 75.984375 \nL 18.40625 64.59375 \nL 9.421875 64.59375 \nz\n\" id=\"DejaVuSans-105\"/>\n       <path d=\"M 18.3125 70.21875 \nL 18.3125 54.6875 \nL 36.8125 54.6875 \nL 36.8125 47.703125 \nL 18.3125 47.703125 \nL 18.3125 18.015625 \nQ 18.3125 11.328125 20.140625 9.421875 \nQ 21.96875 7.515625 27.59375 7.515625 \nL 36.8125 7.515625 \nL 36.8125 0 \nL 27.59375 0 \nQ 17.1875 0 13.234375 3.875 \nQ 9.28125 7.765625 9.28125 18.015625 \nL 9.28125 47.703125 \nL 2.6875 47.703125 \nL 2.6875 54.6875 \nL 9.28125 54.6875 \nL 9.28125 70.21875 \nz\n\" id=\"DejaVuSans-116\"/>\n       <path d=\"M 56.203125 29.59375 \nL 56.203125 25.203125 \nL 14.890625 25.203125 \nQ 15.484375 15.921875 20.484375 11.0625 \nQ 25.484375 6.203125 34.421875 6.203125 \nQ 39.59375 6.203125 44.453125 7.46875 \nQ 49.3125 8.734375 54.109375 11.28125 \nL 54.109375 2.78125 \nQ 49.265625 0.734375 44.1875 -0.34375 \nQ 39.109375 -1.421875 33.890625 -1.421875 \nQ 20.796875 -1.421875 13.15625 6.1875 \nQ 5.515625 13.8125 5.515625 26.8125 \nQ 5.515625 40.234375 12.765625 48.109375 \nQ 20.015625 56 32.328125 56 \nQ 43.359375 56 49.78125 48.890625 \nQ 56.203125 41.796875 56.203125 29.59375 \nz\nM 47.21875 32.234375 \nQ 47.125 39.59375 43.09375 43.984375 \nQ 39.0625 48.390625 32.421875 48.390625 \nQ 24.90625 48.390625 20.390625 44.140625 \nQ 15.875 39.890625 15.1875 32.171875 \nz\n\" id=\"DejaVuSans-101\"/>\n       <path d=\"M 41.109375 46.296875 \nQ 39.59375 47.171875 37.8125 47.578125 \nQ 36.03125 48 33.890625 48 \nQ 26.265625 48 22.1875 43.046875 \nQ 18.109375 38.09375 18.109375 28.8125 \nL 18.109375 0 \nL 9.078125 0 \nL 9.078125 54.6875 \nL 18.109375 54.6875 \nL 18.109375 46.1875 \nQ 20.953125 51.171875 25.484375 53.578125 \nQ 30.03125 56 36.53125 56 \nQ 37.453125 56 38.578125 55.875 \nQ 39.703125 55.765625 41.0625 55.515625 \nz\n\" id=\"DejaVuSans-114\"/>\n       <path d=\"M 34.28125 27.484375 \nQ 23.390625 27.484375 19.1875 25 \nQ 14.984375 22.515625 14.984375 16.5 \nQ 14.984375 11.71875 18.140625 8.90625 \nQ 21.296875 6.109375 26.703125 6.109375 \nQ 34.1875 6.109375 38.703125 11.40625 \nQ 43.21875 16.703125 43.21875 25.484375 \nL 43.21875 27.484375 \nz\nM 52.203125 31.203125 \nL 52.203125 0 \nL 43.21875 0 \nL 43.21875 8.296875 \nQ 40.140625 3.328125 35.546875 0.953125 \nQ 30.953125 -1.421875 24.3125 -1.421875 \nQ 15.921875 -1.421875 10.953125 3.296875 \nQ 6 8.015625 6 15.921875 \nQ 6 25.140625 12.171875 29.828125 \nQ 18.359375 34.515625 30.609375 34.515625 \nL 43.21875 34.515625 \nL 43.21875 35.40625 \nQ 43.21875 41.609375 39.140625 45 \nQ 35.0625 48.390625 27.6875 48.390625 \nQ 23 48.390625 18.546875 47.265625 \nQ 14.109375 46.140625 10.015625 43.890625 \nL 10.015625 52.203125 \nQ 14.9375 54.109375 19.578125 55.046875 \nQ 24.21875 56 28.609375 56 \nQ 40.484375 56 46.34375 49.84375 \nQ 52.203125 43.703125 52.203125 31.203125 \nz\n\" id=\"DejaVuSans-97\"/>\n       <path d=\"M 30.609375 48.390625 \nQ 23.390625 48.390625 19.1875 42.75 \nQ 14.984375 37.109375 14.984375 27.296875 \nQ 14.984375 17.484375 19.15625 11.84375 \nQ 23.34375 6.203125 30.609375 6.203125 \nQ 37.796875 6.203125 41.984375 11.859375 \nQ 46.1875 17.53125 46.1875 27.296875 \nQ 46.1875 37.015625 41.984375 42.703125 \nQ 37.796875 48.390625 30.609375 48.390625 \nz\nM 30.609375 56 \nQ 42.328125 56 49.015625 48.375 \nQ 55.71875 40.765625 55.71875 27.296875 \nQ 55.71875 13.875 49.015625 6.21875 \nQ 42.328125 -1.421875 30.609375 -1.421875 \nQ 18.84375 -1.421875 12.171875 6.21875 \nQ 5.515625 13.875 5.515625 27.296875 \nQ 5.515625 40.765625 12.171875 48.375 \nQ 18.84375 56 30.609375 56 \nz\n\" id=\"DejaVuSans-111\"/>\n       <path d=\"M 54.890625 33.015625 \nL 54.890625 0 \nL 45.90625 0 \nL 45.90625 32.71875 \nQ 45.90625 40.484375 42.875 44.328125 \nQ 39.84375 48.1875 33.796875 48.1875 \nQ 26.515625 48.1875 22.3125 43.546875 \nQ 18.109375 38.921875 18.109375 30.90625 \nL 18.109375 0 \nL 9.078125 0 \nL 9.078125 54.6875 \nL 18.109375 54.6875 \nL 18.109375 46.1875 \nQ 21.34375 51.125 25.703125 53.5625 \nQ 30.078125 56 35.796875 56 \nQ 45.21875 56 50.046875 50.171875 \nQ 54.890625 44.34375 54.890625 33.015625 \nz\n\" id=\"DejaVuSans-110\"/>\n      </defs>\n      <use xlink:href=\"#DejaVuSans-105\"/>\n      <use x=\"27.783203\" xlink:href=\"#DejaVuSans-116\"/>\n      <use x=\"66.992188\" xlink:href=\"#DejaVuSans-101\"/>\n      <use x=\"128.515625\" xlink:href=\"#DejaVuSans-114\"/>\n      <use x=\"169.628906\" xlink:href=\"#DejaVuSans-97\"/>\n      <use x=\"230.908203\" xlink:href=\"#DejaVuSans-116\"/>\n      <use x=\"270.117188\" xlink:href=\"#DejaVuSans-105\"/>\n      <use x=\"297.900391\" xlink:href=\"#DejaVuSans-111\"/>\n      <use x=\"359.082031\" xlink:href=\"#DejaVuSans-110\"/>\n     </g>\n    </g>\n   </g>\n   <g id=\"matplotlib.axis_2\">\n    <g id=\"ytick_1\">\n     <g id=\"line2d_7\">\n      <defs>\n       <path d=\"M 0 0 \nL -4.8 0 \n\" id=\"mf5649d37dc\" style=\"stroke:#000000;\"/>\n      </defs>\n      <g>\n       <use style=\"stroke:#000000;\" x=\"39.989\" xlink:href=\"#mf5649d37dc\" y=\"237.606607\"/>\n      </g>\n     </g>\n     <g id=\"text_8\">\n      <!-- 2 -->\n      <g transform=\"translate(26.09 240.94992)scale(0.088 -0.088)\">\n       <use xlink:href=\"#DejaVuSans-50\"/>\n      </g>\n     </g>\n    </g>\n    <g id=\"ytick_2\">\n     <g id=\"line2d_8\">\n      <g>\n       <use style=\"stroke:#000000;\" x=\"39.989\" xlink:href=\"#mf5649d37dc\" y=\"213.357361\"/>\n      </g>\n     </g>\n     <g id=\"text_9\">\n      <!-- 3 -->\n      <g transform=\"translate(26.09 216.700673)scale(0.088 -0.088)\">\n       <defs>\n        <path d=\"M 40.578125 39.3125 \nQ 47.65625 37.796875 51.625 33 \nQ 55.609375 28.21875 55.609375 21.1875 \nQ 55.609375 10.40625 48.1875 4.484375 \nQ 40.765625 -1.421875 27.09375 -1.421875 \nQ 22.515625 -1.421875 17.65625 -0.515625 \nQ 12.796875 0.390625 7.625 2.203125 \nL 7.625 11.71875 \nQ 11.71875 9.328125 16.59375 8.109375 \nQ 21.484375 6.890625 26.8125 6.890625 \nQ 36.078125 6.890625 40.9375 10.546875 \nQ 45.796875 14.203125 45.796875 21.1875 \nQ 45.796875 27.640625 41.28125 31.265625 \nQ 36.765625 34.90625 28.71875 34.90625 \nL 20.21875 34.90625 \nL 20.21875 43.015625 \nL 29.109375 43.015625 \nQ 36.375 43.015625 40.234375 45.921875 \nQ 44.09375 48.828125 44.09375 54.296875 \nQ 44.09375 59.90625 40.109375 62.90625 \nQ 36.140625 65.921875 28.71875 65.921875 \nQ 24.65625 65.921875 20.015625 65.03125 \nQ 15.375 64.15625 9.8125 62.3125 \nL 9.8125 71.09375 \nQ 15.4375 72.65625 20.34375 73.4375 \nQ 25.25 74.21875 29.59375 74.21875 \nQ 40.828125 74.21875 47.359375 69.109375 \nQ 53.90625 64.015625 53.90625 55.328125 \nQ 53.90625 49.265625 50.4375 45.09375 \nQ 46.96875 40.921875 40.578125 39.3125 \nz\n\" id=\"DejaVuSans-51\"/>\n       </defs>\n       <use xlink:href=\"#DejaVuSans-51\"/>\n      </g>\n     </g>\n    </g>\n    <g id=\"ytick_3\">\n     <g id=\"line2d_9\">\n      <g>\n       <use style=\"stroke:#000000;\" x=\"39.989\" xlink:href=\"#mf5649d37dc\" y=\"189.108114\"/>\n      </g>\n     </g>\n     <g id=\"text_10\">\n      <!-- 4 -->\n      <g transform=\"translate(26.09 192.451426)scale(0.088 -0.088)\">\n       <use xlink:href=\"#DejaVuSans-52\"/>\n      </g>\n     </g>\n    </g>\n    <g id=\"ytick_4\">\n     <g id=\"line2d_10\">\n      <g>\n       <use style=\"stroke:#000000;\" x=\"39.989\" xlink:href=\"#mf5649d37dc\" y=\"164.858867\"/>\n      </g>\n     </g>\n     <g id=\"text_11\">\n      <!-- 5 -->\n      <g transform=\"translate(26.09 168.202179)scale(0.088 -0.088)\">\n       <defs>\n        <path d=\"M 10.796875 72.90625 \nL 49.515625 72.90625 \nL 49.515625 64.59375 \nL 19.828125 64.59375 \nL 19.828125 46.734375 \nQ 21.96875 47.46875 24.109375 47.828125 \nQ 26.265625 48.1875 28.421875 48.1875 \nQ 40.625 48.1875 47.75 41.5 \nQ 54.890625 34.8125 54.890625 23.390625 \nQ 54.890625 11.625 47.5625 5.09375 \nQ 40.234375 -1.421875 26.90625 -1.421875 \nQ 22.3125 -1.421875 17.546875 -0.640625 \nQ 12.796875 0.140625 7.71875 1.703125 \nL 7.71875 11.625 \nQ 12.109375 9.234375 16.796875 8.0625 \nQ 21.484375 6.890625 26.703125 6.890625 \nQ 35.15625 6.890625 40.078125 11.328125 \nQ 45.015625 15.765625 45.015625 23.390625 \nQ 45.015625 31 40.078125 35.4375 \nQ 35.15625 39.890625 26.703125 39.890625 \nQ 22.75 39.890625 18.8125 39.015625 \nQ 14.890625 38.140625 10.796875 36.28125 \nz\n\" id=\"DejaVuSans-53\"/>\n       </defs>\n       <use xlink:href=\"#DejaVuSans-53\"/>\n      </g>\n     </g>\n    </g>\n    <g id=\"ytick_5\">\n     <g id=\"line2d_11\">\n      <g>\n       <use style=\"stroke:#000000;\" x=\"39.989\" xlink:href=\"#mf5649d37dc\" y=\"140.60962\"/>\n      </g>\n     </g>\n     <g id=\"text_12\">\n      <!-- 6 -->\n      <g transform=\"translate(26.09 143.952933)scale(0.088 -0.088)\">\n       <use xlink:href=\"#DejaVuSans-54\"/>\n      </g>\n     </g>\n    </g>\n    <g id=\"ytick_6\">\n     <g id=\"line2d_12\">\n      <g>\n       <use style=\"stroke:#000000;\" x=\"39.989\" xlink:href=\"#mf5649d37dc\" y=\"116.360373\"/>\n      </g>\n     </g>\n     <g id=\"text_13\">\n      <!-- 7 -->\n      <g transform=\"translate(26.09 119.703686)scale(0.088 -0.088)\">\n       <defs>\n        <path d=\"M 8.203125 72.90625 \nL 55.078125 72.90625 \nL 55.078125 68.703125 \nL 28.609375 0 \nL 18.3125 0 \nL 43.21875 64.59375 \nL 8.203125 64.59375 \nz\n\" id=\"DejaVuSans-55\"/>\n       </defs>\n       <use xlink:href=\"#DejaVuSans-55\"/>\n      </g>\n     </g>\n    </g>\n    <g id=\"ytick_7\">\n     <g id=\"line2d_13\">\n      <g>\n       <use style=\"stroke:#000000;\" x=\"39.989\" xlink:href=\"#mf5649d37dc\" y=\"92.111126\"/>\n      </g>\n     </g>\n     <g id=\"text_14\">\n      <!-- 8 -->\n      <g transform=\"translate(26.09 95.454439)scale(0.088 -0.088)\">\n       <use xlink:href=\"#DejaVuSans-56\"/>\n      </g>\n     </g>\n    </g>\n    <g id=\"ytick_8\">\n     <g id=\"line2d_14\">\n      <g>\n       <use style=\"stroke:#000000;\" x=\"39.989\" xlink:href=\"#mf5649d37dc\" y=\"67.86188\"/>\n      </g>\n     </g>\n     <g id=\"text_15\">\n      <!-- 9 -->\n      <g transform=\"translate(26.09 71.205192)scale(0.088 -0.088)\">\n       <defs>\n        <path d=\"M 10.984375 1.515625 \nL 10.984375 10.5 \nQ 14.703125 8.734375 18.5 7.8125 \nQ 22.3125 6.890625 25.984375 6.890625 \nQ 35.75 6.890625 40.890625 13.453125 \nQ 46.046875 20.015625 46.78125 33.40625 \nQ 43.953125 29.203125 39.59375 26.953125 \nQ 35.25 24.703125 29.984375 24.703125 \nQ 19.046875 24.703125 12.671875 31.3125 \nQ 6.296875 37.9375 6.296875 49.421875 \nQ 6.296875 60.640625 12.9375 67.421875 \nQ 19.578125 74.21875 30.609375 74.21875 \nQ 43.265625 74.21875 49.921875 64.515625 \nQ 56.59375 54.828125 56.59375 36.375 \nQ 56.59375 19.140625 48.40625 8.859375 \nQ 40.234375 -1.421875 26.421875 -1.421875 \nQ 22.703125 -1.421875 18.890625 -0.6875 \nQ 15.09375 0.046875 10.984375 1.515625 \nz\nM 30.609375 32.421875 \nQ 37.25 32.421875 41.125 36.953125 \nQ 45.015625 41.5 45.015625 49.421875 \nQ 45.015625 57.28125 41.125 61.84375 \nQ 37.25 66.40625 30.609375 66.40625 \nQ 23.96875 66.40625 20.09375 61.84375 \nQ 16.21875 57.28125 16.21875 49.421875 \nQ 16.21875 41.5 20.09375 36.953125 \nQ 23.96875 32.421875 30.609375 32.421875 \nz\n\" id=\"DejaVuSans-57\"/>\n       </defs>\n       <use xlink:href=\"#DejaVuSans-57\"/>\n      </g>\n     </g>\n    </g>\n    <g id=\"ytick_9\">\n     <g id=\"line2d_15\">\n      <g>\n       <use style=\"stroke:#000000;\" x=\"39.989\" xlink:href=\"#mf5649d37dc\" y=\"43.612633\"/>\n      </g>\n     </g>\n     <g id=\"text_16\">\n      <!-- 10 -->\n      <g transform=\"translate(20.491 46.955945)scale(0.088 -0.088)\">\n       <use xlink:href=\"#DejaVuSans-49\"/>\n       <use x=\"63.623047\" xlink:href=\"#DejaVuSans-48\"/>\n      </g>\n     </g>\n    </g>\n    <g id=\"text_17\">\n     <!-- Cost function -->\n     <g transform=\"translate(14.4945 161.01825)rotate(-90)scale(0.096 -0.096)\">\n      <defs>\n       <path d=\"M 64.40625 67.28125 \nL 64.40625 56.890625 \nQ 59.421875 61.53125 53.78125 63.8125 \nQ 48.140625 66.109375 41.796875 66.109375 \nQ 29.296875 66.109375 22.65625 58.46875 \nQ 16.015625 50.828125 16.015625 36.375 \nQ 16.015625 21.96875 22.65625 14.328125 \nQ 29.296875 6.6875 41.796875 6.6875 \nQ 48.140625 6.6875 53.78125 8.984375 \nQ 59.421875 11.28125 64.40625 15.921875 \nL 64.40625 5.609375 \nQ 59.234375 2.09375 53.4375 0.328125 \nQ 47.65625 -1.421875 41.21875 -1.421875 \nQ 24.65625 -1.421875 15.125 8.703125 \nQ 5.609375 18.84375 5.609375 36.375 \nQ 5.609375 53.953125 15.125 64.078125 \nQ 24.65625 74.21875 41.21875 74.21875 \nQ 47.75 74.21875 53.53125 72.484375 \nQ 59.328125 70.75 64.40625 67.28125 \nz\n\" id=\"DejaVuSans-67\"/>\n       <path d=\"M 44.28125 53.078125 \nL 44.28125 44.578125 \nQ 40.484375 46.53125 36.375 47.5 \nQ 32.28125 48.484375 27.875 48.484375 \nQ 21.1875 48.484375 17.84375 46.4375 \nQ 14.5 44.390625 14.5 40.28125 \nQ 14.5 37.15625 16.890625 35.375 \nQ 19.28125 33.59375 26.515625 31.984375 \nL 29.59375 31.296875 \nQ 39.15625 29.25 43.1875 25.515625 \nQ 47.21875 21.78125 47.21875 15.09375 \nQ 47.21875 7.46875 41.1875 3.015625 \nQ 35.15625 -1.421875 24.609375 -1.421875 \nQ 20.21875 -1.421875 15.453125 -0.5625 \nQ 10.6875 0.296875 5.421875 2 \nL 5.421875 11.28125 \nQ 10.40625 8.6875 15.234375 7.390625 \nQ 20.0625 6.109375 24.8125 6.109375 \nQ 31.15625 6.109375 34.5625 8.28125 \nQ 37.984375 10.453125 37.984375 14.40625 \nQ 37.984375 18.0625 35.515625 20.015625 \nQ 33.0625 21.96875 24.703125 23.78125 \nL 21.578125 24.515625 \nQ 13.234375 26.265625 9.515625 29.90625 \nQ 5.8125 33.546875 5.8125 39.890625 \nQ 5.8125 47.609375 11.28125 51.796875 \nQ 16.75 56 26.8125 56 \nQ 31.78125 56 36.171875 55.265625 \nQ 40.578125 54.546875 44.28125 53.078125 \nz\n\" id=\"DejaVuSans-115\"/>\n       <path id=\"DejaVuSans-32\"/>\n       <path d=\"M 37.109375 75.984375 \nL 37.109375 68.5 \nL 28.515625 68.5 \nQ 23.6875 68.5 21.796875 66.546875 \nQ 19.921875 64.59375 19.921875 59.515625 \nL 19.921875 54.6875 \nL 34.71875 54.6875 \nL 34.71875 47.703125 \nL 19.921875 47.703125 \nL 19.921875 0 \nL 10.890625 0 \nL 10.890625 47.703125 \nL 2.296875 47.703125 \nL 2.296875 54.6875 \nL 10.890625 54.6875 \nL 10.890625 58.5 \nQ 10.890625 67.625 15.140625 71.796875 \nQ 19.390625 75.984375 28.609375 75.984375 \nz\n\" id=\"DejaVuSans-102\"/>\n       <path d=\"M 8.5 21.578125 \nL 8.5 54.6875 \nL 17.484375 54.6875 \nL 17.484375 21.921875 \nQ 17.484375 14.15625 20.5 10.265625 \nQ 23.53125 6.390625 29.59375 6.390625 \nQ 36.859375 6.390625 41.078125 11.03125 \nQ 45.3125 15.671875 45.3125 23.6875 \nL 45.3125 54.6875 \nL 54.296875 54.6875 \nL 54.296875 0 \nL 45.3125 0 \nL 45.3125 8.40625 \nQ 42.046875 3.421875 37.71875 1 \nQ 33.40625 -1.421875 27.6875 -1.421875 \nQ 18.265625 -1.421875 13.375 4.4375 \nQ 8.5 10.296875 8.5 21.578125 \nz\nM 31.109375 56 \nz\n\" id=\"DejaVuSans-117\"/>\n       <path d=\"M 48.78125 52.59375 \nL 48.78125 44.1875 \nQ 44.96875 46.296875 41.140625 47.34375 \nQ 37.3125 48.390625 33.40625 48.390625 \nQ 24.65625 48.390625 19.8125 42.84375 \nQ 14.984375 37.3125 14.984375 27.296875 \nQ 14.984375 17.28125 19.8125 11.734375 \nQ 24.65625 6.203125 33.40625 6.203125 \nQ 37.3125 6.203125 41.140625 7.25 \nQ 44.96875 8.296875 48.78125 10.40625 \nL 48.78125 2.09375 \nQ 45.015625 0.34375 40.984375 -0.53125 \nQ 36.96875 -1.421875 32.421875 -1.421875 \nQ 20.0625 -1.421875 12.78125 6.34375 \nQ 5.515625 14.109375 5.515625 27.296875 \nQ 5.515625 40.671875 12.859375 48.328125 \nQ 20.21875 56 33.015625 56 \nQ 37.15625 56 41.109375 55.140625 \nQ 45.0625 54.296875 48.78125 52.59375 \nz\n\" id=\"DejaVuSans-99\"/>\n      </defs>\n      <use xlink:href=\"#DejaVuSans-67\"/>\n      <use x=\"69.824219\" xlink:href=\"#DejaVuSans-111\"/>\n      <use x=\"131.005859\" xlink:href=\"#DejaVuSans-115\"/>\n      <use x=\"183.105469\" xlink:href=\"#DejaVuSans-116\"/>\n      <use x=\"222.314453\" xlink:href=\"#DejaVuSans-32\"/>\n      <use x=\"254.101562\" xlink:href=\"#DejaVuSans-102\"/>\n      <use x=\"289.306641\" xlink:href=\"#DejaVuSans-117\"/>\n      <use x=\"352.685547\" xlink:href=\"#DejaVuSans-110\"/>\n      <use x=\"416.064453\" xlink:href=\"#DejaVuSans-99\"/>\n      <use x=\"471.044922\" xlink:href=\"#DejaVuSans-116\"/>\n      <use x=\"510.253906\" xlink:href=\"#DejaVuSans-105\"/>\n      <use x=\"538.037109\" xlink:href=\"#DejaVuSans-111\"/>\n      <use x=\"599.21875\" xlink:href=\"#DejaVuSans-110\"/>\n     </g>\n    </g>\n   </g>\n   <g id=\"line2d_16\">\n    <path clip-path=\"url(#p2678f8f6d3)\" d=\"M 60.279909 60.398369 \nL 60.686133 66.005073 \nL 61.092358 67.189049 \nL 61.498582 63.528567 \nL 61.904807 55.691872 \nL 62.717256 34.233171 \nL 63.12348 30.378136 \nL 63.529704 39.289849 \nL 63.935929 52.124054 \nL 64.342153 55.090304 \nL 64.748378 54.486512 \nL 65.154602 59.989712 \nL 65.560826 67.186127 \nL 65.967051 71.280986 \nL 67.185724 92.025681 \nL 68.404397 108.905419 \nL 69.62307 123.077421 \nL 70.435519 130.562977 \nL 70.841744 133.490305 \nL 71.247968 135.583673 \nL 71.654192 136.508457 \nL 72.060417 136.400516 \nL 72.466641 136.602005 \nL 72.872866 138.230968 \nL 74.903988 150.954563 \nL 76.528885 158.907417 \nL 79.778681 173.155336 \nL 82.622251 184.918144 \nL 84.653373 192.357862 \nL 86.278271 197.389861 \nL 87.903169 201.639533 \nL 89.528066 205.164385 \nL 90.74674 207.286482 \nL 91.965413 208.968877 \nL 93.184086 210.299043 \nL 94.808984 211.727643 \nL 97.652554 214.166738 \nL 100.496125 217.013064 \nL 107.808165 224.524208 \nL 109.433062 225.762323 \nL 110.651735 226.405346 \nL 111.870409 226.753167 \nL 113.089082 226.812015 \nL 114.307755 226.599644 \nL 115.120204 226.179388 \nL 115.526428 225.68375 \nL 116.745102 222.906337 \nL 117.151326 222.693009 \nL 118.369999 222.814092 \nL 119.182448 222.449297 \nL 119.994897 221.695344 \nL 121.619794 219.664284 \nL 122.432243 218.514747 \nL 122.838468 217.736591 \nL 123.244692 216.664783 \nL 123.650916 215.055066 \nL 124.057141 211.948661 \nL 124.463365 202.09434 \nL 124.86959 187.362285 \nL 125.275814 197.746277 \nL 125.682038 211.553246 \nL 126.088263 214.574161 \nL 126.494487 216.495448 \nL 126.900712 217.269512 \nL 127.306936 216.562803 \nL 128.119385 213.410412 \nL 128.525609 212.420059 \nL 128.931834 211.885261 \nL 129.744283 210.08218 \nL 130.556731 208.593224 \nL 130.962956 208.654447 \nL 132.181629 214.145252 \nL 132.994078 216.575715 \nL 133.400302 217.510053 \nL 133.806527 217.975823 \nL 134.618975 218.213743 \nL 135.0252 218.167145 \nL 135.431424 217.733428 \nL 137.056322 214.651901 \nL 138.274995 213.156027 \nL 138.681219 212.460125 \nL 139.087444 211.161364 \nL 139.493668 207.974365 \nL 139.899893 203.432751 \nL 140.712342 200.47509 \nL 141.118566 194.502961 \nL 141.52479 190.179233 \nL 141.931015 190.03847 \nL 142.337239 181.08515 \nL 142.743464 178.190666 \nL 143.149688 179.283506 \nL 143.555912 177.930903 \nL 143.962137 173.820181 \nL 144.368361 177.102512 \nL 144.774586 177.969238 \nL 145.587034 186.004782 \nL 145.993259 185.350467 \nL 146.399483 183.640418 \nL 146.805708 183.383086 \nL 147.211932 182.288154 \nL 147.618156 180.796153 \nL 148.024381 182.39524 \nL 148.83683 186.967069 \nL 149.649278 191.769322 \nL 150.867952 198.481151 \nL 151.6804 202.399371 \nL 153.711523 210.225193 \nL 155.33642 215.315128 \nL 156.961318 221.610879 \nL 157.773767 223.47587 \nL 158.179991 223.975615 \nL 158.586215 224.17308 \nL 158.99244 224.063039 \nL 159.398664 223.653148 \nL 160.211113 222.083751 \nL 161.429786 219.245625 \nL 162.242235 218.125698 \nL 163.054684 217.545887 \nL 164.273357 217.093403 \nL 165.49203 216.938897 \nL 166.710704 216.832981 \nL 167.523152 216.52203 \nL 168.741826 215.721669 \nL 169.960499 214.738307 \nL 170.772948 213.847776 \nL 171.585396 212.676325 \nL 172.80407 210.456013 \nL 174.022743 208.155733 \nL 174.428967 207.610833 \nL 174.835192 207.264263 \nL 175.241416 207.107349 \nL 176.053865 207.202146 \nL 178.084987 207.951695 \nL 178.897436 207.9587 \nL 179.709885 207.71344 \nL 180.522333 207.218652 \nL 183.772129 204.651721 \nL 184.178353 204.628747 \nL 187.021924 205.383943 \nL 188.240597 205.272032 \nL 192.302841 204.40792 \nL 193.11529 203.895093 \nL 193.927739 202.951525 \nL 194.740188 201.497574 \nL 195.552636 199.860036 \nL 195.958861 199.32884 \nL 196.365085 199.114716 \nL 196.77131 199.205822 \nL 197.177534 199.557315 \nL 197.989983 200.807146 \nL 199.208656 203.043028 \nL 200.021105 204.01837 \nL 200.427329 204.203994 \nL 200.833554 204.159464 \nL 201.239778 203.893018 \nL 202.052227 202.869791 \nL 202.864676 201.70883 \nL 203.2709 201.28094 \nL 203.677124 201.019366 \nL 204.083349 200.925021 \nL 204.895798 201.068934 \nL 205.708247 201.199222 \nL 206.114471 201.093942 \nL 206.520695 200.815078 \nL 206.92692 200.32428 \nL 207.333144 199.520703 \nL 207.739369 198.055263 \nL 208.145593 195.049453 \nL 208.958042 185.704241 \nL 209.364266 184.731693 \nL 209.770491 188.945379 \nL 210.582939 191.882644 \nL 210.989164 201.282696 \nL 211.395388 206.687969 \nL 211.801613 207.880306 \nL 212.207837 206.686573 \nL 213.020286 212.150005 \nL 213.42651 213.362405 \nL 214.238959 211.132408 \nL 214.645183 209.791459 \nL 215.051408 212.154835 \nL 215.863857 217.85777 \nL 216.270081 219.788111 \nL 216.676305 220.900639 \nL 217.08253 220.94248 \nL 217.894979 218.979665 \nL 218.301203 219.466685 \nL 219.926101 224.569178 \nL 220.73855 225.858393 \nL 221.550998 226.415178 \nL 222.363447 226.496892 \nL 223.175896 226.239354 \nL 223.988345 225.66482 \nL 224.800794 224.749958 \nL 225.613242 223.465264 \nL 226.425691 221.545189 \nL 226.831916 219.9411 \nL 227.23814 217.321716 \nL 227.644364 213.298597 \nL 228.863038 199.062687 \nL 229.269262 199.368912 \nL 230.081711 203.202348 \nL 230.487935 204.082171 \nL 230.89416 203.192839 \nL 231.300384 195.970432 \nL 231.706609 176.632741 \nL 232.112833 167.168117 \nL 232.519057 173.848767 \nL 232.925282 173.10925 \nL 233.331506 171.953271 \nL 233.737731 173.642306 \nL 234.956404 182.771264 \nL 235.362628 187.247059 \nL 236.175077 192.984526 \nL 236.987526 198.732845 \nL 237.39375 200.737234 \nL 237.799975 202.005074 \nL 238.206199 202.346197 \nL 238.612423 201.968478 \nL 239.018648 201.84845 \nL 239.424872 202.347728 \nL 240.643545 204.500098 \nL 241.455994 205.318208 \nL 243.487116 206.582568 \nL 244.299565 207.286267 \nL 244.70579 207.438069 \nL 245.112014 207.404416 \nL 245.518238 207.145166 \nL 245.924463 206.46319 \nL 246.330687 205.102162 \nL 246.736912 202.839997 \nL 247.143136 189.221965 \nL 247.54936 164.701836 \nL 247.955585 164.823284 \nL 248.361809 174.15321 \nL 249.174258 186.903478 \nL 250.392931 201.979669 \nL 250.799156 205.600508 \nL 251.20538 207.701104 \nL 251.611604 207.150285 \nL 252.017829 202.26624 \nL 252.424053 191.777455 \nL 252.830278 189.284563 \nL 253.236502 191.304827 \nL 253.642726 193.976772 \nL 254.455175 196.709178 \nL 254.8614 197.926433 \nL 255.267624 198.581942 \nL 255.673848 198.640861 \nL 256.486297 198.41003 \nL 256.892522 198.495161 \nL 257.298746 198.841377 \nL 258.111195 200.061501 \nL 258.923644 201.283032 \nL 259.329868 201.690962 \nL 259.736093 201.940747 \nL 260.548541 202.104208 \nL 262.579663 202.27965 \nL 263.392112 202.060235 \nL 264.610785 201.652306 \nL 265.423234 201.594848 \nL 271.110376 201.873956 \nL 272.329049 201.888138 \nL 273.141498 202.074393 \nL 274.360171 202.667596 \nL 275.578844 203.315583 \nL 276.391293 203.480544 \nL 276.797518 203.416492 \nL 277.609966 202.937539 \nL 278.422415 202.031608 \nL 279.641088 200.529828 \nL 280.047313 200.286219 \nL 280.453537 200.284458 \nL 280.859762 200.522823 \nL 282.484659 202.23225 \nL 282.890884 202.205372 \nL 283.297108 201.450605 \nL 284.515781 196.296816 \nL 284.922006 197.172646 \nL 286.953128 203.996046 \nL 287.359352 205.116628 \nL 287.765577 205.86948 \nL 288.171801 206.178064 \nL 288.578025 206.225504 \nL 289.390474 205.971464 \nL 290.202923 205.201617 \nL 292.234045 202.536708 \nL 293.452718 201.548713 \nL 295.48384 200.31008 \nL 297.514962 199.450598 \nL 297.921187 198.949012 \nL 298.327411 198.107248 \nL 298.733636 196.757663 \nL 299.546084 192.275818 \nL 299.952309 190.105642 \nL 300.358533 189.45645 \nL 300.764758 190.792234 \nL 301.170982 193.576956 \nL 301.577206 195.432272 \nL 301.983431 194.288127 \nL 302.389655 195.131285 \nL 304.827002 213.99393 \nL 305.63945 218.584985 \nL 306.451899 222.271683 \nL 307.264348 225.105818 \nL 308.076797 227.142597 \nL 308.483021 227.820221 \nL 308.889246 228.050864 \nL 309.29547 227.438222 \nL 309.701695 226.259678 \nL 310.107919 225.458153 \nL 310.514143 225.170578 \nL 310.920368 225.294518 \nL 311.326592 225.057478 \nL 312.139041 223.683984 \nL 312.545265 222.502256 \nL 312.95149 219.694601 \nL 313.357714 215.537038 \nL 313.763939 206.332299 \nL 314.170163 192.584423 \nL 314.576387 185.375628 \nL 315.795061 202.511729 \nL 316.201285 209.20929 \nL 316.607509 207.934761 \nL 318.232407 172.416853 \nL 318.638631 174.048687 \nL 319.45108 183.174211 \nL 319.857305 185.279564 \nL 320.263529 183.840071 \nL 320.669753 181.073758 \nL 321.482202 184.568717 \nL 321.888427 182.980071 \nL 322.700876 178.526705 \nL 323.1071 175.970671 \nL 323.513324 178.413169 \nL 325.544446 194.370046 \nL 326.76312 202.082906 \nL 327.575568 206.129764 \nL 328.388017 209.167929 \nL 329.200466 211.167765 \nL 330.012915 212.284613 \nL 330.419139 212.493821 \nL 330.825364 212.458478 \nL 331.231588 212.22975 \nL 331.637812 211.104361 \nL 332.044037 208.345213 \nL 332.450261 204.735281 \nL 332.856486 203.0568 \nL 333.26271 204.626288 \nL 334.075159 208.34284 \nL 334.481383 209.424926 \nL 335.293832 210.375537 \nL 336.512505 211.593825 \nL 336.91873 211.742788 \nL 337.731179 211.684951 \nL 339.356076 211.159695 \nL 340.574749 210.591514 \nL 341.387198 209.965682 \nL 343.824545 207.507674 \nL 344.636993 206.507074 \nL 346.261891 204.245213 \nL 347.07434 203.59653 \nL 348.293013 202.769635 \nL 349.105462 202.021845 \nL 349.511686 201.920002 \nL 349.917911 202.093182 \nL 350.73036 202.929591 \nL 351.542808 203.82614 \nL 352.355257 204.382804 \nL 353.167706 204.492136 \nL 353.980155 204.208677 \nL 355.605052 203.143497 \nL 356.417501 203.023216 \nL 357.22995 203.03612 \nL 357.636174 202.941294 \nL 358.042399 202.637082 \nL 358.448623 201.883816 \nL 358.854848 200.24525 \nL 359.261072 197.472323 \nL 359.667296 195.55919 \nL 360.073521 197.098645 \nL 362.104643 215.827777 \nL 362.917092 220.500698 \nL 363.729541 223.729294 \nL 364.541989 225.936392 \nL 365.354438 227.339381 \nL 365.760663 227.737271 \nL 366.166887 227.90124 \nL 366.573111 227.830884 \nL 366.979336 227.506643 \nL 367.38556 226.69163 \nL 367.791785 224.982905 \nL 368.198009 221.793113 \nL 368.604233 213.164658 \nL 369.010458 193.038498 \nL 369.416682 185.689188 \nL 369.822907 190.126574 \nL 370.229131 192.766923 \nL 371.04158 195.979471 \nL 371.447804 196.83318 \nL 371.854029 197.137831 \nL 372.260253 198.952434 \nL 373.478926 207.857004 \nL 373.885151 208.265578 \nL 374.291375 207.709499 \nL 374.6976 205.951277 \nL 375.103824 202.230402 \nL 375.510048 197.251985 \nL 375.916273 196.153707 \nL 377.134946 202.81769 \nL 377.54117 202.462472 \nL 377.947395 200.602197 \nL 378.353619 200.44204 \nL 379.166068 202.889106 \nL 379.978517 205.327597 \nL 380.384741 205.783726 \nL 380.790966 205.185572 \nL 381.19719 204.867277 \nL 382.415863 207.938785 \nL 382.822088 207.997184 \nL 383.228312 207.055643 \nL 384.446985 202.088816 \nL 385.259434 199.453033 \nL 385.665658 199.765461 \nL 386.071883 201.569536 \nL 388.103005 213.437476 \nL 388.509229 214.556543 \nL 388.915454 214.284289 \nL 389.321678 212.818938 \nL 389.727903 210.091444 \nL 390.134127 205.965287 \nL 390.946576 192.759899 \nL 391.759025 199.405628 \nL 392.165249 201.158311 \nL 392.571473 201.998997 \nL 393.790147 203.914255 \nL 394.602595 205.4248 \nL 395.415044 206.410461 \nL 395.821269 206.508895 \nL 396.227493 206.128144 \nL 397.039942 204.806704 \nL 397.446166 204.909079 \nL 398.258615 206.281282 \nL 398.664839 207.177566 \nL 399.477288 209.769094 \nL 400.289737 212.211324 \nL 400.695962 212.748134 \nL 401.102186 212.543588 \nL 401.50841 211.464333 \nL 401.914635 209.477692 \nL 402.320859 205.957411 \nL 402.727084 199.989449 \nL 403.133308 197.604272 \nL 404.351981 198.064343 \nL 404.758206 198.818261 \nL 405.976879 203.018226 \nL 407.195552 206.032873 \nL 407.601776 206.111232 \nL 408.008001 205.796242 \nL 408.414225 205.829581 \nL 408.82045 206.008858 \nL 409.226674 206.02062 \nL 409.632898 206.193798 \nL 410.445347 206.854321 \nL 411.257796 207.394902 \nL 412.070245 208.237983 \nL 413.288918 209.785259 \nL 413.695143 209.94783 \nL 414.101367 209.628238 \nL 414.507591 208.70345 \nL 415.32004 206.538357 \nL 415.726265 206.551671 \nL 416.538713 208.229279 \nL 416.944938 209.01339 \nL 417.351162 209.472228 \nL 417.757387 209.615779 \nL 418.569835 209.740147 \nL 419.382284 210.238916 \nL 419.788509 210.50849 \nL 420.194733 210.618147 \nL 420.600957 210.412492 \nL 421.007182 209.865322 \nL 421.413406 209.517194 \nL 421.819631 209.835983 \nL 422.632079 210.846567 \nL 423.038304 210.942177 \nL 424.256977 210.480996 \nL 424.663201 210.605821 \nL 425.47565 211.147222 \nL 425.881875 211.266467 \nL 427.100548 211.156393 \nL 427.912997 211.468474 \nL 428.725446 211.485448 \nL 429.537894 211.473726 \nL 430.756568 211.72894 \nL 432.381465 211.795286 \nL 433.600138 211.929656 \nL 438.474831 212.260112 \nL 454.317583 213.161233 \nL 466.098091 213.770908 \nL 466.098091 213.770908 \n\" style=\"fill:none;stroke:#1f77b4;stroke-linecap:square;stroke-width:1.2;\"/>\n   </g>\n   <g id=\"patch_3\">\n    <path d=\"M 39.989 237.9345 \nL 39.989 20.4945 \n\" style=\"fill:none;stroke:#000000;stroke-linecap:square;stroke-linejoin:miter;\"/>\n   </g>\n   <g id=\"patch_4\">\n    <path d=\"M 486.389 237.9345 \nL 486.389 20.4945 \n\" style=\"fill:none;stroke:#000000;stroke-linecap:square;stroke-linejoin:miter;\"/>\n   </g>\n   <g id=\"patch_5\">\n    <path d=\"M 39.989 237.9345 \nL 486.389 237.9345 \n\" style=\"fill:none;stroke:#000000;stroke-linecap:square;stroke-linejoin:miter;\"/>\n   </g>\n   <g id=\"patch_6\">\n    <path d=\"M 39.989 20.4945 \nL 486.389 20.4945 \n\" style=\"fill:none;stroke:#000000;stroke-linecap:square;stroke-linejoin:miter;\"/>\n   </g>\n   <g id=\"text_18\">\n    <!-- cost over time -->\n    <g transform=\"translate(228.6305 14.4945)scale(0.096 -0.096)\">\n     <defs>\n      <path d=\"M 2.984375 54.6875 \nL 12.5 54.6875 \nL 29.59375 8.796875 \nL 46.6875 54.6875 \nL 56.203125 54.6875 \nL 35.6875 0 \nL 23.484375 0 \nz\n\" id=\"DejaVuSans-118\"/>\n      <path d=\"M 52 44.1875 \nQ 55.375 50.25 60.0625 53.125 \nQ 64.75 56 71.09375 56 \nQ 79.640625 56 84.28125 50.015625 \nQ 88.921875 44.046875 88.921875 33.015625 \nL 88.921875 0 \nL 79.890625 0 \nL 79.890625 32.71875 \nQ 79.890625 40.578125 77.09375 44.375 \nQ 74.3125 48.1875 68.609375 48.1875 \nQ 61.625 48.1875 57.5625 43.546875 \nQ 53.515625 38.921875 53.515625 30.90625 \nL 53.515625 0 \nL 44.484375 0 \nL 44.484375 32.71875 \nQ 44.484375 40.625 41.703125 44.40625 \nQ 38.921875 48.1875 33.109375 48.1875 \nQ 26.21875 48.1875 22.15625 43.53125 \nQ 18.109375 38.875 18.109375 30.90625 \nL 18.109375 0 \nL 9.078125 0 \nL 9.078125 54.6875 \nL 18.109375 54.6875 \nL 18.109375 46.1875 \nQ 21.1875 51.21875 25.484375 53.609375 \nQ 29.78125 56 35.6875 56 \nQ 41.65625 56 45.828125 52.96875 \nQ 50 49.953125 52 44.1875 \nz\n\" id=\"DejaVuSans-109\"/>\n     </defs>\n     <use xlink:href=\"#DejaVuSans-99\"/>\n     <use x=\"54.980469\" xlink:href=\"#DejaVuSans-111\"/>\n     <use x=\"116.162109\" xlink:href=\"#DejaVuSans-115\"/>\n     <use x=\"168.261719\" xlink:href=\"#DejaVuSans-116\"/>\n     <use x=\"207.470703\" xlink:href=\"#DejaVuSans-32\"/>\n     <use x=\"239.257812\" xlink:href=\"#DejaVuSans-111\"/>\n     <use x=\"300.439453\" xlink:href=\"#DejaVuSans-118\"/>\n     <use x=\"359.619141\" xlink:href=\"#DejaVuSans-101\"/>\n     <use x=\"421.142578\" xlink:href=\"#DejaVuSans-114\"/>\n     <use x=\"462.255859\" xlink:href=\"#DejaVuSans-32\"/>\n     <use x=\"494.042969\" xlink:href=\"#DejaVuSans-116\"/>\n     <use x=\"533.251953\" xlink:href=\"#DejaVuSans-105\"/>\n     <use x=\"561.035156\" xlink:href=\"#DejaVuSans-109\"/>\n     <use x=\"658.447266\" xlink:href=\"#DejaVuSans-101\"/>\n    </g>\n   </g>\n  </g>\n </g>\n <defs>\n  <clipPath id=\"p2678f8f6d3\">\n   <rect height=\"217.44\" width=\"446.4\" x=\"39.989\" y=\"20.4945\"/>\n  </clipPath>\n </defs>\n</svg>\n",
      "image/png": "[encoded data removed]"
     },
     "metadata": {
      "needs_background": "light"
     }
    }
   ],
   "source": [
    "#get al classes\n",
    "x_train_all, x_test_all, y_train_all, y_test_all = reduced_form(y_train, y_test, x_train, x_test, [1,0,2,3,4,5,6,7,8,9])\n",
    "#create one hot encoding\n",
    "all_y_train_one_hot, all_y_test_one_hot = create_one_hot_train_and_test(y_train_all, y_test_all)\n",
    "\n",
    "#decide on learning rate and iterations\n",
    "learning_rate = 0.1 #set an arbitrary learning rate... we can iterate and try a few others soon\n",
    "iterations_all = 1000\n",
    "\n",
    "#run loop\n",
    "cost_softmax_all, dict_of_FP_values_softmax_all, dict_of_weights_softmax_all = soft_max_iteration(learning_rate, iterations_all, x_train_all, all_y_train_one_hot)\n",
    "\n",
    "#train set predictions\n",
    "softmax_predictions(dict_of_FP_values_softmax_all, y_train_all)\n",
    "\n",
    "#plot cost\n",
    "plot_cost_over_time(cost_softmax_all, iterations_all)"
   ]
  },
  {
   "source": [
    "#Redefining functions to try more hidden layers"
   ],
   "cell_type": "markdown",
   "metadata": {}
  },
  {
   "cell_type": "code",
   "execution_count": 746,
   "metadata": {},
   "outputs": [
    {
     "output_type": "execute_result",
     "data": {
      "text/plain": [
       "list"
      ]
     },
     "metadata": {},
     "execution_count": 746
    }
   ],
   "source": [
    "type([x_train_flat.shape[0]])"
   ]
  },
  {
   "cell_type": "code",
   "execution_count": 751,
   "metadata": {},
   "outputs": [
    {
     "output_type": "stream",
     "name": "stdout",
     "text": [
      "Weights matrices\nW1 (100, 784)\nB1 (100, 1)\nW2 (100, 100)\nB2 (100, 1)\nW3 (50, 100)\nB3 (50, 1)\nW4 (50, 50)\nB4 (50, 1)\nW5 (10, 50)\nB5 (10, 1)\n"
     ]
    },
    {
     "output_type": "execute_result",
     "data": {
      "text/plain": [
       "{'W1': array([[ 2.44059521, -0.16270368,  1.199702  , ..., -1.3872182 ,\n",
       "          0.88229415, -1.86273326],\n",
       "        [ 2.14680421, -1.00931627, -0.04931785, ...,  0.68553117,\n",
       "          0.02815151, -0.22546649],\n",
       "        [-1.7545047 ,  0.88090551, -0.14975293, ..., -1.13244888,\n",
       "          0.22264381, -0.65960658],\n",
       "        ...,\n",
       "        [ 0.09457242, -0.41737069,  0.7534414 , ..., -0.94022522,\n",
       "         -0.59622049,  1.24318917],\n",
       "        [ 1.75815973, -0.85153944,  1.99104251, ...,  0.62846954,\n",
       "          0.12275656,  0.10238974],\n",
       "        [ 0.02928591, -1.07872266,  0.86047719, ..., -0.07559914,\n",
       "         -0.49757167,  0.03498698]]),\n",
       " 'B1': array([[-6.17846168e-04],\n",
       "        [-1.29865488e+00],\n",
       "        [-6.42779545e-01],\n",
       "        [-6.34980898e-01],\n",
       "        [ 1.01136477e+00],\n",
       "        [ 5.68877697e-01],\n",
       "        [ 6.18585677e-01],\n",
       "        [-5.95689360e-01],\n",
       "        [ 1.10454890e+00],\n",
       "        [ 1.59907528e+00],\n",
       "        [ 1.50201049e+00],\n",
       "        [ 6.49088324e-01],\n",
       "        [ 9.96287628e-01],\n",
       "        [ 2.10331171e-01],\n",
       "        [ 1.08459904e+00],\n",
       "        [-1.48164493e-01],\n",
       "        [ 4.28983676e-01],\n",
       "        [ 9.68927906e-01],\n",
       "        [-7.77113626e-01],\n",
       "        [ 1.02539801e+00],\n",
       "        [ 1.67565008e+00],\n",
       "        [ 1.87173474e-02],\n",
       "        [ 1.31571638e+00],\n",
       "        [-3.82741726e-01],\n",
       "        [ 1.21786175e+00],\n",
       "        [-9.82942007e-01],\n",
       "        [ 1.25461459e+00],\n",
       "        [ 6.98314292e-01],\n",
       "        [-1.83766679e+00],\n",
       "        [-1.24722990e+00],\n",
       "        [ 1.63577589e-01],\n",
       "        [-8.95257253e-01],\n",
       "        [-4.39647090e-01],\n",
       "        [ 5.90249505e-01],\n",
       "        [-2.14984685e-01],\n",
       "        [ 1.70961841e+00],\n",
       "        [-1.91634056e+00],\n",
       "        [ 5.99556447e-01],\n",
       "        [-2.58516397e+00],\n",
       "        [ 1.49382534e+00],\n",
       "        [ 1.50595365e+00],\n",
       "        [-7.65474635e-02],\n",
       "        [ 8.96348941e-01],\n",
       "        [-2.54227185e-02],\n",
       "        [-4.74609429e-01],\n",
       "        [ 1.11968923e+00],\n",
       "        [ 1.26253124e+00],\n",
       "        [-6.94777773e-02],\n",
       "        [-9.01115198e-01],\n",
       "        [-1.17111247e+00],\n",
       "        [ 8.02960858e-01],\n",
       "        [ 1.11378355e+00],\n",
       "        [ 8.50998072e-01],\n",
       "        [ 5.76076453e-01],\n",
       "        [-1.35981935e+00],\n",
       "        [ 9.74842375e-01],\n",
       "        [-7.23841523e-01],\n",
       "        [-1.23677247e+00],\n",
       "        [-9.65084445e-01],\n",
       "        [ 6.83982355e-02],\n",
       "        [-2.63986691e+00],\n",
       "        [ 9.06336330e-01],\n",
       "        [ 1.06428844e-01],\n",
       "        [ 9.79846831e-01],\n",
       "        [-6.05733120e-01],\n",
       "        [-7.91944999e-01],\n",
       "        [-2.40950234e+00],\n",
       "        [ 1.41492298e+00],\n",
       "        [ 2.89140525e-01],\n",
       "        [-2.09976574e+00],\n",
       "        [-2.04860088e+00],\n",
       "        [-6.68037677e-01],\n",
       "        [-2.28408330e-01],\n",
       "        [-5.74286970e-01],\n",
       "        [-2.82003490e-01],\n",
       "        [-9.07372765e-02],\n",
       "        [-1.53969816e+00],\n",
       "        [ 3.58108280e-01],\n",
       "        [-1.23298046e+00],\n",
       "        [-1.01021725e+00],\n",
       "        [ 1.98874786e-02],\n",
       "        [-9.65935023e-01],\n",
       "        [ 1.46524162e+00],\n",
       "        [-1.34656518e-01],\n",
       "        [-6.19398720e-01],\n",
       "        [ 2.49127465e-01],\n",
       "        [-5.22382223e-01],\n",
       "        [-2.17818941e-01],\n",
       "        [-9.72506636e-01],\n",
       "        [ 6.11214437e-01],\n",
       "        [ 5.11176204e-01],\n",
       "        [ 1.59977109e+00],\n",
       "        [-8.86627515e-01],\n",
       "        [ 7.25984150e-01],\n",
       "        [-1.36040204e+00],\n",
       "        [ 2.37360006e+00],\n",
       "        [-1.12112145e+00],\n",
       "        [-1.98345689e-01],\n",
       "        [-4.43078159e-01],\n",
       "        [ 7.36655738e-01]]),\n",
       " 'W2': array([[-0.16997529, -0.26676729,  0.23427747, ...,  1.06879018,\n",
       "          0.5764188 ,  0.54427527],\n",
       "        [-0.29600211, -0.02061265, -0.56538226, ...,  0.49316611,\n",
       "         -0.6870922 ,  1.16247751],\n",
       "        [ 0.06992734, -0.29409672,  0.46875619, ...,  0.02357036,\n",
       "          0.14212837,  0.0633853 ],\n",
       "        ...,\n",
       "        [ 1.72631846, -0.39248269,  0.10569643, ...,  0.33945491,\n",
       "          0.26622675,  1.12738918],\n",
       "        [-0.20064292, -0.18148995,  1.10758839, ..., -0.39818421,\n",
       "         -0.68575672,  0.43241234],\n",
       "        [-0.52358207, -0.80976688,  0.91514213, ..., -1.9977571 ,\n",
       "          0.52943727, -0.90829169]]),\n",
       " 'B2': array([[ 0.00312335],\n",
       "        [-1.5345426 ],\n",
       "        [ 1.59195828],\n",
       "        [ 0.4861966 ],\n",
       "        [ 0.16104934],\n",
       "        [ 1.94961184],\n",
       "        [ 0.97186441],\n",
       "        [ 1.57813631],\n",
       "        [-0.6068672 ],\n",
       "        [-0.56114818],\n",
       "        [ 0.17436729],\n",
       "        [-0.19536089],\n",
       "        [-1.33363325],\n",
       "        [-0.06046646],\n",
       "        [-1.4201933 ],\n",
       "        [-0.96723137],\n",
       "        [-1.6316659 ],\n",
       "        [ 0.26380724],\n",
       "        [ 2.09870951],\n",
       "        [ 1.47483748],\n",
       "        [ 0.03119428],\n",
       "        [-0.00308847],\n",
       "        [ 1.07552684],\n",
       "        [-0.02640824],\n",
       "        [ 0.19651892],\n",
       "        [ 0.20702103],\n",
       "        [ 2.46561945],\n",
       "        [-0.39433098],\n",
       "        [-0.21585887],\n",
       "        [-1.69620526],\n",
       "        [-1.00334042],\n",
       "        [-1.17015466],\n",
       "        [ 0.7598865 ],\n",
       "        [ 1.50607707],\n",
       "        [-0.90751509],\n",
       "        [ 0.85279687],\n",
       "        [ 0.27907129],\n",
       "        [ 0.94057305],\n",
       "        [ 0.92365067],\n",
       "        [-0.15261132],\n",
       "        [ 0.29684283],\n",
       "        [ 0.21589065],\n",
       "        [-0.83130111],\n",
       "        [ 0.50747345],\n",
       "        [ 1.58364727],\n",
       "        [ 0.41025252],\n",
       "        [-0.58340824],\n",
       "        [-0.02744073],\n",
       "        [ 1.09073873],\n",
       "        [ 0.54256014],\n",
       "        [ 0.03416931],\n",
       "        [-0.36557219],\n",
       "        [-1.4453845 ],\n",
       "        [-1.54767988],\n",
       "        [-0.83472835],\n",
       "        [-0.36064883],\n",
       "        [ 1.57074816],\n",
       "        [ 0.88086422],\n",
       "        [-0.4130601 ],\n",
       "        [ 0.2976437 ],\n",
       "        [ 0.4720942 ],\n",
       "        [-0.65524046],\n",
       "        [ 0.56607945],\n",
       "        [-0.37477615],\n",
       "        [-0.79640749],\n",
       "        [ 0.50224326],\n",
       "        [ 0.59628944],\n",
       "        [-1.93185636],\n",
       "        [ 0.15056968],\n",
       "        [-1.06629183],\n",
       "        [-0.25460504],\n",
       "        [ 0.60886862],\n",
       "        [-1.41527183],\n",
       "        [ 0.69736449],\n",
       "        [-0.10429553],\n",
       "        [ 0.9483685 ],\n",
       "        [ 1.0002295 ],\n",
       "        [-0.57077733],\n",
       "        [-0.33404462],\n",
       "        [-0.21817357],\n",
       "        [ 1.08944207],\n",
       "        [ 2.41561265],\n",
       "        [ 1.22772919],\n",
       "        [ 1.26888777],\n",
       "        [ 1.47259384],\n",
       "        [-1.51121099],\n",
       "        [-0.11920626],\n",
       "        [-1.51560587],\n",
       "        [ 1.30859285],\n",
       "        [-1.38038475],\n",
       "        [ 1.26750979],\n",
       "        [-0.65693121],\n",
       "        [-0.29603242],\n",
       "        [ 0.39969928],\n",
       "        [ 1.92475521],\n",
       "        [-0.44447543],\n",
       "        [-0.4020481 ],\n",
       "        [ 1.49349588],\n",
       "        [-0.13341753],\n",
       "        [-1.70404647]]),\n",
       " 'W3': array([[ 0.29688092,  1.04952747,  1.07214603, ..., -1.62431611,\n",
       "         -0.06342634, -0.54231206],\n",
       "        [ 0.90299788, -0.18348382, -1.27855255, ...,  0.70157036,\n",
       "          0.09920806,  1.70582213],\n",
       "        [ 1.00095716,  2.65926443, -0.19910058, ...,  0.40646515,\n",
       "          0.15733419,  0.28379497],\n",
       "        ...,\n",
       "        [ 0.27554297,  1.27996238,  1.96504531, ...,  0.91149419,\n",
       "          1.57581028,  0.85049555],\n",
       "        [-0.61839277, -1.25565825,  0.69415148, ...,  0.75079877,\n",
       "         -0.06825936,  0.13593543],\n",
       "        [-0.48740986, -0.9939897 , -1.43665129, ...,  1.79910119,\n",
       "          0.09810129,  0.99570715]]),\n",
       " 'B3': array([[ 0.58439954],\n",
       "        [-1.59170638],\n",
       "        [ 0.18232019],\n",
       "        [-1.9235072 ],\n",
       "        [ 1.74233659],\n",
       "        [ 0.63085363],\n",
       "        [-1.80612211],\n",
       "        [ 1.5308607 ],\n",
       "        [-0.21680408],\n",
       "        [ 0.97583688],\n",
       "        [ 0.05186239],\n",
       "        [-0.85800029],\n",
       "        [-1.87244572],\n",
       "        [-0.42681739],\n",
       "        [ 0.27247488],\n",
       "        [ 0.90911575],\n",
       "        [-0.08538606],\n",
       "        [ 0.7574133 ],\n",
       "        [ 0.99436293],\n",
       "        [ 0.54446098],\n",
       "        [-0.39880692],\n",
       "        [-1.54265478],\n",
       "        [ 1.71522894],\n",
       "        [ 1.2667828 ],\n",
       "        [-0.077721  ],\n",
       "        [-0.41093191],\n",
       "        [ 1.18384799],\n",
       "        [-0.76613783],\n",
       "        [ 0.663139  ],\n",
       "        [ 0.69890006],\n",
       "        [ 0.48534875],\n",
       "        [-1.42085576],\n",
       "        [-0.37679126],\n",
       "        [-2.5257723 ],\n",
       "        [-0.52007853],\n",
       "        [ 0.48191785],\n",
       "        [-0.06805003],\n",
       "        [ 0.27353102],\n",
       "        [-1.85726168],\n",
       "        [-0.67496945],\n",
       "        [ 0.67521247],\n",
       "        [ 0.85542577],\n",
       "        [-0.33255836],\n",
       "        [ 0.44472631],\n",
       "        [-1.01589781],\n",
       "        [ 0.91367089],\n",
       "        [-0.79368501],\n",
       "        [ 1.3593403 ],\n",
       "        [ 1.2226873 ],\n",
       "        [-0.31337727]]),\n",
       " 'W4': array([[-0.34951211, -0.15175242,  0.47608993, ..., -0.47438444,\n",
       "         -1.46601431, -0.53877294],\n",
       "        [ 1.87064309,  0.92203755,  0.38156225, ..., -0.71363136,\n",
       "          0.68128599, -0.02055225],\n",
       "        [-1.60579346, -0.0804727 ,  0.98647461, ..., -0.84842719,\n",
       "          1.20011314,  0.01495608],\n",
       "        ...,\n",
       "        [-0.0157881 ,  0.07090942,  0.54860645, ...,  1.52457143,\n",
       "         -1.37406336, -0.41360862],\n",
       "        [ 0.51641472,  2.00394595,  0.70914663, ..., -0.03815806,\n",
       "          0.37116159, -1.33041374],\n",
       "        [-0.23218037,  1.16973658, -1.46936197, ...,  0.44947621,\n",
       "          0.33114524, -0.68691348]]),\n",
       " 'B4': array([[-0.23352736],\n",
       "        [ 0.08582013],\n",
       "        [-1.05213714],\n",
       "        [ 1.60948686],\n",
       "        [ 1.16093134],\n",
       "        [-1.56942907],\n",
       "        [ 1.78517722],\n",
       "        [ 0.8195937 ],\n",
       "        [ 0.86437814],\n",
       "        [ 0.35199095],\n",
       "        [ 0.46424247],\n",
       "        [ 0.8983505 ],\n",
       "        [-0.80939453],\n",
       "        [-0.24934078],\n",
       "        [-0.27913001],\n",
       "        [ 1.17400725],\n",
       "        [-2.81283616],\n",
       "        [-0.43748571],\n",
       "        [ 1.10725693],\n",
       "        [-1.44822418],\n",
       "        [ 0.95416338],\n",
       "        [-0.24253967],\n",
       "        [ 0.52973266],\n",
       "        [-0.10531528],\n",
       "        [ 0.31987055],\n",
       "        [ 0.2108125 ],\n",
       "        [ 0.39458689],\n",
       "        [ 1.03739631],\n",
       "        [-0.39022791],\n",
       "        [ 0.78545704],\n",
       "        [-0.87450031],\n",
       "        [-0.03399354],\n",
       "        [-0.60888275],\n",
       "        [ 0.79818541],\n",
       "        [ 0.46118162],\n",
       "        [ 0.57244184],\n",
       "        [-0.52206252],\n",
       "        [-0.89863998],\n",
       "        [ 1.23312266],\n",
       "        [ 0.66376623],\n",
       "        [ 0.11385696],\n",
       "        [-0.44170613],\n",
       "        [-1.25285283],\n",
       "        [ 1.45878992],\n",
       "        [ 0.85738237],\n",
       "        [ 1.82322978],\n",
       "        [-0.08328233],\n",
       "        [ 0.55810599],\n",
       "        [ 0.48713808],\n",
       "        [ 0.06602713]]),\n",
       " 'W5': array([[-2.69685161e-01, -2.26696290e+00, -7.75337402e-01,\n",
       "         -8.84937853e-02,  7.70611260e-01,  2.74233914e-02,\n",
       "          3.65126668e-03, -9.52209578e-01, -3.61513917e-01,\n",
       "          5.77020457e-01, -7.94392497e-01,  1.56158469e+00,\n",
       "         -9.73146801e-01,  1.84461682e+00,  3.65392158e-02,\n",
       "         -8.23218097e-01, -6.32709973e-01, -4.25664548e-01,\n",
       "         -7.25735311e-02, -6.07495452e-01,  1.21969988e+00,\n",
       "         -1.49500009e+00, -3.29061282e+00, -7.41714042e-01,\n",
       "          1.72529469e+00, -4.40428498e-01, -1.04285330e+00,\n",
       "          3.88890089e-02,  1.06507739e+00, -7.82232779e-01,\n",
       "         -4.61070055e-01,  1.54983621e+00,  7.69138480e-01,\n",
       "          3.85309362e-01, -8.09371843e-01, -1.18235631e+00,\n",
       "          9.79708183e-01,  8.88015366e-01,  1.01713535e+00,\n",
       "          4.35214847e-01,  2.26472333e+00, -6.29115603e-01,\n",
       "         -5.60103416e-01, -2.31360652e+00, -5.58374579e-01,\n",
       "          1.33514676e+00,  5.16814135e-01, -5.17812043e-01,\n",
       "          1.72124590e+00,  2.18965026e-01],\n",
       "        [-1.00396197e-01, -3.50986502e-01,  1.94930128e-01,\n",
       "         -9.99928536e-01, -6.46420066e-01,  2.84655095e-01,\n",
       "          1.52000061e+00,  8.31362272e-01, -8.67297208e-01,\n",
       "          1.16856853e-02,  1.01606467e-01,  1.15679275e+00,\n",
       "         -1.55006615e-02,  6.56950512e-01,  1.44333183e-01,\n",
       "         -2.89592256e-01,  1.32271597e-01,  1.36831071e+00,\n",
       "          2.21037266e+00, -7.98375324e-01,  1.04742172e-01,\n",
       "         -4.81265772e-01,  2.42651791e+00,  8.84425390e-01,\n",
       "          2.01438682e-01,  5.97455350e-01, -4.62294697e-01,\n",
       "         -5.56907320e-01,  7.28012704e-01,  4.78355437e-01,\n",
       "         -4.23302912e-01,  2.84571816e-01,  4.91314194e-01,\n",
       "         -9.77029208e-01, -9.80658585e-01, -1.03729508e+00,\n",
       "         -3.34569396e-01, -2.08425106e-01,  1.18465802e+00,\n",
       "         -1.17669628e+00, -1.45874935e+00,  1.25447669e+00,\n",
       "         -5.56965812e-01,  1.23345715e+00,  1.09003732e-01,\n",
       "          5.06168720e-01, -1.64572080e+00, -1.13862037e+00,\n",
       "         -4.22652634e-01,  4.64267028e-01],\n",
       "        [-5.77871182e-01, -2.07690555e+00, -3.30821756e-01,\n",
       "         -1.57196143e+00, -2.92478104e-01, -2.83381898e-01,\n",
       "          3.79486037e-01, -3.99873729e-01, -2.12924082e+00,\n",
       "         -1.70302278e-01,  3.06483430e-02, -1.98433445e-01,\n",
       "         -6.17837534e-02, -1.38922138e+00, -6.74972574e-01,\n",
       "         -2.81392625e-01,  1.28480901e+00,  7.35760771e-01,\n",
       "          1.48333501e+00, -2.25187058e+00,  3.54589476e-01,\n",
       "          2.27945088e+00,  7.45376388e-01, -4.92371900e-01,\n",
       "          8.24166986e-01, -7.03538396e-02,  2.22123670e-01,\n",
       "         -1.66843339e+00,  4.13094229e-02, -2.13972302e-01,\n",
       "          2.19798129e+00, -1.25509625e+00, -1.41859382e+00,\n",
       "          7.96120776e-01,  2.28554237e-01, -2.35596343e-01,\n",
       "         -1.72600722e-01, -9.94771005e-01,  4.70731815e-01,\n",
       "          3.82653849e-01, -1.74367937e-01, -8.90843986e-02,\n",
       "         -8.07863314e-01,  1.04925736e+00, -3.73664599e-02,\n",
       "          7.98237612e-01,  1.61721113e-01, -7.14048183e-02,\n",
       "         -2.50193737e-04, -3.97084710e-01],\n",
       "        [-8.78440471e-02, -3.25709000e-01,  9.12462526e-01,\n",
       "          6.76339623e-02, -5.03187615e-01,  2.81566846e-01,\n",
       "          4.11571047e-01,  2.81425790e-01, -4.16189661e-01,\n",
       "         -6.98191020e-01, -1.72821805e+00,  3.57255559e-01,\n",
       "         -3.10454184e-01,  1.14362724e+00, -3.01728396e-01,\n",
       "          6.34581750e-01, -4.58221091e-01,  9.03010783e-01,\n",
       "          1.20226929e+00, -5.28921786e-01, -2.08472619e-02,\n",
       "          1.31935198e+00,  8.04673783e-01,  1.68039279e+00,\n",
       "          3.14382386e-01, -7.66144458e-01, -8.10855613e-02,\n",
       "         -1.77116808e-01, -1.17534951e+00, -7.29179154e-02,\n",
       "          9.45672114e-01,  9.42628831e-01, -5.40564834e-01,\n",
       "         -3.07704368e-01, -5.61550368e-01,  1.12178476e-01,\n",
       "         -7.01127192e-01, -1.72667816e-01,  8.04097557e-01,\n",
       "          1.21367878e-01, -1.11907221e+00, -9.52571228e-01,\n",
       "         -1.53611660e-01,  1.08944701e+00, -1.20247811e+00,\n",
       "          4.22222915e-01, -7.48049470e-01,  6.08315042e-01,\n",
       "          7.65050617e-01,  5.05050003e-01],\n",
       "        [ 1.32796628e+00,  1.36341902e+00,  3.75042394e-02,\n",
       "         -9.95690502e-01, -6.12661232e-02, -1.74572547e-01,\n",
       "         -2.32945910e-01,  1.39445421e+00, -1.64667559e+00,\n",
       "          5.58632979e-01, -6.81432846e-01, -3.01240868e-01,\n",
       "         -1.56554260e+00, -1.69240408e+00,  3.74828231e-01,\n",
       "         -2.97299020e-01,  7.17127369e-01, -1.41511399e-01,\n",
       "         -3.85101107e-02, -3.03325583e-02, -4.65585648e-01,\n",
       "          5.01592633e-01,  1.12622676e+00,  2.87545666e-01,\n",
       "          1.55671144e+00, -2.41318988e+00, -1.86471250e+00,\n",
       "         -4.06330995e-01, -4.22183847e-01,  6.39467090e-01,\n",
       "          1.11118013e-01,  6.44004232e-01, -1.53146653e-01,\n",
       "          9.68843548e-01,  1.13278504e-01,  7.33079269e-01,\n",
       "          7.96958245e-01,  4.32925595e-01, -9.70583153e-01,\n",
       "          3.89843442e-01,  7.54174065e-01,  7.02803194e-02,\n",
       "         -1.25605143e+00, -4.13389780e-01,  1.19939666e-01,\n",
       "         -7.87668119e-01,  7.17008867e-01, -1.11536567e+00,\n",
       "          2.56713598e-01,  2.01997397e-01],\n",
       "        [ 1.66123698e+00,  1.16203743e+00, -5.06030046e-01,\n",
       "         -4.78423852e-01, -2.62404215e-01,  9.36134191e-01,\n",
       "          2.44452351e-01,  3.37756707e-01,  5.90333457e-01,\n",
       "         -9.99829656e-02,  1.56371318e+00, -2.29533968e+00,\n",
       "         -3.73866713e-01,  3.35657983e-01,  7.03409978e-01,\n",
       "          3.62399393e-01,  1.53269584e+00,  4.89697633e-01,\n",
       "          1.30571871e+00, -3.00212410e-01, -8.07085251e-01,\n",
       "          3.66279459e-01,  4.54982910e-01,  1.71674983e+00,\n",
       "          1.79175893e+00, -1.39894414e+00,  4.19312689e-01,\n",
       "          9.11886224e-01,  1.48332458e+00,  3.87002986e-01,\n",
       "         -7.28340877e-01,  1.57517120e-01,  1.09917282e+00,\n",
       "          1.51112143e+00, -9.05577755e-02,  1.39545334e+00,\n",
       "         -4.45926496e-01,  1.90523141e+00, -7.92378947e-01,\n",
       "          9.66572006e-01, -5.67405430e-02, -8.02963005e-01,\n",
       "          9.77357170e-02,  7.70552722e-01,  1.58119721e+00,\n",
       "          7.72826092e-01, -1.18408936e+00,  1.68792388e+00,\n",
       "         -8.34808553e-01, -2.68708769e+00],\n",
       "        [ 6.51131118e-02, -7.19195939e-01,  1.53205343e+00,\n",
       "         -4.55321283e-01, -4.11147507e-01, -7.80757287e-01,\n",
       "          1.11374302e+00,  2.28789398e-01,  1.37159055e+00,\n",
       "         -7.99371002e-03,  6.57027660e-01,  1.07130711e+00,\n",
       "          1.16800750e+00,  1.19913515e+00,  1.07336601e-01,\n",
       "          1.29152730e+00,  9.04476653e-01, -3.29741138e-01,\n",
       "          1.19704632e+00,  6.11534342e-01,  1.33932405e+00,\n",
       "         -6.43382906e-01, -6.11078997e-01, -2.63473934e-01,\n",
       "         -5.69328471e-01, -9.20289666e-01, -5.69865510e-01,\n",
       "          6.14092634e-01, -1.22435255e+00, -4.11609029e-01,\n",
       "         -1.49940484e-01,  1.27836226e+00, -7.52824587e-01,\n",
       "          3.23884282e-01,  1.48034875e+00,  6.82606381e-03,\n",
       "          2.79558474e-01,  2.13644874e+00, -1.39075593e+00,\n",
       "         -2.33184290e-01, -8.52556516e-01, -1.25670720e+00,\n",
       "         -9.23371131e-01, -7.18339327e-01, -8.69866786e-01,\n",
       "         -2.55302832e-01,  1.15741098e+00,  2.37128653e-01,\n",
       "         -1.50142654e+00, -1.67486989e+00],\n",
       "        [-3.04519270e-01, -3.47930516e-01,  9.85464481e-01,\n",
       "          2.62057544e-01, -1.52587938e-01,  3.83701339e-01,\n",
       "          5.87907331e-02,  6.97861290e-01,  5.72980512e-02,\n",
       "         -8.19710304e-01,  6.59327424e-01, -1.44798327e-01,\n",
       "         -1.84880922e+00, -4.03026537e-02, -3.02348968e-01,\n",
       "          2.40330422e-02, -1.41495709e-01,  7.14814283e-01,\n",
       "         -5.61488145e-01, -8.92090831e-01,  4.71139319e-01,\n",
       "          1.15304191e-01, -2.88508625e-01,  8.44718192e-01,\n",
       "          1.71489700e-01, -1.58326872e+00,  5.33951576e-01,\n",
       "          5.31992354e-02,  1.90891513e+00, -7.29369991e-01,\n",
       "          1.20562503e-01,  6.43793348e-01, -4.19473893e-01,\n",
       "          9.52120451e-01,  1.11176375e+00, -7.99993797e-02,\n",
       "         -4.66001790e-01, -3.01361132e-03,  6.64411071e-01,\n",
       "          1.69320627e+00, -1.04975486e-01,  8.04029036e-01,\n",
       "         -6.65268896e-01, -5.67254045e-01,  6.58866096e-01,\n",
       "          8.95150809e-01, -2.15740668e+00,  2.30145471e-01,\n",
       "          7.20729937e-01, -1.10788508e+00],\n",
       "        [ 1.32181100e+00, -7.55412604e-01,  5.04392552e-01,\n",
       "         -3.25812582e-01, -4.48030706e-01, -9.25628994e-01,\n",
       "         -9.01865883e-01, -4.43246059e-01, -3.94447602e-01,\n",
       "         -7.02358303e-01, -9.13415055e-01, -4.39017143e-01,\n",
       "          3.54016026e-01,  2.03788121e+00,  5.70164989e-01,\n",
       "         -1.42819063e+00, -2.74966791e-02, -3.07656216e-01,\n",
       "         -3.61845499e-01, -1.46804060e+00, -3.96953516e-01,\n",
       "         -1.08056079e+00,  1.00845735e+00,  7.51154200e-03,\n",
       "          1.45089279e+00, -8.63309171e-01,  1.52052607e-01,\n",
       "          4.41642976e-01,  1.23930879e-01,  2.57951343e-01,\n",
       "          2.86054692e-01, -1.80209230e-01,  2.56200292e-01,\n",
       "         -4.85976675e-01,  4.70953677e-02, -6.58275219e-01,\n",
       "         -6.84856780e-01, -9.52512554e-01,  1.94813570e+00,\n",
       "          1.79546611e-01,  3.99461664e-01,  9.79935565e-01,\n",
       "         -6.29436728e-01, -1.70258873e-01,  1.08778082e+00,\n",
       "          1.46281135e+00,  1.63104285e+00,  4.45467038e-01,\n",
       "         -5.37709014e-01,  8.39634051e-01],\n",
       "        [ 1.12891089e+00,  1.58657244e+00,  1.48152883e+00,\n",
       "          1.45386769e+00, -1.75759712e+00, -4.53469343e-01,\n",
       "         -6.00637329e-01,  7.39414028e-01, -1.41135209e-01,\n",
       "         -3.01406763e-01,  8.95142060e-02, -1.44873066e+00,\n",
       "          1.62897631e+00, -6.04018209e-01,  2.36732474e-01,\n",
       "         -7.43552306e-02, -7.15423932e-01, -1.75669854e-01,\n",
       "         -1.55374898e-01,  2.00949007e+00,  1.01458485e+00,\n",
       "         -1.09707834e+00,  1.01707834e+00,  1.21435820e+00,\n",
       "         -1.28053795e+00,  1.22323691e+00, -1.04699016e+00,\n",
       "         -5.49374305e-01,  9.80105667e-01, -3.33213717e-01,\n",
       "         -4.59119385e-01,  2.41462224e+00,  1.36636830e+00,\n",
       "         -2.46761224e+00,  1.15167246e+00, -1.20414558e+00,\n",
       "         -4.69058626e-01,  5.95998421e-01, -7.72951100e-01,\n",
       "         -8.68614988e-01,  5.79675040e-01,  2.26852348e-02,\n",
       "         -1.03919346e+00, -6.15571757e-01, -5.56399167e-01,\n",
       "         -1.51943575e+00, -3.37514446e-01,  4.51290433e-02,\n",
       "          9.67554847e-01,  3.16047668e-01]]),\n",
       " 'B5': array([[ 0.1764767 ],\n",
       "        [ 1.52429815],\n",
       "        [-2.47801191],\n",
       "        [-1.10440867],\n",
       "        [ 0.98133713],\n",
       "        [ 0.96000471],\n",
       "        [-0.71564543],\n",
       "        [-0.16534425],\n",
       "        [ 0.82217537],\n",
       "        [ 0.65860755]])}"
      ]
     },
     "metadata": {},
     "execution_count": 751
    }
   ],
   "source": [
    "#Initialising weights\n",
    "def init_weights_flexible(x_train_flat, array_of_layers,y_train):\n",
    "    np.random_state = 112\n",
    "    size_of_layer = [x_train_flat.shape[0]] + array_of_layers + [y_train.shape[0]]\n",
    "    dict_of_weights = {}\n",
    "\n",
    "    for layer in range(len(size_of_layer) - 1):\n",
    "        dict_of_weights[f\"W{layer+1}\"] = np.random.randn(size_of_layer[layer+1],size_of_layer[layer])\n",
    "        dict_of_weights[f\"B{layer+1}\"] = np.random.randn(size_of_layer[layer+1],1)\n",
    "    #Print the sizes of the matrix\n",
    "    print(f\"Weights matrices\")\n",
    "    for name, matrix in dict_of_weights.items():\n",
    "        print(name, matrix.shape)\n",
    "    return dict_of_weights\n",
    "\n",
    "layers_test = [100,100,50,50]\n",
    "dict_of_weights = init_weights_flexible(x_train_all, layers_test, all_y_train_one_hot)"
   ]
  },
  {
   "source": [
    "## END OF DOCUMENT\n",
    "\n",
    "Below here are just copy and paste from functions defined above, pasted here for ease of viewing when debugging"
   ],
   "cell_type": "markdown",
   "metadata": {}
  },
  {
   "cell_type": "code",
   "execution_count": null,
   "metadata": {},
   "outputs": [],
   "source": [
    "##just for reference back prop one layer\n",
    "\n",
    "def back_prop_one_layer_from_A_to_previous_A(cost_of_that_A, Z, prev_A,W):    \n",
    "        #going back from A to z\n",
    "        dAn_dZn = np.exp(-Z) / ((1+np.exp(-Z))**2)\n",
    "        dC_dZn = cost_of_that_A * dAn_dZn\n",
    "        \n",
    "        #get diffs at that layer\n",
    "        dZn_dWn = prev_A\n",
    "        dZn_dBn = np.zeros_like(Z) + 1\n",
    "\n",
    "        #combien to get useful differentials\n",
    "        dC_dWn = dC_dZn @ dZn_dWn.T\n",
    "        dC_dBn = np.sum(dC_dZn @ dZn_dBn.T,axis=1,keepdims=True) / dZn_dBn.shape[1]\n",
    "\n",
    "        #and then get the previous layer cost fuctions\n",
    "        dZn_dA_minus_one = W\n",
    "        dC_dA_minus_one = (dC_dZn.T @ dZn_dA_minus_one).T\n",
    "\n",
    "        return dC_dWn, dC_dBn, dC_dZn, dC_dA_minus_one"
   ]
  },
  {
   "cell_type": "code",
   "execution_count": null,
   "metadata": {},
   "outputs": [],
   "source": [
    "##just for reference forwardprop.\n",
    "\n",
    "def sigmoid(x):\n",
    "    return (1/(1+np.exp(-x)))\n",
    "\n",
    "dict_of_FP_values = {}\n",
    "#FORWARD PROPOGATION\n",
    "def sigmoid_forward_prop(previous_a, W, B):\n",
    "    Z = W @ previous_a + B\n",
    "    next_A = sigmoid(Z)\n",
    "    return Z, next_A\n",
    "\n"
   ]
  },
  {
   "cell_type": "code",
   "execution_count": null,
   "metadata": {},
   "outputs": [],
   "source": [
    "#just putting this here for reference / remidner.\n",
    "'''def gradient_descent_softmax(learning_rate, dict_of_weights, differentiat_dict):\n",
    "    \n",
    "    #we have dictionaries for the weights and the differentials, which we should be able to use quite easily here. They are also in order so we can kind of cheat... but let's not \n",
    "    for key, value in dict_of_weights.items():\n",
    "        dict_of_weights[key] += -learning_rate * differentiat_dict[f'd{key}']\n",
    "    \n",
    "    \n",
    "learning_rate = 0.1  #no idea if this is a good learning rate\n",
    "gradient_descent(learning_rate, dict_of_weights, differentiat_dict)'''"
   ]
  }
 ]
}