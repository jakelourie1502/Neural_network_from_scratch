{
 "metadata": {
  "language_info": {
   "codemirror_mode": {
    "name": "ipython",
    "version": 3
   },
   "file_extension": ".py",
   "mimetype": "text/x-python",
   "name": "python",
   "nbconvert_exporter": "python",
   "pygments_lexer": "ipython3",
   "version": "3.8.5"
  },
  "orig_nbformat": 2,
  "kernelspec": {
   "name": "python385jvsc74a57bd03140f74d8e1d28421ccd34109d4bdb636d1200d25e7dadfa8785402db4096f74",
   "display_name": "Python 3.8.5 64-bit ('base': conda)"
  },
  "metadata": {
   "interpreter": {
    "hash": "ae44bc0eae4a697e13956773fab0a10687b55ffe583901dc88e01866ea6f570f"
   }
  }
 },
 "nbformat": 4,
 "nbformat_minor": 2,
 "cells": [
  {
   "cell_type": "code",
   "execution_count": 1,
   "metadata": {},
   "outputs": [],
   "source": [
    "sys.path.append('/Users/jacoblourie')"
   ]
  },
  {
   "cell_type": "code",
   "execution_count": 243,
   "metadata": {},
   "outputs": [],
   "source": [
    "import tensorflow as tf\n",
    "import sys\n",
    "import numpy as np \n",
    "import matplotlib.pyplot as plt\n",
    "import seaborn as sns\n",
    "#From my own library\n",
    "from computer_vision.my_lib.blur_contrast import display_image\n",
    "import pandas as pd"
   ]
  },
  {
   "source": [
    "## Trying to build a full 3 layer neural net from scratch using MNIST data"
   ],
   "cell_type": "markdown",
   "metadata": {}
  },
  {
   "cell_type": "code",
   "execution_count": 244,
   "metadata": {},
   "outputs": [],
   "source": [
    "#Load the dataset\n",
    "mnist = tf.keras.datasets.mnist\n",
    "(x_train, y_train), (x_test, y_test) = mnist.load_data()\n",
    "\n",
    "\n",
    "#need to make it smaller though\n",
    "# x_train = x_train[0:10000]\n",
    "# y_train = y_train[0:10000]"
   ]
  },
  {
   "cell_type": "code",
   "execution_count": 629,
   "metadata": {},
   "outputs": [
    {
     "output_type": "display_data",
     "data": {
      "text/plain": "<Figure size 432x432 with 1 Axes>",
      "image/svg+xml": "<?xml version=\"1.0\" encoding=\"utf-8\" standalone=\"no\"?>\n<!DOCTYPE svg PUBLIC \"-//W3C//DTD SVG 1.1//EN\"\n  \"http://www.w3.org/Graphics/SVG/1.1/DTD/svg11.dtd\">\n<!-- Created with matplotlib (https://matplotlib.org/) -->\n<svg height=\"370.67125pt\" version=\"1.1\" viewBox=\"0 0 360.058 370.67125\" width=\"360.058pt\" xmlns=\"http://www.w3.org/2000/svg\" xmlns:xlink=\"http://www.w3.org/1999/xlink\">\n <metadata>\n  <rdf:RDF xmlns:cc=\"http://creativecommons.org/ns#\" xmlns:dc=\"http://purl.org/dc/elements/1.1/\" xmlns:rdf=\"http://www.w3.org/1999/02/22-rdf-syntax-ns#\">\n   <cc:Work>\n    <dc:type rdf:resource=\"http://purl.org/dc/dcmitype/StillImage\"/>\n    <dc:date>2021-05-05T20:58:56.857085</dc:date>\n    <dc:format>image/svg+xml</dc:format>\n    <dc:creator>\n     <cc:Agent>\n      <dc:title>Matplotlib v3.3.2, https://matplotlib.org/</dc:title>\n     </cc:Agent>\n    </dc:creator>\n   </cc:Work>\n  </rdf:RDF>\n </metadata>\n <defs>\n  <style type=\"text/css\">*{stroke-linecap:butt;stroke-linejoin:round;}</style>\n </defs>\n <g id=\"figure_1\">\n  <g id=\"patch_1\">\n   <path d=\"M 0 370.67125 \nL 360.058 370.67125 \nL 360.058 0 \nL 0 0 \nz\n\" style=\"fill:none;\"/>\n  </g>\n  <g id=\"axes_1\">\n   <g id=\"patch_2\">\n    <path d=\"M 26.698 346.6545 \nL 352.858 346.6545 \nL 352.858 20.4945 \nL 26.698 20.4945 \nz\n\" style=\"fill:#ffffff;\"/>\n   </g>\n   <g clip-path=\"url(#pee0985b1bb)\">\n    <image height=\"327\" id=\"image92c1371448\" transform=\"scale(1 -1)translate(0 -327)\" width=\"327\" x=\"26.698\" xlink:href=\"data:image/png;base64,\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\" y=\"-19.6545\"/>\n   </g>\n   <g id=\"matplotlib.axis_1\">\n    <g id=\"xtick_1\">\n     <g id=\"line2d_1\">\n      <defs>\n       <path d=\"M 0 0 \nL 0 4.8 \n\" id=\"m1abe0d778a\" style=\"stroke:#000000;\"/>\n      </defs>\n      <g>\n       <use style=\"stroke:#000000;\" x=\"32.522286\" xlink:href=\"#m1abe0d778a\" y=\"346.6545\"/>\n      </g>\n     </g>\n     <g id=\"text_1\">\n      <!-- 0 -->\n      <g transform=\"translate(29.722786 361.641125)scale(0.088 -0.088)\">\n       <defs>\n        <path d=\"M 31.78125 66.40625 \nQ 24.171875 66.40625 20.328125 58.90625 \nQ 16.5 51.421875 16.5 36.375 \nQ 16.5 21.390625 20.328125 13.890625 \nQ 24.171875 6.390625 31.78125 6.390625 \nQ 39.453125 6.390625 43.28125 13.890625 \nQ 47.125 21.390625 47.125 36.375 \nQ 47.125 51.421875 43.28125 58.90625 \nQ 39.453125 66.40625 31.78125 66.40625 \nz\nM 31.78125 74.21875 \nQ 44.046875 74.21875 50.515625 64.515625 \nQ 56.984375 54.828125 56.984375 36.375 \nQ 56.984375 17.96875 50.515625 8.265625 \nQ 44.046875 -1.421875 31.78125 -1.421875 \nQ 19.53125 -1.421875 13.0625 8.265625 \nQ 6.59375 17.96875 6.59375 36.375 \nQ 6.59375 54.828125 13.0625 64.515625 \nQ 19.53125 74.21875 31.78125 74.21875 \nz\n\" id=\"DejaVuSans-48\"/>\n       </defs>\n       <use xlink:href=\"#DejaVuSans-48\"/>\n      </g>\n     </g>\n    </g>\n    <g id=\"xtick_2\">\n     <g id=\"line2d_2\">\n      <g>\n       <use style=\"stroke:#000000;\" x=\"90.765143\" xlink:href=\"#m1abe0d778a\" y=\"346.6545\"/>\n      </g>\n     </g>\n     <g id=\"text_2\">\n      <!-- 5 -->\n      <g transform=\"translate(87.965643 361.641125)scale(0.088 -0.088)\">\n       <defs>\n        <path d=\"M 10.796875 72.90625 \nL 49.515625 72.90625 \nL 49.515625 64.59375 \nL 19.828125 64.59375 \nL 19.828125 46.734375 \nQ 21.96875 47.46875 24.109375 47.828125 \nQ 26.265625 48.1875 28.421875 48.1875 \nQ 40.625 48.1875 47.75 41.5 \nQ 54.890625 34.8125 54.890625 23.390625 \nQ 54.890625 11.625 47.5625 5.09375 \nQ 40.234375 -1.421875 26.90625 -1.421875 \nQ 22.3125 -1.421875 17.546875 -0.640625 \nQ 12.796875 0.140625 7.71875 1.703125 \nL 7.71875 11.625 \nQ 12.109375 9.234375 16.796875 8.0625 \nQ 21.484375 6.890625 26.703125 6.890625 \nQ 35.15625 6.890625 40.078125 11.328125 \nQ 45.015625 15.765625 45.015625 23.390625 \nQ 45.015625 31 40.078125 35.4375 \nQ 35.15625 39.890625 26.703125 39.890625 \nQ 22.75 39.890625 18.8125 39.015625 \nQ 14.890625 38.140625 10.796875 36.28125 \nz\n\" id=\"DejaVuSans-53\"/>\n       </defs>\n       <use xlink:href=\"#DejaVuSans-53\"/>\n      </g>\n     </g>\n    </g>\n    <g id=\"xtick_3\">\n     <g id=\"line2d_3\">\n      <g>\n       <use style=\"stroke:#000000;\" x=\"149.008\" xlink:href=\"#m1abe0d778a\" y=\"346.6545\"/>\n      </g>\n     </g>\n     <g id=\"text_3\">\n      <!-- 10 -->\n      <g transform=\"translate(143.409 361.641125)scale(0.088 -0.088)\">\n       <defs>\n        <path d=\"M 12.40625 8.296875 \nL 28.515625 8.296875 \nL 28.515625 63.921875 \nL 10.984375 60.40625 \nL 10.984375 69.390625 \nL 28.421875 72.90625 \nL 38.28125 72.90625 \nL 38.28125 8.296875 \nL 54.390625 8.296875 \nL 54.390625 0 \nL 12.40625 0 \nz\n\" id=\"DejaVuSans-49\"/>\n       </defs>\n       <use xlink:href=\"#DejaVuSans-49\"/>\n       <use x=\"63.623047\" xlink:href=\"#DejaVuSans-48\"/>\n      </g>\n     </g>\n    </g>\n    <g id=\"xtick_4\">\n     <g id=\"line2d_4\">\n      <g>\n       <use style=\"stroke:#000000;\" x=\"207.250857\" xlink:href=\"#m1abe0d778a\" y=\"346.6545\"/>\n      </g>\n     </g>\n     <g id=\"text_4\">\n      <!-- 15 -->\n      <g transform=\"translate(201.651857 361.641125)scale(0.088 -0.088)\">\n       <use xlink:href=\"#DejaVuSans-49\"/>\n       <use x=\"63.623047\" xlink:href=\"#DejaVuSans-53\"/>\n      </g>\n     </g>\n    </g>\n    <g id=\"xtick_5\">\n     <g id=\"line2d_5\">\n      <g>\n       <use style=\"stroke:#000000;\" x=\"265.493714\" xlink:href=\"#m1abe0d778a\" y=\"346.6545\"/>\n      </g>\n     </g>\n     <g id=\"text_5\">\n      <!-- 20 -->\n      <g transform=\"translate(259.894714 361.641125)scale(0.088 -0.088)\">\n       <defs>\n        <path d=\"M 19.1875 8.296875 \nL 53.609375 8.296875 \nL 53.609375 0 \nL 7.328125 0 \nL 7.328125 8.296875 \nQ 12.9375 14.109375 22.625 23.890625 \nQ 32.328125 33.6875 34.8125 36.53125 \nQ 39.546875 41.84375 41.421875 45.53125 \nQ 43.3125 49.21875 43.3125 52.78125 \nQ 43.3125 58.59375 39.234375 62.25 \nQ 35.15625 65.921875 28.609375 65.921875 \nQ 23.96875 65.921875 18.8125 64.3125 \nQ 13.671875 62.703125 7.8125 59.421875 \nL 7.8125 69.390625 \nQ 13.765625 71.78125 18.9375 73 \nQ 24.125 74.21875 28.421875 74.21875 \nQ 39.75 74.21875 46.484375 68.546875 \nQ 53.21875 62.890625 53.21875 53.421875 \nQ 53.21875 48.921875 51.53125 44.890625 \nQ 49.859375 40.875 45.40625 35.40625 \nQ 44.1875 33.984375 37.640625 27.21875 \nQ 31.109375 20.453125 19.1875 8.296875 \nz\n\" id=\"DejaVuSans-50\"/>\n       </defs>\n       <use xlink:href=\"#DejaVuSans-50\"/>\n       <use x=\"63.623047\" xlink:href=\"#DejaVuSans-48\"/>\n      </g>\n     </g>\n    </g>\n    <g id=\"xtick_6\">\n     <g id=\"line2d_6\">\n      <g>\n       <use style=\"stroke:#000000;\" x=\"323.736571\" xlink:href=\"#m1abe0d778a\" y=\"346.6545\"/>\n      </g>\n     </g>\n     <g id=\"text_6\">\n      <!-- 25 -->\n      <g transform=\"translate(318.137571 361.641125)scale(0.088 -0.088)\">\n       <use xlink:href=\"#DejaVuSans-50\"/>\n       <use x=\"63.623047\" xlink:href=\"#DejaVuSans-53\"/>\n      </g>\n     </g>\n    </g>\n   </g>\n   <g id=\"matplotlib.axis_2\">\n    <g id=\"ytick_1\">\n     <g id=\"line2d_7\">\n      <defs>\n       <path d=\"M 0 0 \nL -4.8 0 \n\" id=\"m3203cb5136\" style=\"stroke:#000000;\"/>\n      </defs>\n      <g>\n       <use style=\"stroke:#000000;\" x=\"26.698\" xlink:href=\"#m3203cb5136\" y=\"26.318786\"/>\n      </g>\n     </g>\n     <g id=\"text_7\">\n      <!-- 0 -->\n      <g transform=\"translate(12.799 29.662098)scale(0.088 -0.088)\">\n       <use xlink:href=\"#DejaVuSans-48\"/>\n      </g>\n     </g>\n    </g>\n    <g id=\"ytick_2\">\n     <g id=\"line2d_8\">\n      <g>\n       <use style=\"stroke:#000000;\" x=\"26.698\" xlink:href=\"#m3203cb5136\" y=\"84.561643\"/>\n      </g>\n     </g>\n     <g id=\"text_8\">\n      <!-- 5 -->\n      <g transform=\"translate(12.799 87.904955)scale(0.088 -0.088)\">\n       <use xlink:href=\"#DejaVuSans-53\"/>\n      </g>\n     </g>\n    </g>\n    <g id=\"ytick_3\">\n     <g id=\"line2d_9\">\n      <g>\n       <use style=\"stroke:#000000;\" x=\"26.698\" xlink:href=\"#m3203cb5136\" y=\"142.8045\"/>\n      </g>\n     </g>\n     <g id=\"text_9\">\n      <!-- 10 -->\n      <g transform=\"translate(7.2 146.147812)scale(0.088 -0.088)\">\n       <use xlink:href=\"#DejaVuSans-49\"/>\n       <use x=\"63.623047\" xlink:href=\"#DejaVuSans-48\"/>\n      </g>\n     </g>\n    </g>\n    <g id=\"ytick_4\">\n     <g id=\"line2d_10\">\n      <g>\n       <use style=\"stroke:#000000;\" x=\"26.698\" xlink:href=\"#m3203cb5136\" y=\"201.047357\"/>\n      </g>\n     </g>\n     <g id=\"text_10\">\n      <!-- 15 -->\n      <g transform=\"translate(7.2 204.39067)scale(0.088 -0.088)\">\n       <use xlink:href=\"#DejaVuSans-49\"/>\n       <use x=\"63.623047\" xlink:href=\"#DejaVuSans-53\"/>\n      </g>\n     </g>\n    </g>\n    <g id=\"ytick_5\">\n     <g id=\"line2d_11\">\n      <g>\n       <use style=\"stroke:#000000;\" x=\"26.698\" xlink:href=\"#m3203cb5136\" y=\"259.290214\"/>\n      </g>\n     </g>\n     <g id=\"text_11\">\n      <!-- 20 -->\n      <g transform=\"translate(7.2 262.633527)scale(0.088 -0.088)\">\n       <use xlink:href=\"#DejaVuSans-50\"/>\n       <use x=\"63.623047\" xlink:href=\"#DejaVuSans-48\"/>\n      </g>\n     </g>\n    </g>\n    <g id=\"ytick_6\">\n     <g id=\"line2d_12\">\n      <g>\n       <use style=\"stroke:#000000;\" x=\"26.698\" xlink:href=\"#m3203cb5136\" y=\"317.533071\"/>\n      </g>\n     </g>\n     <g id=\"text_12\">\n      <!-- 25 -->\n      <g transform=\"translate(7.2 320.876384)scale(0.088 -0.088)\">\n       <use xlink:href=\"#DejaVuSans-50\"/>\n       <use x=\"63.623047\" xlink:href=\"#DejaVuSans-53\"/>\n      </g>\n     </g>\n    </g>\n   </g>\n   <g id=\"patch_3\">\n    <path d=\"M 26.698 346.6545 \nL 26.698 20.4945 \n\" style=\"fill:none;stroke:#000000;stroke-linecap:square;stroke-linejoin:miter;\"/>\n   </g>\n   <g id=\"patch_4\">\n    <path d=\"M 352.858 346.6545 \nL 352.858 20.4945 \n\" style=\"fill:none;stroke:#000000;stroke-linecap:square;stroke-linejoin:miter;\"/>\n   </g>\n   <g id=\"patch_5\">\n    <path d=\"M 26.698 346.6545 \nL 352.858 346.6545 \n\" style=\"fill:none;stroke:#000000;stroke-linecap:square;stroke-linejoin:miter;\"/>\n   </g>\n   <g id=\"patch_6\">\n    <path d=\"M 26.698 20.4945 \nL 352.858 20.4945 \n\" style=\"fill:none;stroke:#000000;stroke-linecap:square;stroke-linejoin:miter;\"/>\n   </g>\n   <g id=\"text_13\">\n    <!-- first image -->\n    <g transform=\"translate(163.9225 14.4945)scale(0.096 -0.096)\">\n     <defs>\n      <path d=\"M 37.109375 75.984375 \nL 37.109375 68.5 \nL 28.515625 68.5 \nQ 23.6875 68.5 21.796875 66.546875 \nQ 19.921875 64.59375 19.921875 59.515625 \nL 19.921875 54.6875 \nL 34.71875 54.6875 \nL 34.71875 47.703125 \nL 19.921875 47.703125 \nL 19.921875 0 \nL 10.890625 0 \nL 10.890625 47.703125 \nL 2.296875 47.703125 \nL 2.296875 54.6875 \nL 10.890625 54.6875 \nL 10.890625 58.5 \nQ 10.890625 67.625 15.140625 71.796875 \nQ 19.390625 75.984375 28.609375 75.984375 \nz\n\" id=\"DejaVuSans-102\"/>\n      <path d=\"M 9.421875 54.6875 \nL 18.40625 54.6875 \nL 18.40625 0 \nL 9.421875 0 \nz\nM 9.421875 75.984375 \nL 18.40625 75.984375 \nL 18.40625 64.59375 \nL 9.421875 64.59375 \nz\n\" id=\"DejaVuSans-105\"/>\n      <path d=\"M 41.109375 46.296875 \nQ 39.59375 47.171875 37.8125 47.578125 \nQ 36.03125 48 33.890625 48 \nQ 26.265625 48 22.1875 43.046875 \nQ 18.109375 38.09375 18.109375 28.8125 \nL 18.109375 0 \nL 9.078125 0 \nL 9.078125 54.6875 \nL 18.109375 54.6875 \nL 18.109375 46.1875 \nQ 20.953125 51.171875 25.484375 53.578125 \nQ 30.03125 56 36.53125 56 \nQ 37.453125 56 38.578125 55.875 \nQ 39.703125 55.765625 41.0625 55.515625 \nz\n\" id=\"DejaVuSans-114\"/>\n      <path d=\"M 44.28125 53.078125 \nL 44.28125 44.578125 \nQ 40.484375 46.53125 36.375 47.5 \nQ 32.28125 48.484375 27.875 48.484375 \nQ 21.1875 48.484375 17.84375 46.4375 \nQ 14.5 44.390625 14.5 40.28125 \nQ 14.5 37.15625 16.890625 35.375 \nQ 19.28125 33.59375 26.515625 31.984375 \nL 29.59375 31.296875 \nQ 39.15625 29.25 43.1875 25.515625 \nQ 47.21875 21.78125 47.21875 15.09375 \nQ 47.21875 7.46875 41.1875 3.015625 \nQ 35.15625 -1.421875 24.609375 -1.421875 \nQ 20.21875 -1.421875 15.453125 -0.5625 \nQ 10.6875 0.296875 5.421875 2 \nL 5.421875 11.28125 \nQ 10.40625 8.6875 15.234375 7.390625 \nQ 20.0625 6.109375 24.8125 6.109375 \nQ 31.15625 6.109375 34.5625 8.28125 \nQ 37.984375 10.453125 37.984375 14.40625 \nQ 37.984375 18.0625 35.515625 20.015625 \nQ 33.0625 21.96875 24.703125 23.78125 \nL 21.578125 24.515625 \nQ 13.234375 26.265625 9.515625 29.90625 \nQ 5.8125 33.546875 5.8125 39.890625 \nQ 5.8125 47.609375 11.28125 51.796875 \nQ 16.75 56 26.8125 56 \nQ 31.78125 56 36.171875 55.265625 \nQ 40.578125 54.546875 44.28125 53.078125 \nz\n\" id=\"DejaVuSans-115\"/>\n      <path d=\"M 18.3125 70.21875 \nL 18.3125 54.6875 \nL 36.8125 54.6875 \nL 36.8125 47.703125 \nL 18.3125 47.703125 \nL 18.3125 18.015625 \nQ 18.3125 11.328125 20.140625 9.421875 \nQ 21.96875 7.515625 27.59375 7.515625 \nL 36.8125 7.515625 \nL 36.8125 0 \nL 27.59375 0 \nQ 17.1875 0 13.234375 3.875 \nQ 9.28125 7.765625 9.28125 18.015625 \nL 9.28125 47.703125 \nL 2.6875 47.703125 \nL 2.6875 54.6875 \nL 9.28125 54.6875 \nL 9.28125 70.21875 \nz\n\" id=\"DejaVuSans-116\"/>\n      <path id=\"DejaVuSans-32\"/>\n      <path d=\"M 52 44.1875 \nQ 55.375 50.25 60.0625 53.125 \nQ 64.75 56 71.09375 56 \nQ 79.640625 56 84.28125 50.015625 \nQ 88.921875 44.046875 88.921875 33.015625 \nL 88.921875 0 \nL 79.890625 0 \nL 79.890625 32.71875 \nQ 79.890625 40.578125 77.09375 44.375 \nQ 74.3125 48.1875 68.609375 48.1875 \nQ 61.625 48.1875 57.5625 43.546875 \nQ 53.515625 38.921875 53.515625 30.90625 \nL 53.515625 0 \nL 44.484375 0 \nL 44.484375 32.71875 \nQ 44.484375 40.625 41.703125 44.40625 \nQ 38.921875 48.1875 33.109375 48.1875 \nQ 26.21875 48.1875 22.15625 43.53125 \nQ 18.109375 38.875 18.109375 30.90625 \nL 18.109375 0 \nL 9.078125 0 \nL 9.078125 54.6875 \nL 18.109375 54.6875 \nL 18.109375 46.1875 \nQ 21.1875 51.21875 25.484375 53.609375 \nQ 29.78125 56 35.6875 56 \nQ 41.65625 56 45.828125 52.96875 \nQ 50 49.953125 52 44.1875 \nz\n\" id=\"DejaVuSans-109\"/>\n      <path d=\"M 34.28125 27.484375 \nQ 23.390625 27.484375 19.1875 25 \nQ 14.984375 22.515625 14.984375 16.5 \nQ 14.984375 11.71875 18.140625 8.90625 \nQ 21.296875 6.109375 26.703125 6.109375 \nQ 34.1875 6.109375 38.703125 11.40625 \nQ 43.21875 16.703125 43.21875 25.484375 \nL 43.21875 27.484375 \nz\nM 52.203125 31.203125 \nL 52.203125 0 \nL 43.21875 0 \nL 43.21875 8.296875 \nQ 40.140625 3.328125 35.546875 0.953125 \nQ 30.953125 -1.421875 24.3125 -1.421875 \nQ 15.921875 -1.421875 10.953125 3.296875 \nQ 6 8.015625 6 15.921875 \nQ 6 25.140625 12.171875 29.828125 \nQ 18.359375 34.515625 30.609375 34.515625 \nL 43.21875 34.515625 \nL 43.21875 35.40625 \nQ 43.21875 41.609375 39.140625 45 \nQ 35.0625 48.390625 27.6875 48.390625 \nQ 23 48.390625 18.546875 47.265625 \nQ 14.109375 46.140625 10.015625 43.890625 \nL 10.015625 52.203125 \nQ 14.9375 54.109375 19.578125 55.046875 \nQ 24.21875 56 28.609375 56 \nQ 40.484375 56 46.34375 49.84375 \nQ 52.203125 43.703125 52.203125 31.203125 \nz\n\" id=\"DejaVuSans-97\"/>\n      <path d=\"M 45.40625 27.984375 \nQ 45.40625 37.75 41.375 43.109375 \nQ 37.359375 48.484375 30.078125 48.484375 \nQ 22.859375 48.484375 18.828125 43.109375 \nQ 14.796875 37.75 14.796875 27.984375 \nQ 14.796875 18.265625 18.828125 12.890625 \nQ 22.859375 7.515625 30.078125 7.515625 \nQ 37.359375 7.515625 41.375 12.890625 \nQ 45.40625 18.265625 45.40625 27.984375 \nz\nM 54.390625 6.78125 \nQ 54.390625 -7.171875 48.1875 -13.984375 \nQ 42 -20.796875 29.203125 -20.796875 \nQ 24.46875 -20.796875 20.265625 -20.09375 \nQ 16.0625 -19.390625 12.109375 -17.921875 \nL 12.109375 -9.1875 \nQ 16.0625 -11.328125 19.921875 -12.34375 \nQ 23.78125 -13.375 27.78125 -13.375 \nQ 36.625 -13.375 41.015625 -8.765625 \nQ 45.40625 -4.15625 45.40625 5.171875 \nL 45.40625 9.625 \nQ 42.625 4.78125 38.28125 2.390625 \nQ 33.9375 0 27.875 0 \nQ 17.828125 0 11.671875 7.65625 \nQ 5.515625 15.328125 5.515625 27.984375 \nQ 5.515625 40.671875 11.671875 48.328125 \nQ 17.828125 56 27.875 56 \nQ 33.9375 56 38.28125 53.609375 \nQ 42.625 51.21875 45.40625 46.390625 \nL 45.40625 54.6875 \nL 54.390625 54.6875 \nz\n\" id=\"DejaVuSans-103\"/>\n      <path d=\"M 56.203125 29.59375 \nL 56.203125 25.203125 \nL 14.890625 25.203125 \nQ 15.484375 15.921875 20.484375 11.0625 \nQ 25.484375 6.203125 34.421875 6.203125 \nQ 39.59375 6.203125 44.453125 7.46875 \nQ 49.3125 8.734375 54.109375 11.28125 \nL 54.109375 2.78125 \nQ 49.265625 0.734375 44.1875 -0.34375 \nQ 39.109375 -1.421875 33.890625 -1.421875 \nQ 20.796875 -1.421875 13.15625 6.1875 \nQ 5.515625 13.8125 5.515625 26.8125 \nQ 5.515625 40.234375 12.765625 48.109375 \nQ 20.015625 56 32.328125 56 \nQ 43.359375 56 49.78125 48.890625 \nQ 56.203125 41.796875 56.203125 29.59375 \nz\nM 47.21875 32.234375 \nQ 47.125 39.59375 43.09375 43.984375 \nQ 39.0625 48.390625 32.421875 48.390625 \nQ 24.90625 48.390625 20.390625 44.140625 \nQ 15.875 39.890625 15.1875 32.171875 \nz\n\" id=\"DejaVuSans-101\"/>\n     </defs>\n     <use xlink:href=\"#DejaVuSans-102\"/>\n     <use x=\"35.205078\" xlink:href=\"#DejaVuSans-105\"/>\n     <use x=\"62.988281\" xlink:href=\"#DejaVuSans-114\"/>\n     <use x=\"104.101562\" xlink:href=\"#DejaVuSans-115\"/>\n     <use x=\"156.201172\" xlink:href=\"#DejaVuSans-116\"/>\n     <use x=\"195.410156\" xlink:href=\"#DejaVuSans-32\"/>\n     <use x=\"227.197266\" xlink:href=\"#DejaVuSans-105\"/>\n     <use x=\"254.980469\" xlink:href=\"#DejaVuSans-109\"/>\n     <use x=\"352.392578\" xlink:href=\"#DejaVuSans-97\"/>\n     <use x=\"413.671875\" xlink:href=\"#DejaVuSans-103\"/>\n     <use x=\"477.148438\" xlink:href=\"#DejaVuSans-101\"/>\n    </g>\n   </g>\n  </g>\n </g>\n <defs>\n  <clipPath id=\"pee0985b1bb\">\n   <rect height=\"326.16\" width=\"326.16\" x=\"26.698\" y=\"20.4945\"/>\n  </clipPath>\n </defs>\n</svg>\n",
      "image/png": "[encoded data removed]"
     },
     "metadata": {
      "needs_background": "light"
     }
    }
   ],
   "source": [
    "#see what an image looks like\n",
    "display_image(x_train[7],'first image', size=(6,6))"
   ]
  },
  {
   "source": [
    "## To make this simple, we will start by runnin a \"is it a 1? \" model \n",
    "We want to run a 1/0 model, so let's label all \"1\"s as 1, and everything else as 0"
   ],
   "cell_type": "markdown",
   "metadata": {}
  },
  {
   "cell_type": "code",
   "execution_count": 246,
   "metadata": {},
   "outputs": [],
   "source": [
    "binary_y_train = np.array([1 if y == 1 else 0 for y in y_train])\n",
    "binary_y_test = np.array([1 if y == 1 else 0 for y in y_test])"
   ]
  },
  {
   "source": [
    "Let's go for 2 hidden layers, of 50 and 50 levels and let's just use sigmoid functions for now"
   ],
   "cell_type": "markdown",
   "metadata": {}
  },
  {
   "cell_type": "code",
   "execution_count": 290,
   "metadata": {},
   "outputs": [
    {
     "output_type": "stream",
     "name": "stdout",
     "text": [
      "(784, 60000)\n"
     ]
    }
   ],
   "source": [
    "#this helps much simpler\n",
    "def flatten_and_reshape(x_train,x_test, y_train, y_test):\n",
    "\n",
    "    x_train_flat = x_train.reshape((x_train.shape[0],-1)).T / 255\n",
    "    x_test_flat = x_test.reshape((x_test.shape[0],-1)).T / 255\n",
    "    print(x_train_flat.shape)\n",
    "    bin_y_train = y_train.reshape(1,-1)\n",
    "    bin_y_test = y_test.reshape(1,-1)\n",
    "    return x_train_flat, x_test_flat, bin_y_train, bin_y_test\n",
    "\n",
    "x_train_flat, x_test_flat, bin_y_train, bin_y_test = flatten_and_reshape(x_train, x_test, binary_y_train, binary_y_test)\n",
    "\n",
    "#Create the binary model\n",
    "\n",
    "# y_train_transp = y_train.reshape(1,-1) \n",
    "# y_test_transp = y_test.reshape(1,-1)\n",
    "\n"
   ]
  },
  {
   "source": [
    "We'll go with a Gaussian initialisation of matrices"
   ],
   "cell_type": "markdown",
   "metadata": {}
  },
  {
   "cell_type": "code",
   "execution_count": 291,
   "metadata": {},
   "outputs": [
    {
     "output_type": "stream",
     "name": "stdout",
     "text": [
      "Weights matrices\nW1 (50, 784)\nB1 (50, 1)\nW2 (15, 50)\nB2 (15, 1)\nW3 (1, 15)\nB3 (1, 1)\n"
     ]
    }
   ],
   "source": [
    "#Let's create the 'weights' matrices\n",
    "def init_weights(x_train_flat, layer_1, layer_2,output):\n",
    "    np.random_state = 112\n",
    "    layer_1 = layer_1\n",
    "    layer_2 = layer_2\n",
    "    size_of_layer = [x_train_flat.shape[0], layer_1,layer_2, output]\n",
    "    dict_of_weights = {}\n",
    "\n",
    "    for layer in range(len(size_of_layer) - 1):\n",
    "        dict_of_weights[f\"W{layer+1}\"] = np.random.randn(size_of_layer[layer+1],size_of_layer[layer])\n",
    "        dict_of_weights[f\"B{layer+1}\"] = np.random.randn(size_of_layer[layer+1],1)\n",
    "    #Print the sizes of the matrix\n",
    "    print(f\"Weights matrices\")\n",
    "    for name, matrix in dict_of_weights.items():\n",
    "        print(name, matrix.shape)\n",
    "    return dict_of_weights\n",
    "\n",
    "dict_of_weights = init_weights(x_train_flat, 50, 15, 1)"
   ]
  },
  {
   "source": [
    "## To start with, let's do sigmoid activation for each layer"
   ],
   "cell_type": "markdown",
   "metadata": {}
  },
  {
   "cell_type": "code",
   "execution_count": 623,
   "metadata": {},
   "outputs": [],
   "source": [
    "def sigmoid(x):\n",
    "    return (1/(1+np.exp(-x)))\n",
    "\n",
    "dict_of_FP_values = {}\n",
    "#FORWARD PROPOGATION\n",
    "def sigmoid_forward_prop(previous_a, W, B):\n",
    "    Z = W @ previous_a + B\n",
    "    next_A = sigmoid(Z)\n",
    "    return Z, next_A\n",
    "\n",
    "def forward_prop(dict_of_weights,x_train_flat,bin_y_train):\n",
    "    W1, B1, W2, B2, W3, B3 = dict_of_weights.values()\n",
    "    \n",
    "    Z1, A1 = sigmoid_forward_prop(x_train_flat, W1, B1)\n",
    "    Z2, A2 = sigmoid_forward_prop(A1, W2, B2)    \n",
    "    Z3, A3 = sigmoid_forward_prop(A2, W3, B3)\n",
    "    \n",
    "    dict_of_FP_values['Z1'] = Z1\n",
    "    dict_of_FP_values['A1'] = A1\n",
    "    dict_of_FP_values['Z2'] = Z2\n",
    "    dict_of_FP_values['A2'] = A2\n",
    "    dict_of_FP_values['Z3'] = Z3\n",
    "    dict_of_FP_values['A3'] = A3\n",
    "    \n",
    "    Cost = ((bin_y_train - A3) @ np.transpose(bin_y_train - A3) / A3.size )[0]\n",
    "\n",
    "    return dict_of_FP_values, Cost\n",
    "\n",
    "dict_of_FP_values, Cost = forward_prop(dict_of_weights,x_train_flat,bin_y_train)"
   ]
  },
  {
   "source": [
    "## Great, so now we need to do back propogation.\n",
    "\n"
   ],
   "cell_type": "markdown",
   "metadata": {}
  },
  {
   "source": [
    "Worth nothing, that everything is positive - this kind of makes sense because right now the dumb model can be improved by just setting everything to 0 (as only 10% of outputs are \"1\")\n",
    "\n",
    "Let's keep going back through the differentials"
   ],
   "cell_type": "markdown",
   "metadata": {}
  },
  {
   "cell_type": "code",
   "execution_count": 624,
   "metadata": {},
   "outputs": [],
   "source": [
    "differentiat_dict = {} #putting this here for later"
   ]
  },
  {
   "cell_type": "code",
   "execution_count": 625,
   "metadata": {},
   "outputs": [],
   "source": [
    "def back_prop_one_layer_from_A_to_previous_A(cost_of_that_A, Z, prev_A,W):    \n",
    "        #going back from A to z\n",
    "        dAn_dZn = np.exp(-Z) / ((1+np.exp(-Z))**2)\n",
    "        dC_dZn = cost_of_that_A * dAn_dZn\n",
    "        \n",
    "        #get diffs at that layer\n",
    "        dZn_dWn = prev_A\n",
    "        dZn_dBn = np.zeros_like(Z) + 1\n",
    "\n",
    "        #combien to get useful differentials\n",
    "        dC_dWn = dC_dZn @ dZn_dWn.T / Z.size\n",
    "        dC_dBn = np.sum(dC_dZn @ dZn_dBn.T,axis=1,keepdims=True) / dZn_dBn.shape[1]\n",
    "\n",
    "        #and then get the previous layer cost fuctions\n",
    "        dZn_dA_minus_one = W\n",
    "        dC_dA_minus_one = (dC_dZn.T @ dZn_dA_minus_one).T\n",
    "\n",
    "        return dC_dWn, dC_dBn, dC_dZn, dC_dA_minus_one\n",
    "\n",
    "def back_prop(dict_of_weights, dict_of_FP_values, bin_y_train, x_train_flat):\n",
    "    W1, B1, W2, B2, W3, W3 = dict_of_weights.values()\n",
    "    Z1, A1, Z2, A2, Z3, A3 = dict_of_FP_values.values()\n",
    "    \n",
    "    differentiat_dict = {}\n",
    "    \n",
    "    '''Let's look at W3 and B3 first'''\n",
    "    \n",
    "    #This line is unique\n",
    "    dC_dA3 = 2*(A3 - bin_y_train) #gives 1 by m matrix\n",
    "\n",
    "    #do the back props\n",
    "    dC_dW3, dC_dB3, dC_dZ3, dC_dA2 = back_prop_one_layer_from_A_to_previous_A(dC_dA3, Z3, A2, W3)\n",
    "    dC_dW2, dC_dB2, dC_dZ2, dC_dA1 = back_prop_one_layer_from_A_to_previous_A(dC_dA2, Z2, A1, W2)\n",
    "    dC_dW1, dC_dB1, dC_dZ1, dC_dA0 = back_prop_one_layer_from_A_to_previous_A(dC_dA1, Z1, x_train_flat, W1)\n",
    "\n",
    "\n",
    "#     #dC / dA2 ~ dC/DZ3 * dZ3 / dA2\n",
    "#     dZ3_dA2 =  W3 # z = WA + b. 1 x 50\n",
    "#     dC_dA2 = (dC_dZ3.T @ dZ3_dA2).T #50 rows, each column is back to being a training example, and there are W2.column_size rows. \n",
    "\n",
    "#     #then repeat the back_prop from before\n",
    "#     dA2_dZ2 = np.exp(-Z2) / ((1+np.exp(-Z2))**2) #still gives 50 x m\n",
    "#     dC_dZ2 = dC_dA2 * dA2_dZ2 #still a 50 x m\n",
    "\n",
    "#     dZ2_dW2 = A1 # which is now 50 x m (A1 also 50 x m)\n",
    "#     dZ2_dB2 = np.zeros_like((Z2)) + 1 #we need a 50 x 1 matrix\n",
    "\n",
    "#             #SECOND USEFUL DIFFERENTIALS\n",
    "#     dC_dW2 = dC_dZ2 @ dZ2_dW2.T  #W2 is 50x 50. dC_dZ2 is a 50 x m , by dz2_dw2 which is a 50xm, but tranpose\n",
    "#     dC_dB2 = np.sum(dC_dZ2 @ dZ2_dB2.T,axis=1,keepdims=True)\n",
    "\n",
    "#     '''#Then let's go back and get the next layer'''\n",
    "\n",
    "#     dZ2_dA1 =  W2 # z = WA + b. 1 x 50\n",
    "#     dC_dA1 = (dC_dZ2.T @ dZ2_dA1).T #50 rows, each column is back to being a training example, and there are W1.column_size rows.\n",
    "\n",
    "#     #then repeat the back_prop from before\n",
    "#     dA1_dZ1 = np.exp(-Z1) / ((1+np.exp(-Z1))**2) #still gives 50 x m\n",
    "#     dC_dZ1 = dC_dA1 * dA1_dZ1 #still a 50 x m\n",
    "\n",
    "#     dZ1_dW1 = x_train_flat # which is now 50 x m (A1 also 50 x m)\n",
    "#     dZ1_dB1 = np.zeros_like((Z1)) + 1 #we need a 50 x 1 matrix\n",
    "\n",
    "#             #THIRD USEFUL DIFFERENTIALS\n",
    "#     dC_dW1 = dC_dZ1 @ dZ1_dW1.T  #W2 is 50x 50. dC_dZ2 is a 50 x m , by dz2_dw2 which is a 50xm, but tranpose\n",
    "#     dC_dB1 = np.sum(dC_dZ1 @ dZ1_dB1.T,axis=1,keepdims=True)\n",
    "\n",
    "    #add this to the dictionary for later use.\n",
    "    differentiat_dict['dW1'] = dC_dW1\n",
    "    differentiat_dict['dB1'] = dC_dB1\n",
    "    differentiat_dict['dW2'] = dC_dW2\n",
    "    differentiat_dict['dB2'] = dC_dB2\n",
    "    differentiat_dict['dW3'] = dC_dW3\n",
    "    differentiat_dict['dB3'] = dC_dB3\n",
    "\n",
    "    return differentiat_dict\n",
    "\n",
    "differentiat_dict = back_prop(dict_of_weights, dict_of_FP_values, bin_y_train, x_train_flat)"
   ]
  },
  {
   "cell_type": "code",
   "execution_count": 288,
   "metadata": {},
   "outputs": [
    {
     "output_type": "execute_result",
     "data": {
      "text/plain": [
       "12665"
      ]
     },
     "metadata": {},
     "execution_count": 288
    }
   ],
   "source": [
    "dict_of_FP_values['Z3'].size"
   ]
  },
  {
   "source": [
    "## Great stuff, now we need to update the weights."
   ],
   "cell_type": "markdown",
   "metadata": {}
  },
  {
   "cell_type": "code",
   "execution_count": 252,
   "metadata": {},
   "outputs": [],
   "source": [
    "def gradient_descent(learning_rate, dict_of_weights, differentiat_dict):\n",
    "    \n",
    "    #we have dictionaries for the weights and the differentials, which we should be able to use quite easily here. They are also in order so we can kind of cheat... but let's not \n",
    "    for key, value in dict_of_weights.items():\n",
    "        dict_of_weights[key] += -learning_rate * differentiat_dict[f'd{key}']\n",
    "    "
   ]
  },
  {
   "source": [
    "## SO, now let's run this in a loop and see what happens to Cost"
   ],
   "cell_type": "markdown",
   "metadata": {}
  },
  {
   "cell_type": "code",
   "execution_count": 630,
   "metadata": {
    "tags": []
   },
   "outputs": [
    {
     "output_type": "stream",
     "name": "stdout",
     "text": [
      "iteration: 0\n",
      "cost: [0.59158784]\n",
      "iteration: 100\n",
      "cost: [0.09616434]\n",
      "iteration: 200\n",
      "cost: [0.09593042]\n"
     ]
    }
   ],
   "source": [
    "#We start with forward propogation, storing the cost\n",
    "learning_rate = 0.1 #set an arbitrary learning rate... we can iterate and try a few others soon\n",
    "iterations = 250\n",
    "cost = []\n",
    "\n",
    "for iteration in range(iterations):\n",
    "    \n",
    "    dict_of_FP_values, Cost = forward_prop(dict_of_weights,x_train_flat,bin_y_train)\n",
    "    cost.append(Cost[0]) #add cost to the list.\n",
    "    #then, do back prop, storing the differentials\n",
    "    differentiat_dict = back_prop(dict_of_weights, dict_of_FP_values, bin_y_train, x_train_flat)\n",
    "\n",
    "    #then, do the gradient descent. Nothing stored, the weights just update and we re-use the new values in forward prop.\n",
    "    gradient_descent(learning_rate, dict_of_weights, differentiat_dict)\n",
    "    if iteration % 100 == 0:\n",
    "        print(f'iteration: {iteration}\\ncost: {Cost}')"
   ]
  },
  {
   "cell_type": "code",
   "execution_count": 612,
   "metadata": {},
   "outputs": [
    {
     "output_type": "stream",
     "name": "stderr",
     "text": [
      "/Users/jacoblourie/opt/anaconda3/lib/python3.8/site-packages/seaborn/_decorators.py:36: FutureWarning: Pass the following variables as keyword args: x, y. From version 0.12, the only valid positional argument will be `data`, and passing other arguments without an explicit keyword will result in an error or misinterpretation.\n  warnings.warn(\n"
     ]
    },
    {
     "output_type": "execute_result",
     "data": {
      "text/plain": [
       "<AxesSubplot:>"
      ]
     },
     "metadata": {},
     "execution_count": 612
    },
    {
     "output_type": "display_data",
     "data": {
      "text/plain": "<Figure size 432x288 with 1 Axes>",
      "image/svg+xml": "<?xml version=\"1.0\" encoding=\"utf-8\" standalone=\"no\"?>\n<!DOCTYPE svg PUBLIC \"-//W3C//DTD SVG 1.1//EN\"\n  \"http://www.w3.org/Graphics/SVG/1.1/DTD/svg11.dtd\">\n<!-- Created with matplotlib (https://matplotlib.org/) -->\n<svg height=\"248.65675pt\" version=\"1.1\" viewBox=\"0 0 405.08875 248.65675\" width=\"405.08875pt\" xmlns=\"http://www.w3.org/2000/svg\" xmlns:xlink=\"http://www.w3.org/1999/xlink\">\n <metadata>\n  <rdf:RDF xmlns:cc=\"http://creativecommons.org/ns#\" xmlns:dc=\"http://purl.org/dc/elements/1.1/\" xmlns:rdf=\"http://www.w3.org/1999/02/22-rdf-syntax-ns#\">\n   <cc:Work>\n    <dc:type rdf:resource=\"http://purl.org/dc/dcmitype/StillImage\"/>\n    <dc:date>2021-05-05T20:46:19.170499</dc:date>\n    <dc:format>image/svg+xml</dc:format>\n    <dc:creator>\n     <cc:Agent>\n      <dc:title>Matplotlib v3.3.2, https://matplotlib.org/</dc:title>\n     </cc:Agent>\n    </dc:creator>\n   </cc:Work>\n  </rdf:RDF>\n </metadata>\n <defs>\n  <style type=\"text/css\">*{stroke-linecap:butt;stroke-linejoin:round;}</style>\n </defs>\n <g id=\"figure_1\">\n  <g id=\"patch_1\">\n   <path d=\"M 0 248.65675 \nL 405.08875 248.65675 \nL 405.08875 0 \nL 0 0 \nz\n\" style=\"fill:none;\"/>\n  </g>\n  <g id=\"axes_1\">\n   <g id=\"patch_2\">\n    <path d=\"M 63.08875 224.64 \nL 397.88875 224.64 \nL 397.88875 7.2 \nL 63.08875 7.2 \nz\n\" style=\"fill:#ffffff;\"/>\n   </g>\n   <g id=\"matplotlib.axis_1\">\n    <g id=\"xtick_1\">\n     <g id=\"line2d_1\">\n      <defs>\n       <path d=\"M 0 0 \nL 0 4.8 \n\" id=\"m85e2eae9ad\" style=\"stroke:#000000;\"/>\n      </defs>\n      <g>\n       <use style=\"stroke:#000000;\" x=\"72.095429\" xlink:href=\"#m85e2eae9ad\" y=\"224.64\"/>\n      </g>\n     </g>\n     <g id=\"text_1\">\n      <!-- 0 -->\n      <g transform=\"translate(69.295929 239.626625)scale(0.088 -0.088)\">\n       <defs>\n        <path d=\"M 31.78125 66.40625 \nQ 24.171875 66.40625 20.328125 58.90625 \nQ 16.5 51.421875 16.5 36.375 \nQ 16.5 21.390625 20.328125 13.890625 \nQ 24.171875 6.390625 31.78125 6.390625 \nQ 39.453125 6.390625 43.28125 13.890625 \nQ 47.125 21.390625 47.125 36.375 \nQ 47.125 51.421875 43.28125 58.90625 \nQ 39.453125 66.40625 31.78125 66.40625 \nz\nM 31.78125 74.21875 \nQ 44.046875 74.21875 50.515625 64.515625 \nQ 56.984375 54.828125 56.984375 36.375 \nQ 56.984375 17.96875 50.515625 8.265625 \nQ 44.046875 -1.421875 31.78125 -1.421875 \nQ 19.53125 -1.421875 13.0625 8.265625 \nQ 6.59375 17.96875 6.59375 36.375 \nQ 6.59375 54.828125 13.0625 64.515625 \nQ 19.53125 74.21875 31.78125 74.21875 \nz\n\" id=\"DejaVuSans-48\"/>\n       </defs>\n       <use xlink:href=\"#DejaVuSans-48\"/>\n      </g>\n     </g>\n    </g>\n    <g id=\"xtick_2\">\n     <g id=\"line2d_2\">\n      <g>\n       <use style=\"stroke:#000000;\" x=\"134.210457\" xlink:href=\"#m85e2eae9ad\" y=\"224.64\"/>\n      </g>\n     </g>\n     <g id=\"text_2\">\n      <!-- 10 -->\n      <g transform=\"translate(128.611457 239.626625)scale(0.088 -0.088)\">\n       <defs>\n        <path d=\"M 12.40625 8.296875 \nL 28.515625 8.296875 \nL 28.515625 63.921875 \nL 10.984375 60.40625 \nL 10.984375 69.390625 \nL 28.421875 72.90625 \nL 38.28125 72.90625 \nL 38.28125 8.296875 \nL 54.390625 8.296875 \nL 54.390625 0 \nL 12.40625 0 \nz\n\" id=\"DejaVuSans-49\"/>\n       </defs>\n       <use xlink:href=\"#DejaVuSans-49\"/>\n       <use x=\"63.623047\" xlink:href=\"#DejaVuSans-48\"/>\n      </g>\n     </g>\n    </g>\n    <g id=\"xtick_3\">\n     <g id=\"line2d_3\">\n      <g>\n       <use style=\"stroke:#000000;\" x=\"196.325485\" xlink:href=\"#m85e2eae9ad\" y=\"224.64\"/>\n      </g>\n     </g>\n     <g id=\"text_3\">\n      <!-- 20 -->\n      <g transform=\"translate(190.726485 239.626625)scale(0.088 -0.088)\">\n       <defs>\n        <path d=\"M 19.1875 8.296875 \nL 53.609375 8.296875 \nL 53.609375 0 \nL 7.328125 0 \nL 7.328125 8.296875 \nQ 12.9375 14.109375 22.625 23.890625 \nQ 32.328125 33.6875 34.8125 36.53125 \nQ 39.546875 41.84375 41.421875 45.53125 \nQ 43.3125 49.21875 43.3125 52.78125 \nQ 43.3125 58.59375 39.234375 62.25 \nQ 35.15625 65.921875 28.609375 65.921875 \nQ 23.96875 65.921875 18.8125 64.3125 \nQ 13.671875 62.703125 7.8125 59.421875 \nL 7.8125 69.390625 \nQ 13.765625 71.78125 18.9375 73 \nQ 24.125 74.21875 28.421875 74.21875 \nQ 39.75 74.21875 46.484375 68.546875 \nQ 53.21875 62.890625 53.21875 53.421875 \nQ 53.21875 48.921875 51.53125 44.890625 \nQ 49.859375 40.875 45.40625 35.40625 \nQ 44.1875 33.984375 37.640625 27.21875 \nQ 31.109375 20.453125 19.1875 8.296875 \nz\n\" id=\"DejaVuSans-50\"/>\n       </defs>\n       <use xlink:href=\"#DejaVuSans-50\"/>\n       <use x=\"63.623047\" xlink:href=\"#DejaVuSans-48\"/>\n      </g>\n     </g>\n    </g>\n    <g id=\"xtick_4\">\n     <g id=\"line2d_4\">\n      <g>\n       <use style=\"stroke:#000000;\" x=\"258.440513\" xlink:href=\"#m85e2eae9ad\" y=\"224.64\"/>\n      </g>\n     </g>\n     <g id=\"text_4\">\n      <!-- 30 -->\n      <g transform=\"translate(252.841513 239.626625)scale(0.088 -0.088)\">\n       <defs>\n        <path d=\"M 40.578125 39.3125 \nQ 47.65625 37.796875 51.625 33 \nQ 55.609375 28.21875 55.609375 21.1875 \nQ 55.609375 10.40625 48.1875 4.484375 \nQ 40.765625 -1.421875 27.09375 -1.421875 \nQ 22.515625 -1.421875 17.65625 -0.515625 \nQ 12.796875 0.390625 7.625 2.203125 \nL 7.625 11.71875 \nQ 11.71875 9.328125 16.59375 8.109375 \nQ 21.484375 6.890625 26.8125 6.890625 \nQ 36.078125 6.890625 40.9375 10.546875 \nQ 45.796875 14.203125 45.796875 21.1875 \nQ 45.796875 27.640625 41.28125 31.265625 \nQ 36.765625 34.90625 28.71875 34.90625 \nL 20.21875 34.90625 \nL 20.21875 43.015625 \nL 29.109375 43.015625 \nQ 36.375 43.015625 40.234375 45.921875 \nQ 44.09375 48.828125 44.09375 54.296875 \nQ 44.09375 59.90625 40.109375 62.90625 \nQ 36.140625 65.921875 28.71875 65.921875 \nQ 24.65625 65.921875 20.015625 65.03125 \nQ 15.375 64.15625 9.8125 62.3125 \nL 9.8125 71.09375 \nQ 15.4375 72.65625 20.34375 73.4375 \nQ 25.25 74.21875 29.59375 74.21875 \nQ 40.828125 74.21875 47.359375 69.109375 \nQ 53.90625 64.015625 53.90625 55.328125 \nQ 53.90625 49.265625 50.4375 45.09375 \nQ 46.96875 40.921875 40.578125 39.3125 \nz\n\" id=\"DejaVuSans-51\"/>\n       </defs>\n       <use xlink:href=\"#DejaVuSans-51\"/>\n       <use x=\"63.623047\" xlink:href=\"#DejaVuSans-48\"/>\n      </g>\n     </g>\n    </g>\n    <g id=\"xtick_5\">\n     <g id=\"line2d_5\">\n      <g>\n       <use style=\"stroke:#000000;\" x=\"320.55554\" xlink:href=\"#m85e2eae9ad\" y=\"224.64\"/>\n      </g>\n     </g>\n     <g id=\"text_5\">\n      <!-- 40 -->\n      <g transform=\"translate(314.95654 239.626625)scale(0.088 -0.088)\">\n       <defs>\n        <path d=\"M 37.796875 64.3125 \nL 12.890625 25.390625 \nL 37.796875 25.390625 \nz\nM 35.203125 72.90625 \nL 47.609375 72.90625 \nL 47.609375 25.390625 \nL 58.015625 25.390625 \nL 58.015625 17.1875 \nL 47.609375 17.1875 \nL 47.609375 0 \nL 37.796875 0 \nL 37.796875 17.1875 \nL 4.890625 17.1875 \nL 4.890625 26.703125 \nz\n\" id=\"DejaVuSans-52\"/>\n       </defs>\n       <use xlink:href=\"#DejaVuSans-52\"/>\n       <use x=\"63.623047\" xlink:href=\"#DejaVuSans-48\"/>\n      </g>\n     </g>\n    </g>\n    <g id=\"xtick_6\">\n     <g id=\"line2d_6\">\n      <g>\n       <use style=\"stroke:#000000;\" x=\"382.670568\" xlink:href=\"#m85e2eae9ad\" y=\"224.64\"/>\n      </g>\n     </g>\n     <g id=\"text_6\">\n      <!-- 50 -->\n      <g transform=\"translate(377.071568 239.626625)scale(0.088 -0.088)\">\n       <defs>\n        <path d=\"M 10.796875 72.90625 \nL 49.515625 72.90625 \nL 49.515625 64.59375 \nL 19.828125 64.59375 \nL 19.828125 46.734375 \nQ 21.96875 47.46875 24.109375 47.828125 \nQ 26.265625 48.1875 28.421875 48.1875 \nQ 40.625 48.1875 47.75 41.5 \nQ 54.890625 34.8125 54.890625 23.390625 \nQ 54.890625 11.625 47.5625 5.09375 \nQ 40.234375 -1.421875 26.90625 -1.421875 \nQ 22.3125 -1.421875 17.546875 -0.640625 \nQ 12.796875 0.140625 7.71875 1.703125 \nL 7.71875 11.625 \nQ 12.109375 9.234375 16.796875 8.0625 \nQ 21.484375 6.890625 26.703125 6.890625 \nQ 35.15625 6.890625 40.078125 11.328125 \nQ 45.015625 15.765625 45.015625 23.390625 \nQ 45.015625 31 40.078125 35.4375 \nQ 35.15625 39.890625 26.703125 39.890625 \nQ 22.75 39.890625 18.8125 39.015625 \nQ 14.890625 38.140625 10.796875 36.28125 \nz\n\" id=\"DejaVuSans-53\"/>\n       </defs>\n       <use xlink:href=\"#DejaVuSans-53\"/>\n       <use x=\"63.623047\" xlink:href=\"#DejaVuSans-48\"/>\n      </g>\n     </g>\n    </g>\n   </g>\n   <g id=\"matplotlib.axis_2\">\n    <g id=\"ytick_1\">\n     <g id=\"line2d_7\">\n      <defs>\n       <path d=\"M 0 0 \nL -4.8 0 \n\" id=\"m96e4d38ed4\" style=\"stroke:#000000;\"/>\n      </defs>\n      <g>\n       <use style=\"stroke:#000000;\" x=\"63.08875\" xlink:href=\"#m96e4d38ed4\" y=\"222.462024\"/>\n      </g>\n     </g>\n     <g id=\"text_7\">\n      <!-- 0.5915875 -->\n      <g transform=\"translate(7.2 225.805337)scale(0.088 -0.088)\">\n       <defs>\n        <path d=\"M 10.6875 12.40625 \nL 21 12.40625 \nL 21 0 \nL 10.6875 0 \nz\n\" id=\"DejaVuSans-46\"/>\n        <path d=\"M 10.984375 1.515625 \nL 10.984375 10.5 \nQ 14.703125 8.734375 18.5 7.8125 \nQ 22.3125 6.890625 25.984375 6.890625 \nQ 35.75 6.890625 40.890625 13.453125 \nQ 46.046875 20.015625 46.78125 33.40625 \nQ 43.953125 29.203125 39.59375 26.953125 \nQ 35.25 24.703125 29.984375 24.703125 \nQ 19.046875 24.703125 12.671875 31.3125 \nQ 6.296875 37.9375 6.296875 49.421875 \nQ 6.296875 60.640625 12.9375 67.421875 \nQ 19.578125 74.21875 30.609375 74.21875 \nQ 43.265625 74.21875 49.921875 64.515625 \nQ 56.59375 54.828125 56.59375 36.375 \nQ 56.59375 19.140625 48.40625 8.859375 \nQ 40.234375 -1.421875 26.421875 -1.421875 \nQ 22.703125 -1.421875 18.890625 -0.6875 \nQ 15.09375 0.046875 10.984375 1.515625 \nz\nM 30.609375 32.421875 \nQ 37.25 32.421875 41.125 36.953125 \nQ 45.015625 41.5 45.015625 49.421875 \nQ 45.015625 57.28125 41.125 61.84375 \nQ 37.25 66.40625 30.609375 66.40625 \nQ 23.96875 66.40625 20.09375 61.84375 \nQ 16.21875 57.28125 16.21875 49.421875 \nQ 16.21875 41.5 20.09375 36.953125 \nQ 23.96875 32.421875 30.609375 32.421875 \nz\n\" id=\"DejaVuSans-57\"/>\n        <path d=\"M 31.78125 34.625 \nQ 24.75 34.625 20.71875 30.859375 \nQ 16.703125 27.09375 16.703125 20.515625 \nQ 16.703125 13.921875 20.71875 10.15625 \nQ 24.75 6.390625 31.78125 6.390625 \nQ 38.8125 6.390625 42.859375 10.171875 \nQ 46.921875 13.96875 46.921875 20.515625 \nQ 46.921875 27.09375 42.890625 30.859375 \nQ 38.875 34.625 31.78125 34.625 \nz\nM 21.921875 38.8125 \nQ 15.578125 40.375 12.03125 44.71875 \nQ 8.5 49.078125 8.5 55.328125 \nQ 8.5 64.0625 14.71875 69.140625 \nQ 20.953125 74.21875 31.78125 74.21875 \nQ 42.671875 74.21875 48.875 69.140625 \nQ 55.078125 64.0625 55.078125 55.328125 \nQ 55.078125 49.078125 51.53125 44.71875 \nQ 48 40.375 41.703125 38.8125 \nQ 48.828125 37.15625 52.796875 32.3125 \nQ 56.78125 27.484375 56.78125 20.515625 \nQ 56.78125 9.90625 50.3125 4.234375 \nQ 43.84375 -1.421875 31.78125 -1.421875 \nQ 19.734375 -1.421875 13.25 4.234375 \nQ 6.78125 9.90625 6.78125 20.515625 \nQ 6.78125 27.484375 10.78125 32.3125 \nQ 14.796875 37.15625 21.921875 38.8125 \nz\nM 18.3125 54.390625 \nQ 18.3125 48.734375 21.84375 45.5625 \nQ 25.390625 42.390625 31.78125 42.390625 \nQ 38.140625 42.390625 41.71875 45.5625 \nQ 45.3125 48.734375 45.3125 54.390625 \nQ 45.3125 60.0625 41.71875 63.234375 \nQ 38.140625 66.40625 31.78125 66.40625 \nQ 25.390625 66.40625 21.84375 63.234375 \nQ 18.3125 60.0625 18.3125 54.390625 \nz\n\" id=\"DejaVuSans-56\"/>\n        <path d=\"M 8.203125 72.90625 \nL 55.078125 72.90625 \nL 55.078125 68.703125 \nL 28.609375 0 \nL 18.3125 0 \nL 43.21875 64.59375 \nL 8.203125 64.59375 \nz\n\" id=\"DejaVuSans-55\"/>\n       </defs>\n       <use xlink:href=\"#DejaVuSans-48\"/>\n       <use x=\"63.623047\" xlink:href=\"#DejaVuSans-46\"/>\n       <use x=\"95.410156\" xlink:href=\"#DejaVuSans-53\"/>\n       <use x=\"159.033203\" xlink:href=\"#DejaVuSans-57\"/>\n       <use x=\"222.65625\" xlink:href=\"#DejaVuSans-49\"/>\n       <use x=\"286.279297\" xlink:href=\"#DejaVuSans-53\"/>\n       <use x=\"349.902344\" xlink:href=\"#DejaVuSans-56\"/>\n       <use x=\"413.525391\" xlink:href=\"#DejaVuSans-55\"/>\n       <use x=\"477.148438\" xlink:href=\"#DejaVuSans-53\"/>\n      </g>\n     </g>\n    </g>\n    <g id=\"ytick_2\">\n     <g id=\"line2d_8\">\n      <g>\n       <use style=\"stroke:#000000;\" x=\"63.08875\" xlink:href=\"#m96e4d38ed4\" y=\"195.304249\"/>\n      </g>\n     </g>\n     <g id=\"text_8\">\n      <!-- 0.5915900 -->\n      <g transform=\"translate(7.2 198.647561)scale(0.088 -0.088)\">\n       <use xlink:href=\"#DejaVuSans-48\"/>\n       <use x=\"63.623047\" xlink:href=\"#DejaVuSans-46\"/>\n       <use x=\"95.410156\" xlink:href=\"#DejaVuSans-53\"/>\n       <use x=\"159.033203\" xlink:href=\"#DejaVuSans-57\"/>\n       <use x=\"222.65625\" xlink:href=\"#DejaVuSans-49\"/>\n       <use x=\"286.279297\" xlink:href=\"#DejaVuSans-53\"/>\n       <use x=\"349.902344\" xlink:href=\"#DejaVuSans-57\"/>\n       <use x=\"413.525391\" xlink:href=\"#DejaVuSans-48\"/>\n       <use x=\"477.148438\" xlink:href=\"#DejaVuSans-48\"/>\n      </g>\n     </g>\n    </g>\n    <g id=\"ytick_3\">\n     <g id=\"line2d_9\">\n      <g>\n       <use style=\"stroke:#000000;\" x=\"63.08875\" xlink:href=\"#m96e4d38ed4\" y=\"168.146473\"/>\n      </g>\n     </g>\n     <g id=\"text_9\">\n      <!-- 0.5915925 -->\n      <g transform=\"translate(7.2 171.489786)scale(0.088 -0.088)\">\n       <use xlink:href=\"#DejaVuSans-48\"/>\n       <use x=\"63.623047\" xlink:href=\"#DejaVuSans-46\"/>\n       <use x=\"95.410156\" xlink:href=\"#DejaVuSans-53\"/>\n       <use x=\"159.033203\" xlink:href=\"#DejaVuSans-57\"/>\n       <use x=\"222.65625\" xlink:href=\"#DejaVuSans-49\"/>\n       <use x=\"286.279297\" xlink:href=\"#DejaVuSans-53\"/>\n       <use x=\"349.902344\" xlink:href=\"#DejaVuSans-57\"/>\n       <use x=\"413.525391\" xlink:href=\"#DejaVuSans-50\"/>\n       <use x=\"477.148438\" xlink:href=\"#DejaVuSans-53\"/>\n      </g>\n     </g>\n    </g>\n    <g id=\"ytick_4\">\n     <g id=\"line2d_10\">\n      <g>\n       <use style=\"stroke:#000000;\" x=\"63.08875\" xlink:href=\"#m96e4d38ed4\" y=\"140.988698\"/>\n      </g>\n     </g>\n     <g id=\"text_10\">\n      <!-- 0.5915950 -->\n      <g transform=\"translate(7.2 144.33201)scale(0.088 -0.088)\">\n       <use xlink:href=\"#DejaVuSans-48\"/>\n       <use x=\"63.623047\" xlink:href=\"#DejaVuSans-46\"/>\n       <use x=\"95.410156\" xlink:href=\"#DejaVuSans-53\"/>\n       <use x=\"159.033203\" xlink:href=\"#DejaVuSans-57\"/>\n       <use x=\"222.65625\" xlink:href=\"#DejaVuSans-49\"/>\n       <use x=\"286.279297\" xlink:href=\"#DejaVuSans-53\"/>\n       <use x=\"349.902344\" xlink:href=\"#DejaVuSans-57\"/>\n       <use x=\"413.525391\" xlink:href=\"#DejaVuSans-53\"/>\n       <use x=\"477.148438\" xlink:href=\"#DejaVuSans-48\"/>\n      </g>\n     </g>\n    </g>\n    <g id=\"ytick_5\">\n     <g id=\"line2d_11\">\n      <g>\n       <use style=\"stroke:#000000;\" x=\"63.08875\" xlink:href=\"#m96e4d38ed4\" y=\"113.830922\"/>\n      </g>\n     </g>\n     <g id=\"text_11\">\n      <!-- 0.5915975 -->\n      <g transform=\"translate(7.2 117.174235)scale(0.088 -0.088)\">\n       <use xlink:href=\"#DejaVuSans-48\"/>\n       <use x=\"63.623047\" xlink:href=\"#DejaVuSans-46\"/>\n       <use x=\"95.410156\" xlink:href=\"#DejaVuSans-53\"/>\n       <use x=\"159.033203\" xlink:href=\"#DejaVuSans-57\"/>\n       <use x=\"222.65625\" xlink:href=\"#DejaVuSans-49\"/>\n       <use x=\"286.279297\" xlink:href=\"#DejaVuSans-53\"/>\n       <use x=\"349.902344\" xlink:href=\"#DejaVuSans-57\"/>\n       <use x=\"413.525391\" xlink:href=\"#DejaVuSans-55\"/>\n       <use x=\"477.148438\" xlink:href=\"#DejaVuSans-53\"/>\n      </g>\n     </g>\n    </g>\n    <g id=\"ytick_6\">\n     <g id=\"line2d_12\">\n      <g>\n       <use style=\"stroke:#000000;\" x=\"63.08875\" xlink:href=\"#m96e4d38ed4\" y=\"86.673147\"/>\n      </g>\n     </g>\n     <g id=\"text_12\">\n      <!-- 0.5916000 -->\n      <g transform=\"translate(7.2 90.016459)scale(0.088 -0.088)\">\n       <defs>\n        <path d=\"M 33.015625 40.375 \nQ 26.375 40.375 22.484375 35.828125 \nQ 18.609375 31.296875 18.609375 23.390625 \nQ 18.609375 15.53125 22.484375 10.953125 \nQ 26.375 6.390625 33.015625 6.390625 \nQ 39.65625 6.390625 43.53125 10.953125 \nQ 47.40625 15.53125 47.40625 23.390625 \nQ 47.40625 31.296875 43.53125 35.828125 \nQ 39.65625 40.375 33.015625 40.375 \nz\nM 52.59375 71.296875 \nL 52.59375 62.3125 \nQ 48.875 64.0625 45.09375 64.984375 \nQ 41.3125 65.921875 37.59375 65.921875 \nQ 27.828125 65.921875 22.671875 59.328125 \nQ 17.53125 52.734375 16.796875 39.40625 \nQ 19.671875 43.65625 24.015625 45.921875 \nQ 28.375 48.1875 33.59375 48.1875 \nQ 44.578125 48.1875 50.953125 41.515625 \nQ 57.328125 34.859375 57.328125 23.390625 \nQ 57.328125 12.15625 50.6875 5.359375 \nQ 44.046875 -1.421875 33.015625 -1.421875 \nQ 20.359375 -1.421875 13.671875 8.265625 \nQ 6.984375 17.96875 6.984375 36.375 \nQ 6.984375 53.65625 15.1875 63.9375 \nQ 23.390625 74.21875 37.203125 74.21875 \nQ 40.921875 74.21875 44.703125 73.484375 \nQ 48.484375 72.75 52.59375 71.296875 \nz\n\" id=\"DejaVuSans-54\"/>\n       </defs>\n       <use xlink:href=\"#DejaVuSans-48\"/>\n       <use x=\"63.623047\" xlink:href=\"#DejaVuSans-46\"/>\n       <use x=\"95.410156\" xlink:href=\"#DejaVuSans-53\"/>\n       <use x=\"159.033203\" xlink:href=\"#DejaVuSans-57\"/>\n       <use x=\"222.65625\" xlink:href=\"#DejaVuSans-49\"/>\n       <use x=\"286.279297\" xlink:href=\"#DejaVuSans-54\"/>\n       <use x=\"349.902344\" xlink:href=\"#DejaVuSans-48\"/>\n       <use x=\"413.525391\" xlink:href=\"#DejaVuSans-48\"/>\n       <use x=\"477.148438\" xlink:href=\"#DejaVuSans-48\"/>\n      </g>\n     </g>\n    </g>\n    <g id=\"ytick_7\">\n     <g id=\"line2d_13\">\n      <g>\n       <use style=\"stroke:#000000;\" x=\"63.08875\" xlink:href=\"#m96e4d38ed4\" y=\"59.515371\"/>\n      </g>\n     </g>\n     <g id=\"text_13\">\n      <!-- 0.5916025 -->\n      <g transform=\"translate(7.2 62.858684)scale(0.088 -0.088)\">\n       <use xlink:href=\"#DejaVuSans-48\"/>\n       <use x=\"63.623047\" xlink:href=\"#DejaVuSans-46\"/>\n       <use x=\"95.410156\" xlink:href=\"#DejaVuSans-53\"/>\n       <use x=\"159.033203\" xlink:href=\"#DejaVuSans-57\"/>\n       <use x=\"222.65625\" xlink:href=\"#DejaVuSans-49\"/>\n       <use x=\"286.279297\" xlink:href=\"#DejaVuSans-54\"/>\n       <use x=\"349.902344\" xlink:href=\"#DejaVuSans-48\"/>\n       <use x=\"413.525391\" xlink:href=\"#DejaVuSans-50\"/>\n       <use x=\"477.148438\" xlink:href=\"#DejaVuSans-53\"/>\n      </g>\n     </g>\n    </g>\n    <g id=\"ytick_8\">\n     <g id=\"line2d_14\">\n      <g>\n       <use style=\"stroke:#000000;\" x=\"63.08875\" xlink:href=\"#m96e4d38ed4\" y=\"32.357596\"/>\n      </g>\n     </g>\n     <g id=\"text_14\">\n      <!-- 0.5916050 -->\n      <g transform=\"translate(7.2 35.700908)scale(0.088 -0.088)\">\n       <use xlink:href=\"#DejaVuSans-48\"/>\n       <use x=\"63.623047\" xlink:href=\"#DejaVuSans-46\"/>\n       <use x=\"95.410156\" xlink:href=\"#DejaVuSans-53\"/>\n       <use x=\"159.033203\" xlink:href=\"#DejaVuSans-57\"/>\n       <use x=\"222.65625\" xlink:href=\"#DejaVuSans-49\"/>\n       <use x=\"286.279297\" xlink:href=\"#DejaVuSans-54\"/>\n       <use x=\"349.902344\" xlink:href=\"#DejaVuSans-48\"/>\n       <use x=\"413.525391\" xlink:href=\"#DejaVuSans-53\"/>\n       <use x=\"477.148438\" xlink:href=\"#DejaVuSans-48\"/>\n      </g>\n     </g>\n    </g>\n   </g>\n   <g id=\"line2d_15\">\n    <path clip-path=\"url(#p1dbbf098c3)\" d=\"M 78.306932 17.083636 \nL 84.518435 21.117634 \nL 90.729937 25.151637 \nL 96.94144 29.185646 \nL 103.152943 33.219661 \nL 109.364446 37.253681 \nL 115.575949 41.287708 \nL 121.787451 45.32174 \nL 127.998954 49.355778 \nL 134.210457 53.389822 \nL 140.42196 57.423872 \nL 146.633462 61.457927 \nL 152.844965 65.491989 \nL 159.056468 69.526056 \nL 165.267971 73.560129 \nL 171.479474 77.594208 \nL 177.690976 81.628293 \nL 183.902479 85.662384 \nL 190.113982 89.69648 \nL 196.325485 93.730582 \nL 202.536987 97.76469 \nL 208.74849 101.798804 \nL 214.959993 105.832924 \nL 221.171496 109.86705 \nL 227.382999 113.901181 \nL 233.594501 117.935319 \nL 239.806004 121.969462 \nL 246.017507 126.003611 \nL 252.22901 130.037765 \nL 258.440513 134.071926 \nL 264.652015 138.106093 \nL 270.863518 142.140265 \nL 277.075021 146.174443 \nL 283.286524 150.208627 \nL 289.498026 154.242817 \nL 295.709529 158.277012 \nL 301.921032 162.311214 \nL 308.132535 166.345421 \nL 314.344038 170.379634 \nL 320.55554 174.413853 \nL 326.767043 178.448078 \nL 332.978546 182.482309 \nL 339.190049 186.516545 \nL 345.401551 190.550787 \nL 351.613054 194.585035 \nL 357.824557 198.619289 \nL 364.03606 202.653549 \nL 370.247563 206.687815 \nL 376.459065 210.722086 \nL 382.670568 214.756364 \n\" style=\"fill:none;stroke:#1f77b4;stroke-linecap:square;stroke-width:1.2;\"/>\n   </g>\n   <g id=\"patch_3\">\n    <path d=\"M 63.08875 224.64 \nL 63.08875 7.2 \n\" style=\"fill:none;stroke:#000000;stroke-linecap:square;stroke-linejoin:miter;\"/>\n   </g>\n   <g id=\"patch_4\">\n    <path d=\"M 397.88875 224.64 \nL 397.88875 7.2 \n\" style=\"fill:none;stroke:#000000;stroke-linecap:square;stroke-linejoin:miter;\"/>\n   </g>\n   <g id=\"patch_5\">\n    <path d=\"M 63.08875 224.64 \nL 397.88875 224.64 \n\" style=\"fill:none;stroke:#000000;stroke-linecap:square;stroke-linejoin:miter;\"/>\n   </g>\n   <g id=\"patch_6\">\n    <path d=\"M 63.08875 7.2 \nL 397.88875 7.2 \n\" style=\"fill:none;stroke:#000000;stroke-linecap:square;stroke-linejoin:miter;\"/>\n   </g>\n  </g>\n </g>\n <defs>\n  <clipPath id=\"p1dbbf098c3\">\n   <rect height=\"217.44\" width=\"334.8\" x=\"63.08875\" y=\"7.2\"/>\n  </clipPath>\n </defs>\n</svg>\n",
      "image/png": "[encoded data removed]"
     },
     "metadata": {
      "needs_background": "light"
     }
    }
   ],
   "source": [
    "cost_x = np.linspace(1,iterations,iterations)\n",
    "fig = plt.figure(figsize = (6,4))\n",
    "sns.lineplot(cost_x,cost)\n"
   ]
  },
  {
   "cell_type": "code",
   "execution_count": 613,
   "metadata": {},
   "outputs": [
    {
     "output_type": "execute_result",
     "data": {
      "text/plain": [
       "<AxesSubplot:ylabel='Count'>"
      ]
     },
     "metadata": {},
     "execution_count": 613
    },
    {
     "output_type": "display_data",
     "data": {
      "text/plain": "<Figure size 432x288 with 1 Axes>",
      "image/svg+xml": "<?xml version=\"1.0\" encoding=\"utf-8\" standalone=\"no\"?>\n<!DOCTYPE svg PUBLIC \"-//W3C//DTD SVG 1.1//EN\"\n  \"http://www.w3.org/Graphics/SVG/1.1/DTD/svg11.dtd\">\n<!-- Created with matplotlib (https://matplotlib.org/) -->\n<svg height=\"248.65675pt\" version=\"1.1\" viewBox=\"0 0 393.187 248.65675\" width=\"393.187pt\" xmlns=\"http://www.w3.org/2000/svg\" xmlns:xlink=\"http://www.w3.org/1999/xlink\">\n <metadata>\n  <rdf:RDF xmlns:cc=\"http://creativecommons.org/ns#\" xmlns:dc=\"http://purl.org/dc/elements/1.1/\" xmlns:rdf=\"http://www.w3.org/1999/02/22-rdf-syntax-ns#\">\n   <cc:Work>\n    <dc:type rdf:resource=\"http://purl.org/dc/dcmitype/StillImage\"/>\n    <dc:date>2021-05-05T20:46:38.448570</dc:date>\n    <dc:format>image/svg+xml</dc:format>\n    <dc:creator>\n     <cc:Agent>\n      <dc:title>Matplotlib v3.3.2, https://matplotlib.org/</dc:title>\n     </cc:Agent>\n    </dc:creator>\n   </cc:Work>\n  </rdf:RDF>\n </metadata>\n <defs>\n  <style type=\"text/css\">*{stroke-linecap:butt;stroke-linejoin:round;}</style>\n </defs>\n <g id=\"figure_1\">\n  <g id=\"patch_1\">\n   <path d=\"M 0 248.65675 \nL 393.187 248.65675 \nL 393.187 0 \nL 0 0 \nz\n\" style=\"fill:none;\"/>\n  </g>\n  <g id=\"axes_1\">\n   <g id=\"patch_2\">\n    <path d=\"M 51.187 224.64 \nL 385.987 224.64 \nL 385.987 7.2 \nL 51.187 7.2 \nz\n\" style=\"fill:#ffffff;\"/>\n   </g>\n   <g id=\"patch_3\">\n    <path clip-path=\"url(#pfd83bc2c0f)\" d=\"M 66.405182 224.64 \nL 69.575636 224.64 \nL 69.575636 224.383917 \nL 66.405182 224.383917 \nz\n\" style=\"fill:#1f77b4;fill-opacity:0.75;stroke:#000000;stroke-linejoin:miter;stroke-width:0.317045;\"/>\n   </g>\n   <g id=\"patch_4\">\n    <path clip-path=\"url(#pfd83bc2c0f)\" d=\"M 69.575636 224.64 \nL 72.746091 224.64 \nL 72.746091 224.298556 \nL 69.575636 224.298556 \nz\n\" style=\"fill:#1f77b4;fill-opacity:0.75;stroke:#000000;stroke-linejoin:miter;stroke-width:0.317045;\"/>\n   </g>\n   <g id=\"patch_5\">\n    <path clip-path=\"url(#pfd83bc2c0f)\" d=\"M 72.746091 224.64 \nL 75.916545 224.64 \nL 75.916545 224.383917 \nL 72.746091 224.383917 \nz\n\" style=\"fill:#1f77b4;fill-opacity:0.75;stroke:#000000;stroke-linejoin:miter;stroke-width:0.317045;\"/>\n   </g>\n   <g id=\"patch_6\">\n    <path clip-path=\"url(#pfd83bc2c0f)\" d=\"M 75.916545 224.64 \nL 79.087 224.64 \nL 79.087 223.701029 \nL 75.916545 223.701029 \nz\n\" style=\"fill:#1f77b4;fill-opacity:0.75;stroke:#000000;stroke-linejoin:miter;stroke-width:0.317045;\"/>\n   </g>\n   <g id=\"patch_7\">\n    <path clip-path=\"url(#pfd83bc2c0f)\" d=\"M 79.087 224.64 \nL 82.257455 224.64 \nL 82.257455 223.701029 \nL 79.087 223.701029 \nz\n\" style=\"fill:#1f77b4;fill-opacity:0.75;stroke:#000000;stroke-linejoin:miter;stroke-width:0.317045;\"/>\n   </g>\n   <g id=\"patch_8\">\n    <path clip-path=\"url(#pfd83bc2c0f)\" d=\"M 82.257455 224.64 \nL 85.427909 224.64 \nL 85.427909 224.213195 \nL 82.257455 224.213195 \nz\n\" style=\"fill:#1f77b4;fill-opacity:0.75;stroke:#000000;stroke-linejoin:miter;stroke-width:0.317045;\"/>\n   </g>\n   <g id=\"patch_9\">\n    <path clip-path=\"url(#pfd83bc2c0f)\" d=\"M 85.427909 224.64 \nL 88.598364 224.64 \nL 88.598364 223.615668 \nL 85.427909 223.615668 \nz\n\" style=\"fill:#1f77b4;fill-opacity:0.75;stroke:#000000;stroke-linejoin:miter;stroke-width:0.317045;\"/>\n   </g>\n   <g id=\"patch_10\">\n    <path clip-path=\"url(#pfd83bc2c0f)\" d=\"M 88.598364 224.64 \nL 91.768818 224.64 \nL 91.768818 223.018142 \nL 88.598364 223.018142 \nz\n\" style=\"fill:#1f77b4;fill-opacity:0.75;stroke:#000000;stroke-linejoin:miter;stroke-width:0.317045;\"/>\n   </g>\n   <g id=\"patch_11\">\n    <path clip-path=\"url(#pfd83bc2c0f)\" d=\"M 91.768818 224.64 \nL 94.939273 224.64 \nL 94.939273 222.84742 \nL 91.768818 222.84742 \nz\n\" style=\"fill:#1f77b4;fill-opacity:0.75;stroke:#000000;stroke-linejoin:miter;stroke-width:0.317045;\"/>\n   </g>\n   <g id=\"patch_12\">\n    <path clip-path=\"url(#pfd83bc2c0f)\" d=\"M 94.939273 224.64 \nL 98.109727 224.64 \nL 98.109727 222.762059 \nL 94.939273 222.762059 \nz\n\" style=\"fill:#1f77b4;fill-opacity:0.75;stroke:#000000;stroke-linejoin:miter;stroke-width:0.317045;\"/>\n   </g>\n   <g id=\"patch_13\">\n    <path clip-path=\"url(#pfd83bc2c0f)\" d=\"M 98.109727 224.64 \nL 101.280182 224.64 \nL 101.280182 222.079171 \nL 98.109727 222.079171 \nz\n\" style=\"fill:#1f77b4;fill-opacity:0.75;stroke:#000000;stroke-linejoin:miter;stroke-width:0.317045;\"/>\n   </g>\n   <g id=\"patch_14\">\n    <path clip-path=\"url(#pfd83bc2c0f)\" d=\"M 101.280182 224.64 \nL 104.450636 224.64 \nL 104.450636 221.567005 \nL 101.280182 221.567005 \nz\n\" style=\"fill:#1f77b4;fill-opacity:0.75;stroke:#000000;stroke-linejoin:miter;stroke-width:0.317045;\"/>\n   </g>\n   <g id=\"patch_15\">\n    <path clip-path=\"url(#pfd83bc2c0f)\" d=\"M 104.450636 224.64 \nL 107.621091 224.64 \nL 107.621091 221.310922 \nL 104.450636 221.310922 \nz\n\" style=\"fill:#1f77b4;fill-opacity:0.75;stroke:#000000;stroke-linejoin:miter;stroke-width:0.317045;\"/>\n   </g>\n   <g id=\"patch_16\">\n    <path clip-path=\"url(#pfd83bc2c0f)\" d=\"M 107.621091 224.64 \nL 110.791545 224.64 \nL 110.791545 219.945147 \nL 107.621091 219.945147 \nz\n\" style=\"fill:#1f77b4;fill-opacity:0.75;stroke:#000000;stroke-linejoin:miter;stroke-width:0.317045;\"/>\n   </g>\n   <g id=\"patch_17\">\n    <path clip-path=\"url(#pfd83bc2c0f)\" d=\"M 110.791545 224.64 \nL 113.962 224.64 \nL 113.962 220.628034 \nL 110.791545 220.628034 \nz\n\" style=\"fill:#1f77b4;fill-opacity:0.75;stroke:#000000;stroke-linejoin:miter;stroke-width:0.317045;\"/>\n   </g>\n   <g id=\"patch_18\">\n    <path clip-path=\"url(#pfd83bc2c0f)\" d=\"M 113.962 224.64 \nL 117.132455 224.64 \nL 117.132455 221.567005 \nL 113.962 221.567005 \nz\n\" style=\"fill:#1f77b4;fill-opacity:0.75;stroke:#000000;stroke-linejoin:miter;stroke-width:0.317045;\"/>\n   </g>\n   <g id=\"patch_19\">\n    <path clip-path=\"url(#pfd83bc2c0f)\" d=\"M 117.132455 224.64 \nL 120.302909 224.64 \nL 120.302909 219.689064 \nL 117.132455 219.689064 \nz\n\" style=\"fill:#1f77b4;fill-opacity:0.75;stroke:#000000;stroke-linejoin:miter;stroke-width:0.317045;\"/>\n   </g>\n   <g id=\"patch_20\">\n    <path clip-path=\"url(#pfd83bc2c0f)\" d=\"M 120.302909 224.64 \nL 123.473364 224.64 \nL 123.473364 220.371951 \nL 120.302909 220.371951 \nz\n\" style=\"fill:#1f77b4;fill-opacity:0.75;stroke:#000000;stroke-linejoin:miter;stroke-width:0.317045;\"/>\n   </g>\n   <g id=\"patch_21\">\n    <path clip-path=\"url(#pfd83bc2c0f)\" d=\"M 123.473364 224.64 \nL 126.643818 224.64 \nL 126.643818 218.835454 \nL 123.473364 218.835454 \nz\n\" style=\"fill:#1f77b4;fill-opacity:0.75;stroke:#000000;stroke-linejoin:miter;stroke-width:0.317045;\"/>\n   </g>\n   <g id=\"patch_22\">\n    <path clip-path=\"url(#pfd83bc2c0f)\" d=\"M 126.643818 224.64 \nL 129.814273 224.64 \nL 129.814273 219.091537 \nL 126.643818 219.091537 \nz\n\" style=\"fill:#1f77b4;fill-opacity:0.75;stroke:#000000;stroke-linejoin:miter;stroke-width:0.317045;\"/>\n   </g>\n   <g id=\"patch_23\">\n    <path clip-path=\"url(#pfd83bc2c0f)\" d=\"M 129.814273 224.64 \nL 132.984727 224.64 \nL 132.984727 220.030508 \nL 129.814273 220.030508 \nz\n\" style=\"fill:#1f77b4;fill-opacity:0.75;stroke:#000000;stroke-linejoin:miter;stroke-width:0.317045;\"/>\n   </g>\n   <g id=\"patch_24\">\n    <path clip-path=\"url(#pfd83bc2c0f)\" d=\"M 132.984727 224.64 \nL 136.155182 224.64 \nL 136.155182 219.689064 \nL 132.984727 219.689064 \nz\n\" style=\"fill:#1f77b4;fill-opacity:0.75;stroke:#000000;stroke-linejoin:miter;stroke-width:0.317045;\"/>\n   </g>\n   <g id=\"patch_25\">\n    <path clip-path=\"url(#pfd83bc2c0f)\" d=\"M 136.155182 224.64 \nL 139.325636 224.64 \nL 139.325636 217.384318 \nL 136.155182 217.384318 \nz\n\" style=\"fill:#1f77b4;fill-opacity:0.75;stroke:#000000;stroke-linejoin:miter;stroke-width:0.317045;\"/>\n   </g>\n   <g id=\"patch_26\">\n    <path clip-path=\"url(#pfd83bc2c0f)\" d=\"M 139.325636 224.64 \nL 142.496091 224.64 \nL 142.496091 218.067205 \nL 139.325636 218.067205 \nz\n\" style=\"fill:#1f77b4;fill-opacity:0.75;stroke:#000000;stroke-linejoin:miter;stroke-width:0.317045;\"/>\n   </g>\n   <g id=\"patch_27\">\n    <path clip-path=\"url(#pfd83bc2c0f)\" d=\"M 142.496091 224.64 \nL 145.666545 224.64 \nL 145.666545 218.067205 \nL 142.496091 218.067205 \nz\n\" style=\"fill:#1f77b4;fill-opacity:0.75;stroke:#000000;stroke-linejoin:miter;stroke-width:0.317045;\"/>\n   </g>\n   <g id=\"patch_28\">\n    <path clip-path=\"url(#pfd83bc2c0f)\" d=\"M 145.666545 224.64 \nL 148.837 224.64 \nL 148.837 216.957513 \nL 145.666545 216.957513 \nz\n\" style=\"fill:#1f77b4;fill-opacity:0.75;stroke:#000000;stroke-linejoin:miter;stroke-width:0.317045;\"/>\n   </g>\n   <g id=\"patch_29\">\n    <path clip-path=\"url(#pfd83bc2c0f)\" d=\"M 148.837 224.64 \nL 152.007455 224.64 \nL 152.007455 217.6404 \nL 148.837 217.6404 \nz\n\" style=\"fill:#1f77b4;fill-opacity:0.75;stroke:#000000;stroke-linejoin:miter;stroke-width:0.317045;\"/>\n   </g>\n   <g id=\"patch_30\">\n    <path clip-path=\"url(#pfd83bc2c0f)\" d=\"M 152.007455 224.64 \nL 155.177909 224.64 \nL 155.177909 217.384318 \nL 152.007455 217.384318 \nz\n\" style=\"fill:#1f77b4;fill-opacity:0.75;stroke:#000000;stroke-linejoin:miter;stroke-width:0.317045;\"/>\n   </g>\n   <g id=\"patch_31\">\n    <path clip-path=\"url(#pfd83bc2c0f)\" d=\"M 155.177909 224.64 \nL 158.348364 224.64 \nL 158.348364 214.908849 \nL 155.177909 214.908849 \nz\n\" style=\"fill:#1f77b4;fill-opacity:0.75;stroke:#000000;stroke-linejoin:miter;stroke-width:0.317045;\"/>\n   </g>\n   <g id=\"patch_32\">\n    <path clip-path=\"url(#pfd83bc2c0f)\" d=\"M 158.348364 224.64 \nL 161.518818 224.64 \nL 161.518818 214.567405 \nL 158.348364 214.567405 \nz\n\" style=\"fill:#1f77b4;fill-opacity:0.75;stroke:#000000;stroke-linejoin:miter;stroke-width:0.317045;\"/>\n   </g>\n   <g id=\"patch_33\">\n    <path clip-path=\"url(#pfd83bc2c0f)\" d=\"M 161.518818 224.64 \nL 164.689273 224.64 \nL 164.689273 214.823488 \nL 161.518818 214.823488 \nz\n\" style=\"fill:#1f77b4;fill-opacity:0.75;stroke:#000000;stroke-linejoin:miter;stroke-width:0.317045;\"/>\n   </g>\n   <g id=\"patch_34\">\n    <path clip-path=\"url(#pfd83bc2c0f)\" d=\"M 164.689273 224.64 \nL 167.859727 224.64 \nL 167.859727 215.506376 \nL 164.689273 215.506376 \nz\n\" style=\"fill:#1f77b4;fill-opacity:0.75;stroke:#000000;stroke-linejoin:miter;stroke-width:0.317045;\"/>\n   </g>\n   <g id=\"patch_35\">\n    <path clip-path=\"url(#pfd83bc2c0f)\" d=\"M 167.859727 224.64 \nL 171.030182 224.64 \nL 171.030182 212.860186 \nL 167.859727 212.860186 \nz\n\" style=\"fill:#1f77b4;fill-opacity:0.75;stroke:#000000;stroke-linejoin:miter;stroke-width:0.317045;\"/>\n   </g>\n   <g id=\"patch_36\">\n    <path clip-path=\"url(#pfd83bc2c0f)\" d=\"M 171.030182 224.64 \nL 174.200636 224.64 \nL 174.200636 213.713796 \nL 171.030182 213.713796 \nz\n\" style=\"fill:#1f77b4;fill-opacity:0.75;stroke:#000000;stroke-linejoin:miter;stroke-width:0.317045;\"/>\n   </g>\n   <g id=\"patch_37\">\n    <path clip-path=\"url(#pfd83bc2c0f)\" d=\"M 174.200636 224.64 \nL 177.371091 224.64 \nL 177.371091 212.689464 \nL 174.200636 212.689464 \nz\n\" style=\"fill:#1f77b4;fill-opacity:0.75;stroke:#000000;stroke-linejoin:miter;stroke-width:0.317045;\"/>\n   </g>\n   <g id=\"patch_38\">\n    <path clip-path=\"url(#pfd83bc2c0f)\" d=\"M 177.371091 224.64 \nL 180.541545 224.64 \nL 180.541545 212.774825 \nL 177.371091 212.774825 \nz\n\" style=\"fill:#1f77b4;fill-opacity:0.75;stroke:#000000;stroke-linejoin:miter;stroke-width:0.317045;\"/>\n   </g>\n   <g id=\"patch_39\">\n    <path clip-path=\"url(#pfd83bc2c0f)\" d=\"M 180.541545 224.64 \nL 183.712 224.64 \nL 183.712 212.860186 \nL 180.541545 212.860186 \nz\n\" style=\"fill:#1f77b4;fill-opacity:0.75;stroke:#000000;stroke-linejoin:miter;stroke-width:0.317045;\"/>\n   </g>\n   <g id=\"patch_40\">\n    <path clip-path=\"url(#pfd83bc2c0f)\" d=\"M 183.712 224.64 \nL 186.882455 224.64 \nL 186.882455 211.835854 \nL 183.712 211.835854 \nz\n\" style=\"fill:#1f77b4;fill-opacity:0.75;stroke:#000000;stroke-linejoin:miter;stroke-width:0.317045;\"/>\n   </g>\n   <g id=\"patch_41\">\n    <path clip-path=\"url(#pfd83bc2c0f)\" d=\"M 186.882455 224.64 \nL 190.052909 224.64 \nL 190.052909 206.458113 \nL 186.882455 206.458113 \nz\n\" style=\"fill:#1f77b4;fill-opacity:0.75;stroke:#000000;stroke-linejoin:miter;stroke-width:0.317045;\"/>\n   </g>\n   <g id=\"patch_42\">\n    <path clip-path=\"url(#pfd83bc2c0f)\" d=\"M 190.052909 224.64 \nL 193.223364 224.64 \nL 193.223364 209.018942 \nL 190.052909 209.018942 \nz\n\" style=\"fill:#1f77b4;fill-opacity:0.75;stroke:#000000;stroke-linejoin:miter;stroke-width:0.317045;\"/>\n   </g>\n   <g id=\"patch_43\">\n    <path clip-path=\"url(#pfd83bc2c0f)\" d=\"M 193.223364 224.64 \nL 196.393818 224.64 \nL 196.393818 205.689865 \nL 193.223364 205.689865 \nz\n\" style=\"fill:#1f77b4;fill-opacity:0.75;stroke:#000000;stroke-linejoin:miter;stroke-width:0.317045;\"/>\n   </g>\n   <g id=\"patch_44\">\n    <path clip-path=\"url(#pfd83bc2c0f)\" d=\"M 196.393818 224.64 \nL 199.564273 224.64 \nL 199.564273 207.90925 \nL 196.393818 207.90925 \nz\n\" style=\"fill:#1f77b4;fill-opacity:0.75;stroke:#000000;stroke-linejoin:miter;stroke-width:0.317045;\"/>\n   </g>\n   <g id=\"patch_45\">\n    <path clip-path=\"url(#pfd83bc2c0f)\" d=\"M 199.564273 224.64 \nL 202.734727 224.64 \nL 202.734727 208.421416 \nL 199.564273 208.421416 \nz\n\" style=\"fill:#1f77b4;fill-opacity:0.75;stroke:#000000;stroke-linejoin:miter;stroke-width:0.317045;\"/>\n   </g>\n   <g id=\"patch_46\">\n    <path clip-path=\"url(#pfd83bc2c0f)\" d=\"M 202.734727 224.64 \nL 205.905182 224.64 \nL 205.905182 205.519143 \nL 202.734727 205.519143 \nz\n\" style=\"fill:#1f77b4;fill-opacity:0.75;stroke:#000000;stroke-linejoin:miter;stroke-width:0.317045;\"/>\n   </g>\n   <g id=\"patch_47\">\n    <path clip-path=\"url(#pfd83bc2c0f)\" d=\"M 205.905182 224.64 \nL 209.075636 224.64 \nL 209.075636 206.20203 \nL 205.905182 206.20203 \nz\n\" style=\"fill:#1f77b4;fill-opacity:0.75;stroke:#000000;stroke-linejoin:miter;stroke-width:0.317045;\"/>\n   </g>\n   <g id=\"patch_48\">\n    <path clip-path=\"url(#pfd83bc2c0f)\" d=\"M 209.075636 224.64 \nL 212.246091 224.64 \nL 212.246091 202.958314 \nL 209.075636 202.958314 \nz\n\" style=\"fill:#1f77b4;fill-opacity:0.75;stroke:#000000;stroke-linejoin:miter;stroke-width:0.317045;\"/>\n   </g>\n   <g id=\"patch_49\">\n    <path clip-path=\"url(#pfd83bc2c0f)\" d=\"M 212.246091 224.64 \nL 215.416545 224.64 \nL 215.416545 202.104704 \nL 212.246091 202.104704 \nz\n\" style=\"fill:#1f77b4;fill-opacity:0.75;stroke:#000000;stroke-linejoin:miter;stroke-width:0.317045;\"/>\n   </g>\n   <g id=\"patch_50\">\n    <path clip-path=\"url(#pfd83bc2c0f)\" d=\"M 215.416545 224.64 \nL 218.587 224.64 \nL 218.587 200.568206 \nL 215.416545 200.568206 \nz\n\" style=\"fill:#1f77b4;fill-opacity:0.75;stroke:#000000;stroke-linejoin:miter;stroke-width:0.317045;\"/>\n   </g>\n   <g id=\"patch_51\">\n    <path clip-path=\"url(#pfd83bc2c0f)\" d=\"M 218.587 224.64 \nL 221.757455 224.64 \nL 221.757455 201.848621 \nL 218.587 201.848621 \nz\n\" style=\"fill:#1f77b4;fill-opacity:0.75;stroke:#000000;stroke-linejoin:miter;stroke-width:0.317045;\"/>\n   </g>\n   <g id=\"patch_52\">\n    <path clip-path=\"url(#pfd83bc2c0f)\" d=\"M 221.757455 224.64 \nL 224.927909 224.64 \nL 224.927909 198.860987 \nL 221.757455 198.860987 \nz\n\" style=\"fill:#1f77b4;fill-opacity:0.75;stroke:#000000;stroke-linejoin:miter;stroke-width:0.317045;\"/>\n   </g>\n   <g id=\"patch_53\">\n    <path clip-path=\"url(#pfd83bc2c0f)\" d=\"M 224.927909 224.64 \nL 228.098364 224.64 \nL 228.098364 199.97068 \nL 224.927909 199.97068 \nz\n\" style=\"fill:#1f77b4;fill-opacity:0.75;stroke:#000000;stroke-linejoin:miter;stroke-width:0.317045;\"/>\n   </g>\n   <g id=\"patch_54\">\n    <path clip-path=\"url(#pfd83bc2c0f)\" d=\"M 228.098364 224.64 \nL 231.268818 224.64 \nL 231.268818 194.080773 \nL 228.098364 194.080773 \nz\n\" style=\"fill:#1f77b4;fill-opacity:0.75;stroke:#000000;stroke-linejoin:miter;stroke-width:0.317045;\"/>\n   </g>\n   <g id=\"patch_55\">\n    <path clip-path=\"url(#pfd83bc2c0f)\" d=\"M 231.268818 224.64 \nL 234.439273 224.64 \nL 234.439273 192.288192 \nL 231.268818 192.288192 \nz\n\" style=\"fill:#1f77b4;fill-opacity:0.75;stroke:#000000;stroke-linejoin:miter;stroke-width:0.317045;\"/>\n   </g>\n   <g id=\"patch_56\">\n    <path clip-path=\"url(#pfd83bc2c0f)\" d=\"M 234.439273 224.64 \nL 237.609727 224.64 \nL 237.609727 193.483246 \nL 234.439273 193.483246 \nz\n\" style=\"fill:#1f77b4;fill-opacity:0.75;stroke:#000000;stroke-linejoin:miter;stroke-width:0.317045;\"/>\n   </g>\n   <g id=\"patch_57\">\n    <path clip-path=\"url(#pfd83bc2c0f)\" d=\"M 237.609727 224.64 \nL 240.780182 224.64 \nL 240.780182 190.495612 \nL 237.609727 190.495612 \nz\n\" style=\"fill:#1f77b4;fill-opacity:0.75;stroke:#000000;stroke-linejoin:miter;stroke-width:0.317045;\"/>\n   </g>\n   <g id=\"patch_58\">\n    <path clip-path=\"url(#pfd83bc2c0f)\" d=\"M 240.780182 224.64 \nL 243.950636 224.64 \nL 243.950636 187.849422 \nL 240.780182 187.849422 \nz\n\" style=\"fill:#1f77b4;fill-opacity:0.75;stroke:#000000;stroke-linejoin:miter;stroke-width:0.317045;\"/>\n   </g>\n   <g id=\"patch_59\">\n    <path clip-path=\"url(#pfd83bc2c0f)\" d=\"M 243.950636 224.64 \nL 247.121091 224.64 \nL 247.121091 187.166534 \nL 243.950636 187.166534 \nz\n\" style=\"fill:#1f77b4;fill-opacity:0.75;stroke:#000000;stroke-linejoin:miter;stroke-width:0.317045;\"/>\n   </g>\n   <g id=\"patch_60\">\n    <path clip-path=\"url(#pfd83bc2c0f)\" d=\"M 247.121091 224.64 \nL 250.291545 224.64 \nL 250.291545 180.252295 \nL 247.121091 180.252295 \nz\n\" style=\"fill:#1f77b4;fill-opacity:0.75;stroke:#000000;stroke-linejoin:miter;stroke-width:0.317045;\"/>\n   </g>\n   <g id=\"patch_61\">\n    <path clip-path=\"url(#pfd83bc2c0f)\" d=\"M 250.291545 224.64 \nL 253.462 224.64 \nL 253.462 183.32529 \nL 250.291545 183.32529 \nz\n\" style=\"fill:#1f77b4;fill-opacity:0.75;stroke:#000000;stroke-linejoin:miter;stroke-width:0.317045;\"/>\n   </g>\n   <g id=\"patch_62\">\n    <path clip-path=\"url(#pfd83bc2c0f)\" d=\"M 253.462 224.64 \nL 256.632455 224.64 \nL 256.632455 175.898886 \nL 253.462 175.898886 \nz\n\" style=\"fill:#1f77b4;fill-opacity:0.75;stroke:#000000;stroke-linejoin:miter;stroke-width:0.317045;\"/>\n   </g>\n   <g id=\"patch_63\">\n    <path clip-path=\"url(#pfd83bc2c0f)\" d=\"M 256.632455 224.64 \nL 259.802909 224.64 \nL 259.802909 174.703832 \nL 256.632455 174.703832 \nz\n\" style=\"fill:#1f77b4;fill-opacity:0.75;stroke:#000000;stroke-linejoin:miter;stroke-width:0.317045;\"/>\n   </g>\n   <g id=\"patch_64\">\n    <path clip-path=\"url(#pfd83bc2c0f)\" d=\"M 259.802909 224.64 \nL 262.973364 224.64 \nL 262.973364 172.057642 \nL 259.802909 172.057642 \nz\n\" style=\"fill:#1f77b4;fill-opacity:0.75;stroke:#000000;stroke-linejoin:miter;stroke-width:0.317045;\"/>\n   </g>\n   <g id=\"patch_65\">\n    <path clip-path=\"url(#pfd83bc2c0f)\" d=\"M 262.973364 224.64 \nL 266.143818 224.64 \nL 266.143818 172.484447 \nL 262.973364 172.484447 \nz\n\" style=\"fill:#1f77b4;fill-opacity:0.75;stroke:#000000;stroke-linejoin:miter;stroke-width:0.317045;\"/>\n   </g>\n   <g id=\"patch_66\">\n    <path clip-path=\"url(#pfd83bc2c0f)\" d=\"M 266.143818 224.64 \nL 269.314273 224.64 \nL 269.314273 165.655569 \nL 266.143818 165.655569 \nz\n\" style=\"fill:#1f77b4;fill-opacity:0.75;stroke:#000000;stroke-linejoin:miter;stroke-width:0.317045;\"/>\n   </g>\n   <g id=\"patch_67\">\n    <path clip-path=\"url(#pfd83bc2c0f)\" d=\"M 269.314273 224.64 \nL 272.484727 224.64 \nL 272.484727 168.216399 \nL 269.314273 168.216399 \nz\n\" style=\"fill:#1f77b4;fill-opacity:0.75;stroke:#000000;stroke-linejoin:miter;stroke-width:0.317045;\"/>\n   </g>\n   <g id=\"patch_68\">\n    <path clip-path=\"url(#pfd83bc2c0f)\" d=\"M 272.484727 224.64 \nL 275.655182 224.64 \nL 275.655182 166.082374 \nL 272.484727 166.082374 \nz\n\" style=\"fill:#1f77b4;fill-opacity:0.75;stroke:#000000;stroke-linejoin:miter;stroke-width:0.317045;\"/>\n   </g>\n   <g id=\"patch_69\">\n    <path clip-path=\"url(#pfd83bc2c0f)\" d=\"M 275.655182 224.64 \nL 278.825636 224.64 \nL 278.825636 159.594941 \nL 275.655182 159.594941 \nz\n\" style=\"fill:#1f77b4;fill-opacity:0.75;stroke:#000000;stroke-linejoin:miter;stroke-width:0.317045;\"/>\n   </g>\n   <g id=\"patch_70\">\n    <path clip-path=\"url(#pfd83bc2c0f)\" d=\"M 278.825636 224.64 \nL 281.996091 224.64 \nL 281.996091 158.314526 \nL 278.825636 158.314526 \nz\n\" style=\"fill:#1f77b4;fill-opacity:0.75;stroke:#000000;stroke-linejoin:miter;stroke-width:0.317045;\"/>\n   </g>\n   <g id=\"patch_71\">\n    <path clip-path=\"url(#pfd83bc2c0f)\" d=\"M 281.996091 224.64 \nL 285.166545 224.64 \nL 285.166545 153.192868 \nL 281.996091 153.192868 \nz\n\" style=\"fill:#1f77b4;fill-opacity:0.75;stroke:#000000;stroke-linejoin:miter;stroke-width:0.317045;\"/>\n   </g>\n   <g id=\"patch_72\">\n    <path clip-path=\"url(#pfd83bc2c0f)\" d=\"M 285.166545 224.64 \nL 288.337 224.64 \nL 288.337 147.729766 \nL 285.166545 147.729766 \nz\n\" style=\"fill:#1f77b4;fill-opacity:0.75;stroke:#000000;stroke-linejoin:miter;stroke-width:0.317045;\"/>\n   </g>\n   <g id=\"patch_73\">\n    <path clip-path=\"url(#pfd83bc2c0f)\" d=\"M 288.337 224.64 \nL 291.507455 224.64 \nL 291.507455 138.510781 \nL 288.337 138.510781 \nz\n\" style=\"fill:#1f77b4;fill-opacity:0.75;stroke:#000000;stroke-linejoin:miter;stroke-width:0.317045;\"/>\n   </g>\n   <g id=\"patch_74\">\n    <path clip-path=\"url(#pfd83bc2c0f)\" d=\"M 291.507455 224.64 \nL 294.677909 224.64 \nL 294.677909 135.096342 \nL 291.507455 135.096342 \nz\n\" style=\"fill:#1f77b4;fill-opacity:0.75;stroke:#000000;stroke-linejoin:miter;stroke-width:0.317045;\"/>\n   </g>\n   <g id=\"patch_75\">\n    <path clip-path=\"url(#pfd83bc2c0f)\" d=\"M 294.677909 224.64 \nL 297.848364 224.64 \nL 297.848364 136.7182 \nL 294.677909 136.7182 \nz\n\" style=\"fill:#1f77b4;fill-opacity:0.75;stroke:#000000;stroke-linejoin:miter;stroke-width:0.317045;\"/>\n   </g>\n   <g id=\"patch_76\">\n    <path clip-path=\"url(#pfd83bc2c0f)\" d=\"M 297.848364 224.64 \nL 301.018818 224.64 \nL 301.018818 122.292196 \nL 297.848364 122.292196 \nz\n\" style=\"fill:#1f77b4;fill-opacity:0.75;stroke:#000000;stroke-linejoin:miter;stroke-width:0.317045;\"/>\n   </g>\n   <g id=\"patch_77\">\n    <path clip-path=\"url(#pfd83bc2c0f)\" d=\"M 301.018818 224.64 \nL 304.189273 224.64 \nL 304.189273 120.072811 \nL 301.018818 120.072811 \nz\n\" style=\"fill:#1f77b4;fill-opacity:0.75;stroke:#000000;stroke-linejoin:miter;stroke-width:0.317045;\"/>\n   </g>\n   <g id=\"patch_78\">\n    <path clip-path=\"url(#pfd83bc2c0f)\" d=\"M 304.189273 224.64 \nL 307.359727 224.64 \nL 307.359727 118.280231 \nL 304.189273 118.280231 \nz\n\" style=\"fill:#1f77b4;fill-opacity:0.75;stroke:#000000;stroke-linejoin:miter;stroke-width:0.317045;\"/>\n   </g>\n   <g id=\"patch_79\">\n    <path clip-path=\"url(#pfd83bc2c0f)\" d=\"M 307.359727 224.64 \nL 310.530182 224.64 \nL 310.530182 111.622075 \nL 307.359727 111.622075 \nz\n\" style=\"fill:#1f77b4;fill-opacity:0.75;stroke:#000000;stroke-linejoin:miter;stroke-width:0.317045;\"/>\n   </g>\n   <g id=\"patch_80\">\n    <path clip-path=\"url(#pfd83bc2c0f)\" d=\"M 310.530182 224.64 \nL 313.700636 224.64 \nL 313.700636 104.11031 \nL 310.530182 104.11031 \nz\n\" style=\"fill:#1f77b4;fill-opacity:0.75;stroke:#000000;stroke-linejoin:miter;stroke-width:0.317045;\"/>\n   </g>\n   <g id=\"patch_81\">\n    <path clip-path=\"url(#pfd83bc2c0f)\" d=\"M 313.700636 224.64 \nL 316.871091 224.64 \nL 316.871091 97.11071 \nL 313.700636 97.11071 \nz\n\" style=\"fill:#1f77b4;fill-opacity:0.75;stroke:#000000;stroke-linejoin:miter;stroke-width:0.317045;\"/>\n   </g>\n   <g id=\"patch_82\">\n    <path clip-path=\"url(#pfd83bc2c0f)\" d=\"M 316.871091 224.64 \nL 320.041545 224.64 \nL 320.041545 98.305764 \nL 316.871091 98.305764 \nz\n\" style=\"fill:#1f77b4;fill-opacity:0.75;stroke:#000000;stroke-linejoin:miter;stroke-width:0.317045;\"/>\n   </g>\n   <g id=\"patch_83\">\n    <path clip-path=\"url(#pfd83bc2c0f)\" d=\"M 320.041545 224.64 \nL 323.212 224.64 \nL 323.212 84.648008 \nL 320.041545 84.648008 \nz\n\" style=\"fill:#1f77b4;fill-opacity:0.75;stroke:#000000;stroke-linejoin:miter;stroke-width:0.317045;\"/>\n   </g>\n   <g id=\"patch_84\">\n    <path clip-path=\"url(#pfd83bc2c0f)\" d=\"M 323.212 224.64 \nL 326.382455 224.64 \nL 326.382455 74.063248 \nL 323.212 74.063248 \nz\n\" style=\"fill:#1f77b4;fill-opacity:0.75;stroke:#000000;stroke-linejoin:miter;stroke-width:0.317045;\"/>\n   </g>\n   <g id=\"patch_85\">\n    <path clip-path=\"url(#pfd83bc2c0f)\" d=\"M 326.382455 224.64 \nL 329.552909 224.64 \nL 329.552909 64.161376 \nL 326.382455 64.161376 \nz\n\" style=\"fill:#1f77b4;fill-opacity:0.75;stroke:#000000;stroke-linejoin:miter;stroke-width:0.317045;\"/>\n   </g>\n   <g id=\"patch_86\">\n    <path clip-path=\"url(#pfd83bc2c0f)\" d=\"M 329.552909 224.64 \nL 332.723364 224.64 \nL 332.723364 49.137845 \nL 329.552909 49.137845 \nz\n\" style=\"fill:#1f77b4;fill-opacity:0.75;stroke:#000000;stroke-linejoin:miter;stroke-width:0.317045;\"/>\n   </g>\n   <g id=\"patch_87\">\n    <path clip-path=\"url(#pfd83bc2c0f)\" d=\"M 332.723364 224.64 \nL 335.893818 224.64 \nL 335.893818 45.125879 \nL 332.723364 45.125879 \nz\n\" style=\"fill:#1f77b4;fill-opacity:0.75;stroke:#000000;stroke-linejoin:miter;stroke-width:0.317045;\"/>\n   </g>\n   <g id=\"patch_88\">\n    <path clip-path=\"url(#pfd83bc2c0f)\" d=\"M 335.893818 224.64 \nL 339.064273 224.64 \nL 339.064273 37.699475 \nL 335.893818 37.699475 \nz\n\" style=\"fill:#1f77b4;fill-opacity:0.75;stroke:#000000;stroke-linejoin:miter;stroke-width:0.317045;\"/>\n   </g>\n   <g id=\"patch_89\">\n    <path clip-path=\"url(#pfd83bc2c0f)\" d=\"M 339.064273 224.64 \nL 342.234727 224.64 \nL 342.234727 19.261505 \nL 339.064273 19.261505 \nz\n\" style=\"fill:#1f77b4;fill-opacity:0.75;stroke:#000000;stroke-linejoin:miter;stroke-width:0.317045;\"/>\n   </g>\n   <g id=\"patch_90\">\n    <path clip-path=\"url(#pfd83bc2c0f)\" d=\"M 342.234727 224.64 \nL 345.405182 224.64 \nL 345.405182 17.554286 \nL 342.234727 17.554286 \nz\n\" style=\"fill:#1f77b4;fill-opacity:0.75;stroke:#000000;stroke-linejoin:miter;stroke-width:0.317045;\"/>\n   </g>\n   <g id=\"patch_91\">\n    <path clip-path=\"url(#pfd83bc2c0f)\" d=\"M 345.405182 224.64 \nL 348.575636 224.64 \nL 348.575636 18.151813 \nL 345.405182 18.151813 \nz\n\" style=\"fill:#1f77b4;fill-opacity:0.75;stroke:#000000;stroke-linejoin:miter;stroke-width:0.317045;\"/>\n   </g>\n   <g id=\"patch_92\">\n    <path clip-path=\"url(#pfd83bc2c0f)\" d=\"M 348.575636 224.64 \nL 351.746091 224.64 \nL 351.746091 21.310168 \nL 348.575636 21.310168 \nz\n\" style=\"fill:#1f77b4;fill-opacity:0.75;stroke:#000000;stroke-linejoin:miter;stroke-width:0.317045;\"/>\n   </g>\n   <g id=\"patch_93\">\n    <path clip-path=\"url(#pfd83bc2c0f)\" d=\"M 351.746091 224.64 \nL 354.916545 224.64 \nL 354.916545 19.261505 \nL 351.746091 19.261505 \nz\n\" style=\"fill:#1f77b4;fill-opacity:0.75;stroke:#000000;stroke-linejoin:miter;stroke-width:0.317045;\"/>\n   </g>\n   <g id=\"patch_94\">\n    <path clip-path=\"url(#pfd83bc2c0f)\" d=\"M 354.916545 224.64 \nL 358.087 224.64 \nL 358.087 30.358431 \nL 354.916545 30.358431 \nz\n\" style=\"fill:#1f77b4;fill-opacity:0.75;stroke:#000000;stroke-linejoin:miter;stroke-width:0.317045;\"/>\n   </g>\n   <g id=\"patch_95\">\n    <path clip-path=\"url(#pfd83bc2c0f)\" d=\"M 358.087 224.64 \nL 361.257455 224.64 \nL 361.257455 51.869396 \nL 358.087 51.869396 \nz\n\" style=\"fill:#1f77b4;fill-opacity:0.75;stroke:#000000;stroke-linejoin:miter;stroke-width:0.317045;\"/>\n   </g>\n   <g id=\"patch_96\">\n    <path clip-path=\"url(#pfd83bc2c0f)\" d=\"M 361.257455 224.64 \nL 364.427909 224.64 \nL 364.427909 85.586979 \nL 361.257455 85.586979 \nz\n\" style=\"fill:#1f77b4;fill-opacity:0.75;stroke:#000000;stroke-linejoin:miter;stroke-width:0.317045;\"/>\n   </g>\n   <g id=\"patch_97\">\n    <path clip-path=\"url(#pfd83bc2c0f)\" d=\"M 364.427909 224.64 \nL 367.598364 224.64 \nL 367.598364 138.510781 \nL 364.427909 138.510781 \nz\n\" style=\"fill:#1f77b4;fill-opacity:0.75;stroke:#000000;stroke-linejoin:miter;stroke-width:0.317045;\"/>\n   </g>\n   <g id=\"patch_98\">\n    <path clip-path=\"url(#pfd83bc2c0f)\" d=\"M 367.598364 224.64 \nL 370.768818 224.64 \nL 370.768818 202.787592 \nL 367.598364 202.787592 \nz\n\" style=\"fill:#1f77b4;fill-opacity:0.75;stroke:#000000;stroke-linejoin:miter;stroke-width:0.317045;\"/>\n   </g>\n   <g id=\"matplotlib.axis_1\">\n    <g id=\"xtick_1\">\n     <g id=\"line2d_1\">\n      <defs>\n       <path d=\"M 0 0 \nL 0 4.8 \n\" id=\"m71441e1a6e\" style=\"stroke:#000000;\"/>\n      </defs>\n      <g>\n       <use style=\"stroke:#000000;\" x=\"110.100613\" xlink:href=\"#m71441e1a6e\" y=\"224.64\"/>\n      </g>\n     </g>\n     <g id=\"text_1\">\n      <!-- 0.2 -->\n      <g transform=\"translate(103.103238 239.626625)scale(0.088 -0.088)\">\n       <defs>\n        <path d=\"M 31.78125 66.40625 \nQ 24.171875 66.40625 20.328125 58.90625 \nQ 16.5 51.421875 16.5 36.375 \nQ 16.5 21.390625 20.328125 13.890625 \nQ 24.171875 6.390625 31.78125 6.390625 \nQ 39.453125 6.390625 43.28125 13.890625 \nQ 47.125 21.390625 47.125 36.375 \nQ 47.125 51.421875 43.28125 58.90625 \nQ 39.453125 66.40625 31.78125 66.40625 \nz\nM 31.78125 74.21875 \nQ 44.046875 74.21875 50.515625 64.515625 \nQ 56.984375 54.828125 56.984375 36.375 \nQ 56.984375 17.96875 50.515625 8.265625 \nQ 44.046875 -1.421875 31.78125 -1.421875 \nQ 19.53125 -1.421875 13.0625 8.265625 \nQ 6.59375 17.96875 6.59375 36.375 \nQ 6.59375 54.828125 13.0625 64.515625 \nQ 19.53125 74.21875 31.78125 74.21875 \nz\n\" id=\"DejaVuSans-48\"/>\n        <path d=\"M 10.6875 12.40625 \nL 21 12.40625 \nL 21 0 \nL 10.6875 0 \nz\n\" id=\"DejaVuSans-46\"/>\n        <path d=\"M 19.1875 8.296875 \nL 53.609375 8.296875 \nL 53.609375 0 \nL 7.328125 0 \nL 7.328125 8.296875 \nQ 12.9375 14.109375 22.625 23.890625 \nQ 32.328125 33.6875 34.8125 36.53125 \nQ 39.546875 41.84375 41.421875 45.53125 \nQ 43.3125 49.21875 43.3125 52.78125 \nQ 43.3125 58.59375 39.234375 62.25 \nQ 35.15625 65.921875 28.609375 65.921875 \nQ 23.96875 65.921875 18.8125 64.3125 \nQ 13.671875 62.703125 7.8125 59.421875 \nL 7.8125 69.390625 \nQ 13.765625 71.78125 18.9375 73 \nQ 24.125 74.21875 28.421875 74.21875 \nQ 39.75 74.21875 46.484375 68.546875 \nQ 53.21875 62.890625 53.21875 53.421875 \nQ 53.21875 48.921875 51.53125 44.890625 \nQ 49.859375 40.875 45.40625 35.40625 \nQ 44.1875 33.984375 37.640625 27.21875 \nQ 31.109375 20.453125 19.1875 8.296875 \nz\n\" id=\"DejaVuSans-50\"/>\n       </defs>\n       <use xlink:href=\"#DejaVuSans-48\"/>\n       <use x=\"63.623047\" xlink:href=\"#DejaVuSans-46\"/>\n       <use x=\"95.410156\" xlink:href=\"#DejaVuSans-50\"/>\n      </g>\n     </g>\n    </g>\n    <g id=\"xtick_2\">\n     <g id=\"line2d_2\">\n      <g>\n       <use style=\"stroke:#000000;\" x=\"175.799084\" xlink:href=\"#m71441e1a6e\" y=\"224.64\"/>\n      </g>\n     </g>\n     <g id=\"text_2\">\n      <!-- 0.4 -->\n      <g transform=\"translate(168.801709 239.626625)scale(0.088 -0.088)\">\n       <defs>\n        <path d=\"M 37.796875 64.3125 \nL 12.890625 25.390625 \nL 37.796875 25.390625 \nz\nM 35.203125 72.90625 \nL 47.609375 72.90625 \nL 47.609375 25.390625 \nL 58.015625 25.390625 \nL 58.015625 17.1875 \nL 47.609375 17.1875 \nL 47.609375 0 \nL 37.796875 0 \nL 37.796875 17.1875 \nL 4.890625 17.1875 \nL 4.890625 26.703125 \nz\n\" id=\"DejaVuSans-52\"/>\n       </defs>\n       <use xlink:href=\"#DejaVuSans-48\"/>\n       <use x=\"63.623047\" xlink:href=\"#DejaVuSans-46\"/>\n       <use x=\"95.410156\" xlink:href=\"#DejaVuSans-52\"/>\n      </g>\n     </g>\n    </g>\n    <g id=\"xtick_3\">\n     <g id=\"line2d_3\">\n      <g>\n       <use style=\"stroke:#000000;\" x=\"241.497555\" xlink:href=\"#m71441e1a6e\" y=\"224.64\"/>\n      </g>\n     </g>\n     <g id=\"text_3\">\n      <!-- 0.6 -->\n      <g transform=\"translate(234.50018 239.626625)scale(0.088 -0.088)\">\n       <defs>\n        <path d=\"M 33.015625 40.375 \nQ 26.375 40.375 22.484375 35.828125 \nQ 18.609375 31.296875 18.609375 23.390625 \nQ 18.609375 15.53125 22.484375 10.953125 \nQ 26.375 6.390625 33.015625 6.390625 \nQ 39.65625 6.390625 43.53125 10.953125 \nQ 47.40625 15.53125 47.40625 23.390625 \nQ 47.40625 31.296875 43.53125 35.828125 \nQ 39.65625 40.375 33.015625 40.375 \nz\nM 52.59375 71.296875 \nL 52.59375 62.3125 \nQ 48.875 64.0625 45.09375 64.984375 \nQ 41.3125 65.921875 37.59375 65.921875 \nQ 27.828125 65.921875 22.671875 59.328125 \nQ 17.53125 52.734375 16.796875 39.40625 \nQ 19.671875 43.65625 24.015625 45.921875 \nQ 28.375 48.1875 33.59375 48.1875 \nQ 44.578125 48.1875 50.953125 41.515625 \nQ 57.328125 34.859375 57.328125 23.390625 \nQ 57.328125 12.15625 50.6875 5.359375 \nQ 44.046875 -1.421875 33.015625 -1.421875 \nQ 20.359375 -1.421875 13.671875 8.265625 \nQ 6.984375 17.96875 6.984375 36.375 \nQ 6.984375 53.65625 15.1875 63.9375 \nQ 23.390625 74.21875 37.203125 74.21875 \nQ 40.921875 74.21875 44.703125 73.484375 \nQ 48.484375 72.75 52.59375 71.296875 \nz\n\" id=\"DejaVuSans-54\"/>\n       </defs>\n       <use xlink:href=\"#DejaVuSans-48\"/>\n       <use x=\"63.623047\" xlink:href=\"#DejaVuSans-46\"/>\n       <use x=\"95.410156\" xlink:href=\"#DejaVuSans-54\"/>\n      </g>\n     </g>\n    </g>\n    <g id=\"xtick_4\">\n     <g id=\"line2d_4\">\n      <g>\n       <use style=\"stroke:#000000;\" x=\"307.196026\" xlink:href=\"#m71441e1a6e\" y=\"224.64\"/>\n      </g>\n     </g>\n     <g id=\"text_4\">\n      <!-- 0.8 -->\n      <g transform=\"translate(300.198651 239.626625)scale(0.088 -0.088)\">\n       <defs>\n        <path d=\"M 31.78125 34.625 \nQ 24.75 34.625 20.71875 30.859375 \nQ 16.703125 27.09375 16.703125 20.515625 \nQ 16.703125 13.921875 20.71875 10.15625 \nQ 24.75 6.390625 31.78125 6.390625 \nQ 38.8125 6.390625 42.859375 10.171875 \nQ 46.921875 13.96875 46.921875 20.515625 \nQ 46.921875 27.09375 42.890625 30.859375 \nQ 38.875 34.625 31.78125 34.625 \nz\nM 21.921875 38.8125 \nQ 15.578125 40.375 12.03125 44.71875 \nQ 8.5 49.078125 8.5 55.328125 \nQ 8.5 64.0625 14.71875 69.140625 \nQ 20.953125 74.21875 31.78125 74.21875 \nQ 42.671875 74.21875 48.875 69.140625 \nQ 55.078125 64.0625 55.078125 55.328125 \nQ 55.078125 49.078125 51.53125 44.71875 \nQ 48 40.375 41.703125 38.8125 \nQ 48.828125 37.15625 52.796875 32.3125 \nQ 56.78125 27.484375 56.78125 20.515625 \nQ 56.78125 9.90625 50.3125 4.234375 \nQ 43.84375 -1.421875 31.78125 -1.421875 \nQ 19.734375 -1.421875 13.25 4.234375 \nQ 6.78125 9.90625 6.78125 20.515625 \nQ 6.78125 27.484375 10.78125 32.3125 \nQ 14.796875 37.15625 21.921875 38.8125 \nz\nM 18.3125 54.390625 \nQ 18.3125 48.734375 21.84375 45.5625 \nQ 25.390625 42.390625 31.78125 42.390625 \nQ 38.140625 42.390625 41.71875 45.5625 \nQ 45.3125 48.734375 45.3125 54.390625 \nQ 45.3125 60.0625 41.71875 63.234375 \nQ 38.140625 66.40625 31.78125 66.40625 \nQ 25.390625 66.40625 21.84375 63.234375 \nQ 18.3125 60.0625 18.3125 54.390625 \nz\n\" id=\"DejaVuSans-56\"/>\n       </defs>\n       <use xlink:href=\"#DejaVuSans-48\"/>\n       <use x=\"63.623047\" xlink:href=\"#DejaVuSans-46\"/>\n       <use x=\"95.410156\" xlink:href=\"#DejaVuSans-56\"/>\n      </g>\n     </g>\n    </g>\n    <g id=\"xtick_5\">\n     <g id=\"line2d_5\">\n      <g>\n       <use style=\"stroke:#000000;\" x=\"372.894497\" xlink:href=\"#m71441e1a6e\" y=\"224.64\"/>\n      </g>\n     </g>\n     <g id=\"text_5\">\n      <!-- 1.0 -->\n      <g transform=\"translate(365.897122 239.626625)scale(0.088 -0.088)\">\n       <defs>\n        <path d=\"M 12.40625 8.296875 \nL 28.515625 8.296875 \nL 28.515625 63.921875 \nL 10.984375 60.40625 \nL 10.984375 69.390625 \nL 28.421875 72.90625 \nL 38.28125 72.90625 \nL 38.28125 8.296875 \nL 54.390625 8.296875 \nL 54.390625 0 \nL 12.40625 0 \nz\n\" id=\"DejaVuSans-49\"/>\n       </defs>\n       <use xlink:href=\"#DejaVuSans-49\"/>\n       <use x=\"63.623047\" xlink:href=\"#DejaVuSans-46\"/>\n       <use x=\"95.410156\" xlink:href=\"#DejaVuSans-48\"/>\n      </g>\n     </g>\n    </g>\n   </g>\n   <g id=\"matplotlib.axis_2\">\n    <g id=\"ytick_1\">\n     <g id=\"line2d_6\">\n      <defs>\n       <path d=\"M 0 0 \nL -4.8 0 \n\" id=\"m27c4070116\" style=\"stroke:#000000;\"/>\n      </defs>\n      <g>\n       <use style=\"stroke:#000000;\" x=\"51.187\" xlink:href=\"#m27c4070116\" y=\"224.64\"/>\n      </g>\n     </g>\n     <g id=\"text_6\">\n      <!-- 0 -->\n      <g transform=\"translate(37.288 227.983312)scale(0.088 -0.088)\">\n       <use xlink:href=\"#DejaVuSans-48\"/>\n      </g>\n     </g>\n    </g>\n    <g id=\"ytick_2\">\n     <g id=\"line2d_7\">\n      <g>\n       <use style=\"stroke:#000000;\" x=\"51.187\" xlink:href=\"#m27c4070116\" y=\"181.959515\"/>\n      </g>\n     </g>\n     <g id=\"text_7\">\n      <!-- 500 -->\n      <g transform=\"translate(26.09 185.302827)scale(0.088 -0.088)\">\n       <defs>\n        <path d=\"M 10.796875 72.90625 \nL 49.515625 72.90625 \nL 49.515625 64.59375 \nL 19.828125 64.59375 \nL 19.828125 46.734375 \nQ 21.96875 47.46875 24.109375 47.828125 \nQ 26.265625 48.1875 28.421875 48.1875 \nQ 40.625 48.1875 47.75 41.5 \nQ 54.890625 34.8125 54.890625 23.390625 \nQ 54.890625 11.625 47.5625 5.09375 \nQ 40.234375 -1.421875 26.90625 -1.421875 \nQ 22.3125 -1.421875 17.546875 -0.640625 \nQ 12.796875 0.140625 7.71875 1.703125 \nL 7.71875 11.625 \nQ 12.109375 9.234375 16.796875 8.0625 \nQ 21.484375 6.890625 26.703125 6.890625 \nQ 35.15625 6.890625 40.078125 11.328125 \nQ 45.015625 15.765625 45.015625 23.390625 \nQ 45.015625 31 40.078125 35.4375 \nQ 35.15625 39.890625 26.703125 39.890625 \nQ 22.75 39.890625 18.8125 39.015625 \nQ 14.890625 38.140625 10.796875 36.28125 \nz\n\" id=\"DejaVuSans-53\"/>\n       </defs>\n       <use xlink:href=\"#DejaVuSans-53\"/>\n       <use x=\"63.623047\" xlink:href=\"#DejaVuSans-48\"/>\n       <use x=\"127.246094\" xlink:href=\"#DejaVuSans-48\"/>\n      </g>\n     </g>\n    </g>\n    <g id=\"ytick_3\">\n     <g id=\"line2d_8\">\n      <g>\n       <use style=\"stroke:#000000;\" x=\"51.187\" xlink:href=\"#m27c4070116\" y=\"139.27903\"/>\n      </g>\n     </g>\n     <g id=\"text_8\">\n      <!-- 1000 -->\n      <g transform=\"translate(20.491 142.622342)scale(0.088 -0.088)\">\n       <use xlink:href=\"#DejaVuSans-49\"/>\n       <use x=\"63.623047\" xlink:href=\"#DejaVuSans-48\"/>\n       <use x=\"127.246094\" xlink:href=\"#DejaVuSans-48\"/>\n       <use x=\"190.869141\" xlink:href=\"#DejaVuSans-48\"/>\n      </g>\n     </g>\n    </g>\n    <g id=\"ytick_4\">\n     <g id=\"line2d_9\">\n      <g>\n       <use style=\"stroke:#000000;\" x=\"51.187\" xlink:href=\"#m27c4070116\" y=\"96.598544\"/>\n      </g>\n     </g>\n     <g id=\"text_9\">\n      <!-- 1500 -->\n      <g transform=\"translate(20.491 99.941857)scale(0.088 -0.088)\">\n       <use xlink:href=\"#DejaVuSans-49\"/>\n       <use x=\"63.623047\" xlink:href=\"#DejaVuSans-53\"/>\n       <use x=\"127.246094\" xlink:href=\"#DejaVuSans-48\"/>\n       <use x=\"190.869141\" xlink:href=\"#DejaVuSans-48\"/>\n      </g>\n     </g>\n    </g>\n    <g id=\"ytick_5\">\n     <g id=\"line2d_10\">\n      <g>\n       <use style=\"stroke:#000000;\" x=\"51.187\" xlink:href=\"#m27c4070116\" y=\"53.918059\"/>\n      </g>\n     </g>\n     <g id=\"text_10\">\n      <!-- 2000 -->\n      <g transform=\"translate(20.491 57.261372)scale(0.088 -0.088)\">\n       <use xlink:href=\"#DejaVuSans-50\"/>\n       <use x=\"63.623047\" xlink:href=\"#DejaVuSans-48\"/>\n       <use x=\"127.246094\" xlink:href=\"#DejaVuSans-48\"/>\n       <use x=\"190.869141\" xlink:href=\"#DejaVuSans-48\"/>\n      </g>\n     </g>\n    </g>\n    <g id=\"ytick_6\">\n     <g id=\"line2d_11\">\n      <g>\n       <use style=\"stroke:#000000;\" x=\"51.187\" xlink:href=\"#m27c4070116\" y=\"11.237574\"/>\n      </g>\n     </g>\n     <g id=\"text_11\">\n      <!-- 2500 -->\n      <g transform=\"translate(20.491 14.580886)scale(0.088 -0.088)\">\n       <use xlink:href=\"#DejaVuSans-50\"/>\n       <use x=\"63.623047\" xlink:href=\"#DejaVuSans-53\"/>\n       <use x=\"127.246094\" xlink:href=\"#DejaVuSans-48\"/>\n       <use x=\"190.869141\" xlink:href=\"#DejaVuSans-48\"/>\n      </g>\n     </g>\n    </g>\n    <g id=\"text_12\">\n     <!-- Count -->\n     <g transform=\"translate(14.4945 130.1745)rotate(-90)scale(0.096 -0.096)\">\n      <defs>\n       <path d=\"M 64.40625 67.28125 \nL 64.40625 56.890625 \nQ 59.421875 61.53125 53.78125 63.8125 \nQ 48.140625 66.109375 41.796875 66.109375 \nQ 29.296875 66.109375 22.65625 58.46875 \nQ 16.015625 50.828125 16.015625 36.375 \nQ 16.015625 21.96875 22.65625 14.328125 \nQ 29.296875 6.6875 41.796875 6.6875 \nQ 48.140625 6.6875 53.78125 8.984375 \nQ 59.421875 11.28125 64.40625 15.921875 \nL 64.40625 5.609375 \nQ 59.234375 2.09375 53.4375 0.328125 \nQ 47.65625 -1.421875 41.21875 -1.421875 \nQ 24.65625 -1.421875 15.125 8.703125 \nQ 5.609375 18.84375 5.609375 36.375 \nQ 5.609375 53.953125 15.125 64.078125 \nQ 24.65625 74.21875 41.21875 74.21875 \nQ 47.75 74.21875 53.53125 72.484375 \nQ 59.328125 70.75 64.40625 67.28125 \nz\n\" id=\"DejaVuSans-67\"/>\n       <path d=\"M 30.609375 48.390625 \nQ 23.390625 48.390625 19.1875 42.75 \nQ 14.984375 37.109375 14.984375 27.296875 \nQ 14.984375 17.484375 19.15625 11.84375 \nQ 23.34375 6.203125 30.609375 6.203125 \nQ 37.796875 6.203125 41.984375 11.859375 \nQ 46.1875 17.53125 46.1875 27.296875 \nQ 46.1875 37.015625 41.984375 42.703125 \nQ 37.796875 48.390625 30.609375 48.390625 \nz\nM 30.609375 56 \nQ 42.328125 56 49.015625 48.375 \nQ 55.71875 40.765625 55.71875 27.296875 \nQ 55.71875 13.875 49.015625 6.21875 \nQ 42.328125 -1.421875 30.609375 -1.421875 \nQ 18.84375 -1.421875 12.171875 6.21875 \nQ 5.515625 13.875 5.515625 27.296875 \nQ 5.515625 40.765625 12.171875 48.375 \nQ 18.84375 56 30.609375 56 \nz\n\" id=\"DejaVuSans-111\"/>\n       <path d=\"M 8.5 21.578125 \nL 8.5 54.6875 \nL 17.484375 54.6875 \nL 17.484375 21.921875 \nQ 17.484375 14.15625 20.5 10.265625 \nQ 23.53125 6.390625 29.59375 6.390625 \nQ 36.859375 6.390625 41.078125 11.03125 \nQ 45.3125 15.671875 45.3125 23.6875 \nL 45.3125 54.6875 \nL 54.296875 54.6875 \nL 54.296875 0 \nL 45.3125 0 \nL 45.3125 8.40625 \nQ 42.046875 3.421875 37.71875 1 \nQ 33.40625 -1.421875 27.6875 -1.421875 \nQ 18.265625 -1.421875 13.375 4.4375 \nQ 8.5 10.296875 8.5 21.578125 \nz\nM 31.109375 56 \nz\n\" id=\"DejaVuSans-117\"/>\n       <path d=\"M 54.890625 33.015625 \nL 54.890625 0 \nL 45.90625 0 \nL 45.90625 32.71875 \nQ 45.90625 40.484375 42.875 44.328125 \nQ 39.84375 48.1875 33.796875 48.1875 \nQ 26.515625 48.1875 22.3125 43.546875 \nQ 18.109375 38.921875 18.109375 30.90625 \nL 18.109375 0 \nL 9.078125 0 \nL 9.078125 54.6875 \nL 18.109375 54.6875 \nL 18.109375 46.1875 \nQ 21.34375 51.125 25.703125 53.5625 \nQ 30.078125 56 35.796875 56 \nQ 45.21875 56 50.046875 50.171875 \nQ 54.890625 44.34375 54.890625 33.015625 \nz\n\" id=\"DejaVuSans-110\"/>\n       <path d=\"M 18.3125 70.21875 \nL 18.3125 54.6875 \nL 36.8125 54.6875 \nL 36.8125 47.703125 \nL 18.3125 47.703125 \nL 18.3125 18.015625 \nQ 18.3125 11.328125 20.140625 9.421875 \nQ 21.96875 7.515625 27.59375 7.515625 \nL 36.8125 7.515625 \nL 36.8125 0 \nL 27.59375 0 \nQ 17.1875 0 13.234375 3.875 \nQ 9.28125 7.765625 9.28125 18.015625 \nL 9.28125 47.703125 \nL 2.6875 47.703125 \nL 2.6875 54.6875 \nL 9.28125 54.6875 \nL 9.28125 70.21875 \nz\n\" id=\"DejaVuSans-116\"/>\n      </defs>\n      <use xlink:href=\"#DejaVuSans-67\"/>\n      <use x=\"69.824219\" xlink:href=\"#DejaVuSans-111\"/>\n      <use x=\"131.005859\" xlink:href=\"#DejaVuSans-117\"/>\n      <use x=\"194.384766\" xlink:href=\"#DejaVuSans-110\"/>\n      <use x=\"257.763672\" xlink:href=\"#DejaVuSans-116\"/>\n     </g>\n    </g>\n   </g>\n   <g id=\"patch_99\">\n    <path d=\"M 51.187 224.64 \nL 51.187 7.2 \n\" style=\"fill:none;stroke:#000000;stroke-linecap:square;stroke-linejoin:miter;\"/>\n   </g>\n   <g id=\"patch_100\">\n    <path d=\"M 385.987 224.64 \nL 385.987 7.2 \n\" style=\"fill:none;stroke:#000000;stroke-linecap:square;stroke-linejoin:miter;\"/>\n   </g>\n   <g id=\"patch_101\">\n    <path d=\"M 51.187 224.64 \nL 385.987 224.64 \n\" style=\"fill:none;stroke:#000000;stroke-linecap:square;stroke-linejoin:miter;\"/>\n   </g>\n   <g id=\"patch_102\">\n    <path d=\"M 51.187 7.2 \nL 385.987 7.2 \n\" style=\"fill:none;stroke:#000000;stroke-linecap:square;stroke-linejoin:miter;\"/>\n   </g>\n  </g>\n </g>\n <defs>\n  <clipPath id=\"pfd83bc2c0f\">\n   <rect height=\"217.44\" width=\"334.8\" x=\"51.187\" y=\"7.2\"/>\n  </clipPath>\n </defs>\n</svg>\n",
      "image/png": "[encoded data removed]"
     },
     "metadata": {
      "needs_background": "light"
     }
    }
   ],
   "source": [
    "sns.histplot(dict_of_FP_values['A3'][0])"
   ]
  },
  {
   "cell_type": "code",
   "execution_count": 614,
   "metadata": {},
   "outputs": [
    {
     "output_type": "execute_result",
     "data": {
      "text/plain": [
       "0    53258\n",
       "1     6742\n",
       "dtype: int64"
      ]
     },
     "metadata": {},
     "execution_count": 614
    }
   ],
   "source": [
    "pd.Series(bin_y_train[0]).value_counts()"
   ]
  },
  {
   "cell_type": "code",
   "execution_count": 615,
   "metadata": {},
   "outputs": [
    {
     "output_type": "execute_result",
     "data": {
      "text/plain": [
       "[0.901, 0.994)    18303\n",
       "[0.808, 0.901)    17211\n",
       "[0.716, 0.808)    10172\n",
       "[0.623, 0.716)     6060\n",
       "[0.53, 0.623)      3520\n",
       "[0.438, 0.53)      2159\n",
       "[0.345, 0.438)     1276\n",
       "[0.252, 0.345)      753\n",
       "[0.16, 0.252)       447\n",
       "[0.067, 0.16)        99\n",
       "dtype: int64"
      ]
     },
     "metadata": {},
     "execution_count": 615
    }
   ],
   "source": [
    "pd.cut(pd.Series(dict_of_FP_values['A3'][0]), bins=10, right=False).value_counts()"
   ]
  },
  {
   "source": [
    "## OK. It just seems to have optimised by making everything 0. Let's see what happens if we just have two numbers in the sample"
   ],
   "cell_type": "markdown",
   "metadata": {}
  },
  {
   "cell_type": "code",
   "execution_count": 579,
   "metadata": {},
   "outputs": [
    {
     "output_type": "stream",
     "name": "stdout",
     "text": [
      "[1, 0]\n(784, 12665)\n"
     ]
    }
   ],
   "source": [
    "\n",
    "def reduced_form(y_train,y_test, x_train, x_test, numbers):\n",
    "    \n",
    "    print(numbers)\n",
    "    #Put in an array format\n",
    "    y_train_arr_format = np.array(y_train)\n",
    "    y_test_arr_format = np.array(y_test)\n",
    "\n",
    "    y_train_df = pd.DataFrame( {'value': y_train_arr_format})\n",
    "    train_index = y_train_df['value'].isin(numbers)\n",
    "\n",
    "    #Repeat this for test\n",
    "    y_test_df = pd.DataFrame( {'value': y_test_arr_format})\n",
    "    test_index = y_test_df['value'].isin(numbers)\n",
    "\n",
    "    #then get the relevant lists\n",
    "    y_train_reduced = y_train_arr_format[train_index]\n",
    "    x_train_reduced = x_train[train_index]\n",
    "    y_test_reduced = y_test_arr_format[test_index]\n",
    "    x_test_reduced = x_test[test_index]\n",
    "\n",
    "    #flatten the shapes - note, we're not using x_test just yet, so can leave this as is.\n",
    "    x_train_subset, x_test_subset, y_train_subset, y_test_subset = flatten_and_reshape(x_train_reduced, x_test_reduced, y_train_reduced, y_test_reduced)\n",
    "    \n",
    "    return x_train_subset, x_test_subset, y_train_subset, y_test_subset\n",
    "\n",
    "numbers_looked_at = [1,2,3,4]\n",
    "\n",
    "x_train_binary, x_test_binary, y_train_binary, y_test_binary = reduced_form(y_train, y_test, x_train, x_test, [1,0])"
   ]
  },
  {
   "cell_type": "code",
   "execution_count": 634,
   "metadata": {},
   "outputs": [
    {
     "output_type": "execute_result",
     "data": {
      "text/plain": [
       "1    6742\n",
       "0    5923\n",
       "dtype: int64"
      ]
     },
     "metadata": {},
     "execution_count": 634
    }
   ],
   "source": [
    "#shows the split of class values\n",
    "pd.Series(y_train_binary[0]).value_counts()"
   ]
  },
  {
   "cell_type": "code",
   "execution_count": 640,
   "metadata": {},
   "outputs": [
    {
     "output_type": "stream",
     "name": "stdout",
     "text": [
      "Weights matrices\n",
      "W1 (50, 784)\n",
      "B1 (50, 1)\n",
      "W2 (50, 50)\n",
      "B2 (50, 1)\n",
      "W3 (1, 50)\n",
      "B3 (1, 1)\n",
      "[0.3022419]\n",
      "[0.2006925]\n",
      "[0.17360115]\n",
      "[0.16354055]\n",
      "[0.15645518]\n",
      "[0.15021601]\n",
      "[0.14446876]\n",
      "[0.13913079]\n",
      "[0.13416309]\n",
      "[0.12953478]\n",
      "[0.12521777]\n",
      "[0.12118615]\n",
      "[0.11741611]\n",
      "[0.11388586]\n",
      "[0.11057555]\n",
      "[0.10746714]\n",
      "[0.10454424]\n",
      "[0.10179196]\n",
      "[0.0991968]\n",
      "[0.0967465]\n",
      "[0.0944299]\n",
      "[0.09223688]\n",
      "[0.09015822]\n",
      "[0.08818552]\n",
      "[0.08631114]\n",
      "[0.08452809]\n",
      "[0.08282999]\n",
      "[0.08121102]\n",
      "[0.07966585]\n",
      "[0.07818959]\n",
      "[0.07677775]\n",
      "[0.07542624]\n",
      "[0.07413126]\n",
      "[0.07288935]\n",
      "[0.0716973]\n",
      "[0.07055215]\n",
      "[0.06945119]\n",
      "[0.06839188]\n",
      "[0.0673719]\n",
      "[0.06638907]\n",
      "[0.06544141]\n",
      "[0.06452703]\n",
      "[0.06364421]\n",
      "[0.06279134]\n",
      "[0.0619669]\n",
      "[0.0611695]\n",
      "[0.06039782]\n",
      "[0.05965063]\n",
      "[0.05892679]\n",
      "[0.05822521]\n",
      "[0.05754489]\n",
      "[0.05688487]\n",
      "[0.05624426]\n",
      "[0.05562222]\n",
      "[0.05501796]\n",
      "[0.05443073]\n",
      "[0.05385981]\n",
      "[0.05330456]\n",
      "[0.05276432]\n",
      "[0.05223852]\n",
      "[0.05172657]\n",
      "[0.05122796]\n",
      "[0.05074215]\n",
      "[0.05026869]\n",
      "[0.04980709]\n",
      "[0.04935694]\n",
      "[0.04891781]\n",
      "[0.0484893]\n",
      "[0.04807105]\n",
      "[0.04766269]\n",
      "[0.04726387]\n",
      "[0.04687428]\n",
      "[0.0464936]\n",
      "[0.04612152]\n",
      "[0.04575777]\n",
      "[0.04540207]\n",
      "[0.04505416]\n",
      "[0.04471379]\n",
      "[0.04438071]\n",
      "[0.0440547]\n",
      "[0.04373554]\n",
      "[0.04342302]\n",
      "[0.04311692]\n",
      "[0.04281707]\n",
      "[0.04252326]\n",
      "[0.04223531]\n",
      "[0.04195307]\n",
      "[0.04167634]\n",
      "[0.04140499]\n",
      "[0.04113885]\n",
      "[0.04087776]\n",
      "[0.0406216]\n",
      "[0.04037022]\n",
      "[0.04012348]\n",
      "[0.03988127]\n",
      "[0.03964344]\n",
      "[0.03940989]\n",
      "[0.03918051]\n",
      "[0.03895516]\n",
      "[0.03873376]\n"
     ]
    }
   ],
   "source": [
    "\n",
    "#init the weights\n",
    "dict_of_weights_2 = init_weights(x_train_binary, 50, 50, 1)\n",
    "#then let's do some iterations\n",
    "learning_rate = 0.1 #set an arbitrary learning rate... we can iterate and try a few others soon\n",
    "iterations = 1000\n",
    "cost = []\n",
    "\n",
    "for iteration in range(iterations):\n",
    "    \n",
    "    dict_of_FP_values_bin, Cost = forward_prop(dict_of_weights_2,x_train_binary,y_train_binary)\n",
    "    cost.append(Cost[0]) #add cost to the list.\n",
    "    #then, do back prop, storing the differentials\n",
    "    differentiat_dict_bin = back_prop(dict_of_weights_2, dict_of_FP_values_bin, y_train_binary, x_train_binary)\n",
    "\n",
    "    #then, do the gradient descent. Nothing stored, the weights just update and we re-use the new values in forward prop.\n",
    "    gradient_descent(learning_rate, dict_of_weights_2, differentiat_dict_bin)\n",
    "    if iteration % 30 == 0:\n",
    "        print(Cost)\n"
   ]
  },
  {
   "cell_type": "code",
   "execution_count": 641,
   "metadata": {},
   "outputs": [
    {
     "output_type": "execute_result",
     "data": {
      "text/plain": [
       "[0.9, 1.001)       5070\n",
       "[6.65e-05, 0.1)    4584\n",
       "[0.8, 0.9)          852\n",
       "[0.1, 0.2)          533\n",
       "[0.7, 0.8)          453\n",
       "[0.6, 0.7)          286\n",
       "[0.2, 0.3)          276\n",
       "[0.5, 0.6)          212\n",
       "[0.3, 0.4)          206\n",
       "[0.4, 0.5)          193\n",
       "dtype: int64"
      ]
     },
     "metadata": {},
     "execution_count": 641
    }
   ],
   "source": [
    "pd.cut(pd.Series(dict_of_FP_values_bin['A3'][0]), bins=10, right=False).value_counts()"
   ]
  },
  {
   "source": [
    "Great - we have values at both ends of the spectrum!"
   ],
   "cell_type": "markdown",
   "metadata": {}
  },
  {
   "cell_type": "code",
   "execution_count": 642,
   "metadata": {},
   "outputs": [
    {
     "output_type": "stream",
     "name": "stderr",
     "text": [
      "/Users/jacoblourie/opt/anaconda3/lib/python3.8/site-packages/seaborn/_decorators.py:36: FutureWarning: Pass the following variables as keyword args: x, y. From version 0.12, the only valid positional argument will be `data`, and passing other arguments without an explicit keyword will result in an error or misinterpretation.\n  warnings.warn(\n"
     ]
    },
    {
     "output_type": "execute_result",
     "data": {
      "text/plain": [
       "<AxesSubplot:>"
      ]
     },
     "metadata": {},
     "execution_count": 642
    },
    {
     "output_type": "display_data",
     "data": {
      "text/plain": "<Figure size 432x288 with 1 Axes>",
      "image/svg+xml": "<?xml version=\"1.0\" encoding=\"utf-8\" standalone=\"no\"?>\n<!DOCTYPE svg PUBLIC \"-//W3C//DTD SVG 1.1//EN\"\n  \"http://www.w3.org/Graphics/SVG/1.1/DTD/svg11.dtd\">\n<!-- Created with matplotlib (https://matplotlib.org/) -->\n<svg height=\"248.65675pt\" version=\"1.1\" viewBox=\"0 0 377.09375 248.65675\" width=\"377.09375pt\" xmlns=\"http://www.w3.org/2000/svg\" xmlns:xlink=\"http://www.w3.org/1999/xlink\">\n <metadata>\n  <rdf:RDF xmlns:cc=\"http://creativecommons.org/ns#\" xmlns:dc=\"http://purl.org/dc/elements/1.1/\" xmlns:rdf=\"http://www.w3.org/1999/02/22-rdf-syntax-ns#\">\n   <cc:Work>\n    <dc:type rdf:resource=\"http://purl.org/dc/dcmitype/StillImage\"/>\n    <dc:date>2021-05-05T21:25:16.629220</dc:date>\n    <dc:format>image/svg+xml</dc:format>\n    <dc:creator>\n     <cc:Agent>\n      <dc:title>Matplotlib v3.3.2, https://matplotlib.org/</dc:title>\n     </cc:Agent>\n    </dc:creator>\n   </cc:Work>\n  </rdf:RDF>\n </metadata>\n <defs>\n  <style type=\"text/css\">*{stroke-linecap:butt;stroke-linejoin:round;}</style>\n </defs>\n <g id=\"figure_1\">\n  <g id=\"patch_1\">\n   <path d=\"M 0 248.65675 \nL 377.09375 248.65675 \nL 377.09375 0 \nL 0 0 \nz\n\" style=\"fill:none;\"/>\n  </g>\n  <g id=\"axes_1\">\n   <g id=\"patch_2\">\n    <path d=\"M 35.09375 224.64 \nL 369.89375 224.64 \nL 369.89375 7.2 \nL 35.09375 7.2 \nz\n\" style=\"fill:#ffffff;\"/>\n   </g>\n   <g id=\"matplotlib.axis_1\">\n    <g id=\"xtick_1\">\n     <g id=\"line2d_1\">\n      <defs>\n       <path d=\"M 0 0 \nL 0 4.8 \n\" id=\"m9a8b55625d\" style=\"stroke:#000000;\"/>\n      </defs>\n      <g>\n       <use style=\"stroke:#000000;\" x=\"50.007264\" xlink:href=\"#m9a8b55625d\" y=\"224.64\"/>\n      </g>\n     </g>\n     <g id=\"text_1\">\n      <!-- 0 -->\n      <g transform=\"translate(47.207764 239.626625)scale(0.088 -0.088)\">\n       <defs>\n        <path d=\"M 31.78125 66.40625 \nQ 24.171875 66.40625 20.328125 58.90625 \nQ 16.5 51.421875 16.5 36.375 \nQ 16.5 21.390625 20.328125 13.890625 \nQ 24.171875 6.390625 31.78125 6.390625 \nQ 39.453125 6.390625 43.28125 13.890625 \nQ 47.125 21.390625 47.125 36.375 \nQ 47.125 51.421875 43.28125 58.90625 \nQ 39.453125 66.40625 31.78125 66.40625 \nz\nM 31.78125 74.21875 \nQ 44.046875 74.21875 50.515625 64.515625 \nQ 56.984375 54.828125 56.984375 36.375 \nQ 56.984375 17.96875 50.515625 8.265625 \nQ 44.046875 -1.421875 31.78125 -1.421875 \nQ 19.53125 -1.421875 13.0625 8.265625 \nQ 6.59375 17.96875 6.59375 36.375 \nQ 6.59375 54.828125 13.0625 64.515625 \nQ 19.53125 74.21875 31.78125 74.21875 \nz\n\" id=\"DejaVuSans-48\"/>\n       </defs>\n       <use xlink:href=\"#DejaVuSans-48\"/>\n      </g>\n     </g>\n    </g>\n    <g id=\"xtick_2\">\n     <g id=\"line2d_2\">\n      <g>\n       <use style=\"stroke:#000000;\" x=\"110.940924\" xlink:href=\"#m9a8b55625d\" y=\"224.64\"/>\n      </g>\n     </g>\n     <g id=\"text_2\">\n      <!-- 200 -->\n      <g transform=\"translate(102.542424 239.626625)scale(0.088 -0.088)\">\n       <defs>\n        <path d=\"M 19.1875 8.296875 \nL 53.609375 8.296875 \nL 53.609375 0 \nL 7.328125 0 \nL 7.328125 8.296875 \nQ 12.9375 14.109375 22.625 23.890625 \nQ 32.328125 33.6875 34.8125 36.53125 \nQ 39.546875 41.84375 41.421875 45.53125 \nQ 43.3125 49.21875 43.3125 52.78125 \nQ 43.3125 58.59375 39.234375 62.25 \nQ 35.15625 65.921875 28.609375 65.921875 \nQ 23.96875 65.921875 18.8125 64.3125 \nQ 13.671875 62.703125 7.8125 59.421875 \nL 7.8125 69.390625 \nQ 13.765625 71.78125 18.9375 73 \nQ 24.125 74.21875 28.421875 74.21875 \nQ 39.75 74.21875 46.484375 68.546875 \nQ 53.21875 62.890625 53.21875 53.421875 \nQ 53.21875 48.921875 51.53125 44.890625 \nQ 49.859375 40.875 45.40625 35.40625 \nQ 44.1875 33.984375 37.640625 27.21875 \nQ 31.109375 20.453125 19.1875 8.296875 \nz\n\" id=\"DejaVuSans-50\"/>\n       </defs>\n       <use xlink:href=\"#DejaVuSans-50\"/>\n       <use x=\"63.623047\" xlink:href=\"#DejaVuSans-48\"/>\n       <use x=\"127.246094\" xlink:href=\"#DejaVuSans-48\"/>\n      </g>\n     </g>\n    </g>\n    <g id=\"xtick_3\">\n     <g id=\"line2d_3\">\n      <g>\n       <use style=\"stroke:#000000;\" x=\"171.874585\" xlink:href=\"#m9a8b55625d\" y=\"224.64\"/>\n      </g>\n     </g>\n     <g id=\"text_3\">\n      <!-- 400 -->\n      <g transform=\"translate(163.476085 239.626625)scale(0.088 -0.088)\">\n       <defs>\n        <path d=\"M 37.796875 64.3125 \nL 12.890625 25.390625 \nL 37.796875 25.390625 \nz\nM 35.203125 72.90625 \nL 47.609375 72.90625 \nL 47.609375 25.390625 \nL 58.015625 25.390625 \nL 58.015625 17.1875 \nL 47.609375 17.1875 \nL 47.609375 0 \nL 37.796875 0 \nL 37.796875 17.1875 \nL 4.890625 17.1875 \nL 4.890625 26.703125 \nz\n\" id=\"DejaVuSans-52\"/>\n       </defs>\n       <use xlink:href=\"#DejaVuSans-52\"/>\n       <use x=\"63.623047\" xlink:href=\"#DejaVuSans-48\"/>\n       <use x=\"127.246094\" xlink:href=\"#DejaVuSans-48\"/>\n      </g>\n     </g>\n    </g>\n    <g id=\"xtick_4\">\n     <g id=\"line2d_4\">\n      <g>\n       <use style=\"stroke:#000000;\" x=\"232.808246\" xlink:href=\"#m9a8b55625d\" y=\"224.64\"/>\n      </g>\n     </g>\n     <g id=\"text_4\">\n      <!-- 600 -->\n      <g transform=\"translate(224.409746 239.626625)scale(0.088 -0.088)\">\n       <defs>\n        <path d=\"M 33.015625 40.375 \nQ 26.375 40.375 22.484375 35.828125 \nQ 18.609375 31.296875 18.609375 23.390625 \nQ 18.609375 15.53125 22.484375 10.953125 \nQ 26.375 6.390625 33.015625 6.390625 \nQ 39.65625 6.390625 43.53125 10.953125 \nQ 47.40625 15.53125 47.40625 23.390625 \nQ 47.40625 31.296875 43.53125 35.828125 \nQ 39.65625 40.375 33.015625 40.375 \nz\nM 52.59375 71.296875 \nL 52.59375 62.3125 \nQ 48.875 64.0625 45.09375 64.984375 \nQ 41.3125 65.921875 37.59375 65.921875 \nQ 27.828125 65.921875 22.671875 59.328125 \nQ 17.53125 52.734375 16.796875 39.40625 \nQ 19.671875 43.65625 24.015625 45.921875 \nQ 28.375 48.1875 33.59375 48.1875 \nQ 44.578125 48.1875 50.953125 41.515625 \nQ 57.328125 34.859375 57.328125 23.390625 \nQ 57.328125 12.15625 50.6875 5.359375 \nQ 44.046875 -1.421875 33.015625 -1.421875 \nQ 20.359375 -1.421875 13.671875 8.265625 \nQ 6.984375 17.96875 6.984375 36.375 \nQ 6.984375 53.65625 15.1875 63.9375 \nQ 23.390625 74.21875 37.203125 74.21875 \nQ 40.921875 74.21875 44.703125 73.484375 \nQ 48.484375 72.75 52.59375 71.296875 \nz\n\" id=\"DejaVuSans-54\"/>\n       </defs>\n       <use xlink:href=\"#DejaVuSans-54\"/>\n       <use x=\"63.623047\" xlink:href=\"#DejaVuSans-48\"/>\n       <use x=\"127.246094\" xlink:href=\"#DejaVuSans-48\"/>\n      </g>\n     </g>\n    </g>\n    <g id=\"xtick_5\">\n     <g id=\"line2d_5\">\n      <g>\n       <use style=\"stroke:#000000;\" x=\"293.741907\" xlink:href=\"#m9a8b55625d\" y=\"224.64\"/>\n      </g>\n     </g>\n     <g id=\"text_5\">\n      <!-- 800 -->\n      <g transform=\"translate(285.343407 239.626625)scale(0.088 -0.088)\">\n       <defs>\n        <path d=\"M 31.78125 34.625 \nQ 24.75 34.625 20.71875 30.859375 \nQ 16.703125 27.09375 16.703125 20.515625 \nQ 16.703125 13.921875 20.71875 10.15625 \nQ 24.75 6.390625 31.78125 6.390625 \nQ 38.8125 6.390625 42.859375 10.171875 \nQ 46.921875 13.96875 46.921875 20.515625 \nQ 46.921875 27.09375 42.890625 30.859375 \nQ 38.875 34.625 31.78125 34.625 \nz\nM 21.921875 38.8125 \nQ 15.578125 40.375 12.03125 44.71875 \nQ 8.5 49.078125 8.5 55.328125 \nQ 8.5 64.0625 14.71875 69.140625 \nQ 20.953125 74.21875 31.78125 74.21875 \nQ 42.671875 74.21875 48.875 69.140625 \nQ 55.078125 64.0625 55.078125 55.328125 \nQ 55.078125 49.078125 51.53125 44.71875 \nQ 48 40.375 41.703125 38.8125 \nQ 48.828125 37.15625 52.796875 32.3125 \nQ 56.78125 27.484375 56.78125 20.515625 \nQ 56.78125 9.90625 50.3125 4.234375 \nQ 43.84375 -1.421875 31.78125 -1.421875 \nQ 19.734375 -1.421875 13.25 4.234375 \nQ 6.78125 9.90625 6.78125 20.515625 \nQ 6.78125 27.484375 10.78125 32.3125 \nQ 14.796875 37.15625 21.921875 38.8125 \nz\nM 18.3125 54.390625 \nQ 18.3125 48.734375 21.84375 45.5625 \nQ 25.390625 42.390625 31.78125 42.390625 \nQ 38.140625 42.390625 41.71875 45.5625 \nQ 45.3125 48.734375 45.3125 54.390625 \nQ 45.3125 60.0625 41.71875 63.234375 \nQ 38.140625 66.40625 31.78125 66.40625 \nQ 25.390625 66.40625 21.84375 63.234375 \nQ 18.3125 60.0625 18.3125 54.390625 \nz\n\" id=\"DejaVuSans-56\"/>\n       </defs>\n       <use xlink:href=\"#DejaVuSans-56\"/>\n       <use x=\"63.623047\" xlink:href=\"#DejaVuSans-48\"/>\n       <use x=\"127.246094\" xlink:href=\"#DejaVuSans-48\"/>\n      </g>\n     </g>\n    </g>\n    <g id=\"xtick_6\">\n     <g id=\"line2d_6\">\n      <g>\n       <use style=\"stroke:#000000;\" x=\"354.675568\" xlink:href=\"#m9a8b55625d\" y=\"224.64\"/>\n      </g>\n     </g>\n     <g id=\"text_6\">\n      <!-- 1000 -->\n      <g transform=\"translate(343.477568 239.626625)scale(0.088 -0.088)\">\n       <defs>\n        <path d=\"M 12.40625 8.296875 \nL 28.515625 8.296875 \nL 28.515625 63.921875 \nL 10.984375 60.40625 \nL 10.984375 69.390625 \nL 28.421875 72.90625 \nL 38.28125 72.90625 \nL 38.28125 8.296875 \nL 54.390625 8.296875 \nL 54.390625 0 \nL 12.40625 0 \nz\n\" id=\"DejaVuSans-49\"/>\n       </defs>\n       <use xlink:href=\"#DejaVuSans-49\"/>\n       <use x=\"63.623047\" xlink:href=\"#DejaVuSans-48\"/>\n       <use x=\"127.246094\" xlink:href=\"#DejaVuSans-48\"/>\n       <use x=\"190.869141\" xlink:href=\"#DejaVuSans-48\"/>\n      </g>\n     </g>\n    </g>\n   </g>\n   <g id=\"matplotlib.axis_2\">\n    <g id=\"ytick_1\">\n     <g id=\"line2d_7\">\n      <defs>\n       <path d=\"M 0 0 \nL -4.8 0 \n\" id=\"m22b4897a5b\" style=\"stroke:#000000;\"/>\n      </defs>\n      <g>\n       <use style=\"stroke:#000000;\" x=\"35.09375\" xlink:href=\"#m22b4897a5b\" y=\"206.164279\"/>\n      </g>\n     </g>\n     <g id=\"text_7\">\n      <!-- 0.05 -->\n      <g transform=\"translate(7.2 209.507592)scale(0.088 -0.088)\">\n       <defs>\n        <path d=\"M 10.6875 12.40625 \nL 21 12.40625 \nL 21 0 \nL 10.6875 0 \nz\n\" id=\"DejaVuSans-46\"/>\n        <path d=\"M 10.796875 72.90625 \nL 49.515625 72.90625 \nL 49.515625 64.59375 \nL 19.828125 64.59375 \nL 19.828125 46.734375 \nQ 21.96875 47.46875 24.109375 47.828125 \nQ 26.265625 48.1875 28.421875 48.1875 \nQ 40.625 48.1875 47.75 41.5 \nQ 54.890625 34.8125 54.890625 23.390625 \nQ 54.890625 11.625 47.5625 5.09375 \nQ 40.234375 -1.421875 26.90625 -1.421875 \nQ 22.3125 -1.421875 17.546875 -0.640625 \nQ 12.796875 0.140625 7.71875 1.703125 \nL 7.71875 11.625 \nQ 12.109375 9.234375 16.796875 8.0625 \nQ 21.484375 6.890625 26.703125 6.890625 \nQ 35.15625 6.890625 40.078125 11.328125 \nQ 45.015625 15.765625 45.015625 23.390625 \nQ 45.015625 31 40.078125 35.4375 \nQ 35.15625 39.890625 26.703125 39.890625 \nQ 22.75 39.890625 18.8125 39.015625 \nQ 14.890625 38.140625 10.796875 36.28125 \nz\n\" id=\"DejaVuSans-53\"/>\n       </defs>\n       <use xlink:href=\"#DejaVuSans-48\"/>\n       <use x=\"63.623047\" xlink:href=\"#DejaVuSans-46\"/>\n       <use x=\"95.410156\" xlink:href=\"#DejaVuSans-48\"/>\n       <use x=\"159.033203\" xlink:href=\"#DejaVuSans-53\"/>\n      </g>\n     </g>\n    </g>\n    <g id=\"ytick_2\">\n     <g id=\"line2d_8\">\n      <g>\n       <use style=\"stroke:#000000;\" x=\"35.09375\" xlink:href=\"#m22b4897a5b\" y=\"168.684257\"/>\n      </g>\n     </g>\n     <g id=\"text_8\">\n      <!-- 0.10 -->\n      <g transform=\"translate(7.2 172.027569)scale(0.088 -0.088)\">\n       <use xlink:href=\"#DejaVuSans-48\"/>\n       <use x=\"63.623047\" xlink:href=\"#DejaVuSans-46\"/>\n       <use x=\"95.410156\" xlink:href=\"#DejaVuSans-49\"/>\n       <use x=\"159.033203\" xlink:href=\"#DejaVuSans-48\"/>\n      </g>\n     </g>\n    </g>\n    <g id=\"ytick_3\">\n     <g id=\"line2d_9\">\n      <g>\n       <use style=\"stroke:#000000;\" x=\"35.09375\" xlink:href=\"#m22b4897a5b\" y=\"131.204235\"/>\n      </g>\n     </g>\n     <g id=\"text_9\">\n      <!-- 0.15 -->\n      <g transform=\"translate(7.2 134.547547)scale(0.088 -0.088)\">\n       <use xlink:href=\"#DejaVuSans-48\"/>\n       <use x=\"63.623047\" xlink:href=\"#DejaVuSans-46\"/>\n       <use x=\"95.410156\" xlink:href=\"#DejaVuSans-49\"/>\n       <use x=\"159.033203\" xlink:href=\"#DejaVuSans-53\"/>\n      </g>\n     </g>\n    </g>\n    <g id=\"ytick_4\">\n     <g id=\"line2d_10\">\n      <g>\n       <use style=\"stroke:#000000;\" x=\"35.09375\" xlink:href=\"#m22b4897a5b\" y=\"93.724212\"/>\n      </g>\n     </g>\n     <g id=\"text_10\">\n      <!-- 0.20 -->\n      <g transform=\"translate(7.2 97.067525)scale(0.088 -0.088)\">\n       <use xlink:href=\"#DejaVuSans-48\"/>\n       <use x=\"63.623047\" xlink:href=\"#DejaVuSans-46\"/>\n       <use x=\"95.410156\" xlink:href=\"#DejaVuSans-50\"/>\n       <use x=\"159.033203\" xlink:href=\"#DejaVuSans-48\"/>\n      </g>\n     </g>\n    </g>\n    <g id=\"ytick_5\">\n     <g id=\"line2d_11\">\n      <g>\n       <use style=\"stroke:#000000;\" x=\"35.09375\" xlink:href=\"#m22b4897a5b\" y=\"56.24419\"/>\n      </g>\n     </g>\n     <g id=\"text_11\">\n      <!-- 0.25 -->\n      <g transform=\"translate(7.2 59.587503)scale(0.088 -0.088)\">\n       <use xlink:href=\"#DejaVuSans-48\"/>\n       <use x=\"63.623047\" xlink:href=\"#DejaVuSans-46\"/>\n       <use x=\"95.410156\" xlink:href=\"#DejaVuSans-50\"/>\n       <use x=\"159.033203\" xlink:href=\"#DejaVuSans-53\"/>\n      </g>\n     </g>\n    </g>\n    <g id=\"ytick_6\">\n     <g id=\"line2d_12\">\n      <g>\n       <use style=\"stroke:#000000;\" x=\"35.09375\" xlink:href=\"#m22b4897a5b\" y=\"18.764168\"/>\n      </g>\n     </g>\n     <g id=\"text_12\">\n      <!-- 0.30 -->\n      <g transform=\"translate(7.2 22.10748)scale(0.088 -0.088)\">\n       <defs>\n        <path d=\"M 40.578125 39.3125 \nQ 47.65625 37.796875 51.625 33 \nQ 55.609375 28.21875 55.609375 21.1875 \nQ 55.609375 10.40625 48.1875 4.484375 \nQ 40.765625 -1.421875 27.09375 -1.421875 \nQ 22.515625 -1.421875 17.65625 -0.515625 \nQ 12.796875 0.390625 7.625 2.203125 \nL 7.625 11.71875 \nQ 11.71875 9.328125 16.59375 8.109375 \nQ 21.484375 6.890625 26.8125 6.890625 \nQ 36.078125 6.890625 40.9375 10.546875 \nQ 45.796875 14.203125 45.796875 21.1875 \nQ 45.796875 27.640625 41.28125 31.265625 \nQ 36.765625 34.90625 28.71875 34.90625 \nL 20.21875 34.90625 \nL 20.21875 43.015625 \nL 29.109375 43.015625 \nQ 36.375 43.015625 40.234375 45.921875 \nQ 44.09375 48.828125 44.09375 54.296875 \nQ 44.09375 59.90625 40.109375 62.90625 \nQ 36.140625 65.921875 28.71875 65.921875 \nQ 24.65625 65.921875 20.015625 65.03125 \nQ 15.375 64.15625 9.8125 62.3125 \nL 9.8125 71.09375 \nQ 15.4375 72.65625 20.34375 73.4375 \nQ 25.25 74.21875 29.59375 74.21875 \nQ 40.828125 74.21875 47.359375 69.109375 \nQ 53.90625 64.015625 53.90625 55.328125 \nQ 53.90625 49.265625 50.4375 45.09375 \nQ 46.96875 40.921875 40.578125 39.3125 \nz\n\" id=\"DejaVuSans-51\"/>\n       </defs>\n       <use xlink:href=\"#DejaVuSans-48\"/>\n       <use x=\"63.623047\" xlink:href=\"#DejaVuSans-46\"/>\n       <use x=\"95.410156\" xlink:href=\"#DejaVuSans-51\"/>\n       <use x=\"159.033203\" xlink:href=\"#DejaVuSans-48\"/>\n      </g>\n     </g>\n    </g>\n   </g>\n   <g id=\"line2d_13\">\n    <path clip-path=\"url(#p17d56a9344)\" d=\"M 50.311932 17.083636 \nL 51.530605 57.258434 \nL 52.44461 78.860519 \nL 53.053947 89.110105 \nL 53.663283 96.727687 \nL 54.27262 102.374301 \nL 55.186625 108.33403 \nL 56.10063 112.418475 \nL 57.014635 115.426297 \nL 58.233308 118.518821 \nL 59.756649 121.635892 \nL 61.889327 125.371382 \nL 64.631342 129.682976 \nL 67.982693 134.514545 \nL 71.334045 138.964566 \nL 74.990064 143.433614 \nL 78.646084 147.539372 \nL 82.302104 151.317647 \nL 86.262792 155.078811 \nL 90.22348 158.530739 \nL 94.488836 161.939973 \nL 98.754192 165.064723 \nL 103.324217 168.132733 \nL 108.19891 171.123085 \nL 113.073603 173.8566 \nL 118.252964 176.513349 \nL 123.736993 179.082088 \nL 129.525691 181.554902 \nL 135.923725 184.039672 \nL 142.626428 186.400206 \nL 149.938467 188.731159 \nL 157.555175 190.926018 \nL 165.781219 193.067119 \nL 174.6166 195.13966 \nL 184.365986 197.193884 \nL 194.724708 199.149252 \nL 205.997436 201.05204 \nL 218.488836 202.929558 \nL 231.894241 204.717758 \nL 246.822988 206.478651 \nL 262.970408 208.156051 \nL 280.945838 209.794047 \nL 300.749278 211.369159 \nL 322.685396 212.885337 \nL 347.058861 214.342503 \nL 354.675568 214.756364 \nL 354.675568 214.756364 \n\" style=\"fill:none;stroke:#1f77b4;stroke-linecap:square;stroke-width:1.2;\"/>\n   </g>\n   <g id=\"patch_3\">\n    <path d=\"M 35.09375 224.64 \nL 35.09375 7.2 \n\" style=\"fill:none;stroke:#000000;stroke-linecap:square;stroke-linejoin:miter;\"/>\n   </g>\n   <g id=\"patch_4\">\n    <path d=\"M 369.89375 224.64 \nL 369.89375 7.2 \n\" style=\"fill:none;stroke:#000000;stroke-linecap:square;stroke-linejoin:miter;\"/>\n   </g>\n   <g id=\"patch_5\">\n    <path d=\"M 35.09375 224.64 \nL 369.89375 224.64 \n\" style=\"fill:none;stroke:#000000;stroke-linecap:square;stroke-linejoin:miter;\"/>\n   </g>\n   <g id=\"patch_6\">\n    <path d=\"M 35.09375 7.2 \nL 369.89375 7.2 \n\" style=\"fill:none;stroke:#000000;stroke-linecap:square;stroke-linejoin:miter;\"/>\n   </g>\n  </g>\n </g>\n <defs>\n  <clipPath id=\"p17d56a9344\">\n   <rect height=\"217.44\" width=\"334.8\" x=\"35.09375\" y=\"7.2\"/>\n  </clipPath>\n </defs>\n</svg>\n",
      "image/png": "[encoded data removed]"
     },
     "metadata": {
      "needs_background": "light"
     }
    }
   ],
   "source": [
    "cost_x = np.linspace(1,iterations,iterations)\n",
    "fig = plt.figure(figsize = (6,4))\n",
    "sns.lineplot(cost_x,cost)"
   ]
  },
  {
   "source": [
    "0.01 - what does this mean? it's the average of the sum of squared values. so on average the sum of the squared values is 0.01, which means the average modulus of the value is 0.1"
   ],
   "cell_type": "markdown",
   "metadata": {}
  },
  {
   "source": [
    "## Next - let's use this to \"Predict the Test Set\""
   ],
   "cell_type": "markdown",
   "metadata": {}
  },
  {
   "cell_type": "code",
   "execution_count": 269,
   "metadata": {},
   "outputs": [],
   "source": [
    "def predict(vector_of_x, vector_of_y):\n",
    "    FP_values, Cost = forward_prop(dict_of_weights_2,vector_of_x, vector_of_y)\n",
    "    y_prob = FP_values['A3']\n",
    "    #y_pred = round(FP_values['A3'])\n",
    "    accuracy_vector = abs(y_prob - vector_of_y) < 0.5\n",
    "    return y_prob,  accuracy_vector\n",
    "\n",
    "prob, av = predict(x_test_2, y_test_2)"
   ]
  },
  {
   "cell_type": "code",
   "execution_count": 270,
   "metadata": {},
   "outputs": [
    {
     "output_type": "execute_result",
     "data": {
      "text/plain": [
       "True     1135\n",
       "False     980\n",
       "dtype: int64"
      ]
     },
     "metadata": {},
     "execution_count": 270
    }
   ],
   "source": [
    "pd.Series(av[0]).value_counts()"
   ]
  },
  {
   "source": [
    "## Alright, Let's move on to SoftMax function and try to predict correctly from all the numbers\n",
    "\n",
    "We should also test the log versus non-logged form of the cost function, as the literature really supports the idea we should be using the logged form"
   ],
   "cell_type": "markdown",
   "metadata": {}
  },
  {
   "cell_type": "code",
   "execution_count": 521,
   "metadata": {},
   "outputs": [
    {
     "output_type": "stream",
     "name": "stdout",
     "text": [
      "(784, 60000)\n"
     ]
    }
   ],
   "source": [
    "#OK, let's get the data as we need it. we can use x_train_flat and x_test_flat\n",
    "print(x_train_flat.shape)\n",
    "#for y, we need to do some form of hot encoding.\n",
    "from sklearn.preprocessing import OneHotEncoder\n",
    "one_hot = OneHotEncoder(sparse = False)\n",
    "one_hot_y_train= one_hot.fit_transform(y_train_two_classes.reshape(-1,1)).T ###currently doing it on two classes\n",
    "one_hot_y_test = one_hot.fit_transform(y_test_two_classes.reshape(-1,1)).T\n"
   ]
  },
  {
   "cell_type": "code",
   "execution_count": 506,
   "metadata": {},
   "outputs": [
    {
     "output_type": "stream",
     "name": "stdout",
     "text": [
      "Weights matrices\nW1 (50, 784)\nB1 (50, 1)\nW2 (50, 50)\nB2 (50, 1)\nW3 (10, 50)\nB3 (10, 1)\n"
     ]
    }
   ],
   "source": [
    "# let's see if we can initialise the weights\n",
    "dict_of_weights_softmax = init_weights(x_train_flat, 50, 50, 10)"
   ]
  },
  {
   "source": [
    "## Gravy. Now let's take a look at the forward prop\n",
    "\n",
    "One thing for sure is that we need to change the calculation of the cost function."
   ],
   "cell_type": "markdown",
   "metadata": {}
  },
  {
   "cell_type": "code",
   "execution_count": 507,
   "metadata": {},
   "outputs": [
    {
     "output_type": "execute_result",
     "data": {
      "text/plain": [
       "(10, 60000)"
      ]
     },
     "metadata": {},
     "execution_count": 507
    }
   ],
   "source": [
    "one_hot_y_train.shape"
   ]
  },
  {
   "cell_type": "code",
   "execution_count": 508,
   "metadata": {},
   "outputs": [],
   "source": [
    "dict_of_FP_values_softmax = {}\n",
    "#FORWARD PROPOGATION\n",
    "def last_leg_softmax(previous_a, W, B):\n",
    "    Z = W @ previous_a + B\n",
    "    A = np.exp(Z)\n",
    "    A = A / np.sum(A,axis=0) \n",
    "    return Z, A\n",
    "\n",
    "def forward_prop_softmax(dict_of_weights,x_train_flat,y_train_softmax):\n",
    "    W1, B1, W2, B2, W3, B3 = dict_of_weights.values()\n",
    "    Z1, A1 = sigmoid_forward_prop(x_train_flat, W1, B1)\n",
    "    Z2, A2 = sigmoid_forward_prop(A1, W2, B2)    \n",
    "    Z3, A3 = last_leg_softmax(A2, W3, B3)\n",
    "    \n",
    "    dict_of_FP_values['Z1'] = Z1\n",
    "    dict_of_FP_values['A1'] = A1\n",
    "    dict_of_FP_values['Z2'] = Z2\n",
    "    dict_of_FP_values['A2'] = A2\n",
    "    dict_of_FP_values['Z3'] = Z3\n",
    "    dict_of_FP_values['A3'] = A3\n",
    "    \n",
    "    #for cost fucntion, use the y log y_hat\n",
    "    Cost = -np.sum(y_train_softmax * np.log(A3)) / y_train_softmax.shape[1]\n",
    "    \n",
    "    return dict_of_FP_values, Cost\n",
    "\n",
    "dict_of_FP_values_softmax, Cost_softmax = forward_prop_softmax(dict_of_weights_SM,x_train_flat,one_hot_y_train)"
   ]
  },
  {
   "cell_type": "code",
   "execution_count": 509,
   "metadata": {},
   "outputs": [],
   "source": [
    "def back_prop_first_soft_max_layer(y_true, y_predicted, previous_A, Z, W):    \n",
    "    #dC/dz first layer is just y - ÿ\n",
    "    dC_dZ_final = y_predicted - y_true\n",
    "\n",
    "    #get diffs at that layer\n",
    "    dZfinal_dW = previous_A\n",
    "    dZfinal_dB = np.zeros_like(Z) + 1\n",
    "\n",
    "    #combine to get useful differentials\n",
    "    dC_dW = dC_dZ_final @ dZfinal_dW.T / Z.size\n",
    "    dC_dB = np.sum(dC_dZ_final @ dZfinal_dB.T,axis=1,keepdims=True) / dZfinal_dB.shape[1]\n",
    "\n",
    "    #and then get the previous layer cost fuctions\n",
    "    dZfinal_dA_minus_one = W\n",
    "    dC_dA_minus_one = (dC_dZ_final.T @ dZfinal_dA_minus_one).T\n",
    "\n",
    "    return dC_dW, dC_dB, dC_dZ_final, dC_dA_minus_one\n",
    "\n",
    "def back_prop_softmax(dict_of_weights_softmax, dict_of_FP_values_softmax, y_true, x_train_flat):\n",
    "    W1, B1, W2, B2, W3, W3 = dict_of_weights_softmax.values()\n",
    "    Z1, A1, Z2, A2, Z3, A3 = dict_of_FP_values_softmax.values()\n",
    "    \n",
    "    differentiat_dict = {}\n",
    "    \n",
    "    #This line is unique it's for the first layer\n",
    "    dC_dW3, dC_dB3, dC_dZ_last, dC_dA2 = back_prop_first_soft_max_layer(y_true, A3, A2, Z3, W3)\n",
    "\n",
    "    #do the back props\n",
    "    dC_dW2, dC_dB2, dC_dZ2, dC_dA1 = back_prop_one_layer_from_A_to_previous_A(dC_dA2, Z2, A1, W2)\n",
    "    dC_dW1, dC_dB1, dC_dZ1, dC_dA0 = back_prop_one_layer_from_A_to_previous_A(dC_dA1, Z1, x_train_flat, W1)\n",
    "\n",
    "    differentiat_dict['dW1'] = dC_dW1\n",
    "    differentiat_dict['dB1'] = dC_dB1\n",
    "    differentiat_dict['dW2'] = dC_dW2\n",
    "    differentiat_dict['dB2'] = dC_dB2\n",
    "    differentiat_dict['dW3'] = dC_dW3\n",
    "    differentiat_dict['dB3'] = dC_dB3\n",
    "\n",
    "    return differentiat_dict\n",
    "\n",
    "differentiat_dict_softmax = back_prop_softmax(dict_of_weights_softmax, dict_of_FP_values_softmax, one_hot_y_train, x_train_flat)"
   ]
  },
  {
   "cell_type": "code",
   "execution_count": 510,
   "metadata": {},
   "outputs": [
    {
     "output_type": "execute_result",
     "data": {
      "text/plain": [
       "600000"
      ]
     },
     "metadata": {},
     "execution_count": 510
    }
   ],
   "source": [
    "one_hot_y_train.size"
   ]
  },
  {
   "cell_type": "code",
   "execution_count": 511,
   "metadata": {},
   "outputs": [
    {
     "output_type": "execute_result",
     "data": {
      "text/plain": [
       "-0.8516821609792049"
      ]
     },
     "metadata": {},
     "execution_count": 511
    }
   ],
   "source": [
    "np.sum(differentiat_dict_softmax['dW2'])"
   ]
  },
  {
   "cell_type": "code",
   "execution_count": 526,
   "metadata": {
    "tags": []
   },
   "outputs": [
    {
     "output_type": "stream",
     "name": "stdout",
     "text": [
      "Weights matrices\n",
      "W1 (80, 784)\n",
      "B1 (80, 1)\n",
      "W2 (80, 80)\n",
      "B2 (80, 1)\n",
      "W3 (2, 80)\n",
      "B3 (2, 1)\n",
      "iteration: 0\n",
      "cost: 1.1223749085207957\n",
      "iteration: 10\n",
      "cost: 1.4068859306499448\n",
      "iteration: 20\n",
      "cost: 0.9548705922573397\n",
      "iteration: 30\n",
      "cost: 0.6679425641290209\n",
      "iteration: 40\n",
      "cost: 0.5233022870587428\n",
      "iteration: 50\n",
      "cost: 0.4269249919878206\n",
      "iteration: 60\n",
      "cost: 0.35957468005130366\n",
      "iteration: 70\n",
      "cost: 0.3107103367387199\n",
      "iteration: 80\n",
      "cost: 0.27430106918348474\n",
      "iteration: 90\n",
      "cost: 0.24681208094453694\n",
      "iteration: 100\n",
      "cost: 0.22573158579300898\n",
      "iteration: 110\n",
      "cost: 0.20899023522742685\n",
      "iteration: 120\n",
      "cost: 0.19496756138705001\n",
      "iteration: 130\n",
      "cost: 0.18266306837896162\n",
      "iteration: 140\n",
      "cost: 0.17163858030431478\n",
      "iteration: 150\n",
      "cost: 0.1617434663560522\n",
      "iteration: 160\n",
      "cost: 0.15289862343035443\n",
      "iteration: 170\n",
      "cost: 0.14501807332117375\n",
      "iteration: 180\n",
      "cost: 0.13800189476287503\n",
      "iteration: 190\n",
      "cost: 0.1317465484521595\n",
      "iteration: 200\n",
      "cost: 0.12615375729618264\n",
      "iteration: 210\n",
      "cost: 0.12113505102778536\n",
      "iteration: 220\n",
      "cost: 0.11661316608364497\n",
      "iteration: 230\n",
      "cost: 0.11252174096923194\n",
      "iteration: 240\n",
      "cost: 0.10880425777516498\n",
      "iteration: 250\n",
      "cost: 0.10541274916696272\n",
      "iteration: 260\n",
      "cost: 0.10230652264914616\n",
      "iteration: 270\n",
      "cost: 0.09945100829487617\n",
      "iteration: 280\n",
      "cost: 0.09681676287897913\n",
      "iteration: 290\n",
      "cost: 0.09437862922527658\n"
     ]
    }
   ],
   "source": [
    "##softmax iteration\n",
    "\n",
    "learning_rate = 0.1 #set an arbitrary learning rate... we can iterate and try a few others soon\n",
    "iterations_SM = 300\n",
    "cost_softmax = []\n",
    "dict_of_weights_softmax = init_weights(x_train_flat, 80, 80, 2)\n",
    "\n",
    "for iteration in range(iterations_SM):\n",
    "\n",
    "    dict_of_FP_values_softmax, Cost_softmax = forward_prop_softmax(dict_of_weights_softmax,x_train_2,one_hot_y_train)\n",
    "    cost_softmax.append(Cost_softmax) #add cost to the list.\n",
    "    \n",
    "    #then, do back prop, storing the differentials\n",
    "\n",
    "    differentiat_dict_softmax = back_prop_softmax(dict_of_weights_softmax, dict_of_FP_values_softmax, one_hot_y_train, x_train_2)\n",
    "    #then, do the gradient descent. Nothing stored, the weights just update and we re-use the new values in forward prop.\n",
    "    gradient_descent(learning_rate, dict_of_weights_softmax, differentiat_dict_softmax)\n",
    "    if iteration % 10 == 0:\n",
    "        print(f'iteration: {iteration}\\ncost: {Cost_softmax}')\n"
   ]
  },
  {
   "cell_type": "code",
   "execution_count": 456,
   "metadata": {},
   "outputs": [
    {
     "output_type": "execute_result",
     "data": {
      "text/plain": [
       "-2.3025850929940455"
      ]
     },
     "metadata": {},
     "execution_count": 456
    }
   ],
   "source": [
    "np.log(0./10) #this is what we'd get as a cost if we stuck everything at 0.1 on A3."
   ]
  },
  {
   "cell_type": "code",
   "execution_count": 527,
   "metadata": {},
   "outputs": [
    {
     "output_type": "stream",
     "name": "stderr",
     "text": [
      "/Users/jacoblourie/opt/anaconda3/lib/python3.8/site-packages/seaborn/_decorators.py:36: FutureWarning: Pass the following variables as keyword args: x, y. From version 0.12, the only valid positional argument will be `data`, and passing other arguments without an explicit keyword will result in an error or misinterpretation.\n  warnings.warn(\n"
     ]
    },
    {
     "output_type": "display_data",
     "data": {
      "text/plain": "<Figure size 576x288 with 1 Axes>",
      "image/svg+xml": "<?xml version=\"1.0\" encoding=\"utf-8\" standalone=\"no\"?>\n<!DOCTYPE svg PUBLIC \"-//W3C//DTD SVG 1.1//EN\"\n  \"http://www.w3.org/Graphics/SVG/1.1/DTD/svg11.dtd\">\n<!-- Created with matplotlib (https://matplotlib.org/) -->\n<svg height=\"275.24225pt\" version=\"1.1\" viewBox=\"0 0 496.38575 275.24225\" width=\"496.38575pt\" xmlns=\"http://www.w3.org/2000/svg\" xmlns:xlink=\"http://www.w3.org/1999/xlink\">\n <metadata>\n  <rdf:RDF xmlns:cc=\"http://creativecommons.org/ns#\" xmlns:dc=\"http://purl.org/dc/elements/1.1/\" xmlns:rdf=\"http://www.w3.org/1999/02/22-rdf-syntax-ns#\">\n   <cc:Work>\n    <dc:type rdf:resource=\"http://purl.org/dc/dcmitype/StillImage\"/>\n    <dc:date>2021-05-05T18:39:18.087344</dc:date>\n    <dc:format>image/svg+xml</dc:format>\n    <dc:creator>\n     <cc:Agent>\n      <dc:title>Matplotlib v3.3.2, https://matplotlib.org/</dc:title>\n     </cc:Agent>\n    </dc:creator>\n   </cc:Work>\n  </rdf:RDF>\n </metadata>\n <defs>\n  <style type=\"text/css\">*{stroke-linecap:butt;stroke-linejoin:round;}</style>\n </defs>\n <g id=\"figure_1\">\n  <g id=\"patch_1\">\n   <path d=\"M 0 275.24225 \nL 496.38575 275.24225 \nL 496.38575 0 \nL 0 0 \nz\n\" style=\"fill:none;\"/>\n  </g>\n  <g id=\"axes_1\">\n   <g id=\"patch_2\">\n    <path d=\"M 42.78575 237.9345 \nL 489.18575 237.9345 \nL 489.18575 20.4945 \nL 42.78575 20.4945 \nz\n\" style=\"fill:#ffffff;\"/>\n   </g>\n   <g id=\"matplotlib.axis_1\">\n    <g id=\"xtick_1\">\n     <g id=\"line2d_1\">\n      <defs>\n       <path d=\"M 0 0 \nL 0 4.8 \n\" id=\"m95527e76e1\" style=\"stroke:#000000;\"/>\n      </defs>\n      <g>\n       <use style=\"stroke:#000000;\" x=\"61.719408\" xlink:href=\"#m95527e76e1\" y=\"237.9345\"/>\n      </g>\n     </g>\n     <g id=\"text_1\">\n      <!-- 0 -->\n      <g transform=\"translate(58.919908 252.921125)scale(0.088 -0.088)\">\n       <defs>\n        <path d=\"M 31.78125 66.40625 \nQ 24.171875 66.40625 20.328125 58.90625 \nQ 16.5 51.421875 16.5 36.375 \nQ 16.5 21.390625 20.328125 13.890625 \nQ 24.171875 6.390625 31.78125 6.390625 \nQ 39.453125 6.390625 43.28125 13.890625 \nQ 47.125 21.390625 47.125 36.375 \nQ 47.125 51.421875 43.28125 58.90625 \nQ 39.453125 66.40625 31.78125 66.40625 \nz\nM 31.78125 74.21875 \nQ 44.046875 74.21875 50.515625 64.515625 \nQ 56.984375 54.828125 56.984375 36.375 \nQ 56.984375 17.96875 50.515625 8.265625 \nQ 44.046875 -1.421875 31.78125 -1.421875 \nQ 19.53125 -1.421875 13.0625 8.265625 \nQ 6.59375 17.96875 6.59375 36.375 \nQ 6.59375 54.828125 13.0625 64.515625 \nQ 19.53125 74.21875 31.78125 74.21875 \nz\n\" id=\"DejaVuSans-48\"/>\n       </defs>\n       <use xlink:href=\"#DejaVuSans-48\"/>\n      </g>\n     </g>\n    </g>\n    <g id=\"xtick_2\">\n     <g id=\"line2d_2\">\n      <g>\n       <use style=\"stroke:#000000;\" x=\"129.58198\" xlink:href=\"#m95527e76e1\" y=\"237.9345\"/>\n      </g>\n     </g>\n     <g id=\"text_2\">\n      <!-- 50 -->\n      <g transform=\"translate(123.98298 252.921125)scale(0.088 -0.088)\">\n       <defs>\n        <path d=\"M 10.796875 72.90625 \nL 49.515625 72.90625 \nL 49.515625 64.59375 \nL 19.828125 64.59375 \nL 19.828125 46.734375 \nQ 21.96875 47.46875 24.109375 47.828125 \nQ 26.265625 48.1875 28.421875 48.1875 \nQ 40.625 48.1875 47.75 41.5 \nQ 54.890625 34.8125 54.890625 23.390625 \nQ 54.890625 11.625 47.5625 5.09375 \nQ 40.234375 -1.421875 26.90625 -1.421875 \nQ 22.3125 -1.421875 17.546875 -0.640625 \nQ 12.796875 0.140625 7.71875 1.703125 \nL 7.71875 11.625 \nQ 12.109375 9.234375 16.796875 8.0625 \nQ 21.484375 6.890625 26.703125 6.890625 \nQ 35.15625 6.890625 40.078125 11.328125 \nQ 45.015625 15.765625 45.015625 23.390625 \nQ 45.015625 31 40.078125 35.4375 \nQ 35.15625 39.890625 26.703125 39.890625 \nQ 22.75 39.890625 18.8125 39.015625 \nQ 14.890625 38.140625 10.796875 36.28125 \nz\n\" id=\"DejaVuSans-53\"/>\n       </defs>\n       <use xlink:href=\"#DejaVuSans-53\"/>\n       <use x=\"63.623047\" xlink:href=\"#DejaVuSans-48\"/>\n      </g>\n     </g>\n    </g>\n    <g id=\"xtick_3\">\n     <g id=\"line2d_3\">\n      <g>\n       <use style=\"stroke:#000000;\" x=\"197.444552\" xlink:href=\"#m95527e76e1\" y=\"237.9345\"/>\n      </g>\n     </g>\n     <g id=\"text_3\">\n      <!-- 100 -->\n      <g transform=\"translate(189.046052 252.921125)scale(0.088 -0.088)\">\n       <defs>\n        <path d=\"M 12.40625 8.296875 \nL 28.515625 8.296875 \nL 28.515625 63.921875 \nL 10.984375 60.40625 \nL 10.984375 69.390625 \nL 28.421875 72.90625 \nL 38.28125 72.90625 \nL 38.28125 8.296875 \nL 54.390625 8.296875 \nL 54.390625 0 \nL 12.40625 0 \nz\n\" id=\"DejaVuSans-49\"/>\n       </defs>\n       <use xlink:href=\"#DejaVuSans-49\"/>\n       <use x=\"63.623047\" xlink:href=\"#DejaVuSans-48\"/>\n       <use x=\"127.246094\" xlink:href=\"#DejaVuSans-48\"/>\n      </g>\n     </g>\n    </g>\n    <g id=\"xtick_4\">\n     <g id=\"line2d_4\">\n      <g>\n       <use style=\"stroke:#000000;\" x=\"265.307124\" xlink:href=\"#m95527e76e1\" y=\"237.9345\"/>\n      </g>\n     </g>\n     <g id=\"text_4\">\n      <!-- 150 -->\n      <g transform=\"translate(256.908624 252.921125)scale(0.088 -0.088)\">\n       <use xlink:href=\"#DejaVuSans-49\"/>\n       <use x=\"63.623047\" xlink:href=\"#DejaVuSans-53\"/>\n       <use x=\"127.246094\" xlink:href=\"#DejaVuSans-48\"/>\n      </g>\n     </g>\n    </g>\n    <g id=\"xtick_5\">\n     <g id=\"line2d_5\">\n      <g>\n       <use style=\"stroke:#000000;\" x=\"333.169696\" xlink:href=\"#m95527e76e1\" y=\"237.9345\"/>\n      </g>\n     </g>\n     <g id=\"text_5\">\n      <!-- 200 -->\n      <g transform=\"translate(324.771196 252.921125)scale(0.088 -0.088)\">\n       <defs>\n        <path d=\"M 19.1875 8.296875 \nL 53.609375 8.296875 \nL 53.609375 0 \nL 7.328125 0 \nL 7.328125 8.296875 \nQ 12.9375 14.109375 22.625 23.890625 \nQ 32.328125 33.6875 34.8125 36.53125 \nQ 39.546875 41.84375 41.421875 45.53125 \nQ 43.3125 49.21875 43.3125 52.78125 \nQ 43.3125 58.59375 39.234375 62.25 \nQ 35.15625 65.921875 28.609375 65.921875 \nQ 23.96875 65.921875 18.8125 64.3125 \nQ 13.671875 62.703125 7.8125 59.421875 \nL 7.8125 69.390625 \nQ 13.765625 71.78125 18.9375 73 \nQ 24.125 74.21875 28.421875 74.21875 \nQ 39.75 74.21875 46.484375 68.546875 \nQ 53.21875 62.890625 53.21875 53.421875 \nQ 53.21875 48.921875 51.53125 44.890625 \nQ 49.859375 40.875 45.40625 35.40625 \nQ 44.1875 33.984375 37.640625 27.21875 \nQ 31.109375 20.453125 19.1875 8.296875 \nz\n\" id=\"DejaVuSans-50\"/>\n       </defs>\n       <use xlink:href=\"#DejaVuSans-50\"/>\n       <use x=\"63.623047\" xlink:href=\"#DejaVuSans-48\"/>\n       <use x=\"127.246094\" xlink:href=\"#DejaVuSans-48\"/>\n      </g>\n     </g>\n    </g>\n    <g id=\"xtick_6\">\n     <g id=\"line2d_6\">\n      <g>\n       <use style=\"stroke:#000000;\" x=\"401.032269\" xlink:href=\"#m95527e76e1\" y=\"237.9345\"/>\n      </g>\n     </g>\n     <g id=\"text_6\">\n      <!-- 250 -->\n      <g transform=\"translate(392.633769 252.921125)scale(0.088 -0.088)\">\n       <use xlink:href=\"#DejaVuSans-50\"/>\n       <use x=\"63.623047\" xlink:href=\"#DejaVuSans-53\"/>\n       <use x=\"127.246094\" xlink:href=\"#DejaVuSans-48\"/>\n      </g>\n     </g>\n    </g>\n    <g id=\"xtick_7\">\n     <g id=\"line2d_7\">\n      <g>\n       <use style=\"stroke:#000000;\" x=\"468.894841\" xlink:href=\"#m95527e76e1\" y=\"237.9345\"/>\n      </g>\n     </g>\n     <g id=\"text_7\">\n      <!-- 300 -->\n      <g transform=\"translate(460.496341 252.921125)scale(0.088 -0.088)\">\n       <defs>\n        <path d=\"M 40.578125 39.3125 \nQ 47.65625 37.796875 51.625 33 \nQ 55.609375 28.21875 55.609375 21.1875 \nQ 55.609375 10.40625 48.1875 4.484375 \nQ 40.765625 -1.421875 27.09375 -1.421875 \nQ 22.515625 -1.421875 17.65625 -0.515625 \nQ 12.796875 0.390625 7.625 2.203125 \nL 7.625 11.71875 \nQ 11.71875 9.328125 16.59375 8.109375 \nQ 21.484375 6.890625 26.8125 6.890625 \nQ 36.078125 6.890625 40.9375 10.546875 \nQ 45.796875 14.203125 45.796875 21.1875 \nQ 45.796875 27.640625 41.28125 31.265625 \nQ 36.765625 34.90625 28.71875 34.90625 \nL 20.21875 34.90625 \nL 20.21875 43.015625 \nL 29.109375 43.015625 \nQ 36.375 43.015625 40.234375 45.921875 \nQ 44.09375 48.828125 44.09375 54.296875 \nQ 44.09375 59.90625 40.109375 62.90625 \nQ 36.140625 65.921875 28.71875 65.921875 \nQ 24.65625 65.921875 20.015625 65.03125 \nQ 15.375 64.15625 9.8125 62.3125 \nL 9.8125 71.09375 \nQ 15.4375 72.65625 20.34375 73.4375 \nQ 25.25 74.21875 29.59375 74.21875 \nQ 40.828125 74.21875 47.359375 69.109375 \nQ 53.90625 64.015625 53.90625 55.328125 \nQ 53.90625 49.265625 50.4375 45.09375 \nQ 46.96875 40.921875 40.578125 39.3125 \nz\n\" id=\"DejaVuSans-51\"/>\n       </defs>\n       <use xlink:href=\"#DejaVuSans-51\"/>\n       <use x=\"63.623047\" xlink:href=\"#DejaVuSans-48\"/>\n       <use x=\"127.246094\" xlink:href=\"#DejaVuSans-48\"/>\n      </g>\n     </g>\n    </g>\n    <g id=\"text_8\">\n     <!-- iteration -->\n     <g transform=\"translate(245.708 266.04575)scale(0.096 -0.096)\">\n      <defs>\n       <path d=\"M 9.421875 54.6875 \nL 18.40625 54.6875 \nL 18.40625 0 \nL 9.421875 0 \nz\nM 9.421875 75.984375 \nL 18.40625 75.984375 \nL 18.40625 64.59375 \nL 9.421875 64.59375 \nz\n\" id=\"DejaVuSans-105\"/>\n       <path d=\"M 18.3125 70.21875 \nL 18.3125 54.6875 \nL 36.8125 54.6875 \nL 36.8125 47.703125 \nL 18.3125 47.703125 \nL 18.3125 18.015625 \nQ 18.3125 11.328125 20.140625 9.421875 \nQ 21.96875 7.515625 27.59375 7.515625 \nL 36.8125 7.515625 \nL 36.8125 0 \nL 27.59375 0 \nQ 17.1875 0 13.234375 3.875 \nQ 9.28125 7.765625 9.28125 18.015625 \nL 9.28125 47.703125 \nL 2.6875 47.703125 \nL 2.6875 54.6875 \nL 9.28125 54.6875 \nL 9.28125 70.21875 \nz\n\" id=\"DejaVuSans-116\"/>\n       <path d=\"M 56.203125 29.59375 \nL 56.203125 25.203125 \nL 14.890625 25.203125 \nQ 15.484375 15.921875 20.484375 11.0625 \nQ 25.484375 6.203125 34.421875 6.203125 \nQ 39.59375 6.203125 44.453125 7.46875 \nQ 49.3125 8.734375 54.109375 11.28125 \nL 54.109375 2.78125 \nQ 49.265625 0.734375 44.1875 -0.34375 \nQ 39.109375 -1.421875 33.890625 -1.421875 \nQ 20.796875 -1.421875 13.15625 6.1875 \nQ 5.515625 13.8125 5.515625 26.8125 \nQ 5.515625 40.234375 12.765625 48.109375 \nQ 20.015625 56 32.328125 56 \nQ 43.359375 56 49.78125 48.890625 \nQ 56.203125 41.796875 56.203125 29.59375 \nz\nM 47.21875 32.234375 \nQ 47.125 39.59375 43.09375 43.984375 \nQ 39.0625 48.390625 32.421875 48.390625 \nQ 24.90625 48.390625 20.390625 44.140625 \nQ 15.875 39.890625 15.1875 32.171875 \nz\n\" id=\"DejaVuSans-101\"/>\n       <path d=\"M 41.109375 46.296875 \nQ 39.59375 47.171875 37.8125 47.578125 \nQ 36.03125 48 33.890625 48 \nQ 26.265625 48 22.1875 43.046875 \nQ 18.109375 38.09375 18.109375 28.8125 \nL 18.109375 0 \nL 9.078125 0 \nL 9.078125 54.6875 \nL 18.109375 54.6875 \nL 18.109375 46.1875 \nQ 20.953125 51.171875 25.484375 53.578125 \nQ 30.03125 56 36.53125 56 \nQ 37.453125 56 38.578125 55.875 \nQ 39.703125 55.765625 41.0625 55.515625 \nz\n\" id=\"DejaVuSans-114\"/>\n       <path d=\"M 34.28125 27.484375 \nQ 23.390625 27.484375 19.1875 25 \nQ 14.984375 22.515625 14.984375 16.5 \nQ 14.984375 11.71875 18.140625 8.90625 \nQ 21.296875 6.109375 26.703125 6.109375 \nQ 34.1875 6.109375 38.703125 11.40625 \nQ 43.21875 16.703125 43.21875 25.484375 \nL 43.21875 27.484375 \nz\nM 52.203125 31.203125 \nL 52.203125 0 \nL 43.21875 0 \nL 43.21875 8.296875 \nQ 40.140625 3.328125 35.546875 0.953125 \nQ 30.953125 -1.421875 24.3125 -1.421875 \nQ 15.921875 -1.421875 10.953125 3.296875 \nQ 6 8.015625 6 15.921875 \nQ 6 25.140625 12.171875 29.828125 \nQ 18.359375 34.515625 30.609375 34.515625 \nL 43.21875 34.515625 \nL 43.21875 35.40625 \nQ 43.21875 41.609375 39.140625 45 \nQ 35.0625 48.390625 27.6875 48.390625 \nQ 23 48.390625 18.546875 47.265625 \nQ 14.109375 46.140625 10.015625 43.890625 \nL 10.015625 52.203125 \nQ 14.9375 54.109375 19.578125 55.046875 \nQ 24.21875 56 28.609375 56 \nQ 40.484375 56 46.34375 49.84375 \nQ 52.203125 43.703125 52.203125 31.203125 \nz\n\" id=\"DejaVuSans-97\"/>\n       <path d=\"M 30.609375 48.390625 \nQ 23.390625 48.390625 19.1875 42.75 \nQ 14.984375 37.109375 14.984375 27.296875 \nQ 14.984375 17.484375 19.15625 11.84375 \nQ 23.34375 6.203125 30.609375 6.203125 \nQ 37.796875 6.203125 41.984375 11.859375 \nQ 46.1875 17.53125 46.1875 27.296875 \nQ 46.1875 37.015625 41.984375 42.703125 \nQ 37.796875 48.390625 30.609375 48.390625 \nz\nM 30.609375 56 \nQ 42.328125 56 49.015625 48.375 \nQ 55.71875 40.765625 55.71875 27.296875 \nQ 55.71875 13.875 49.015625 6.21875 \nQ 42.328125 -1.421875 30.609375 -1.421875 \nQ 18.84375 -1.421875 12.171875 6.21875 \nQ 5.515625 13.875 5.515625 27.296875 \nQ 5.515625 40.765625 12.171875 48.375 \nQ 18.84375 56 30.609375 56 \nz\n\" id=\"DejaVuSans-111\"/>\n       <path d=\"M 54.890625 33.015625 \nL 54.890625 0 \nL 45.90625 0 \nL 45.90625 32.71875 \nQ 45.90625 40.484375 42.875 44.328125 \nQ 39.84375 48.1875 33.796875 48.1875 \nQ 26.515625 48.1875 22.3125 43.546875 \nQ 18.109375 38.921875 18.109375 30.90625 \nL 18.109375 0 \nL 9.078125 0 \nL 9.078125 54.6875 \nL 18.109375 54.6875 \nL 18.109375 46.1875 \nQ 21.34375 51.125 25.703125 53.5625 \nQ 30.078125 56 35.796875 56 \nQ 45.21875 56 50.046875 50.171875 \nQ 54.890625 44.34375 54.890625 33.015625 \nz\n\" id=\"DejaVuSans-110\"/>\n      </defs>\n      <use xlink:href=\"#DejaVuSans-105\"/>\n      <use x=\"27.783203\" xlink:href=\"#DejaVuSans-116\"/>\n      <use x=\"66.992188\" xlink:href=\"#DejaVuSans-101\"/>\n      <use x=\"128.515625\" xlink:href=\"#DejaVuSans-114\"/>\n      <use x=\"169.628906\" xlink:href=\"#DejaVuSans-97\"/>\n      <use x=\"230.908203\" xlink:href=\"#DejaVuSans-116\"/>\n      <use x=\"270.117188\" xlink:href=\"#DejaVuSans-105\"/>\n      <use x=\"297.900391\" xlink:href=\"#DejaVuSans-111\"/>\n      <use x=\"359.082031\" xlink:href=\"#DejaVuSans-110\"/>\n     </g>\n    </g>\n   </g>\n   <g id=\"matplotlib.axis_2\">\n    <g id=\"ytick_1\">\n     <g id=\"line2d_8\">\n      <defs>\n       <path d=\"M 0 0 \nL -4.8 0 \n\" id=\"m79224a1014\" style=\"stroke:#000000;\"/>\n      </defs>\n      <g>\n       <use style=\"stroke:#000000;\" x=\"42.78575\" xlink:href=\"#m79224a1014\" y=\"212.623233\"/>\n      </g>\n     </g>\n     <g id=\"text_9\">\n      <!-- 0.2 -->\n      <g transform=\"translate(20.491 215.966546)scale(0.088 -0.088)\">\n       <defs>\n        <path d=\"M 10.6875 12.40625 \nL 21 12.40625 \nL 21 0 \nL 10.6875 0 \nz\n\" id=\"DejaVuSans-46\"/>\n       </defs>\n       <use xlink:href=\"#DejaVuSans-48\"/>\n       <use x=\"63.623047\" xlink:href=\"#DejaVuSans-46\"/>\n       <use x=\"95.410156\" xlink:href=\"#DejaVuSans-50\"/>\n      </g>\n     </g>\n    </g>\n    <g id=\"ytick_2\">\n     <g id=\"line2d_9\">\n      <g>\n       <use style=\"stroke:#000000;\" x=\"42.78575\" xlink:href=\"#m79224a1014\" y=\"183.964895\"/>\n      </g>\n     </g>\n     <g id=\"text_10\">\n      <!-- 0.4 -->\n      <g transform=\"translate(20.491 187.308208)scale(0.088 -0.088)\">\n       <defs>\n        <path d=\"M 37.796875 64.3125 \nL 12.890625 25.390625 \nL 37.796875 25.390625 \nz\nM 35.203125 72.90625 \nL 47.609375 72.90625 \nL 47.609375 25.390625 \nL 58.015625 25.390625 \nL 58.015625 17.1875 \nL 47.609375 17.1875 \nL 47.609375 0 \nL 37.796875 0 \nL 37.796875 17.1875 \nL 4.890625 17.1875 \nL 4.890625 26.703125 \nz\n\" id=\"DejaVuSans-52\"/>\n       </defs>\n       <use xlink:href=\"#DejaVuSans-48\"/>\n       <use x=\"63.623047\" xlink:href=\"#DejaVuSans-46\"/>\n       <use x=\"95.410156\" xlink:href=\"#DejaVuSans-52\"/>\n      </g>\n     </g>\n    </g>\n    <g id=\"ytick_3\">\n     <g id=\"line2d_10\">\n      <g>\n       <use style=\"stroke:#000000;\" x=\"42.78575\" xlink:href=\"#m79224a1014\" y=\"155.306557\"/>\n      </g>\n     </g>\n     <g id=\"text_11\">\n      <!-- 0.6 -->\n      <g transform=\"translate(20.491 158.649869)scale(0.088 -0.088)\">\n       <defs>\n        <path d=\"M 33.015625 40.375 \nQ 26.375 40.375 22.484375 35.828125 \nQ 18.609375 31.296875 18.609375 23.390625 \nQ 18.609375 15.53125 22.484375 10.953125 \nQ 26.375 6.390625 33.015625 6.390625 \nQ 39.65625 6.390625 43.53125 10.953125 \nQ 47.40625 15.53125 47.40625 23.390625 \nQ 47.40625 31.296875 43.53125 35.828125 \nQ 39.65625 40.375 33.015625 40.375 \nz\nM 52.59375 71.296875 \nL 52.59375 62.3125 \nQ 48.875 64.0625 45.09375 64.984375 \nQ 41.3125 65.921875 37.59375 65.921875 \nQ 27.828125 65.921875 22.671875 59.328125 \nQ 17.53125 52.734375 16.796875 39.40625 \nQ 19.671875 43.65625 24.015625 45.921875 \nQ 28.375 48.1875 33.59375 48.1875 \nQ 44.578125 48.1875 50.953125 41.515625 \nQ 57.328125 34.859375 57.328125 23.390625 \nQ 57.328125 12.15625 50.6875 5.359375 \nQ 44.046875 -1.421875 33.015625 -1.421875 \nQ 20.359375 -1.421875 13.671875 8.265625 \nQ 6.984375 17.96875 6.984375 36.375 \nQ 6.984375 53.65625 15.1875 63.9375 \nQ 23.390625 74.21875 37.203125 74.21875 \nQ 40.921875 74.21875 44.703125 73.484375 \nQ 48.484375 72.75 52.59375 71.296875 \nz\n\" id=\"DejaVuSans-54\"/>\n       </defs>\n       <use xlink:href=\"#DejaVuSans-48\"/>\n       <use x=\"63.623047\" xlink:href=\"#DejaVuSans-46\"/>\n       <use x=\"95.410156\" xlink:href=\"#DejaVuSans-54\"/>\n      </g>\n     </g>\n    </g>\n    <g id=\"ytick_4\">\n     <g id=\"line2d_11\">\n      <g>\n       <use style=\"stroke:#000000;\" x=\"42.78575\" xlink:href=\"#m79224a1014\" y=\"126.648219\"/>\n      </g>\n     </g>\n     <g id=\"text_12\">\n      <!-- 0.8 -->\n      <g transform=\"translate(20.491 129.991531)scale(0.088 -0.088)\">\n       <defs>\n        <path d=\"M 31.78125 34.625 \nQ 24.75 34.625 20.71875 30.859375 \nQ 16.703125 27.09375 16.703125 20.515625 \nQ 16.703125 13.921875 20.71875 10.15625 \nQ 24.75 6.390625 31.78125 6.390625 \nQ 38.8125 6.390625 42.859375 10.171875 \nQ 46.921875 13.96875 46.921875 20.515625 \nQ 46.921875 27.09375 42.890625 30.859375 \nQ 38.875 34.625 31.78125 34.625 \nz\nM 21.921875 38.8125 \nQ 15.578125 40.375 12.03125 44.71875 \nQ 8.5 49.078125 8.5 55.328125 \nQ 8.5 64.0625 14.71875 69.140625 \nQ 20.953125 74.21875 31.78125 74.21875 \nQ 42.671875 74.21875 48.875 69.140625 \nQ 55.078125 64.0625 55.078125 55.328125 \nQ 55.078125 49.078125 51.53125 44.71875 \nQ 48 40.375 41.703125 38.8125 \nQ 48.828125 37.15625 52.796875 32.3125 \nQ 56.78125 27.484375 56.78125 20.515625 \nQ 56.78125 9.90625 50.3125 4.234375 \nQ 43.84375 -1.421875 31.78125 -1.421875 \nQ 19.734375 -1.421875 13.25 4.234375 \nQ 6.78125 9.90625 6.78125 20.515625 \nQ 6.78125 27.484375 10.78125 32.3125 \nQ 14.796875 37.15625 21.921875 38.8125 \nz\nM 18.3125 54.390625 \nQ 18.3125 48.734375 21.84375 45.5625 \nQ 25.390625 42.390625 31.78125 42.390625 \nQ 38.140625 42.390625 41.71875 45.5625 \nQ 45.3125 48.734375 45.3125 54.390625 \nQ 45.3125 60.0625 41.71875 63.234375 \nQ 38.140625 66.40625 31.78125 66.40625 \nQ 25.390625 66.40625 21.84375 63.234375 \nQ 18.3125 60.0625 18.3125 54.390625 \nz\n\" id=\"DejaVuSans-56\"/>\n       </defs>\n       <use xlink:href=\"#DejaVuSans-48\"/>\n       <use x=\"63.623047\" xlink:href=\"#DejaVuSans-46\"/>\n       <use x=\"95.410156\" xlink:href=\"#DejaVuSans-56\"/>\n      </g>\n     </g>\n    </g>\n    <g id=\"ytick_5\">\n     <g id=\"line2d_12\">\n      <g>\n       <use style=\"stroke:#000000;\" x=\"42.78575\" xlink:href=\"#m79224a1014\" y=\"97.989881\"/>\n      </g>\n     </g>\n     <g id=\"text_13\">\n      <!-- 1.0 -->\n      <g transform=\"translate(20.491 101.333193)scale(0.088 -0.088)\">\n       <use xlink:href=\"#DejaVuSans-49\"/>\n       <use x=\"63.623047\" xlink:href=\"#DejaVuSans-46\"/>\n       <use x=\"95.410156\" xlink:href=\"#DejaVuSans-48\"/>\n      </g>\n     </g>\n    </g>\n    <g id=\"ytick_6\">\n     <g id=\"line2d_13\">\n      <g>\n       <use style=\"stroke:#000000;\" x=\"42.78575\" xlink:href=\"#m79224a1014\" y=\"69.331542\"/>\n      </g>\n     </g>\n     <g id=\"text_14\">\n      <!-- 1.2 -->\n      <g transform=\"translate(20.491 72.674855)scale(0.088 -0.088)\">\n       <use xlink:href=\"#DejaVuSans-49\"/>\n       <use x=\"63.623047\" xlink:href=\"#DejaVuSans-46\"/>\n       <use x=\"95.410156\" xlink:href=\"#DejaVuSans-50\"/>\n      </g>\n     </g>\n    </g>\n    <g id=\"ytick_7\">\n     <g id=\"line2d_14\">\n      <g>\n       <use style=\"stroke:#000000;\" x=\"42.78575\" xlink:href=\"#m79224a1014\" y=\"40.673204\"/>\n      </g>\n     </g>\n     <g id=\"text_15\">\n      <!-- 1.4 -->\n      <g transform=\"translate(20.491 44.016517)scale(0.088 -0.088)\">\n       <use xlink:href=\"#DejaVuSans-49\"/>\n       <use x=\"63.623047\" xlink:href=\"#DejaVuSans-46\"/>\n       <use x=\"95.410156\" xlink:href=\"#DejaVuSans-52\"/>\n      </g>\n     </g>\n    </g>\n    <g id=\"text_16\">\n     <!-- Cost function -->\n     <g transform=\"translate(14.4945 161.01825)rotate(-90)scale(0.096 -0.096)\">\n      <defs>\n       <path d=\"M 64.40625 67.28125 \nL 64.40625 56.890625 \nQ 59.421875 61.53125 53.78125 63.8125 \nQ 48.140625 66.109375 41.796875 66.109375 \nQ 29.296875 66.109375 22.65625 58.46875 \nQ 16.015625 50.828125 16.015625 36.375 \nQ 16.015625 21.96875 22.65625 14.328125 \nQ 29.296875 6.6875 41.796875 6.6875 \nQ 48.140625 6.6875 53.78125 8.984375 \nQ 59.421875 11.28125 64.40625 15.921875 \nL 64.40625 5.609375 \nQ 59.234375 2.09375 53.4375 0.328125 \nQ 47.65625 -1.421875 41.21875 -1.421875 \nQ 24.65625 -1.421875 15.125 8.703125 \nQ 5.609375 18.84375 5.609375 36.375 \nQ 5.609375 53.953125 15.125 64.078125 \nQ 24.65625 74.21875 41.21875 74.21875 \nQ 47.75 74.21875 53.53125 72.484375 \nQ 59.328125 70.75 64.40625 67.28125 \nz\n\" id=\"DejaVuSans-67\"/>\n       <path d=\"M 44.28125 53.078125 \nL 44.28125 44.578125 \nQ 40.484375 46.53125 36.375 47.5 \nQ 32.28125 48.484375 27.875 48.484375 \nQ 21.1875 48.484375 17.84375 46.4375 \nQ 14.5 44.390625 14.5 40.28125 \nQ 14.5 37.15625 16.890625 35.375 \nQ 19.28125 33.59375 26.515625 31.984375 \nL 29.59375 31.296875 \nQ 39.15625 29.25 43.1875 25.515625 \nQ 47.21875 21.78125 47.21875 15.09375 \nQ 47.21875 7.46875 41.1875 3.015625 \nQ 35.15625 -1.421875 24.609375 -1.421875 \nQ 20.21875 -1.421875 15.453125 -0.5625 \nQ 10.6875 0.296875 5.421875 2 \nL 5.421875 11.28125 \nQ 10.40625 8.6875 15.234375 7.390625 \nQ 20.0625 6.109375 24.8125 6.109375 \nQ 31.15625 6.109375 34.5625 8.28125 \nQ 37.984375 10.453125 37.984375 14.40625 \nQ 37.984375 18.0625 35.515625 20.015625 \nQ 33.0625 21.96875 24.703125 23.78125 \nL 21.578125 24.515625 \nQ 13.234375 26.265625 9.515625 29.90625 \nQ 5.8125 33.546875 5.8125 39.890625 \nQ 5.8125 47.609375 11.28125 51.796875 \nQ 16.75 56 26.8125 56 \nQ 31.78125 56 36.171875 55.265625 \nQ 40.578125 54.546875 44.28125 53.078125 \nz\n\" id=\"DejaVuSans-115\"/>\n       <path id=\"DejaVuSans-32\"/>\n       <path d=\"M 37.109375 75.984375 \nL 37.109375 68.5 \nL 28.515625 68.5 \nQ 23.6875 68.5 21.796875 66.546875 \nQ 19.921875 64.59375 19.921875 59.515625 \nL 19.921875 54.6875 \nL 34.71875 54.6875 \nL 34.71875 47.703125 \nL 19.921875 47.703125 \nL 19.921875 0 \nL 10.890625 0 \nL 10.890625 47.703125 \nL 2.296875 47.703125 \nL 2.296875 54.6875 \nL 10.890625 54.6875 \nL 10.890625 58.5 \nQ 10.890625 67.625 15.140625 71.796875 \nQ 19.390625 75.984375 28.609375 75.984375 \nz\n\" id=\"DejaVuSans-102\"/>\n       <path d=\"M 8.5 21.578125 \nL 8.5 54.6875 \nL 17.484375 54.6875 \nL 17.484375 21.921875 \nQ 17.484375 14.15625 20.5 10.265625 \nQ 23.53125 6.390625 29.59375 6.390625 \nQ 36.859375 6.390625 41.078125 11.03125 \nQ 45.3125 15.671875 45.3125 23.6875 \nL 45.3125 54.6875 \nL 54.296875 54.6875 \nL 54.296875 0 \nL 45.3125 0 \nL 45.3125 8.40625 \nQ 42.046875 3.421875 37.71875 1 \nQ 33.40625 -1.421875 27.6875 -1.421875 \nQ 18.265625 -1.421875 13.375 4.4375 \nQ 8.5 10.296875 8.5 21.578125 \nz\nM 31.109375 56 \nz\n\" id=\"DejaVuSans-117\"/>\n       <path d=\"M 48.78125 52.59375 \nL 48.78125 44.1875 \nQ 44.96875 46.296875 41.140625 47.34375 \nQ 37.3125 48.390625 33.40625 48.390625 \nQ 24.65625 48.390625 19.8125 42.84375 \nQ 14.984375 37.3125 14.984375 27.296875 \nQ 14.984375 17.28125 19.8125 11.734375 \nQ 24.65625 6.203125 33.40625 6.203125 \nQ 37.3125 6.203125 41.140625 7.25 \nQ 44.96875 8.296875 48.78125 10.40625 \nL 48.78125 2.09375 \nQ 45.015625 0.34375 40.984375 -0.53125 \nQ 36.96875 -1.421875 32.421875 -1.421875 \nQ 20.0625 -1.421875 12.78125 6.34375 \nQ 5.515625 14.109375 5.515625 27.296875 \nQ 5.515625 40.671875 12.859375 48.328125 \nQ 20.21875 56 33.015625 56 \nQ 37.15625 56 41.109375 55.140625 \nQ 45.0625 54.296875 48.78125 52.59375 \nz\n\" id=\"DejaVuSans-99\"/>\n      </defs>\n      <use xlink:href=\"#DejaVuSans-67\"/>\n      <use x=\"69.824219\" xlink:href=\"#DejaVuSans-111\"/>\n      <use x=\"131.005859\" xlink:href=\"#DejaVuSans-115\"/>\n      <use x=\"183.105469\" xlink:href=\"#DejaVuSans-116\"/>\n      <use x=\"222.314453\" xlink:href=\"#DejaVuSans-32\"/>\n      <use x=\"254.101562\" xlink:href=\"#DejaVuSans-102\"/>\n      <use x=\"289.306641\" xlink:href=\"#DejaVuSans-117\"/>\n      <use x=\"352.685547\" xlink:href=\"#DejaVuSans-110\"/>\n      <use x=\"416.064453\" xlink:href=\"#DejaVuSans-99\"/>\n      <use x=\"471.044922\" xlink:href=\"#DejaVuSans-116\"/>\n      <use x=\"510.253906\" xlink:href=\"#DejaVuSans-105\"/>\n      <use x=\"538.037109\" xlink:href=\"#DejaVuSans-111\"/>\n      <use x=\"599.21875\" xlink:href=\"#DejaVuSans-110\"/>\n     </g>\n    </g>\n   </g>\n   <g id=\"line2d_15\">\n    <path clip-path=\"url(#p85b1ba3c8f)\" d=\"M 63.076659 80.454573 \nL 64.433911 74.983814 \nL 65.791162 68.084983 \nL 67.148413 58.832179 \nL 68.505665 48.072352 \nL 69.862916 38.235058 \nL 71.220168 31.986952 \nL 72.577419 30.378136 \nL 73.934671 32.14822 \nL 75.291922 35.51365 \nL 76.649174 39.686507 \nL 78.006425 44.510752 \nL 79.363676 49.892469 \nL 82.078179 62.015164 \nL 84.792682 75.7257 \nL 90.221688 104.45655 \nL 91.578939 110.723951 \nL 92.936191 116.367554 \nL 94.293442 121.403732 \nL 95.650694 125.897193 \nL 97.007945 129.929903 \nL 99.722448 136.92159 \nL 102.436951 142.877398 \nL 105.151454 148.111987 \nL 107.865957 152.810751 \nL 110.58046 157.083404 \nL 113.294963 160.998195 \nL 116.009465 164.601179 \nL 118.723968 167.926461 \nL 121.438471 171.001452 \nL 125.510226 175.194937 \nL 129.58198 178.94501 \nL 133.653734 182.309703 \nL 137.725489 185.339137 \nL 141.797243 188.07647 \nL 145.868997 190.558526 \nL 149.940752 192.816395 \nL 155.369757 195.522499 \nL 160.798763 197.92594 \nL 166.227769 200.066479 \nL 171.656775 201.976508 \nL 177.08578 203.683458 \nL 183.872038 205.568222 \nL 190.658295 207.216136 \nL 198.801804 208.936111 \nL 206.945312 210.433423 \nL 216.446072 211.970342 \nL 228.661335 213.713709 \nL 243.591101 215.599231 \nL 259.878119 217.415622 \nL 276.165136 219.007369 \nL 293.809405 220.501687 \nL 312.810925 221.87785 \nL 333.169696 223.128545 \nL 356.242971 224.320595 \nL 382.030748 225.430725 \nL 411.89028 226.49235 \nL 447.178818 227.516144 \nL 468.894841 228.050864 \nL 468.894841 228.050864 \n\" style=\"fill:none;stroke:#1f77b4;stroke-linecap:square;stroke-width:1.2;\"/>\n   </g>\n   <g id=\"patch_3\">\n    <path d=\"M 42.78575 237.9345 \nL 42.78575 20.4945 \n\" style=\"fill:none;stroke:#000000;stroke-linecap:square;stroke-linejoin:miter;\"/>\n   </g>\n   <g id=\"patch_4\">\n    <path d=\"M 489.18575 237.9345 \nL 489.18575 20.4945 \n\" style=\"fill:none;stroke:#000000;stroke-linecap:square;stroke-linejoin:miter;\"/>\n   </g>\n   <g id=\"patch_5\">\n    <path d=\"M 42.78575 237.9345 \nL 489.18575 237.9345 \n\" style=\"fill:none;stroke:#000000;stroke-linecap:square;stroke-linejoin:miter;\"/>\n   </g>\n   <g id=\"patch_6\">\n    <path d=\"M 42.78575 20.4945 \nL 489.18575 20.4945 \n\" style=\"fill:none;stroke:#000000;stroke-linecap:square;stroke-linejoin:miter;\"/>\n   </g>\n   <g id=\"text_17\">\n    <!-- cost over time -->\n    <g transform=\"translate(231.42725 14.4945)scale(0.096 -0.096)\">\n     <defs>\n      <path d=\"M 2.984375 54.6875 \nL 12.5 54.6875 \nL 29.59375 8.796875 \nL 46.6875 54.6875 \nL 56.203125 54.6875 \nL 35.6875 0 \nL 23.484375 0 \nz\n\" id=\"DejaVuSans-118\"/>\n      <path d=\"M 52 44.1875 \nQ 55.375 50.25 60.0625 53.125 \nQ 64.75 56 71.09375 56 \nQ 79.640625 56 84.28125 50.015625 \nQ 88.921875 44.046875 88.921875 33.015625 \nL 88.921875 0 \nL 79.890625 0 \nL 79.890625 32.71875 \nQ 79.890625 40.578125 77.09375 44.375 \nQ 74.3125 48.1875 68.609375 48.1875 \nQ 61.625 48.1875 57.5625 43.546875 \nQ 53.515625 38.921875 53.515625 30.90625 \nL 53.515625 0 \nL 44.484375 0 \nL 44.484375 32.71875 \nQ 44.484375 40.625 41.703125 44.40625 \nQ 38.921875 48.1875 33.109375 48.1875 \nQ 26.21875 48.1875 22.15625 43.53125 \nQ 18.109375 38.875 18.109375 30.90625 \nL 18.109375 0 \nL 9.078125 0 \nL 9.078125 54.6875 \nL 18.109375 54.6875 \nL 18.109375 46.1875 \nQ 21.1875 51.21875 25.484375 53.609375 \nQ 29.78125 56 35.6875 56 \nQ 41.65625 56 45.828125 52.96875 \nQ 50 49.953125 52 44.1875 \nz\n\" id=\"DejaVuSans-109\"/>\n     </defs>\n     <use xlink:href=\"#DejaVuSans-99\"/>\n     <use x=\"54.980469\" xlink:href=\"#DejaVuSans-111\"/>\n     <use x=\"116.162109\" xlink:href=\"#DejaVuSans-115\"/>\n     <use x=\"168.261719\" xlink:href=\"#DejaVuSans-116\"/>\n     <use x=\"207.470703\" xlink:href=\"#DejaVuSans-32\"/>\n     <use x=\"239.257812\" xlink:href=\"#DejaVuSans-111\"/>\n     <use x=\"300.439453\" xlink:href=\"#DejaVuSans-118\"/>\n     <use x=\"359.619141\" xlink:href=\"#DejaVuSans-101\"/>\n     <use x=\"421.142578\" xlink:href=\"#DejaVuSans-114\"/>\n     <use x=\"462.255859\" xlink:href=\"#DejaVuSans-32\"/>\n     <use x=\"494.042969\" xlink:href=\"#DejaVuSans-116\"/>\n     <use x=\"533.251953\" xlink:href=\"#DejaVuSans-105\"/>\n     <use x=\"561.035156\" xlink:href=\"#DejaVuSans-109\"/>\n     <use x=\"658.447266\" xlink:href=\"#DejaVuSans-101\"/>\n    </g>\n   </g>\n  </g>\n </g>\n <defs>\n  <clipPath id=\"p85b1ba3c8f\">\n   <rect height=\"217.44\" width=\"446.4\" x=\"42.78575\" y=\"20.4945\"/>\n  </clipPath>\n </defs>\n</svg>\n",
      "image/png": "[encoded data removed]"
     },
     "metadata": {
      "needs_background": "light"
     }
    }
   ],
   "source": [
    "sns.set_context('paper')\n",
    "fig = plt.figure(figsize=(8,4))\n",
    "ax = sns.lineplot(np.linspace(1,iterations_SM,iterations_SM),cost_softmax)\n",
    "ax.set_title('cost over time')\n",
    "ax.set_ylabel('Cost function')\n",
    "ax.set_xlabel('iteration')\n",
    "plt.show()"
   ]
  },
  {
   "source": [
    "Alright, does it predict things correctly?"
   ],
   "cell_type": "markdown",
   "metadata": {}
  },
  {
   "cell_type": "code",
   "execution_count": 528,
   "metadata": {},
   "outputs": [
    {
     "output_type": "execute_result",
     "data": {
      "text/plain": [
       "      0         1         2         3         4        5         6      \\\n",
       "0  0.997152  0.016499  0.025008  0.002055  0.031833  0.99897  0.076171   \n",
       "1  0.002848  0.983501  0.974992  0.997945  0.968167  0.00103  0.923829   \n",
       "\n",
       "      7         8         9      ...     12655     12656     12657     12658  \\\n",
       "0  0.821965  0.999794  0.999644  ...  0.846869  0.771639  0.124904  0.004924   \n",
       "1  0.178035  0.000206  0.000356  ...  0.153131  0.228361  0.875096  0.995076   \n",
       "\n",
       "      12659     12660     12661    12662     12663     12664  \n",
       "0  0.666298  0.958971  0.021422  0.00761  0.999643  0.027542  \n",
       "1  0.333702  0.041029  0.978578  0.99239  0.000357  0.972458  \n",
       "\n",
       "[2 rows x 12665 columns]"
      ],
      "text/html": "<div>\n<style scoped>\n    .dataframe tbody tr th:only-of-type {\n        vertical-align: middle;\n    }\n\n    .dataframe tbody tr th {\n        vertical-align: top;\n    }\n\n    .dataframe thead th {\n        text-align: right;\n    }\n</style>\n<table border=\"1\" class=\"dataframe\">\n  <thead>\n    <tr style=\"text-align: right;\">\n      <th></th>\n      <th>0</th>\n      <th>1</th>\n      <th>2</th>\n      <th>3</th>\n      <th>4</th>\n      <th>5</th>\n      <th>6</th>\n      <th>7</th>\n      <th>8</th>\n      <th>9</th>\n      <th>...</th>\n      <th>12655</th>\n      <th>12656</th>\n      <th>12657</th>\n      <th>12658</th>\n      <th>12659</th>\n      <th>12660</th>\n      <th>12661</th>\n      <th>12662</th>\n      <th>12663</th>\n      <th>12664</th>\n    </tr>\n  </thead>\n  <tbody>\n    <tr>\n      <th>0</th>\n      <td>0.997152</td>\n      <td>0.016499</td>\n      <td>0.025008</td>\n      <td>0.002055</td>\n      <td>0.031833</td>\n      <td>0.99897</td>\n      <td>0.076171</td>\n      <td>0.821965</td>\n      <td>0.999794</td>\n      <td>0.999644</td>\n      <td>...</td>\n      <td>0.846869</td>\n      <td>0.771639</td>\n      <td>0.124904</td>\n      <td>0.004924</td>\n      <td>0.666298</td>\n      <td>0.958971</td>\n      <td>0.021422</td>\n      <td>0.00761</td>\n      <td>0.999643</td>\n      <td>0.027542</td>\n    </tr>\n    <tr>\n      <th>1</th>\n      <td>0.002848</td>\n      <td>0.983501</td>\n      <td>0.974992</td>\n      <td>0.997945</td>\n      <td>0.968167</td>\n      <td>0.00103</td>\n      <td>0.923829</td>\n      <td>0.178035</td>\n      <td>0.000206</td>\n      <td>0.000356</td>\n      <td>...</td>\n      <td>0.153131</td>\n      <td>0.228361</td>\n      <td>0.875096</td>\n      <td>0.995076</td>\n      <td>0.333702</td>\n      <td>0.041029</td>\n      <td>0.978578</td>\n      <td>0.99239</td>\n      <td>0.000357</td>\n      <td>0.972458</td>\n    </tr>\n  </tbody>\n</table>\n<p>2 rows × 12665 columns</p>\n</div>"
     },
     "metadata": {},
     "execution_count": 528
    }
   ],
   "source": [
    "pd.DataFrame(dict_of_FP_values_softmax['A3'])"
   ]
  },
  {
   "cell_type": "code",
   "execution_count": 529,
   "metadata": {},
   "outputs": [],
   "source": [
    "predictions_softmax = dict_of_FP_values_softmax['A3'].T\n",
    "list_of_predictions = []\n",
    "for row in predictions_softmax:\n",
    "    max = np.amax(row)\n",
    "    for idx,col in enumerate(row):\n",
    "        if col == max:\n",
    "            list_of_predictions.append(idx)\n",
    "            break\n",
    "\n"
   ]
  },
  {
   "cell_type": "code",
   "execution_count": 532,
   "metadata": {},
   "outputs": [
    {
     "output_type": "stream",
     "name": "stdout",
     "text": [
      "[[0 1 1 ... 1 0 1]]\n[0, 1, 1, 1, 1, 0, 1, 0, 0, 0, 1, 0, 0, 1, 0, 1, 1, 0, 1, 1]\n"
     ]
    }
   ],
   "source": [
    "print(y_train_2[0:20])\n",
    "print(list_of_predictions[:20])"
   ]
  },
  {
   "cell_type": "code",
   "execution_count": 534,
   "metadata": {},
   "outputs": [],
   "source": [
    "#ok so we need now to compare the list of predcitions to the y values.list_of_prediction\n",
    "correct = 0\n",
    "incorrect = 0\n",
    "for prediction, true in zip(list_of_predictions,y_train_2[0]):\n",
    "    if prediction == true:\n",
    "        correct +=1\n",
    "    else:\n",
    "        incorrect +=1 \n"
   ]
  },
  {
   "cell_type": "code",
   "execution_count": 632,
   "metadata": {},
   "outputs": [
    {
     "output_type": "execute_result",
     "data": {
      "text/plain": [
       "350"
      ]
     },
     "metadata": {},
     "execution_count": 632
    }
   ],
   "source": [
    "incorrect"
   ]
  },
  {
   "cell_type": "code",
   "execution_count": null,
   "metadata": {},
   "outputs": [],
   "source": [
    "print(5)"
   ]
  },
  {
   "source": [
    "## END OF DOCUMENT\n",
    "\n",
    "Below here are just copy and paste from functions defined above, pasted here for ease of viewing when debugging"
   ],
   "cell_type": "markdown",
   "metadata": {}
  },
  {
   "cell_type": "code",
   "execution_count": null,
   "metadata": {},
   "outputs": [],
   "source": [
    "##just for reference back prop one layer\n",
    "\n",
    "def back_prop_one_layer_from_A_to_previous_A(cost_of_that_A, Z, prev_A,W):    \n",
    "        #going back from A to z\n",
    "        dAn_dZn = np.exp(-Z) / ((1+np.exp(-Z))**2)\n",
    "        dC_dZn = cost_of_that_A * dAn_dZn\n",
    "        \n",
    "        #get diffs at that layer\n",
    "        dZn_dWn = prev_A\n",
    "        dZn_dBn = np.zeros_like(Z) + 1\n",
    "\n",
    "        #combien to get useful differentials\n",
    "        dC_dWn = dC_dZn @ dZn_dWn.T\n",
    "        dC_dBn = np.sum(dC_dZn @ dZn_dBn.T,axis=1,keepdims=True) / dZn_dBn.shape[1]\n",
    "\n",
    "        #and then get the previous layer cost fuctions\n",
    "        dZn_dA_minus_one = W\n",
    "        dC_dA_minus_one = (dC_dZn.T @ dZn_dA_minus_one).T\n",
    "\n",
    "        return dC_dWn, dC_dBn, dC_dZn, dC_dA_minus_one"
   ]
  },
  {
   "cell_type": "code",
   "execution_count": null,
   "metadata": {},
   "outputs": [],
   "source": [
    "##just for reference forwardprop.\n",
    "\n",
    "def sigmoid(x):\n",
    "    return (1/(1+np.exp(-x)))\n",
    "\n",
    "dict_of_FP_values = {}\n",
    "#FORWARD PROPOGATION\n",
    "def sigmoid_forward_prop(previous_a, W, B):\n",
    "    Z = W @ previous_a + B\n",
    "    next_A = sigmoid(Z)\n",
    "    return Z, next_A\n",
    "\n"
   ]
  },
  {
   "cell_type": "code",
   "execution_count": null,
   "metadata": {},
   "outputs": [],
   "source": [
    "#just putting this here for reference / remidner.\n",
    "'''def gradient_descent_softmax(learning_rate, dict_of_weights, differentiat_dict):\n",
    "    \n",
    "    #we have dictionaries for the weights and the differentials, which we should be able to use quite easily here. They are also in order so we can kind of cheat... but let's not \n",
    "    for key, value in dict_of_weights.items():\n",
    "        dict_of_weights[key] += -learning_rate * differentiat_dict[f'd{key}']\n",
    "    \n",
    "    \n",
    "learning_rate = 0.1  #no idea if this is a good learning rate\n",
    "gradient_descent(learning_rate, dict_of_weights, differentiat_dict)'''"
   ]
  }
 ]
}