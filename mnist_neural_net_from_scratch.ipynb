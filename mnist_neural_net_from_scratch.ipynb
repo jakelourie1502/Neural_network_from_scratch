{
 "metadata": {
  "language_info": {
   "codemirror_mode": {
    "name": "ipython",
    "version": 3
   },
   "file_extension": ".py",
   "mimetype": "text/x-python",
   "name": "python",
   "nbconvert_exporter": "python",
   "pygments_lexer": "ipython3",
   "version": "3.8.5"
  },
  "orig_nbformat": 2,
  "kernelspec": {
   "name": "python385jvsc74a57bd03140f74d8e1d28421ccd34109d4bdb636d1200d25e7dadfa8785402db4096f74",
   "display_name": "Python 3.8.5 64-bit ('base': conda)"
  }
 },
 "nbformat": 4,
 "nbformat_minor": 2,
 "cells": [
  {
   "source": [
    "## Trying to build a full 3 layer neural net from scratch using MNIST data"
   ],
   "cell_type": "markdown",
   "metadata": {}
  },
  {
   "cell_type": "code",
   "execution_count": 7,
   "metadata": {},
   "outputs": [],
   "source": [
    "import tensorflow as tf\n",
    "import sys\n",
    "import numpy as np \n",
    "\n",
    "#From my own library\n",
    "from computer_vision.my_lib.blur_contrast import display_image"
   ]
  },
  {
   "cell_type": "code",
   "execution_count": 8,
   "metadata": {},
   "outputs": [],
   "source": [
    "sys.path.append('/Users/jacoblourie')"
   ]
  },
  {
   "cell_type": "code",
   "execution_count": 9,
   "metadata": {},
   "outputs": [],
   "source": [
    "#Load the dataset\n",
    "mnist = tf.keras.datasets.mnist\n",
    "(x_train, y_train), (x_test, y_test) = mnist.load_data()\n",
    "#x_train, x_test = x_train / 255.0, x_test / 255.0"
   ]
  },
  {
   "cell_type": "code",
   "execution_count": 10,
   "metadata": {},
   "outputs": [
    {
     "output_type": "display_data",
     "data": {
      "text/plain": "<Figure size 432x432 with 1 Axes>",
      "image/svg+xml": "<?xml version=\"1.0\" encoding=\"utf-8\" standalone=\"no\"?>\n<!DOCTYPE svg PUBLIC \"-//W3C//DTD SVG 1.1//EN\"\n  \"http://www.w3.org/Graphics/SVG/1.1/DTD/svg11.dtd\">\n<!-- Created with matplotlib (https://matplotlib.org/) -->\n<svg height=\"372.35625pt\" version=\"1.1\" viewBox=\"0 0 360.285 372.35625\" width=\"360.285pt\" xmlns=\"http://www.w3.org/2000/svg\" xmlns:xlink=\"http://www.w3.org/1999/xlink\">\n <metadata>\n  <rdf:RDF xmlns:cc=\"http://creativecommons.org/ns#\" xmlns:dc=\"http://purl.org/dc/elements/1.1/\" xmlns:rdf=\"http://www.w3.org/1999/02/22-rdf-syntax-ns#\">\n   <cc:Work>\n    <dc:type rdf:resource=\"http://purl.org/dc/dcmitype/StillImage\"/>\n    <dc:date>2021-04-29T10:59:15.176690</dc:date>\n    <dc:format>image/svg+xml</dc:format>\n    <dc:creator>\n     <cc:Agent>\n      <dc:title>Matplotlib v3.3.2, https://matplotlib.org/</dc:title>\n     </cc:Agent>\n    </dc:creator>\n   </cc:Work>\n  </rdf:RDF>\n </metadata>\n <defs>\n  <style type=\"text/css\">*{stroke-linecap:butt;stroke-linejoin:round;}</style>\n </defs>\n <g id=\"figure_1\">\n  <g id=\"patch_1\">\n   <path d=\"M 0 372.35625 \nL 360.285 372.35625 \nL 360.285 0 \nL 0 0 \nz\n\" style=\"fill:none;\"/>\n  </g>\n  <g id=\"axes_1\">\n   <g id=\"patch_2\">\n    <path d=\"M 26.925 348.478125 \nL 353.085 348.478125 \nL 353.085 22.318125 \nL 26.925 22.318125 \nz\n\" style=\"fill:#ffffff;\"/>\n   </g>\n   <g clip-path=\"url(#pd305b95274)\">\n    <image height=\"327\" id=\"image82962d5ab3\" transform=\"scale(1 -1)translate(0 -327)\" width=\"327\" x=\"26.925\" xlink:href=\"data:image/png;base64,\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\" y=\"-21.478125\"/>\n   </g>\n   <g id=\"matplotlib.axis_1\">\n    <g id=\"xtick_1\">\n     <g id=\"line2d_1\">\n      <defs>\n       <path d=\"M 0 0 \nL 0 3.5 \n\" id=\"m4546fb2dc8\" style=\"stroke:#000000;stroke-width:0.8;\"/>\n      </defs>\n      <g>\n       <use style=\"stroke:#000000;stroke-width:0.8;\" x=\"32.749286\" xlink:href=\"#m4546fb2dc8\" y=\"348.478125\"/>\n      </g>\n     </g>\n     <g id=\"text_1\">\n      <!-- 0 -->\n      <g transform=\"translate(29.568036 363.076563)scale(0.1 -0.1)\">\n       <defs>\n        <path d=\"M 31.78125 66.40625 \nQ 24.171875 66.40625 20.328125 58.90625 \nQ 16.5 51.421875 16.5 36.375 \nQ 16.5 21.390625 20.328125 13.890625 \nQ 24.171875 6.390625 31.78125 6.390625 \nQ 39.453125 6.390625 43.28125 13.890625 \nQ 47.125 21.390625 47.125 36.375 \nQ 47.125 51.421875 43.28125 58.90625 \nQ 39.453125 66.40625 31.78125 66.40625 \nz\nM 31.78125 74.21875 \nQ 44.046875 74.21875 50.515625 64.515625 \nQ 56.984375 54.828125 56.984375 36.375 \nQ 56.984375 17.96875 50.515625 8.265625 \nQ 44.046875 -1.421875 31.78125 -1.421875 \nQ 19.53125 -1.421875 13.0625 8.265625 \nQ 6.59375 17.96875 6.59375 36.375 \nQ 6.59375 54.828125 13.0625 64.515625 \nQ 19.53125 74.21875 31.78125 74.21875 \nz\n\" id=\"DejaVuSans-48\"/>\n       </defs>\n       <use xlink:href=\"#DejaVuSans-48\"/>\n      </g>\n     </g>\n    </g>\n    <g id=\"xtick_2\">\n     <g id=\"line2d_2\">\n      <g>\n       <use style=\"stroke:#000000;stroke-width:0.8;\" x=\"90.992143\" xlink:href=\"#m4546fb2dc8\" y=\"348.478125\"/>\n      </g>\n     </g>\n     <g id=\"text_2\">\n      <!-- 5 -->\n      <g transform=\"translate(87.810893 363.076563)scale(0.1 -0.1)\">\n       <defs>\n        <path d=\"M 10.796875 72.90625 \nL 49.515625 72.90625 \nL 49.515625 64.59375 \nL 19.828125 64.59375 \nL 19.828125 46.734375 \nQ 21.96875 47.46875 24.109375 47.828125 \nQ 26.265625 48.1875 28.421875 48.1875 \nQ 40.625 48.1875 47.75 41.5 \nQ 54.890625 34.8125 54.890625 23.390625 \nQ 54.890625 11.625 47.5625 5.09375 \nQ 40.234375 -1.421875 26.90625 -1.421875 \nQ 22.3125 -1.421875 17.546875 -0.640625 \nQ 12.796875 0.140625 7.71875 1.703125 \nL 7.71875 11.625 \nQ 12.109375 9.234375 16.796875 8.0625 \nQ 21.484375 6.890625 26.703125 6.890625 \nQ 35.15625 6.890625 40.078125 11.328125 \nQ 45.015625 15.765625 45.015625 23.390625 \nQ 45.015625 31 40.078125 35.4375 \nQ 35.15625 39.890625 26.703125 39.890625 \nQ 22.75 39.890625 18.8125 39.015625 \nQ 14.890625 38.140625 10.796875 36.28125 \nz\n\" id=\"DejaVuSans-53\"/>\n       </defs>\n       <use xlink:href=\"#DejaVuSans-53\"/>\n      </g>\n     </g>\n    </g>\n    <g id=\"xtick_3\">\n     <g id=\"line2d_3\">\n      <g>\n       <use style=\"stroke:#000000;stroke-width:0.8;\" x=\"149.235\" xlink:href=\"#m4546fb2dc8\" y=\"348.478125\"/>\n      </g>\n     </g>\n     <g id=\"text_3\">\n      <!-- 10 -->\n      <g transform=\"translate(142.8725 363.076563)scale(0.1 -0.1)\">\n       <defs>\n        <path d=\"M 12.40625 8.296875 \nL 28.515625 8.296875 \nL 28.515625 63.921875 \nL 10.984375 60.40625 \nL 10.984375 69.390625 \nL 28.421875 72.90625 \nL 38.28125 72.90625 \nL 38.28125 8.296875 \nL 54.390625 8.296875 \nL 54.390625 0 \nL 12.40625 0 \nz\n\" id=\"DejaVuSans-49\"/>\n       </defs>\n       <use xlink:href=\"#DejaVuSans-49\"/>\n       <use x=\"63.623047\" xlink:href=\"#DejaVuSans-48\"/>\n      </g>\n     </g>\n    </g>\n    <g id=\"xtick_4\">\n     <g id=\"line2d_4\">\n      <g>\n       <use style=\"stroke:#000000;stroke-width:0.8;\" x=\"207.477857\" xlink:href=\"#m4546fb2dc8\" y=\"348.478125\"/>\n      </g>\n     </g>\n     <g id=\"text_4\">\n      <!-- 15 -->\n      <g transform=\"translate(201.115357 363.076563)scale(0.1 -0.1)\">\n       <use xlink:href=\"#DejaVuSans-49\"/>\n       <use x=\"63.623047\" xlink:href=\"#DejaVuSans-53\"/>\n      </g>\n     </g>\n    </g>\n    <g id=\"xtick_5\">\n     <g id=\"line2d_5\">\n      <g>\n       <use style=\"stroke:#000000;stroke-width:0.8;\" x=\"265.720714\" xlink:href=\"#m4546fb2dc8\" y=\"348.478125\"/>\n      </g>\n     </g>\n     <g id=\"text_5\">\n      <!-- 20 -->\n      <g transform=\"translate(259.358214 363.076563)scale(0.1 -0.1)\">\n       <defs>\n        <path d=\"M 19.1875 8.296875 \nL 53.609375 8.296875 \nL 53.609375 0 \nL 7.328125 0 \nL 7.328125 8.296875 \nQ 12.9375 14.109375 22.625 23.890625 \nQ 32.328125 33.6875 34.8125 36.53125 \nQ 39.546875 41.84375 41.421875 45.53125 \nQ 43.3125 49.21875 43.3125 52.78125 \nQ 43.3125 58.59375 39.234375 62.25 \nQ 35.15625 65.921875 28.609375 65.921875 \nQ 23.96875 65.921875 18.8125 64.3125 \nQ 13.671875 62.703125 7.8125 59.421875 \nL 7.8125 69.390625 \nQ 13.765625 71.78125 18.9375 73 \nQ 24.125 74.21875 28.421875 74.21875 \nQ 39.75 74.21875 46.484375 68.546875 \nQ 53.21875 62.890625 53.21875 53.421875 \nQ 53.21875 48.921875 51.53125 44.890625 \nQ 49.859375 40.875 45.40625 35.40625 \nQ 44.1875 33.984375 37.640625 27.21875 \nQ 31.109375 20.453125 19.1875 8.296875 \nz\n\" id=\"DejaVuSans-50\"/>\n       </defs>\n       <use xlink:href=\"#DejaVuSans-50\"/>\n       <use x=\"63.623047\" xlink:href=\"#DejaVuSans-48\"/>\n      </g>\n     </g>\n    </g>\n    <g id=\"xtick_6\">\n     <g id=\"line2d_6\">\n      <g>\n       <use style=\"stroke:#000000;stroke-width:0.8;\" x=\"323.963571\" xlink:href=\"#m4546fb2dc8\" y=\"348.478125\"/>\n      </g>\n     </g>\n     <g id=\"text_6\">\n      <!-- 25 -->\n      <g transform=\"translate(317.601071 363.076563)scale(0.1 -0.1)\">\n       <use xlink:href=\"#DejaVuSans-50\"/>\n       <use x=\"63.623047\" xlink:href=\"#DejaVuSans-53\"/>\n      </g>\n     </g>\n    </g>\n   </g>\n   <g id=\"matplotlib.axis_2\">\n    <g id=\"ytick_1\">\n     <g id=\"line2d_7\">\n      <defs>\n       <path d=\"M 0 0 \nL -3.5 0 \n\" id=\"m278943e10c\" style=\"stroke:#000000;stroke-width:0.8;\"/>\n      </defs>\n      <g>\n       <use style=\"stroke:#000000;stroke-width:0.8;\" x=\"26.925\" xlink:href=\"#m278943e10c\" y=\"28.142411\"/>\n      </g>\n     </g>\n     <g id=\"text_7\">\n      <!-- 0 -->\n      <g transform=\"translate(13.5625 31.941629)scale(0.1 -0.1)\">\n       <use xlink:href=\"#DejaVuSans-48\"/>\n      </g>\n     </g>\n    </g>\n    <g id=\"ytick_2\">\n     <g id=\"line2d_8\">\n      <g>\n       <use style=\"stroke:#000000;stroke-width:0.8;\" x=\"26.925\" xlink:href=\"#m278943e10c\" y=\"86.385268\"/>\n      </g>\n     </g>\n     <g id=\"text_8\">\n      <!-- 5 -->\n      <g transform=\"translate(13.5625 90.184487)scale(0.1 -0.1)\">\n       <use xlink:href=\"#DejaVuSans-53\"/>\n      </g>\n     </g>\n    </g>\n    <g id=\"ytick_3\">\n     <g id=\"line2d_9\">\n      <g>\n       <use style=\"stroke:#000000;stroke-width:0.8;\" x=\"26.925\" xlink:href=\"#m278943e10c\" y=\"144.628125\"/>\n      </g>\n     </g>\n     <g id=\"text_9\">\n      <!-- 10 -->\n      <g transform=\"translate(7.2 148.427344)scale(0.1 -0.1)\">\n       <use xlink:href=\"#DejaVuSans-49\"/>\n       <use x=\"63.623047\" xlink:href=\"#DejaVuSans-48\"/>\n      </g>\n     </g>\n    </g>\n    <g id=\"ytick_4\">\n     <g id=\"line2d_10\">\n      <g>\n       <use style=\"stroke:#000000;stroke-width:0.8;\" x=\"26.925\" xlink:href=\"#m278943e10c\" y=\"202.870982\"/>\n      </g>\n     </g>\n     <g id=\"text_10\">\n      <!-- 15 -->\n      <g transform=\"translate(7.2 206.670201)scale(0.1 -0.1)\">\n       <use xlink:href=\"#DejaVuSans-49\"/>\n       <use x=\"63.623047\" xlink:href=\"#DejaVuSans-53\"/>\n      </g>\n     </g>\n    </g>\n    <g id=\"ytick_5\">\n     <g id=\"line2d_11\">\n      <g>\n       <use style=\"stroke:#000000;stroke-width:0.8;\" x=\"26.925\" xlink:href=\"#m278943e10c\" y=\"261.113839\"/>\n      </g>\n     </g>\n     <g id=\"text_11\">\n      <!-- 20 -->\n      <g transform=\"translate(7.2 264.913058)scale(0.1 -0.1)\">\n       <use xlink:href=\"#DejaVuSans-50\"/>\n       <use x=\"63.623047\" xlink:href=\"#DejaVuSans-48\"/>\n      </g>\n     </g>\n    </g>\n    <g id=\"ytick_6\">\n     <g id=\"line2d_12\">\n      <g>\n       <use style=\"stroke:#000000;stroke-width:0.8;\" x=\"26.925\" xlink:href=\"#m278943e10c\" y=\"319.356696\"/>\n      </g>\n     </g>\n     <g id=\"text_12\">\n      <!-- 25 -->\n      <g transform=\"translate(7.2 323.155915)scale(0.1 -0.1)\">\n       <use xlink:href=\"#DejaVuSans-50\"/>\n       <use x=\"63.623047\" xlink:href=\"#DejaVuSans-53\"/>\n      </g>\n     </g>\n    </g>\n   </g>\n   <g id=\"patch_3\">\n    <path d=\"M 26.925 348.478125 \nL 26.925 22.318125 \n\" style=\"fill:none;stroke:#000000;stroke-linecap:square;stroke-linejoin:miter;stroke-width:0.8;\"/>\n   </g>\n   <g id=\"patch_4\">\n    <path d=\"M 353.085 348.478125 \nL 353.085 22.318125 \n\" style=\"fill:none;stroke:#000000;stroke-linecap:square;stroke-linejoin:miter;stroke-width:0.8;\"/>\n   </g>\n   <g id=\"patch_5\">\n    <path d=\"M 26.925 348.478125 \nL 353.085 348.478125 \n\" style=\"fill:none;stroke:#000000;stroke-linecap:square;stroke-linejoin:miter;stroke-width:0.8;\"/>\n   </g>\n   <g id=\"patch_6\">\n    <path d=\"M 26.925 22.318125 \nL 353.085 22.318125 \n\" style=\"fill:none;stroke:#000000;stroke-linecap:square;stroke-linejoin:miter;stroke-width:0.8;\"/>\n   </g>\n   <g id=\"text_13\">\n    <!-- first image -->\n    <g transform=\"translate(157.685625 16.318125)scale(0.12 -0.12)\">\n     <defs>\n      <path d=\"M 37.109375 75.984375 \nL 37.109375 68.5 \nL 28.515625 68.5 \nQ 23.6875 68.5 21.796875 66.546875 \nQ 19.921875 64.59375 19.921875 59.515625 \nL 19.921875 54.6875 \nL 34.71875 54.6875 \nL 34.71875 47.703125 \nL 19.921875 47.703125 \nL 19.921875 0 \nL 10.890625 0 \nL 10.890625 47.703125 \nL 2.296875 47.703125 \nL 2.296875 54.6875 \nL 10.890625 54.6875 \nL 10.890625 58.5 \nQ 10.890625 67.625 15.140625 71.796875 \nQ 19.390625 75.984375 28.609375 75.984375 \nz\n\" id=\"DejaVuSans-102\"/>\n      <path d=\"M 9.421875 54.6875 \nL 18.40625 54.6875 \nL 18.40625 0 \nL 9.421875 0 \nz\nM 9.421875 75.984375 \nL 18.40625 75.984375 \nL 18.40625 64.59375 \nL 9.421875 64.59375 \nz\n\" id=\"DejaVuSans-105\"/>\n      <path d=\"M 41.109375 46.296875 \nQ 39.59375 47.171875 37.8125 47.578125 \nQ 36.03125 48 33.890625 48 \nQ 26.265625 48 22.1875 43.046875 \nQ 18.109375 38.09375 18.109375 28.8125 \nL 18.109375 0 \nL 9.078125 0 \nL 9.078125 54.6875 \nL 18.109375 54.6875 \nL 18.109375 46.1875 \nQ 20.953125 51.171875 25.484375 53.578125 \nQ 30.03125 56 36.53125 56 \nQ 37.453125 56 38.578125 55.875 \nQ 39.703125 55.765625 41.0625 55.515625 \nz\n\" id=\"DejaVuSans-114\"/>\n      <path d=\"M 44.28125 53.078125 \nL 44.28125 44.578125 \nQ 40.484375 46.53125 36.375 47.5 \nQ 32.28125 48.484375 27.875 48.484375 \nQ 21.1875 48.484375 17.84375 46.4375 \nQ 14.5 44.390625 14.5 40.28125 \nQ 14.5 37.15625 16.890625 35.375 \nQ 19.28125 33.59375 26.515625 31.984375 \nL 29.59375 31.296875 \nQ 39.15625 29.25 43.1875 25.515625 \nQ 47.21875 21.78125 47.21875 15.09375 \nQ 47.21875 7.46875 41.1875 3.015625 \nQ 35.15625 -1.421875 24.609375 -1.421875 \nQ 20.21875 -1.421875 15.453125 -0.5625 \nQ 10.6875 0.296875 5.421875 2 \nL 5.421875 11.28125 \nQ 10.40625 8.6875 15.234375 7.390625 \nQ 20.0625 6.109375 24.8125 6.109375 \nQ 31.15625 6.109375 34.5625 8.28125 \nQ 37.984375 10.453125 37.984375 14.40625 \nQ 37.984375 18.0625 35.515625 20.015625 \nQ 33.0625 21.96875 24.703125 23.78125 \nL 21.578125 24.515625 \nQ 13.234375 26.265625 9.515625 29.90625 \nQ 5.8125 33.546875 5.8125 39.890625 \nQ 5.8125 47.609375 11.28125 51.796875 \nQ 16.75 56 26.8125 56 \nQ 31.78125 56 36.171875 55.265625 \nQ 40.578125 54.546875 44.28125 53.078125 \nz\n\" id=\"DejaVuSans-115\"/>\n      <path d=\"M 18.3125 70.21875 \nL 18.3125 54.6875 \nL 36.8125 54.6875 \nL 36.8125 47.703125 \nL 18.3125 47.703125 \nL 18.3125 18.015625 \nQ 18.3125 11.328125 20.140625 9.421875 \nQ 21.96875 7.515625 27.59375 7.515625 \nL 36.8125 7.515625 \nL 36.8125 0 \nL 27.59375 0 \nQ 17.1875 0 13.234375 3.875 \nQ 9.28125 7.765625 9.28125 18.015625 \nL 9.28125 47.703125 \nL 2.6875 47.703125 \nL 2.6875 54.6875 \nL 9.28125 54.6875 \nL 9.28125 70.21875 \nz\n\" id=\"DejaVuSans-116\"/>\n      <path id=\"DejaVuSans-32\"/>\n      <path d=\"M 52 44.1875 \nQ 55.375 50.25 60.0625 53.125 \nQ 64.75 56 71.09375 56 \nQ 79.640625 56 84.28125 50.015625 \nQ 88.921875 44.046875 88.921875 33.015625 \nL 88.921875 0 \nL 79.890625 0 \nL 79.890625 32.71875 \nQ 79.890625 40.578125 77.09375 44.375 \nQ 74.3125 48.1875 68.609375 48.1875 \nQ 61.625 48.1875 57.5625 43.546875 \nQ 53.515625 38.921875 53.515625 30.90625 \nL 53.515625 0 \nL 44.484375 0 \nL 44.484375 32.71875 \nQ 44.484375 40.625 41.703125 44.40625 \nQ 38.921875 48.1875 33.109375 48.1875 \nQ 26.21875 48.1875 22.15625 43.53125 \nQ 18.109375 38.875 18.109375 30.90625 \nL 18.109375 0 \nL 9.078125 0 \nL 9.078125 54.6875 \nL 18.109375 54.6875 \nL 18.109375 46.1875 \nQ 21.1875 51.21875 25.484375 53.609375 \nQ 29.78125 56 35.6875 56 \nQ 41.65625 56 45.828125 52.96875 \nQ 50 49.953125 52 44.1875 \nz\n\" id=\"DejaVuSans-109\"/>\n      <path d=\"M 34.28125 27.484375 \nQ 23.390625 27.484375 19.1875 25 \nQ 14.984375 22.515625 14.984375 16.5 \nQ 14.984375 11.71875 18.140625 8.90625 \nQ 21.296875 6.109375 26.703125 6.109375 \nQ 34.1875 6.109375 38.703125 11.40625 \nQ 43.21875 16.703125 43.21875 25.484375 \nL 43.21875 27.484375 \nz\nM 52.203125 31.203125 \nL 52.203125 0 \nL 43.21875 0 \nL 43.21875 8.296875 \nQ 40.140625 3.328125 35.546875 0.953125 \nQ 30.953125 -1.421875 24.3125 -1.421875 \nQ 15.921875 -1.421875 10.953125 3.296875 \nQ 6 8.015625 6 15.921875 \nQ 6 25.140625 12.171875 29.828125 \nQ 18.359375 34.515625 30.609375 34.515625 \nL 43.21875 34.515625 \nL 43.21875 35.40625 \nQ 43.21875 41.609375 39.140625 45 \nQ 35.0625 48.390625 27.6875 48.390625 \nQ 23 48.390625 18.546875 47.265625 \nQ 14.109375 46.140625 10.015625 43.890625 \nL 10.015625 52.203125 \nQ 14.9375 54.109375 19.578125 55.046875 \nQ 24.21875 56 28.609375 56 \nQ 40.484375 56 46.34375 49.84375 \nQ 52.203125 43.703125 52.203125 31.203125 \nz\n\" id=\"DejaVuSans-97\"/>\n      <path d=\"M 45.40625 27.984375 \nQ 45.40625 37.75 41.375 43.109375 \nQ 37.359375 48.484375 30.078125 48.484375 \nQ 22.859375 48.484375 18.828125 43.109375 \nQ 14.796875 37.75 14.796875 27.984375 \nQ 14.796875 18.265625 18.828125 12.890625 \nQ 22.859375 7.515625 30.078125 7.515625 \nQ 37.359375 7.515625 41.375 12.890625 \nQ 45.40625 18.265625 45.40625 27.984375 \nz\nM 54.390625 6.78125 \nQ 54.390625 -7.171875 48.1875 -13.984375 \nQ 42 -20.796875 29.203125 -20.796875 \nQ 24.46875 -20.796875 20.265625 -20.09375 \nQ 16.0625 -19.390625 12.109375 -17.921875 \nL 12.109375 -9.1875 \nQ 16.0625 -11.328125 19.921875 -12.34375 \nQ 23.78125 -13.375 27.78125 -13.375 \nQ 36.625 -13.375 41.015625 -8.765625 \nQ 45.40625 -4.15625 45.40625 5.171875 \nL 45.40625 9.625 \nQ 42.625 4.78125 38.28125 2.390625 \nQ 33.9375 0 27.875 0 \nQ 17.828125 0 11.671875 7.65625 \nQ 5.515625 15.328125 5.515625 27.984375 \nQ 5.515625 40.671875 11.671875 48.328125 \nQ 17.828125 56 27.875 56 \nQ 33.9375 56 38.28125 53.609375 \nQ 42.625 51.21875 45.40625 46.390625 \nL 45.40625 54.6875 \nL 54.390625 54.6875 \nz\n\" id=\"DejaVuSans-103\"/>\n      <path d=\"M 56.203125 29.59375 \nL 56.203125 25.203125 \nL 14.890625 25.203125 \nQ 15.484375 15.921875 20.484375 11.0625 \nQ 25.484375 6.203125 34.421875 6.203125 \nQ 39.59375 6.203125 44.453125 7.46875 \nQ 49.3125 8.734375 54.109375 11.28125 \nL 54.109375 2.78125 \nQ 49.265625 0.734375 44.1875 -0.34375 \nQ 39.109375 -1.421875 33.890625 -1.421875 \nQ 20.796875 -1.421875 13.15625 6.1875 \nQ 5.515625 13.8125 5.515625 26.8125 \nQ 5.515625 40.234375 12.765625 48.109375 \nQ 20.015625 56 32.328125 56 \nQ 43.359375 56 49.78125 48.890625 \nQ 56.203125 41.796875 56.203125 29.59375 \nz\nM 47.21875 32.234375 \nQ 47.125 39.59375 43.09375 43.984375 \nQ 39.0625 48.390625 32.421875 48.390625 \nQ 24.90625 48.390625 20.390625 44.140625 \nQ 15.875 39.890625 15.1875 32.171875 \nz\n\" id=\"DejaVuSans-101\"/>\n     </defs>\n     <use xlink:href=\"#DejaVuSans-102\"/>\n     <use x=\"35.205078\" xlink:href=\"#DejaVuSans-105\"/>\n     <use x=\"62.988281\" xlink:href=\"#DejaVuSans-114\"/>\n     <use x=\"104.101562\" xlink:href=\"#DejaVuSans-115\"/>\n     <use x=\"156.201172\" xlink:href=\"#DejaVuSans-116\"/>\n     <use x=\"195.410156\" xlink:href=\"#DejaVuSans-32\"/>\n     <use x=\"227.197266\" xlink:href=\"#DejaVuSans-105\"/>\n     <use x=\"254.980469\" xlink:href=\"#DejaVuSans-109\"/>\n     <use x=\"352.392578\" xlink:href=\"#DejaVuSans-97\"/>\n     <use x=\"413.671875\" xlink:href=\"#DejaVuSans-103\"/>\n     <use x=\"477.148438\" xlink:href=\"#DejaVuSans-101\"/>\n    </g>\n   </g>\n  </g>\n </g>\n <defs>\n  <clipPath id=\"pd305b95274\">\n   <rect height=\"326.16\" width=\"326.16\" x=\"26.925\" y=\"22.318125\"/>\n  </clipPath>\n </defs>\n</svg>\n",
      "image/png": "[encoded data removed]"
     },
     "metadata": {
      "needs_background": "light"
     }
    }
   ],
   "source": [
    "#see what an image looks like\n",
    "display_image(x_train[1],'first image', size=(6,6))"
   ]
  },
  {
   "source": [
    "We want to run a 1/0 model, so let's label all \"1\"s as 1, and everything else as 0"
   ],
   "cell_type": "markdown",
   "metadata": {}
  },
  {
   "cell_type": "code",
   "execution_count": 11,
   "metadata": {},
   "outputs": [],
   "source": [
    "binary_y_train = np.array([1 if y == 1 else 0 for y in y_train])\n",
    "binary_y_test = np.array([1 if y == 1 else 0 for y in y_test])"
   ]
  },
  {
   "source": [
    "Let's go for 2 hidden layers, of 50 and 50 levels and let's just use sigmoid functions for now"
   ],
   "cell_type": "markdown",
   "metadata": {}
  },
  {
   "cell_type": "code",
   "execution_count": 12,
   "metadata": {},
   "outputs": [
    {
     "output_type": "stream",
     "name": "stdout",
     "text": [
      "(784, 10000)\n"
     ]
    }
   ],
   "source": [
    "#this helps much simpler\n",
    "x_train_flat = x_train.reshape((60000,-1)).T\n",
    "x_test_flat = x_test.reshape((10000,-1)).T\n",
    "print(x_test_flat.shape)\n",
    "y_train_transp = y_train.reshape(1,-1)\n",
    "y_test_transp = y_test.reshape(1,-1)\n",
    "\n",
    "#Create the binary model\n",
    "bin_y_train = binary_y_train.reshape(1,-1)\n",
    "bin_y_test = binary_y_test.reshape(1,-1)\n"
   ]
  },
  {
   "cell_type": "code",
   "execution_count": 13,
   "metadata": {},
   "outputs": [
    {
     "output_type": "stream",
     "name": "stdout",
     "text": [
      "Weights matrices\nW1 (50, 784)\nW2 (50, 50)\nW3 (1, 50)\nBiases\nB1 (50, 1)\nB2 (50, 1)\nB3 (1, 1)\n"
     ]
    }
   ],
   "source": [
    "#Let's create the 'weights' matrices\n",
    "np.random_state = 112\n",
    "layer_1 = 50\n",
    "layer_2 = 50\n",
    "size_of_layer = [x_train_flat.shape[0], layer_1,layer_2, 1]\n",
    "dict_of_matrices = {}\n",
    "dict_of_biases = {}\n",
    "\n",
    "for layer in range(len(size_of_layer) - 1):\n",
    "    dict_of_matrices[f\"W{layer+1}\"] = np.random.randn(size_of_layer[layer+1],size_of_layer[layer])\n",
    "    dict_of_biases[f\"B{layer+1}\"] = np.random.randn(size_of_layer[layer+1],1)\n",
    "#Print the sizes of the matrix\n",
    "print(f\"Weights matrices\")\n",
    "for name, matrix in dict_of_matrices.items():\n",
    "    print(name, matrix.shape)\n",
    "\n",
    "print(f\"Biases\")\n",
    "for name, matrix in dict_of_biases.items():\n",
    "    print(name, matrix.shape)"
   ]
  },
  {
   "source": [
    "OK we've gone with a gaussian initialisation of the matrices. We'll come back to this"
   ],
   "cell_type": "markdown",
   "metadata": {}
  },
  {
   "cell_type": "code",
   "execution_count": 77,
   "metadata": {},
   "outputs": [
    {
     "output_type": "stream",
     "name": "stderr",
     "text": [
      "<ipython-input-77-aec1858ea069>:5: RuntimeWarning: overflow encountered in exp\n  return (1/(1+np.exp(-x)))\n"
     ]
    }
   ],
   "source": [
    "#FORWARD PROPOGATION\n",
    "\n",
    "#we'll use this function a lot\n",
    "def sigmoid(x):\n",
    "    return (1/(1+np.exp(-x)))\n",
    "\n",
    "#let's create the first level\n",
    "Z1 = dict_of_matrices['W1'] @ x_train_flat + dict_of_biases['B1']\n",
    "A1 = sigmoid(Z1)\n",
    "\n",
    "#Then second level\n",
    "Z2 = dict_of_matrices['W2'] @ A1 + dict_of_biases['B2']\n",
    "A2 = sigmoid(Z2)\n",
    "\n",
    "#Then output level\n",
    "\n",
    "Z3 = dict_of_matrices['W3'] @ A2 + dict_of_biases['B3']\n",
    "A3 = sigmoid(Z3)\n"
   ]
  },
  {
   "cell_type": "code",
   "execution_count": 78,
   "metadata": {},
   "outputs": [
    {
     "output_type": "execute_result",
     "data": {
      "text/plain": [
       "(50, 60000)"
      ]
     },
     "metadata": {},
     "execution_count": 78
    }
   ],
   "source": [
    "Z2.shape"
   ]
  },
  {
   "source": [
    "#Now let's create the cost function"
   ],
   "cell_type": "markdown",
   "metadata": {}
  },
  {
   "cell_type": "code",
   "execution_count": 15,
   "metadata": {},
   "outputs": [
    {
     "output_type": "stream",
     "name": "stdout",
     "text": [
      "[0.39671828]\n"
     ]
    }
   ],
   "source": [
    "#We'll use v. basic, none logged cost function for now\n",
    "Cost = ((bin_y_train - A3) @ np.transpose(bin_y_train - A3) / A3.size )[0]\n",
    "print(Cost)"
   ]
  },
  {
   "source": [
    "## Great, so now we need to do back propogation.\n",
    "\n",
    "differential of sigmoid is "
   ],
   "cell_type": "markdown",
   "metadata": {}
  },
  {
   "cell_type": "code",
   "execution_count": 110,
   "metadata": {},
   "outputs": [],
   "source": [
    "W1, W2, W3 = dict_of_matrices.values()\n",
    "B1, B2, B3 = dict_of_biases.values()\n",
    "\n",
    "'''Let's look at W3 and B3 first'''\n",
    "#dC / dB = dC/dA * dA/dZ * dZ / dB\n",
    "#dC / dW = dC/dA * dA/dZ * dZ / dW\n",
    "\n",
    "#GO BACK ONE LAYER\n",
    "dC_dA3 = 2*(A3 - bin_y_train)/A3.size #gives 1 by m matrix\n",
    "dA3_dZ3 = np.exp(-Z3) / ((1+np.exp(-Z3))**2) #still gives 1 x m matrix\n",
    "dC_dZ3 = dC_dA3 * dA3_dZ3 #still a 1 x m matirx\n",
    "\n",
    "#Get differentials at first layer\n",
    "dZ3_dW3 = A2 #should be a 50 x m matrix (all a values)\n",
    "dZ3_dB3 = np.zeros_like((Z3)) + 1 #we need a 1 x m matrix\n",
    "\n",
    "'''First useful differentials'''\n",
    "dC_dW3 = dC_dZ3 @ dZ3_dW3.T \n",
    "dC_dB3 = dC_dZ3 @ dZ3_dB3.T"
   ]
  },
  {
   "cell_type": "code",
   "execution_count": 111,
   "metadata": {
    "tags": []
   },
   "outputs": [
    {
     "output_type": "execute_result",
     "data": {
      "text/plain": [
       "(1, 60000)"
      ]
     },
     "metadata": {},
     "execution_count": 111
    }
   ],
   "source": [
    "Z3.shape"
   ]
  },
  {
   "source": [
    "Worth nothing, that everything is positive - this kind of makes sense because right now the dumb model can be improved by just setting everything to 0 (as only 10% of outputs are \"1\")\n",
    "\n",
    "Let's keep going back through the differentials"
   ],
   "cell_type": "markdown",
   "metadata": {}
  },
  {
   "cell_type": "code",
   "execution_count": 117,
   "metadata": {},
   "outputs": [],
   "source": [
    "#first, get the A2 layer\n",
    "#dC / dA2 ~ dC/DZ3 * dZ3 / dA2\n",
    "dZ3_dA2 =  W3 # z = WA + b. 1 x 50\n",
    "dC_dA2 = (dC_dZ3.T @ dZ3_dA2).T #50 rows, each column is back to being a training example, and there are W2.column_size rows.\n",
    "\n",
    "#then repeat the back_prop from before\n",
    "dA2_dZ2 = np.exp(-Z2) / ((1+np.exp(-Z2))**2) #still gives 50 x m\n",
    "dC_dZ2 = dC_dA2 * dA2_dZ2 #still a 50 x m\n",
    "\n",
    "dZ2_dW2 = A1 # which is now 50 x m (A1 also 50 x m)\n",
    "dZ2_dB2 = np.zeros_like((Z2)) + 1 #we need a 50 x 1 matrix\n",
    "\n",
    "'''Second useful differentials'''\n",
    "dC_dW2 = dC_dZ2 @ dZ2_dW2.T  #W2 is 50x 50. dC_dZ2 is a 50 x m , by dz2_dw2 which is a 50xm, but tranpose\n",
    "dC_dB2 = np.sum(dC_dZ2 @ dZ2_dB2.T,axis=1,keepdims=True)\n",
    "\n"
   ]
  },
  {
   "cell_type": "code",
   "execution_count": 122,
   "metadata": {},
   "outputs": [
    {
     "output_type": "stream",
     "name": "stdout",
     "text": [
      "(50, 50)\n(1, 50)\n(50, 60000)\n(50, 60000)\n(50, 60000)\n(50, 60000)\n[[-1.37067023e-01]\n [ 2.04463687e-01]\n [-1.70030127e-04]\n [-2.42275240e-01]\n [-2.92847746e-01]\n [-8.68131605e-02]\n [ 5.32091245e-01]\n [ 6.66202949e-02]\n [-1.93101601e-01]\n [ 1.79458899e-01]\n [-4.22450924e-01]\n [ 8.21230490e-02]\n [-1.24152909e+00]\n [-3.37163159e-01]\n [ 7.51613444e-02]\n [ 7.45289635e-03]\n [-2.41152198e-01]\n [ 3.23960516e-02]\n [-3.59331488e-01]\n [-3.84712157e-02]\n [ 7.92505684e-03]\n [-2.49587042e-01]\n [-6.89678445e-02]\n [ 2.27399071e-01]\n [-8.65749829e-01]\n [-8.29479918e-01]\n [ 6.69630900e-02]\n [ 7.14210407e-01]\n [-3.33945327e-01]\n [ 3.76645100e-01]\n [-8.46709907e-02]\n [-1.85060635e+00]\n [-2.28353422e+00]\n [ 2.19238712e-01]\n [-4.50288962e-01]\n [ 3.24044105e-01]\n [ 5.67913349e-01]\n [ 4.44704047e-01]\n [ 3.78659836e-01]\n [ 5.78568334e-01]\n [-3.52850209e-02]\n [ 5.64097110e-01]\n [-6.50604062e-01]\n [ 5.81594052e-01]\n [-2.32693133e-01]\n [-2.48312291e-01]\n [ 7.78029047e-01]\n [-1.53743234e-02]\n [ 1.16401257e+00]\n [ 8.45775156e-01]]\n"
     ]
    }
   ],
   "source": [
    "print(dC_dW2.shape)\n",
    "print(dZ3_dA2.shape)\n",
    "print(dC_dA2.shape)\n",
    "print(dC_dZ2.shape)\n",
    "print(dZ2_dB2.shape)\n",
    "print(dZ2_dW2.shape)\n",
    "print(dC_dB2)"
   ]
  },
  {
   "cell_type": "code",
   "execution_count": 71,
   "metadata": {},
   "outputs": [
    {
     "output_type": "execute_result",
     "data": {
      "text/plain": [
       "(50, 60000)"
      ]
     },
     "metadata": {},
     "execution_count": 71
    }
   ],
   "source": [
    "dZ2_dB2.shape"
   ]
  },
  {
   "cell_type": "code",
   "execution_count": null,
   "metadata": {},
   "outputs": [],
   "source": []
  }
 ]
}