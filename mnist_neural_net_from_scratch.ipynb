{
 "metadata": {
  "language_info": {
   "codemirror_mode": {
    "name": "ipython",
    "version": 3
   },
   "file_extension": ".py",
   "mimetype": "text/x-python",
   "name": "python",
   "nbconvert_exporter": "python",
   "pygments_lexer": "ipython3",
   "version": "3.8.5"
  },
  "orig_nbformat": 2,
  "kernelspec": {
   "name": "python385jvsc74a57bd03140f74d8e1d28421ccd34109d4bdb636d1200d25e7dadfa8785402db4096f74",
   "display_name": "Python 3.8.5 64-bit ('base': conda)"
  },
  "metadata": {
   "interpreter": {
    "hash": "ae44bc0eae4a697e13956773fab0a10687b55ffe583901dc88e01866ea6f570f"
   }
  }
 },
 "nbformat": 4,
 "nbformat_minor": 2,
 "cells": [
  {
   "cell_type": "code",
   "execution_count": 1,
   "metadata": {},
   "outputs": [],
   "source": [
    "sys.path.append('/Users/jacoblourie')"
   ]
  },
  {
   "cell_type": "code",
   "execution_count": 243,
   "metadata": {},
   "outputs": [],
   "source": [
    "import tensorflow as tf\n",
    "import sys\n",
    "import numpy as np \n",
    "import matplotlib.pyplot as plt\n",
    "import seaborn as sns\n",
    "#From my own library\n",
    "from computer_vision.my_lib.blur_contrast import display_image\n",
    "import pandas as pd"
   ]
  },
  {
   "source": [
    "## Trying to build a full 3 layer neural net from scratch using MNIST data"
   ],
   "cell_type": "markdown",
   "metadata": {}
  },
  {
   "cell_type": "code",
   "execution_count": 244,
   "metadata": {},
   "outputs": [],
   "source": [
    "#Load the dataset\n",
    "mnist = tf.keras.datasets.mnist\n",
    "(x_train, y_train), (x_test, y_test) = mnist.load_data()\n",
    "\n",
    "\n",
    "#need to make it smaller though\n",
    "# x_train = x_train[0:10000]\n",
    "# y_train = y_train[0:10000]"
   ]
  },
  {
   "cell_type": "code",
   "execution_count": 629,
   "metadata": {},
   "outputs": [
    {
     "output_type": "display_data",
     "data": {
      "text/plain": "<Figure size 432x432 with 1 Axes>",
      "image/svg+xml": "<?xml version=\"1.0\" encoding=\"utf-8\" standalone=\"no\"?>\n<!DOCTYPE svg PUBLIC \"-//W3C//DTD SVG 1.1//EN\"\n  \"http://www.w3.org/Graphics/SVG/1.1/DTD/svg11.dtd\">\n<!-- Created with matplotlib (https://matplotlib.org/) -->\n<svg height=\"370.67125pt\" version=\"1.1\" viewBox=\"0 0 360.058 370.67125\" width=\"360.058pt\" xmlns=\"http://www.w3.org/2000/svg\" xmlns:xlink=\"http://www.w3.org/1999/xlink\">\n <metadata>\n  <rdf:RDF xmlns:cc=\"http://creativecommons.org/ns#\" xmlns:dc=\"http://purl.org/dc/elements/1.1/\" xmlns:rdf=\"http://www.w3.org/1999/02/22-rdf-syntax-ns#\">\n   <cc:Work>\n    <dc:type rdf:resource=\"http://purl.org/dc/dcmitype/StillImage\"/>\n    <dc:date>2021-05-05T20:58:56.857085</dc:date>\n    <dc:format>image/svg+xml</dc:format>\n    <dc:creator>\n     <cc:Agent>\n      <dc:title>Matplotlib v3.3.2, https://matplotlib.org/</dc:title>\n     </cc:Agent>\n    </dc:creator>\n   </cc:Work>\n  </rdf:RDF>\n </metadata>\n <defs>\n  <style type=\"text/css\">*{stroke-linecap:butt;stroke-linejoin:round;}</style>\n </defs>\n <g id=\"figure_1\">\n  <g id=\"patch_1\">\n   <path d=\"M 0 370.67125 \nL 360.058 370.67125 \nL 360.058 0 \nL 0 0 \nz\n\" style=\"fill:none;\"/>\n  </g>\n  <g id=\"axes_1\">\n   <g id=\"patch_2\">\n    <path d=\"M 26.698 346.6545 \nL 352.858 346.6545 \nL 352.858 20.4945 \nL 26.698 20.4945 \nz\n\" style=\"fill:#ffffff;\"/>\n   </g>\n   <g clip-path=\"url(#pee0985b1bb)\">\n    <image height=\"327\" id=\"image92c1371448\" transform=\"scale(1 -1)translate(0 -327)\" width=\"327\" x=\"26.698\" xlink:href=\"data:image/png;base64,\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\" y=\"-19.6545\"/>\n   </g>\n   <g id=\"matplotlib.axis_1\">\n    <g id=\"xtick_1\">\n     <g id=\"line2d_1\">\n      <defs>\n       <path d=\"M 0 0 \nL 0 4.8 \n\" id=\"m1abe0d778a\" style=\"stroke:#000000;\"/>\n      </defs>\n      <g>\n       <use style=\"stroke:#000000;\" x=\"32.522286\" xlink:href=\"#m1abe0d778a\" y=\"346.6545\"/>\n      </g>\n     </g>\n     <g id=\"text_1\">\n      <!-- 0 -->\n      <g transform=\"translate(29.722786 361.641125)scale(0.088 -0.088)\">\n       <defs>\n        <path d=\"M 31.78125 66.40625 \nQ 24.171875 66.40625 20.328125 58.90625 \nQ 16.5 51.421875 16.5 36.375 \nQ 16.5 21.390625 20.328125 13.890625 \nQ 24.171875 6.390625 31.78125 6.390625 \nQ 39.453125 6.390625 43.28125 13.890625 \nQ 47.125 21.390625 47.125 36.375 \nQ 47.125 51.421875 43.28125 58.90625 \nQ 39.453125 66.40625 31.78125 66.40625 \nz\nM 31.78125 74.21875 \nQ 44.046875 74.21875 50.515625 64.515625 \nQ 56.984375 54.828125 56.984375 36.375 \nQ 56.984375 17.96875 50.515625 8.265625 \nQ 44.046875 -1.421875 31.78125 -1.421875 \nQ 19.53125 -1.421875 13.0625 8.265625 \nQ 6.59375 17.96875 6.59375 36.375 \nQ 6.59375 54.828125 13.0625 64.515625 \nQ 19.53125 74.21875 31.78125 74.21875 \nz\n\" id=\"DejaVuSans-48\"/>\n       </defs>\n       <use xlink:href=\"#DejaVuSans-48\"/>\n      </g>\n     </g>\n    </g>\n    <g id=\"xtick_2\">\n     <g id=\"line2d_2\">\n      <g>\n       <use style=\"stroke:#000000;\" x=\"90.765143\" xlink:href=\"#m1abe0d778a\" y=\"346.6545\"/>\n      </g>\n     </g>\n     <g id=\"text_2\">\n      <!-- 5 -->\n      <g transform=\"translate(87.965643 361.641125)scale(0.088 -0.088)\">\n       <defs>\n        <path d=\"M 10.796875 72.90625 \nL 49.515625 72.90625 \nL 49.515625 64.59375 \nL 19.828125 64.59375 \nL 19.828125 46.734375 \nQ 21.96875 47.46875 24.109375 47.828125 \nQ 26.265625 48.1875 28.421875 48.1875 \nQ 40.625 48.1875 47.75 41.5 \nQ 54.890625 34.8125 54.890625 23.390625 \nQ 54.890625 11.625 47.5625 5.09375 \nQ 40.234375 -1.421875 26.90625 -1.421875 \nQ 22.3125 -1.421875 17.546875 -0.640625 \nQ 12.796875 0.140625 7.71875 1.703125 \nL 7.71875 11.625 \nQ 12.109375 9.234375 16.796875 8.0625 \nQ 21.484375 6.890625 26.703125 6.890625 \nQ 35.15625 6.890625 40.078125 11.328125 \nQ 45.015625 15.765625 45.015625 23.390625 \nQ 45.015625 31 40.078125 35.4375 \nQ 35.15625 39.890625 26.703125 39.890625 \nQ 22.75 39.890625 18.8125 39.015625 \nQ 14.890625 38.140625 10.796875 36.28125 \nz\n\" id=\"DejaVuSans-53\"/>\n       </defs>\n       <use xlink:href=\"#DejaVuSans-53\"/>\n      </g>\n     </g>\n    </g>\n    <g id=\"xtick_3\">\n     <g id=\"line2d_3\">\n      <g>\n       <use style=\"stroke:#000000;\" x=\"149.008\" xlink:href=\"#m1abe0d778a\" y=\"346.6545\"/>\n      </g>\n     </g>\n     <g id=\"text_3\">\n      <!-- 10 -->\n      <g transform=\"translate(143.409 361.641125)scale(0.088 -0.088)\">\n       <defs>\n        <path d=\"M 12.40625 8.296875 \nL 28.515625 8.296875 \nL 28.515625 63.921875 \nL 10.984375 60.40625 \nL 10.984375 69.390625 \nL 28.421875 72.90625 \nL 38.28125 72.90625 \nL 38.28125 8.296875 \nL 54.390625 8.296875 \nL 54.390625 0 \nL 12.40625 0 \nz\n\" id=\"DejaVuSans-49\"/>\n       </defs>\n       <use xlink:href=\"#DejaVuSans-49\"/>\n       <use x=\"63.623047\" xlink:href=\"#DejaVuSans-48\"/>\n      </g>\n     </g>\n    </g>\n    <g id=\"xtick_4\">\n     <g id=\"line2d_4\">\n      <g>\n       <use style=\"stroke:#000000;\" x=\"207.250857\" xlink:href=\"#m1abe0d778a\" y=\"346.6545\"/>\n      </g>\n     </g>\n     <g id=\"text_4\">\n      <!-- 15 -->\n      <g transform=\"translate(201.651857 361.641125)scale(0.088 -0.088)\">\n       <use xlink:href=\"#DejaVuSans-49\"/>\n       <use x=\"63.623047\" xlink:href=\"#DejaVuSans-53\"/>\n      </g>\n     </g>\n    </g>\n    <g id=\"xtick_5\">\n     <g id=\"line2d_5\">\n      <g>\n       <use style=\"stroke:#000000;\" x=\"265.493714\" xlink:href=\"#m1abe0d778a\" y=\"346.6545\"/>\n      </g>\n     </g>\n     <g id=\"text_5\">\n      <!-- 20 -->\n      <g transform=\"translate(259.894714 361.641125)scale(0.088 -0.088)\">\n       <defs>\n        <path d=\"M 19.1875 8.296875 \nL 53.609375 8.296875 \nL 53.609375 0 \nL 7.328125 0 \nL 7.328125 8.296875 \nQ 12.9375 14.109375 22.625 23.890625 \nQ 32.328125 33.6875 34.8125 36.53125 \nQ 39.546875 41.84375 41.421875 45.53125 \nQ 43.3125 49.21875 43.3125 52.78125 \nQ 43.3125 58.59375 39.234375 62.25 \nQ 35.15625 65.921875 28.609375 65.921875 \nQ 23.96875 65.921875 18.8125 64.3125 \nQ 13.671875 62.703125 7.8125 59.421875 \nL 7.8125 69.390625 \nQ 13.765625 71.78125 18.9375 73 \nQ 24.125 74.21875 28.421875 74.21875 \nQ 39.75 74.21875 46.484375 68.546875 \nQ 53.21875 62.890625 53.21875 53.421875 \nQ 53.21875 48.921875 51.53125 44.890625 \nQ 49.859375 40.875 45.40625 35.40625 \nQ 44.1875 33.984375 37.640625 27.21875 \nQ 31.109375 20.453125 19.1875 8.296875 \nz\n\" id=\"DejaVuSans-50\"/>\n       </defs>\n       <use xlink:href=\"#DejaVuSans-50\"/>\n       <use x=\"63.623047\" xlink:href=\"#DejaVuSans-48\"/>\n      </g>\n     </g>\n    </g>\n    <g id=\"xtick_6\">\n     <g id=\"line2d_6\">\n      <g>\n       <use style=\"stroke:#000000;\" x=\"323.736571\" xlink:href=\"#m1abe0d778a\" y=\"346.6545\"/>\n      </g>\n     </g>\n     <g id=\"text_6\">\n      <!-- 25 -->\n      <g transform=\"translate(318.137571 361.641125)scale(0.088 -0.088)\">\n       <use xlink:href=\"#DejaVuSans-50\"/>\n       <use x=\"63.623047\" xlink:href=\"#DejaVuSans-53\"/>\n      </g>\n     </g>\n    </g>\n   </g>\n   <g id=\"matplotlib.axis_2\">\n    <g id=\"ytick_1\">\n     <g id=\"line2d_7\">\n      <defs>\n       <path d=\"M 0 0 \nL -4.8 0 \n\" id=\"m3203cb5136\" style=\"stroke:#000000;\"/>\n      </defs>\n      <g>\n       <use style=\"stroke:#000000;\" x=\"26.698\" xlink:href=\"#m3203cb5136\" y=\"26.318786\"/>\n      </g>\n     </g>\n     <g id=\"text_7\">\n      <!-- 0 -->\n      <g transform=\"translate(12.799 29.662098)scale(0.088 -0.088)\">\n       <use xlink:href=\"#DejaVuSans-48\"/>\n      </g>\n     </g>\n    </g>\n    <g id=\"ytick_2\">\n     <g id=\"line2d_8\">\n      <g>\n       <use style=\"stroke:#000000;\" x=\"26.698\" xlink:href=\"#m3203cb5136\" y=\"84.561643\"/>\n      </g>\n     </g>\n     <g id=\"text_8\">\n      <!-- 5 -->\n      <g transform=\"translate(12.799 87.904955)scale(0.088 -0.088)\">\n       <use xlink:href=\"#DejaVuSans-53\"/>\n      </g>\n     </g>\n    </g>\n    <g id=\"ytick_3\">\n     <g id=\"line2d_9\">\n      <g>\n       <use style=\"stroke:#000000;\" x=\"26.698\" xlink:href=\"#m3203cb5136\" y=\"142.8045\"/>\n      </g>\n     </g>\n     <g id=\"text_9\">\n      <!-- 10 -->\n      <g transform=\"translate(7.2 146.147812)scale(0.088 -0.088)\">\n       <use xlink:href=\"#DejaVuSans-49\"/>\n       <use x=\"63.623047\" xlink:href=\"#DejaVuSans-48\"/>\n      </g>\n     </g>\n    </g>\n    <g id=\"ytick_4\">\n     <g id=\"line2d_10\">\n      <g>\n       <use style=\"stroke:#000000;\" x=\"26.698\" xlink:href=\"#m3203cb5136\" y=\"201.047357\"/>\n      </g>\n     </g>\n     <g id=\"text_10\">\n      <!-- 15 -->\n      <g transform=\"translate(7.2 204.39067)scale(0.088 -0.088)\">\n       <use xlink:href=\"#DejaVuSans-49\"/>\n       <use x=\"63.623047\" xlink:href=\"#DejaVuSans-53\"/>\n      </g>\n     </g>\n    </g>\n    <g id=\"ytick_5\">\n     <g id=\"line2d_11\">\n      <g>\n       <use style=\"stroke:#000000;\" x=\"26.698\" xlink:href=\"#m3203cb5136\" y=\"259.290214\"/>\n      </g>\n     </g>\n     <g id=\"text_11\">\n      <!-- 20 -->\n      <g transform=\"translate(7.2 262.633527)scale(0.088 -0.088)\">\n       <use xlink:href=\"#DejaVuSans-50\"/>\n       <use x=\"63.623047\" xlink:href=\"#DejaVuSans-48\"/>\n      </g>\n     </g>\n    </g>\n    <g id=\"ytick_6\">\n     <g id=\"line2d_12\">\n      <g>\n       <use style=\"stroke:#000000;\" x=\"26.698\" xlink:href=\"#m3203cb5136\" y=\"317.533071\"/>\n      </g>\n     </g>\n     <g id=\"text_12\">\n      <!-- 25 -->\n      <g transform=\"translate(7.2 320.876384)scale(0.088 -0.088)\">\n       <use xlink:href=\"#DejaVuSans-50\"/>\n       <use x=\"63.623047\" xlink:href=\"#DejaVuSans-53\"/>\n      </g>\n     </g>\n    </g>\n   </g>\n   <g id=\"patch_3\">\n    <path d=\"M 26.698 346.6545 \nL 26.698 20.4945 \n\" style=\"fill:none;stroke:#000000;stroke-linecap:square;stroke-linejoin:miter;\"/>\n   </g>\n   <g id=\"patch_4\">\n    <path d=\"M 352.858 346.6545 \nL 352.858 20.4945 \n\" style=\"fill:none;stroke:#000000;stroke-linecap:square;stroke-linejoin:miter;\"/>\n   </g>\n   <g id=\"patch_5\">\n    <path d=\"M 26.698 346.6545 \nL 352.858 346.6545 \n\" style=\"fill:none;stroke:#000000;stroke-linecap:square;stroke-linejoin:miter;\"/>\n   </g>\n   <g id=\"patch_6\">\n    <path d=\"M 26.698 20.4945 \nL 352.858 20.4945 \n\" style=\"fill:none;stroke:#000000;stroke-linecap:square;stroke-linejoin:miter;\"/>\n   </g>\n   <g id=\"text_13\">\n    <!-- first image -->\n    <g transform=\"translate(163.9225 14.4945)scale(0.096 -0.096)\">\n     <defs>\n      <path d=\"M 37.109375 75.984375 \nL 37.109375 68.5 \nL 28.515625 68.5 \nQ 23.6875 68.5 21.796875 66.546875 \nQ 19.921875 64.59375 19.921875 59.515625 \nL 19.921875 54.6875 \nL 34.71875 54.6875 \nL 34.71875 47.703125 \nL 19.921875 47.703125 \nL 19.921875 0 \nL 10.890625 0 \nL 10.890625 47.703125 \nL 2.296875 47.703125 \nL 2.296875 54.6875 \nL 10.890625 54.6875 \nL 10.890625 58.5 \nQ 10.890625 67.625 15.140625 71.796875 \nQ 19.390625 75.984375 28.609375 75.984375 \nz\n\" id=\"DejaVuSans-102\"/>\n      <path d=\"M 9.421875 54.6875 \nL 18.40625 54.6875 \nL 18.40625 0 \nL 9.421875 0 \nz\nM 9.421875 75.984375 \nL 18.40625 75.984375 \nL 18.40625 64.59375 \nL 9.421875 64.59375 \nz\n\" id=\"DejaVuSans-105\"/>\n      <path d=\"M 41.109375 46.296875 \nQ 39.59375 47.171875 37.8125 47.578125 \nQ 36.03125 48 33.890625 48 \nQ 26.265625 48 22.1875 43.046875 \nQ 18.109375 38.09375 18.109375 28.8125 \nL 18.109375 0 \nL 9.078125 0 \nL 9.078125 54.6875 \nL 18.109375 54.6875 \nL 18.109375 46.1875 \nQ 20.953125 51.171875 25.484375 53.578125 \nQ 30.03125 56 36.53125 56 \nQ 37.453125 56 38.578125 55.875 \nQ 39.703125 55.765625 41.0625 55.515625 \nz\n\" id=\"DejaVuSans-114\"/>\n      <path d=\"M 44.28125 53.078125 \nL 44.28125 44.578125 \nQ 40.484375 46.53125 36.375 47.5 \nQ 32.28125 48.484375 27.875 48.484375 \nQ 21.1875 48.484375 17.84375 46.4375 \nQ 14.5 44.390625 14.5 40.28125 \nQ 14.5 37.15625 16.890625 35.375 \nQ 19.28125 33.59375 26.515625 31.984375 \nL 29.59375 31.296875 \nQ 39.15625 29.25 43.1875 25.515625 \nQ 47.21875 21.78125 47.21875 15.09375 \nQ 47.21875 7.46875 41.1875 3.015625 \nQ 35.15625 -1.421875 24.609375 -1.421875 \nQ 20.21875 -1.421875 15.453125 -0.5625 \nQ 10.6875 0.296875 5.421875 2 \nL 5.421875 11.28125 \nQ 10.40625 8.6875 15.234375 7.390625 \nQ 20.0625 6.109375 24.8125 6.109375 \nQ 31.15625 6.109375 34.5625 8.28125 \nQ 37.984375 10.453125 37.984375 14.40625 \nQ 37.984375 18.0625 35.515625 20.015625 \nQ 33.0625 21.96875 24.703125 23.78125 \nL 21.578125 24.515625 \nQ 13.234375 26.265625 9.515625 29.90625 \nQ 5.8125 33.546875 5.8125 39.890625 \nQ 5.8125 47.609375 11.28125 51.796875 \nQ 16.75 56 26.8125 56 \nQ 31.78125 56 36.171875 55.265625 \nQ 40.578125 54.546875 44.28125 53.078125 \nz\n\" id=\"DejaVuSans-115\"/>\n      <path d=\"M 18.3125 70.21875 \nL 18.3125 54.6875 \nL 36.8125 54.6875 \nL 36.8125 47.703125 \nL 18.3125 47.703125 \nL 18.3125 18.015625 \nQ 18.3125 11.328125 20.140625 9.421875 \nQ 21.96875 7.515625 27.59375 7.515625 \nL 36.8125 7.515625 \nL 36.8125 0 \nL 27.59375 0 \nQ 17.1875 0 13.234375 3.875 \nQ 9.28125 7.765625 9.28125 18.015625 \nL 9.28125 47.703125 \nL 2.6875 47.703125 \nL 2.6875 54.6875 \nL 9.28125 54.6875 \nL 9.28125 70.21875 \nz\n\" id=\"DejaVuSans-116\"/>\n      <path id=\"DejaVuSans-32\"/>\n      <path d=\"M 52 44.1875 \nQ 55.375 50.25 60.0625 53.125 \nQ 64.75 56 71.09375 56 \nQ 79.640625 56 84.28125 50.015625 \nQ 88.921875 44.046875 88.921875 33.015625 \nL 88.921875 0 \nL 79.890625 0 \nL 79.890625 32.71875 \nQ 79.890625 40.578125 77.09375 44.375 \nQ 74.3125 48.1875 68.609375 48.1875 \nQ 61.625 48.1875 57.5625 43.546875 \nQ 53.515625 38.921875 53.515625 30.90625 \nL 53.515625 0 \nL 44.484375 0 \nL 44.484375 32.71875 \nQ 44.484375 40.625 41.703125 44.40625 \nQ 38.921875 48.1875 33.109375 48.1875 \nQ 26.21875 48.1875 22.15625 43.53125 \nQ 18.109375 38.875 18.109375 30.90625 \nL 18.109375 0 \nL 9.078125 0 \nL 9.078125 54.6875 \nL 18.109375 54.6875 \nL 18.109375 46.1875 \nQ 21.1875 51.21875 25.484375 53.609375 \nQ 29.78125 56 35.6875 56 \nQ 41.65625 56 45.828125 52.96875 \nQ 50 49.953125 52 44.1875 \nz\n\" id=\"DejaVuSans-109\"/>\n      <path d=\"M 34.28125 27.484375 \nQ 23.390625 27.484375 19.1875 25 \nQ 14.984375 22.515625 14.984375 16.5 \nQ 14.984375 11.71875 18.140625 8.90625 \nQ 21.296875 6.109375 26.703125 6.109375 \nQ 34.1875 6.109375 38.703125 11.40625 \nQ 43.21875 16.703125 43.21875 25.484375 \nL 43.21875 27.484375 \nz\nM 52.203125 31.203125 \nL 52.203125 0 \nL 43.21875 0 \nL 43.21875 8.296875 \nQ 40.140625 3.328125 35.546875 0.953125 \nQ 30.953125 -1.421875 24.3125 -1.421875 \nQ 15.921875 -1.421875 10.953125 3.296875 \nQ 6 8.015625 6 15.921875 \nQ 6 25.140625 12.171875 29.828125 \nQ 18.359375 34.515625 30.609375 34.515625 \nL 43.21875 34.515625 \nL 43.21875 35.40625 \nQ 43.21875 41.609375 39.140625 45 \nQ 35.0625 48.390625 27.6875 48.390625 \nQ 23 48.390625 18.546875 47.265625 \nQ 14.109375 46.140625 10.015625 43.890625 \nL 10.015625 52.203125 \nQ 14.9375 54.109375 19.578125 55.046875 \nQ 24.21875 56 28.609375 56 \nQ 40.484375 56 46.34375 49.84375 \nQ 52.203125 43.703125 52.203125 31.203125 \nz\n\" id=\"DejaVuSans-97\"/>\n      <path d=\"M 45.40625 27.984375 \nQ 45.40625 37.75 41.375 43.109375 \nQ 37.359375 48.484375 30.078125 48.484375 \nQ 22.859375 48.484375 18.828125 43.109375 \nQ 14.796875 37.75 14.796875 27.984375 \nQ 14.796875 18.265625 18.828125 12.890625 \nQ 22.859375 7.515625 30.078125 7.515625 \nQ 37.359375 7.515625 41.375 12.890625 \nQ 45.40625 18.265625 45.40625 27.984375 \nz\nM 54.390625 6.78125 \nQ 54.390625 -7.171875 48.1875 -13.984375 \nQ 42 -20.796875 29.203125 -20.796875 \nQ 24.46875 -20.796875 20.265625 -20.09375 \nQ 16.0625 -19.390625 12.109375 -17.921875 \nL 12.109375 -9.1875 \nQ 16.0625 -11.328125 19.921875 -12.34375 \nQ 23.78125 -13.375 27.78125 -13.375 \nQ 36.625 -13.375 41.015625 -8.765625 \nQ 45.40625 -4.15625 45.40625 5.171875 \nL 45.40625 9.625 \nQ 42.625 4.78125 38.28125 2.390625 \nQ 33.9375 0 27.875 0 \nQ 17.828125 0 11.671875 7.65625 \nQ 5.515625 15.328125 5.515625 27.984375 \nQ 5.515625 40.671875 11.671875 48.328125 \nQ 17.828125 56 27.875 56 \nQ 33.9375 56 38.28125 53.609375 \nQ 42.625 51.21875 45.40625 46.390625 \nL 45.40625 54.6875 \nL 54.390625 54.6875 \nz\n\" id=\"DejaVuSans-103\"/>\n      <path d=\"M 56.203125 29.59375 \nL 56.203125 25.203125 \nL 14.890625 25.203125 \nQ 15.484375 15.921875 20.484375 11.0625 \nQ 25.484375 6.203125 34.421875 6.203125 \nQ 39.59375 6.203125 44.453125 7.46875 \nQ 49.3125 8.734375 54.109375 11.28125 \nL 54.109375 2.78125 \nQ 49.265625 0.734375 44.1875 -0.34375 \nQ 39.109375 -1.421875 33.890625 -1.421875 \nQ 20.796875 -1.421875 13.15625 6.1875 \nQ 5.515625 13.8125 5.515625 26.8125 \nQ 5.515625 40.234375 12.765625 48.109375 \nQ 20.015625 56 32.328125 56 \nQ 43.359375 56 49.78125 48.890625 \nQ 56.203125 41.796875 56.203125 29.59375 \nz\nM 47.21875 32.234375 \nQ 47.125 39.59375 43.09375 43.984375 \nQ 39.0625 48.390625 32.421875 48.390625 \nQ 24.90625 48.390625 20.390625 44.140625 \nQ 15.875 39.890625 15.1875 32.171875 \nz\n\" id=\"DejaVuSans-101\"/>\n     </defs>\n     <use xlink:href=\"#DejaVuSans-102\"/>\n     <use x=\"35.205078\" xlink:href=\"#DejaVuSans-105\"/>\n     <use x=\"62.988281\" xlink:href=\"#DejaVuSans-114\"/>\n     <use x=\"104.101562\" xlink:href=\"#DejaVuSans-115\"/>\n     <use x=\"156.201172\" xlink:href=\"#DejaVuSans-116\"/>\n     <use x=\"195.410156\" xlink:href=\"#DejaVuSans-32\"/>\n     <use x=\"227.197266\" xlink:href=\"#DejaVuSans-105\"/>\n     <use x=\"254.980469\" xlink:href=\"#DejaVuSans-109\"/>\n     <use x=\"352.392578\" xlink:href=\"#DejaVuSans-97\"/>\n     <use x=\"413.671875\" xlink:href=\"#DejaVuSans-103\"/>\n     <use x=\"477.148438\" xlink:href=\"#DejaVuSans-101\"/>\n    </g>\n   </g>\n  </g>\n </g>\n <defs>\n  <clipPath id=\"pee0985b1bb\">\n   <rect height=\"326.16\" width=\"326.16\" x=\"26.698\" y=\"20.4945\"/>\n  </clipPath>\n </defs>\n</svg>\n",
      "image/png": "[encoded data removed]"
     },
     "metadata": {
      "needs_background": "light"
     }
    }
   ],
   "source": [
    "#see what an image looks like\n",
    "display_image(x_train[7],'first image', size=(6,6))"
   ]
  },
  {
   "source": [
    "## To make this simple, we will start by runnin a \"is it a 1? \" model \n",
    "We want to run a 1/0 model, so let's label all \"1\"s as 1, and everything else as 0"
   ],
   "cell_type": "markdown",
   "metadata": {}
  },
  {
   "cell_type": "code",
   "execution_count": 246,
   "metadata": {},
   "outputs": [],
   "source": [
    "binary_y_train = np.array([1 if y == 1 else 0 for y in y_train])\n",
    "binary_y_test = np.array([1 if y == 1 else 0 for y in y_test])"
   ]
  },
  {
   "source": [
    "Let's go for 2 hidden layers, of 50 and 50 levels and let's just use sigmoid functions for now"
   ],
   "cell_type": "markdown",
   "metadata": {}
  },
  {
   "cell_type": "code",
   "execution_count": 290,
   "metadata": {},
   "outputs": [
    {
     "output_type": "stream",
     "name": "stdout",
     "text": [
      "(784, 60000)\n"
     ]
    }
   ],
   "source": [
    "#this helps much simpler\n",
    "def flatten_and_reshape(x_train,x_test, y_train, y_test):\n",
    "\n",
    "    x_train_flat = x_train.reshape((x_train.shape[0],-1)).T / 255\n",
    "    x_test_flat = x_test.reshape((x_test.shape[0],-1)).T / 255\n",
    "    print(x_train_flat.shape)\n",
    "    bin_y_train = y_train.reshape(1,-1)\n",
    "    bin_y_test = y_test.reshape(1,-1)\n",
    "    return x_train_flat, x_test_flat, bin_y_train, bin_y_test\n",
    "\n",
    "x_train_flat, x_test_flat, bin_y_train, bin_y_test = flatten_and_reshape(x_train, x_test, binary_y_train, binary_y_test)\n",
    "\n",
    "#Create the binary model\n",
    "\n",
    "# y_train_transp = y_train.reshape(1,-1) \n",
    "# y_test_transp = y_test.reshape(1,-1)\n",
    "\n"
   ]
  },
  {
   "source": [
    "We'll go with a Gaussian initialisation of matrices"
   ],
   "cell_type": "markdown",
   "metadata": {}
  },
  {
   "cell_type": "code",
   "execution_count": 291,
   "metadata": {},
   "outputs": [
    {
     "output_type": "stream",
     "name": "stdout",
     "text": [
      "Weights matrices\nW1 (50, 784)\nB1 (50, 1)\nW2 (15, 50)\nB2 (15, 1)\nW3 (1, 15)\nB3 (1, 1)\n"
     ]
    }
   ],
   "source": [
    "#Let's create the 'weights' matrices\n",
    "def init_weights(x_train_flat, layer_1, layer_2,output):\n",
    "    np.random_state = 112\n",
    "    layer_1 = layer_1\n",
    "    layer_2 = layer_2\n",
    "    size_of_layer = [x_train_flat.shape[0], layer_1,layer_2, output]\n",
    "    dict_of_weights = {}\n",
    "\n",
    "    for layer in range(len(size_of_layer) - 1):\n",
    "        dict_of_weights[f\"W{layer+1}\"] = np.random.randn(size_of_layer[layer+1],size_of_layer[layer])\n",
    "        dict_of_weights[f\"B{layer+1}\"] = np.random.randn(size_of_layer[layer+1],1)\n",
    "    #Print the sizes of the matrix\n",
    "    print(f\"Weights matrices\")\n",
    "    for name, matrix in dict_of_weights.items():\n",
    "        print(name, matrix.shape)\n",
    "    return dict_of_weights\n",
    "\n",
    "dict_of_weights = init_weights(x_train_flat, 50, 15, 1)"
   ]
  },
  {
   "source": [
    "## To start with, let's do sigmoid activation for each layer"
   ],
   "cell_type": "markdown",
   "metadata": {}
  },
  {
   "cell_type": "code",
   "execution_count": 623,
   "metadata": {},
   "outputs": [],
   "source": [
    "def sigmoid(x):\n",
    "    return (1/(1+np.exp(-x)))\n",
    "\n",
    "dict_of_FP_values = {}\n",
    "#FORWARD PROPOGATION\n",
    "def sigmoid_forward_prop(previous_a, W, B):\n",
    "    Z = W @ previous_a + B\n",
    "    next_A = sigmoid(Z)\n",
    "    return Z, next_A\n",
    "\n",
    "def forward_prop(dict_of_weights,x_train_flat,bin_y_train):\n",
    "    W1, B1, W2, B2, W3, B3 = dict_of_weights.values()\n",
    "    \n",
    "    Z1, A1 = sigmoid_forward_prop(x_train_flat, W1, B1)\n",
    "    Z2, A2 = sigmoid_forward_prop(A1, W2, B2)    \n",
    "    Z3, A3 = sigmoid_forward_prop(A2, W3, B3)\n",
    "    \n",
    "    dict_of_FP_values['Z1'] = Z1\n",
    "    dict_of_FP_values['A1'] = A1\n",
    "    dict_of_FP_values['Z2'] = Z2\n",
    "    dict_of_FP_values['A2'] = A2\n",
    "    dict_of_FP_values['Z3'] = Z3\n",
    "    dict_of_FP_values['A3'] = A3\n",
    "    \n",
    "    Cost = ((bin_y_train - A3) @ np.transpose(bin_y_train - A3) / A3.size )[0]\n",
    "\n",
    "    return dict_of_FP_values, Cost\n",
    "\n",
    "dict_of_FP_values, Cost = forward_prop(dict_of_weights,x_train_flat,bin_y_train)"
   ]
  },
  {
   "source": [
    "## Great, so now we need to do back propogation.\n",
    "\n"
   ],
   "cell_type": "markdown",
   "metadata": {}
  },
  {
   "source": [
    "Worth nothing, that everything is positive - this kind of makes sense because right now the dumb model can be improved by just setting everything to 0 (as only 10% of outputs are \"1\")\n",
    "\n",
    "Let's keep going back through the differentials"
   ],
   "cell_type": "markdown",
   "metadata": {}
  },
  {
   "cell_type": "code",
   "execution_count": 625,
   "metadata": {},
   "outputs": [],
   "source": [
    "def back_prop_one_layer_from_A_to_previous_A(cost_of_that_A, Z, prev_A,W):    \n",
    "        #going back from A to z\n",
    "        dAn_dZn = np.exp(-Z) / ((1+np.exp(-Z))**2)\n",
    "        dC_dZn = cost_of_that_A * dAn_dZn\n",
    "        \n",
    "        #get diffs at that layer\n",
    "        dZn_dWn = prev_A\n",
    "        dZn_dBn = np.zeros_like(Z) + 1\n",
    "\n",
    "        #combien to get useful differentials\n",
    "        dC_dWn = dC_dZn @ dZn_dWn.T / Z.size\n",
    "        dC_dBn = np.sum(dC_dZn @ dZn_dBn.T,axis=1,keepdims=True) / dZn_dBn.shape[1]\n",
    "\n",
    "        #and then get the previous layer cost fuctions\n",
    "        dZn_dA_minus_one = W\n",
    "        dC_dA_minus_one = (dC_dZn.T @ dZn_dA_minus_one).T\n",
    "\n",
    "        return dC_dWn, dC_dBn, dC_dZn, dC_dA_minus_one\n",
    "\n",
    "def back_prop(dict_of_weights, dict_of_FP_values, bin_y_train, x_train_flat):\n",
    "    W1, B1, W2, B2, W3, W3 = dict_of_weights.values()\n",
    "    Z1, A1, Z2, A2, Z3, A3 = dict_of_FP_values.values()\n",
    "    \n",
    "    differentiat_dict = {}\n",
    "    \n",
    "    '''Let's look at W3 and B3 first'''\n",
    "    \n",
    "    #This line is unique\n",
    "    dC_dA3 = 2*(A3 - bin_y_train) #gives 1 by m matrix\n",
    "\n",
    "    #do the back props\n",
    "    dC_dW3, dC_dB3, dC_dZ3, dC_dA2 = back_prop_one_layer_from_A_to_previous_A(dC_dA3, Z3, A2, W3)\n",
    "    dC_dW2, dC_dB2, dC_dZ2, dC_dA1 = back_prop_one_layer_from_A_to_previous_A(dC_dA2, Z2, A1, W2)\n",
    "    dC_dW1, dC_dB1, dC_dZ1, dC_dA0 = back_prop_one_layer_from_A_to_previous_A(dC_dA1, Z1, x_train_flat, W1)\n",
    "\n",
    "    differentiat_dict['dW1'] = dC_dW1\n",
    "    differentiat_dict['dB1'] = dC_dB1\n",
    "    differentiat_dict['dW2'] = dC_dW2\n",
    "    differentiat_dict['dB2'] = dC_dB2\n",
    "    differentiat_dict['dW3'] = dC_dW3\n",
    "    differentiat_dict['dB3'] = dC_dB3\n",
    "\n",
    "    return differentiat_dict\n",
    "\n",
    "differentiat_dict = back_prop(dict_of_weights, dict_of_FP_values, bin_y_train, x_train_flat)"
   ]
  },
  {
   "cell_type": "code",
   "execution_count": 288,
   "metadata": {},
   "outputs": [
    {
     "output_type": "execute_result",
     "data": {
      "text/plain": [
       "12665"
      ]
     },
     "metadata": {},
     "execution_count": 288
    }
   ],
   "source": [
    "dict_of_FP_values['Z3'].size"
   ]
  },
  {
   "source": [
    "## Great stuff, now we need to update the weights."
   ],
   "cell_type": "markdown",
   "metadata": {}
  },
  {
   "cell_type": "code",
   "execution_count": 252,
   "metadata": {},
   "outputs": [],
   "source": [
    "def gradient_descent(learning_rate, dict_of_weights, differentiat_dict):\n",
    "    \n",
    "    #we have dictionaries for the weights and the differentials, which we should be able to use quite easily here. They are also in order so we can kind of cheat... but let's not \n",
    "    for key, value in dict_of_weights.items():\n",
    "        dict_of_weights[key] += -learning_rate * differentiat_dict[f'd{key}']\n",
    "    "
   ]
  },
  {
   "source": [
    "## SO, now let's run this in a loop and see what happens to Cost"
   ],
   "cell_type": "markdown",
   "metadata": {}
  },
  {
   "cell_type": "code",
   "execution_count": 630,
   "metadata": {
    "tags": []
   },
   "outputs": [
    {
     "output_type": "stream",
     "name": "stdout",
     "text": [
      "iteration: 0\n",
      "cost: [0.59158784]\n",
      "iteration: 100\n",
      "cost: [0.09616434]\n",
      "iteration: 200\n",
      "cost: [0.09593042]\n"
     ]
    }
   ],
   "source": [
    "#We start with forward propogation, storing the cost\n",
    "learning_rate = 0.1 #set an arbitrary learning rate... we can iterate and try a few others soon\n",
    "iterations = 250\n",
    "cost = []\n",
    "\n",
    "for iteration in range(iterations):\n",
    "    \n",
    "    dict_of_FP_values, Cost = forward_prop(dict_of_weights,x_train_flat,bin_y_train)\n",
    "    cost.append(Cost[0]) #add cost to the list.\n",
    "    #then, do back prop, storing the differentials\n",
    "    differentiat_dict = back_prop(dict_of_weights, dict_of_FP_values, bin_y_train, x_train_flat)\n",
    "\n",
    "    #then, do the gradient descent. Nothing stored, the weights just update and we re-use the new values in forward prop.\n",
    "    gradient_descent(learning_rate, dict_of_weights, differentiat_dict)\n",
    "    if iteration % 100 == 0:\n",
    "        print(f'iteration: {iteration}\\ncost: {Cost}')"
   ]
  },
  {
   "cell_type": "code",
   "execution_count": 614,
   "metadata": {},
   "outputs": [
    {
     "output_type": "execute_result",
     "data": {
      "text/plain": [
       "0    53258\n",
       "1     6742\n",
       "dtype: int64"
      ]
     },
     "metadata": {},
     "execution_count": 614
    }
   ],
   "source": [
    "pd.Series(bin_y_train[0]).value_counts()"
   ]
  },
  {
   "cell_type": "code",
   "execution_count": 615,
   "metadata": {},
   "outputs": [
    {
     "output_type": "execute_result",
     "data": {
      "text/plain": [
       "[0.901, 0.994)    18303\n",
       "[0.808, 0.901)    17211\n",
       "[0.716, 0.808)    10172\n",
       "[0.623, 0.716)     6060\n",
       "[0.53, 0.623)      3520\n",
       "[0.438, 0.53)      2159\n",
       "[0.345, 0.438)     1276\n",
       "[0.252, 0.345)      753\n",
       "[0.16, 0.252)       447\n",
       "[0.067, 0.16)        99\n",
       "dtype: int64"
      ]
     },
     "metadata": {},
     "execution_count": 615
    }
   ],
   "source": [
    "pd.cut(pd.Series(dict_of_FP_values['A3'][0]), bins=10, right=False).value_counts()"
   ]
  },
  {
   "source": [
    "## OK. It just seems to have optimised by making everything 0. Let's see what happens if we just have two numbers in the sample"
   ],
   "cell_type": "markdown",
   "metadata": {}
  },
  {
   "cell_type": "code",
   "execution_count": 579,
   "metadata": {},
   "outputs": [
    {
     "output_type": "stream",
     "name": "stdout",
     "text": [
      "[1, 0]\n(784, 12665)\n"
     ]
    }
   ],
   "source": [
    "\n",
    "def reduced_form(y_train,y_test, x_train, x_test, numbers):\n",
    "    \n",
    "    print(numbers)\n",
    "    #Put in an array format\n",
    "    y_train_arr_format = np.array(y_train)\n",
    "    y_test_arr_format = np.array(y_test)\n",
    "\n",
    "    y_train_df = pd.DataFrame( {'value': y_train_arr_format})\n",
    "    train_index = y_train_df['value'].isin(numbers)\n",
    "\n",
    "    #Repeat this for test\n",
    "    y_test_df = pd.DataFrame( {'value': y_test_arr_format})\n",
    "    test_index = y_test_df['value'].isin(numbers)\n",
    "\n",
    "    #then get the relevant lists\n",
    "    y_train_reduced = y_train_arr_format[train_index]\n",
    "    x_train_reduced = x_train[train_index]\n",
    "    y_test_reduced = y_test_arr_format[test_index]\n",
    "    x_test_reduced = x_test[test_index]\n",
    "\n",
    "    #flatten the shapes - note, we're not using x_test just yet, so can leave this as is.\n",
    "    x_train_subset, x_test_subset, y_train_subset, y_test_subset = flatten_and_reshape(x_train_reduced, x_test_reduced, y_train_reduced, y_test_reduced)\n",
    "    \n",
    "    return x_train_subset, x_test_subset, y_train_subset, y_test_subset\n",
    "\n",
    "numbers_looked_at = [1,2,3,4]\n",
    "\n",
    "x_train_binary, x_test_binary, y_train_binary, y_test_binary = reduced_form(y_train, y_test, x_train, x_test, [1,0])"
   ]
  },
  {
   "cell_type": "code",
   "execution_count": 634,
   "metadata": {},
   "outputs": [
    {
     "output_type": "execute_result",
     "data": {
      "text/plain": [
       "1    6742\n",
       "0    5923\n",
       "dtype: int64"
      ]
     },
     "metadata": {},
     "execution_count": 634
    }
   ],
   "source": [
    "#shows the split of class values\n",
    "pd.Series(y_train_binary[0]).value_counts()"
   ]
  },
  {
   "source": [
    "Let's run the iteration with this new set"
   ],
   "cell_type": "markdown",
   "metadata": {}
  },
  {
   "cell_type": "code",
   "execution_count": 640,
   "metadata": {},
   "outputs": [
    {
     "output_type": "stream",
     "name": "stdout",
     "text": [
      "Weights matrices\n",
      "W1 (50, 784)\n",
      "B1 (50, 1)\n",
      "W2 (50, 50)\n",
      "B2 (50, 1)\n",
      "W3 (1, 50)\n",
      "B3 (1, 1)\n",
      "[0.3022419]\n",
      "[0.2006925]\n",
      "[0.17360115]\n",
      "[0.16354055]\n",
      "[0.15645518]\n",
      "[0.15021601]\n",
      "[0.14446876]\n",
      "[0.13913079]\n",
      "[0.13416309]\n",
      "[0.12953478]\n",
      "[0.12521777]\n",
      "[0.12118615]\n",
      "[0.11741611]\n",
      "[0.11388586]\n",
      "[0.11057555]\n",
      "[0.10746714]\n",
      "[0.10454424]\n",
      "[0.10179196]\n",
      "[0.0991968]\n",
      "[0.0967465]\n",
      "[0.0944299]\n",
      "[0.09223688]\n",
      "[0.09015822]\n",
      "[0.08818552]\n",
      "[0.08631114]\n",
      "[0.08452809]\n",
      "[0.08282999]\n",
      "[0.08121102]\n",
      "[0.07966585]\n",
      "[0.07818959]\n",
      "[0.07677775]\n",
      "[0.07542624]\n",
      "[0.07413126]\n",
      "[0.07288935]\n",
      "[0.0716973]\n",
      "[0.07055215]\n",
      "[0.06945119]\n",
      "[0.06839188]\n",
      "[0.0673719]\n",
      "[0.06638907]\n",
      "[0.06544141]\n",
      "[0.06452703]\n",
      "[0.06364421]\n",
      "[0.06279134]\n",
      "[0.0619669]\n",
      "[0.0611695]\n",
      "[0.06039782]\n",
      "[0.05965063]\n",
      "[0.05892679]\n",
      "[0.05822521]\n",
      "[0.05754489]\n",
      "[0.05688487]\n",
      "[0.05624426]\n",
      "[0.05562222]\n",
      "[0.05501796]\n",
      "[0.05443073]\n",
      "[0.05385981]\n",
      "[0.05330456]\n",
      "[0.05276432]\n",
      "[0.05223852]\n",
      "[0.05172657]\n",
      "[0.05122796]\n",
      "[0.05074215]\n",
      "[0.05026869]\n",
      "[0.04980709]\n",
      "[0.04935694]\n",
      "[0.04891781]\n",
      "[0.0484893]\n",
      "[0.04807105]\n",
      "[0.04766269]\n",
      "[0.04726387]\n",
      "[0.04687428]\n",
      "[0.0464936]\n",
      "[0.04612152]\n",
      "[0.04575777]\n",
      "[0.04540207]\n",
      "[0.04505416]\n",
      "[0.04471379]\n",
      "[0.04438071]\n",
      "[0.0440547]\n",
      "[0.04373554]\n",
      "[0.04342302]\n",
      "[0.04311692]\n",
      "[0.04281707]\n",
      "[0.04252326]\n",
      "[0.04223531]\n",
      "[0.04195307]\n",
      "[0.04167634]\n",
      "[0.04140499]\n",
      "[0.04113885]\n",
      "[0.04087776]\n",
      "[0.0406216]\n",
      "[0.04037022]\n",
      "[0.04012348]\n",
      "[0.03988127]\n",
      "[0.03964344]\n",
      "[0.03940989]\n",
      "[0.03918051]\n",
      "[0.03895516]\n",
      "[0.03873376]\n"
     ]
    }
   ],
   "source": [
    "\n",
    "#init the weights\n",
    "dict_of_weights_2 = init_weights(x_train_binary, 50, 50, 1)\n",
    "#then let's do some iterations\n",
    "learning_rate = 0.1 #set an arbitrary learning rate... we can iterate and try a few others soon\n",
    "iterations = 1000\n",
    "cost = []\n",
    "\n",
    "for iteration in range(iterations):\n",
    "    \n",
    "    dict_of_FP_values_bin, Cost = forward_prop(dict_of_weights_2,x_train_binary,y_train_binary)\n",
    "    cost.append(Cost[0]) #add cost to the list.\n",
    "    #then, do back prop, storing the differentials\n",
    "    differentiat_dict_bin = back_prop(dict_of_weights_2, dict_of_FP_values_bin, y_train_binary, x_train_binary)\n",
    "\n",
    "    #then, do the gradient descent. Nothing stored, the weights just update and we re-use the new values in forward prop.\n",
    "    gradient_descent(learning_rate, dict_of_weights_2, differentiat_dict_bin)\n",
    "    \n"
   ]
  },
  {
   "cell_type": "code",
   "execution_count": 641,
   "metadata": {},
   "outputs": [
    {
     "output_type": "execute_result",
     "data": {
      "text/plain": [
       "[0.9, 1.001)       5070\n",
       "[6.65e-05, 0.1)    4584\n",
       "[0.8, 0.9)          852\n",
       "[0.1, 0.2)          533\n",
       "[0.7, 0.8)          453\n",
       "[0.6, 0.7)          286\n",
       "[0.2, 0.3)          276\n",
       "[0.5, 0.6)          212\n",
       "[0.3, 0.4)          206\n",
       "[0.4, 0.5)          193\n",
       "dtype: int64"
      ]
     },
     "metadata": {},
     "execution_count": 641
    }
   ],
   "source": [
    "pd.cut(pd.Series(dict_of_FP_values_bin['A3'][0]), bins=10, right=False).value_counts()"
   ]
  },
  {
   "source": [
    "## Great - we have values at both ends of the spectrum!\n",
    "\n",
    "Let's see what happens to the cost function"
   ],
   "cell_type": "markdown",
   "metadata": {}
  },
  {
   "cell_type": "code",
   "execution_count": 642,
   "metadata": {},
   "outputs": [
    {
     "output_type": "stream",
     "name": "stderr",
     "text": [
      "/Users/jacoblourie/opt/anaconda3/lib/python3.8/site-packages/seaborn/_decorators.py:36: FutureWarning: Pass the following variables as keyword args: x, y. From version 0.12, the only valid positional argument will be `data`, and passing other arguments without an explicit keyword will result in an error or misinterpretation.\n  warnings.warn(\n"
     ]
    },
    {
     "output_type": "execute_result",
     "data": {
      "text/plain": [
       "<AxesSubplot:>"
      ]
     },
     "metadata": {},
     "execution_count": 642
    },
    {
     "output_type": "display_data",
     "data": {
      "text/plain": "<Figure size 432x288 with 1 Axes>",
      "image/svg+xml": "<?xml version=\"1.0\" encoding=\"utf-8\" standalone=\"no\"?>\n<!DOCTYPE svg PUBLIC \"-//W3C//DTD SVG 1.1//EN\"\n  \"http://www.w3.org/Graphics/SVG/1.1/DTD/svg11.dtd\">\n<!-- Created with matplotlib (https://matplotlib.org/) -->\n<svg height=\"248.65675pt\" version=\"1.1\" viewBox=\"0 0 377.09375 248.65675\" width=\"377.09375pt\" xmlns=\"http://www.w3.org/2000/svg\" xmlns:xlink=\"http://www.w3.org/1999/xlink\">\n <metadata>\n  <rdf:RDF xmlns:cc=\"http://creativecommons.org/ns#\" xmlns:dc=\"http://purl.org/dc/elements/1.1/\" xmlns:rdf=\"http://www.w3.org/1999/02/22-rdf-syntax-ns#\">\n   <cc:Work>\n    <dc:type rdf:resource=\"http://purl.org/dc/dcmitype/StillImage\"/>\n    <dc:date>2021-05-05T21:25:16.629220</dc:date>\n    <dc:format>image/svg+xml</dc:format>\n    <dc:creator>\n     <cc:Agent>\n      <dc:title>Matplotlib v3.3.2, https://matplotlib.org/</dc:title>\n     </cc:Agent>\n    </dc:creator>\n   </cc:Work>\n  </rdf:RDF>\n </metadata>\n <defs>\n  <style type=\"text/css\">*{stroke-linecap:butt;stroke-linejoin:round;}</style>\n </defs>\n <g id=\"figure_1\">\n  <g id=\"patch_1\">\n   <path d=\"M 0 248.65675 \nL 377.09375 248.65675 \nL 377.09375 0 \nL 0 0 \nz\n\" style=\"fill:none;\"/>\n  </g>\n  <g id=\"axes_1\">\n   <g id=\"patch_2\">\n    <path d=\"M 35.09375 224.64 \nL 369.89375 224.64 \nL 369.89375 7.2 \nL 35.09375 7.2 \nz\n\" style=\"fill:#ffffff;\"/>\n   </g>\n   <g id=\"matplotlib.axis_1\">\n    <g id=\"xtick_1\">\n     <g id=\"line2d_1\">\n      <defs>\n       <path d=\"M 0 0 \nL 0 4.8 \n\" id=\"m9a8b55625d\" style=\"stroke:#000000;\"/>\n      </defs>\n      <g>\n       <use style=\"stroke:#000000;\" x=\"50.007264\" xlink:href=\"#m9a8b55625d\" y=\"224.64\"/>\n      </g>\n     </g>\n     <g id=\"text_1\">\n      <!-- 0 -->\n      <g transform=\"translate(47.207764 239.626625)scale(0.088 -0.088)\">\n       <defs>\n        <path d=\"M 31.78125 66.40625 \nQ 24.171875 66.40625 20.328125 58.90625 \nQ 16.5 51.421875 16.5 36.375 \nQ 16.5 21.390625 20.328125 13.890625 \nQ 24.171875 6.390625 31.78125 6.390625 \nQ 39.453125 6.390625 43.28125 13.890625 \nQ 47.125 21.390625 47.125 36.375 \nQ 47.125 51.421875 43.28125 58.90625 \nQ 39.453125 66.40625 31.78125 66.40625 \nz\nM 31.78125 74.21875 \nQ 44.046875 74.21875 50.515625 64.515625 \nQ 56.984375 54.828125 56.984375 36.375 \nQ 56.984375 17.96875 50.515625 8.265625 \nQ 44.046875 -1.421875 31.78125 -1.421875 \nQ 19.53125 -1.421875 13.0625 8.265625 \nQ 6.59375 17.96875 6.59375 36.375 \nQ 6.59375 54.828125 13.0625 64.515625 \nQ 19.53125 74.21875 31.78125 74.21875 \nz\n\" id=\"DejaVuSans-48\"/>\n       </defs>\n       <use xlink:href=\"#DejaVuSans-48\"/>\n      </g>\n     </g>\n    </g>\n    <g id=\"xtick_2\">\n     <g id=\"line2d_2\">\n      <g>\n       <use style=\"stroke:#000000;\" x=\"110.940924\" xlink:href=\"#m9a8b55625d\" y=\"224.64\"/>\n      </g>\n     </g>\n     <g id=\"text_2\">\n      <!-- 200 -->\n      <g transform=\"translate(102.542424 239.626625)scale(0.088 -0.088)\">\n       <defs>\n        <path d=\"M 19.1875 8.296875 \nL 53.609375 8.296875 \nL 53.609375 0 \nL 7.328125 0 \nL 7.328125 8.296875 \nQ 12.9375 14.109375 22.625 23.890625 \nQ 32.328125 33.6875 34.8125 36.53125 \nQ 39.546875 41.84375 41.421875 45.53125 \nQ 43.3125 49.21875 43.3125 52.78125 \nQ 43.3125 58.59375 39.234375 62.25 \nQ 35.15625 65.921875 28.609375 65.921875 \nQ 23.96875 65.921875 18.8125 64.3125 \nQ 13.671875 62.703125 7.8125 59.421875 \nL 7.8125 69.390625 \nQ 13.765625 71.78125 18.9375 73 \nQ 24.125 74.21875 28.421875 74.21875 \nQ 39.75 74.21875 46.484375 68.546875 \nQ 53.21875 62.890625 53.21875 53.421875 \nQ 53.21875 48.921875 51.53125 44.890625 \nQ 49.859375 40.875 45.40625 35.40625 \nQ 44.1875 33.984375 37.640625 27.21875 \nQ 31.109375 20.453125 19.1875 8.296875 \nz\n\" id=\"DejaVuSans-50\"/>\n       </defs>\n       <use xlink:href=\"#DejaVuSans-50\"/>\n       <use x=\"63.623047\" xlink:href=\"#DejaVuSans-48\"/>\n       <use x=\"127.246094\" xlink:href=\"#DejaVuSans-48\"/>\n      </g>\n     </g>\n    </g>\n    <g id=\"xtick_3\">\n     <g id=\"line2d_3\">\n      <g>\n       <use style=\"stroke:#000000;\" x=\"171.874585\" xlink:href=\"#m9a8b55625d\" y=\"224.64\"/>\n      </g>\n     </g>\n     <g id=\"text_3\">\n      <!-- 400 -->\n      <g transform=\"translate(163.476085 239.626625)scale(0.088 -0.088)\">\n       <defs>\n        <path d=\"M 37.796875 64.3125 \nL 12.890625 25.390625 \nL 37.796875 25.390625 \nz\nM 35.203125 72.90625 \nL 47.609375 72.90625 \nL 47.609375 25.390625 \nL 58.015625 25.390625 \nL 58.015625 17.1875 \nL 47.609375 17.1875 \nL 47.609375 0 \nL 37.796875 0 \nL 37.796875 17.1875 \nL 4.890625 17.1875 \nL 4.890625 26.703125 \nz\n\" id=\"DejaVuSans-52\"/>\n       </defs>\n       <use xlink:href=\"#DejaVuSans-52\"/>\n       <use x=\"63.623047\" xlink:href=\"#DejaVuSans-48\"/>\n       <use x=\"127.246094\" xlink:href=\"#DejaVuSans-48\"/>\n      </g>\n     </g>\n    </g>\n    <g id=\"xtick_4\">\n     <g id=\"line2d_4\">\n      <g>\n       <use style=\"stroke:#000000;\" x=\"232.808246\" xlink:href=\"#m9a8b55625d\" y=\"224.64\"/>\n      </g>\n     </g>\n     <g id=\"text_4\">\n      <!-- 600 -->\n      <g transform=\"translate(224.409746 239.626625)scale(0.088 -0.088)\">\n       <defs>\n        <path d=\"M 33.015625 40.375 \nQ 26.375 40.375 22.484375 35.828125 \nQ 18.609375 31.296875 18.609375 23.390625 \nQ 18.609375 15.53125 22.484375 10.953125 \nQ 26.375 6.390625 33.015625 6.390625 \nQ 39.65625 6.390625 43.53125 10.953125 \nQ 47.40625 15.53125 47.40625 23.390625 \nQ 47.40625 31.296875 43.53125 35.828125 \nQ 39.65625 40.375 33.015625 40.375 \nz\nM 52.59375 71.296875 \nL 52.59375 62.3125 \nQ 48.875 64.0625 45.09375 64.984375 \nQ 41.3125 65.921875 37.59375 65.921875 \nQ 27.828125 65.921875 22.671875 59.328125 \nQ 17.53125 52.734375 16.796875 39.40625 \nQ 19.671875 43.65625 24.015625 45.921875 \nQ 28.375 48.1875 33.59375 48.1875 \nQ 44.578125 48.1875 50.953125 41.515625 \nQ 57.328125 34.859375 57.328125 23.390625 \nQ 57.328125 12.15625 50.6875 5.359375 \nQ 44.046875 -1.421875 33.015625 -1.421875 \nQ 20.359375 -1.421875 13.671875 8.265625 \nQ 6.984375 17.96875 6.984375 36.375 \nQ 6.984375 53.65625 15.1875 63.9375 \nQ 23.390625 74.21875 37.203125 74.21875 \nQ 40.921875 74.21875 44.703125 73.484375 \nQ 48.484375 72.75 52.59375 71.296875 \nz\n\" id=\"DejaVuSans-54\"/>\n       </defs>\n       <use xlink:href=\"#DejaVuSans-54\"/>\n       <use x=\"63.623047\" xlink:href=\"#DejaVuSans-48\"/>\n       <use x=\"127.246094\" xlink:href=\"#DejaVuSans-48\"/>\n      </g>\n     </g>\n    </g>\n    <g id=\"xtick_5\">\n     <g id=\"line2d_5\">\n      <g>\n       <use style=\"stroke:#000000;\" x=\"293.741907\" xlink:href=\"#m9a8b55625d\" y=\"224.64\"/>\n      </g>\n     </g>\n     <g id=\"text_5\">\n      <!-- 800 -->\n      <g transform=\"translate(285.343407 239.626625)scale(0.088 -0.088)\">\n       <defs>\n        <path d=\"M 31.78125 34.625 \nQ 24.75 34.625 20.71875 30.859375 \nQ 16.703125 27.09375 16.703125 20.515625 \nQ 16.703125 13.921875 20.71875 10.15625 \nQ 24.75 6.390625 31.78125 6.390625 \nQ 38.8125 6.390625 42.859375 10.171875 \nQ 46.921875 13.96875 46.921875 20.515625 \nQ 46.921875 27.09375 42.890625 30.859375 \nQ 38.875 34.625 31.78125 34.625 \nz\nM 21.921875 38.8125 \nQ 15.578125 40.375 12.03125 44.71875 \nQ 8.5 49.078125 8.5 55.328125 \nQ 8.5 64.0625 14.71875 69.140625 \nQ 20.953125 74.21875 31.78125 74.21875 \nQ 42.671875 74.21875 48.875 69.140625 \nQ 55.078125 64.0625 55.078125 55.328125 \nQ 55.078125 49.078125 51.53125 44.71875 \nQ 48 40.375 41.703125 38.8125 \nQ 48.828125 37.15625 52.796875 32.3125 \nQ 56.78125 27.484375 56.78125 20.515625 \nQ 56.78125 9.90625 50.3125 4.234375 \nQ 43.84375 -1.421875 31.78125 -1.421875 \nQ 19.734375 -1.421875 13.25 4.234375 \nQ 6.78125 9.90625 6.78125 20.515625 \nQ 6.78125 27.484375 10.78125 32.3125 \nQ 14.796875 37.15625 21.921875 38.8125 \nz\nM 18.3125 54.390625 \nQ 18.3125 48.734375 21.84375 45.5625 \nQ 25.390625 42.390625 31.78125 42.390625 \nQ 38.140625 42.390625 41.71875 45.5625 \nQ 45.3125 48.734375 45.3125 54.390625 \nQ 45.3125 60.0625 41.71875 63.234375 \nQ 38.140625 66.40625 31.78125 66.40625 \nQ 25.390625 66.40625 21.84375 63.234375 \nQ 18.3125 60.0625 18.3125 54.390625 \nz\n\" id=\"DejaVuSans-56\"/>\n       </defs>\n       <use xlink:href=\"#DejaVuSans-56\"/>\n       <use x=\"63.623047\" xlink:href=\"#DejaVuSans-48\"/>\n       <use x=\"127.246094\" xlink:href=\"#DejaVuSans-48\"/>\n      </g>\n     </g>\n    </g>\n    <g id=\"xtick_6\">\n     <g id=\"line2d_6\">\n      <g>\n       <use style=\"stroke:#000000;\" x=\"354.675568\" xlink:href=\"#m9a8b55625d\" y=\"224.64\"/>\n      </g>\n     </g>\n     <g id=\"text_6\">\n      <!-- 1000 -->\n      <g transform=\"translate(343.477568 239.626625)scale(0.088 -0.088)\">\n       <defs>\n        <path d=\"M 12.40625 8.296875 \nL 28.515625 8.296875 \nL 28.515625 63.921875 \nL 10.984375 60.40625 \nL 10.984375 69.390625 \nL 28.421875 72.90625 \nL 38.28125 72.90625 \nL 38.28125 8.296875 \nL 54.390625 8.296875 \nL 54.390625 0 \nL 12.40625 0 \nz\n\" id=\"DejaVuSans-49\"/>\n       </defs>\n       <use xlink:href=\"#DejaVuSans-49\"/>\n       <use x=\"63.623047\" xlink:href=\"#DejaVuSans-48\"/>\n       <use x=\"127.246094\" xlink:href=\"#DejaVuSans-48\"/>\n       <use x=\"190.869141\" xlink:href=\"#DejaVuSans-48\"/>\n      </g>\n     </g>\n    </g>\n   </g>\n   <g id=\"matplotlib.axis_2\">\n    <g id=\"ytick_1\">\n     <g id=\"line2d_7\">\n      <defs>\n       <path d=\"M 0 0 \nL -4.8 0 \n\" id=\"m22b4897a5b\" style=\"stroke:#000000;\"/>\n      </defs>\n      <g>\n       <use style=\"stroke:#000000;\" x=\"35.09375\" xlink:href=\"#m22b4897a5b\" y=\"206.164279\"/>\n      </g>\n     </g>\n     <g id=\"text_7\">\n      <!-- 0.05 -->\n      <g transform=\"translate(7.2 209.507592)scale(0.088 -0.088)\">\n       <defs>\n        <path d=\"M 10.6875 12.40625 \nL 21 12.40625 \nL 21 0 \nL 10.6875 0 \nz\n\" id=\"DejaVuSans-46\"/>\n        <path d=\"M 10.796875 72.90625 \nL 49.515625 72.90625 \nL 49.515625 64.59375 \nL 19.828125 64.59375 \nL 19.828125 46.734375 \nQ 21.96875 47.46875 24.109375 47.828125 \nQ 26.265625 48.1875 28.421875 48.1875 \nQ 40.625 48.1875 47.75 41.5 \nQ 54.890625 34.8125 54.890625 23.390625 \nQ 54.890625 11.625 47.5625 5.09375 \nQ 40.234375 -1.421875 26.90625 -1.421875 \nQ 22.3125 -1.421875 17.546875 -0.640625 \nQ 12.796875 0.140625 7.71875 1.703125 \nL 7.71875 11.625 \nQ 12.109375 9.234375 16.796875 8.0625 \nQ 21.484375 6.890625 26.703125 6.890625 \nQ 35.15625 6.890625 40.078125 11.328125 \nQ 45.015625 15.765625 45.015625 23.390625 \nQ 45.015625 31 40.078125 35.4375 \nQ 35.15625 39.890625 26.703125 39.890625 \nQ 22.75 39.890625 18.8125 39.015625 \nQ 14.890625 38.140625 10.796875 36.28125 \nz\n\" id=\"DejaVuSans-53\"/>\n       </defs>\n       <use xlink:href=\"#DejaVuSans-48\"/>\n       <use x=\"63.623047\" xlink:href=\"#DejaVuSans-46\"/>\n       <use x=\"95.410156\" xlink:href=\"#DejaVuSans-48\"/>\n       <use x=\"159.033203\" xlink:href=\"#DejaVuSans-53\"/>\n      </g>\n     </g>\n    </g>\n    <g id=\"ytick_2\">\n     <g id=\"line2d_8\">\n      <g>\n       <use style=\"stroke:#000000;\" x=\"35.09375\" xlink:href=\"#m22b4897a5b\" y=\"168.684257\"/>\n      </g>\n     </g>\n     <g id=\"text_8\">\n      <!-- 0.10 -->\n      <g transform=\"translate(7.2 172.027569)scale(0.088 -0.088)\">\n       <use xlink:href=\"#DejaVuSans-48\"/>\n       <use x=\"63.623047\" xlink:href=\"#DejaVuSans-46\"/>\n       <use x=\"95.410156\" xlink:href=\"#DejaVuSans-49\"/>\n       <use x=\"159.033203\" xlink:href=\"#DejaVuSans-48\"/>\n      </g>\n     </g>\n    </g>\n    <g id=\"ytick_3\">\n     <g id=\"line2d_9\">\n      <g>\n       <use style=\"stroke:#000000;\" x=\"35.09375\" xlink:href=\"#m22b4897a5b\" y=\"131.204235\"/>\n      </g>\n     </g>\n     <g id=\"text_9\">\n      <!-- 0.15 -->\n      <g transform=\"translate(7.2 134.547547)scale(0.088 -0.088)\">\n       <use xlink:href=\"#DejaVuSans-48\"/>\n       <use x=\"63.623047\" xlink:href=\"#DejaVuSans-46\"/>\n       <use x=\"95.410156\" xlink:href=\"#DejaVuSans-49\"/>\n       <use x=\"159.033203\" xlink:href=\"#DejaVuSans-53\"/>\n      </g>\n     </g>\n    </g>\n    <g id=\"ytick_4\">\n     <g id=\"line2d_10\">\n      <g>\n       <use style=\"stroke:#000000;\" x=\"35.09375\" xlink:href=\"#m22b4897a5b\" y=\"93.724212\"/>\n      </g>\n     </g>\n     <g id=\"text_10\">\n      <!-- 0.20 -->\n      <g transform=\"translate(7.2 97.067525)scale(0.088 -0.088)\">\n       <use xlink:href=\"#DejaVuSans-48\"/>\n       <use x=\"63.623047\" xlink:href=\"#DejaVuSans-46\"/>\n       <use x=\"95.410156\" xlink:href=\"#DejaVuSans-50\"/>\n       <use x=\"159.033203\" xlink:href=\"#DejaVuSans-48\"/>\n      </g>\n     </g>\n    </g>\n    <g id=\"ytick_5\">\n     <g id=\"line2d_11\">\n      <g>\n       <use style=\"stroke:#000000;\" x=\"35.09375\" xlink:href=\"#m22b4897a5b\" y=\"56.24419\"/>\n      </g>\n     </g>\n     <g id=\"text_11\">\n      <!-- 0.25 -->\n      <g transform=\"translate(7.2 59.587503)scale(0.088 -0.088)\">\n       <use xlink:href=\"#DejaVuSans-48\"/>\n       <use x=\"63.623047\" xlink:href=\"#DejaVuSans-46\"/>\n       <use x=\"95.410156\" xlink:href=\"#DejaVuSans-50\"/>\n       <use x=\"159.033203\" xlink:href=\"#DejaVuSans-53\"/>\n      </g>\n     </g>\n    </g>\n    <g id=\"ytick_6\">\n     <g id=\"line2d_12\">\n      <g>\n       <use style=\"stroke:#000000;\" x=\"35.09375\" xlink:href=\"#m22b4897a5b\" y=\"18.764168\"/>\n      </g>\n     </g>\n     <g id=\"text_12\">\n      <!-- 0.30 -->\n      <g transform=\"translate(7.2 22.10748)scale(0.088 -0.088)\">\n       <defs>\n        <path d=\"M 40.578125 39.3125 \nQ 47.65625 37.796875 51.625 33 \nQ 55.609375 28.21875 55.609375 21.1875 \nQ 55.609375 10.40625 48.1875 4.484375 \nQ 40.765625 -1.421875 27.09375 -1.421875 \nQ 22.515625 -1.421875 17.65625 -0.515625 \nQ 12.796875 0.390625 7.625 2.203125 \nL 7.625 11.71875 \nQ 11.71875 9.328125 16.59375 8.109375 \nQ 21.484375 6.890625 26.8125 6.890625 \nQ 36.078125 6.890625 40.9375 10.546875 \nQ 45.796875 14.203125 45.796875 21.1875 \nQ 45.796875 27.640625 41.28125 31.265625 \nQ 36.765625 34.90625 28.71875 34.90625 \nL 20.21875 34.90625 \nL 20.21875 43.015625 \nL 29.109375 43.015625 \nQ 36.375 43.015625 40.234375 45.921875 \nQ 44.09375 48.828125 44.09375 54.296875 \nQ 44.09375 59.90625 40.109375 62.90625 \nQ 36.140625 65.921875 28.71875 65.921875 \nQ 24.65625 65.921875 20.015625 65.03125 \nQ 15.375 64.15625 9.8125 62.3125 \nL 9.8125 71.09375 \nQ 15.4375 72.65625 20.34375 73.4375 \nQ 25.25 74.21875 29.59375 74.21875 \nQ 40.828125 74.21875 47.359375 69.109375 \nQ 53.90625 64.015625 53.90625 55.328125 \nQ 53.90625 49.265625 50.4375 45.09375 \nQ 46.96875 40.921875 40.578125 39.3125 \nz\n\" id=\"DejaVuSans-51\"/>\n       </defs>\n       <use xlink:href=\"#DejaVuSans-48\"/>\n       <use x=\"63.623047\" xlink:href=\"#DejaVuSans-46\"/>\n       <use x=\"95.410156\" xlink:href=\"#DejaVuSans-51\"/>\n       <use x=\"159.033203\" xlink:href=\"#DejaVuSans-48\"/>\n      </g>\n     </g>\n    </g>\n   </g>\n   <g id=\"line2d_13\">\n    <path clip-path=\"url(#p17d56a9344)\" d=\"M 50.311932 17.083636 \nL 51.530605 57.258434 \nL 52.44461 78.860519 \nL 53.053947 89.110105 \nL 53.663283 96.727687 \nL 54.27262 102.374301 \nL 55.186625 108.33403 \nL 56.10063 112.418475 \nL 57.014635 115.426297 \nL 58.233308 118.518821 \nL 59.756649 121.635892 \nL 61.889327 125.371382 \nL 64.631342 129.682976 \nL 67.982693 134.514545 \nL 71.334045 138.964566 \nL 74.990064 143.433614 \nL 78.646084 147.539372 \nL 82.302104 151.317647 \nL 86.262792 155.078811 \nL 90.22348 158.530739 \nL 94.488836 161.939973 \nL 98.754192 165.064723 \nL 103.324217 168.132733 \nL 108.19891 171.123085 \nL 113.073603 173.8566 \nL 118.252964 176.513349 \nL 123.736993 179.082088 \nL 129.525691 181.554902 \nL 135.923725 184.039672 \nL 142.626428 186.400206 \nL 149.938467 188.731159 \nL 157.555175 190.926018 \nL 165.781219 193.067119 \nL 174.6166 195.13966 \nL 184.365986 197.193884 \nL 194.724708 199.149252 \nL 205.997436 201.05204 \nL 218.488836 202.929558 \nL 231.894241 204.717758 \nL 246.822988 206.478651 \nL 262.970408 208.156051 \nL 280.945838 209.794047 \nL 300.749278 211.369159 \nL 322.685396 212.885337 \nL 347.058861 214.342503 \nL 354.675568 214.756364 \nL 354.675568 214.756364 \n\" style=\"fill:none;stroke:#1f77b4;stroke-linecap:square;stroke-width:1.2;\"/>\n   </g>\n   <g id=\"patch_3\">\n    <path d=\"M 35.09375 224.64 \nL 35.09375 7.2 \n\" style=\"fill:none;stroke:#000000;stroke-linecap:square;stroke-linejoin:miter;\"/>\n   </g>\n   <g id=\"patch_4\">\n    <path d=\"M 369.89375 224.64 \nL 369.89375 7.2 \n\" style=\"fill:none;stroke:#000000;stroke-linecap:square;stroke-linejoin:miter;\"/>\n   </g>\n   <g id=\"patch_5\">\n    <path d=\"M 35.09375 224.64 \nL 369.89375 224.64 \n\" style=\"fill:none;stroke:#000000;stroke-linecap:square;stroke-linejoin:miter;\"/>\n   </g>\n   <g id=\"patch_6\">\n    <path d=\"M 35.09375 7.2 \nL 369.89375 7.2 \n\" style=\"fill:none;stroke:#000000;stroke-linecap:square;stroke-linejoin:miter;\"/>\n   </g>\n  </g>\n </g>\n <defs>\n  <clipPath id=\"p17d56a9344\">\n   <rect height=\"217.44\" width=\"334.8\" x=\"35.09375\" y=\"7.2\"/>\n  </clipPath>\n </defs>\n</svg>\n",
      "image/png": "[encoded data removed]"
     },
     "metadata": {
      "needs_background": "light"
     }
    }
   ],
   "source": [
    "cost_x = np.linspace(1,iterations,iterations)\n",
    "fig = plt.figure(figsize = (6,4))\n",
    "sns.lineplot(cost_x,cost)"
   ]
  },
  {
   "source": [
    "## Next - let's use this to \"Predict the Test Set\""
   ],
   "cell_type": "markdown",
   "metadata": {}
  },
  {
   "cell_type": "code",
   "execution_count": 645,
   "metadata": {},
   "outputs": [],
   "source": [
    "def predict(vector_of_x, vector_of_y):\n",
    "    FP_values, Cost = forward_prop(dict_of_weights_2,vector_of_x, vector_of_y)\n",
    "    y_prob = FP_values['A3']\n",
    "    #y_pred = round(FP_values['A3'])\n",
    "    accuracy_vector = abs(y_prob - vector_of_y) < 0.5\n",
    "    return y_prob,  accuracy_vector\n",
    "\n",
    "prob, av = predict(x_test_binary, y_test_binary)"
   ]
  },
  {
   "cell_type": "code",
   "execution_count": 646,
   "metadata": {},
   "outputs": [
    {
     "output_type": "execute_result",
     "data": {
      "text/plain": [
       "True     2044\n",
       "False      71\n",
       "dtype: int64"
      ]
     },
     "metadata": {},
     "execution_count": 646
    }
   ],
   "source": [
    "pd.Series(av[0]).value_counts()"
   ]
  },
  {
   "source": [
    "## Section 2 - Softmax!\n",
    "\n",
    "We should also test the log versus non-logged form of the cost function, as the literature really supports the idea we should be using the logged form"
   ],
   "cell_type": "markdown",
   "metadata": {}
  },
  {
   "cell_type": "code",
   "execution_count": 670,
   "metadata": {},
   "outputs": [],
   "source": [
    "#for y, we need to do some form of hot encoding.\n",
    "from sklearn.preprocessing import OneHotEncoder\n",
    "\n",
    "def create_one_hot_train_and_test(y_train, y_test):\n",
    "    one_hot = OneHotEncoder(sparse = False)\n",
    "    one_hot_y_train= one_hot.fit_transform(y_train.reshape(-1,1)).T ###currently doing it on two classes\n",
    "    one_hot_y_test = one_hot.fit_transform(y_test.reshape(-1,1)).T\n",
    "    return one_hot_y_train, one_hot_y_test\n",
    "one_hot_y_train, one_hot_y_test = create_one_hot_train_and_test(y_train_binary, y_test_binary )"
   ]
  },
  {
   "cell_type": "code",
   "execution_count": null,
   "metadata": {},
   "outputs": [],
   "source": []
  },
  {
   "cell_type": "code",
   "execution_count": 649,
   "metadata": {},
   "outputs": [
    {
     "output_type": "stream",
     "name": "stdout",
     "text": [
      "Weights matrices\nW1 (50, 784)\nB1 (50, 1)\nW2 (50, 50)\nB2 (50, 1)\nW3 (2, 50)\nB3 (2, 1)\n"
     ]
    }
   ],
   "source": [
    "# let's see if we can initialise the weights\n",
    "dict_of_weights_softmax = init_weights(x_train_binary, 50, 50, 2)"
   ]
  },
  {
   "source": [
    "## Gravy. Now let's take a look at the forward prop\n",
    "\n",
    "One thing for sure is that we need to change the calculation of the cost function."
   ],
   "cell_type": "markdown",
   "metadata": {}
  },
  {
   "cell_type": "code",
   "execution_count": 507,
   "metadata": {},
   "outputs": [
    {
     "output_type": "execute_result",
     "data": {
      "text/plain": [
       "(10, 60000)"
      ]
     },
     "metadata": {},
     "execution_count": 507
    }
   ],
   "source": [
    "one_hot_y_train.shape"
   ]
  },
  {
   "cell_type": "code",
   "execution_count": 775,
   "metadata": {},
   "outputs": [],
   "source": [
    "dict_of_FP_values_softmax = {}\n",
    "#FORWARD PROPOGATION\n",
    "def last_leg_softmax(previous_a, W, B):\n",
    "    Z = W @ previous_a + B\n",
    "    A = np.exp(Z)\n",
    "    A = A / np.sum(A,axis=0) \n",
    "    return Z, A\n",
    "\n",
    "def forward_prop_softmax(dict_of_weights,x_train,y_train_softmax):\n",
    "    dict_of_FP_values = {}\n",
    "    W1, B1, W2, B2, W3, B3 = dict_of_weights.values()\n",
    "    Z1, A1 = sigmoid_forward_prop(x_train, W1, B1)\n",
    "    Z2, A2 = sigmoid_forward_prop(A1, W2, B2)    \n",
    "    Z3, A3 = last_leg_softmax(A2, W3, B3)\n",
    "    \n",
    "    dict_of_FP_values['Z1'] = Z1\n",
    "    dict_of_FP_values['A1'] = A1\n",
    "    dict_of_FP_values['Z2'] = Z2\n",
    "    dict_of_FP_values['A2'] = A2\n",
    "    dict_of_FP_values['Z3'] = Z3\n",
    "    dict_of_FP_values['A3'] = A3\n",
    "    \n",
    "    #for cost fucntion, use the y log y_hat\n",
    "    Cost = -np.sum(y_train_softmax * np.log(A3)) / y_train_softmax.shape[1]\n",
    "    \n",
    "    return dict_of_FP_values, Cost\n",
    "\n",
    "dict_of_FP_values_softmax, Cost_softmax = forward_prop_softmax(dict_of_weights_softmax,x_train_binary,one_hot_y_train)"
   ]
  },
  {
   "cell_type": "code",
   "execution_count": 655,
   "metadata": {},
   "outputs": [],
   "source": [
    "def back_prop_first_soft_max_layer(y_true, y_predicted, previous_A, Z, W):    \n",
    "    #dC/dz first layer is just y - ÿ\n",
    "    dC_dZ_final = y_predicted - y_true\n",
    "\n",
    "    #get diffs at that layer\n",
    "    dZfinal_dW = previous_A\n",
    "    dZfinal_dB = np.zeros_like(Z) + 1\n",
    "\n",
    "    #combine to get useful differentials\n",
    "    dC_dW = dC_dZ_final @ dZfinal_dW.T / Z.size\n",
    "    dC_dB = np.sum(dC_dZ_final @ dZfinal_dB.T,axis=1,keepdims=True) / dZfinal_dB.shape[1]\n",
    "\n",
    "    #and then get the previous layer cost fuctions\n",
    "    dZfinal_dA_minus_one = W\n",
    "    dC_dA_minus_one = (dC_dZ_final.T @ dZfinal_dA_minus_one).T\n",
    "\n",
    "    return dC_dW, dC_dB, dC_dZ_final, dC_dA_minus_one\n",
    "\n",
    "def back_prop_softmax(dict_of_weights_softmax, dict_of_FP_values_softmax, y_true, x_train_flat):\n",
    "    W1, B1, W2, B2, W3, W3 = dict_of_weights_softmax.values()\n",
    "    Z1, A1, Z2, A2, Z3, A3 = dict_of_FP_values_softmax.values()\n",
    "    \n",
    "    differentiat_dict = {}\n",
    "    \n",
    "    #This line is unique it's for the first layer\n",
    "    dC_dW3, dC_dB3, dC_dZ_last, dC_dA2 = back_prop_first_soft_max_layer(y_true, A3, A2, Z3, W3)\n",
    "\n",
    "    #do the back props\n",
    "    dC_dW2, dC_dB2, dC_dZ2, dC_dA1 = back_prop_one_layer_from_A_to_previous_A(dC_dA2, Z2, A1, W2)\n",
    "    dC_dW1, dC_dB1, dC_dZ1, dC_dA0 = back_prop_one_layer_from_A_to_previous_A(dC_dA1, Z1, x_train_flat, W1)\n",
    "\n",
    "    differentiat_dict['dW1'] = dC_dW1\n",
    "    differentiat_dict['dB1'] = dC_dB1\n",
    "    differentiat_dict['dW2'] = dC_dW2\n",
    "    differentiat_dict['dB2'] = dC_dB2\n",
    "    differentiat_dict['dW3'] = dC_dW3\n",
    "    differentiat_dict['dB3'] = dC_dB3\n",
    "\n",
    "    return differentiat_dict\n",
    "\n",
    "differentiat_dict_softmax = back_prop_softmax(dict_of_weights_softmax, dict_of_FP_values_softmax, one_hot_y_train, x_train_binary)"
   ]
  },
  {
   "cell_type": "code",
   "execution_count": 796,
   "metadata": {
    "tags": []
   },
   "outputs": [],
   "source": [
    "##softmax iteration\n",
    "learning_rate = 0.1 #set an arbitrary learning rate... we can iterate and try a few others soon\n",
    "iterations_SM = 300\n",
    "    \n",
    "\n",
    "def soft_max_iteration(learning_rate, iterations, x_train, y_train):\n",
    "    cost_softmax = []\n",
    "    dict_of_weights_softmax = init_weights(x_train, 75, 40, y_train.shape[0])\n",
    "\n",
    "    for iteration in range(iterations):\n",
    "\n",
    "        dict_of_FP_values_softmax, Cost_softmax = forward_prop_softmax(dict_of_weights_softmax,x_train,y_train)\n",
    "        cost_softmax.append(Cost_softmax) #add cost to the list.\n",
    "        \n",
    "        #then, do back prop, storing the differentials\n",
    "\n",
    "        differentiat_dict_softmax = back_prop_softmax(dict_of_weights_softmax, dict_of_FP_values_softmax, y_train, x_train)\n",
    "        #then, do the gradient descent. Nothing stored, the weights just update and we re-use the new values in forward prop.\n",
    "        gradient_descent(learning_rate, dict_of_weights_softmax, differentiat_dict_softmax)\n",
    "        \n",
    "        # if iteration % 100 == 0:\n",
    "        #     print(f'iteration: {iteration}\\ncost: {Cost_softmax}')\n",
    "    \n",
    "    return cost_softmax, dict_of_FP_values_softmax, dict_of_weights_softmax\n",
    "\n"
   ]
  },
  {
   "cell_type": "code",
   "execution_count": 797,
   "metadata": {},
   "outputs": [
    {
     "output_type": "stream",
     "name": "stdout",
     "text": [
      "Weights matrices\nW1 (75, 784)\nB1 (75, 1)\nW2 (40, 75)\nB2 (40, 1)\nW3 (2, 40)\nB3 (2, 1)\n"
     ]
    }
   ],
   "source": [
    "#running the function\n",
    "cost_softmax_binary, dict_of_FP_values_softmax_binary, dict_of_weights_softmax_binary = soft_max_iteration(learning_rate, iterations, x_train_binary, one_hot_y_train)\n"
   ]
  },
  {
   "cell_type": "code",
   "execution_count": 798,
   "metadata": {},
   "outputs": [
    {
     "output_type": "stream",
     "name": "stderr",
     "text": [
      "/Users/jacoblourie/opt/anaconda3/lib/python3.8/site-packages/seaborn/_decorators.py:36: FutureWarning: Pass the following variables as keyword args: x, y. From version 0.12, the only valid positional argument will be `data`, and passing other arguments without an explicit keyword will result in an error or misinterpretation.\n  warnings.warn(\n"
     ]
    },
    {
     "output_type": "display_data",
     "data": {
      "text/plain": "<Figure size 576x288 with 1 Axes>",
      "image/svg+xml": "<?xml version=\"1.0\" encoding=\"utf-8\" standalone=\"no\"?>\n<!DOCTYPE svg PUBLIC \"-//W3C//DTD SVG 1.1//EN\"\n  \"http://www.w3.org/Graphics/SVG/1.1/DTD/svg11.dtd\">\n<!-- Created with matplotlib (https://matplotlib.org/) -->\n<svg height=\"275.24225pt\" version=\"1.1\" viewBox=\"0 0 496.38575 275.24225\" width=\"496.38575pt\" xmlns=\"http://www.w3.org/2000/svg\" xmlns:xlink=\"http://www.w3.org/1999/xlink\">\n <metadata>\n  <rdf:RDF xmlns:cc=\"http://creativecommons.org/ns#\" xmlns:dc=\"http://purl.org/dc/elements/1.1/\" xmlns:rdf=\"http://www.w3.org/1999/02/22-rdf-syntax-ns#\">\n   <cc:Work>\n    <dc:type rdf:resource=\"http://purl.org/dc/dcmitype/StillImage\"/>\n    <dc:date>2021-05-06T12:28:36.840240</dc:date>\n    <dc:format>image/svg+xml</dc:format>\n    <dc:creator>\n     <cc:Agent>\n      <dc:title>Matplotlib v3.3.2, https://matplotlib.org/</dc:title>\n     </cc:Agent>\n    </dc:creator>\n   </cc:Work>\n  </rdf:RDF>\n </metadata>\n <defs>\n  <style type=\"text/css\">*{stroke-linecap:butt;stroke-linejoin:round;}</style>\n </defs>\n <g id=\"figure_1\">\n  <g id=\"patch_1\">\n   <path d=\"M 0 275.24225 \nL 496.38575 275.24225 \nL 496.38575 0 \nL 0 0 \nz\n\" style=\"fill:none;\"/>\n  </g>\n  <g id=\"axes_1\">\n   <g id=\"patch_2\">\n    <path d=\"M 42.78575 237.9345 \nL 489.18575 237.9345 \nL 489.18575 20.4945 \nL 42.78575 20.4945 \nz\n\" style=\"fill:#ffffff;\"/>\n   </g>\n   <g id=\"matplotlib.axis_1\">\n    <g id=\"xtick_1\">\n     <g id=\"line2d_1\">\n      <defs>\n       <path d=\"M 0 0 \nL 0 4.8 \n\" id=\"me1f08924f6\" style=\"stroke:#000000;\"/>\n      </defs>\n      <g>\n       <use style=\"stroke:#000000;\" x=\"62.670435\" xlink:href=\"#me1f08924f6\" y=\"237.9345\"/>\n      </g>\n     </g>\n     <g id=\"text_1\">\n      <!-- 0 -->\n      <g transform=\"translate(59.870935 252.921125)scale(0.088 -0.088)\">\n       <defs>\n        <path d=\"M 31.78125 66.40625 \nQ 24.171875 66.40625 20.328125 58.90625 \nQ 16.5 51.421875 16.5 36.375 \nQ 16.5 21.390625 20.328125 13.890625 \nQ 24.171875 6.390625 31.78125 6.390625 \nQ 39.453125 6.390625 43.28125 13.890625 \nQ 47.125 21.390625 47.125 36.375 \nQ 47.125 51.421875 43.28125 58.90625 \nQ 39.453125 66.40625 31.78125 66.40625 \nz\nM 31.78125 74.21875 \nQ 44.046875 74.21875 50.515625 64.515625 \nQ 56.984375 54.828125 56.984375 36.375 \nQ 56.984375 17.96875 50.515625 8.265625 \nQ 44.046875 -1.421875 31.78125 -1.421875 \nQ 19.53125 -1.421875 13.0625 8.265625 \nQ 6.59375 17.96875 6.59375 36.375 \nQ 6.59375 54.828125 13.0625 64.515625 \nQ 19.53125 74.21875 31.78125 74.21875 \nz\n\" id=\"DejaVuSans-48\"/>\n       </defs>\n       <use xlink:href=\"#DejaVuSans-48\"/>\n      </g>\n     </g>\n    </g>\n    <g id=\"xtick_2\">\n     <g id=\"line2d_2\">\n      <g>\n       <use style=\"stroke:#000000;\" x=\"143.915316\" xlink:href=\"#me1f08924f6\" y=\"237.9345\"/>\n      </g>\n     </g>\n     <g id=\"text_2\">\n      <!-- 200 -->\n      <g transform=\"translate(135.516816 252.921125)scale(0.088 -0.088)\">\n       <defs>\n        <path d=\"M 19.1875 8.296875 \nL 53.609375 8.296875 \nL 53.609375 0 \nL 7.328125 0 \nL 7.328125 8.296875 \nQ 12.9375 14.109375 22.625 23.890625 \nQ 32.328125 33.6875 34.8125 36.53125 \nQ 39.546875 41.84375 41.421875 45.53125 \nQ 43.3125 49.21875 43.3125 52.78125 \nQ 43.3125 58.59375 39.234375 62.25 \nQ 35.15625 65.921875 28.609375 65.921875 \nQ 23.96875 65.921875 18.8125 64.3125 \nQ 13.671875 62.703125 7.8125 59.421875 \nL 7.8125 69.390625 \nQ 13.765625 71.78125 18.9375 73 \nQ 24.125 74.21875 28.421875 74.21875 \nQ 39.75 74.21875 46.484375 68.546875 \nQ 53.21875 62.890625 53.21875 53.421875 \nQ 53.21875 48.921875 51.53125 44.890625 \nQ 49.859375 40.875 45.40625 35.40625 \nQ 44.1875 33.984375 37.640625 27.21875 \nQ 31.109375 20.453125 19.1875 8.296875 \nz\n\" id=\"DejaVuSans-50\"/>\n       </defs>\n       <use xlink:href=\"#DejaVuSans-50\"/>\n       <use x=\"63.623047\" xlink:href=\"#DejaVuSans-48\"/>\n       <use x=\"127.246094\" xlink:href=\"#DejaVuSans-48\"/>\n      </g>\n     </g>\n    </g>\n    <g id=\"xtick_3\">\n     <g id=\"line2d_3\">\n      <g>\n       <use style=\"stroke:#000000;\" x=\"225.160197\" xlink:href=\"#me1f08924f6\" y=\"237.9345\"/>\n      </g>\n     </g>\n     <g id=\"text_3\">\n      <!-- 400 -->\n      <g transform=\"translate(216.761697 252.921125)scale(0.088 -0.088)\">\n       <defs>\n        <path d=\"M 37.796875 64.3125 \nL 12.890625 25.390625 \nL 37.796875 25.390625 \nz\nM 35.203125 72.90625 \nL 47.609375 72.90625 \nL 47.609375 25.390625 \nL 58.015625 25.390625 \nL 58.015625 17.1875 \nL 47.609375 17.1875 \nL 47.609375 0 \nL 37.796875 0 \nL 37.796875 17.1875 \nL 4.890625 17.1875 \nL 4.890625 26.703125 \nz\n\" id=\"DejaVuSans-52\"/>\n       </defs>\n       <use xlink:href=\"#DejaVuSans-52\"/>\n       <use x=\"63.623047\" xlink:href=\"#DejaVuSans-48\"/>\n       <use x=\"127.246094\" xlink:href=\"#DejaVuSans-48\"/>\n      </g>\n     </g>\n    </g>\n    <g id=\"xtick_4\">\n     <g id=\"line2d_4\">\n      <g>\n       <use style=\"stroke:#000000;\" x=\"306.405078\" xlink:href=\"#me1f08924f6\" y=\"237.9345\"/>\n      </g>\n     </g>\n     <g id=\"text_4\">\n      <!-- 600 -->\n      <g transform=\"translate(298.006578 252.921125)scale(0.088 -0.088)\">\n       <defs>\n        <path d=\"M 33.015625 40.375 \nQ 26.375 40.375 22.484375 35.828125 \nQ 18.609375 31.296875 18.609375 23.390625 \nQ 18.609375 15.53125 22.484375 10.953125 \nQ 26.375 6.390625 33.015625 6.390625 \nQ 39.65625 6.390625 43.53125 10.953125 \nQ 47.40625 15.53125 47.40625 23.390625 \nQ 47.40625 31.296875 43.53125 35.828125 \nQ 39.65625 40.375 33.015625 40.375 \nz\nM 52.59375 71.296875 \nL 52.59375 62.3125 \nQ 48.875 64.0625 45.09375 64.984375 \nQ 41.3125 65.921875 37.59375 65.921875 \nQ 27.828125 65.921875 22.671875 59.328125 \nQ 17.53125 52.734375 16.796875 39.40625 \nQ 19.671875 43.65625 24.015625 45.921875 \nQ 28.375 48.1875 33.59375 48.1875 \nQ 44.578125 48.1875 50.953125 41.515625 \nQ 57.328125 34.859375 57.328125 23.390625 \nQ 57.328125 12.15625 50.6875 5.359375 \nQ 44.046875 -1.421875 33.015625 -1.421875 \nQ 20.359375 -1.421875 13.671875 8.265625 \nQ 6.984375 17.96875 6.984375 36.375 \nQ 6.984375 53.65625 15.1875 63.9375 \nQ 23.390625 74.21875 37.203125 74.21875 \nQ 40.921875 74.21875 44.703125 73.484375 \nQ 48.484375 72.75 52.59375 71.296875 \nz\n\" id=\"DejaVuSans-54\"/>\n       </defs>\n       <use xlink:href=\"#DejaVuSans-54\"/>\n       <use x=\"63.623047\" xlink:href=\"#DejaVuSans-48\"/>\n       <use x=\"127.246094\" xlink:href=\"#DejaVuSans-48\"/>\n      </g>\n     </g>\n    </g>\n    <g id=\"xtick_5\">\n     <g id=\"line2d_5\">\n      <g>\n       <use style=\"stroke:#000000;\" x=\"387.64996\" xlink:href=\"#me1f08924f6\" y=\"237.9345\"/>\n      </g>\n     </g>\n     <g id=\"text_5\">\n      <!-- 800 -->\n      <g transform=\"translate(379.25146 252.921125)scale(0.088 -0.088)\">\n       <defs>\n        <path d=\"M 31.78125 34.625 \nQ 24.75 34.625 20.71875 30.859375 \nQ 16.703125 27.09375 16.703125 20.515625 \nQ 16.703125 13.921875 20.71875 10.15625 \nQ 24.75 6.390625 31.78125 6.390625 \nQ 38.8125 6.390625 42.859375 10.171875 \nQ 46.921875 13.96875 46.921875 20.515625 \nQ 46.921875 27.09375 42.890625 30.859375 \nQ 38.875 34.625 31.78125 34.625 \nz\nM 21.921875 38.8125 \nQ 15.578125 40.375 12.03125 44.71875 \nQ 8.5 49.078125 8.5 55.328125 \nQ 8.5 64.0625 14.71875 69.140625 \nQ 20.953125 74.21875 31.78125 74.21875 \nQ 42.671875 74.21875 48.875 69.140625 \nQ 55.078125 64.0625 55.078125 55.328125 \nQ 55.078125 49.078125 51.53125 44.71875 \nQ 48 40.375 41.703125 38.8125 \nQ 48.828125 37.15625 52.796875 32.3125 \nQ 56.78125 27.484375 56.78125 20.515625 \nQ 56.78125 9.90625 50.3125 4.234375 \nQ 43.84375 -1.421875 31.78125 -1.421875 \nQ 19.734375 -1.421875 13.25 4.234375 \nQ 6.78125 9.90625 6.78125 20.515625 \nQ 6.78125 27.484375 10.78125 32.3125 \nQ 14.796875 37.15625 21.921875 38.8125 \nz\nM 18.3125 54.390625 \nQ 18.3125 48.734375 21.84375 45.5625 \nQ 25.390625 42.390625 31.78125 42.390625 \nQ 38.140625 42.390625 41.71875 45.5625 \nQ 45.3125 48.734375 45.3125 54.390625 \nQ 45.3125 60.0625 41.71875 63.234375 \nQ 38.140625 66.40625 31.78125 66.40625 \nQ 25.390625 66.40625 21.84375 63.234375 \nQ 18.3125 60.0625 18.3125 54.390625 \nz\n\" id=\"DejaVuSans-56\"/>\n       </defs>\n       <use xlink:href=\"#DejaVuSans-56\"/>\n       <use x=\"63.623047\" xlink:href=\"#DejaVuSans-48\"/>\n       <use x=\"127.246094\" xlink:href=\"#DejaVuSans-48\"/>\n      </g>\n     </g>\n    </g>\n    <g id=\"xtick_6\">\n     <g id=\"line2d_6\">\n      <g>\n       <use style=\"stroke:#000000;\" x=\"468.894841\" xlink:href=\"#me1f08924f6\" y=\"237.9345\"/>\n      </g>\n     </g>\n     <g id=\"text_6\">\n      <!-- 1000 -->\n      <g transform=\"translate(457.696841 252.921125)scale(0.088 -0.088)\">\n       <defs>\n        <path d=\"M 12.40625 8.296875 \nL 28.515625 8.296875 \nL 28.515625 63.921875 \nL 10.984375 60.40625 \nL 10.984375 69.390625 \nL 28.421875 72.90625 \nL 38.28125 72.90625 \nL 38.28125 8.296875 \nL 54.390625 8.296875 \nL 54.390625 0 \nL 12.40625 0 \nz\n\" id=\"DejaVuSans-49\"/>\n       </defs>\n       <use xlink:href=\"#DejaVuSans-49\"/>\n       <use x=\"63.623047\" xlink:href=\"#DejaVuSans-48\"/>\n       <use x=\"127.246094\" xlink:href=\"#DejaVuSans-48\"/>\n       <use x=\"190.869141\" xlink:href=\"#DejaVuSans-48\"/>\n      </g>\n     </g>\n    </g>\n    <g id=\"text_7\">\n     <!-- iteration -->\n     <g transform=\"translate(245.708 266.04575)scale(0.096 -0.096)\">\n      <defs>\n       <path d=\"M 9.421875 54.6875 \nL 18.40625 54.6875 \nL 18.40625 0 \nL 9.421875 0 \nz\nM 9.421875 75.984375 \nL 18.40625 75.984375 \nL 18.40625 64.59375 \nL 9.421875 64.59375 \nz\n\" id=\"DejaVuSans-105\"/>\n       <path d=\"M 18.3125 70.21875 \nL 18.3125 54.6875 \nL 36.8125 54.6875 \nL 36.8125 47.703125 \nL 18.3125 47.703125 \nL 18.3125 18.015625 \nQ 18.3125 11.328125 20.140625 9.421875 \nQ 21.96875 7.515625 27.59375 7.515625 \nL 36.8125 7.515625 \nL 36.8125 0 \nL 27.59375 0 \nQ 17.1875 0 13.234375 3.875 \nQ 9.28125 7.765625 9.28125 18.015625 \nL 9.28125 47.703125 \nL 2.6875 47.703125 \nL 2.6875 54.6875 \nL 9.28125 54.6875 \nL 9.28125 70.21875 \nz\n\" id=\"DejaVuSans-116\"/>\n       <path d=\"M 56.203125 29.59375 \nL 56.203125 25.203125 \nL 14.890625 25.203125 \nQ 15.484375 15.921875 20.484375 11.0625 \nQ 25.484375 6.203125 34.421875 6.203125 \nQ 39.59375 6.203125 44.453125 7.46875 \nQ 49.3125 8.734375 54.109375 11.28125 \nL 54.109375 2.78125 \nQ 49.265625 0.734375 44.1875 -0.34375 \nQ 39.109375 -1.421875 33.890625 -1.421875 \nQ 20.796875 -1.421875 13.15625 6.1875 \nQ 5.515625 13.8125 5.515625 26.8125 \nQ 5.515625 40.234375 12.765625 48.109375 \nQ 20.015625 56 32.328125 56 \nQ 43.359375 56 49.78125 48.890625 \nQ 56.203125 41.796875 56.203125 29.59375 \nz\nM 47.21875 32.234375 \nQ 47.125 39.59375 43.09375 43.984375 \nQ 39.0625 48.390625 32.421875 48.390625 \nQ 24.90625 48.390625 20.390625 44.140625 \nQ 15.875 39.890625 15.1875 32.171875 \nz\n\" id=\"DejaVuSans-101\"/>\n       <path d=\"M 41.109375 46.296875 \nQ 39.59375 47.171875 37.8125 47.578125 \nQ 36.03125 48 33.890625 48 \nQ 26.265625 48 22.1875 43.046875 \nQ 18.109375 38.09375 18.109375 28.8125 \nL 18.109375 0 \nL 9.078125 0 \nL 9.078125 54.6875 \nL 18.109375 54.6875 \nL 18.109375 46.1875 \nQ 20.953125 51.171875 25.484375 53.578125 \nQ 30.03125 56 36.53125 56 \nQ 37.453125 56 38.578125 55.875 \nQ 39.703125 55.765625 41.0625 55.515625 \nz\n\" id=\"DejaVuSans-114\"/>\n       <path d=\"M 34.28125 27.484375 \nQ 23.390625 27.484375 19.1875 25 \nQ 14.984375 22.515625 14.984375 16.5 \nQ 14.984375 11.71875 18.140625 8.90625 \nQ 21.296875 6.109375 26.703125 6.109375 \nQ 34.1875 6.109375 38.703125 11.40625 \nQ 43.21875 16.703125 43.21875 25.484375 \nL 43.21875 27.484375 \nz\nM 52.203125 31.203125 \nL 52.203125 0 \nL 43.21875 0 \nL 43.21875 8.296875 \nQ 40.140625 3.328125 35.546875 0.953125 \nQ 30.953125 -1.421875 24.3125 -1.421875 \nQ 15.921875 -1.421875 10.953125 3.296875 \nQ 6 8.015625 6 15.921875 \nQ 6 25.140625 12.171875 29.828125 \nQ 18.359375 34.515625 30.609375 34.515625 \nL 43.21875 34.515625 \nL 43.21875 35.40625 \nQ 43.21875 41.609375 39.140625 45 \nQ 35.0625 48.390625 27.6875 48.390625 \nQ 23 48.390625 18.546875 47.265625 \nQ 14.109375 46.140625 10.015625 43.890625 \nL 10.015625 52.203125 \nQ 14.9375 54.109375 19.578125 55.046875 \nQ 24.21875 56 28.609375 56 \nQ 40.484375 56 46.34375 49.84375 \nQ 52.203125 43.703125 52.203125 31.203125 \nz\n\" id=\"DejaVuSans-97\"/>\n       <path d=\"M 30.609375 48.390625 \nQ 23.390625 48.390625 19.1875 42.75 \nQ 14.984375 37.109375 14.984375 27.296875 \nQ 14.984375 17.484375 19.15625 11.84375 \nQ 23.34375 6.203125 30.609375 6.203125 \nQ 37.796875 6.203125 41.984375 11.859375 \nQ 46.1875 17.53125 46.1875 27.296875 \nQ 46.1875 37.015625 41.984375 42.703125 \nQ 37.796875 48.390625 30.609375 48.390625 \nz\nM 30.609375 56 \nQ 42.328125 56 49.015625 48.375 \nQ 55.71875 40.765625 55.71875 27.296875 \nQ 55.71875 13.875 49.015625 6.21875 \nQ 42.328125 -1.421875 30.609375 -1.421875 \nQ 18.84375 -1.421875 12.171875 6.21875 \nQ 5.515625 13.875 5.515625 27.296875 \nQ 5.515625 40.765625 12.171875 48.375 \nQ 18.84375 56 30.609375 56 \nz\n\" id=\"DejaVuSans-111\"/>\n       <path d=\"M 54.890625 33.015625 \nL 54.890625 0 \nL 45.90625 0 \nL 45.90625 32.71875 \nQ 45.90625 40.484375 42.875 44.328125 \nQ 39.84375 48.1875 33.796875 48.1875 \nQ 26.515625 48.1875 22.3125 43.546875 \nQ 18.109375 38.921875 18.109375 30.90625 \nL 18.109375 0 \nL 9.078125 0 \nL 9.078125 54.6875 \nL 18.109375 54.6875 \nL 18.109375 46.1875 \nQ 21.34375 51.125 25.703125 53.5625 \nQ 30.078125 56 35.796875 56 \nQ 45.21875 56 50.046875 50.171875 \nQ 54.890625 44.34375 54.890625 33.015625 \nz\n\" id=\"DejaVuSans-110\"/>\n      </defs>\n      <use xlink:href=\"#DejaVuSans-105\"/>\n      <use x=\"27.783203\" xlink:href=\"#DejaVuSans-116\"/>\n      <use x=\"66.992188\" xlink:href=\"#DejaVuSans-101\"/>\n      <use x=\"128.515625\" xlink:href=\"#DejaVuSans-114\"/>\n      <use x=\"169.628906\" xlink:href=\"#DejaVuSans-97\"/>\n      <use x=\"230.908203\" xlink:href=\"#DejaVuSans-116\"/>\n      <use x=\"270.117188\" xlink:href=\"#DejaVuSans-105\"/>\n      <use x=\"297.900391\" xlink:href=\"#DejaVuSans-111\"/>\n      <use x=\"359.082031\" xlink:href=\"#DejaVuSans-110\"/>\n     </g>\n    </g>\n   </g>\n   <g id=\"matplotlib.axis_2\">\n    <g id=\"ytick_1\">\n     <g id=\"line2d_7\">\n      <defs>\n       <path d=\"M 0 0 \nL -4.8 0 \n\" id=\"m447a990ae0\" style=\"stroke:#000000;\"/>\n      </defs>\n      <g>\n       <use style=\"stroke:#000000;\" x=\"42.78575\" xlink:href=\"#m447a990ae0\" y=\"231.618943\"/>\n      </g>\n     </g>\n     <g id=\"text_8\">\n      <!-- 0.0 -->\n      <g transform=\"translate(20.491 234.962255)scale(0.088 -0.088)\">\n       <defs>\n        <path d=\"M 10.6875 12.40625 \nL 21 12.40625 \nL 21 0 \nL 10.6875 0 \nz\n\" id=\"DejaVuSans-46\"/>\n       </defs>\n       <use xlink:href=\"#DejaVuSans-48\"/>\n       <use x=\"63.623047\" xlink:href=\"#DejaVuSans-46\"/>\n       <use x=\"95.410156\" xlink:href=\"#DejaVuSans-48\"/>\n      </g>\n     </g>\n    </g>\n    <g id=\"ytick_2\">\n     <g id=\"line2d_8\">\n      <g>\n       <use style=\"stroke:#000000;\" x=\"42.78575\" xlink:href=\"#m447a990ae0\" y=\"199.087913\"/>\n      </g>\n     </g>\n     <g id=\"text_9\">\n      <!-- 0.5 -->\n      <g transform=\"translate(20.491 202.431226)scale(0.088 -0.088)\">\n       <defs>\n        <path d=\"M 10.796875 72.90625 \nL 49.515625 72.90625 \nL 49.515625 64.59375 \nL 19.828125 64.59375 \nL 19.828125 46.734375 \nQ 21.96875 47.46875 24.109375 47.828125 \nQ 26.265625 48.1875 28.421875 48.1875 \nQ 40.625 48.1875 47.75 41.5 \nQ 54.890625 34.8125 54.890625 23.390625 \nQ 54.890625 11.625 47.5625 5.09375 \nQ 40.234375 -1.421875 26.90625 -1.421875 \nQ 22.3125 -1.421875 17.546875 -0.640625 \nQ 12.796875 0.140625 7.71875 1.703125 \nL 7.71875 11.625 \nQ 12.109375 9.234375 16.796875 8.0625 \nQ 21.484375 6.890625 26.703125 6.890625 \nQ 35.15625 6.890625 40.078125 11.328125 \nQ 45.015625 15.765625 45.015625 23.390625 \nQ 45.015625 31 40.078125 35.4375 \nQ 35.15625 39.890625 26.703125 39.890625 \nQ 22.75 39.890625 18.8125 39.015625 \nQ 14.890625 38.140625 10.796875 36.28125 \nz\n\" id=\"DejaVuSans-53\"/>\n       </defs>\n       <use xlink:href=\"#DejaVuSans-48\"/>\n       <use x=\"63.623047\" xlink:href=\"#DejaVuSans-46\"/>\n       <use x=\"95.410156\" xlink:href=\"#DejaVuSans-53\"/>\n      </g>\n     </g>\n    </g>\n    <g id=\"ytick_3\">\n     <g id=\"line2d_9\">\n      <g>\n       <use style=\"stroke:#000000;\" x=\"42.78575\" xlink:href=\"#m447a990ae0\" y=\"166.556884\"/>\n      </g>\n     </g>\n     <g id=\"text_10\">\n      <!-- 1.0 -->\n      <g transform=\"translate(20.491 169.900196)scale(0.088 -0.088)\">\n       <use xlink:href=\"#DejaVuSans-49\"/>\n       <use x=\"63.623047\" xlink:href=\"#DejaVuSans-46\"/>\n       <use x=\"95.410156\" xlink:href=\"#DejaVuSans-48\"/>\n      </g>\n     </g>\n    </g>\n    <g id=\"ytick_4\">\n     <g id=\"line2d_10\">\n      <g>\n       <use style=\"stroke:#000000;\" x=\"42.78575\" xlink:href=\"#m447a990ae0\" y=\"134.025854\"/>\n      </g>\n     </g>\n     <g id=\"text_11\">\n      <!-- 1.5 -->\n      <g transform=\"translate(20.491 137.369166)scale(0.088 -0.088)\">\n       <use xlink:href=\"#DejaVuSans-49\"/>\n       <use x=\"63.623047\" xlink:href=\"#DejaVuSans-46\"/>\n       <use x=\"95.410156\" xlink:href=\"#DejaVuSans-53\"/>\n      </g>\n     </g>\n    </g>\n    <g id=\"ytick_5\">\n     <g id=\"line2d_11\">\n      <g>\n       <use style=\"stroke:#000000;\" x=\"42.78575\" xlink:href=\"#m447a990ae0\" y=\"101.494824\"/>\n      </g>\n     </g>\n     <g id=\"text_12\">\n      <!-- 2.0 -->\n      <g transform=\"translate(20.491 104.838137)scale(0.088 -0.088)\">\n       <use xlink:href=\"#DejaVuSans-50\"/>\n       <use x=\"63.623047\" xlink:href=\"#DejaVuSans-46\"/>\n       <use x=\"95.410156\" xlink:href=\"#DejaVuSans-48\"/>\n      </g>\n     </g>\n    </g>\n    <g id=\"ytick_6\">\n     <g id=\"line2d_12\">\n      <g>\n       <use style=\"stroke:#000000;\" x=\"42.78575\" xlink:href=\"#m447a990ae0\" y=\"68.963795\"/>\n      </g>\n     </g>\n     <g id=\"text_13\">\n      <!-- 2.5 -->\n      <g transform=\"translate(20.491 72.307107)scale(0.088 -0.088)\">\n       <use xlink:href=\"#DejaVuSans-50\"/>\n       <use x=\"63.623047\" xlink:href=\"#DejaVuSans-46\"/>\n       <use x=\"95.410156\" xlink:href=\"#DejaVuSans-53\"/>\n      </g>\n     </g>\n    </g>\n    <g id=\"ytick_7\">\n     <g id=\"line2d_13\">\n      <g>\n       <use style=\"stroke:#000000;\" x=\"42.78575\" xlink:href=\"#m447a990ae0\" y=\"36.432765\"/>\n      </g>\n     </g>\n     <g id=\"text_14\">\n      <!-- 3.0 -->\n      <g transform=\"translate(20.491 39.776077)scale(0.088 -0.088)\">\n       <defs>\n        <path d=\"M 40.578125 39.3125 \nQ 47.65625 37.796875 51.625 33 \nQ 55.609375 28.21875 55.609375 21.1875 \nQ 55.609375 10.40625 48.1875 4.484375 \nQ 40.765625 -1.421875 27.09375 -1.421875 \nQ 22.515625 -1.421875 17.65625 -0.515625 \nQ 12.796875 0.390625 7.625 2.203125 \nL 7.625 11.71875 \nQ 11.71875 9.328125 16.59375 8.109375 \nQ 21.484375 6.890625 26.8125 6.890625 \nQ 36.078125 6.890625 40.9375 10.546875 \nQ 45.796875 14.203125 45.796875 21.1875 \nQ 45.796875 27.640625 41.28125 31.265625 \nQ 36.765625 34.90625 28.71875 34.90625 \nL 20.21875 34.90625 \nL 20.21875 43.015625 \nL 29.109375 43.015625 \nQ 36.375 43.015625 40.234375 45.921875 \nQ 44.09375 48.828125 44.09375 54.296875 \nQ 44.09375 59.90625 40.109375 62.90625 \nQ 36.140625 65.921875 28.71875 65.921875 \nQ 24.65625 65.921875 20.015625 65.03125 \nQ 15.375 64.15625 9.8125 62.3125 \nL 9.8125 71.09375 \nQ 15.4375 72.65625 20.34375 73.4375 \nQ 25.25 74.21875 29.59375 74.21875 \nQ 40.828125 74.21875 47.359375 69.109375 \nQ 53.90625 64.015625 53.90625 55.328125 \nQ 53.90625 49.265625 50.4375 45.09375 \nQ 46.96875 40.921875 40.578125 39.3125 \nz\n\" id=\"DejaVuSans-51\"/>\n       </defs>\n       <use xlink:href=\"#DejaVuSans-51\"/>\n       <use x=\"63.623047\" xlink:href=\"#DejaVuSans-46\"/>\n       <use x=\"95.410156\" xlink:href=\"#DejaVuSans-48\"/>\n      </g>\n     </g>\n    </g>\n    <g id=\"text_15\">\n     <!-- Cost function -->\n     <g transform=\"translate(14.4945 161.01825)rotate(-90)scale(0.096 -0.096)\">\n      <defs>\n       <path d=\"M 64.40625 67.28125 \nL 64.40625 56.890625 \nQ 59.421875 61.53125 53.78125 63.8125 \nQ 48.140625 66.109375 41.796875 66.109375 \nQ 29.296875 66.109375 22.65625 58.46875 \nQ 16.015625 50.828125 16.015625 36.375 \nQ 16.015625 21.96875 22.65625 14.328125 \nQ 29.296875 6.6875 41.796875 6.6875 \nQ 48.140625 6.6875 53.78125 8.984375 \nQ 59.421875 11.28125 64.40625 15.921875 \nL 64.40625 5.609375 \nQ 59.234375 2.09375 53.4375 0.328125 \nQ 47.65625 -1.421875 41.21875 -1.421875 \nQ 24.65625 -1.421875 15.125 8.703125 \nQ 5.609375 18.84375 5.609375 36.375 \nQ 5.609375 53.953125 15.125 64.078125 \nQ 24.65625 74.21875 41.21875 74.21875 \nQ 47.75 74.21875 53.53125 72.484375 \nQ 59.328125 70.75 64.40625 67.28125 \nz\n\" id=\"DejaVuSans-67\"/>\n       <path d=\"M 44.28125 53.078125 \nL 44.28125 44.578125 \nQ 40.484375 46.53125 36.375 47.5 \nQ 32.28125 48.484375 27.875 48.484375 \nQ 21.1875 48.484375 17.84375 46.4375 \nQ 14.5 44.390625 14.5 40.28125 \nQ 14.5 37.15625 16.890625 35.375 \nQ 19.28125 33.59375 26.515625 31.984375 \nL 29.59375 31.296875 \nQ 39.15625 29.25 43.1875 25.515625 \nQ 47.21875 21.78125 47.21875 15.09375 \nQ 47.21875 7.46875 41.1875 3.015625 \nQ 35.15625 -1.421875 24.609375 -1.421875 \nQ 20.21875 -1.421875 15.453125 -0.5625 \nQ 10.6875 0.296875 5.421875 2 \nL 5.421875 11.28125 \nQ 10.40625 8.6875 15.234375 7.390625 \nQ 20.0625 6.109375 24.8125 6.109375 \nQ 31.15625 6.109375 34.5625 8.28125 \nQ 37.984375 10.453125 37.984375 14.40625 \nQ 37.984375 18.0625 35.515625 20.015625 \nQ 33.0625 21.96875 24.703125 23.78125 \nL 21.578125 24.515625 \nQ 13.234375 26.265625 9.515625 29.90625 \nQ 5.8125 33.546875 5.8125 39.890625 \nQ 5.8125 47.609375 11.28125 51.796875 \nQ 16.75 56 26.8125 56 \nQ 31.78125 56 36.171875 55.265625 \nQ 40.578125 54.546875 44.28125 53.078125 \nz\n\" id=\"DejaVuSans-115\"/>\n       <path id=\"DejaVuSans-32\"/>\n       <path d=\"M 37.109375 75.984375 \nL 37.109375 68.5 \nL 28.515625 68.5 \nQ 23.6875 68.5 21.796875 66.546875 \nQ 19.921875 64.59375 19.921875 59.515625 \nL 19.921875 54.6875 \nL 34.71875 54.6875 \nL 34.71875 47.703125 \nL 19.921875 47.703125 \nL 19.921875 0 \nL 10.890625 0 \nL 10.890625 47.703125 \nL 2.296875 47.703125 \nL 2.296875 54.6875 \nL 10.890625 54.6875 \nL 10.890625 58.5 \nQ 10.890625 67.625 15.140625 71.796875 \nQ 19.390625 75.984375 28.609375 75.984375 \nz\n\" id=\"DejaVuSans-102\"/>\n       <path d=\"M 8.5 21.578125 \nL 8.5 54.6875 \nL 17.484375 54.6875 \nL 17.484375 21.921875 \nQ 17.484375 14.15625 20.5 10.265625 \nQ 23.53125 6.390625 29.59375 6.390625 \nQ 36.859375 6.390625 41.078125 11.03125 \nQ 45.3125 15.671875 45.3125 23.6875 \nL 45.3125 54.6875 \nL 54.296875 54.6875 \nL 54.296875 0 \nL 45.3125 0 \nL 45.3125 8.40625 \nQ 42.046875 3.421875 37.71875 1 \nQ 33.40625 -1.421875 27.6875 -1.421875 \nQ 18.265625 -1.421875 13.375 4.4375 \nQ 8.5 10.296875 8.5 21.578125 \nz\nM 31.109375 56 \nz\n\" id=\"DejaVuSans-117\"/>\n       <path d=\"M 48.78125 52.59375 \nL 48.78125 44.1875 \nQ 44.96875 46.296875 41.140625 47.34375 \nQ 37.3125 48.390625 33.40625 48.390625 \nQ 24.65625 48.390625 19.8125 42.84375 \nQ 14.984375 37.3125 14.984375 27.296875 \nQ 14.984375 17.28125 19.8125 11.734375 \nQ 24.65625 6.203125 33.40625 6.203125 \nQ 37.3125 6.203125 41.140625 7.25 \nQ 44.96875 8.296875 48.78125 10.40625 \nL 48.78125 2.09375 \nQ 45.015625 0.34375 40.984375 -0.53125 \nQ 36.96875 -1.421875 32.421875 -1.421875 \nQ 20.0625 -1.421875 12.78125 6.34375 \nQ 5.515625 14.109375 5.515625 27.296875 \nQ 5.515625 40.671875 12.859375 48.328125 \nQ 20.21875 56 33.015625 56 \nQ 37.15625 56 41.109375 55.140625 \nQ 45.0625 54.296875 48.78125 52.59375 \nz\n\" id=\"DejaVuSans-99\"/>\n      </defs>\n      <use xlink:href=\"#DejaVuSans-67\"/>\n      <use x=\"69.824219\" xlink:href=\"#DejaVuSans-111\"/>\n      <use x=\"131.005859\" xlink:href=\"#DejaVuSans-115\"/>\n      <use x=\"183.105469\" xlink:href=\"#DejaVuSans-116\"/>\n      <use x=\"222.314453\" xlink:href=\"#DejaVuSans-32\"/>\n      <use x=\"254.101562\" xlink:href=\"#DejaVuSans-102\"/>\n      <use x=\"289.306641\" xlink:href=\"#DejaVuSans-117\"/>\n      <use x=\"352.685547\" xlink:href=\"#DejaVuSans-110\"/>\n      <use x=\"416.064453\" xlink:href=\"#DejaVuSans-99\"/>\n      <use x=\"471.044922\" xlink:href=\"#DejaVuSans-116\"/>\n      <use x=\"510.253906\" xlink:href=\"#DejaVuSans-105\"/>\n      <use x=\"538.037109\" xlink:href=\"#DejaVuSans-111\"/>\n      <use x=\"599.21875\" xlink:href=\"#DejaVuSans-110\"/>\n     </g>\n    </g>\n   </g>\n   <g id=\"line2d_14\">\n    <path clip-path=\"url(#p7370b19858)\" d=\"M 63.076659 30.378136 \nL 63.889108 49.235773 \nL 64.701557 61.031446 \nL 65.514006 68.305429 \nL 66.326454 72.826627 \nL 67.138903 75.842509 \nL 68.357576 79.206329 \nL 69.170025 80.653642 \nL 69.982474 81.319848 \nL 70.794923 81.77245 \nL 71.201147 82.186087 \nL 71.607372 82.835043 \nL 72.013596 83.760586 \nL 72.826045 86.458063 \nL 73.638494 90.129981 \nL 74.857167 96.855111 \nL 78.106962 117.003031 \nL 80.544309 131.440289 \nL 82.575431 142.318828 \nL 84.606553 151.995113 \nL 86.637675 160.46413 \nL 88.668797 167.797055 \nL 90.293694 172.919113 \nL 91.918592 177.448807 \nL 93.54349 181.45086 \nL 95.574612 185.805328 \nL 97.605734 189.542051 \nL 99.636856 192.757385 \nL 101.667978 195.533397 \nL 103.6991 197.938748 \nL 105.730222 200.030112 \nL 108.167568 202.189743 \nL 110.604915 204.02635 \nL 113.042261 205.587061 \nL 115.479607 206.904923 \nL 117.916954 207.999367 \nL 120.3543 208.874782 \nL 122.791647 209.515999 \nL 124.822769 209.840097 \nL 126.853891 209.917542 \nL 128.478788 209.736026 \nL 129.697462 209.399188 \nL 130.916135 208.816073 \nL 131.728584 208.235498 \nL 132.541033 207.440019 \nL 133.353481 206.347032 \nL 134.16593 204.830258 \nL 134.978379 202.696217 \nL 135.790828 199.656444 \nL 136.603277 195.327398 \nL 137.415725 189.442068 \nL 138.634399 179.531312 \nL 139.446847 174.801496 \nL 140.259296 171.800344 \nL 141.071745 169.836732 \nL 141.477969 169.293088 \nL 141.884194 169.133602 \nL 142.290418 169.399057 \nL 142.696643 170.093858 \nL 143.102867 171.194023 \nL 143.915316 174.425038 \nL 145.133989 180.846951 \nL 146.352662 187.30521 \nL 147.571336 192.470721 \nL 148.790009 196.286232 \nL 150.008682 199.142575 \nL 151.227355 201.372535 \nL 152.446028 203.187169 \nL 154.070926 205.174284 \nL 155.695824 206.823071 \nL 157.726946 208.556127 \nL 160.164292 210.294106 \nL 162.601639 211.75913 \nL 165.445209 213.208465 \nL 168.695005 214.601203 \nL 172.351024 215.909862 \nL 176.413268 217.121468 \nL 181.287961 218.326162 \nL 186.568879 219.399747 \nL 192.662245 220.406606 \nL 199.56806 221.319251 \nL 208.098772 222.210177 \nL 218.660607 223.077574 \nL 231.659788 223.916823 \nL 247.096315 224.682723 \nL 264.563965 225.321519 \nL 286.093858 225.878136 \nL 316.560689 226.422686 \nL 375.057003 227.215408 \nL 433.553318 227.77639 \nL 468.894841 228.050864 \nL 468.894841 228.050864 \n\" style=\"fill:none;stroke:#1f77b4;stroke-linecap:square;stroke-width:1.2;\"/>\n   </g>\n   <g id=\"patch_3\">\n    <path d=\"M 42.78575 237.9345 \nL 42.78575 20.4945 \n\" style=\"fill:none;stroke:#000000;stroke-linecap:square;stroke-linejoin:miter;\"/>\n   </g>\n   <g id=\"patch_4\">\n    <path d=\"M 489.18575 237.9345 \nL 489.18575 20.4945 \n\" style=\"fill:none;stroke:#000000;stroke-linecap:square;stroke-linejoin:miter;\"/>\n   </g>\n   <g id=\"patch_5\">\n    <path d=\"M 42.78575 237.9345 \nL 489.18575 237.9345 \n\" style=\"fill:none;stroke:#000000;stroke-linecap:square;stroke-linejoin:miter;\"/>\n   </g>\n   <g id=\"patch_6\">\n    <path d=\"M 42.78575 20.4945 \nL 489.18575 20.4945 \n\" style=\"fill:none;stroke:#000000;stroke-linecap:square;stroke-linejoin:miter;\"/>\n   </g>\n   <g id=\"text_16\">\n    <!-- cost over time -->\n    <g transform=\"translate(231.42725 14.4945)scale(0.096 -0.096)\">\n     <defs>\n      <path d=\"M 2.984375 54.6875 \nL 12.5 54.6875 \nL 29.59375 8.796875 \nL 46.6875 54.6875 \nL 56.203125 54.6875 \nL 35.6875 0 \nL 23.484375 0 \nz\n\" id=\"DejaVuSans-118\"/>\n      <path d=\"M 52 44.1875 \nQ 55.375 50.25 60.0625 53.125 \nQ 64.75 56 71.09375 56 \nQ 79.640625 56 84.28125 50.015625 \nQ 88.921875 44.046875 88.921875 33.015625 \nL 88.921875 0 \nL 79.890625 0 \nL 79.890625 32.71875 \nQ 79.890625 40.578125 77.09375 44.375 \nQ 74.3125 48.1875 68.609375 48.1875 \nQ 61.625 48.1875 57.5625 43.546875 \nQ 53.515625 38.921875 53.515625 30.90625 \nL 53.515625 0 \nL 44.484375 0 \nL 44.484375 32.71875 \nQ 44.484375 40.625 41.703125 44.40625 \nQ 38.921875 48.1875 33.109375 48.1875 \nQ 26.21875 48.1875 22.15625 43.53125 \nQ 18.109375 38.875 18.109375 30.90625 \nL 18.109375 0 \nL 9.078125 0 \nL 9.078125 54.6875 \nL 18.109375 54.6875 \nL 18.109375 46.1875 \nQ 21.1875 51.21875 25.484375 53.609375 \nQ 29.78125 56 35.6875 56 \nQ 41.65625 56 45.828125 52.96875 \nQ 50 49.953125 52 44.1875 \nz\n\" id=\"DejaVuSans-109\"/>\n     </defs>\n     <use xlink:href=\"#DejaVuSans-99\"/>\n     <use x=\"54.980469\" xlink:href=\"#DejaVuSans-111\"/>\n     <use x=\"116.162109\" xlink:href=\"#DejaVuSans-115\"/>\n     <use x=\"168.261719\" xlink:href=\"#DejaVuSans-116\"/>\n     <use x=\"207.470703\" xlink:href=\"#DejaVuSans-32\"/>\n     <use x=\"239.257812\" xlink:href=\"#DejaVuSans-111\"/>\n     <use x=\"300.439453\" xlink:href=\"#DejaVuSans-118\"/>\n     <use x=\"359.619141\" xlink:href=\"#DejaVuSans-101\"/>\n     <use x=\"421.142578\" xlink:href=\"#DejaVuSans-114\"/>\n     <use x=\"462.255859\" xlink:href=\"#DejaVuSans-32\"/>\n     <use x=\"494.042969\" xlink:href=\"#DejaVuSans-116\"/>\n     <use x=\"533.251953\" xlink:href=\"#DejaVuSans-105\"/>\n     <use x=\"561.035156\" xlink:href=\"#DejaVuSans-109\"/>\n     <use x=\"658.447266\" xlink:href=\"#DejaVuSans-101\"/>\n    </g>\n   </g>\n  </g>\n </g>\n <defs>\n  <clipPath id=\"p7370b19858\">\n   <rect height=\"217.44\" width=\"446.4\" x=\"42.78575\" y=\"20.4945\"/>\n  </clipPath>\n </defs>\n</svg>\n",
      "image/png": "[encoded data removed]"
     },
     "metadata": {
      "needs_background": "light"
     }
    }
   ],
   "source": [
    "def plot_cost_over_time(cost_list, iterations):\n",
    "    sns.set_context('paper')\n",
    "    fig = plt.figure(figsize=(8,4))\n",
    "    ax = sns.lineplot(np.linspace(1,iterations,iterations),cost_list)\n",
    "    ax.set_title('cost over time')\n",
    "    ax.set_ylabel('Cost function')\n",
    "    ax.set_xlabel('iteration')\n",
    "    plt.show()\n",
    "\n",
    "plot_cost_over_time(cost_softmax_binary, iterations)"
   ]
  },
  {
   "cell_type": "code",
   "execution_count": 794,
   "metadata": {},
   "outputs": [
    {
     "output_type": "execute_result",
     "data": {
      "text/plain": [
       "      0         1         2         3         4         5         6      \\\n",
       "0  0.997407  0.015111  0.071528  0.613847  0.482609  0.850787  0.020585   \n",
       "1  0.002593  0.984889  0.928472  0.386153  0.517391  0.149213  0.979415   \n",
       "\n",
       "      7         8        9      ...    12655     12656    12657     12658  \\\n",
       "0  0.234121  0.102248  0.95355  ...  0.72915  0.790182  0.08467  0.484881   \n",
       "1  0.765879  0.897752  0.04645  ...  0.27085  0.209818  0.91533  0.515119   \n",
       "\n",
       "      12659     12660     12661    12662     12663     12664  \n",
       "0  0.009835  0.975591  0.446307  0.05248  0.976752  0.267667  \n",
       "1  0.990165  0.024409  0.553693  0.94752  0.023248  0.732333  \n",
       "\n",
       "[2 rows x 12665 columns]"
      ],
      "text/html": "<div>\n<style scoped>\n    .dataframe tbody tr th:only-of-type {\n        vertical-align: middle;\n    }\n\n    .dataframe tbody tr th {\n        vertical-align: top;\n    }\n\n    .dataframe thead th {\n        text-align: right;\n    }\n</style>\n<table border=\"1\" class=\"dataframe\">\n  <thead>\n    <tr style=\"text-align: right;\">\n      <th></th>\n      <th>0</th>\n      <th>1</th>\n      <th>2</th>\n      <th>3</th>\n      <th>4</th>\n      <th>5</th>\n      <th>6</th>\n      <th>7</th>\n      <th>8</th>\n      <th>9</th>\n      <th>...</th>\n      <th>12655</th>\n      <th>12656</th>\n      <th>12657</th>\n      <th>12658</th>\n      <th>12659</th>\n      <th>12660</th>\n      <th>12661</th>\n      <th>12662</th>\n      <th>12663</th>\n      <th>12664</th>\n    </tr>\n  </thead>\n  <tbody>\n    <tr>\n      <th>0</th>\n      <td>0.997407</td>\n      <td>0.015111</td>\n      <td>0.071528</td>\n      <td>0.613847</td>\n      <td>0.482609</td>\n      <td>0.850787</td>\n      <td>0.020585</td>\n      <td>0.234121</td>\n      <td>0.102248</td>\n      <td>0.95355</td>\n      <td>...</td>\n      <td>0.72915</td>\n      <td>0.790182</td>\n      <td>0.08467</td>\n      <td>0.484881</td>\n      <td>0.009835</td>\n      <td>0.975591</td>\n      <td>0.446307</td>\n      <td>0.05248</td>\n      <td>0.976752</td>\n      <td>0.267667</td>\n    </tr>\n    <tr>\n      <th>1</th>\n      <td>0.002593</td>\n      <td>0.984889</td>\n      <td>0.928472</td>\n      <td>0.386153</td>\n      <td>0.517391</td>\n      <td>0.149213</td>\n      <td>0.979415</td>\n      <td>0.765879</td>\n      <td>0.897752</td>\n      <td>0.04645</td>\n      <td>...</td>\n      <td>0.27085</td>\n      <td>0.209818</td>\n      <td>0.91533</td>\n      <td>0.515119</td>\n      <td>0.990165</td>\n      <td>0.024409</td>\n      <td>0.553693</td>\n      <td>0.94752</td>\n      <td>0.023248</td>\n      <td>0.732333</td>\n    </tr>\n  </tbody>\n</table>\n<p>2 rows × 12665 columns</p>\n</div>"
     },
     "metadata": {},
     "execution_count": 794
    }
   ],
   "source": [
    "pd.DataFrame(dict_of_FP_values_softmax_binary['A3'])"
   ]
  },
  {
   "source": [
    "Alright, does it predict things correctly?"
   ],
   "cell_type": "markdown",
   "metadata": {}
  },
  {
   "cell_type": "code",
   "execution_count": 795,
   "metadata": {},
   "outputs": [
    {
     "output_type": "stream",
     "name": "stdout",
     "text": [
      "correct: 11523\nincorrect: 1142\n"
     ]
    }
   ],
   "source": [
    "def softmax_predictions(dict_of_FP_values_softmax, y_train_pre_hot):\n",
    "    predictions_softmax = dict_of_FP_values_softmax['A3'].T\n",
    "    list_of_predictions = []\n",
    "    for row in predictions_softmax:\n",
    "        max = np.amax(row)\n",
    "        for idx,col in enumerate(row):\n",
    "            if col == max:\n",
    "                list_of_predictions.append(idx)\n",
    "                break\n",
    "\n",
    "    #ok so we need now to compare the list of predcitions to the y values.list_of_prediction\n",
    "    correct = 0\n",
    "    incorrect = 0\n",
    "    for prediction, true in zip(list_of_predictions,y_train_pre_hot[0]):\n",
    "        if prediction == true:\n",
    "            correct +=1\n",
    "        else:\n",
    "            incorrect +=1 \n",
    "\n",
    "    print(f'correct: {correct}\\nincorrect: {incorrect}')\n",
    "softmax_predictions(dict_of_FP_values_softmax_binary, y_train_binary)"
   ]
  },
  {
   "source": [
    "Now trying with three classes\n"
   ],
   "cell_type": "markdown",
   "metadata": {}
  },
  {
   "cell_type": "code",
   "execution_count": 789,
   "metadata": {},
   "outputs": [
    {
     "output_type": "stream",
     "name": "stdout",
     "text": [
      "[1, 0, 2]\n",
      "(784, 18623)\n",
      "Weights matrices\n",
      "W1 (150, 784)\n",
      "B1 (150, 1)\n",
      "W2 (50, 150)\n",
      "B2 (50, 1)\n",
      "W3 (3, 50)\n",
      "B3 (3, 1)\n",
      "correct: 15413\n",
      "incorrect: 3210\n",
      "/Users/jacoblourie/opt/anaconda3/lib/python3.8/site-packages/seaborn/_decorators.py:36: FutureWarning: Pass the following variables as keyword args: x, y. From version 0.12, the only valid positional argument will be `data`, and passing other arguments without an explicit keyword will result in an error or misinterpretation.\n",
      "  warnings.warn(\n"
     ]
    },
    {
     "output_type": "display_data",
     "data": {
      "text/plain": "<Figure size 576x288 with 1 Axes>",
      "image/svg+xml": "<?xml version=\"1.0\" encoding=\"utf-8\" standalone=\"no\"?>\n<!DOCTYPE svg PUBLIC \"-//W3C//DTD SVG 1.1//EN\"\n  \"http://www.w3.org/Graphics/SVG/1.1/DTD/svg11.dtd\">\n<!-- Created with matplotlib (https://matplotlib.org/) -->\n<svg height=\"275.24225pt\" version=\"1.1\" viewBox=\"0 0 496.38575 275.24225\" width=\"496.38575pt\" xmlns=\"http://www.w3.org/2000/svg\" xmlns:xlink=\"http://www.w3.org/1999/xlink\">\n <metadata>\n  <rdf:RDF xmlns:cc=\"http://creativecommons.org/ns#\" xmlns:dc=\"http://purl.org/dc/elements/1.1/\" xmlns:rdf=\"http://www.w3.org/1999/02/22-rdf-syntax-ns#\">\n   <cc:Work>\n    <dc:type rdf:resource=\"http://purl.org/dc/dcmitype/StillImage\"/>\n    <dc:date>2021-05-06T12:14:19.601606</dc:date>\n    <dc:format>image/svg+xml</dc:format>\n    <dc:creator>\n     <cc:Agent>\n      <dc:title>Matplotlib v3.3.2, https://matplotlib.org/</dc:title>\n     </cc:Agent>\n    </dc:creator>\n   </cc:Work>\n  </rdf:RDF>\n </metadata>\n <defs>\n  <style type=\"text/css\">*{stroke-linecap:butt;stroke-linejoin:round;}</style>\n </defs>\n <g id=\"figure_1\">\n  <g id=\"patch_1\">\n   <path d=\"M 0 275.24225 \nL 496.38575 275.24225 \nL 496.38575 0 \nL 0 0 \nz\n\" style=\"fill:none;\"/>\n  </g>\n  <g id=\"axes_1\">\n   <g id=\"patch_2\">\n    <path d=\"M 42.78575 237.9345 \nL 489.18575 237.9345 \nL 489.18575 20.4945 \nL 42.78575 20.4945 \nz\n\" style=\"fill:#ffffff;\"/>\n   </g>\n   <g id=\"matplotlib.axis_1\">\n    <g id=\"xtick_1\">\n     <g id=\"line2d_1\">\n      <defs>\n       <path d=\"M 0 0 \nL 0 4.8 \n\" id=\"m7215679b81\" style=\"stroke:#000000;\"/>\n      </defs>\n      <g>\n       <use style=\"stroke:#000000;\" x=\"62.263396\" xlink:href=\"#m7215679b81\" y=\"237.9345\"/>\n      </g>\n     </g>\n     <g id=\"text_1\">\n      <!-- 0 -->\n      <g transform=\"translate(59.463896 252.921125)scale(0.088 -0.088)\">\n       <defs>\n        <path d=\"M 31.78125 66.40625 \nQ 24.171875 66.40625 20.328125 58.90625 \nQ 16.5 51.421875 16.5 36.375 \nQ 16.5 21.390625 20.328125 13.890625 \nQ 24.171875 6.390625 31.78125 6.390625 \nQ 39.453125 6.390625 43.28125 13.890625 \nQ 47.125 21.390625 47.125 36.375 \nQ 47.125 51.421875 43.28125 58.90625 \nQ 39.453125 66.40625 31.78125 66.40625 \nz\nM 31.78125 74.21875 \nQ 44.046875 74.21875 50.515625 64.515625 \nQ 56.984375 54.828125 56.984375 36.375 \nQ 56.984375 17.96875 50.515625 8.265625 \nQ 44.046875 -1.421875 31.78125 -1.421875 \nQ 19.53125 -1.421875 13.0625 8.265625 \nQ 6.59375 17.96875 6.59375 36.375 \nQ 6.59375 54.828125 13.0625 64.515625 \nQ 19.53125 74.21875 31.78125 74.21875 \nz\n\" id=\"DejaVuSans-48\"/>\n       </defs>\n       <use xlink:href=\"#DejaVuSans-48\"/>\n      </g>\n     </g>\n    </g>\n    <g id=\"xtick_2\">\n     <g id=\"line2d_2\">\n      <g>\n       <use style=\"stroke:#000000;\" x=\"143.589685\" xlink:href=\"#m7215679b81\" y=\"237.9345\"/>\n      </g>\n     </g>\n     <g id=\"text_2\">\n      <!-- 100 -->\n      <g transform=\"translate(135.191185 252.921125)scale(0.088 -0.088)\">\n       <defs>\n        <path d=\"M 12.40625 8.296875 \nL 28.515625 8.296875 \nL 28.515625 63.921875 \nL 10.984375 60.40625 \nL 10.984375 69.390625 \nL 28.421875 72.90625 \nL 38.28125 72.90625 \nL 38.28125 8.296875 \nL 54.390625 8.296875 \nL 54.390625 0 \nL 12.40625 0 \nz\n\" id=\"DejaVuSans-49\"/>\n       </defs>\n       <use xlink:href=\"#DejaVuSans-49\"/>\n       <use x=\"63.623047\" xlink:href=\"#DejaVuSans-48\"/>\n       <use x=\"127.246094\" xlink:href=\"#DejaVuSans-48\"/>\n      </g>\n     </g>\n    </g>\n    <g id=\"xtick_3\">\n     <g id=\"line2d_3\">\n      <g>\n       <use style=\"stroke:#000000;\" x=\"224.915974\" xlink:href=\"#m7215679b81\" y=\"237.9345\"/>\n      </g>\n     </g>\n     <g id=\"text_3\">\n      <!-- 200 -->\n      <g transform=\"translate(216.517474 252.921125)scale(0.088 -0.088)\">\n       <defs>\n        <path d=\"M 19.1875 8.296875 \nL 53.609375 8.296875 \nL 53.609375 0 \nL 7.328125 0 \nL 7.328125 8.296875 \nQ 12.9375 14.109375 22.625 23.890625 \nQ 32.328125 33.6875 34.8125 36.53125 \nQ 39.546875 41.84375 41.421875 45.53125 \nQ 43.3125 49.21875 43.3125 52.78125 \nQ 43.3125 58.59375 39.234375 62.25 \nQ 35.15625 65.921875 28.609375 65.921875 \nQ 23.96875 65.921875 18.8125 64.3125 \nQ 13.671875 62.703125 7.8125 59.421875 \nL 7.8125 69.390625 \nQ 13.765625 71.78125 18.9375 73 \nQ 24.125 74.21875 28.421875 74.21875 \nQ 39.75 74.21875 46.484375 68.546875 \nQ 53.21875 62.890625 53.21875 53.421875 \nQ 53.21875 48.921875 51.53125 44.890625 \nQ 49.859375 40.875 45.40625 35.40625 \nQ 44.1875 33.984375 37.640625 27.21875 \nQ 31.109375 20.453125 19.1875 8.296875 \nz\n\" id=\"DejaVuSans-50\"/>\n       </defs>\n       <use xlink:href=\"#DejaVuSans-50\"/>\n       <use x=\"63.623047\" xlink:href=\"#DejaVuSans-48\"/>\n       <use x=\"127.246094\" xlink:href=\"#DejaVuSans-48\"/>\n      </g>\n     </g>\n    </g>\n    <g id=\"xtick_4\">\n     <g id=\"line2d_4\">\n      <g>\n       <use style=\"stroke:#000000;\" x=\"306.242263\" xlink:href=\"#m7215679b81\" y=\"237.9345\"/>\n      </g>\n     </g>\n     <g id=\"text_4\">\n      <!-- 300 -->\n      <g transform=\"translate(297.843763 252.921125)scale(0.088 -0.088)\">\n       <defs>\n        <path d=\"M 40.578125 39.3125 \nQ 47.65625 37.796875 51.625 33 \nQ 55.609375 28.21875 55.609375 21.1875 \nQ 55.609375 10.40625 48.1875 4.484375 \nQ 40.765625 -1.421875 27.09375 -1.421875 \nQ 22.515625 -1.421875 17.65625 -0.515625 \nQ 12.796875 0.390625 7.625 2.203125 \nL 7.625 11.71875 \nQ 11.71875 9.328125 16.59375 8.109375 \nQ 21.484375 6.890625 26.8125 6.890625 \nQ 36.078125 6.890625 40.9375 10.546875 \nQ 45.796875 14.203125 45.796875 21.1875 \nQ 45.796875 27.640625 41.28125 31.265625 \nQ 36.765625 34.90625 28.71875 34.90625 \nL 20.21875 34.90625 \nL 20.21875 43.015625 \nL 29.109375 43.015625 \nQ 36.375 43.015625 40.234375 45.921875 \nQ 44.09375 48.828125 44.09375 54.296875 \nQ 44.09375 59.90625 40.109375 62.90625 \nQ 36.140625 65.921875 28.71875 65.921875 \nQ 24.65625 65.921875 20.015625 65.03125 \nQ 15.375 64.15625 9.8125 62.3125 \nL 9.8125 71.09375 \nQ 15.4375 72.65625 20.34375 73.4375 \nQ 25.25 74.21875 29.59375 74.21875 \nQ 40.828125 74.21875 47.359375 69.109375 \nQ 53.90625 64.015625 53.90625 55.328125 \nQ 53.90625 49.265625 50.4375 45.09375 \nQ 46.96875 40.921875 40.578125 39.3125 \nz\n\" id=\"DejaVuSans-51\"/>\n       </defs>\n       <use xlink:href=\"#DejaVuSans-51\"/>\n       <use x=\"63.623047\" xlink:href=\"#DejaVuSans-48\"/>\n       <use x=\"127.246094\" xlink:href=\"#DejaVuSans-48\"/>\n      </g>\n     </g>\n    </g>\n    <g id=\"xtick_5\">\n     <g id=\"line2d_5\">\n      <g>\n       <use style=\"stroke:#000000;\" x=\"387.568552\" xlink:href=\"#m7215679b81\" y=\"237.9345\"/>\n      </g>\n     </g>\n     <g id=\"text_5\">\n      <!-- 400 -->\n      <g transform=\"translate(379.170052 252.921125)scale(0.088 -0.088)\">\n       <defs>\n        <path d=\"M 37.796875 64.3125 \nL 12.890625 25.390625 \nL 37.796875 25.390625 \nz\nM 35.203125 72.90625 \nL 47.609375 72.90625 \nL 47.609375 25.390625 \nL 58.015625 25.390625 \nL 58.015625 17.1875 \nL 47.609375 17.1875 \nL 47.609375 0 \nL 37.796875 0 \nL 37.796875 17.1875 \nL 4.890625 17.1875 \nL 4.890625 26.703125 \nz\n\" id=\"DejaVuSans-52\"/>\n       </defs>\n       <use xlink:href=\"#DejaVuSans-52\"/>\n       <use x=\"63.623047\" xlink:href=\"#DejaVuSans-48\"/>\n       <use x=\"127.246094\" xlink:href=\"#DejaVuSans-48\"/>\n      </g>\n     </g>\n    </g>\n    <g id=\"xtick_6\">\n     <g id=\"line2d_6\">\n      <g>\n       <use style=\"stroke:#000000;\" x=\"468.894841\" xlink:href=\"#m7215679b81\" y=\"237.9345\"/>\n      </g>\n     </g>\n     <g id=\"text_6\">\n      <!-- 500 -->\n      <g transform=\"translate(460.496341 252.921125)scale(0.088 -0.088)\">\n       <defs>\n        <path d=\"M 10.796875 72.90625 \nL 49.515625 72.90625 \nL 49.515625 64.59375 \nL 19.828125 64.59375 \nL 19.828125 46.734375 \nQ 21.96875 47.46875 24.109375 47.828125 \nQ 26.265625 48.1875 28.421875 48.1875 \nQ 40.625 48.1875 47.75 41.5 \nQ 54.890625 34.8125 54.890625 23.390625 \nQ 54.890625 11.625 47.5625 5.09375 \nQ 40.234375 -1.421875 26.90625 -1.421875 \nQ 22.3125 -1.421875 17.546875 -0.640625 \nQ 12.796875 0.140625 7.71875 1.703125 \nL 7.71875 11.625 \nQ 12.109375 9.234375 16.796875 8.0625 \nQ 21.484375 6.890625 26.703125 6.890625 \nQ 35.15625 6.890625 40.078125 11.328125 \nQ 45.015625 15.765625 45.015625 23.390625 \nQ 45.015625 31 40.078125 35.4375 \nQ 35.15625 39.890625 26.703125 39.890625 \nQ 22.75 39.890625 18.8125 39.015625 \nQ 14.890625 38.140625 10.796875 36.28125 \nz\n\" id=\"DejaVuSans-53\"/>\n       </defs>\n       <use xlink:href=\"#DejaVuSans-53\"/>\n       <use x=\"63.623047\" xlink:href=\"#DejaVuSans-48\"/>\n       <use x=\"127.246094\" xlink:href=\"#DejaVuSans-48\"/>\n      </g>\n     </g>\n    </g>\n    <g id=\"text_7\">\n     <!-- iteration -->\n     <g transform=\"translate(245.708 266.04575)scale(0.096 -0.096)\">\n      <defs>\n       <path d=\"M 9.421875 54.6875 \nL 18.40625 54.6875 \nL 18.40625 0 \nL 9.421875 0 \nz\nM 9.421875 75.984375 \nL 18.40625 75.984375 \nL 18.40625 64.59375 \nL 9.421875 64.59375 \nz\n\" id=\"DejaVuSans-105\"/>\n       <path d=\"M 18.3125 70.21875 \nL 18.3125 54.6875 \nL 36.8125 54.6875 \nL 36.8125 47.703125 \nL 18.3125 47.703125 \nL 18.3125 18.015625 \nQ 18.3125 11.328125 20.140625 9.421875 \nQ 21.96875 7.515625 27.59375 7.515625 \nL 36.8125 7.515625 \nL 36.8125 0 \nL 27.59375 0 \nQ 17.1875 0 13.234375 3.875 \nQ 9.28125 7.765625 9.28125 18.015625 \nL 9.28125 47.703125 \nL 2.6875 47.703125 \nL 2.6875 54.6875 \nL 9.28125 54.6875 \nL 9.28125 70.21875 \nz\n\" id=\"DejaVuSans-116\"/>\n       <path d=\"M 56.203125 29.59375 \nL 56.203125 25.203125 \nL 14.890625 25.203125 \nQ 15.484375 15.921875 20.484375 11.0625 \nQ 25.484375 6.203125 34.421875 6.203125 \nQ 39.59375 6.203125 44.453125 7.46875 \nQ 49.3125 8.734375 54.109375 11.28125 \nL 54.109375 2.78125 \nQ 49.265625 0.734375 44.1875 -0.34375 \nQ 39.109375 -1.421875 33.890625 -1.421875 \nQ 20.796875 -1.421875 13.15625 6.1875 \nQ 5.515625 13.8125 5.515625 26.8125 \nQ 5.515625 40.234375 12.765625 48.109375 \nQ 20.015625 56 32.328125 56 \nQ 43.359375 56 49.78125 48.890625 \nQ 56.203125 41.796875 56.203125 29.59375 \nz\nM 47.21875 32.234375 \nQ 47.125 39.59375 43.09375 43.984375 \nQ 39.0625 48.390625 32.421875 48.390625 \nQ 24.90625 48.390625 20.390625 44.140625 \nQ 15.875 39.890625 15.1875 32.171875 \nz\n\" id=\"DejaVuSans-101\"/>\n       <path d=\"M 41.109375 46.296875 \nQ 39.59375 47.171875 37.8125 47.578125 \nQ 36.03125 48 33.890625 48 \nQ 26.265625 48 22.1875 43.046875 \nQ 18.109375 38.09375 18.109375 28.8125 \nL 18.109375 0 \nL 9.078125 0 \nL 9.078125 54.6875 \nL 18.109375 54.6875 \nL 18.109375 46.1875 \nQ 20.953125 51.171875 25.484375 53.578125 \nQ 30.03125 56 36.53125 56 \nQ 37.453125 56 38.578125 55.875 \nQ 39.703125 55.765625 41.0625 55.515625 \nz\n\" id=\"DejaVuSans-114\"/>\n       <path d=\"M 34.28125 27.484375 \nQ 23.390625 27.484375 19.1875 25 \nQ 14.984375 22.515625 14.984375 16.5 \nQ 14.984375 11.71875 18.140625 8.90625 \nQ 21.296875 6.109375 26.703125 6.109375 \nQ 34.1875 6.109375 38.703125 11.40625 \nQ 43.21875 16.703125 43.21875 25.484375 \nL 43.21875 27.484375 \nz\nM 52.203125 31.203125 \nL 52.203125 0 \nL 43.21875 0 \nL 43.21875 8.296875 \nQ 40.140625 3.328125 35.546875 0.953125 \nQ 30.953125 -1.421875 24.3125 -1.421875 \nQ 15.921875 -1.421875 10.953125 3.296875 \nQ 6 8.015625 6 15.921875 \nQ 6 25.140625 12.171875 29.828125 \nQ 18.359375 34.515625 30.609375 34.515625 \nL 43.21875 34.515625 \nL 43.21875 35.40625 \nQ 43.21875 41.609375 39.140625 45 \nQ 35.0625 48.390625 27.6875 48.390625 \nQ 23 48.390625 18.546875 47.265625 \nQ 14.109375 46.140625 10.015625 43.890625 \nL 10.015625 52.203125 \nQ 14.9375 54.109375 19.578125 55.046875 \nQ 24.21875 56 28.609375 56 \nQ 40.484375 56 46.34375 49.84375 \nQ 52.203125 43.703125 52.203125 31.203125 \nz\n\" id=\"DejaVuSans-97\"/>\n       <path d=\"M 30.609375 48.390625 \nQ 23.390625 48.390625 19.1875 42.75 \nQ 14.984375 37.109375 14.984375 27.296875 \nQ 14.984375 17.484375 19.15625 11.84375 \nQ 23.34375 6.203125 30.609375 6.203125 \nQ 37.796875 6.203125 41.984375 11.859375 \nQ 46.1875 17.53125 46.1875 27.296875 \nQ 46.1875 37.015625 41.984375 42.703125 \nQ 37.796875 48.390625 30.609375 48.390625 \nz\nM 30.609375 56 \nQ 42.328125 56 49.015625 48.375 \nQ 55.71875 40.765625 55.71875 27.296875 \nQ 55.71875 13.875 49.015625 6.21875 \nQ 42.328125 -1.421875 30.609375 -1.421875 \nQ 18.84375 -1.421875 12.171875 6.21875 \nQ 5.515625 13.875 5.515625 27.296875 \nQ 5.515625 40.765625 12.171875 48.375 \nQ 18.84375 56 30.609375 56 \nz\n\" id=\"DejaVuSans-111\"/>\n       <path d=\"M 54.890625 33.015625 \nL 54.890625 0 \nL 45.90625 0 \nL 45.90625 32.71875 \nQ 45.90625 40.484375 42.875 44.328125 \nQ 39.84375 48.1875 33.796875 48.1875 \nQ 26.515625 48.1875 22.3125 43.546875 \nQ 18.109375 38.921875 18.109375 30.90625 \nL 18.109375 0 \nL 9.078125 0 \nL 9.078125 54.6875 \nL 18.109375 54.6875 \nL 18.109375 46.1875 \nQ 21.34375 51.125 25.703125 53.5625 \nQ 30.078125 56 35.796875 56 \nQ 45.21875 56 50.046875 50.171875 \nQ 54.890625 44.34375 54.890625 33.015625 \nz\n\" id=\"DejaVuSans-110\"/>\n      </defs>\n      <use xlink:href=\"#DejaVuSans-105\"/>\n      <use x=\"27.783203\" xlink:href=\"#DejaVuSans-116\"/>\n      <use x=\"66.992188\" xlink:href=\"#DejaVuSans-101\"/>\n      <use x=\"128.515625\" xlink:href=\"#DejaVuSans-114\"/>\n      <use x=\"169.628906\" xlink:href=\"#DejaVuSans-97\"/>\n      <use x=\"230.908203\" xlink:href=\"#DejaVuSans-116\"/>\n      <use x=\"270.117188\" xlink:href=\"#DejaVuSans-105\"/>\n      <use x=\"297.900391\" xlink:href=\"#DejaVuSans-111\"/>\n      <use x=\"359.082031\" xlink:href=\"#DejaVuSans-110\"/>\n     </g>\n    </g>\n   </g>\n   <g id=\"matplotlib.axis_2\">\n    <g id=\"ytick_1\">\n     <g id=\"line2d_7\">\n      <defs>\n       <path d=\"M 0 0 \nL -4.8 0 \n\" id=\"mfb2e3c85d6\" style=\"stroke:#000000;\"/>\n      </defs>\n      <g>\n       <use style=\"stroke:#000000;\" x=\"42.78575\" xlink:href=\"#mfb2e3c85d6\" y=\"225.659394\"/>\n      </g>\n     </g>\n     <g id=\"text_8\">\n      <!-- 0.5 -->\n      <g transform=\"translate(20.491 229.002706)scale(0.088 -0.088)\">\n       <defs>\n        <path d=\"M 10.6875 12.40625 \nL 21 12.40625 \nL 21 0 \nL 10.6875 0 \nz\n\" id=\"DejaVuSans-46\"/>\n       </defs>\n       <use xlink:href=\"#DejaVuSans-48\"/>\n       <use x=\"63.623047\" xlink:href=\"#DejaVuSans-46\"/>\n       <use x=\"95.410156\" xlink:href=\"#DejaVuSans-53\"/>\n      </g>\n     </g>\n    </g>\n    <g id=\"ytick_2\">\n     <g id=\"line2d_8\">\n      <g>\n       <use style=\"stroke:#000000;\" x=\"42.78575\" xlink:href=\"#mfb2e3c85d6\" y=\"194.020444\"/>\n      </g>\n     </g>\n     <g id=\"text_9\">\n      <!-- 1.0 -->\n      <g transform=\"translate(20.491 197.363756)scale(0.088 -0.088)\">\n       <use xlink:href=\"#DejaVuSans-49\"/>\n       <use x=\"63.623047\" xlink:href=\"#DejaVuSans-46\"/>\n       <use x=\"95.410156\" xlink:href=\"#DejaVuSans-48\"/>\n      </g>\n     </g>\n    </g>\n    <g id=\"ytick_3\">\n     <g id=\"line2d_9\">\n      <g>\n       <use style=\"stroke:#000000;\" x=\"42.78575\" xlink:href=\"#mfb2e3c85d6\" y=\"162.381494\"/>\n      </g>\n     </g>\n     <g id=\"text_10\">\n      <!-- 1.5 -->\n      <g transform=\"translate(20.491 165.724807)scale(0.088 -0.088)\">\n       <use xlink:href=\"#DejaVuSans-49\"/>\n       <use x=\"63.623047\" xlink:href=\"#DejaVuSans-46\"/>\n       <use x=\"95.410156\" xlink:href=\"#DejaVuSans-53\"/>\n      </g>\n     </g>\n    </g>\n    <g id=\"ytick_4\">\n     <g id=\"line2d_10\">\n      <g>\n       <use style=\"stroke:#000000;\" x=\"42.78575\" xlink:href=\"#mfb2e3c85d6\" y=\"130.742544\"/>\n      </g>\n     </g>\n     <g id=\"text_11\">\n      <!-- 2.0 -->\n      <g transform=\"translate(20.491 134.085857)scale(0.088 -0.088)\">\n       <use xlink:href=\"#DejaVuSans-50\"/>\n       <use x=\"63.623047\" xlink:href=\"#DejaVuSans-46\"/>\n       <use x=\"95.410156\" xlink:href=\"#DejaVuSans-48\"/>\n      </g>\n     </g>\n    </g>\n    <g id=\"ytick_5\">\n     <g id=\"line2d_11\">\n      <g>\n       <use style=\"stroke:#000000;\" x=\"42.78575\" xlink:href=\"#mfb2e3c85d6\" y=\"99.103594\"/>\n      </g>\n     </g>\n     <g id=\"text_12\">\n      <!-- 2.5 -->\n      <g transform=\"translate(20.491 102.446907)scale(0.088 -0.088)\">\n       <use xlink:href=\"#DejaVuSans-50\"/>\n       <use x=\"63.623047\" xlink:href=\"#DejaVuSans-46\"/>\n       <use x=\"95.410156\" xlink:href=\"#DejaVuSans-53\"/>\n      </g>\n     </g>\n    </g>\n    <g id=\"ytick_6\">\n     <g id=\"line2d_12\">\n      <g>\n       <use style=\"stroke:#000000;\" x=\"42.78575\" xlink:href=\"#mfb2e3c85d6\" y=\"67.464644\"/>\n      </g>\n     </g>\n     <g id=\"text_13\">\n      <!-- 3.0 -->\n      <g transform=\"translate(20.491 70.807957)scale(0.088 -0.088)\">\n       <use xlink:href=\"#DejaVuSans-51\"/>\n       <use x=\"63.623047\" xlink:href=\"#DejaVuSans-46\"/>\n       <use x=\"95.410156\" xlink:href=\"#DejaVuSans-48\"/>\n      </g>\n     </g>\n    </g>\n    <g id=\"ytick_7\">\n     <g id=\"line2d_13\">\n      <g>\n       <use style=\"stroke:#000000;\" x=\"42.78575\" xlink:href=\"#mfb2e3c85d6\" y=\"35.825695\"/>\n      </g>\n     </g>\n     <g id=\"text_14\">\n      <!-- 3.5 -->\n      <g transform=\"translate(20.491 39.169007)scale(0.088 -0.088)\">\n       <use xlink:href=\"#DejaVuSans-51\"/>\n       <use x=\"63.623047\" xlink:href=\"#DejaVuSans-46\"/>\n       <use x=\"95.410156\" xlink:href=\"#DejaVuSans-53\"/>\n      </g>\n     </g>\n    </g>\n    <g id=\"text_15\">\n     <!-- Cost function -->\n     <g transform=\"translate(14.4945 161.01825)rotate(-90)scale(0.096 -0.096)\">\n      <defs>\n       <path d=\"M 64.40625 67.28125 \nL 64.40625 56.890625 \nQ 59.421875 61.53125 53.78125 63.8125 \nQ 48.140625 66.109375 41.796875 66.109375 \nQ 29.296875 66.109375 22.65625 58.46875 \nQ 16.015625 50.828125 16.015625 36.375 \nQ 16.015625 21.96875 22.65625 14.328125 \nQ 29.296875 6.6875 41.796875 6.6875 \nQ 48.140625 6.6875 53.78125 8.984375 \nQ 59.421875 11.28125 64.40625 15.921875 \nL 64.40625 5.609375 \nQ 59.234375 2.09375 53.4375 0.328125 \nQ 47.65625 -1.421875 41.21875 -1.421875 \nQ 24.65625 -1.421875 15.125 8.703125 \nQ 5.609375 18.84375 5.609375 36.375 \nQ 5.609375 53.953125 15.125 64.078125 \nQ 24.65625 74.21875 41.21875 74.21875 \nQ 47.75 74.21875 53.53125 72.484375 \nQ 59.328125 70.75 64.40625 67.28125 \nz\n\" id=\"DejaVuSans-67\"/>\n       <path d=\"M 44.28125 53.078125 \nL 44.28125 44.578125 \nQ 40.484375 46.53125 36.375 47.5 \nQ 32.28125 48.484375 27.875 48.484375 \nQ 21.1875 48.484375 17.84375 46.4375 \nQ 14.5 44.390625 14.5 40.28125 \nQ 14.5 37.15625 16.890625 35.375 \nQ 19.28125 33.59375 26.515625 31.984375 \nL 29.59375 31.296875 \nQ 39.15625 29.25 43.1875 25.515625 \nQ 47.21875 21.78125 47.21875 15.09375 \nQ 47.21875 7.46875 41.1875 3.015625 \nQ 35.15625 -1.421875 24.609375 -1.421875 \nQ 20.21875 -1.421875 15.453125 -0.5625 \nQ 10.6875 0.296875 5.421875 2 \nL 5.421875 11.28125 \nQ 10.40625 8.6875 15.234375 7.390625 \nQ 20.0625 6.109375 24.8125 6.109375 \nQ 31.15625 6.109375 34.5625 8.28125 \nQ 37.984375 10.453125 37.984375 14.40625 \nQ 37.984375 18.0625 35.515625 20.015625 \nQ 33.0625 21.96875 24.703125 23.78125 \nL 21.578125 24.515625 \nQ 13.234375 26.265625 9.515625 29.90625 \nQ 5.8125 33.546875 5.8125 39.890625 \nQ 5.8125 47.609375 11.28125 51.796875 \nQ 16.75 56 26.8125 56 \nQ 31.78125 56 36.171875 55.265625 \nQ 40.578125 54.546875 44.28125 53.078125 \nz\n\" id=\"DejaVuSans-115\"/>\n       <path id=\"DejaVuSans-32\"/>\n       <path d=\"M 37.109375 75.984375 \nL 37.109375 68.5 \nL 28.515625 68.5 \nQ 23.6875 68.5 21.796875 66.546875 \nQ 19.921875 64.59375 19.921875 59.515625 \nL 19.921875 54.6875 \nL 34.71875 54.6875 \nL 34.71875 47.703125 \nL 19.921875 47.703125 \nL 19.921875 0 \nL 10.890625 0 \nL 10.890625 47.703125 \nL 2.296875 47.703125 \nL 2.296875 54.6875 \nL 10.890625 54.6875 \nL 10.890625 58.5 \nQ 10.890625 67.625 15.140625 71.796875 \nQ 19.390625 75.984375 28.609375 75.984375 \nz\n\" id=\"DejaVuSans-102\"/>\n       <path d=\"M 8.5 21.578125 \nL 8.5 54.6875 \nL 17.484375 54.6875 \nL 17.484375 21.921875 \nQ 17.484375 14.15625 20.5 10.265625 \nQ 23.53125 6.390625 29.59375 6.390625 \nQ 36.859375 6.390625 41.078125 11.03125 \nQ 45.3125 15.671875 45.3125 23.6875 \nL 45.3125 54.6875 \nL 54.296875 54.6875 \nL 54.296875 0 \nL 45.3125 0 \nL 45.3125 8.40625 \nQ 42.046875 3.421875 37.71875 1 \nQ 33.40625 -1.421875 27.6875 -1.421875 \nQ 18.265625 -1.421875 13.375 4.4375 \nQ 8.5 10.296875 8.5 21.578125 \nz\nM 31.109375 56 \nz\n\" id=\"DejaVuSans-117\"/>\n       <path d=\"M 48.78125 52.59375 \nL 48.78125 44.1875 \nQ 44.96875 46.296875 41.140625 47.34375 \nQ 37.3125 48.390625 33.40625 48.390625 \nQ 24.65625 48.390625 19.8125 42.84375 \nQ 14.984375 37.3125 14.984375 27.296875 \nQ 14.984375 17.28125 19.8125 11.734375 \nQ 24.65625 6.203125 33.40625 6.203125 \nQ 37.3125 6.203125 41.140625 7.25 \nQ 44.96875 8.296875 48.78125 10.40625 \nL 48.78125 2.09375 \nQ 45.015625 0.34375 40.984375 -0.53125 \nQ 36.96875 -1.421875 32.421875 -1.421875 \nQ 20.0625 -1.421875 12.78125 6.34375 \nQ 5.515625 14.109375 5.515625 27.296875 \nQ 5.515625 40.671875 12.859375 48.328125 \nQ 20.21875 56 33.015625 56 \nQ 37.15625 56 41.109375 55.140625 \nQ 45.0625 54.296875 48.78125 52.59375 \nz\n\" id=\"DejaVuSans-99\"/>\n      </defs>\n      <use xlink:href=\"#DejaVuSans-67\"/>\n      <use x=\"69.824219\" xlink:href=\"#DejaVuSans-111\"/>\n      <use x=\"131.005859\" xlink:href=\"#DejaVuSans-115\"/>\n      <use x=\"183.105469\" xlink:href=\"#DejaVuSans-116\"/>\n      <use x=\"222.314453\" xlink:href=\"#DejaVuSans-32\"/>\n      <use x=\"254.101562\" xlink:href=\"#DejaVuSans-102\"/>\n      <use x=\"289.306641\" xlink:href=\"#DejaVuSans-117\"/>\n      <use x=\"352.685547\" xlink:href=\"#DejaVuSans-110\"/>\n      <use x=\"416.064453\" xlink:href=\"#DejaVuSans-99\"/>\n      <use x=\"471.044922\" xlink:href=\"#DejaVuSans-116\"/>\n      <use x=\"510.253906\" xlink:href=\"#DejaVuSans-105\"/>\n      <use x=\"538.037109\" xlink:href=\"#DejaVuSans-111\"/>\n      <use x=\"599.21875\" xlink:href=\"#DejaVuSans-110\"/>\n     </g>\n    </g>\n   </g>\n   <g id=\"line2d_14\">\n    <path clip-path=\"url(#pcf255a40b5)\" d=\"M 63.076659 30.378136 \nL 64.703185 53.570179 \nL 67.142974 85.339744 \nL 68.769499 110.273874 \nL 70.396025 136.897527 \nL 71.209288 148.10379 \nL 72.022551 156.570675 \nL 72.835814 162.344874 \nL 73.649077 166.084256 \nL 74.46234 168.531359 \nL 75.275602 170.225675 \nL 76.088865 171.484574 \nL 77.715391 173.309636 \nL 79.341917 174.673593 \nL 81.781706 176.382082 \nL 90.727597 182.169968 \nL 95.607175 185.067151 \nL 100.486752 187.694027 \nL 106.179592 190.488544 \nL 111.872432 193.047974 \nL 118.378536 195.72105 \nL 124.884639 198.143891 \nL 131.390742 200.332718 \nL 138.710108 202.542116 \nL 146.029474 204.517702 \nL 154.162103 206.480083 \nL 163.107994 208.402001 \nL 172.867149 210.264372 \nL 183.439567 212.053878 \nL 194.825247 213.761599 \nL 207.837453 215.484195 \nL 222.476185 217.1852 \nL 238.741443 218.84086 \nL 256.633227 220.43813 \nL 276.964799 222.029426 \nL 299.73616 223.583215 \nL 323.320784 224.973095 \nL 346.905407 226.146617 \nL 368.863506 227.022653 \nL 389.195078 227.611455 \nL 407.900124 227.93316 \nL 428.231696 228.050096 \nL 455.069372 227.957874 \nL 468.894841 227.850654 \nL 468.894841 227.850654 \n\" style=\"fill:none;stroke:#1f77b4;stroke-linecap:square;stroke-width:1.2;\"/>\n   </g>\n   <g id=\"patch_3\">\n    <path d=\"M 42.78575 237.9345 \nL 42.78575 20.4945 \n\" style=\"fill:none;stroke:#000000;stroke-linecap:square;stroke-linejoin:miter;\"/>\n   </g>\n   <g id=\"patch_4\">\n    <path d=\"M 489.18575 237.9345 \nL 489.18575 20.4945 \n\" style=\"fill:none;stroke:#000000;stroke-linecap:square;stroke-linejoin:miter;\"/>\n   </g>\n   <g id=\"patch_5\">\n    <path d=\"M 42.78575 237.9345 \nL 489.18575 237.9345 \n\" style=\"fill:none;stroke:#000000;stroke-linecap:square;stroke-linejoin:miter;\"/>\n   </g>\n   <g id=\"patch_6\">\n    <path d=\"M 42.78575 20.4945 \nL 489.18575 20.4945 \n\" style=\"fill:none;stroke:#000000;stroke-linecap:square;stroke-linejoin:miter;\"/>\n   </g>\n   <g id=\"text_16\">\n    <!-- cost over time -->\n    <g transform=\"translate(231.42725 14.4945)scale(0.096 -0.096)\">\n     <defs>\n      <path d=\"M 2.984375 54.6875 \nL 12.5 54.6875 \nL 29.59375 8.796875 \nL 46.6875 54.6875 \nL 56.203125 54.6875 \nL 35.6875 0 \nL 23.484375 0 \nz\n\" id=\"DejaVuSans-118\"/>\n      <path d=\"M 52 44.1875 \nQ 55.375 50.25 60.0625 53.125 \nQ 64.75 56 71.09375 56 \nQ 79.640625 56 84.28125 50.015625 \nQ 88.921875 44.046875 88.921875 33.015625 \nL 88.921875 0 \nL 79.890625 0 \nL 79.890625 32.71875 \nQ 79.890625 40.578125 77.09375 44.375 \nQ 74.3125 48.1875 68.609375 48.1875 \nQ 61.625 48.1875 57.5625 43.546875 \nQ 53.515625 38.921875 53.515625 30.90625 \nL 53.515625 0 \nL 44.484375 0 \nL 44.484375 32.71875 \nQ 44.484375 40.625 41.703125 44.40625 \nQ 38.921875 48.1875 33.109375 48.1875 \nQ 26.21875 48.1875 22.15625 43.53125 \nQ 18.109375 38.875 18.109375 30.90625 \nL 18.109375 0 \nL 9.078125 0 \nL 9.078125 54.6875 \nL 18.109375 54.6875 \nL 18.109375 46.1875 \nQ 21.1875 51.21875 25.484375 53.609375 \nQ 29.78125 56 35.6875 56 \nQ 41.65625 56 45.828125 52.96875 \nQ 50 49.953125 52 44.1875 \nz\n\" id=\"DejaVuSans-109\"/>\n     </defs>\n     <use xlink:href=\"#DejaVuSans-99\"/>\n     <use x=\"54.980469\" xlink:href=\"#DejaVuSans-111\"/>\n     <use x=\"116.162109\" xlink:href=\"#DejaVuSans-115\"/>\n     <use x=\"168.261719\" xlink:href=\"#DejaVuSans-116\"/>\n     <use x=\"207.470703\" xlink:href=\"#DejaVuSans-32\"/>\n     <use x=\"239.257812\" xlink:href=\"#DejaVuSans-111\"/>\n     <use x=\"300.439453\" xlink:href=\"#DejaVuSans-118\"/>\n     <use x=\"359.619141\" xlink:href=\"#DejaVuSans-101\"/>\n     <use x=\"421.142578\" xlink:href=\"#DejaVuSans-114\"/>\n     <use x=\"462.255859\" xlink:href=\"#DejaVuSans-32\"/>\n     <use x=\"494.042969\" xlink:href=\"#DejaVuSans-116\"/>\n     <use x=\"533.251953\" xlink:href=\"#DejaVuSans-105\"/>\n     <use x=\"561.035156\" xlink:href=\"#DejaVuSans-109\"/>\n     <use x=\"658.447266\" xlink:href=\"#DejaVuSans-101\"/>\n    </g>\n   </g>\n  </g>\n </g>\n <defs>\n  <clipPath id=\"pcf255a40b5\">\n   <rect height=\"217.44\" width=\"446.4\" x=\"42.78575\" y=\"20.4945\"/>\n  </clipPath>\n </defs>\n</svg>\n",
      "image/png": "[encoded data removed]"
     },
     "metadata": {
      "needs_background": "light"
     }
    }
   ],
   "source": [
    "#get three classes\n",
    "x_train_three, x_test_three, y_train_three, y_test_three = reduced_form(y_train, y_test, x_train, x_test, [1,0,2])\n",
    "#create one hot encoding\n",
    "y_train_three_one_hot, y_test_three_one_hot = create_one_hot_train_and_test(y_train_three, y_test_three)\n",
    "\n",
    "#decide on learning rate and iterations\n",
    "learning_rate = 0.1 #set an arbitrary learning rate... we can iterate and try a few others soon\n",
    "iterations_three = 500\n",
    "\n",
    "#run loop\n",
    "cost_softmax_three, dict_of_FP_values_softmax_three, dict_of_weights_softmax_three = soft_max_iteration(learning_rate, iterations_three, x_train_three, y_train_three_one_hot)\n",
    "\n",
    "#train set predictions\n",
    "softmax_predictions(dict_of_FP_values_softmax_three, y_train_three)\n",
    "\n",
    "#plot cost\n",
    "plot_cost_over_time(cost_softmax_three, iterations_three)\n",
    "\n"
   ]
  },
  {
   "cell_type": "code",
   "execution_count": 790,
   "metadata": {},
   "outputs": [
    {
     "output_type": "execute_result",
     "data": {
      "text/plain": [
       "      0         1         2         3         4         5         6      \\\n",
       "0  0.800278  0.039465  0.194047  0.139648  0.039905  0.004828  0.125860   \n",
       "1  0.038803  0.851831  0.003084  0.450972  0.841959  0.988310  0.015261   \n",
       "2  0.160918  0.108705  0.802869  0.409380  0.118136  0.006862  0.858880   \n",
       "\n",
       "      7         8         9      ...     18613     18614     18615     18616  \\\n",
       "0  0.876605  0.055197  0.261172  ...  0.732093  0.461430  0.297278  0.033838   \n",
       "1  0.016435  0.821683  0.047830  ...  0.009366  0.133473  0.250512  0.857977   \n",
       "2  0.106960  0.123120  0.690998  ...  0.258542  0.405097  0.452210  0.108186   \n",
       "\n",
       "      18617     18618     18619     18620     18621     18622  \n",
       "0  0.122485  0.112498  0.179317  0.381193  0.189435  0.281022  \n",
       "1  0.002682  0.772187  0.016716  0.220351  0.015378  0.549883  \n",
       "2  0.874834  0.115315  0.803967  0.398456  0.795187  0.169094  \n",
       "\n",
       "[3 rows x 18623 columns]"
      ],
      "text/html": "<div>\n<style scoped>\n    .dataframe tbody tr th:only-of-type {\n        vertical-align: middle;\n    }\n\n    .dataframe tbody tr th {\n        vertical-align: top;\n    }\n\n    .dataframe thead th {\n        text-align: right;\n    }\n</style>\n<table border=\"1\" class=\"dataframe\">\n  <thead>\n    <tr style=\"text-align: right;\">\n      <th></th>\n      <th>0</th>\n      <th>1</th>\n      <th>2</th>\n      <th>3</th>\n      <th>4</th>\n      <th>5</th>\n      <th>6</th>\n      <th>7</th>\n      <th>8</th>\n      <th>9</th>\n      <th>...</th>\n      <th>18613</th>\n      <th>18614</th>\n      <th>18615</th>\n      <th>18616</th>\n      <th>18617</th>\n      <th>18618</th>\n      <th>18619</th>\n      <th>18620</th>\n      <th>18621</th>\n      <th>18622</th>\n    </tr>\n  </thead>\n  <tbody>\n    <tr>\n      <th>0</th>\n      <td>0.800278</td>\n      <td>0.039465</td>\n      <td>0.194047</td>\n      <td>0.139648</td>\n      <td>0.039905</td>\n      <td>0.004828</td>\n      <td>0.125860</td>\n      <td>0.876605</td>\n      <td>0.055197</td>\n      <td>0.261172</td>\n      <td>...</td>\n      <td>0.732093</td>\n      <td>0.461430</td>\n      <td>0.297278</td>\n      <td>0.033838</td>\n      <td>0.122485</td>\n      <td>0.112498</td>\n      <td>0.179317</td>\n      <td>0.381193</td>\n      <td>0.189435</td>\n      <td>0.281022</td>\n    </tr>\n    <tr>\n      <th>1</th>\n      <td>0.038803</td>\n      <td>0.851831</td>\n      <td>0.003084</td>\n      <td>0.450972</td>\n      <td>0.841959</td>\n      <td>0.988310</td>\n      <td>0.015261</td>\n      <td>0.016435</td>\n      <td>0.821683</td>\n      <td>0.047830</td>\n      <td>...</td>\n      <td>0.009366</td>\n      <td>0.133473</td>\n      <td>0.250512</td>\n      <td>0.857977</td>\n      <td>0.002682</td>\n      <td>0.772187</td>\n      <td>0.016716</td>\n      <td>0.220351</td>\n      <td>0.015378</td>\n      <td>0.549883</td>\n    </tr>\n    <tr>\n      <th>2</th>\n      <td>0.160918</td>\n      <td>0.108705</td>\n      <td>0.802869</td>\n      <td>0.409380</td>\n      <td>0.118136</td>\n      <td>0.006862</td>\n      <td>0.858880</td>\n      <td>0.106960</td>\n      <td>0.123120</td>\n      <td>0.690998</td>\n      <td>...</td>\n      <td>0.258542</td>\n      <td>0.405097</td>\n      <td>0.452210</td>\n      <td>0.108186</td>\n      <td>0.874834</td>\n      <td>0.115315</td>\n      <td>0.803967</td>\n      <td>0.398456</td>\n      <td>0.795187</td>\n      <td>0.169094</td>\n    </tr>\n  </tbody>\n</table>\n<p>3 rows × 18623 columns</p>\n</div>"
     },
     "metadata": {},
     "execution_count": 790
    }
   ],
   "source": [
    "pd.DataFrame(dict_of_FP_values_softmax_three['A3'])"
   ]
  },
  {
   "cell_type": "code",
   "execution_count": 785,
   "metadata": {},
   "outputs": [
    {
     "output_type": "stream",
     "name": "stdout",
     "text": [
      "[1, 0, 2, 3, 4]\n",
      "(784, 30596)\n",
      "Weights matrices\n",
      "W1 (200, 784)\n",
      "B1 (200, 1)\n",
      "W2 (125, 200)\n",
      "B2 (125, 1)\n",
      "W3 (5, 125)\n",
      "B3 (5, 1)\n",
      "correct: 10524\n",
      "incorrect: 20072\n",
      "/Users/jacoblourie/opt/anaconda3/lib/python3.8/site-packages/seaborn/_decorators.py:36: FutureWarning: Pass the following variables as keyword args: x, y. From version 0.12, the only valid positional argument will be `data`, and passing other arguments without an explicit keyword will result in an error or misinterpretation.\n",
      "  warnings.warn(\n"
     ]
    },
    {
     "output_type": "display_data",
     "data": {
      "text/plain": "<Figure size 576x288 with 1 Axes>",
      "image/svg+xml": "<?xml version=\"1.0\" encoding=\"utf-8\" standalone=\"no\"?>\n<!DOCTYPE svg PUBLIC \"-//W3C//DTD SVG 1.1//EN\"\n  \"http://www.w3.org/Graphics/SVG/1.1/DTD/svg11.dtd\">\n<!-- Created with matplotlib (https://matplotlib.org/) -->\n<svg height=\"275.24225pt\" version=\"1.1\" viewBox=\"0 0 487.99 275.24225\" width=\"487.99pt\" xmlns=\"http://www.w3.org/2000/svg\" xmlns:xlink=\"http://www.w3.org/1999/xlink\">\n <metadata>\n  <rdf:RDF xmlns:cc=\"http://creativecommons.org/ns#\" xmlns:dc=\"http://purl.org/dc/elements/1.1/\" xmlns:rdf=\"http://www.w3.org/1999/02/22-rdf-syntax-ns#\">\n   <cc:Work>\n    <dc:type rdf:resource=\"http://purl.org/dc/dcmitype/StillImage\"/>\n    <dc:date>2021-05-06T12:10:32.500078</dc:date>\n    <dc:format>image/svg+xml</dc:format>\n    <dc:creator>\n     <cc:Agent>\n      <dc:title>Matplotlib v3.3.2, https://matplotlib.org/</dc:title>\n     </cc:Agent>\n    </dc:creator>\n   </cc:Work>\n  </rdf:RDF>\n </metadata>\n <defs>\n  <style type=\"text/css\">*{stroke-linecap:butt;stroke-linejoin:round;}</style>\n </defs>\n <g id=\"figure_1\">\n  <g id=\"patch_1\">\n   <path d=\"M 0 275.24225 \nL 487.99 275.24225 \nL 487.99 0 \nL 0 0 \nz\n\" style=\"fill:none;\"/>\n  </g>\n  <g id=\"axes_1\">\n   <g id=\"patch_2\">\n    <path d=\"M 34.39 237.9345 \nL 480.79 237.9345 \nL 480.79 20.4945 \nL 34.39 20.4945 \nz\n\" style=\"fill:#ffffff;\"/>\n   </g>\n   <g id=\"matplotlib.axis_1\">\n    <g id=\"xtick_1\">\n     <g id=\"line2d_1\">\n      <defs>\n       <path d=\"M 0 0 \nL 0 4.8 \n\" id=\"mf08bcceaa0\" style=\"stroke:#000000;\"/>\n      </defs>\n      <g>\n       <use style=\"stroke:#000000;\" x=\"53.323658\" xlink:href=\"#mf08bcceaa0\" y=\"237.9345\"/>\n      </g>\n     </g>\n     <g id=\"text_1\">\n      <!-- 0 -->\n      <g transform=\"translate(50.524158 252.921125)scale(0.088 -0.088)\">\n       <defs>\n        <path d=\"M 31.78125 66.40625 \nQ 24.171875 66.40625 20.328125 58.90625 \nQ 16.5 51.421875 16.5 36.375 \nQ 16.5 21.390625 20.328125 13.890625 \nQ 24.171875 6.390625 31.78125 6.390625 \nQ 39.453125 6.390625 43.28125 13.890625 \nQ 47.125 21.390625 47.125 36.375 \nQ 47.125 51.421875 43.28125 58.90625 \nQ 39.453125 66.40625 31.78125 66.40625 \nz\nM 31.78125 74.21875 \nQ 44.046875 74.21875 50.515625 64.515625 \nQ 56.984375 54.828125 56.984375 36.375 \nQ 56.984375 17.96875 50.515625 8.265625 \nQ 44.046875 -1.421875 31.78125 -1.421875 \nQ 19.53125 -1.421875 13.0625 8.265625 \nQ 6.59375 17.96875 6.59375 36.375 \nQ 6.59375 54.828125 13.0625 64.515625 \nQ 19.53125 74.21875 31.78125 74.21875 \nz\n\" id=\"DejaVuSans-48\"/>\n       </defs>\n       <use xlink:href=\"#DejaVuSans-48\"/>\n      </g>\n     </g>\n    </g>\n    <g id=\"xtick_2\">\n     <g id=\"line2d_2\">\n      <g>\n       <use style=\"stroke:#000000;\" x=\"121.18623\" xlink:href=\"#mf08bcceaa0\" y=\"237.9345\"/>\n      </g>\n     </g>\n     <g id=\"text_2\">\n      <!-- 50 -->\n      <g transform=\"translate(115.58723 252.921125)scale(0.088 -0.088)\">\n       <defs>\n        <path d=\"M 10.796875 72.90625 \nL 49.515625 72.90625 \nL 49.515625 64.59375 \nL 19.828125 64.59375 \nL 19.828125 46.734375 \nQ 21.96875 47.46875 24.109375 47.828125 \nQ 26.265625 48.1875 28.421875 48.1875 \nQ 40.625 48.1875 47.75 41.5 \nQ 54.890625 34.8125 54.890625 23.390625 \nQ 54.890625 11.625 47.5625 5.09375 \nQ 40.234375 -1.421875 26.90625 -1.421875 \nQ 22.3125 -1.421875 17.546875 -0.640625 \nQ 12.796875 0.140625 7.71875 1.703125 \nL 7.71875 11.625 \nQ 12.109375 9.234375 16.796875 8.0625 \nQ 21.484375 6.890625 26.703125 6.890625 \nQ 35.15625 6.890625 40.078125 11.328125 \nQ 45.015625 15.765625 45.015625 23.390625 \nQ 45.015625 31 40.078125 35.4375 \nQ 35.15625 39.890625 26.703125 39.890625 \nQ 22.75 39.890625 18.8125 39.015625 \nQ 14.890625 38.140625 10.796875 36.28125 \nz\n\" id=\"DejaVuSans-53\"/>\n       </defs>\n       <use xlink:href=\"#DejaVuSans-53\"/>\n       <use x=\"63.623047\" xlink:href=\"#DejaVuSans-48\"/>\n      </g>\n     </g>\n    </g>\n    <g id=\"xtick_3\">\n     <g id=\"line2d_3\">\n      <g>\n       <use style=\"stroke:#000000;\" x=\"189.048802\" xlink:href=\"#mf08bcceaa0\" y=\"237.9345\"/>\n      </g>\n     </g>\n     <g id=\"text_3\">\n      <!-- 100 -->\n      <g transform=\"translate(180.650302 252.921125)scale(0.088 -0.088)\">\n       <defs>\n        <path d=\"M 12.40625 8.296875 \nL 28.515625 8.296875 \nL 28.515625 63.921875 \nL 10.984375 60.40625 \nL 10.984375 69.390625 \nL 28.421875 72.90625 \nL 38.28125 72.90625 \nL 38.28125 8.296875 \nL 54.390625 8.296875 \nL 54.390625 0 \nL 12.40625 0 \nz\n\" id=\"DejaVuSans-49\"/>\n       </defs>\n       <use xlink:href=\"#DejaVuSans-49\"/>\n       <use x=\"63.623047\" xlink:href=\"#DejaVuSans-48\"/>\n       <use x=\"127.246094\" xlink:href=\"#DejaVuSans-48\"/>\n      </g>\n     </g>\n    </g>\n    <g id=\"xtick_4\">\n     <g id=\"line2d_4\">\n      <g>\n       <use style=\"stroke:#000000;\" x=\"256.911374\" xlink:href=\"#mf08bcceaa0\" y=\"237.9345\"/>\n      </g>\n     </g>\n     <g id=\"text_4\">\n      <!-- 150 -->\n      <g transform=\"translate(248.512874 252.921125)scale(0.088 -0.088)\">\n       <use xlink:href=\"#DejaVuSans-49\"/>\n       <use x=\"63.623047\" xlink:href=\"#DejaVuSans-53\"/>\n       <use x=\"127.246094\" xlink:href=\"#DejaVuSans-48\"/>\n      </g>\n     </g>\n    </g>\n    <g id=\"xtick_5\">\n     <g id=\"line2d_5\">\n      <g>\n       <use style=\"stroke:#000000;\" x=\"324.773946\" xlink:href=\"#mf08bcceaa0\" y=\"237.9345\"/>\n      </g>\n     </g>\n     <g id=\"text_5\">\n      <!-- 200 -->\n      <g transform=\"translate(316.375446 252.921125)scale(0.088 -0.088)\">\n       <defs>\n        <path d=\"M 19.1875 8.296875 \nL 53.609375 8.296875 \nL 53.609375 0 \nL 7.328125 0 \nL 7.328125 8.296875 \nQ 12.9375 14.109375 22.625 23.890625 \nQ 32.328125 33.6875 34.8125 36.53125 \nQ 39.546875 41.84375 41.421875 45.53125 \nQ 43.3125 49.21875 43.3125 52.78125 \nQ 43.3125 58.59375 39.234375 62.25 \nQ 35.15625 65.921875 28.609375 65.921875 \nQ 23.96875 65.921875 18.8125 64.3125 \nQ 13.671875 62.703125 7.8125 59.421875 \nL 7.8125 69.390625 \nQ 13.765625 71.78125 18.9375 73 \nQ 24.125 74.21875 28.421875 74.21875 \nQ 39.75 74.21875 46.484375 68.546875 \nQ 53.21875 62.890625 53.21875 53.421875 \nQ 53.21875 48.921875 51.53125 44.890625 \nQ 49.859375 40.875 45.40625 35.40625 \nQ 44.1875 33.984375 37.640625 27.21875 \nQ 31.109375 20.453125 19.1875 8.296875 \nz\n\" id=\"DejaVuSans-50\"/>\n       </defs>\n       <use xlink:href=\"#DejaVuSans-50\"/>\n       <use x=\"63.623047\" xlink:href=\"#DejaVuSans-48\"/>\n       <use x=\"127.246094\" xlink:href=\"#DejaVuSans-48\"/>\n      </g>\n     </g>\n    </g>\n    <g id=\"xtick_6\">\n     <g id=\"line2d_6\">\n      <g>\n       <use style=\"stroke:#000000;\" x=\"392.636519\" xlink:href=\"#mf08bcceaa0\" y=\"237.9345\"/>\n      </g>\n     </g>\n     <g id=\"text_6\">\n      <!-- 250 -->\n      <g transform=\"translate(384.238019 252.921125)scale(0.088 -0.088)\">\n       <use xlink:href=\"#DejaVuSans-50\"/>\n       <use x=\"63.623047\" xlink:href=\"#DejaVuSans-53\"/>\n       <use x=\"127.246094\" xlink:href=\"#DejaVuSans-48\"/>\n      </g>\n     </g>\n    </g>\n    <g id=\"xtick_7\">\n     <g id=\"line2d_7\">\n      <g>\n       <use style=\"stroke:#000000;\" x=\"460.499091\" xlink:href=\"#mf08bcceaa0\" y=\"237.9345\"/>\n      </g>\n     </g>\n     <g id=\"text_7\">\n      <!-- 300 -->\n      <g transform=\"translate(452.100591 252.921125)scale(0.088 -0.088)\">\n       <defs>\n        <path d=\"M 40.578125 39.3125 \nQ 47.65625 37.796875 51.625 33 \nQ 55.609375 28.21875 55.609375 21.1875 \nQ 55.609375 10.40625 48.1875 4.484375 \nQ 40.765625 -1.421875 27.09375 -1.421875 \nQ 22.515625 -1.421875 17.65625 -0.515625 \nQ 12.796875 0.390625 7.625 2.203125 \nL 7.625 11.71875 \nQ 11.71875 9.328125 16.59375 8.109375 \nQ 21.484375 6.890625 26.8125 6.890625 \nQ 36.078125 6.890625 40.9375 10.546875 \nQ 45.796875 14.203125 45.796875 21.1875 \nQ 45.796875 27.640625 41.28125 31.265625 \nQ 36.765625 34.90625 28.71875 34.90625 \nL 20.21875 34.90625 \nL 20.21875 43.015625 \nL 29.109375 43.015625 \nQ 36.375 43.015625 40.234375 45.921875 \nQ 44.09375 48.828125 44.09375 54.296875 \nQ 44.09375 59.90625 40.109375 62.90625 \nQ 36.140625 65.921875 28.71875 65.921875 \nQ 24.65625 65.921875 20.015625 65.03125 \nQ 15.375 64.15625 9.8125 62.3125 \nL 9.8125 71.09375 \nQ 15.4375 72.65625 20.34375 73.4375 \nQ 25.25 74.21875 29.59375 74.21875 \nQ 40.828125 74.21875 47.359375 69.109375 \nQ 53.90625 64.015625 53.90625 55.328125 \nQ 53.90625 49.265625 50.4375 45.09375 \nQ 46.96875 40.921875 40.578125 39.3125 \nz\n\" id=\"DejaVuSans-51\"/>\n       </defs>\n       <use xlink:href=\"#DejaVuSans-51\"/>\n       <use x=\"63.623047\" xlink:href=\"#DejaVuSans-48\"/>\n       <use x=\"127.246094\" xlink:href=\"#DejaVuSans-48\"/>\n      </g>\n     </g>\n    </g>\n    <g id=\"text_8\">\n     <!-- iteration -->\n     <g transform=\"translate(237.31225 266.04575)scale(0.096 -0.096)\">\n      <defs>\n       <path d=\"M 9.421875 54.6875 \nL 18.40625 54.6875 \nL 18.40625 0 \nL 9.421875 0 \nz\nM 9.421875 75.984375 \nL 18.40625 75.984375 \nL 18.40625 64.59375 \nL 9.421875 64.59375 \nz\n\" id=\"DejaVuSans-105\"/>\n       <path d=\"M 18.3125 70.21875 \nL 18.3125 54.6875 \nL 36.8125 54.6875 \nL 36.8125 47.703125 \nL 18.3125 47.703125 \nL 18.3125 18.015625 \nQ 18.3125 11.328125 20.140625 9.421875 \nQ 21.96875 7.515625 27.59375 7.515625 \nL 36.8125 7.515625 \nL 36.8125 0 \nL 27.59375 0 \nQ 17.1875 0 13.234375 3.875 \nQ 9.28125 7.765625 9.28125 18.015625 \nL 9.28125 47.703125 \nL 2.6875 47.703125 \nL 2.6875 54.6875 \nL 9.28125 54.6875 \nL 9.28125 70.21875 \nz\n\" id=\"DejaVuSans-116\"/>\n       <path d=\"M 56.203125 29.59375 \nL 56.203125 25.203125 \nL 14.890625 25.203125 \nQ 15.484375 15.921875 20.484375 11.0625 \nQ 25.484375 6.203125 34.421875 6.203125 \nQ 39.59375 6.203125 44.453125 7.46875 \nQ 49.3125 8.734375 54.109375 11.28125 \nL 54.109375 2.78125 \nQ 49.265625 0.734375 44.1875 -0.34375 \nQ 39.109375 -1.421875 33.890625 -1.421875 \nQ 20.796875 -1.421875 13.15625 6.1875 \nQ 5.515625 13.8125 5.515625 26.8125 \nQ 5.515625 40.234375 12.765625 48.109375 \nQ 20.015625 56 32.328125 56 \nQ 43.359375 56 49.78125 48.890625 \nQ 56.203125 41.796875 56.203125 29.59375 \nz\nM 47.21875 32.234375 \nQ 47.125 39.59375 43.09375 43.984375 \nQ 39.0625 48.390625 32.421875 48.390625 \nQ 24.90625 48.390625 20.390625 44.140625 \nQ 15.875 39.890625 15.1875 32.171875 \nz\n\" id=\"DejaVuSans-101\"/>\n       <path d=\"M 41.109375 46.296875 \nQ 39.59375 47.171875 37.8125 47.578125 \nQ 36.03125 48 33.890625 48 \nQ 26.265625 48 22.1875 43.046875 \nQ 18.109375 38.09375 18.109375 28.8125 \nL 18.109375 0 \nL 9.078125 0 \nL 9.078125 54.6875 \nL 18.109375 54.6875 \nL 18.109375 46.1875 \nQ 20.953125 51.171875 25.484375 53.578125 \nQ 30.03125 56 36.53125 56 \nQ 37.453125 56 38.578125 55.875 \nQ 39.703125 55.765625 41.0625 55.515625 \nz\n\" id=\"DejaVuSans-114\"/>\n       <path d=\"M 34.28125 27.484375 \nQ 23.390625 27.484375 19.1875 25 \nQ 14.984375 22.515625 14.984375 16.5 \nQ 14.984375 11.71875 18.140625 8.90625 \nQ 21.296875 6.109375 26.703125 6.109375 \nQ 34.1875 6.109375 38.703125 11.40625 \nQ 43.21875 16.703125 43.21875 25.484375 \nL 43.21875 27.484375 \nz\nM 52.203125 31.203125 \nL 52.203125 0 \nL 43.21875 0 \nL 43.21875 8.296875 \nQ 40.140625 3.328125 35.546875 0.953125 \nQ 30.953125 -1.421875 24.3125 -1.421875 \nQ 15.921875 -1.421875 10.953125 3.296875 \nQ 6 8.015625 6 15.921875 \nQ 6 25.140625 12.171875 29.828125 \nQ 18.359375 34.515625 30.609375 34.515625 \nL 43.21875 34.515625 \nL 43.21875 35.40625 \nQ 43.21875 41.609375 39.140625 45 \nQ 35.0625 48.390625 27.6875 48.390625 \nQ 23 48.390625 18.546875 47.265625 \nQ 14.109375 46.140625 10.015625 43.890625 \nL 10.015625 52.203125 \nQ 14.9375 54.109375 19.578125 55.046875 \nQ 24.21875 56 28.609375 56 \nQ 40.484375 56 46.34375 49.84375 \nQ 52.203125 43.703125 52.203125 31.203125 \nz\n\" id=\"DejaVuSans-97\"/>\n       <path d=\"M 30.609375 48.390625 \nQ 23.390625 48.390625 19.1875 42.75 \nQ 14.984375 37.109375 14.984375 27.296875 \nQ 14.984375 17.484375 19.15625 11.84375 \nQ 23.34375 6.203125 30.609375 6.203125 \nQ 37.796875 6.203125 41.984375 11.859375 \nQ 46.1875 17.53125 46.1875 27.296875 \nQ 46.1875 37.015625 41.984375 42.703125 \nQ 37.796875 48.390625 30.609375 48.390625 \nz\nM 30.609375 56 \nQ 42.328125 56 49.015625 48.375 \nQ 55.71875 40.765625 55.71875 27.296875 \nQ 55.71875 13.875 49.015625 6.21875 \nQ 42.328125 -1.421875 30.609375 -1.421875 \nQ 18.84375 -1.421875 12.171875 6.21875 \nQ 5.515625 13.875 5.515625 27.296875 \nQ 5.515625 40.765625 12.171875 48.375 \nQ 18.84375 56 30.609375 56 \nz\n\" id=\"DejaVuSans-111\"/>\n       <path d=\"M 54.890625 33.015625 \nL 54.890625 0 \nL 45.90625 0 \nL 45.90625 32.71875 \nQ 45.90625 40.484375 42.875 44.328125 \nQ 39.84375 48.1875 33.796875 48.1875 \nQ 26.515625 48.1875 22.3125 43.546875 \nQ 18.109375 38.921875 18.109375 30.90625 \nL 18.109375 0 \nL 9.078125 0 \nL 9.078125 54.6875 \nL 18.109375 54.6875 \nL 18.109375 46.1875 \nQ 21.34375 51.125 25.703125 53.5625 \nQ 30.078125 56 35.796875 56 \nQ 45.21875 56 50.046875 50.171875 \nQ 54.890625 44.34375 54.890625 33.015625 \nz\n\" id=\"DejaVuSans-110\"/>\n      </defs>\n      <use xlink:href=\"#DejaVuSans-105\"/>\n      <use x=\"27.783203\" xlink:href=\"#DejaVuSans-116\"/>\n      <use x=\"66.992188\" xlink:href=\"#DejaVuSans-101\"/>\n      <use x=\"128.515625\" xlink:href=\"#DejaVuSans-114\"/>\n      <use x=\"169.628906\" xlink:href=\"#DejaVuSans-97\"/>\n      <use x=\"230.908203\" xlink:href=\"#DejaVuSans-116\"/>\n      <use x=\"270.117188\" xlink:href=\"#DejaVuSans-105\"/>\n      <use x=\"297.900391\" xlink:href=\"#DejaVuSans-111\"/>\n      <use x=\"359.082031\" xlink:href=\"#DejaVuSans-110\"/>\n     </g>\n    </g>\n   </g>\n   <g id=\"matplotlib.axis_2\">\n    <g id=\"ytick_1\">\n     <g id=\"line2d_8\">\n      <defs>\n       <path d=\"M 0 0 \nL -4.8 0 \n\" id=\"ma187b6e938\" style=\"stroke:#000000;\"/>\n      </defs>\n      <g>\n       <use style=\"stroke:#000000;\" x=\"34.39\" xlink:href=\"#ma187b6e938\" y=\"233.043306\"/>\n      </g>\n     </g>\n     <g id=\"text_9\">\n      <!-- 2 -->\n      <g transform=\"translate(20.491 236.386619)scale(0.088 -0.088)\">\n       <use xlink:href=\"#DejaVuSans-50\"/>\n      </g>\n     </g>\n    </g>\n    <g id=\"ytick_2\">\n     <g id=\"line2d_9\">\n      <g>\n       <use style=\"stroke:#000000;\" x=\"34.39\" xlink:href=\"#ma187b6e938\" y=\"203.226695\"/>\n      </g>\n     </g>\n     <g id=\"text_10\">\n      <!-- 3 -->\n      <g transform=\"translate(20.491 206.570008)scale(0.088 -0.088)\">\n       <use xlink:href=\"#DejaVuSans-51\"/>\n      </g>\n     </g>\n    </g>\n    <g id=\"ytick_3\">\n     <g id=\"line2d_10\">\n      <g>\n       <use style=\"stroke:#000000;\" x=\"34.39\" xlink:href=\"#ma187b6e938\" y=\"173.410084\"/>\n      </g>\n     </g>\n     <g id=\"text_11\">\n      <!-- 4 -->\n      <g transform=\"translate(20.491 176.753397)scale(0.088 -0.088)\">\n       <defs>\n        <path d=\"M 37.796875 64.3125 \nL 12.890625 25.390625 \nL 37.796875 25.390625 \nz\nM 35.203125 72.90625 \nL 47.609375 72.90625 \nL 47.609375 25.390625 \nL 58.015625 25.390625 \nL 58.015625 17.1875 \nL 47.609375 17.1875 \nL 47.609375 0 \nL 37.796875 0 \nL 37.796875 17.1875 \nL 4.890625 17.1875 \nL 4.890625 26.703125 \nz\n\" id=\"DejaVuSans-52\"/>\n       </defs>\n       <use xlink:href=\"#DejaVuSans-52\"/>\n      </g>\n     </g>\n    </g>\n    <g id=\"ytick_4\">\n     <g id=\"line2d_11\">\n      <g>\n       <use style=\"stroke:#000000;\" x=\"34.39\" xlink:href=\"#ma187b6e938\" y=\"143.593473\"/>\n      </g>\n     </g>\n     <g id=\"text_12\">\n      <!-- 5 -->\n      <g transform=\"translate(20.491 146.936786)scale(0.088 -0.088)\">\n       <use xlink:href=\"#DejaVuSans-53\"/>\n      </g>\n     </g>\n    </g>\n    <g id=\"ytick_5\">\n     <g id=\"line2d_12\">\n      <g>\n       <use style=\"stroke:#000000;\" x=\"34.39\" xlink:href=\"#ma187b6e938\" y=\"113.776862\"/>\n      </g>\n     </g>\n     <g id=\"text_13\">\n      <!-- 6 -->\n      <g transform=\"translate(20.491 117.120175)scale(0.088 -0.088)\">\n       <defs>\n        <path d=\"M 33.015625 40.375 \nQ 26.375 40.375 22.484375 35.828125 \nQ 18.609375 31.296875 18.609375 23.390625 \nQ 18.609375 15.53125 22.484375 10.953125 \nQ 26.375 6.390625 33.015625 6.390625 \nQ 39.65625 6.390625 43.53125 10.953125 \nQ 47.40625 15.53125 47.40625 23.390625 \nQ 47.40625 31.296875 43.53125 35.828125 \nQ 39.65625 40.375 33.015625 40.375 \nz\nM 52.59375 71.296875 \nL 52.59375 62.3125 \nQ 48.875 64.0625 45.09375 64.984375 \nQ 41.3125 65.921875 37.59375 65.921875 \nQ 27.828125 65.921875 22.671875 59.328125 \nQ 17.53125 52.734375 16.796875 39.40625 \nQ 19.671875 43.65625 24.015625 45.921875 \nQ 28.375 48.1875 33.59375 48.1875 \nQ 44.578125 48.1875 50.953125 41.515625 \nQ 57.328125 34.859375 57.328125 23.390625 \nQ 57.328125 12.15625 50.6875 5.359375 \nQ 44.046875 -1.421875 33.015625 -1.421875 \nQ 20.359375 -1.421875 13.671875 8.265625 \nQ 6.984375 17.96875 6.984375 36.375 \nQ 6.984375 53.65625 15.1875 63.9375 \nQ 23.390625 74.21875 37.203125 74.21875 \nQ 40.921875 74.21875 44.703125 73.484375 \nQ 48.484375 72.75 52.59375 71.296875 \nz\n\" id=\"DejaVuSans-54\"/>\n       </defs>\n       <use xlink:href=\"#DejaVuSans-54\"/>\n      </g>\n     </g>\n    </g>\n    <g id=\"ytick_6\">\n     <g id=\"line2d_13\">\n      <g>\n       <use style=\"stroke:#000000;\" x=\"34.39\" xlink:href=\"#ma187b6e938\" y=\"83.960251\"/>\n      </g>\n     </g>\n     <g id=\"text_14\">\n      <!-- 7 -->\n      <g transform=\"translate(20.491 87.303564)scale(0.088 -0.088)\">\n       <defs>\n        <path d=\"M 8.203125 72.90625 \nL 55.078125 72.90625 \nL 55.078125 68.703125 \nL 28.609375 0 \nL 18.3125 0 \nL 43.21875 64.59375 \nL 8.203125 64.59375 \nz\n\" id=\"DejaVuSans-55\"/>\n       </defs>\n       <use xlink:href=\"#DejaVuSans-55\"/>\n      </g>\n     </g>\n    </g>\n    <g id=\"ytick_7\">\n     <g id=\"line2d_14\">\n      <g>\n       <use style=\"stroke:#000000;\" x=\"34.39\" xlink:href=\"#ma187b6e938\" y=\"54.14364\"/>\n      </g>\n     </g>\n     <g id=\"text_15\">\n      <!-- 8 -->\n      <g transform=\"translate(20.491 57.486953)scale(0.088 -0.088)\">\n       <defs>\n        <path d=\"M 31.78125 34.625 \nQ 24.75 34.625 20.71875 30.859375 \nQ 16.703125 27.09375 16.703125 20.515625 \nQ 16.703125 13.921875 20.71875 10.15625 \nQ 24.75 6.390625 31.78125 6.390625 \nQ 38.8125 6.390625 42.859375 10.171875 \nQ 46.921875 13.96875 46.921875 20.515625 \nQ 46.921875 27.09375 42.890625 30.859375 \nQ 38.875 34.625 31.78125 34.625 \nz\nM 21.921875 38.8125 \nQ 15.578125 40.375 12.03125 44.71875 \nQ 8.5 49.078125 8.5 55.328125 \nQ 8.5 64.0625 14.71875 69.140625 \nQ 20.953125 74.21875 31.78125 74.21875 \nQ 42.671875 74.21875 48.875 69.140625 \nQ 55.078125 64.0625 55.078125 55.328125 \nQ 55.078125 49.078125 51.53125 44.71875 \nQ 48 40.375 41.703125 38.8125 \nQ 48.828125 37.15625 52.796875 32.3125 \nQ 56.78125 27.484375 56.78125 20.515625 \nQ 56.78125 9.90625 50.3125 4.234375 \nQ 43.84375 -1.421875 31.78125 -1.421875 \nQ 19.734375 -1.421875 13.25 4.234375 \nQ 6.78125 9.90625 6.78125 20.515625 \nQ 6.78125 27.484375 10.78125 32.3125 \nQ 14.796875 37.15625 21.921875 38.8125 \nz\nM 18.3125 54.390625 \nQ 18.3125 48.734375 21.84375 45.5625 \nQ 25.390625 42.390625 31.78125 42.390625 \nQ 38.140625 42.390625 41.71875 45.5625 \nQ 45.3125 48.734375 45.3125 54.390625 \nQ 45.3125 60.0625 41.71875 63.234375 \nQ 38.140625 66.40625 31.78125 66.40625 \nQ 25.390625 66.40625 21.84375 63.234375 \nQ 18.3125 60.0625 18.3125 54.390625 \nz\n\" id=\"DejaVuSans-56\"/>\n       </defs>\n       <use xlink:href=\"#DejaVuSans-56\"/>\n      </g>\n     </g>\n    </g>\n    <g id=\"ytick_8\">\n     <g id=\"line2d_15\">\n      <g>\n       <use style=\"stroke:#000000;\" x=\"34.39\" xlink:href=\"#ma187b6e938\" y=\"24.327029\"/>\n      </g>\n     </g>\n     <g id=\"text_16\">\n      <!-- 9 -->\n      <g transform=\"translate(20.491 27.670342)scale(0.088 -0.088)\">\n       <defs>\n        <path d=\"M 10.984375 1.515625 \nL 10.984375 10.5 \nQ 14.703125 8.734375 18.5 7.8125 \nQ 22.3125 6.890625 25.984375 6.890625 \nQ 35.75 6.890625 40.890625 13.453125 \nQ 46.046875 20.015625 46.78125 33.40625 \nQ 43.953125 29.203125 39.59375 26.953125 \nQ 35.25 24.703125 29.984375 24.703125 \nQ 19.046875 24.703125 12.671875 31.3125 \nQ 6.296875 37.9375 6.296875 49.421875 \nQ 6.296875 60.640625 12.9375 67.421875 \nQ 19.578125 74.21875 30.609375 74.21875 \nQ 43.265625 74.21875 49.921875 64.515625 \nQ 56.59375 54.828125 56.59375 36.375 \nQ 56.59375 19.140625 48.40625 8.859375 \nQ 40.234375 -1.421875 26.421875 -1.421875 \nQ 22.703125 -1.421875 18.890625 -0.6875 \nQ 15.09375 0.046875 10.984375 1.515625 \nz\nM 30.609375 32.421875 \nQ 37.25 32.421875 41.125 36.953125 \nQ 45.015625 41.5 45.015625 49.421875 \nQ 45.015625 57.28125 41.125 61.84375 \nQ 37.25 66.40625 30.609375 66.40625 \nQ 23.96875 66.40625 20.09375 61.84375 \nQ 16.21875 57.28125 16.21875 49.421875 \nQ 16.21875 41.5 20.09375 36.953125 \nQ 23.96875 32.421875 30.609375 32.421875 \nz\n\" id=\"DejaVuSans-57\"/>\n       </defs>\n       <use xlink:href=\"#DejaVuSans-57\"/>\n      </g>\n     </g>\n    </g>\n    <g id=\"text_17\">\n     <!-- Cost function -->\n     <g transform=\"translate(14.4945 161.01825)rotate(-90)scale(0.096 -0.096)\">\n      <defs>\n       <path d=\"M 64.40625 67.28125 \nL 64.40625 56.890625 \nQ 59.421875 61.53125 53.78125 63.8125 \nQ 48.140625 66.109375 41.796875 66.109375 \nQ 29.296875 66.109375 22.65625 58.46875 \nQ 16.015625 50.828125 16.015625 36.375 \nQ 16.015625 21.96875 22.65625 14.328125 \nQ 29.296875 6.6875 41.796875 6.6875 \nQ 48.140625 6.6875 53.78125 8.984375 \nQ 59.421875 11.28125 64.40625 15.921875 \nL 64.40625 5.609375 \nQ 59.234375 2.09375 53.4375 0.328125 \nQ 47.65625 -1.421875 41.21875 -1.421875 \nQ 24.65625 -1.421875 15.125 8.703125 \nQ 5.609375 18.84375 5.609375 36.375 \nQ 5.609375 53.953125 15.125 64.078125 \nQ 24.65625 74.21875 41.21875 74.21875 \nQ 47.75 74.21875 53.53125 72.484375 \nQ 59.328125 70.75 64.40625 67.28125 \nz\n\" id=\"DejaVuSans-67\"/>\n       <path d=\"M 44.28125 53.078125 \nL 44.28125 44.578125 \nQ 40.484375 46.53125 36.375 47.5 \nQ 32.28125 48.484375 27.875 48.484375 \nQ 21.1875 48.484375 17.84375 46.4375 \nQ 14.5 44.390625 14.5 40.28125 \nQ 14.5 37.15625 16.890625 35.375 \nQ 19.28125 33.59375 26.515625 31.984375 \nL 29.59375 31.296875 \nQ 39.15625 29.25 43.1875 25.515625 \nQ 47.21875 21.78125 47.21875 15.09375 \nQ 47.21875 7.46875 41.1875 3.015625 \nQ 35.15625 -1.421875 24.609375 -1.421875 \nQ 20.21875 -1.421875 15.453125 -0.5625 \nQ 10.6875 0.296875 5.421875 2 \nL 5.421875 11.28125 \nQ 10.40625 8.6875 15.234375 7.390625 \nQ 20.0625 6.109375 24.8125 6.109375 \nQ 31.15625 6.109375 34.5625 8.28125 \nQ 37.984375 10.453125 37.984375 14.40625 \nQ 37.984375 18.0625 35.515625 20.015625 \nQ 33.0625 21.96875 24.703125 23.78125 \nL 21.578125 24.515625 \nQ 13.234375 26.265625 9.515625 29.90625 \nQ 5.8125 33.546875 5.8125 39.890625 \nQ 5.8125 47.609375 11.28125 51.796875 \nQ 16.75 56 26.8125 56 \nQ 31.78125 56 36.171875 55.265625 \nQ 40.578125 54.546875 44.28125 53.078125 \nz\n\" id=\"DejaVuSans-115\"/>\n       <path id=\"DejaVuSans-32\"/>\n       <path d=\"M 37.109375 75.984375 \nL 37.109375 68.5 \nL 28.515625 68.5 \nQ 23.6875 68.5 21.796875 66.546875 \nQ 19.921875 64.59375 19.921875 59.515625 \nL 19.921875 54.6875 \nL 34.71875 54.6875 \nL 34.71875 47.703125 \nL 19.921875 47.703125 \nL 19.921875 0 \nL 10.890625 0 \nL 10.890625 47.703125 \nL 2.296875 47.703125 \nL 2.296875 54.6875 \nL 10.890625 54.6875 \nL 10.890625 58.5 \nQ 10.890625 67.625 15.140625 71.796875 \nQ 19.390625 75.984375 28.609375 75.984375 \nz\n\" id=\"DejaVuSans-102\"/>\n       <path d=\"M 8.5 21.578125 \nL 8.5 54.6875 \nL 17.484375 54.6875 \nL 17.484375 21.921875 \nQ 17.484375 14.15625 20.5 10.265625 \nQ 23.53125 6.390625 29.59375 6.390625 \nQ 36.859375 6.390625 41.078125 11.03125 \nQ 45.3125 15.671875 45.3125 23.6875 \nL 45.3125 54.6875 \nL 54.296875 54.6875 \nL 54.296875 0 \nL 45.3125 0 \nL 45.3125 8.40625 \nQ 42.046875 3.421875 37.71875 1 \nQ 33.40625 -1.421875 27.6875 -1.421875 \nQ 18.265625 -1.421875 13.375 4.4375 \nQ 8.5 10.296875 8.5 21.578125 \nz\nM 31.109375 56 \nz\n\" id=\"DejaVuSans-117\"/>\n       <path d=\"M 48.78125 52.59375 \nL 48.78125 44.1875 \nQ 44.96875 46.296875 41.140625 47.34375 \nQ 37.3125 48.390625 33.40625 48.390625 \nQ 24.65625 48.390625 19.8125 42.84375 \nQ 14.984375 37.3125 14.984375 27.296875 \nQ 14.984375 17.28125 19.8125 11.734375 \nQ 24.65625 6.203125 33.40625 6.203125 \nQ 37.3125 6.203125 41.140625 7.25 \nQ 44.96875 8.296875 48.78125 10.40625 \nL 48.78125 2.09375 \nQ 45.015625 0.34375 40.984375 -0.53125 \nQ 36.96875 -1.421875 32.421875 -1.421875 \nQ 20.0625 -1.421875 12.78125 6.34375 \nQ 5.515625 14.109375 5.515625 27.296875 \nQ 5.515625 40.671875 12.859375 48.328125 \nQ 20.21875 56 33.015625 56 \nQ 37.15625 56 41.109375 55.140625 \nQ 45.0625 54.296875 48.78125 52.59375 \nz\n\" id=\"DejaVuSans-99\"/>\n      </defs>\n      <use xlink:href=\"#DejaVuSans-67\"/>\n      <use x=\"69.824219\" xlink:href=\"#DejaVuSans-111\"/>\n      <use x=\"131.005859\" xlink:href=\"#DejaVuSans-115\"/>\n      <use x=\"183.105469\" xlink:href=\"#DejaVuSans-116\"/>\n      <use x=\"222.314453\" xlink:href=\"#DejaVuSans-32\"/>\n      <use x=\"254.101562\" xlink:href=\"#DejaVuSans-102\"/>\n      <use x=\"289.306641\" xlink:href=\"#DejaVuSans-117\"/>\n      <use x=\"352.685547\" xlink:href=\"#DejaVuSans-110\"/>\n      <use x=\"416.064453\" xlink:href=\"#DejaVuSans-99\"/>\n      <use x=\"471.044922\" xlink:href=\"#DejaVuSans-116\"/>\n      <use x=\"510.253906\" xlink:href=\"#DejaVuSans-105\"/>\n      <use x=\"538.037109\" xlink:href=\"#DejaVuSans-111\"/>\n      <use x=\"599.21875\" xlink:href=\"#DejaVuSans-110\"/>\n     </g>\n    </g>\n   </g>\n   <g id=\"line2d_16\">\n    <path clip-path=\"url(#p096e2da179)\" d=\"M 54.680909 30.378136 \nL 56.038161 43.223183 \nL 58.752663 65.226099 \nL 62.824418 96.172828 \nL 65.538921 114.869394 \nL 66.896172 129.230378 \nL 68.253424 147.835898 \nL 69.610675 168.435529 \nL 70.967926 191.360549 \nL 72.325178 207.222629 \nL 73.682429 210.796082 \nL 75.039681 209.59445 \nL 76.396932 206.201913 \nL 77.754184 201.154847 \nL 80.468687 189.312683 \nL 81.825938 184.110983 \nL 84.540441 174.811184 \nL 85.897692 169.305625 \nL 87.254944 164.280557 \nL 88.612195 160.92925 \nL 89.969447 158.961579 \nL 91.326698 157.204491 \nL 92.68395 154.678956 \nL 94.041201 151.592155 \nL 96.755704 146.042987 \nL 98.112955 144.004559 \nL 102.18471 141.35793 \nL 103.541961 140.853308 \nL 104.899213 140.78003 \nL 106.256464 140.872906 \nL 107.613715 141.50986 \nL 108.970967 143.393078 \nL 111.68547 149.161316 \nL 113.042721 151.014284 \nL 114.399973 151.029581 \nL 115.757224 148.184564 \nL 117.114476 141.730359 \nL 118.471727 131.643198 \nL 119.828978 120.540081 \nL 121.18623 115.000381 \nL 122.543481 119.827344 \nL 123.900733 131.094819 \nL 125.257984 139.082775 \nL 126.615236 138.396864 \nL 127.972487 132.030451 \nL 129.329739 126.801263 \nL 130.68699 128.084048 \nL 132.044241 133.447747 \nL 133.401493 138.192372 \nL 134.758744 142.461149 \nL 136.115996 146.063615 \nL 137.473247 148.448414 \nL 138.830499 149.148982 \nL 140.18775 147.895381 \nL 141.545002 145.009673 \nL 142.902253 141.685898 \nL 144.259504 139.401328 \nL 145.616756 138.7419 \nL 146.974007 139.191487 \nL 148.331259 140.333445 \nL 149.68851 142.108186 \nL 152.403013 146.3602 \nL 153.760265 148.028736 \nL 155.117516 149.095757 \nL 156.474767 149.573381 \nL 157.832019 149.608016 \nL 160.546522 149.238318 \nL 161.903773 149.225247 \nL 163.261025 149.455635 \nL 164.618276 149.921256 \nL 167.332779 151.281583 \nL 170.047282 152.652512 \nL 172.761785 153.733688 \nL 176.833539 155.309289 \nL 179.548042 156.66398 \nL 182.262545 158.373064 \nL 183.619796 159.418761 \nL 184.977048 160.64584 \nL 189.048802 164.881785 \nL 190.406054 165.964874 \nL 191.763305 166.838884 \nL 194.477808 168.244912 \nL 201.264065 171.496482 \nL 209.407574 175.554872 \nL 217.551082 179.159223 \nL 228.409094 183.905743 \nL 233.8381 186.035037 \nL 250.125117 191.92836 \nL 282.699152 202.288926 \nL 292.199912 204.946282 \nL 300.34342 206.994001 \nL 307.129678 208.464415 \nL 312.558683 209.440005 \nL 317.987689 210.21012 \nL 323.416695 210.775904 \nL 330.202952 211.252977 \nL 339.703712 211.827189 \nL 345.132718 212.506243 \nL 351.918975 213.626424 \nL 361.419735 215.462526 \nL 376.349501 218.357205 \nL 388.564764 220.454249 \nL 407.566285 223.476517 \nL 421.138799 225.432574 \nL 431.996811 226.75989 \nL 440.140319 227.533919 \nL 446.926576 227.947303 \nL 452.355582 228.050864 \nL 457.784588 227.892342 \nL 460.499091 227.713096 \nL 460.499091 227.713096 \n\" style=\"fill:none;stroke:#1f77b4;stroke-linecap:square;stroke-width:1.2;\"/>\n   </g>\n   <g id=\"patch_3\">\n    <path d=\"M 34.39 237.9345 \nL 34.39 20.4945 \n\" style=\"fill:none;stroke:#000000;stroke-linecap:square;stroke-linejoin:miter;\"/>\n   </g>\n   <g id=\"patch_4\">\n    <path d=\"M 480.79 237.9345 \nL 480.79 20.4945 \n\" style=\"fill:none;stroke:#000000;stroke-linecap:square;stroke-linejoin:miter;\"/>\n   </g>\n   <g id=\"patch_5\">\n    <path d=\"M 34.39 237.9345 \nL 480.79 237.9345 \n\" style=\"fill:none;stroke:#000000;stroke-linecap:square;stroke-linejoin:miter;\"/>\n   </g>\n   <g id=\"patch_6\">\n    <path d=\"M 34.39 20.4945 \nL 480.79 20.4945 \n\" style=\"fill:none;stroke:#000000;stroke-linecap:square;stroke-linejoin:miter;\"/>\n   </g>\n   <g id=\"text_18\">\n    <!-- cost over time -->\n    <g transform=\"translate(223.0315 14.4945)scale(0.096 -0.096)\">\n     <defs>\n      <path d=\"M 2.984375 54.6875 \nL 12.5 54.6875 \nL 29.59375 8.796875 \nL 46.6875 54.6875 \nL 56.203125 54.6875 \nL 35.6875 0 \nL 23.484375 0 \nz\n\" id=\"DejaVuSans-118\"/>\n      <path d=\"M 52 44.1875 \nQ 55.375 50.25 60.0625 53.125 \nQ 64.75 56 71.09375 56 \nQ 79.640625 56 84.28125 50.015625 \nQ 88.921875 44.046875 88.921875 33.015625 \nL 88.921875 0 \nL 79.890625 0 \nL 79.890625 32.71875 \nQ 79.890625 40.578125 77.09375 44.375 \nQ 74.3125 48.1875 68.609375 48.1875 \nQ 61.625 48.1875 57.5625 43.546875 \nQ 53.515625 38.921875 53.515625 30.90625 \nL 53.515625 0 \nL 44.484375 0 \nL 44.484375 32.71875 \nQ 44.484375 40.625 41.703125 44.40625 \nQ 38.921875 48.1875 33.109375 48.1875 \nQ 26.21875 48.1875 22.15625 43.53125 \nQ 18.109375 38.875 18.109375 30.90625 \nL 18.109375 0 \nL 9.078125 0 \nL 9.078125 54.6875 \nL 18.109375 54.6875 \nL 18.109375 46.1875 \nQ 21.1875 51.21875 25.484375 53.609375 \nQ 29.78125 56 35.6875 56 \nQ 41.65625 56 45.828125 52.96875 \nQ 50 49.953125 52 44.1875 \nz\n\" id=\"DejaVuSans-109\"/>\n     </defs>\n     <use xlink:href=\"#DejaVuSans-99\"/>\n     <use x=\"54.980469\" xlink:href=\"#DejaVuSans-111\"/>\n     <use x=\"116.162109\" xlink:href=\"#DejaVuSans-115\"/>\n     <use x=\"168.261719\" xlink:href=\"#DejaVuSans-116\"/>\n     <use x=\"207.470703\" xlink:href=\"#DejaVuSans-32\"/>\n     <use x=\"239.257812\" xlink:href=\"#DejaVuSans-111\"/>\n     <use x=\"300.439453\" xlink:href=\"#DejaVuSans-118\"/>\n     <use x=\"359.619141\" xlink:href=\"#DejaVuSans-101\"/>\n     <use x=\"421.142578\" xlink:href=\"#DejaVuSans-114\"/>\n     <use x=\"462.255859\" xlink:href=\"#DejaVuSans-32\"/>\n     <use x=\"494.042969\" xlink:href=\"#DejaVuSans-116\"/>\n     <use x=\"533.251953\" xlink:href=\"#DejaVuSans-105\"/>\n     <use x=\"561.035156\" xlink:href=\"#DejaVuSans-109\"/>\n     <use x=\"658.447266\" xlink:href=\"#DejaVuSans-101\"/>\n    </g>\n   </g>\n  </g>\n </g>\n <defs>\n  <clipPath id=\"p096e2da179\">\n   <rect height=\"217.44\" width=\"446.4\" x=\"34.39\" y=\"20.4945\"/>\n  </clipPath>\n </defs>\n</svg>\n",
      "image/png": "[encoded data removed]"
     },
     "metadata": {
      "needs_background": "light"
     }
    }
   ],
   "source": [
    "#get five classes\n",
    "x_train_five, x_test_five, y_train_five, y_test_five = reduced_form(y_train, y_test, x_train, x_test, [1,0,2,3,4])\n",
    "#create one hot encoding\n",
    "five_y_train_one_hot, five_y_test_one_hot = create_one_hot_train_and_test(y_train_five, y_test_five)\n",
    "\n",
    "#decide on learning rate and iterations\n",
    "learning_rate = 0.1 #set an arbitrary learning rate... we can iterate and try a few others soon\n",
    "iterations_five = 300\n",
    "\n",
    "#run loop\n",
    "cost_softmax_five, dict_of_FP_values_softmax_five, dict_of_weights_softmax_five = soft_max_iteration(learning_rate, iterations_five, x_train_five, five_y_train_one_hot)\n",
    "\n",
    "#train set predictions\n",
    "softmax_predictions(dict_of_FP_values_softmax_five, y_train_five)\n",
    "\n",
    "#plot cost\n",
    "plot_cost_over_time(cost_softmax_five, iterations_five)"
   ]
  },
  {
   "cell_type": "code",
   "execution_count": 786,
   "metadata": {},
   "outputs": [
    {
     "output_type": "execute_result",
     "data": {
      "text/plain": [
       "      0         1         2         3         4         5         6      \\\n",
       "0  0.309167  0.003536  0.018006  0.011725  0.079050  0.001719  0.184561   \n",
       "1  0.010139  0.000022  0.039849  0.014054  0.601815  0.004412  0.056019   \n",
       "2  0.000284  0.804879  0.890507  0.964527  0.016663  0.000247  0.003496   \n",
       "3  0.005993  0.002693  0.004612  0.005050  0.043846  0.993604  0.288657   \n",
       "4  0.674417  0.188869  0.047026  0.004645  0.258627  0.000018  0.467266   \n",
       "\n",
       "      7         8         9      ...     30586     30587     30588     30589  \\\n",
       "0  0.001171  0.681772  0.006365  ...  0.021076  0.032873  0.002822  0.081426   \n",
       "1  0.052766  0.014486  0.003172  ...  0.181657  0.378809  0.508212  0.122494   \n",
       "2  0.059610  0.031345  0.000338  ...  0.004969  0.562023  0.047002  0.130433   \n",
       "3  0.021143  0.188110  0.000062  ...  0.609583  0.015320  0.430122  0.034382   \n",
       "4  0.865310  0.084287  0.990063  ...  0.182715  0.010975  0.011842  0.631265   \n",
       "\n",
       "      30590     30591     30592     30593     30594     30595  \n",
       "0  0.357609  0.003644  0.139423  0.008017  0.063625  0.211055  \n",
       "1  0.506054  0.074761  0.399560  0.232586  0.247227  0.037209  \n",
       "2  0.055178  0.104597  0.000043  0.138279  0.144587  0.282216  \n",
       "3  0.004276  0.019930  0.418555  0.565527  0.009845  0.469308  \n",
       "4  0.076884  0.797067  0.042419  0.055591  0.534717  0.000212  \n",
       "\n",
       "[5 rows x 30596 columns]"
      ],
      "text/html": "<div>\n<style scoped>\n    .dataframe tbody tr th:only-of-type {\n        vertical-align: middle;\n    }\n\n    .dataframe tbody tr th {\n        vertical-align: top;\n    }\n\n    .dataframe thead th {\n        text-align: right;\n    }\n</style>\n<table border=\"1\" class=\"dataframe\">\n  <thead>\n    <tr style=\"text-align: right;\">\n      <th></th>\n      <th>0</th>\n      <th>1</th>\n      <th>2</th>\n      <th>3</th>\n      <th>4</th>\n      <th>5</th>\n      <th>6</th>\n      <th>7</th>\n      <th>8</th>\n      <th>9</th>\n      <th>...</th>\n      <th>30586</th>\n      <th>30587</th>\n      <th>30588</th>\n      <th>30589</th>\n      <th>30590</th>\n      <th>30591</th>\n      <th>30592</th>\n      <th>30593</th>\n      <th>30594</th>\n      <th>30595</th>\n    </tr>\n  </thead>\n  <tbody>\n    <tr>\n      <th>0</th>\n      <td>0.309167</td>\n      <td>0.003536</td>\n      <td>0.018006</td>\n      <td>0.011725</td>\n      <td>0.079050</td>\n      <td>0.001719</td>\n      <td>0.184561</td>\n      <td>0.001171</td>\n      <td>0.681772</td>\n      <td>0.006365</td>\n      <td>...</td>\n      <td>0.021076</td>\n      <td>0.032873</td>\n      <td>0.002822</td>\n      <td>0.081426</td>\n      <td>0.357609</td>\n      <td>0.003644</td>\n      <td>0.139423</td>\n      <td>0.008017</td>\n      <td>0.063625</td>\n      <td>0.211055</td>\n    </tr>\n    <tr>\n      <th>1</th>\n      <td>0.010139</td>\n      <td>0.000022</td>\n      <td>0.039849</td>\n      <td>0.014054</td>\n      <td>0.601815</td>\n      <td>0.004412</td>\n      <td>0.056019</td>\n      <td>0.052766</td>\n      <td>0.014486</td>\n      <td>0.003172</td>\n      <td>...</td>\n      <td>0.181657</td>\n      <td>0.378809</td>\n      <td>0.508212</td>\n      <td>0.122494</td>\n      <td>0.506054</td>\n      <td>0.074761</td>\n      <td>0.399560</td>\n      <td>0.232586</td>\n      <td>0.247227</td>\n      <td>0.037209</td>\n    </tr>\n    <tr>\n      <th>2</th>\n      <td>0.000284</td>\n      <td>0.804879</td>\n      <td>0.890507</td>\n      <td>0.964527</td>\n      <td>0.016663</td>\n      <td>0.000247</td>\n      <td>0.003496</td>\n      <td>0.059610</td>\n      <td>0.031345</td>\n      <td>0.000338</td>\n      <td>...</td>\n      <td>0.004969</td>\n      <td>0.562023</td>\n      <td>0.047002</td>\n      <td>0.130433</td>\n      <td>0.055178</td>\n      <td>0.104597</td>\n      <td>0.000043</td>\n      <td>0.138279</td>\n      <td>0.144587</td>\n      <td>0.282216</td>\n    </tr>\n    <tr>\n      <th>3</th>\n      <td>0.005993</td>\n      <td>0.002693</td>\n      <td>0.004612</td>\n      <td>0.005050</td>\n      <td>0.043846</td>\n      <td>0.993604</td>\n      <td>0.288657</td>\n      <td>0.021143</td>\n      <td>0.188110</td>\n      <td>0.000062</td>\n      <td>...</td>\n      <td>0.609583</td>\n      <td>0.015320</td>\n      <td>0.430122</td>\n      <td>0.034382</td>\n      <td>0.004276</td>\n      <td>0.019930</td>\n      <td>0.418555</td>\n      <td>0.565527</td>\n      <td>0.009845</td>\n      <td>0.469308</td>\n    </tr>\n    <tr>\n      <th>4</th>\n      <td>0.674417</td>\n      <td>0.188869</td>\n      <td>0.047026</td>\n      <td>0.004645</td>\n      <td>0.258627</td>\n      <td>0.000018</td>\n      <td>0.467266</td>\n      <td>0.865310</td>\n      <td>0.084287</td>\n      <td>0.990063</td>\n      <td>...</td>\n      <td>0.182715</td>\n      <td>0.010975</td>\n      <td>0.011842</td>\n      <td>0.631265</td>\n      <td>0.076884</td>\n      <td>0.797067</td>\n      <td>0.042419</td>\n      <td>0.055591</td>\n      <td>0.534717</td>\n      <td>0.000212</td>\n    </tr>\n  </tbody>\n</table>\n<p>5 rows × 30596 columns</p>\n</div>"
     },
     "metadata": {},
     "execution_count": 786
    }
   ],
   "source": [
    "pd.DataFrame(dict_of_FP_values_softmax_five['A3'])"
   ]
  },
  {
   "cell_type": "code",
   "execution_count": 776,
   "metadata": {},
   "outputs": [
    {
     "output_type": "stream",
     "name": "stdout",
     "text": [
      "[1, 0, 2, 3, 4, 5, 6, 7, 8, 9]\n",
      "(784, 60000)\n",
      "Weights matrices\n",
      "W1 (200, 784)\n",
      "B1 (200, 1)\n",
      "W2 (125, 200)\n",
      "B2 (125, 1)\n",
      "W3 (10, 125)\n",
      "B3 (10, 1)\n",
      "correct: 4648\n",
      "incorrect: 55352\n",
      "/Users/jacoblourie/opt/anaconda3/lib/python3.8/site-packages/seaborn/_decorators.py:36: FutureWarning: Pass the following variables as keyword args: x, y. From version 0.12, the only valid positional argument will be `data`, and passing other arguments without an explicit keyword will result in an error or misinterpretation.\n",
      "  warnings.warn(\n"
     ]
    },
    {
     "output_type": "display_data",
     "data": {
      "text/plain": "<Figure size 576x288 with 1 Axes>",
      "image/svg+xml": "<?xml version=\"1.0\" encoding=\"utf-8\" standalone=\"no\"?>\n<!DOCTYPE svg PUBLIC \"-//W3C//DTD SVG 1.1//EN\"\n  \"http://www.w3.org/Graphics/SVG/1.1/DTD/svg11.dtd\">\n<!-- Created with matplotlib (https://matplotlib.org/) -->\n<svg height=\"275.24225pt\" version=\"1.1\" viewBox=\"0 0 501.98475 275.24225\" width=\"501.98475pt\" xmlns=\"http://www.w3.org/2000/svg\" xmlns:xlink=\"http://www.w3.org/1999/xlink\">\n <metadata>\n  <rdf:RDF xmlns:cc=\"http://creativecommons.org/ns#\" xmlns:dc=\"http://purl.org/dc/elements/1.1/\" xmlns:rdf=\"http://www.w3.org/1999/02/22-rdf-syntax-ns#\">\n   <cc:Work>\n    <dc:type rdf:resource=\"http://purl.org/dc/dcmitype/StillImage\"/>\n    <dc:date>2021-05-06T11:46:15.598227</dc:date>\n    <dc:format>image/svg+xml</dc:format>\n    <dc:creator>\n     <cc:Agent>\n      <dc:title>Matplotlib v3.3.2, https://matplotlib.org/</dc:title>\n     </cc:Agent>\n    </dc:creator>\n   </cc:Work>\n  </rdf:RDF>\n </metadata>\n <defs>\n  <style type=\"text/css\">*{stroke-linecap:butt;stroke-linejoin:round;}</style>\n </defs>\n <g id=\"figure_1\">\n  <g id=\"patch_1\">\n   <path d=\"M 0 275.24225 \nL 501.98475 275.24225 \nL 501.98475 0 \nL 0 0 \nz\n\" style=\"fill:none;\"/>\n  </g>\n  <g id=\"axes_1\">\n   <g id=\"patch_2\">\n    <path d=\"M 48.38475 237.9345 \nL 494.78475 237.9345 \nL 494.78475 20.4945 \nL 48.38475 20.4945 \nz\n\" style=\"fill:#ffffff;\"/>\n   </g>\n   <g id=\"matplotlib.axis_1\">\n    <g id=\"xtick_1\">\n     <g id=\"line2d_1\">\n      <defs>\n       <path d=\"M 0 0 \nL 0 4.8 \n\" id=\"mf42424c94f\" style=\"stroke:#000000;\"/>\n      </defs>\n      <g>\n       <use style=\"stroke:#000000;\" x=\"67.318408\" xlink:href=\"#mf42424c94f\" y=\"237.9345\"/>\n      </g>\n     </g>\n     <g id=\"text_1\">\n      <!-- 0 -->\n      <g transform=\"translate(64.518908 252.921125)scale(0.088 -0.088)\">\n       <defs>\n        <path d=\"M 31.78125 66.40625 \nQ 24.171875 66.40625 20.328125 58.90625 \nQ 16.5 51.421875 16.5 36.375 \nQ 16.5 21.390625 20.328125 13.890625 \nQ 24.171875 6.390625 31.78125 6.390625 \nQ 39.453125 6.390625 43.28125 13.890625 \nQ 47.125 21.390625 47.125 36.375 \nQ 47.125 51.421875 43.28125 58.90625 \nQ 39.453125 66.40625 31.78125 66.40625 \nz\nM 31.78125 74.21875 \nQ 44.046875 74.21875 50.515625 64.515625 \nQ 56.984375 54.828125 56.984375 36.375 \nQ 56.984375 17.96875 50.515625 8.265625 \nQ 44.046875 -1.421875 31.78125 -1.421875 \nQ 19.53125 -1.421875 13.0625 8.265625 \nQ 6.59375 17.96875 6.59375 36.375 \nQ 6.59375 54.828125 13.0625 64.515625 \nQ 19.53125 74.21875 31.78125 74.21875 \nz\n\" id=\"DejaVuSans-48\"/>\n       </defs>\n       <use xlink:href=\"#DejaVuSans-48\"/>\n      </g>\n     </g>\n    </g>\n    <g id=\"xtick_2\">\n     <g id=\"line2d_2\">\n      <g>\n       <use style=\"stroke:#000000;\" x=\"135.18098\" xlink:href=\"#mf42424c94f\" y=\"237.9345\"/>\n      </g>\n     </g>\n     <g id=\"text_2\">\n      <!-- 50 -->\n      <g transform=\"translate(129.58198 252.921125)scale(0.088 -0.088)\">\n       <defs>\n        <path d=\"M 10.796875 72.90625 \nL 49.515625 72.90625 \nL 49.515625 64.59375 \nL 19.828125 64.59375 \nL 19.828125 46.734375 \nQ 21.96875 47.46875 24.109375 47.828125 \nQ 26.265625 48.1875 28.421875 48.1875 \nQ 40.625 48.1875 47.75 41.5 \nQ 54.890625 34.8125 54.890625 23.390625 \nQ 54.890625 11.625 47.5625 5.09375 \nQ 40.234375 -1.421875 26.90625 -1.421875 \nQ 22.3125 -1.421875 17.546875 -0.640625 \nQ 12.796875 0.140625 7.71875 1.703125 \nL 7.71875 11.625 \nQ 12.109375 9.234375 16.796875 8.0625 \nQ 21.484375 6.890625 26.703125 6.890625 \nQ 35.15625 6.890625 40.078125 11.328125 \nQ 45.015625 15.765625 45.015625 23.390625 \nQ 45.015625 31 40.078125 35.4375 \nQ 35.15625 39.890625 26.703125 39.890625 \nQ 22.75 39.890625 18.8125 39.015625 \nQ 14.890625 38.140625 10.796875 36.28125 \nz\n\" id=\"DejaVuSans-53\"/>\n       </defs>\n       <use xlink:href=\"#DejaVuSans-53\"/>\n       <use x=\"63.623047\" xlink:href=\"#DejaVuSans-48\"/>\n      </g>\n     </g>\n    </g>\n    <g id=\"xtick_3\">\n     <g id=\"line2d_3\">\n      <g>\n       <use style=\"stroke:#000000;\" x=\"203.043552\" xlink:href=\"#mf42424c94f\" y=\"237.9345\"/>\n      </g>\n     </g>\n     <g id=\"text_3\">\n      <!-- 100 -->\n      <g transform=\"translate(194.645052 252.921125)scale(0.088 -0.088)\">\n       <defs>\n        <path d=\"M 12.40625 8.296875 \nL 28.515625 8.296875 \nL 28.515625 63.921875 \nL 10.984375 60.40625 \nL 10.984375 69.390625 \nL 28.421875 72.90625 \nL 38.28125 72.90625 \nL 38.28125 8.296875 \nL 54.390625 8.296875 \nL 54.390625 0 \nL 12.40625 0 \nz\n\" id=\"DejaVuSans-49\"/>\n       </defs>\n       <use xlink:href=\"#DejaVuSans-49\"/>\n       <use x=\"63.623047\" xlink:href=\"#DejaVuSans-48\"/>\n       <use x=\"127.246094\" xlink:href=\"#DejaVuSans-48\"/>\n      </g>\n     </g>\n    </g>\n    <g id=\"xtick_4\">\n     <g id=\"line2d_4\">\n      <g>\n       <use style=\"stroke:#000000;\" x=\"270.906124\" xlink:href=\"#mf42424c94f\" y=\"237.9345\"/>\n      </g>\n     </g>\n     <g id=\"text_4\">\n      <!-- 150 -->\n      <g transform=\"translate(262.507624 252.921125)scale(0.088 -0.088)\">\n       <use xlink:href=\"#DejaVuSans-49\"/>\n       <use x=\"63.623047\" xlink:href=\"#DejaVuSans-53\"/>\n       <use x=\"127.246094\" xlink:href=\"#DejaVuSans-48\"/>\n      </g>\n     </g>\n    </g>\n    <g id=\"xtick_5\">\n     <g id=\"line2d_5\">\n      <g>\n       <use style=\"stroke:#000000;\" x=\"338.768696\" xlink:href=\"#mf42424c94f\" y=\"237.9345\"/>\n      </g>\n     </g>\n     <g id=\"text_5\">\n      <!-- 200 -->\n      <g transform=\"translate(330.370196 252.921125)scale(0.088 -0.088)\">\n       <defs>\n        <path d=\"M 19.1875 8.296875 \nL 53.609375 8.296875 \nL 53.609375 0 \nL 7.328125 0 \nL 7.328125 8.296875 \nQ 12.9375 14.109375 22.625 23.890625 \nQ 32.328125 33.6875 34.8125 36.53125 \nQ 39.546875 41.84375 41.421875 45.53125 \nQ 43.3125 49.21875 43.3125 52.78125 \nQ 43.3125 58.59375 39.234375 62.25 \nQ 35.15625 65.921875 28.609375 65.921875 \nQ 23.96875 65.921875 18.8125 64.3125 \nQ 13.671875 62.703125 7.8125 59.421875 \nL 7.8125 69.390625 \nQ 13.765625 71.78125 18.9375 73 \nQ 24.125 74.21875 28.421875 74.21875 \nQ 39.75 74.21875 46.484375 68.546875 \nQ 53.21875 62.890625 53.21875 53.421875 \nQ 53.21875 48.921875 51.53125 44.890625 \nQ 49.859375 40.875 45.40625 35.40625 \nQ 44.1875 33.984375 37.640625 27.21875 \nQ 31.109375 20.453125 19.1875 8.296875 \nz\n\" id=\"DejaVuSans-50\"/>\n       </defs>\n       <use xlink:href=\"#DejaVuSans-50\"/>\n       <use x=\"63.623047\" xlink:href=\"#DejaVuSans-48\"/>\n       <use x=\"127.246094\" xlink:href=\"#DejaVuSans-48\"/>\n      </g>\n     </g>\n    </g>\n    <g id=\"xtick_6\">\n     <g id=\"line2d_6\">\n      <g>\n       <use style=\"stroke:#000000;\" x=\"406.631269\" xlink:href=\"#mf42424c94f\" y=\"237.9345\"/>\n      </g>\n     </g>\n     <g id=\"text_6\">\n      <!-- 250 -->\n      <g transform=\"translate(398.232769 252.921125)scale(0.088 -0.088)\">\n       <use xlink:href=\"#DejaVuSans-50\"/>\n       <use x=\"63.623047\" xlink:href=\"#DejaVuSans-53\"/>\n       <use x=\"127.246094\" xlink:href=\"#DejaVuSans-48\"/>\n      </g>\n     </g>\n    </g>\n    <g id=\"xtick_7\">\n     <g id=\"line2d_7\">\n      <g>\n       <use style=\"stroke:#000000;\" x=\"474.493841\" xlink:href=\"#mf42424c94f\" y=\"237.9345\"/>\n      </g>\n     </g>\n     <g id=\"text_7\">\n      <!-- 300 -->\n      <g transform=\"translate(466.095341 252.921125)scale(0.088 -0.088)\">\n       <defs>\n        <path d=\"M 40.578125 39.3125 \nQ 47.65625 37.796875 51.625 33 \nQ 55.609375 28.21875 55.609375 21.1875 \nQ 55.609375 10.40625 48.1875 4.484375 \nQ 40.765625 -1.421875 27.09375 -1.421875 \nQ 22.515625 -1.421875 17.65625 -0.515625 \nQ 12.796875 0.390625 7.625 2.203125 \nL 7.625 11.71875 \nQ 11.71875 9.328125 16.59375 8.109375 \nQ 21.484375 6.890625 26.8125 6.890625 \nQ 36.078125 6.890625 40.9375 10.546875 \nQ 45.796875 14.203125 45.796875 21.1875 \nQ 45.796875 27.640625 41.28125 31.265625 \nQ 36.765625 34.90625 28.71875 34.90625 \nL 20.21875 34.90625 \nL 20.21875 43.015625 \nL 29.109375 43.015625 \nQ 36.375 43.015625 40.234375 45.921875 \nQ 44.09375 48.828125 44.09375 54.296875 \nQ 44.09375 59.90625 40.109375 62.90625 \nQ 36.140625 65.921875 28.71875 65.921875 \nQ 24.65625 65.921875 20.015625 65.03125 \nQ 15.375 64.15625 9.8125 62.3125 \nL 9.8125 71.09375 \nQ 15.4375 72.65625 20.34375 73.4375 \nQ 25.25 74.21875 29.59375 74.21875 \nQ 40.828125 74.21875 47.359375 69.109375 \nQ 53.90625 64.015625 53.90625 55.328125 \nQ 53.90625 49.265625 50.4375 45.09375 \nQ 46.96875 40.921875 40.578125 39.3125 \nz\n\" id=\"DejaVuSans-51\"/>\n       </defs>\n       <use xlink:href=\"#DejaVuSans-51\"/>\n       <use x=\"63.623047\" xlink:href=\"#DejaVuSans-48\"/>\n       <use x=\"127.246094\" xlink:href=\"#DejaVuSans-48\"/>\n      </g>\n     </g>\n    </g>\n    <g id=\"text_8\">\n     <!-- iteration -->\n     <g transform=\"translate(251.307 266.04575)scale(0.096 -0.096)\">\n      <defs>\n       <path d=\"M 9.421875 54.6875 \nL 18.40625 54.6875 \nL 18.40625 0 \nL 9.421875 0 \nz\nM 9.421875 75.984375 \nL 18.40625 75.984375 \nL 18.40625 64.59375 \nL 9.421875 64.59375 \nz\n\" id=\"DejaVuSans-105\"/>\n       <path d=\"M 18.3125 70.21875 \nL 18.3125 54.6875 \nL 36.8125 54.6875 \nL 36.8125 47.703125 \nL 18.3125 47.703125 \nL 18.3125 18.015625 \nQ 18.3125 11.328125 20.140625 9.421875 \nQ 21.96875 7.515625 27.59375 7.515625 \nL 36.8125 7.515625 \nL 36.8125 0 \nL 27.59375 0 \nQ 17.1875 0 13.234375 3.875 \nQ 9.28125 7.765625 9.28125 18.015625 \nL 9.28125 47.703125 \nL 2.6875 47.703125 \nL 2.6875 54.6875 \nL 9.28125 54.6875 \nL 9.28125 70.21875 \nz\n\" id=\"DejaVuSans-116\"/>\n       <path d=\"M 56.203125 29.59375 \nL 56.203125 25.203125 \nL 14.890625 25.203125 \nQ 15.484375 15.921875 20.484375 11.0625 \nQ 25.484375 6.203125 34.421875 6.203125 \nQ 39.59375 6.203125 44.453125 7.46875 \nQ 49.3125 8.734375 54.109375 11.28125 \nL 54.109375 2.78125 \nQ 49.265625 0.734375 44.1875 -0.34375 \nQ 39.109375 -1.421875 33.890625 -1.421875 \nQ 20.796875 -1.421875 13.15625 6.1875 \nQ 5.515625 13.8125 5.515625 26.8125 \nQ 5.515625 40.234375 12.765625 48.109375 \nQ 20.015625 56 32.328125 56 \nQ 43.359375 56 49.78125 48.890625 \nQ 56.203125 41.796875 56.203125 29.59375 \nz\nM 47.21875 32.234375 \nQ 47.125 39.59375 43.09375 43.984375 \nQ 39.0625 48.390625 32.421875 48.390625 \nQ 24.90625 48.390625 20.390625 44.140625 \nQ 15.875 39.890625 15.1875 32.171875 \nz\n\" id=\"DejaVuSans-101\"/>\n       <path d=\"M 41.109375 46.296875 \nQ 39.59375 47.171875 37.8125 47.578125 \nQ 36.03125 48 33.890625 48 \nQ 26.265625 48 22.1875 43.046875 \nQ 18.109375 38.09375 18.109375 28.8125 \nL 18.109375 0 \nL 9.078125 0 \nL 9.078125 54.6875 \nL 18.109375 54.6875 \nL 18.109375 46.1875 \nQ 20.953125 51.171875 25.484375 53.578125 \nQ 30.03125 56 36.53125 56 \nQ 37.453125 56 38.578125 55.875 \nQ 39.703125 55.765625 41.0625 55.515625 \nz\n\" id=\"DejaVuSans-114\"/>\n       <path d=\"M 34.28125 27.484375 \nQ 23.390625 27.484375 19.1875 25 \nQ 14.984375 22.515625 14.984375 16.5 \nQ 14.984375 11.71875 18.140625 8.90625 \nQ 21.296875 6.109375 26.703125 6.109375 \nQ 34.1875 6.109375 38.703125 11.40625 \nQ 43.21875 16.703125 43.21875 25.484375 \nL 43.21875 27.484375 \nz\nM 52.203125 31.203125 \nL 52.203125 0 \nL 43.21875 0 \nL 43.21875 8.296875 \nQ 40.140625 3.328125 35.546875 0.953125 \nQ 30.953125 -1.421875 24.3125 -1.421875 \nQ 15.921875 -1.421875 10.953125 3.296875 \nQ 6 8.015625 6 15.921875 \nQ 6 25.140625 12.171875 29.828125 \nQ 18.359375 34.515625 30.609375 34.515625 \nL 43.21875 34.515625 \nL 43.21875 35.40625 \nQ 43.21875 41.609375 39.140625 45 \nQ 35.0625 48.390625 27.6875 48.390625 \nQ 23 48.390625 18.546875 47.265625 \nQ 14.109375 46.140625 10.015625 43.890625 \nL 10.015625 52.203125 \nQ 14.9375 54.109375 19.578125 55.046875 \nQ 24.21875 56 28.609375 56 \nQ 40.484375 56 46.34375 49.84375 \nQ 52.203125 43.703125 52.203125 31.203125 \nz\n\" id=\"DejaVuSans-97\"/>\n       <path d=\"M 30.609375 48.390625 \nQ 23.390625 48.390625 19.1875 42.75 \nQ 14.984375 37.109375 14.984375 27.296875 \nQ 14.984375 17.484375 19.15625 11.84375 \nQ 23.34375 6.203125 30.609375 6.203125 \nQ 37.796875 6.203125 41.984375 11.859375 \nQ 46.1875 17.53125 46.1875 27.296875 \nQ 46.1875 37.015625 41.984375 42.703125 \nQ 37.796875 48.390625 30.609375 48.390625 \nz\nM 30.609375 56 \nQ 42.328125 56 49.015625 48.375 \nQ 55.71875 40.765625 55.71875 27.296875 \nQ 55.71875 13.875 49.015625 6.21875 \nQ 42.328125 -1.421875 30.609375 -1.421875 \nQ 18.84375 -1.421875 12.171875 6.21875 \nQ 5.515625 13.875 5.515625 27.296875 \nQ 5.515625 40.765625 12.171875 48.375 \nQ 18.84375 56 30.609375 56 \nz\n\" id=\"DejaVuSans-111\"/>\n       <path d=\"M 54.890625 33.015625 \nL 54.890625 0 \nL 45.90625 0 \nL 45.90625 32.71875 \nQ 45.90625 40.484375 42.875 44.328125 \nQ 39.84375 48.1875 33.796875 48.1875 \nQ 26.515625 48.1875 22.3125 43.546875 \nQ 18.109375 38.921875 18.109375 30.90625 \nL 18.109375 0 \nL 9.078125 0 \nL 9.078125 54.6875 \nL 18.109375 54.6875 \nL 18.109375 46.1875 \nQ 21.34375 51.125 25.703125 53.5625 \nQ 30.078125 56 35.796875 56 \nQ 45.21875 56 50.046875 50.171875 \nQ 54.890625 44.34375 54.890625 33.015625 \nz\n\" id=\"DejaVuSans-110\"/>\n      </defs>\n      <use xlink:href=\"#DejaVuSans-105\"/>\n      <use x=\"27.783203\" xlink:href=\"#DejaVuSans-116\"/>\n      <use x=\"66.992188\" xlink:href=\"#DejaVuSans-101\"/>\n      <use x=\"128.515625\" xlink:href=\"#DejaVuSans-114\"/>\n      <use x=\"169.628906\" xlink:href=\"#DejaVuSans-97\"/>\n      <use x=\"230.908203\" xlink:href=\"#DejaVuSans-116\"/>\n      <use x=\"270.117188\" xlink:href=\"#DejaVuSans-105\"/>\n      <use x=\"297.900391\" xlink:href=\"#DejaVuSans-111\"/>\n      <use x=\"359.082031\" xlink:href=\"#DejaVuSans-110\"/>\n     </g>\n    </g>\n   </g>\n   <g id=\"matplotlib.axis_2\">\n    <g id=\"ytick_1\">\n     <g id=\"line2d_8\">\n      <defs>\n       <path d=\"M 0 0 \nL -4.8 0 \n\" id=\"ma22eb250b5\" style=\"stroke:#000000;\"/>\n      </defs>\n      <g>\n       <use style=\"stroke:#000000;\" x=\"48.38475\" xlink:href=\"#ma22eb250b5\" y=\"228.198046\"/>\n      </g>\n     </g>\n     <g id=\"text_9\">\n      <!-- 2.5 -->\n      <g transform=\"translate(26.09 231.541358)scale(0.088 -0.088)\">\n       <defs>\n        <path d=\"M 10.6875 12.40625 \nL 21 12.40625 \nL 21 0 \nL 10.6875 0 \nz\n\" id=\"DejaVuSans-46\"/>\n       </defs>\n       <use xlink:href=\"#DejaVuSans-50\"/>\n       <use x=\"63.623047\" xlink:href=\"#DejaVuSans-46\"/>\n       <use x=\"95.410156\" xlink:href=\"#DejaVuSans-53\"/>\n      </g>\n     </g>\n    </g>\n    <g id=\"ytick_2\">\n     <g id=\"line2d_9\">\n      <g>\n       <use style=\"stroke:#000000;\" x=\"48.38475\" xlink:href=\"#ma22eb250b5\" y=\"198.783474\"/>\n      </g>\n     </g>\n     <g id=\"text_10\">\n      <!-- 5.0 -->\n      <g transform=\"translate(26.09 202.126786)scale(0.088 -0.088)\">\n       <use xlink:href=\"#DejaVuSans-53\"/>\n       <use x=\"63.623047\" xlink:href=\"#DejaVuSans-46\"/>\n       <use x=\"95.410156\" xlink:href=\"#DejaVuSans-48\"/>\n      </g>\n     </g>\n    </g>\n    <g id=\"ytick_3\">\n     <g id=\"line2d_10\">\n      <g>\n       <use style=\"stroke:#000000;\" x=\"48.38475\" xlink:href=\"#ma22eb250b5\" y=\"169.368901\"/>\n      </g>\n     </g>\n     <g id=\"text_11\">\n      <!-- 7.5 -->\n      <g transform=\"translate(26.09 172.712214)scale(0.088 -0.088)\">\n       <defs>\n        <path d=\"M 8.203125 72.90625 \nL 55.078125 72.90625 \nL 55.078125 68.703125 \nL 28.609375 0 \nL 18.3125 0 \nL 43.21875 64.59375 \nL 8.203125 64.59375 \nz\n\" id=\"DejaVuSans-55\"/>\n       </defs>\n       <use xlink:href=\"#DejaVuSans-55\"/>\n       <use x=\"63.623047\" xlink:href=\"#DejaVuSans-46\"/>\n       <use x=\"95.410156\" xlink:href=\"#DejaVuSans-53\"/>\n      </g>\n     </g>\n    </g>\n    <g id=\"ytick_4\">\n     <g id=\"line2d_11\">\n      <g>\n       <use style=\"stroke:#000000;\" x=\"48.38475\" xlink:href=\"#ma22eb250b5\" y=\"139.954329\"/>\n      </g>\n     </g>\n     <g id=\"text_12\">\n      <!-- 10.0 -->\n      <g transform=\"translate(20.491 143.297641)scale(0.088 -0.088)\">\n       <use xlink:href=\"#DejaVuSans-49\"/>\n       <use x=\"63.623047\" xlink:href=\"#DejaVuSans-48\"/>\n       <use x=\"127.246094\" xlink:href=\"#DejaVuSans-46\"/>\n       <use x=\"159.033203\" xlink:href=\"#DejaVuSans-48\"/>\n      </g>\n     </g>\n    </g>\n    <g id=\"ytick_5\">\n     <g id=\"line2d_12\">\n      <g>\n       <use style=\"stroke:#000000;\" x=\"48.38475\" xlink:href=\"#ma22eb250b5\" y=\"110.539757\"/>\n      </g>\n     </g>\n     <g id=\"text_13\">\n      <!-- 12.5 -->\n      <g transform=\"translate(20.491 113.883069)scale(0.088 -0.088)\">\n       <use xlink:href=\"#DejaVuSans-49\"/>\n       <use x=\"63.623047\" xlink:href=\"#DejaVuSans-50\"/>\n       <use x=\"127.246094\" xlink:href=\"#DejaVuSans-46\"/>\n       <use x=\"159.033203\" xlink:href=\"#DejaVuSans-53\"/>\n      </g>\n     </g>\n    </g>\n    <g id=\"ytick_6\">\n     <g id=\"line2d_13\">\n      <g>\n       <use style=\"stroke:#000000;\" x=\"48.38475\" xlink:href=\"#ma22eb250b5\" y=\"81.125184\"/>\n      </g>\n     </g>\n     <g id=\"text_14\">\n      <!-- 15.0 -->\n      <g transform=\"translate(20.491 84.468497)scale(0.088 -0.088)\">\n       <use xlink:href=\"#DejaVuSans-49\"/>\n       <use x=\"63.623047\" xlink:href=\"#DejaVuSans-53\"/>\n       <use x=\"127.246094\" xlink:href=\"#DejaVuSans-46\"/>\n       <use x=\"159.033203\" xlink:href=\"#DejaVuSans-48\"/>\n      </g>\n     </g>\n    </g>\n    <g id=\"ytick_7\">\n     <g id=\"line2d_14\">\n      <g>\n       <use style=\"stroke:#000000;\" x=\"48.38475\" xlink:href=\"#ma22eb250b5\" y=\"51.710612\"/>\n      </g>\n     </g>\n     <g id=\"text_15\">\n      <!-- 17.5 -->\n      <g transform=\"translate(20.491 55.053924)scale(0.088 -0.088)\">\n       <use xlink:href=\"#DejaVuSans-49\"/>\n       <use x=\"63.623047\" xlink:href=\"#DejaVuSans-55\"/>\n       <use x=\"127.246094\" xlink:href=\"#DejaVuSans-46\"/>\n       <use x=\"159.033203\" xlink:href=\"#DejaVuSans-53\"/>\n      </g>\n     </g>\n    </g>\n    <g id=\"ytick_8\">\n     <g id=\"line2d_15\">\n      <g>\n       <use style=\"stroke:#000000;\" x=\"48.38475\" xlink:href=\"#ma22eb250b5\" y=\"22.29604\"/>\n      </g>\n     </g>\n     <g id=\"text_16\">\n      <!-- 20.0 -->\n      <g transform=\"translate(20.491 25.639352)scale(0.088 -0.088)\">\n       <use xlink:href=\"#DejaVuSans-50\"/>\n       <use x=\"63.623047\" xlink:href=\"#DejaVuSans-48\"/>\n       <use x=\"127.246094\" xlink:href=\"#DejaVuSans-46\"/>\n       <use x=\"159.033203\" xlink:href=\"#DejaVuSans-48\"/>\n      </g>\n     </g>\n    </g>\n    <g id=\"text_17\">\n     <!-- Cost function -->\n     <g transform=\"translate(14.4945 161.01825)rotate(-90)scale(0.096 -0.096)\">\n      <defs>\n       <path d=\"M 64.40625 67.28125 \nL 64.40625 56.890625 \nQ 59.421875 61.53125 53.78125 63.8125 \nQ 48.140625 66.109375 41.796875 66.109375 \nQ 29.296875 66.109375 22.65625 58.46875 \nQ 16.015625 50.828125 16.015625 36.375 \nQ 16.015625 21.96875 22.65625 14.328125 \nQ 29.296875 6.6875 41.796875 6.6875 \nQ 48.140625 6.6875 53.78125 8.984375 \nQ 59.421875 11.28125 64.40625 15.921875 \nL 64.40625 5.609375 \nQ 59.234375 2.09375 53.4375 0.328125 \nQ 47.65625 -1.421875 41.21875 -1.421875 \nQ 24.65625 -1.421875 15.125 8.703125 \nQ 5.609375 18.84375 5.609375 36.375 \nQ 5.609375 53.953125 15.125 64.078125 \nQ 24.65625 74.21875 41.21875 74.21875 \nQ 47.75 74.21875 53.53125 72.484375 \nQ 59.328125 70.75 64.40625 67.28125 \nz\n\" id=\"DejaVuSans-67\"/>\n       <path d=\"M 44.28125 53.078125 \nL 44.28125 44.578125 \nQ 40.484375 46.53125 36.375 47.5 \nQ 32.28125 48.484375 27.875 48.484375 \nQ 21.1875 48.484375 17.84375 46.4375 \nQ 14.5 44.390625 14.5 40.28125 \nQ 14.5 37.15625 16.890625 35.375 \nQ 19.28125 33.59375 26.515625 31.984375 \nL 29.59375 31.296875 \nQ 39.15625 29.25 43.1875 25.515625 \nQ 47.21875 21.78125 47.21875 15.09375 \nQ 47.21875 7.46875 41.1875 3.015625 \nQ 35.15625 -1.421875 24.609375 -1.421875 \nQ 20.21875 -1.421875 15.453125 -0.5625 \nQ 10.6875 0.296875 5.421875 2 \nL 5.421875 11.28125 \nQ 10.40625 8.6875 15.234375 7.390625 \nQ 20.0625 6.109375 24.8125 6.109375 \nQ 31.15625 6.109375 34.5625 8.28125 \nQ 37.984375 10.453125 37.984375 14.40625 \nQ 37.984375 18.0625 35.515625 20.015625 \nQ 33.0625 21.96875 24.703125 23.78125 \nL 21.578125 24.515625 \nQ 13.234375 26.265625 9.515625 29.90625 \nQ 5.8125 33.546875 5.8125 39.890625 \nQ 5.8125 47.609375 11.28125 51.796875 \nQ 16.75 56 26.8125 56 \nQ 31.78125 56 36.171875 55.265625 \nQ 40.578125 54.546875 44.28125 53.078125 \nz\n\" id=\"DejaVuSans-115\"/>\n       <path id=\"DejaVuSans-32\"/>\n       <path d=\"M 37.109375 75.984375 \nL 37.109375 68.5 \nL 28.515625 68.5 \nQ 23.6875 68.5 21.796875 66.546875 \nQ 19.921875 64.59375 19.921875 59.515625 \nL 19.921875 54.6875 \nL 34.71875 54.6875 \nL 34.71875 47.703125 \nL 19.921875 47.703125 \nL 19.921875 0 \nL 10.890625 0 \nL 10.890625 47.703125 \nL 2.296875 47.703125 \nL 2.296875 54.6875 \nL 10.890625 54.6875 \nL 10.890625 58.5 \nQ 10.890625 67.625 15.140625 71.796875 \nQ 19.390625 75.984375 28.609375 75.984375 \nz\n\" id=\"DejaVuSans-102\"/>\n       <path d=\"M 8.5 21.578125 \nL 8.5 54.6875 \nL 17.484375 54.6875 \nL 17.484375 21.921875 \nQ 17.484375 14.15625 20.5 10.265625 \nQ 23.53125 6.390625 29.59375 6.390625 \nQ 36.859375 6.390625 41.078125 11.03125 \nQ 45.3125 15.671875 45.3125 23.6875 \nL 45.3125 54.6875 \nL 54.296875 54.6875 \nL 54.296875 0 \nL 45.3125 0 \nL 45.3125 8.40625 \nQ 42.046875 3.421875 37.71875 1 \nQ 33.40625 -1.421875 27.6875 -1.421875 \nQ 18.265625 -1.421875 13.375 4.4375 \nQ 8.5 10.296875 8.5 21.578125 \nz\nM 31.109375 56 \nz\n\" id=\"DejaVuSans-117\"/>\n       <path d=\"M 48.78125 52.59375 \nL 48.78125 44.1875 \nQ 44.96875 46.296875 41.140625 47.34375 \nQ 37.3125 48.390625 33.40625 48.390625 \nQ 24.65625 48.390625 19.8125 42.84375 \nQ 14.984375 37.3125 14.984375 27.296875 \nQ 14.984375 17.28125 19.8125 11.734375 \nQ 24.65625 6.203125 33.40625 6.203125 \nQ 37.3125 6.203125 41.140625 7.25 \nQ 44.96875 8.296875 48.78125 10.40625 \nL 48.78125 2.09375 \nQ 45.015625 0.34375 40.984375 -0.53125 \nQ 36.96875 -1.421875 32.421875 -1.421875 \nQ 20.0625 -1.421875 12.78125 6.34375 \nQ 5.515625 14.109375 5.515625 27.296875 \nQ 5.515625 40.671875 12.859375 48.328125 \nQ 20.21875 56 33.015625 56 \nQ 37.15625 56 41.109375 55.140625 \nQ 45.0625 54.296875 48.78125 52.59375 \nz\n\" id=\"DejaVuSans-99\"/>\n      </defs>\n      <use xlink:href=\"#DejaVuSans-67\"/>\n      <use x=\"69.824219\" xlink:href=\"#DejaVuSans-111\"/>\n      <use x=\"131.005859\" xlink:href=\"#DejaVuSans-115\"/>\n      <use x=\"183.105469\" xlink:href=\"#DejaVuSans-116\"/>\n      <use x=\"222.314453\" xlink:href=\"#DejaVuSans-32\"/>\n      <use x=\"254.101562\" xlink:href=\"#DejaVuSans-102\"/>\n      <use x=\"289.306641\" xlink:href=\"#DejaVuSans-117\"/>\n      <use x=\"352.685547\" xlink:href=\"#DejaVuSans-110\"/>\n      <use x=\"416.064453\" xlink:href=\"#DejaVuSans-99\"/>\n      <use x=\"471.044922\" xlink:href=\"#DejaVuSans-116\"/>\n      <use x=\"510.253906\" xlink:href=\"#DejaVuSans-105\"/>\n      <use x=\"538.037109\" xlink:href=\"#DejaVuSans-111\"/>\n      <use x=\"599.21875\" xlink:href=\"#DejaVuSans-110\"/>\n     </g>\n    </g>\n   </g>\n   <g id=\"line2d_16\">\n    <path clip-path=\"url(#p87a1ce61a5)\" d=\"M 68.675659 30.378136 \nL 70.032911 45.78162 \nL 71.390162 56.684231 \nL 72.747413 61.953583 \nL 74.104665 62.099843 \nL 75.461916 61.562675 \nL 76.819168 63.444389 \nL 78.176419 67.624285 \nL 79.533671 73.72866 \nL 84.962676 104.55644 \nL 86.319928 111.424912 \nL 87.677179 117.185265 \nL 89.034431 122.207862 \nL 90.391682 126.690337 \nL 93.106185 134.500814 \nL 94.463437 137.855339 \nL 95.820688 140.516052 \nL 97.177939 142.472332 \nL 98.535191 145.356902 \nL 103.964197 163.214383 \nL 108.035951 174.898198 \nL 112.107705 185.867835 \nL 114.822208 192.328885 \nL 116.17946 195.150288 \nL 117.536711 197.63909 \nL 118.893963 199.735126 \nL 120.251214 201.449294 \nL 121.608465 203.37146 \nL 122.965717 206.632812 \nL 124.322968 210.206698 \nL 125.68022 213.216857 \nL 127.037471 215.758979 \nL 128.394723 217.903671 \nL 129.751974 219.703028 \nL 131.109226 221.212725 \nL 132.466477 222.48344 \nL 133.823728 223.554043 \nL 135.18098 224.45341 \nL 137.895483 225.831014 \nL 140.609986 226.781114 \nL 143.324489 227.422545 \nL 146.038991 227.781025 \nL 154.1825 228.047607 \nL 155.539752 227.814061 \nL 156.897003 227.338835 \nL 158.254254 227.034933 \nL 162.326009 226.856346 \nL 163.68326 226.938273 \nL 167.755015 227.477594 \nL 169.112266 227.348909 \nL 170.469517 226.953814 \nL 171.826769 226.306221 \nL 174.541272 224.584405 \nL 175.898523 223.71308 \nL 177.255775 222.998128 \nL 178.613026 222.454811 \nL 179.970278 222.07416 \nL 181.327529 221.870388 \nL 184.042032 221.857783 \nL 186.756535 221.887317 \nL 189.471038 221.66553 \nL 194.900043 221.070279 \nL 200.329049 220.887519 \nL 211.187061 220.619845 \nL 213.901564 220.314876 \nL 215.258815 219.994299 \nL 216.616067 219.416441 \nL 220.687821 216.669388 \nL 222.045072 216.164413 \nL 224.759575 216.067338 \nL 226.116827 215.842019 \nL 228.83133 215.181267 \nL 230.188581 215.101836 \nL 232.903084 215.584302 \nL 234.260335 215.541169 \nL 235.617587 215.153488 \nL 238.33209 214.013818 \nL 239.689341 213.250845 \nL 243.761095 210.550746 \nL 245.118347 210.077722 \nL 246.475598 210.049549 \nL 247.83285 210.200402 \nL 250.547353 210.073409 \nL 251.904604 210.898592 \nL 253.261856 211.449821 \nL 254.619107 211.498643 \nL 255.976358 211.287834 \nL 257.33361 210.038238 \nL 258.690861 209.620274 \nL 260.048113 210.089911 \nL 261.405364 210.268584 \nL 264.119867 208.063717 \nL 266.83437 210.671925 \nL 268.191621 210.533821 \nL 269.548873 208.540701 \nL 270.906124 209.600326 \nL 272.263376 208.799316 \nL 273.620627 205.417692 \nL 274.977879 204.948112 \nL 276.33513 205.801958 \nL 277.692381 207.418287 \nL 279.049633 209.405815 \nL 280.406884 211.131306 \nL 281.764136 211.970554 \nL 283.121387 211.303995 \nL 284.478639 208.012643 \nL 285.83589 199.16014 \nL 287.193142 196.688501 \nL 288.550393 199.798092 \nL 289.907644 204.979317 \nL 291.264896 208.083154 \nL 292.622147 210.143751 \nL 293.979399 211.743352 \nL 295.33665 212.705866 \nL 296.693902 211.899151 \nL 298.051153 208.02588 \nL 299.408405 202.959311 \nL 300.765656 201.476783 \nL 302.122907 204.584406 \nL 303.480159 201.357701 \nL 304.83741 200.281918 \nL 306.194662 200.823766 \nL 307.551913 200.483433 \nL 308.909165 201.596931 \nL 310.266416 204.040264 \nL 311.623668 207.020472 \nL 312.980919 209.665185 \nL 314.33817 211.49311 \nL 315.695422 211.806728 \nL 317.052673 209.116372 \nL 318.409925 197.09212 \nL 319.767176 192.693508 \nL 321.124428 198.747787 \nL 322.481679 201.97664 \nL 323.838931 204.013706 \nL 325.196182 206.406731 \nL 326.553433 209.746196 \nL 327.910685 212.158163 \nL 329.267936 213.595759 \nL 330.625188 214.510898 \nL 331.982439 214.988515 \nL 333.339691 213.781476 \nL 334.696942 208.430019 \nL 336.054194 202.615609 \nL 337.411445 203.813705 \nL 338.768696 200.154917 \nL 340.125948 198.184509 \nL 341.483199 199.654662 \nL 342.840451 199.008638 \nL 344.197702 199.559192 \nL 345.554954 201.695352 \nL 348.269457 206.711501 \nL 349.626708 208.737335 \nL 350.983959 210.224377 \nL 352.341211 211.128062 \nL 353.698462 211.458773 \nL 355.055714 211.282566 \nL 356.412965 210.726865 \nL 357.770217 209.617751 \nL 359.127468 208.26437 \nL 360.48472 204.638472 \nL 361.841971 193.316979 \nL 363.199222 184.103827 \nL 364.556474 195.624657 \nL 365.913725 208.616445 \nL 367.270977 213.462877 \nL 368.628228 216.255083 \nL 369.98548 218.303785 \nL 371.342731 219.932584 \nL 372.699983 221.13234 \nL 376.771737 223.66456 \nL 378.128988 223.782402 \nL 379.48624 223.457016 \nL 380.843491 222.870243 \nL 382.200743 221.868836 \nL 384.915246 218.961357 \nL 386.272497 216.598136 \nL 387.629748 211.473515 \nL 388.987 203.978437 \nL 390.344251 203.495289 \nL 391.701503 207.154478 \nL 393.058754 206.254787 \nL 394.416006 201.765142 \nL 395.773257 200.058146 \nL 397.130509 201.758858 \nL 398.48776 205.622846 \nL 399.845011 206.65941 \nL 402.559514 206.99004 \nL 405.274017 207.026989 \nL 406.631269 207.00018 \nL 407.98852 205.55672 \nL 409.345772 191.2957 \nL 410.703023 192.603387 \nL 412.060274 194.139615 \nL 413.417526 213.905733 \nL 414.774777 215.002925 \nL 417.48928 218.143379 \nL 418.846532 219.378165 \nL 421.561035 221.290477 \nL 424.275537 222.802275 \nL 426.99004 223.939252 \nL 428.347292 224.367962 \nL 429.704543 224.661291 \nL 431.061795 224.803747 \nL 432.419046 224.789349 \nL 433.776298 224.587349 \nL 435.133549 224.120761 \nL 436.4908 223.331294 \nL 437.848052 222.105548 \nL 439.205303 220.053737 \nL 440.562555 216.413836 \nL 441.919806 210.210854 \nL 443.277058 202.228825 \nL 444.634309 191.99165 \nL 445.991561 185.877053 \nL 447.348812 185.04183 \nL 448.706063 186.343137 \nL 450.063315 187.217733 \nL 451.420566 189.424401 \nL 452.777818 191.030275 \nL 455.492321 192.410366 \nL 456.849572 194.562781 \nL 458.206824 198.554775 \nL 459.564075 201.013239 \nL 460.921326 202.598891 \nL 462.278578 204.641215 \nL 463.635829 206.441825 \nL 464.993081 207.953072 \nL 466.350332 209.077118 \nL 467.707584 209.748776 \nL 469.064835 209.865438 \nL 470.422087 209.262268 \nL 471.779338 208.904932 \nL 473.136589 210.402354 \nL 474.493841 212.131319 \nL 474.493841 212.131319 \n\" style=\"fill:none;stroke:#1f77b4;stroke-linecap:square;stroke-width:1.2;\"/>\n   </g>\n   <g id=\"patch_3\">\n    <path d=\"M 48.38475 237.9345 \nL 48.38475 20.4945 \n\" style=\"fill:none;stroke:#000000;stroke-linecap:square;stroke-linejoin:miter;\"/>\n   </g>\n   <g id=\"patch_4\">\n    <path d=\"M 494.78475 237.9345 \nL 494.78475 20.4945 \n\" style=\"fill:none;stroke:#000000;stroke-linecap:square;stroke-linejoin:miter;\"/>\n   </g>\n   <g id=\"patch_5\">\n    <path d=\"M 48.38475 237.9345 \nL 494.78475 237.9345 \n\" style=\"fill:none;stroke:#000000;stroke-linecap:square;stroke-linejoin:miter;\"/>\n   </g>\n   <g id=\"patch_6\">\n    <path d=\"M 48.38475 20.4945 \nL 494.78475 20.4945 \n\" style=\"fill:none;stroke:#000000;stroke-linecap:square;stroke-linejoin:miter;\"/>\n   </g>\n   <g id=\"text_18\">\n    <!-- cost over time -->\n    <g transform=\"translate(237.02625 14.4945)scale(0.096 -0.096)\">\n     <defs>\n      <path d=\"M 2.984375 54.6875 \nL 12.5 54.6875 \nL 29.59375 8.796875 \nL 46.6875 54.6875 \nL 56.203125 54.6875 \nL 35.6875 0 \nL 23.484375 0 \nz\n\" id=\"DejaVuSans-118\"/>\n      <path d=\"M 52 44.1875 \nQ 55.375 50.25 60.0625 53.125 \nQ 64.75 56 71.09375 56 \nQ 79.640625 56 84.28125 50.015625 \nQ 88.921875 44.046875 88.921875 33.015625 \nL 88.921875 0 \nL 79.890625 0 \nL 79.890625 32.71875 \nQ 79.890625 40.578125 77.09375 44.375 \nQ 74.3125 48.1875 68.609375 48.1875 \nQ 61.625 48.1875 57.5625 43.546875 \nQ 53.515625 38.921875 53.515625 30.90625 \nL 53.515625 0 \nL 44.484375 0 \nL 44.484375 32.71875 \nQ 44.484375 40.625 41.703125 44.40625 \nQ 38.921875 48.1875 33.109375 48.1875 \nQ 26.21875 48.1875 22.15625 43.53125 \nQ 18.109375 38.875 18.109375 30.90625 \nL 18.109375 0 \nL 9.078125 0 \nL 9.078125 54.6875 \nL 18.109375 54.6875 \nL 18.109375 46.1875 \nQ 21.1875 51.21875 25.484375 53.609375 \nQ 29.78125 56 35.6875 56 \nQ 41.65625 56 45.828125 52.96875 \nQ 50 49.953125 52 44.1875 \nz\n\" id=\"DejaVuSans-109\"/>\n     </defs>\n     <use xlink:href=\"#DejaVuSans-99\"/>\n     <use x=\"54.980469\" xlink:href=\"#DejaVuSans-111\"/>\n     <use x=\"116.162109\" xlink:href=\"#DejaVuSans-115\"/>\n     <use x=\"168.261719\" xlink:href=\"#DejaVuSans-116\"/>\n     <use x=\"207.470703\" xlink:href=\"#DejaVuSans-32\"/>\n     <use x=\"239.257812\" xlink:href=\"#DejaVuSans-111\"/>\n     <use x=\"300.439453\" xlink:href=\"#DejaVuSans-118\"/>\n     <use x=\"359.619141\" xlink:href=\"#DejaVuSans-101\"/>\n     <use x=\"421.142578\" xlink:href=\"#DejaVuSans-114\"/>\n     <use x=\"462.255859\" xlink:href=\"#DejaVuSans-32\"/>\n     <use x=\"494.042969\" xlink:href=\"#DejaVuSans-116\"/>\n     <use x=\"533.251953\" xlink:href=\"#DejaVuSans-105\"/>\n     <use x=\"561.035156\" xlink:href=\"#DejaVuSans-109\"/>\n     <use x=\"658.447266\" xlink:href=\"#DejaVuSans-101\"/>\n    </g>\n   </g>\n  </g>\n </g>\n <defs>\n  <clipPath id=\"p87a1ce61a5\">\n   <rect height=\"217.44\" width=\"446.4\" x=\"48.38475\" y=\"20.4945\"/>\n  </clipPath>\n </defs>\n</svg>\n",
      "image/png": "[encoded data removed]"
     },
     "metadata": {
      "needs_background": "light"
     }
    }
   ],
   "source": [
    "#get al classes\n",
    "x_train_all, x_test_all, y_train_all, y_test_all = reduced_form(y_train, y_test, x_train, x_test, [1,0,2,3,4,5,6,7,8,9])\n",
    "#create one hot encoding\n",
    "all_y_train_one_hot, all_y_test_one_hot = create_one_hot_train_and_test(y_train_all, y_test_all)\n",
    "\n",
    "#decide on learning rate and iterations\n",
    "learning_rate = 0.1 #set an arbitrary learning rate... we can iterate and try a few others soon\n",
    "iterations_all = 300\n",
    "\n",
    "#run loop\n",
    "cost_softmax_all, dict_of_FP_values_softmax_all, dict_of_weights_softmax_all = soft_max_iteration(learning_rate, iterations_all, x_train_all, all_y_train_one_hot)\n",
    "\n",
    "#train set predictions\n",
    "softmax_predictions(dict_of_FP_values_softmax_all, y_train_all)\n",
    "\n",
    "#plot cost\n",
    "plot_cost_over_time(cost_softmax_all, iterations_all)"
   ]
  },
  {
   "source": [
    "## Redefining functions to try more hidden layers"
   ],
   "cell_type": "markdown",
   "metadata": {}
  },
  {
   "cell_type": "code",
   "execution_count": 756,
   "metadata": {},
   "outputs": [
    {
     "output_type": "stream",
     "name": "stdout",
     "text": [
      "Weights matrices\nW1 (100, 784)\nB1 (100, 1)\nW2 (100, 100)\nB2 (100, 1)\nW3 (50, 100)\nB3 (50, 1)\nW4 (50, 50)\nB4 (50, 1)\nW5 (10, 50)\nB5 (10, 1)\n"
     ]
    }
   ],
   "source": [
    "#WEIGHTS INITIALISATION\n",
    "\n",
    "def init_weights_flexible(x_train_flat, array_of_layers,y_train):\n",
    "    np.random_state = 112\n",
    "    size_of_layer = [x_train_flat.shape[0]] + array_of_layers + [y_train.shape[0]]\n",
    "    dict_of_weights = {}\n",
    "\n",
    "    for layer in range(len(size_of_layer) - 1):\n",
    "        dict_of_weights[f\"W{layer+1}\"] = np.random.randn(size_of_layer[layer+1],size_of_layer[layer])\n",
    "        dict_of_weights[f\"B{layer+1}\"] = np.random.randn(size_of_layer[layer+1],1)\n",
    "    #Print the sizes of the matrix\n",
    "    print(f\"Weights matrices\")\n",
    "    for name, matrix in dict_of_weights.items():\n",
    "        print(name, matrix.shape)\n",
    "    return dict_of_weights\n",
    "\n",
    "layers_test = [100,100,50,50]\n",
    "dict_of_weights_flex_test = init_weights_flexible(x_train_all, layers_test, all_y_train_one_hot)"
   ]
  },
  {
   "cell_type": "code",
   "execution_count": 804,
   "metadata": {},
   "outputs": [],
   "source": [
    "##FORWARD PROPOGATION FLEXIBLE\n",
    "\n",
    "def sigmoid(x):\n",
    "    return (1/(1+np.exp(-x)))\n",
    "\n",
    "dict_of_FP_values = {}\n",
    "\n",
    "#FORWARD PROPOGATION\n",
    "def sigmoid_forward_prop(previous_a, W, B):\n",
    "    Z = W @ previous_a + B\n",
    "    next_A = sigmoid(Z)\n",
    "    return Z, next_A\n",
    "\n",
    "\n",
    "#Last leg forward prop\n",
    "def last_leg_softmax(previous_a, W, B):\n",
    "    Z = W @ previous_a + B\n",
    "    A = np.exp(Z)\n",
    "    A = A / np.sum(A,axis=0) \n",
    "    return Z, A\n",
    "\n",
    "def forward_prop_softmax_flex(dict_of_weights,x_train,y_train_softmax):\n",
    "    \n",
    "    #Create blank dict_of_FP_values\n",
    "    dict_of_FP_values = {}\n",
    "    \n",
    "    #initially do fp on the xtrain\n",
    "    layers = int(len(dict_of_weights.keys())/2)\n",
    "    hidden_layers = layers -2 \n",
    "    \n",
    "    #Do the first layer (on the x values)\n",
    "    dict_of_FP_values['Z1'], dict_of_FP_values['A1'] = sigmoid_forward_prop(x_train, dict_of_weights['W1'], dict_of_weights['B1'])\n",
    "\n",
    "    #Then run through the layers\n",
    "    for key in range(1,hidden_layers+1): #starts at 1, goes up to the last hidden layer\n",
    "    \n",
    "        dict_of_FP_values[f'Z{key+1}'], dict_of_FP_values[f'A{key+1}'] = sigmoid_forward_prop(dict_of_FP_values[f'A{key}'], dict_of_weights[f'W{key+1}'], dict_of_weights[f'B{key+1}'])\n",
    "\n",
    "    #then do last leg which is a different function    \n",
    "    dict_of_FP_values[f'Z{layers}'], dict_of_FP_values[f'A{layers}'] = last_leg_softmax(dict_of_FP_values[f'A{layers-1}'], dict_of_weights[f'W{layers}'], dict_of_weights[f'B{layers}']) \n",
    "    \n",
    "    #for cost fucntion, use the y log y_hat\n",
    "    Cost = -np.sum(y_train_softmax * np.log(dict_of_FP_values[f'A{layers}'])) / y_train_softmax.shape[1]\n",
    "    \n",
    "    return dict_of_FP_values, Cost\n",
    "\n",
    "dict_of_FP_values_softmax_test_flex_function, Cost_softmax_flex_function = forward_prop_softmax_flex(dict_of_weights_flex_test,x_train_all,all_y_train_one_hot)"
   ]
  },
  {
   "cell_type": "code",
   "execution_count": null,
   "metadata": {},
   "outputs": [],
   "source": [
    "## BACK PROPOGATION "
   ]
  },
  {
   "source": [
    "## END OF DOCUMENT\n",
    "\n",
    "Below here are just copy and paste from functions defined above, pasted here for ease of viewing when debugging"
   ],
   "cell_type": "markdown",
   "metadata": {}
  },
  {
   "cell_type": "code",
   "execution_count": null,
   "metadata": {},
   "outputs": [],
   "source": [
    "##just for reference back prop one layer\n",
    "\n",
    "def back_prop_one_layer_from_A_to_previous_A(cost_of_that_A, Z, prev_A,W):    \n",
    "        #going back from A to z\n",
    "        dAn_dZn = np.exp(-Z) / ((1+np.exp(-Z))**2)\n",
    "        dC_dZn = cost_of_that_A * dAn_dZn\n",
    "        \n",
    "        #get diffs at that layer\n",
    "        dZn_dWn = prev_A\n",
    "        dZn_dBn = np.zeros_like(Z) + 1\n",
    "\n",
    "        #combien to get useful differentials\n",
    "        dC_dWn = dC_dZn @ dZn_dWn.T\n",
    "        dC_dBn = np.sum(dC_dZn @ dZn_dBn.T,axis=1,keepdims=True) / dZn_dBn.shape[1]\n",
    "\n",
    "        #and then get the previous layer cost fuctions\n",
    "        dZn_dA_minus_one = W\n",
    "        dC_dA_minus_one = (dC_dZn.T @ dZn_dA_minus_one).T\n",
    "\n",
    "        return dC_dWn, dC_dBn, dC_dZn, dC_dA_minus_one"
   ]
  },
  {
   "cell_type": "code",
   "execution_count": null,
   "metadata": {},
   "outputs": [],
   "source": [
    "##just for reference forwardprop.\n",
    "\n",
    "def sigmoid(x):\n",
    "    return (1/(1+np.exp(-x)))\n",
    "\n",
    "dict_of_FP_values = {}\n",
    "#FORWARD PROPOGATION\n",
    "def sigmoid_forward_prop(previous_a, W, B):\n",
    "    Z = W @ previous_a + B\n",
    "    next_A = sigmoid(Z)\n",
    "    return Z, next_A\n",
    "\n"
   ]
  },
  {
   "cell_type": "code",
   "execution_count": null,
   "metadata": {},
   "outputs": [],
   "source": [
    "#just putting this here for reference / remidner.\n",
    "'''def gradient_descent_softmax(learning_rate, dict_of_weights, differentiat_dict):\n",
    "    \n",
    "    #we have dictionaries for the weights and the differentials, which we should be able to use quite easily here. They are also in order so we can kind of cheat... but let's not \n",
    "    for key, value in dict_of_weights.items():\n",
    "        dict_of_weights[key] += -learning_rate * differentiat_dict[f'd{key}']\n",
    "    \n",
    "    \n",
    "learning_rate = 0.1  #no idea if this is a good learning rate\n",
    "gradient_descent(learning_rate, dict_of_weights, differentiat_dict)'''"
   ]
  }
 ]
}