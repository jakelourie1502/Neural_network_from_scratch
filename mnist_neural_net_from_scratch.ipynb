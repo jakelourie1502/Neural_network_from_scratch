{
 "metadata": {
  "language_info": {
   "codemirror_mode": {
    "name": "ipython",
    "version": 3
   },
   "file_extension": ".py",
   "mimetype": "text/x-python",
   "name": "python",
   "nbconvert_exporter": "python",
   "pygments_lexer": "ipython3",
   "version": "3.8.5"
  },
  "orig_nbformat": 2,
  "kernelspec": {
   "name": "python385jvsc74a57bd03140f74d8e1d28421ccd34109d4bdb636d1200d25e7dadfa8785402db4096f74",
   "display_name": "Python 3.8.5 64-bit ('base': conda)"
  },
  "metadata": {
   "interpreter": {
    "hash": "ae44bc0eae4a697e13956773fab0a10687b55ffe583901dc88e01866ea6f570f"
   }
  }
 },
 "nbformat": 4,
 "nbformat_minor": 2,
 "cells": [
  {
   "cell_type": "code",
   "execution_count": 1,
   "metadata": {},
   "outputs": [],
   "source": [
    "sys.path.append('/Users/jacoblourie')"
   ]
  },
  {
   "cell_type": "code",
   "execution_count": 243,
   "metadata": {},
   "outputs": [],
   "source": [
    "import tensorflow as tf\n",
    "import sys\n",
    "import numpy as np \n",
    "import matplotlib.pyplot as plt\n",
    "import seaborn as sns\n",
    "#From my own library\n",
    "from computer_vision.my_lib.blur_contrast import display_image\n",
    "import pandas as pd"
   ]
  },
  {
   "source": [
    "## Trying to build a full 3 layer neural net from scratch using MNIST data"
   ],
   "cell_type": "markdown",
   "metadata": {}
  },
  {
   "cell_type": "code",
   "execution_count": 244,
   "metadata": {},
   "outputs": [],
   "source": [
    "#Load the dataset\n",
    "mnist = tf.keras.datasets.mnist\n",
    "(x_train, y_train), (x_test, y_test) = mnist.load_data()\n",
    "\n",
    "\n",
    "#need to make it smaller though\n",
    "# x_train = x_train[0:10000]\n",
    "# y_train = y_train[0:10000]"
   ]
  },
  {
   "cell_type": "code",
   "execution_count": 245,
   "metadata": {},
   "outputs": [
    {
     "output_type": "display_data",
     "data": {
      "text/plain": "<Figure size 432x432 with 1 Axes>",
      "image/svg+xml": "<?xml version=\"1.0\" encoding=\"utf-8\" standalone=\"no\"?>\n<!DOCTYPE svg PUBLIC \"-//W3C//DTD SVG 1.1//EN\"\n  \"http://www.w3.org/Graphics/SVG/1.1/DTD/svg11.dtd\">\n<!-- Created with matplotlib (https://matplotlib.org/) -->\n<svg height=\"372.35625pt\" version=\"1.1\" viewBox=\"0 0 360.285 372.35625\" width=\"360.285pt\" xmlns=\"http://www.w3.org/2000/svg\" xmlns:xlink=\"http://www.w3.org/1999/xlink\">\n <metadata>\n  <rdf:RDF xmlns:cc=\"http://creativecommons.org/ns#\" xmlns:dc=\"http://purl.org/dc/elements/1.1/\" xmlns:rdf=\"http://www.w3.org/1999/02/22-rdf-syntax-ns#\">\n   <cc:Work>\n    <dc:type rdf:resource=\"http://purl.org/dc/dcmitype/StillImage\"/>\n    <dc:date>2021-05-05T15:30:15.003982</dc:date>\n    <dc:format>image/svg+xml</dc:format>\n    <dc:creator>\n     <cc:Agent>\n      <dc:title>Matplotlib v3.3.2, https://matplotlib.org/</dc:title>\n     </cc:Agent>\n    </dc:creator>\n   </cc:Work>\n  </rdf:RDF>\n </metadata>\n <defs>\n  <style type=\"text/css\">*{stroke-linecap:butt;stroke-linejoin:round;}</style>\n </defs>\n <g id=\"figure_1\">\n  <g id=\"patch_1\">\n   <path d=\"M 0 372.35625 \nL 360.285 372.35625 \nL 360.285 0 \nL 0 0 \nz\n\" style=\"fill:none;\"/>\n  </g>\n  <g id=\"axes_1\">\n   <g id=\"patch_2\">\n    <path d=\"M 26.925 348.478125 \nL 353.085 348.478125 \nL 353.085 22.318125 \nL 26.925 22.318125 \nz\n\" style=\"fill:#ffffff;\"/>\n   </g>\n   <g clip-path=\"url(#pd8b2f078ad)\">\n    <image height=\"327\" id=\"image21c5025917\" transform=\"scale(1 -1)translate(0 -327)\" width=\"327\" x=\"26.925\" xlink:href=\"data:image/png;base64,\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\" y=\"-21.478125\"/>\n   </g>\n   <g id=\"matplotlib.axis_1\">\n    <g id=\"xtick_1\">\n     <g id=\"line2d_1\">\n      <defs>\n       <path d=\"M 0 0 \nL 0 3.5 \n\" id=\"m6e11f3060c\" style=\"stroke:#000000;stroke-width:0.8;\"/>\n      </defs>\n      <g>\n       <use style=\"stroke:#000000;stroke-width:0.8;\" x=\"32.749286\" xlink:href=\"#m6e11f3060c\" y=\"348.478125\"/>\n      </g>\n     </g>\n     <g id=\"text_1\">\n      <!-- 0 -->\n      <g transform=\"translate(29.568036 363.076563)scale(0.1 -0.1)\">\n       <defs>\n        <path d=\"M 31.78125 66.40625 \nQ 24.171875 66.40625 20.328125 58.90625 \nQ 16.5 51.421875 16.5 36.375 \nQ 16.5 21.390625 20.328125 13.890625 \nQ 24.171875 6.390625 31.78125 6.390625 \nQ 39.453125 6.390625 43.28125 13.890625 \nQ 47.125 21.390625 47.125 36.375 \nQ 47.125 51.421875 43.28125 58.90625 \nQ 39.453125 66.40625 31.78125 66.40625 \nz\nM 31.78125 74.21875 \nQ 44.046875 74.21875 50.515625 64.515625 \nQ 56.984375 54.828125 56.984375 36.375 \nQ 56.984375 17.96875 50.515625 8.265625 \nQ 44.046875 -1.421875 31.78125 -1.421875 \nQ 19.53125 -1.421875 13.0625 8.265625 \nQ 6.59375 17.96875 6.59375 36.375 \nQ 6.59375 54.828125 13.0625 64.515625 \nQ 19.53125 74.21875 31.78125 74.21875 \nz\n\" id=\"DejaVuSans-48\"/>\n       </defs>\n       <use xlink:href=\"#DejaVuSans-48\"/>\n      </g>\n     </g>\n    </g>\n    <g id=\"xtick_2\">\n     <g id=\"line2d_2\">\n      <g>\n       <use style=\"stroke:#000000;stroke-width:0.8;\" x=\"90.992143\" xlink:href=\"#m6e11f3060c\" y=\"348.478125\"/>\n      </g>\n     </g>\n     <g id=\"text_2\">\n      <!-- 5 -->\n      <g transform=\"translate(87.810893 363.076563)scale(0.1 -0.1)\">\n       <defs>\n        <path d=\"M 10.796875 72.90625 \nL 49.515625 72.90625 \nL 49.515625 64.59375 \nL 19.828125 64.59375 \nL 19.828125 46.734375 \nQ 21.96875 47.46875 24.109375 47.828125 \nQ 26.265625 48.1875 28.421875 48.1875 \nQ 40.625 48.1875 47.75 41.5 \nQ 54.890625 34.8125 54.890625 23.390625 \nQ 54.890625 11.625 47.5625 5.09375 \nQ 40.234375 -1.421875 26.90625 -1.421875 \nQ 22.3125 -1.421875 17.546875 -0.640625 \nQ 12.796875 0.140625 7.71875 1.703125 \nL 7.71875 11.625 \nQ 12.109375 9.234375 16.796875 8.0625 \nQ 21.484375 6.890625 26.703125 6.890625 \nQ 35.15625 6.890625 40.078125 11.328125 \nQ 45.015625 15.765625 45.015625 23.390625 \nQ 45.015625 31 40.078125 35.4375 \nQ 35.15625 39.890625 26.703125 39.890625 \nQ 22.75 39.890625 18.8125 39.015625 \nQ 14.890625 38.140625 10.796875 36.28125 \nz\n\" id=\"DejaVuSans-53\"/>\n       </defs>\n       <use xlink:href=\"#DejaVuSans-53\"/>\n      </g>\n     </g>\n    </g>\n    <g id=\"xtick_3\">\n     <g id=\"line2d_3\">\n      <g>\n       <use style=\"stroke:#000000;stroke-width:0.8;\" x=\"149.235\" xlink:href=\"#m6e11f3060c\" y=\"348.478125\"/>\n      </g>\n     </g>\n     <g id=\"text_3\">\n      <!-- 10 -->\n      <g transform=\"translate(142.8725 363.076563)scale(0.1 -0.1)\">\n       <defs>\n        <path d=\"M 12.40625 8.296875 \nL 28.515625 8.296875 \nL 28.515625 63.921875 \nL 10.984375 60.40625 \nL 10.984375 69.390625 \nL 28.421875 72.90625 \nL 38.28125 72.90625 \nL 38.28125 8.296875 \nL 54.390625 8.296875 \nL 54.390625 0 \nL 12.40625 0 \nz\n\" id=\"DejaVuSans-49\"/>\n       </defs>\n       <use xlink:href=\"#DejaVuSans-49\"/>\n       <use x=\"63.623047\" xlink:href=\"#DejaVuSans-48\"/>\n      </g>\n     </g>\n    </g>\n    <g id=\"xtick_4\">\n     <g id=\"line2d_4\">\n      <g>\n       <use style=\"stroke:#000000;stroke-width:0.8;\" x=\"207.477857\" xlink:href=\"#m6e11f3060c\" y=\"348.478125\"/>\n      </g>\n     </g>\n     <g id=\"text_4\">\n      <!-- 15 -->\n      <g transform=\"translate(201.115357 363.076563)scale(0.1 -0.1)\">\n       <use xlink:href=\"#DejaVuSans-49\"/>\n       <use x=\"63.623047\" xlink:href=\"#DejaVuSans-53\"/>\n      </g>\n     </g>\n    </g>\n    <g id=\"xtick_5\">\n     <g id=\"line2d_5\">\n      <g>\n       <use style=\"stroke:#000000;stroke-width:0.8;\" x=\"265.720714\" xlink:href=\"#m6e11f3060c\" y=\"348.478125\"/>\n      </g>\n     </g>\n     <g id=\"text_5\">\n      <!-- 20 -->\n      <g transform=\"translate(259.358214 363.076563)scale(0.1 -0.1)\">\n       <defs>\n        <path d=\"M 19.1875 8.296875 \nL 53.609375 8.296875 \nL 53.609375 0 \nL 7.328125 0 \nL 7.328125 8.296875 \nQ 12.9375 14.109375 22.625 23.890625 \nQ 32.328125 33.6875 34.8125 36.53125 \nQ 39.546875 41.84375 41.421875 45.53125 \nQ 43.3125 49.21875 43.3125 52.78125 \nQ 43.3125 58.59375 39.234375 62.25 \nQ 35.15625 65.921875 28.609375 65.921875 \nQ 23.96875 65.921875 18.8125 64.3125 \nQ 13.671875 62.703125 7.8125 59.421875 \nL 7.8125 69.390625 \nQ 13.765625 71.78125 18.9375 73 \nQ 24.125 74.21875 28.421875 74.21875 \nQ 39.75 74.21875 46.484375 68.546875 \nQ 53.21875 62.890625 53.21875 53.421875 \nQ 53.21875 48.921875 51.53125 44.890625 \nQ 49.859375 40.875 45.40625 35.40625 \nQ 44.1875 33.984375 37.640625 27.21875 \nQ 31.109375 20.453125 19.1875 8.296875 \nz\n\" id=\"DejaVuSans-50\"/>\n       </defs>\n       <use xlink:href=\"#DejaVuSans-50\"/>\n       <use x=\"63.623047\" xlink:href=\"#DejaVuSans-48\"/>\n      </g>\n     </g>\n    </g>\n    <g id=\"xtick_6\">\n     <g id=\"line2d_6\">\n      <g>\n       <use style=\"stroke:#000000;stroke-width:0.8;\" x=\"323.963571\" xlink:href=\"#m6e11f3060c\" y=\"348.478125\"/>\n      </g>\n     </g>\n     <g id=\"text_6\">\n      <!-- 25 -->\n      <g transform=\"translate(317.601071 363.076563)scale(0.1 -0.1)\">\n       <use xlink:href=\"#DejaVuSans-50\"/>\n       <use x=\"63.623047\" xlink:href=\"#DejaVuSans-53\"/>\n      </g>\n     </g>\n    </g>\n   </g>\n   <g id=\"matplotlib.axis_2\">\n    <g id=\"ytick_1\">\n     <g id=\"line2d_7\">\n      <defs>\n       <path d=\"M 0 0 \nL -3.5 0 \n\" id=\"m3b167040bb\" style=\"stroke:#000000;stroke-width:0.8;\"/>\n      </defs>\n      <g>\n       <use style=\"stroke:#000000;stroke-width:0.8;\" x=\"26.925\" xlink:href=\"#m3b167040bb\" y=\"28.142411\"/>\n      </g>\n     </g>\n     <g id=\"text_7\">\n      <!-- 0 -->\n      <g transform=\"translate(13.5625 31.941629)scale(0.1 -0.1)\">\n       <use xlink:href=\"#DejaVuSans-48\"/>\n      </g>\n     </g>\n    </g>\n    <g id=\"ytick_2\">\n     <g id=\"line2d_8\">\n      <g>\n       <use style=\"stroke:#000000;stroke-width:0.8;\" x=\"26.925\" xlink:href=\"#m3b167040bb\" y=\"86.385268\"/>\n      </g>\n     </g>\n     <g id=\"text_8\">\n      <!-- 5 -->\n      <g transform=\"translate(13.5625 90.184487)scale(0.1 -0.1)\">\n       <use xlink:href=\"#DejaVuSans-53\"/>\n      </g>\n     </g>\n    </g>\n    <g id=\"ytick_3\">\n     <g id=\"line2d_9\">\n      <g>\n       <use style=\"stroke:#000000;stroke-width:0.8;\" x=\"26.925\" xlink:href=\"#m3b167040bb\" y=\"144.628125\"/>\n      </g>\n     </g>\n     <g id=\"text_9\">\n      <!-- 10 -->\n      <g transform=\"translate(7.2 148.427344)scale(0.1 -0.1)\">\n       <use xlink:href=\"#DejaVuSans-49\"/>\n       <use x=\"63.623047\" xlink:href=\"#DejaVuSans-48\"/>\n      </g>\n     </g>\n    </g>\n    <g id=\"ytick_4\">\n     <g id=\"line2d_10\">\n      <g>\n       <use style=\"stroke:#000000;stroke-width:0.8;\" x=\"26.925\" xlink:href=\"#m3b167040bb\" y=\"202.870982\"/>\n      </g>\n     </g>\n     <g id=\"text_10\">\n      <!-- 15 -->\n      <g transform=\"translate(7.2 206.670201)scale(0.1 -0.1)\">\n       <use xlink:href=\"#DejaVuSans-49\"/>\n       <use x=\"63.623047\" xlink:href=\"#DejaVuSans-53\"/>\n      </g>\n     </g>\n    </g>\n    <g id=\"ytick_5\">\n     <g id=\"line2d_11\">\n      <g>\n       <use style=\"stroke:#000000;stroke-width:0.8;\" x=\"26.925\" xlink:href=\"#m3b167040bb\" y=\"261.113839\"/>\n      </g>\n     </g>\n     <g id=\"text_11\">\n      <!-- 20 -->\n      <g transform=\"translate(7.2 264.913058)scale(0.1 -0.1)\">\n       <use xlink:href=\"#DejaVuSans-50\"/>\n       <use x=\"63.623047\" xlink:href=\"#DejaVuSans-48\"/>\n      </g>\n     </g>\n    </g>\n    <g id=\"ytick_6\">\n     <g id=\"line2d_12\">\n      <g>\n       <use style=\"stroke:#000000;stroke-width:0.8;\" x=\"26.925\" xlink:href=\"#m3b167040bb\" y=\"319.356696\"/>\n      </g>\n     </g>\n     <g id=\"text_12\">\n      <!-- 25 -->\n      <g transform=\"translate(7.2 323.155915)scale(0.1 -0.1)\">\n       <use xlink:href=\"#DejaVuSans-50\"/>\n       <use x=\"63.623047\" xlink:href=\"#DejaVuSans-53\"/>\n      </g>\n     </g>\n    </g>\n   </g>\n   <g id=\"patch_3\">\n    <path d=\"M 26.925 348.478125 \nL 26.925 22.318125 \n\" style=\"fill:none;stroke:#000000;stroke-linecap:square;stroke-linejoin:miter;stroke-width:0.8;\"/>\n   </g>\n   <g id=\"patch_4\">\n    <path d=\"M 353.085 348.478125 \nL 353.085 22.318125 \n\" style=\"fill:none;stroke:#000000;stroke-linecap:square;stroke-linejoin:miter;stroke-width:0.8;\"/>\n   </g>\n   <g id=\"patch_5\">\n    <path d=\"M 26.925 348.478125 \nL 353.085 348.478125 \n\" style=\"fill:none;stroke:#000000;stroke-linecap:square;stroke-linejoin:miter;stroke-width:0.8;\"/>\n   </g>\n   <g id=\"patch_6\">\n    <path d=\"M 26.925 22.318125 \nL 353.085 22.318125 \n\" style=\"fill:none;stroke:#000000;stroke-linecap:square;stroke-linejoin:miter;stroke-width:0.8;\"/>\n   </g>\n   <g id=\"text_13\">\n    <!-- first image -->\n    <g transform=\"translate(157.685625 16.318125)scale(0.12 -0.12)\">\n     <defs>\n      <path d=\"M 37.109375 75.984375 \nL 37.109375 68.5 \nL 28.515625 68.5 \nQ 23.6875 68.5 21.796875 66.546875 \nQ 19.921875 64.59375 19.921875 59.515625 \nL 19.921875 54.6875 \nL 34.71875 54.6875 \nL 34.71875 47.703125 \nL 19.921875 47.703125 \nL 19.921875 0 \nL 10.890625 0 \nL 10.890625 47.703125 \nL 2.296875 47.703125 \nL 2.296875 54.6875 \nL 10.890625 54.6875 \nL 10.890625 58.5 \nQ 10.890625 67.625 15.140625 71.796875 \nQ 19.390625 75.984375 28.609375 75.984375 \nz\n\" id=\"DejaVuSans-102\"/>\n      <path d=\"M 9.421875 54.6875 \nL 18.40625 54.6875 \nL 18.40625 0 \nL 9.421875 0 \nz\nM 9.421875 75.984375 \nL 18.40625 75.984375 \nL 18.40625 64.59375 \nL 9.421875 64.59375 \nz\n\" id=\"DejaVuSans-105\"/>\n      <path d=\"M 41.109375 46.296875 \nQ 39.59375 47.171875 37.8125 47.578125 \nQ 36.03125 48 33.890625 48 \nQ 26.265625 48 22.1875 43.046875 \nQ 18.109375 38.09375 18.109375 28.8125 \nL 18.109375 0 \nL 9.078125 0 \nL 9.078125 54.6875 \nL 18.109375 54.6875 \nL 18.109375 46.1875 \nQ 20.953125 51.171875 25.484375 53.578125 \nQ 30.03125 56 36.53125 56 \nQ 37.453125 56 38.578125 55.875 \nQ 39.703125 55.765625 41.0625 55.515625 \nz\n\" id=\"DejaVuSans-114\"/>\n      <path d=\"M 44.28125 53.078125 \nL 44.28125 44.578125 \nQ 40.484375 46.53125 36.375 47.5 \nQ 32.28125 48.484375 27.875 48.484375 \nQ 21.1875 48.484375 17.84375 46.4375 \nQ 14.5 44.390625 14.5 40.28125 \nQ 14.5 37.15625 16.890625 35.375 \nQ 19.28125 33.59375 26.515625 31.984375 \nL 29.59375 31.296875 \nQ 39.15625 29.25 43.1875 25.515625 \nQ 47.21875 21.78125 47.21875 15.09375 \nQ 47.21875 7.46875 41.1875 3.015625 \nQ 35.15625 -1.421875 24.609375 -1.421875 \nQ 20.21875 -1.421875 15.453125 -0.5625 \nQ 10.6875 0.296875 5.421875 2 \nL 5.421875 11.28125 \nQ 10.40625 8.6875 15.234375 7.390625 \nQ 20.0625 6.109375 24.8125 6.109375 \nQ 31.15625 6.109375 34.5625 8.28125 \nQ 37.984375 10.453125 37.984375 14.40625 \nQ 37.984375 18.0625 35.515625 20.015625 \nQ 33.0625 21.96875 24.703125 23.78125 \nL 21.578125 24.515625 \nQ 13.234375 26.265625 9.515625 29.90625 \nQ 5.8125 33.546875 5.8125 39.890625 \nQ 5.8125 47.609375 11.28125 51.796875 \nQ 16.75 56 26.8125 56 \nQ 31.78125 56 36.171875 55.265625 \nQ 40.578125 54.546875 44.28125 53.078125 \nz\n\" id=\"DejaVuSans-115\"/>\n      <path d=\"M 18.3125 70.21875 \nL 18.3125 54.6875 \nL 36.8125 54.6875 \nL 36.8125 47.703125 \nL 18.3125 47.703125 \nL 18.3125 18.015625 \nQ 18.3125 11.328125 20.140625 9.421875 \nQ 21.96875 7.515625 27.59375 7.515625 \nL 36.8125 7.515625 \nL 36.8125 0 \nL 27.59375 0 \nQ 17.1875 0 13.234375 3.875 \nQ 9.28125 7.765625 9.28125 18.015625 \nL 9.28125 47.703125 \nL 2.6875 47.703125 \nL 2.6875 54.6875 \nL 9.28125 54.6875 \nL 9.28125 70.21875 \nz\n\" id=\"DejaVuSans-116\"/>\n      <path id=\"DejaVuSans-32\"/>\n      <path d=\"M 52 44.1875 \nQ 55.375 50.25 60.0625 53.125 \nQ 64.75 56 71.09375 56 \nQ 79.640625 56 84.28125 50.015625 \nQ 88.921875 44.046875 88.921875 33.015625 \nL 88.921875 0 \nL 79.890625 0 \nL 79.890625 32.71875 \nQ 79.890625 40.578125 77.09375 44.375 \nQ 74.3125 48.1875 68.609375 48.1875 \nQ 61.625 48.1875 57.5625 43.546875 \nQ 53.515625 38.921875 53.515625 30.90625 \nL 53.515625 0 \nL 44.484375 0 \nL 44.484375 32.71875 \nQ 44.484375 40.625 41.703125 44.40625 \nQ 38.921875 48.1875 33.109375 48.1875 \nQ 26.21875 48.1875 22.15625 43.53125 \nQ 18.109375 38.875 18.109375 30.90625 \nL 18.109375 0 \nL 9.078125 0 \nL 9.078125 54.6875 \nL 18.109375 54.6875 \nL 18.109375 46.1875 \nQ 21.1875 51.21875 25.484375 53.609375 \nQ 29.78125 56 35.6875 56 \nQ 41.65625 56 45.828125 52.96875 \nQ 50 49.953125 52 44.1875 \nz\n\" id=\"DejaVuSans-109\"/>\n      <path d=\"M 34.28125 27.484375 \nQ 23.390625 27.484375 19.1875 25 \nQ 14.984375 22.515625 14.984375 16.5 \nQ 14.984375 11.71875 18.140625 8.90625 \nQ 21.296875 6.109375 26.703125 6.109375 \nQ 34.1875 6.109375 38.703125 11.40625 \nQ 43.21875 16.703125 43.21875 25.484375 \nL 43.21875 27.484375 \nz\nM 52.203125 31.203125 \nL 52.203125 0 \nL 43.21875 0 \nL 43.21875 8.296875 \nQ 40.140625 3.328125 35.546875 0.953125 \nQ 30.953125 -1.421875 24.3125 -1.421875 \nQ 15.921875 -1.421875 10.953125 3.296875 \nQ 6 8.015625 6 15.921875 \nQ 6 25.140625 12.171875 29.828125 \nQ 18.359375 34.515625 30.609375 34.515625 \nL 43.21875 34.515625 \nL 43.21875 35.40625 \nQ 43.21875 41.609375 39.140625 45 \nQ 35.0625 48.390625 27.6875 48.390625 \nQ 23 48.390625 18.546875 47.265625 \nQ 14.109375 46.140625 10.015625 43.890625 \nL 10.015625 52.203125 \nQ 14.9375 54.109375 19.578125 55.046875 \nQ 24.21875 56 28.609375 56 \nQ 40.484375 56 46.34375 49.84375 \nQ 52.203125 43.703125 52.203125 31.203125 \nz\n\" id=\"DejaVuSans-97\"/>\n      <path d=\"M 45.40625 27.984375 \nQ 45.40625 37.75 41.375 43.109375 \nQ 37.359375 48.484375 30.078125 48.484375 \nQ 22.859375 48.484375 18.828125 43.109375 \nQ 14.796875 37.75 14.796875 27.984375 \nQ 14.796875 18.265625 18.828125 12.890625 \nQ 22.859375 7.515625 30.078125 7.515625 \nQ 37.359375 7.515625 41.375 12.890625 \nQ 45.40625 18.265625 45.40625 27.984375 \nz\nM 54.390625 6.78125 \nQ 54.390625 -7.171875 48.1875 -13.984375 \nQ 42 -20.796875 29.203125 -20.796875 \nQ 24.46875 -20.796875 20.265625 -20.09375 \nQ 16.0625 -19.390625 12.109375 -17.921875 \nL 12.109375 -9.1875 \nQ 16.0625 -11.328125 19.921875 -12.34375 \nQ 23.78125 -13.375 27.78125 -13.375 \nQ 36.625 -13.375 41.015625 -8.765625 \nQ 45.40625 -4.15625 45.40625 5.171875 \nL 45.40625 9.625 \nQ 42.625 4.78125 38.28125 2.390625 \nQ 33.9375 0 27.875 0 \nQ 17.828125 0 11.671875 7.65625 \nQ 5.515625 15.328125 5.515625 27.984375 \nQ 5.515625 40.671875 11.671875 48.328125 \nQ 17.828125 56 27.875 56 \nQ 33.9375 56 38.28125 53.609375 \nQ 42.625 51.21875 45.40625 46.390625 \nL 45.40625 54.6875 \nL 54.390625 54.6875 \nz\n\" id=\"DejaVuSans-103\"/>\n      <path d=\"M 56.203125 29.59375 \nL 56.203125 25.203125 \nL 14.890625 25.203125 \nQ 15.484375 15.921875 20.484375 11.0625 \nQ 25.484375 6.203125 34.421875 6.203125 \nQ 39.59375 6.203125 44.453125 7.46875 \nQ 49.3125 8.734375 54.109375 11.28125 \nL 54.109375 2.78125 \nQ 49.265625 0.734375 44.1875 -0.34375 \nQ 39.109375 -1.421875 33.890625 -1.421875 \nQ 20.796875 -1.421875 13.15625 6.1875 \nQ 5.515625 13.8125 5.515625 26.8125 \nQ 5.515625 40.234375 12.765625 48.109375 \nQ 20.015625 56 32.328125 56 \nQ 43.359375 56 49.78125 48.890625 \nQ 56.203125 41.796875 56.203125 29.59375 \nz\nM 47.21875 32.234375 \nQ 47.125 39.59375 43.09375 43.984375 \nQ 39.0625 48.390625 32.421875 48.390625 \nQ 24.90625 48.390625 20.390625 44.140625 \nQ 15.875 39.890625 15.1875 32.171875 \nz\n\" id=\"DejaVuSans-101\"/>\n     </defs>\n     <use xlink:href=\"#DejaVuSans-102\"/>\n     <use x=\"35.205078\" xlink:href=\"#DejaVuSans-105\"/>\n     <use x=\"62.988281\" xlink:href=\"#DejaVuSans-114\"/>\n     <use x=\"104.101562\" xlink:href=\"#DejaVuSans-115\"/>\n     <use x=\"156.201172\" xlink:href=\"#DejaVuSans-116\"/>\n     <use x=\"195.410156\" xlink:href=\"#DejaVuSans-32\"/>\n     <use x=\"227.197266\" xlink:href=\"#DejaVuSans-105\"/>\n     <use x=\"254.980469\" xlink:href=\"#DejaVuSans-109\"/>\n     <use x=\"352.392578\" xlink:href=\"#DejaVuSans-97\"/>\n     <use x=\"413.671875\" xlink:href=\"#DejaVuSans-103\"/>\n     <use x=\"477.148438\" xlink:href=\"#DejaVuSans-101\"/>\n    </g>\n   </g>\n  </g>\n </g>\n <defs>\n  <clipPath id=\"pd8b2f078ad\">\n   <rect height=\"326.16\" width=\"326.16\" x=\"26.925\" y=\"22.318125\"/>\n  </clipPath>\n </defs>\n</svg>\n",
      "image/png": "[encoded data removed]"
     },
     "metadata": {
      "needs_background": "light"
     }
    }
   ],
   "source": [
    "#see what an image looks like\n",
    "display_image(x_train[1],'first image', size=(6,6))"
   ]
  },
  {
   "source": [
    "## To make this simple, we will start by runnin a \"is it a 1? \" model \n",
    "We want to run a 1/0 model, so let's label all \"1\"s as 1, and everything else as 0"
   ],
   "cell_type": "markdown",
   "metadata": {}
  },
  {
   "cell_type": "code",
   "execution_count": 246,
   "metadata": {},
   "outputs": [],
   "source": [
    "binary_y_train = np.array([1 if y == 1 else 0 for y in y_train])\n",
    "binary_y_test = np.array([1 if y == 1 else 0 for y in y_test])"
   ]
  },
  {
   "source": [
    "Let's go for 2 hidden layers, of 50 and 50 levels and let's just use sigmoid functions for now"
   ],
   "cell_type": "markdown",
   "metadata": {}
  },
  {
   "cell_type": "code",
   "execution_count": 290,
   "metadata": {},
   "outputs": [
    {
     "output_type": "stream",
     "name": "stdout",
     "text": [
      "(784, 60000)\n"
     ]
    }
   ],
   "source": [
    "#this helps much simpler\n",
    "def flatten_and_reshape(x_train,x_test, y_train, y_test):\n",
    "\n",
    "    x_train_flat = x_train.reshape((x_train.shape[0],-1)).T / 255\n",
    "    x_test_flat = x_test.reshape((x_test.shape[0],-1)).T / 255\n",
    "    print(x_train_flat.shape)\n",
    "    bin_y_train = y_train.reshape(1,-1)\n",
    "    bin_y_test = y_test.reshape(1,-1)\n",
    "    return x_train_flat, x_test_flat, bin_y_train, bin_y_test\n",
    "\n",
    "x_train_flat, x_test_flat, bin_y_train, bin_y_test = flatten_and_reshape(x_train, x_test, binary_y_train, binary_y_test)\n",
    "\n",
    "#Create the binary model\n",
    "\n",
    "# y_train_transp = y_train.reshape(1,-1) \n",
    "# y_test_transp = y_test.reshape(1,-1)\n",
    "\n"
   ]
  },
  {
   "source": [
    "We'll go with a Gaussian initialisation of matrices"
   ],
   "cell_type": "markdown",
   "metadata": {}
  },
  {
   "cell_type": "code",
   "execution_count": 291,
   "metadata": {},
   "outputs": [
    {
     "output_type": "stream",
     "name": "stdout",
     "text": [
      "Weights matrices\nW1 (50, 784)\nB1 (50, 1)\nW2 (15, 50)\nB2 (15, 1)\nW3 (1, 15)\nB3 (1, 1)\n"
     ]
    }
   ],
   "source": [
    "#Let's create the 'weights' matrices\n",
    "def init_weights(x_train_flat, layer_1, layer_2,output):\n",
    "    np.random_state = 112\n",
    "    layer_1 = layer_1\n",
    "    layer_2 = layer_2\n",
    "    size_of_layer = [x_train_flat.shape[0], layer_1,layer_2, output]\n",
    "    dict_of_weights = {}\n",
    "\n",
    "    for layer in range(len(size_of_layer) - 1):\n",
    "        dict_of_weights[f\"W{layer+1}\"] = np.random.randn(size_of_layer[layer+1],size_of_layer[layer])\n",
    "        dict_of_weights[f\"B{layer+1}\"] = np.random.randn(size_of_layer[layer+1],1)\n",
    "    #Print the sizes of the matrix\n",
    "    print(f\"Weights matrices\")\n",
    "    for name, matrix in dict_of_weights.items():\n",
    "        print(name, matrix.shape)\n",
    "    return dict_of_weights\n",
    "\n",
    "dict_of_weights = init_weights(x_train_flat, 50, 15, 1)"
   ]
  },
  {
   "source": [
    "## To start with, let's do sigmoid activation for each layer"
   ],
   "cell_type": "markdown",
   "metadata": {}
  },
  {
   "cell_type": "code",
   "execution_count": 310,
   "metadata": {},
   "outputs": [],
   "source": [
    "def sigmoid(x):\n",
    "    return (1/(1+np.exp(-x)))\n",
    "\n",
    "dict_of_FP_values = {}\n",
    "#FORWARD PROPOGATION\n",
    "def sigmoid_forward_prop(previous_a, W, B):\n",
    "    Z = W @ previous_a + B\n",
    "    next_A = sigmoid(Z)\n",
    "    return Z, next_A\n",
    "\n",
    "def forward_prop(dict_of_weights,x_train_flat,bin_y_train):\n",
    "    W1, B1, W2, B2, W3, B3 = dict_of_weights.values()\n",
    "    \n",
    "    Z1, A1 = sigmoid_forward_prop(x_train_flat, W1, B1)\n",
    "    Z2, A2 = sigmoid_forward_prop(A1, W2, B2)    \n",
    "    Z3, A3 = sigmoid_forward_prop(A2, W3, B3)\n",
    "    \n",
    "    dict_of_FP_values['Z1'] = Z1\n",
    "    dict_of_FP_values['A1'] = A1\n",
    "    dict_of_FP_values['Z2'] = Z2\n",
    "    dict_of_FP_values['A2'] = A2\n",
    "    dict_of_FP_values['Z3'] = Z3\n",
    "    dict_of_FP_values['A3'] = A3\n",
    "    \n",
    "    Cost = ((bin_y_train - A3) @ np.transpose(bin_y_train - A3) / A3.size )[0]\n",
    "\n",
    "    return dict_of_FP_values, Cost\n",
    "\n",
    "dict_of_FP_values, Cost = forward_prop(dict_of_weights,x_train_flat,bin_y_train)"
   ]
  },
  {
   "source": [
    "## Great, so now we need to do back propogation.\n",
    "\n"
   ],
   "cell_type": "markdown",
   "metadata": {}
  },
  {
   "source": [
    "Worth nothing, that everything is positive - this kind of makes sense because right now the dumb model can be improved by just setting everything to 0 (as only 10% of outputs are \"1\")\n",
    "\n",
    "Let's keep going back through the differentials"
   ],
   "cell_type": "markdown",
   "metadata": {}
  },
  {
   "cell_type": "code",
   "execution_count": 311,
   "metadata": {},
   "outputs": [],
   "source": [
    "differentiat_dict = {} #putting this here for later"
   ]
  },
  {
   "cell_type": "code",
   "execution_count": 312,
   "metadata": {},
   "outputs": [],
   "source": [
    "def back_prop_one_layer_from_A_to_previous_A(cost_of_that_A, Z, prev_A,W):    \n",
    "        #going back from A to z\n",
    "        dAn_dZn = np.exp(-Z) / ((1+np.exp(-Z))**2)\n",
    "        dC_dZn = cost_of_that_A * dAn_dZn\n",
    "        \n",
    "        #get diffs at that layer\n",
    "        dZn_dWn = prev_A\n",
    "        dZn_dBn = np.zeros_like(Z) + 1\n",
    "\n",
    "        #combien to get useful differentials\n",
    "        dC_dWn = dC_dZn @ dZn_dWn.T / Z.size\n",
    "        dC_dBn = np.sum(dC_dZn @ dZn_dBn.T,axis=1,keepdims=True) / dZn_dBn.shape[1]\n",
    "\n",
    "        #and then get the previous layer cost fuctions\n",
    "        dZn_dA_minus_one = W\n",
    "        dC_dA_minus_one = (dC_dZn.T @ dZn_dA_minus_one).T\n",
    "\n",
    "        return dC_dWn, dC_dBn, dC_dZn, dC_dA_minus_one\n",
    "\n",
    "def back_prop(dict_of_weights, dict_of_FP_values, bin_y_train, x_train_flat):\n",
    "    W1, B1, W2, B2, W3, W3 = dict_of_weights.values()\n",
    "    Z1, A1, Z2, A2, Z3, A3 = dict_of_FP_values.values()\n",
    "    \n",
    "    differentiat_dict = {}\n",
    "    \n",
    "    '''Let's look at W3 and B3 first'''\n",
    "    \n",
    "    #This line is unique\n",
    "    dC_dA3 = 2*(A3 - bin_y_train)/A3.size #gives 1 by m matrix\n",
    "\n",
    "    #do the back props\n",
    "    dC_dW3, dC_dB3, dC_dZ3, dC_dA2 = back_prop_one_layer_from_A_to_previous_A(dC_dA3, Z3, A2, W3)\n",
    "    dC_dW2, dC_dB2, dC_dZ2, dC_dA1 = back_prop_one_layer_from_A_to_previous_A(dC_dA2, Z2, A1, W2)\n",
    "    dC_dW1, dC_dB1, dC_dZ1, dC_dA0 = back_prop_one_layer_from_A_to_previous_A(dC_dA1, Z1, x_train_flat, W1)\n",
    "\n",
    "\n",
    "#     #dC / dA2 ~ dC/DZ3 * dZ3 / dA2\n",
    "#     dZ3_dA2 =  W3 # z = WA + b. 1 x 50\n",
    "#     dC_dA2 = (dC_dZ3.T @ dZ3_dA2).T #50 rows, each column is back to being a training example, and there are W2.column_size rows. \n",
    "\n",
    "#     #then repeat the back_prop from before\n",
    "#     dA2_dZ2 = np.exp(-Z2) / ((1+np.exp(-Z2))**2) #still gives 50 x m\n",
    "#     dC_dZ2 = dC_dA2 * dA2_dZ2 #still a 50 x m\n",
    "\n",
    "#     dZ2_dW2 = A1 # which is now 50 x m (A1 also 50 x m)\n",
    "#     dZ2_dB2 = np.zeros_like((Z2)) + 1 #we need a 50 x 1 matrix\n",
    "\n",
    "#             #SECOND USEFUL DIFFERENTIALS\n",
    "#     dC_dW2 = dC_dZ2 @ dZ2_dW2.T  #W2 is 50x 50. dC_dZ2 is a 50 x m , by dz2_dw2 which is a 50xm, but tranpose\n",
    "#     dC_dB2 = np.sum(dC_dZ2 @ dZ2_dB2.T,axis=1,keepdims=True)\n",
    "\n",
    "#     '''#Then let's go back and get the next layer'''\n",
    "\n",
    "#     dZ2_dA1 =  W2 # z = WA + b. 1 x 50\n",
    "#     dC_dA1 = (dC_dZ2.T @ dZ2_dA1).T #50 rows, each column is back to being a training example, and there are W1.column_size rows.\n",
    "\n",
    "#     #then repeat the back_prop from before\n",
    "#     dA1_dZ1 = np.exp(-Z1) / ((1+np.exp(-Z1))**2) #still gives 50 x m\n",
    "#     dC_dZ1 = dC_dA1 * dA1_dZ1 #still a 50 x m\n",
    "\n",
    "#     dZ1_dW1 = x_train_flat # which is now 50 x m (A1 also 50 x m)\n",
    "#     dZ1_dB1 = np.zeros_like((Z1)) + 1 #we need a 50 x 1 matrix\n",
    "\n",
    "#             #THIRD USEFUL DIFFERENTIALS\n",
    "#     dC_dW1 = dC_dZ1 @ dZ1_dW1.T  #W2 is 50x 50. dC_dZ2 is a 50 x m , by dz2_dw2 which is a 50xm, but tranpose\n",
    "#     dC_dB1 = np.sum(dC_dZ1 @ dZ1_dB1.T,axis=1,keepdims=True)\n",
    "\n",
    "    #add this to the dictionary for later use.\n",
    "    differentiat_dict['dW1'] = dC_dW1\n",
    "    differentiat_dict['dB1'] = dC_dB1\n",
    "    differentiat_dict['dW2'] = dC_dW2\n",
    "    differentiat_dict['dB2'] = dC_dB2\n",
    "    differentiat_dict['dW3'] = dC_dW3\n",
    "    differentiat_dict['dB3'] = dC_dB3\n",
    "\n",
    "    return differentiat_dict\n",
    "\n",
    "differentiat_dict = back_prop(dict_of_weights, dict_of_FP_values, bin_y_train, x_train_flat)"
   ]
  },
  {
   "cell_type": "code",
   "execution_count": 288,
   "metadata": {},
   "outputs": [
    {
     "output_type": "execute_result",
     "data": {
      "text/plain": [
       "12665"
      ]
     },
     "metadata": {},
     "execution_count": 288
    }
   ],
   "source": [
    "dict_of_FP_values['Z3'].size"
   ]
  },
  {
   "source": [
    "## Great stuff, now we need to update the weights."
   ],
   "cell_type": "markdown",
   "metadata": {}
  },
  {
   "cell_type": "code",
   "execution_count": 252,
   "metadata": {},
   "outputs": [],
   "source": [
    "def gradient_descent(learning_rate, dict_of_weights, differentiat_dict):\n",
    "    \n",
    "    #we have dictionaries for the weights and the differentials, which we should be able to use quite easily here. They are also in order so we can kind of cheat... but let's not \n",
    "    for key, value in dict_of_weights.items():\n",
    "        dict_of_weights[key] += -learning_rate * differentiat_dict[f'd{key}']\n",
    "    \n",
    "    \n",
    "learning_rate = 0.1  #no idea if this is a good learning rate\n",
    "gradient_descent(learning_rate, dict_of_weights, differentiat_dict)"
   ]
  },
  {
   "source": [
    "## SO, now let's run this in a loop and see what happens to Cost"
   ],
   "cell_type": "markdown",
   "metadata": {}
  },
  {
   "cell_type": "code",
   "execution_count": 253,
   "metadata": {
    "tags": []
   },
   "outputs": [
    {
     "output_type": "stream",
     "name": "stdout",
     "text": [
      "iteration: 0\ncost: [0.23631128]\n"
     ]
    }
   ],
   "source": [
    "#We start with forward propogation, storing the cost\n",
    "learning_rate = 0.1 #set an arbitrary learning rate... we can iterate and try a few others soon\n",
    "iterations = 50\n",
    "cost = []\n",
    "\n",
    "for iteration in range(iterations):\n",
    "    \n",
    "    dict_of_FP_values, Cost = forward_prop(dict_of_weights,x_train_flat,bin_y_train)\n",
    "    cost.append(Cost[0]) #add cost to the list.\n",
    "    #then, do back prop, storing the differentials\n",
    "    differentiat_dict = back_prop(dict_of_weights, dict_of_FP_values, bin_y_train, x_train_flat)\n",
    "\n",
    "    #then, do the gradient descent. Nothing stored, the weights just update and we re-use the new values in forward prop.\n",
    "    gradient_descent(learning_rate, dict_of_weights, differentiat_dict)\n",
    "    if iteration % 100 == 0:\n",
    "        print(f'iteration: {iteration}\\ncost: {Cost}')"
   ]
  },
  {
   "cell_type": "code",
   "execution_count": 254,
   "metadata": {},
   "outputs": [
    {
     "output_type": "stream",
     "name": "stderr",
     "text": [
      "/Users/jacoblourie/opt/anaconda3/lib/python3.8/site-packages/seaborn/_decorators.py:36: FutureWarning: Pass the following variables as keyword args: x, y. From version 0.12, the only valid positional argument will be `data`, and passing other arguments without an explicit keyword will result in an error or misinterpretation.\n  warnings.warn(\n"
     ]
    },
    {
     "output_type": "execute_result",
     "data": {
      "text/plain": [
       "<AxesSubplot:>"
      ]
     },
     "metadata": {},
     "execution_count": 254
    },
    {
     "output_type": "display_data",
     "data": {
      "text/plain": "<Figure size 432x288 with 1 Axes>",
      "image/svg+xml": "<?xml version=\"1.0\" encoding=\"utf-8\" standalone=\"no\"?>\n<!DOCTYPE svg PUBLIC \"-//W3C//DTD SVG 1.1//EN\"\n  \"http://www.w3.org/Graphics/SVG/1.1/DTD/svg11.dtd\">\n<!-- Created with matplotlib (https://matplotlib.org/) -->\n<svg height=\"248.518125pt\" version=\"1.1\" viewBox=\"0 0 378.465625 248.518125\" width=\"378.465625pt\" xmlns=\"http://www.w3.org/2000/svg\" xmlns:xlink=\"http://www.w3.org/1999/xlink\">\n <metadata>\n  <rdf:RDF xmlns:cc=\"http://creativecommons.org/ns#\" xmlns:dc=\"http://purl.org/dc/elements/1.1/\" xmlns:rdf=\"http://www.w3.org/1999/02/22-rdf-syntax-ns#\">\n   <cc:Work>\n    <dc:type rdf:resource=\"http://purl.org/dc/dcmitype/StillImage\"/>\n    <dc:date>2021-05-05T15:30:43.130027</dc:date>\n    <dc:format>image/svg+xml</dc:format>\n    <dc:creator>\n     <cc:Agent>\n      <dc:title>Matplotlib v3.3.2, https://matplotlib.org/</dc:title>\n     </cc:Agent>\n    </dc:creator>\n   </cc:Work>\n  </rdf:RDF>\n </metadata>\n <defs>\n  <style type=\"text/css\">*{stroke-linecap:butt;stroke-linejoin:round;}</style>\n </defs>\n <g id=\"figure_1\">\n  <g id=\"patch_1\">\n   <path d=\"M 0 248.518125 \nL 378.465625 248.518125 \nL 378.465625 0 \nL 0 0 \nz\n\" style=\"fill:none;\"/>\n  </g>\n  <g id=\"axes_1\">\n   <g id=\"patch_2\">\n    <path d=\"M 36.465625 224.64 \nL 371.265625 224.64 \nL 371.265625 7.2 \nL 36.465625 7.2 \nz\n\" style=\"fill:#ffffff;\"/>\n   </g>\n   <g id=\"matplotlib.axis_1\">\n    <g id=\"xtick_1\">\n     <g id=\"line2d_1\">\n      <defs>\n       <path d=\"M 0 0 \nL 0 3.5 \n\" id=\"m57dcc7dcaa\" style=\"stroke:#000000;stroke-width:0.8;\"/>\n      </defs>\n      <g>\n       <use style=\"stroke:#000000;stroke-width:0.8;\" x=\"45.472304\" xlink:href=\"#m57dcc7dcaa\" y=\"224.64\"/>\n      </g>\n     </g>\n     <g id=\"text_1\">\n      <!-- 0 -->\n      <g transform=\"translate(42.291054 239.238437)scale(0.1 -0.1)\">\n       <defs>\n        <path d=\"M 31.78125 66.40625 \nQ 24.171875 66.40625 20.328125 58.90625 \nQ 16.5 51.421875 16.5 36.375 \nQ 16.5 21.390625 20.328125 13.890625 \nQ 24.171875 6.390625 31.78125 6.390625 \nQ 39.453125 6.390625 43.28125 13.890625 \nQ 47.125 21.390625 47.125 36.375 \nQ 47.125 51.421875 43.28125 58.90625 \nQ 39.453125 66.40625 31.78125 66.40625 \nz\nM 31.78125 74.21875 \nQ 44.046875 74.21875 50.515625 64.515625 \nQ 56.984375 54.828125 56.984375 36.375 \nQ 56.984375 17.96875 50.515625 8.265625 \nQ 44.046875 -1.421875 31.78125 -1.421875 \nQ 19.53125 -1.421875 13.0625 8.265625 \nQ 6.59375 17.96875 6.59375 36.375 \nQ 6.59375 54.828125 13.0625 64.515625 \nQ 19.53125 74.21875 31.78125 74.21875 \nz\n\" id=\"DejaVuSans-48\"/>\n       </defs>\n       <use xlink:href=\"#DejaVuSans-48\"/>\n      </g>\n     </g>\n    </g>\n    <g id=\"xtick_2\">\n     <g id=\"line2d_2\">\n      <g>\n       <use style=\"stroke:#000000;stroke-width:0.8;\" x=\"107.587332\" xlink:href=\"#m57dcc7dcaa\" y=\"224.64\"/>\n      </g>\n     </g>\n     <g id=\"text_2\">\n      <!-- 10 -->\n      <g transform=\"translate(101.224832 239.238437)scale(0.1 -0.1)\">\n       <defs>\n        <path d=\"M 12.40625 8.296875 \nL 28.515625 8.296875 \nL 28.515625 63.921875 \nL 10.984375 60.40625 \nL 10.984375 69.390625 \nL 28.421875 72.90625 \nL 38.28125 72.90625 \nL 38.28125 8.296875 \nL 54.390625 8.296875 \nL 54.390625 0 \nL 12.40625 0 \nz\n\" id=\"DejaVuSans-49\"/>\n       </defs>\n       <use xlink:href=\"#DejaVuSans-49\"/>\n       <use x=\"63.623047\" xlink:href=\"#DejaVuSans-48\"/>\n      </g>\n     </g>\n    </g>\n    <g id=\"xtick_3\">\n     <g id=\"line2d_3\">\n      <g>\n       <use style=\"stroke:#000000;stroke-width:0.8;\" x=\"169.70236\" xlink:href=\"#m57dcc7dcaa\" y=\"224.64\"/>\n      </g>\n     </g>\n     <g id=\"text_3\">\n      <!-- 20 -->\n      <g transform=\"translate(163.33986 239.238437)scale(0.1 -0.1)\">\n       <defs>\n        <path d=\"M 19.1875 8.296875 \nL 53.609375 8.296875 \nL 53.609375 0 \nL 7.328125 0 \nL 7.328125 8.296875 \nQ 12.9375 14.109375 22.625 23.890625 \nQ 32.328125 33.6875 34.8125 36.53125 \nQ 39.546875 41.84375 41.421875 45.53125 \nQ 43.3125 49.21875 43.3125 52.78125 \nQ 43.3125 58.59375 39.234375 62.25 \nQ 35.15625 65.921875 28.609375 65.921875 \nQ 23.96875 65.921875 18.8125 64.3125 \nQ 13.671875 62.703125 7.8125 59.421875 \nL 7.8125 69.390625 \nQ 13.765625 71.78125 18.9375 73 \nQ 24.125 74.21875 28.421875 74.21875 \nQ 39.75 74.21875 46.484375 68.546875 \nQ 53.21875 62.890625 53.21875 53.421875 \nQ 53.21875 48.921875 51.53125 44.890625 \nQ 49.859375 40.875 45.40625 35.40625 \nQ 44.1875 33.984375 37.640625 27.21875 \nQ 31.109375 20.453125 19.1875 8.296875 \nz\n\" id=\"DejaVuSans-50\"/>\n       </defs>\n       <use xlink:href=\"#DejaVuSans-50\"/>\n       <use x=\"63.623047\" xlink:href=\"#DejaVuSans-48\"/>\n      </g>\n     </g>\n    </g>\n    <g id=\"xtick_4\">\n     <g id=\"line2d_4\">\n      <g>\n       <use style=\"stroke:#000000;stroke-width:0.8;\" x=\"231.817388\" xlink:href=\"#m57dcc7dcaa\" y=\"224.64\"/>\n      </g>\n     </g>\n     <g id=\"text_4\">\n      <!-- 30 -->\n      <g transform=\"translate(225.454888 239.238437)scale(0.1 -0.1)\">\n       <defs>\n        <path d=\"M 40.578125 39.3125 \nQ 47.65625 37.796875 51.625 33 \nQ 55.609375 28.21875 55.609375 21.1875 \nQ 55.609375 10.40625 48.1875 4.484375 \nQ 40.765625 -1.421875 27.09375 -1.421875 \nQ 22.515625 -1.421875 17.65625 -0.515625 \nQ 12.796875 0.390625 7.625 2.203125 \nL 7.625 11.71875 \nQ 11.71875 9.328125 16.59375 8.109375 \nQ 21.484375 6.890625 26.8125 6.890625 \nQ 36.078125 6.890625 40.9375 10.546875 \nQ 45.796875 14.203125 45.796875 21.1875 \nQ 45.796875 27.640625 41.28125 31.265625 \nQ 36.765625 34.90625 28.71875 34.90625 \nL 20.21875 34.90625 \nL 20.21875 43.015625 \nL 29.109375 43.015625 \nQ 36.375 43.015625 40.234375 45.921875 \nQ 44.09375 48.828125 44.09375 54.296875 \nQ 44.09375 59.90625 40.109375 62.90625 \nQ 36.140625 65.921875 28.71875 65.921875 \nQ 24.65625 65.921875 20.015625 65.03125 \nQ 15.375 64.15625 9.8125 62.3125 \nL 9.8125 71.09375 \nQ 15.4375 72.65625 20.34375 73.4375 \nQ 25.25 74.21875 29.59375 74.21875 \nQ 40.828125 74.21875 47.359375 69.109375 \nQ 53.90625 64.015625 53.90625 55.328125 \nQ 53.90625 49.265625 50.4375 45.09375 \nQ 46.96875 40.921875 40.578125 39.3125 \nz\n\" id=\"DejaVuSans-51\"/>\n       </defs>\n       <use xlink:href=\"#DejaVuSans-51\"/>\n       <use x=\"63.623047\" xlink:href=\"#DejaVuSans-48\"/>\n      </g>\n     </g>\n    </g>\n    <g id=\"xtick_5\">\n     <g id=\"line2d_5\">\n      <g>\n       <use style=\"stroke:#000000;stroke-width:0.8;\" x=\"293.932415\" xlink:href=\"#m57dcc7dcaa\" y=\"224.64\"/>\n      </g>\n     </g>\n     <g id=\"text_5\">\n      <!-- 40 -->\n      <g transform=\"translate(287.569915 239.238437)scale(0.1 -0.1)\">\n       <defs>\n        <path d=\"M 37.796875 64.3125 \nL 12.890625 25.390625 \nL 37.796875 25.390625 \nz\nM 35.203125 72.90625 \nL 47.609375 72.90625 \nL 47.609375 25.390625 \nL 58.015625 25.390625 \nL 58.015625 17.1875 \nL 47.609375 17.1875 \nL 47.609375 0 \nL 37.796875 0 \nL 37.796875 17.1875 \nL 4.890625 17.1875 \nL 4.890625 26.703125 \nz\n\" id=\"DejaVuSans-52\"/>\n       </defs>\n       <use xlink:href=\"#DejaVuSans-52\"/>\n       <use x=\"63.623047\" xlink:href=\"#DejaVuSans-48\"/>\n      </g>\n     </g>\n    </g>\n    <g id=\"xtick_6\">\n     <g id=\"line2d_6\">\n      <g>\n       <use style=\"stroke:#000000;stroke-width:0.8;\" x=\"356.047443\" xlink:href=\"#m57dcc7dcaa\" y=\"224.64\"/>\n      </g>\n     </g>\n     <g id=\"text_6\">\n      <!-- 50 -->\n      <g transform=\"translate(349.684943 239.238437)scale(0.1 -0.1)\">\n       <defs>\n        <path d=\"M 10.796875 72.90625 \nL 49.515625 72.90625 \nL 49.515625 64.59375 \nL 19.828125 64.59375 \nL 19.828125 46.734375 \nQ 21.96875 47.46875 24.109375 47.828125 \nQ 26.265625 48.1875 28.421875 48.1875 \nQ 40.625 48.1875 47.75 41.5 \nQ 54.890625 34.8125 54.890625 23.390625 \nQ 54.890625 11.625 47.5625 5.09375 \nQ 40.234375 -1.421875 26.90625 -1.421875 \nQ 22.3125 -1.421875 17.546875 -0.640625 \nQ 12.796875 0.140625 7.71875 1.703125 \nL 7.71875 11.625 \nQ 12.109375 9.234375 16.796875 8.0625 \nQ 21.484375 6.890625 26.703125 6.890625 \nQ 35.15625 6.890625 40.078125 11.328125 \nQ 45.015625 15.765625 45.015625 23.390625 \nQ 45.015625 31 40.078125 35.4375 \nQ 35.15625 39.890625 26.703125 39.890625 \nQ 22.75 39.890625 18.8125 39.015625 \nQ 14.890625 38.140625 10.796875 36.28125 \nz\n\" id=\"DejaVuSans-53\"/>\n       </defs>\n       <use xlink:href=\"#DejaVuSans-53\"/>\n       <use x=\"63.623047\" xlink:href=\"#DejaVuSans-48\"/>\n      </g>\n     </g>\n    </g>\n   </g>\n   <g id=\"matplotlib.axis_2\">\n    <g id=\"ytick_1\">\n     <g id=\"line2d_7\">\n      <defs>\n       <path d=\"M 0 0 \nL -3.5 0 \n\" id=\"m106a133379\" style=\"stroke:#000000;stroke-width:0.8;\"/>\n      </defs>\n      <g>\n       <use style=\"stroke:#000000;stroke-width:0.8;\" x=\"36.465625\" xlink:href=\"#m106a133379\" y=\"194.515784\"/>\n      </g>\n     </g>\n     <g id=\"text_7\">\n      <!-- 0.12 -->\n      <g transform=\"translate(7.2 198.315002)scale(0.1 -0.1)\">\n       <defs>\n        <path d=\"M 10.6875 12.40625 \nL 21 12.40625 \nL 21 0 \nL 10.6875 0 \nz\n\" id=\"DejaVuSans-46\"/>\n       </defs>\n       <use xlink:href=\"#DejaVuSans-48\"/>\n       <use x=\"63.623047\" xlink:href=\"#DejaVuSans-46\"/>\n       <use x=\"95.410156\" xlink:href=\"#DejaVuSans-49\"/>\n       <use x=\"159.033203\" xlink:href=\"#DejaVuSans-50\"/>\n      </g>\n     </g>\n    </g>\n    <g id=\"ytick_2\">\n     <g id=\"line2d_8\">\n      <g>\n       <use style=\"stroke:#000000;stroke-width:0.8;\" x=\"36.465625\" xlink:href=\"#m106a133379\" y=\"164.005905\"/>\n      </g>\n     </g>\n     <g id=\"text_8\">\n      <!-- 0.14 -->\n      <g transform=\"translate(7.2 167.805124)scale(0.1 -0.1)\">\n       <use xlink:href=\"#DejaVuSans-48\"/>\n       <use x=\"63.623047\" xlink:href=\"#DejaVuSans-46\"/>\n       <use x=\"95.410156\" xlink:href=\"#DejaVuSans-49\"/>\n       <use x=\"159.033203\" xlink:href=\"#DejaVuSans-52\"/>\n      </g>\n     </g>\n    </g>\n    <g id=\"ytick_3\">\n     <g id=\"line2d_9\">\n      <g>\n       <use style=\"stroke:#000000;stroke-width:0.8;\" x=\"36.465625\" xlink:href=\"#m106a133379\" y=\"133.496026\"/>\n      </g>\n     </g>\n     <g id=\"text_9\">\n      <!-- 0.16 -->\n      <g transform=\"translate(7.2 137.295245)scale(0.1 -0.1)\">\n       <defs>\n        <path d=\"M 33.015625 40.375 \nQ 26.375 40.375 22.484375 35.828125 \nQ 18.609375 31.296875 18.609375 23.390625 \nQ 18.609375 15.53125 22.484375 10.953125 \nQ 26.375 6.390625 33.015625 6.390625 \nQ 39.65625 6.390625 43.53125 10.953125 \nQ 47.40625 15.53125 47.40625 23.390625 \nQ 47.40625 31.296875 43.53125 35.828125 \nQ 39.65625 40.375 33.015625 40.375 \nz\nM 52.59375 71.296875 \nL 52.59375 62.3125 \nQ 48.875 64.0625 45.09375 64.984375 \nQ 41.3125 65.921875 37.59375 65.921875 \nQ 27.828125 65.921875 22.671875 59.328125 \nQ 17.53125 52.734375 16.796875 39.40625 \nQ 19.671875 43.65625 24.015625 45.921875 \nQ 28.375 48.1875 33.59375 48.1875 \nQ 44.578125 48.1875 50.953125 41.515625 \nQ 57.328125 34.859375 57.328125 23.390625 \nQ 57.328125 12.15625 50.6875 5.359375 \nQ 44.046875 -1.421875 33.015625 -1.421875 \nQ 20.359375 -1.421875 13.671875 8.265625 \nQ 6.984375 17.96875 6.984375 36.375 \nQ 6.984375 53.65625 15.1875 63.9375 \nQ 23.390625 74.21875 37.203125 74.21875 \nQ 40.921875 74.21875 44.703125 73.484375 \nQ 48.484375 72.75 52.59375 71.296875 \nz\n\" id=\"DejaVuSans-54\"/>\n       </defs>\n       <use xlink:href=\"#DejaVuSans-48\"/>\n       <use x=\"63.623047\" xlink:href=\"#DejaVuSans-46\"/>\n       <use x=\"95.410156\" xlink:href=\"#DejaVuSans-49\"/>\n       <use x=\"159.033203\" xlink:href=\"#DejaVuSans-54\"/>\n      </g>\n     </g>\n    </g>\n    <g id=\"ytick_4\">\n     <g id=\"line2d_10\">\n      <g>\n       <use style=\"stroke:#000000;stroke-width:0.8;\" x=\"36.465625\" xlink:href=\"#m106a133379\" y=\"102.986148\"/>\n      </g>\n     </g>\n     <g id=\"text_10\">\n      <!-- 0.18 -->\n      <g transform=\"translate(7.2 106.785367)scale(0.1 -0.1)\">\n       <defs>\n        <path d=\"M 31.78125 34.625 \nQ 24.75 34.625 20.71875 30.859375 \nQ 16.703125 27.09375 16.703125 20.515625 \nQ 16.703125 13.921875 20.71875 10.15625 \nQ 24.75 6.390625 31.78125 6.390625 \nQ 38.8125 6.390625 42.859375 10.171875 \nQ 46.921875 13.96875 46.921875 20.515625 \nQ 46.921875 27.09375 42.890625 30.859375 \nQ 38.875 34.625 31.78125 34.625 \nz\nM 21.921875 38.8125 \nQ 15.578125 40.375 12.03125 44.71875 \nQ 8.5 49.078125 8.5 55.328125 \nQ 8.5 64.0625 14.71875 69.140625 \nQ 20.953125 74.21875 31.78125 74.21875 \nQ 42.671875 74.21875 48.875 69.140625 \nQ 55.078125 64.0625 55.078125 55.328125 \nQ 55.078125 49.078125 51.53125 44.71875 \nQ 48 40.375 41.703125 38.8125 \nQ 48.828125 37.15625 52.796875 32.3125 \nQ 56.78125 27.484375 56.78125 20.515625 \nQ 56.78125 9.90625 50.3125 4.234375 \nQ 43.84375 -1.421875 31.78125 -1.421875 \nQ 19.734375 -1.421875 13.25 4.234375 \nQ 6.78125 9.90625 6.78125 20.515625 \nQ 6.78125 27.484375 10.78125 32.3125 \nQ 14.796875 37.15625 21.921875 38.8125 \nz\nM 18.3125 54.390625 \nQ 18.3125 48.734375 21.84375 45.5625 \nQ 25.390625 42.390625 31.78125 42.390625 \nQ 38.140625 42.390625 41.71875 45.5625 \nQ 45.3125 48.734375 45.3125 54.390625 \nQ 45.3125 60.0625 41.71875 63.234375 \nQ 38.140625 66.40625 31.78125 66.40625 \nQ 25.390625 66.40625 21.84375 63.234375 \nQ 18.3125 60.0625 18.3125 54.390625 \nz\n\" id=\"DejaVuSans-56\"/>\n       </defs>\n       <use xlink:href=\"#DejaVuSans-48\"/>\n       <use x=\"63.623047\" xlink:href=\"#DejaVuSans-46\"/>\n       <use x=\"95.410156\" xlink:href=\"#DejaVuSans-49\"/>\n       <use x=\"159.033203\" xlink:href=\"#DejaVuSans-56\"/>\n      </g>\n     </g>\n    </g>\n    <g id=\"ytick_5\">\n     <g id=\"line2d_11\">\n      <g>\n       <use style=\"stroke:#000000;stroke-width:0.8;\" x=\"36.465625\" xlink:href=\"#m106a133379\" y=\"72.476269\"/>\n      </g>\n     </g>\n     <g id=\"text_11\">\n      <!-- 0.20 -->\n      <g transform=\"translate(7.2 76.275488)scale(0.1 -0.1)\">\n       <use xlink:href=\"#DejaVuSans-48\"/>\n       <use x=\"63.623047\" xlink:href=\"#DejaVuSans-46\"/>\n       <use x=\"95.410156\" xlink:href=\"#DejaVuSans-50\"/>\n       <use x=\"159.033203\" xlink:href=\"#DejaVuSans-48\"/>\n      </g>\n     </g>\n    </g>\n    <g id=\"ytick_6\">\n     <g id=\"line2d_12\">\n      <g>\n       <use style=\"stroke:#000000;stroke-width:0.8;\" x=\"36.465625\" xlink:href=\"#m106a133379\" y=\"41.966391\"/>\n      </g>\n     </g>\n     <g id=\"text_12\">\n      <!-- 0.22 -->\n      <g transform=\"translate(7.2 45.765609)scale(0.1 -0.1)\">\n       <use xlink:href=\"#DejaVuSans-48\"/>\n       <use x=\"63.623047\" xlink:href=\"#DejaVuSans-46\"/>\n       <use x=\"95.410156\" xlink:href=\"#DejaVuSans-50\"/>\n       <use x=\"159.033203\" xlink:href=\"#DejaVuSans-50\"/>\n      </g>\n     </g>\n    </g>\n    <g id=\"ytick_7\">\n     <g id=\"line2d_13\">\n      <g>\n       <use style=\"stroke:#000000;stroke-width:0.8;\" x=\"36.465625\" xlink:href=\"#m106a133379\" y=\"11.456512\"/>\n      </g>\n     </g>\n     <g id=\"text_13\">\n      <!-- 0.24 -->\n      <g transform=\"translate(7.2 15.255731)scale(0.1 -0.1)\">\n       <use xlink:href=\"#DejaVuSans-48\"/>\n       <use x=\"63.623047\" xlink:href=\"#DejaVuSans-46\"/>\n       <use x=\"95.410156\" xlink:href=\"#DejaVuSans-50\"/>\n       <use x=\"159.033203\" xlink:href=\"#DejaVuSans-52\"/>\n      </g>\n     </g>\n    </g>\n   </g>\n   <g id=\"line2d_14\">\n    <path clip-path=\"url(#pb83ab55a14)\" d=\"M 51.683807 17.083636 \nL 57.89531 36.07892 \nL 64.106812 53.200839 \nL 70.318315 68.588575 \nL 76.529818 82.390913 \nL 82.741321 94.757913 \nL 88.952824 105.835042 \nL 95.164326 115.759398 \nL 101.375829 124.657555 \nL 107.587332 132.644607 \nL 113.798835 139.824039 \nL 120.010337 146.28813 \nL 126.22184 152.118676 \nL 132.433343 157.387871 \nL 138.644846 162.159258 \nL 144.856349 166.488664 \nL 151.067851 170.425091 \nL 157.279354 174.011544 \nL 163.490857 177.285774 \nL 169.70236 180.280942 \nL 175.913862 183.026208 \nL 182.125365 185.547245 \nL 188.336868 187.866693 \nL 194.548371 190.004545 \nL 200.759874 191.978489 \nL 206.971376 193.804201 \nL 213.182879 195.4956 \nL 219.394382 197.065067 \nL 225.605885 198.523639 \nL 231.817388 199.881169 \nL 238.02889 201.146473 \nL 244.240393 202.327452 \nL 250.451896 203.431201 \nL 256.663399 204.464102 \nL 262.874901 205.431907 \nL 269.086404 206.33981 \nL 275.297907 207.192505 \nL 281.50941 207.994248 \nL 287.720913 208.748897 \nL 293.932415 209.459962 \nL 300.143918 210.130634 \nL 306.355421 210.763825 \nL 312.566924 211.362193 \nL 318.778426 211.928167 \nL 324.989929 212.463973 \nL 331.201432 212.971651 \nL 337.412935 213.453074 \nL 343.624438 213.909965 \nL 349.83594 214.343907 \nL 356.047443 214.756364 \n\" style=\"fill:none;stroke:#1f77b4;stroke-linecap:square;stroke-width:1.5;\"/>\n   </g>\n   <g id=\"patch_3\">\n    <path d=\"M 36.465625 224.64 \nL 36.465625 7.2 \n\" style=\"fill:none;stroke:#000000;stroke-linecap:square;stroke-linejoin:miter;stroke-width:0.8;\"/>\n   </g>\n   <g id=\"patch_4\">\n    <path d=\"M 371.265625 224.64 \nL 371.265625 7.2 \n\" style=\"fill:none;stroke:#000000;stroke-linecap:square;stroke-linejoin:miter;stroke-width:0.8;\"/>\n   </g>\n   <g id=\"patch_5\">\n    <path d=\"M 36.465625 224.64 \nL 371.265625 224.64 \n\" style=\"fill:none;stroke:#000000;stroke-linecap:square;stroke-linejoin:miter;stroke-width:0.8;\"/>\n   </g>\n   <g id=\"patch_6\">\n    <path d=\"M 36.465625 7.2 \nL 371.265625 7.2 \n\" style=\"fill:none;stroke:#000000;stroke-linecap:square;stroke-linejoin:miter;stroke-width:0.8;\"/>\n   </g>\n  </g>\n </g>\n <defs>\n  <clipPath id=\"pb83ab55a14\">\n   <rect height=\"217.44\" width=\"334.8\" x=\"36.465625\" y=\"7.2\"/>\n  </clipPath>\n </defs>\n</svg>\n",
      "image/png": "[encoded data removed]"
     },
     "metadata": {
      "needs_background": "light"
     }
    }
   ],
   "source": [
    "cost_x = np.linspace(1,iterations,iterations)\n",
    "fig = plt.figure(figsize = (6,4))\n",
    "sns.lineplot(cost_x,cost)\n"
   ]
  },
  {
   "cell_type": "code",
   "execution_count": 255,
   "metadata": {},
   "outputs": [
    {
     "output_type": "execute_result",
     "data": {
      "text/plain": [
       "<AxesSubplot:ylabel='Count'>"
      ]
     },
     "metadata": {},
     "execution_count": 255
    },
    {
     "output_type": "display_data",
     "data": {
      "text/plain": "<Figure size 432x288 with 1 Axes>",
      "image/svg+xml": "<?xml version=\"1.0\" encoding=\"utf-8\" standalone=\"no\"?>\n<!DOCTYPE svg PUBLIC \"-//W3C//DTD SVG 1.1//EN\"\n  \"http://www.w3.org/Graphics/SVG/1.1/DTD/svg11.dtd\">\n<!-- Created with matplotlib (https://matplotlib.org/) -->\n<svg height=\"261.19625pt\" version=\"1.1\" viewBox=\"0 0 395.328125 261.19625\" width=\"395.328125pt\" xmlns=\"http://www.w3.org/2000/svg\" xmlns:xlink=\"http://www.w3.org/1999/xlink\">\n <metadata>\n  <rdf:RDF xmlns:cc=\"http://creativecommons.org/ns#\" xmlns:dc=\"http://purl.org/dc/elements/1.1/\" xmlns:rdf=\"http://www.w3.org/1999/02/22-rdf-syntax-ns#\">\n   <cc:Work>\n    <dc:type rdf:resource=\"http://purl.org/dc/dcmitype/StillImage\"/>\n    <dc:date>2021-05-05T15:30:43.951031</dc:date>\n    <dc:format>image/svg+xml</dc:format>\n    <dc:creator>\n     <cc:Agent>\n      <dc:title>Matplotlib v3.3.2, https://matplotlib.org/</dc:title>\n     </cc:Agent>\n    </dc:creator>\n   </cc:Work>\n  </rdf:RDF>\n </metadata>\n <defs>\n  <style type=\"text/css\">*{stroke-linecap:butt;stroke-linejoin:round;}</style>\n </defs>\n <g id=\"figure_1\">\n  <g id=\"patch_1\">\n   <path d=\"M 0 261.19625 \nL 395.328125 261.19625 \nL 395.328125 0 \nL 0 0 \nz\n\" style=\"fill:none;\"/>\n  </g>\n  <g id=\"axes_1\">\n   <g id=\"patch_2\">\n    <path d=\"M 53.328125 224.64 \nL 388.128125 224.64 \nL 388.128125 7.2 \nL 53.328125 7.2 \nz\n\" style=\"fill:#ffffff;\"/>\n   </g>\n   <g id=\"patch_3\">\n    <path clip-path=\"url(#p1022eae011)\" d=\"M 68.546265 224.64 \nL 70.616743 224.64 \nL 70.616743 224.514035 \nL 68.546265 224.514035 \nz\n\" style=\"fill:#1f77b4;fill-opacity:0.75;stroke:#000000;stroke-linejoin:miter;stroke-width:0.20705;\"/>\n   </g>\n   <g id=\"patch_4\">\n    <path clip-path=\"url(#p1022eae011)\" d=\"M 70.61676 224.64 \nL 72.687284 224.64 \nL 72.687284 224.64 \nL 70.61676 224.64 \nz\n\" style=\"fill:#1f77b4;fill-opacity:0.75;stroke:#000000;stroke-linejoin:miter;stroke-width:0.20705;\"/>\n   </g>\n   <g id=\"patch_5\">\n    <path clip-path=\"url(#p1022eae011)\" d=\"M 72.687256 224.64 \nL 74.757734 224.64 \nL 74.757734 224.64 \nL 72.687256 224.64 \nz\n\" style=\"fill:#1f77b4;fill-opacity:0.75;stroke:#000000;stroke-linejoin:miter;stroke-width:0.20705;\"/>\n   </g>\n   <g id=\"patch_6\">\n    <path clip-path=\"url(#p1022eae011)\" d=\"M 74.757751 224.64 \nL 76.828276 224.64 \nL 76.828276 224.64 \nL 74.757751 224.64 \nz\n\" style=\"fill:#1f77b4;fill-opacity:0.75;stroke:#000000;stroke-linejoin:miter;stroke-width:0.20705;\"/>\n   </g>\n   <g id=\"patch_7\">\n    <path clip-path=\"url(#p1022eae011)\" d=\"M 76.828247 224.64 \nL 78.898725 224.64 \nL 78.898725 224.64 \nL 76.828247 224.64 \nz\n\" style=\"fill:#1f77b4;fill-opacity:0.75;stroke:#000000;stroke-linejoin:miter;stroke-width:0.20705;\"/>\n   </g>\n   <g id=\"patch_8\">\n    <path clip-path=\"url(#p1022eae011)\" d=\"M 78.898743 224.64 \nL 80.969267 224.64 \nL 80.969267 224.64 \nL 78.898743 224.64 \nz\n\" style=\"fill:#1f77b4;fill-opacity:0.75;stroke:#000000;stroke-linejoin:miter;stroke-width:0.20705;\"/>\n   </g>\n   <g id=\"patch_9\">\n    <path clip-path=\"url(#p1022eae011)\" d=\"M 80.969299 224.64 \nL 83.039777 224.64 \nL 83.039777 224.64 \nL 80.969299 224.64 \nz\n\" style=\"fill:#1f77b4;fill-opacity:0.75;stroke:#000000;stroke-linejoin:miter;stroke-width:0.20705;\"/>\n   </g>\n   <g id=\"patch_10\">\n    <path clip-path=\"url(#p1022eae011)\" d=\"M 83.039734 224.64 \nL 85.110258 224.64 \nL 85.110258 224.64 \nL 83.039734 224.64 \nz\n\" style=\"fill:#1f77b4;fill-opacity:0.75;stroke:#000000;stroke-linejoin:miter;stroke-width:0.20705;\"/>\n   </g>\n   <g id=\"patch_11\">\n    <path clip-path=\"url(#p1022eae011)\" d=\"M 85.110291 224.64 \nL 87.180769 224.64 \nL 87.180769 224.64 \nL 85.110291 224.64 \nz\n\" style=\"fill:#1f77b4;fill-opacity:0.75;stroke:#000000;stroke-linejoin:miter;stroke-width:0.20705;\"/>\n   </g>\n   <g id=\"patch_12\">\n    <path clip-path=\"url(#p1022eae011)\" d=\"M 87.180786 224.64 \nL 89.25131 224.64 \nL 89.25131 224.64 \nL 87.180786 224.64 \nz\n\" style=\"fill:#1f77b4;fill-opacity:0.75;stroke:#000000;stroke-linejoin:miter;stroke-width:0.20705;\"/>\n   </g>\n   <g id=\"patch_13\">\n    <path clip-path=\"url(#p1022eae011)\" d=\"M 89.251282 224.64 \nL 91.32176 224.64 \nL 91.32176 224.64 \nL 89.251282 224.64 \nz\n\" style=\"fill:#1f77b4;fill-opacity:0.75;stroke:#000000;stroke-linejoin:miter;stroke-width:0.20705;\"/>\n   </g>\n   <g id=\"patch_14\">\n    <path clip-path=\"url(#p1022eae011)\" d=\"M 91.321777 224.64 \nL 93.392302 224.64 \nL 93.392302 224.64 \nL 91.321777 224.64 \nz\n\" style=\"fill:#1f77b4;fill-opacity:0.75;stroke:#000000;stroke-linejoin:miter;stroke-width:0.20705;\"/>\n   </g>\n   <g id=\"patch_15\">\n    <path clip-path=\"url(#p1022eae011)\" d=\"M 93.392273 224.64 \nL 95.462751 224.64 \nL 95.462751 224.64 \nL 93.392273 224.64 \nz\n\" style=\"fill:#1f77b4;fill-opacity:0.75;stroke:#000000;stroke-linejoin:miter;stroke-width:0.20705;\"/>\n   </g>\n   <g id=\"patch_16\">\n    <path clip-path=\"url(#p1022eae011)\" d=\"M 95.462769 224.64 \nL 97.533293 224.64 \nL 97.533293 224.64 \nL 95.462769 224.64 \nz\n\" style=\"fill:#1f77b4;fill-opacity:0.75;stroke:#000000;stroke-linejoin:miter;stroke-width:0.20705;\"/>\n   </g>\n   <g id=\"patch_17\">\n    <path clip-path=\"url(#p1022eae011)\" d=\"M 97.533264 224.64 \nL 99.603742 224.64 \nL 99.603742 224.64 \nL 97.533264 224.64 \nz\n\" style=\"fill:#1f77b4;fill-opacity:0.75;stroke:#000000;stroke-linejoin:miter;stroke-width:0.20705;\"/>\n   </g>\n   <g id=\"patch_18\">\n    <path clip-path=\"url(#p1022eae011)\" d=\"M 99.60376 224.64 \nL 101.674284 224.64 \nL 101.674284 224.64 \nL 99.60376 224.64 \nz\n\" style=\"fill:#1f77b4;fill-opacity:0.75;stroke:#000000;stroke-linejoin:miter;stroke-width:0.20705;\"/>\n   </g>\n   <g id=\"patch_19\">\n    <path clip-path=\"url(#p1022eae011)\" d=\"M 101.674316 224.64 \nL 103.744794 224.64 \nL 103.744794 224.514035 \nL 101.674316 224.514035 \nz\n\" style=\"fill:#1f77b4;fill-opacity:0.75;stroke:#000000;stroke-linejoin:miter;stroke-width:0.20705;\"/>\n   </g>\n   <g id=\"patch_20\">\n    <path clip-path=\"url(#p1022eae011)\" d=\"M 103.744751 224.64 \nL 105.815275 224.64 \nL 105.815275 224.514035 \nL 103.744751 224.514035 \nz\n\" style=\"fill:#1f77b4;fill-opacity:0.75;stroke:#000000;stroke-linejoin:miter;stroke-width:0.20705;\"/>\n   </g>\n   <g id=\"patch_21\">\n    <path clip-path=\"url(#p1022eae011)\" d=\"M 105.815308 224.64 \nL 107.885786 224.64 \nL 107.885786 224.514035 \nL 105.815308 224.514035 \nz\n\" style=\"fill:#1f77b4;fill-opacity:0.75;stroke:#000000;stroke-linejoin:miter;stroke-width:0.20705;\"/>\n   </g>\n   <g id=\"patch_22\">\n    <path clip-path=\"url(#p1022eae011)\" d=\"M 107.885742 224.64 \nL 109.956266 224.64 \nL 109.956266 224.514035 \nL 107.885742 224.514035 \nz\n\" style=\"fill:#1f77b4;fill-opacity:0.75;stroke:#000000;stroke-linejoin:miter;stroke-width:0.20705;\"/>\n   </g>\n   <g id=\"patch_23\">\n    <path clip-path=\"url(#p1022eae011)\" d=\"M 109.956299 224.64 \nL 112.026777 224.64 \nL 112.026777 224.262106 \nL 109.956299 224.262106 \nz\n\" style=\"fill:#1f77b4;fill-opacity:0.75;stroke:#000000;stroke-linejoin:miter;stroke-width:0.20705;\"/>\n   </g>\n   <g id=\"patch_24\">\n    <path clip-path=\"url(#p1022eae011)\" d=\"M 112.026794 224.64 \nL 114.097319 224.64 \nL 114.097319 224.136142 \nL 112.026794 224.136142 \nz\n\" style=\"fill:#1f77b4;fill-opacity:0.75;stroke:#000000;stroke-linejoin:miter;stroke-width:0.20705;\"/>\n   </g>\n   <g id=\"patch_25\">\n    <path clip-path=\"url(#p1022eae011)\" d=\"M 114.09729 224.64 \nL 116.167768 224.64 \nL 116.167768 224.388071 \nL 114.09729 224.388071 \nz\n\" style=\"fill:#1f77b4;fill-opacity:0.75;stroke:#000000;stroke-linejoin:miter;stroke-width:0.20705;\"/>\n   </g>\n   <g id=\"patch_26\">\n    <path clip-path=\"url(#p1022eae011)\" d=\"M 116.167786 224.64 \nL 118.23831 224.64 \nL 118.23831 224.010177 \nL 116.167786 224.010177 \nz\n\" style=\"fill:#1f77b4;fill-opacity:0.75;stroke:#000000;stroke-linejoin:miter;stroke-width:0.20705;\"/>\n   </g>\n   <g id=\"patch_27\">\n    <path clip-path=\"url(#p1022eae011)\" d=\"M 118.238281 224.64 \nL 120.308759 224.64 \nL 120.308759 223.884213 \nL 118.238281 223.884213 \nz\n\" style=\"fill:#1f77b4;fill-opacity:0.75;stroke:#000000;stroke-linejoin:miter;stroke-width:0.20705;\"/>\n   </g>\n   <g id=\"patch_28\">\n    <path clip-path=\"url(#p1022eae011)\" d=\"M 120.308777 224.64 \nL 122.379301 224.64 \nL 122.379301 223.632284 \nL 120.308777 223.632284 \nz\n\" style=\"fill:#1f77b4;fill-opacity:0.75;stroke:#000000;stroke-linejoin:miter;stroke-width:0.20705;\"/>\n   </g>\n   <g id=\"patch_29\">\n    <path clip-path=\"url(#p1022eae011)\" d=\"M 122.379272 224.64 \nL 124.449751 224.64 \nL 124.449751 223.380355 \nL 122.379272 223.380355 \nz\n\" style=\"fill:#1f77b4;fill-opacity:0.75;stroke:#000000;stroke-linejoin:miter;stroke-width:0.20705;\"/>\n   </g>\n   <g id=\"patch_30\">\n    <path clip-path=\"url(#p1022eae011)\" d=\"M 124.449768 224.64 \nL 126.520292 224.64 \nL 126.520292 222.750532 \nL 124.449768 222.750532 \nz\n\" style=\"fill:#1f77b4;fill-opacity:0.75;stroke:#000000;stroke-linejoin:miter;stroke-width:0.20705;\"/>\n   </g>\n   <g id=\"patch_31\">\n    <path clip-path=\"url(#p1022eae011)\" d=\"M 126.520325 224.64 \nL 128.590803 224.64 \nL 128.590803 221.994745 \nL 126.520325 221.994745 \nz\n\" style=\"fill:#1f77b4;fill-opacity:0.75;stroke:#000000;stroke-linejoin:miter;stroke-width:0.20705;\"/>\n   </g>\n   <g id=\"patch_32\">\n    <path clip-path=\"url(#p1022eae011)\" d=\"M 128.590759 224.64 \nL 130.661283 224.64 \nL 130.661283 222.750532 \nL 128.590759 222.750532 \nz\n\" style=\"fill:#1f77b4;fill-opacity:0.75;stroke:#000000;stroke-linejoin:miter;stroke-width:0.20705;\"/>\n   </g>\n   <g id=\"patch_33\">\n    <path clip-path=\"url(#p1022eae011)\" d=\"M 130.661316 224.64 \nL 132.731794 224.64 \nL 132.731794 220.735099 \nL 130.661316 220.735099 \nz\n\" style=\"fill:#1f77b4;fill-opacity:0.75;stroke:#000000;stroke-linejoin:miter;stroke-width:0.20705;\"/>\n   </g>\n   <g id=\"patch_34\">\n    <path clip-path=\"url(#p1022eae011)\" d=\"M 132.731812 224.64 \nL 134.802336 224.64 \nL 134.802336 219.727383 \nL 132.731812 219.727383 \nz\n\" style=\"fill:#1f77b4;fill-opacity:0.75;stroke:#000000;stroke-linejoin:miter;stroke-width:0.20705;\"/>\n   </g>\n   <g id=\"patch_35\">\n    <path clip-path=\"url(#p1022eae011)\" d=\"M 134.802307 224.64 \nL 136.872785 224.64 \nL 136.872785 219.223525 \nL 134.802307 219.223525 \nz\n\" style=\"fill:#1f77b4;fill-opacity:0.75;stroke:#000000;stroke-linejoin:miter;stroke-width:0.20705;\"/>\n   </g>\n   <g id=\"patch_36\">\n    <path clip-path=\"url(#p1022eae011)\" d=\"M 136.872803 224.64 \nL 138.943327 224.64 \nL 138.943327 215.948446 \nL 136.872803 215.948446 \nz\n\" style=\"fill:#1f77b4;fill-opacity:0.75;stroke:#000000;stroke-linejoin:miter;stroke-width:0.20705;\"/>\n   </g>\n   <g id=\"patch_37\">\n    <path clip-path=\"url(#p1022eae011)\" d=\"M 138.943298 224.64 \nL 141.013776 224.64 \nL 141.013776 214.562836 \nL 138.943298 214.562836 \nz\n\" style=\"fill:#1f77b4;fill-opacity:0.75;stroke:#000000;stroke-linejoin:miter;stroke-width:0.20705;\"/>\n   </g>\n   <g id=\"patch_38\">\n    <path clip-path=\"url(#p1022eae011)\" d=\"M 141.013794 224.64 \nL 143.084318 224.64 \nL 143.084318 210.280042 \nL 141.013794 210.280042 \nz\n\" style=\"fill:#1f77b4;fill-opacity:0.75;stroke:#000000;stroke-linejoin:miter;stroke-width:0.20705;\"/>\n   </g>\n   <g id=\"patch_39\">\n    <path clip-path=\"url(#p1022eae011)\" d=\"M 143.08429 224.64 \nL 145.154768 224.64 \nL 145.154768 209.902148 \nL 143.08429 209.902148 \nz\n\" style=\"fill:#1f77b4;fill-opacity:0.75;stroke:#000000;stroke-linejoin:miter;stroke-width:0.20705;\"/>\n   </g>\n   <g id=\"patch_40\">\n    <path clip-path=\"url(#p1022eae011)\" d=\"M 145.154785 224.64 \nL 147.225309 224.64 \nL 147.225309 207.130928 \nL 145.154785 207.130928 \nz\n\" style=\"fill:#1f77b4;fill-opacity:0.75;stroke:#000000;stroke-linejoin:miter;stroke-width:0.20705;\"/>\n   </g>\n   <g id=\"patch_41\">\n    <path clip-path=\"url(#p1022eae011)\" d=\"M 147.225342 224.64 \nL 149.29582 224.64 \nL 149.29582 201.966382 \nL 147.225342 201.966382 \nz\n\" style=\"fill:#1f77b4;fill-opacity:0.75;stroke:#000000;stroke-linejoin:miter;stroke-width:0.20705;\"/>\n   </g>\n   <g id=\"patch_42\">\n    <path clip-path=\"url(#p1022eae011)\" d=\"M 149.295776 224.64 \nL 151.366301 224.64 \nL 151.366301 201.210594 \nL 149.295776 201.210594 \nz\n\" style=\"fill:#1f77b4;fill-opacity:0.75;stroke:#000000;stroke-linejoin:miter;stroke-width:0.20705;\"/>\n   </g>\n   <g id=\"patch_43\">\n    <path clip-path=\"url(#p1022eae011)\" d=\"M 151.366333 224.64 \nL 153.436811 224.64 \nL 153.436811 195.920083 \nL 151.366333 195.920083 \nz\n\" style=\"fill:#1f77b4;fill-opacity:0.75;stroke:#000000;stroke-linejoin:miter;stroke-width:0.20705;\"/>\n   </g>\n   <g id=\"patch_44\">\n    <path clip-path=\"url(#p1022eae011)\" d=\"M 153.436768 224.64 \nL 155.507292 224.64 \nL 155.507292 189.621856 \nL 153.436768 189.621856 \nz\n\" style=\"fill:#1f77b4;fill-opacity:0.75;stroke:#000000;stroke-linejoin:miter;stroke-width:0.20705;\"/>\n   </g>\n   <g id=\"patch_45\">\n    <path clip-path=\"url(#p1022eae011)\" d=\"M 155.507324 224.64 \nL 157.577802 224.64 \nL 157.577802 183.197664 \nL 155.507324 183.197664 \nz\n\" style=\"fill:#1f77b4;fill-opacity:0.75;stroke:#000000;stroke-linejoin:miter;stroke-width:0.20705;\"/>\n   </g>\n   <g id=\"patch_46\">\n    <path clip-path=\"url(#p1022eae011)\" d=\"M 157.57782 224.64 \nL 159.648344 224.64 \nL 159.648344 180.048551 \nL 157.57782 180.048551 \nz\n\" style=\"fill:#1f77b4;fill-opacity:0.75;stroke:#000000;stroke-linejoin:miter;stroke-width:0.20705;\"/>\n   </g>\n   <g id=\"patch_47\">\n    <path clip-path=\"url(#p1022eae011)\" d=\"M 159.648315 224.64 \nL 161.718793 224.64 \nL 161.718793 175.387862 \nL 159.648315 175.387862 \nz\n\" style=\"fill:#1f77b4;fill-opacity:0.75;stroke:#000000;stroke-linejoin:miter;stroke-width:0.20705;\"/>\n   </g>\n   <g id=\"patch_48\">\n    <path clip-path=\"url(#p1022eae011)\" d=\"M 161.718811 224.64 \nL 163.789335 224.64 \nL 163.789335 166.570344 \nL 161.718811 166.570344 \nz\n\" style=\"fill:#1f77b4;fill-opacity:0.75;stroke:#000000;stroke-linejoin:miter;stroke-width:0.20705;\"/>\n   </g>\n   <g id=\"patch_49\">\n    <path clip-path=\"url(#p1022eae011)\" d=\"M 163.789307 224.64 \nL 165.859785 224.64 \nL 165.859785 157.500897 \nL 163.789307 157.500897 \nz\n\" style=\"fill:#1f77b4;fill-opacity:0.75;stroke:#000000;stroke-linejoin:miter;stroke-width:0.20705;\"/>\n   </g>\n   <g id=\"patch_50\">\n    <path clip-path=\"url(#p1022eae011)\" d=\"M 165.859802 224.64 \nL 167.930326 224.64 \nL 167.930326 154.225819 \nL 165.859802 154.225819 \nz\n\" style=\"fill:#1f77b4;fill-opacity:0.75;stroke:#000000;stroke-linejoin:miter;stroke-width:0.20705;\"/>\n   </g>\n   <g id=\"patch_51\">\n    <path clip-path=\"url(#p1022eae011)\" d=\"M 167.930298 224.64 \nL 170.000776 224.64 \nL 170.000776 139.739896 \nL 167.930298 139.739896 \nz\n\" style=\"fill:#1f77b4;fill-opacity:0.75;stroke:#000000;stroke-linejoin:miter;stroke-width:0.20705;\"/>\n   </g>\n   <g id=\"patch_52\">\n    <path clip-path=\"url(#p1022eae011)\" d=\"M 170.000793 224.64 \nL 172.071272 224.64 \nL 172.071272 123.994327 \nL 170.000793 123.994327 \nz\n\" style=\"fill:#1f77b4;fill-opacity:0.75;stroke:#000000;stroke-linejoin:miter;stroke-width:0.20705;\"/>\n   </g>\n   <g id=\"patch_53\">\n    <path clip-path=\"url(#p1022eae011)\" d=\"M 172.071289 224.64 \nL 174.141813 224.64 \nL 174.141813 123.112576 \nL 172.071289 123.112576 \nz\n\" style=\"fill:#1f77b4;fill-opacity:0.75;stroke:#000000;stroke-linejoin:miter;stroke-width:0.20705;\"/>\n   </g>\n   <g id=\"patch_54\">\n    <path clip-path=\"url(#p1022eae011)\" d=\"M 174.141785 224.64 \nL 176.212263 224.64 \nL 176.212263 114.043128 \nL 174.141785 114.043128 \nz\n\" style=\"fill:#1f77b4;fill-opacity:0.75;stroke:#000000;stroke-linejoin:miter;stroke-width:0.20705;\"/>\n   </g>\n   <g id=\"patch_55\">\n    <path clip-path=\"url(#p1022eae011)\" d=\"M 176.21228 224.64 \nL 178.282804 224.64 \nL 178.282804 109.38244 \nL 176.21228 109.38244 \nz\n\" style=\"fill:#1f77b4;fill-opacity:0.75;stroke:#000000;stroke-linejoin:miter;stroke-width:0.20705;\"/>\n   </g>\n   <g id=\"patch_56\">\n    <path clip-path=\"url(#p1022eae011)\" d=\"M 178.282837 224.64 \nL 180.353315 224.64 \nL 180.353315 109.886298 \nL 178.282837 109.886298 \nz\n\" style=\"fill:#1f77b4;fill-opacity:0.75;stroke:#000000;stroke-linejoin:miter;stroke-width:0.20705;\"/>\n   </g>\n   <g id=\"patch_57\">\n    <path clip-path=\"url(#p1022eae011)\" d=\"M 180.353271 224.64 \nL 182.423796 224.64 \nL 182.423796 86.834786 \nL 180.353271 86.834786 \nz\n\" style=\"fill:#1f77b4;fill-opacity:0.75;stroke:#000000;stroke-linejoin:miter;stroke-width:0.20705;\"/>\n   </g>\n   <g id=\"patch_58\">\n    <path clip-path=\"url(#p1022eae011)\" d=\"M 182.423828 224.64 \nL 184.494306 224.64 \nL 184.494306 80.788488 \nL 182.423828 80.788488 \nz\n\" style=\"fill:#1f77b4;fill-opacity:0.75;stroke:#000000;stroke-linejoin:miter;stroke-width:0.20705;\"/>\n   </g>\n   <g id=\"patch_59\">\n    <path clip-path=\"url(#p1022eae011)\" d=\"M 184.494263 224.64 \nL 186.564787 224.64 \nL 186.564787 82.300063 \nL 184.494263 82.300063 \nz\n\" style=\"fill:#1f77b4;fill-opacity:0.75;stroke:#000000;stroke-linejoin:miter;stroke-width:0.20705;\"/>\n   </g>\n   <g id=\"patch_60\">\n    <path clip-path=\"url(#p1022eae011)\" d=\"M 186.564819 224.64 \nL 188.635297 224.64 \nL 188.635297 79.402878 \nL 186.564819 79.402878 \nz\n\" style=\"fill:#1f77b4;fill-opacity:0.75;stroke:#000000;stroke-linejoin:miter;stroke-width:0.20705;\"/>\n   </g>\n   <g id=\"patch_61\">\n    <path clip-path=\"url(#p1022eae011)\" d=\"M 188.635315 224.64 \nL 190.705839 224.64 \nL 190.705839 65.420813 \nL 188.635315 65.420813 \nz\n\" style=\"fill:#1f77b4;fill-opacity:0.75;stroke:#000000;stroke-linejoin:miter;stroke-width:0.20705;\"/>\n   </g>\n   <g id=\"patch_62\">\n    <path clip-path=\"url(#p1022eae011)\" d=\"M 190.705811 224.64 \nL 192.776289 224.64 \nL 192.776289 52.698394 \nL 190.705811 52.698394 \nz\n\" style=\"fill:#1f77b4;fill-opacity:0.75;stroke:#000000;stroke-linejoin:miter;stroke-width:0.20705;\"/>\n   </g>\n   <g id=\"patch_63\">\n    <path clip-path=\"url(#p1022eae011)\" d=\"M 192.776306 224.64 \nL 194.84683 224.64 \nL 194.84683 52.950323 \nL 192.776306 52.950323 \nz\n\" style=\"fill:#1f77b4;fill-opacity:0.75;stroke:#000000;stroke-linejoin:miter;stroke-width:0.20705;\"/>\n   </g>\n   <g id=\"patch_64\">\n    <path clip-path=\"url(#p1022eae011)\" d=\"M 194.846802 224.64 \nL 196.91728 224.64 \nL 196.91728 39.598081 \nL 194.846802 39.598081 \nz\n\" style=\"fill:#1f77b4;fill-opacity:0.75;stroke:#000000;stroke-linejoin:miter;stroke-width:0.20705;\"/>\n   </g>\n   <g id=\"patch_65\">\n    <path clip-path=\"url(#p1022eae011)\" d=\"M 196.917297 224.64 \nL 198.987822 224.64 \nL 198.987822 29.017059 \nL 196.917297 29.017059 \nz\n\" style=\"fill:#1f77b4;fill-opacity:0.75;stroke:#000000;stroke-linejoin:miter;stroke-width:0.20705;\"/>\n   </g>\n   <g id=\"patch_66\">\n    <path clip-path=\"url(#p1022eae011)\" d=\"M 198.987793 224.64 \nL 201.058271 224.64 \nL 201.058271 27.505485 \nL 198.987793 27.505485 \nz\n\" style=\"fill:#1f77b4;fill-opacity:0.75;stroke:#000000;stroke-linejoin:miter;stroke-width:0.20705;\"/>\n   </g>\n   <g id=\"patch_67\">\n    <path clip-path=\"url(#p1022eae011)\" d=\"M 201.058289 224.64 \nL 203.128813 224.64 \nL 203.128813 30.654599 \nL 201.058289 30.654599 \nz\n\" style=\"fill:#1f77b4;fill-opacity:0.75;stroke:#000000;stroke-linejoin:miter;stroke-width:0.20705;\"/>\n   </g>\n   <g id=\"patch_68\">\n    <path clip-path=\"url(#p1022eae011)\" d=\"M 203.128845 224.64 \nL 205.199323 224.64 \nL 205.199323 28.135308 \nL 203.128845 28.135308 \nz\n\" style=\"fill:#1f77b4;fill-opacity:0.75;stroke:#000000;stroke-linejoin:miter;stroke-width:0.20705;\"/>\n   </g>\n   <g id=\"patch_69\">\n    <path clip-path=\"url(#p1022eae011)\" d=\"M 205.19928 224.64 \nL 207.269804 224.64 \nL 207.269804 20.577435 \nL 205.19928 20.577435 \nz\n\" style=\"fill:#1f77b4;fill-opacity:0.75;stroke:#000000;stroke-linejoin:miter;stroke-width:0.20705;\"/>\n   </g>\n   <g id=\"patch_70\">\n    <path clip-path=\"url(#p1022eae011)\" d=\"M 207.269836 224.64 \nL 209.340314 224.64 \nL 209.340314 21.711116 \nL 207.269836 21.711116 \nz\n\" style=\"fill:#1f77b4;fill-opacity:0.75;stroke:#000000;stroke-linejoin:miter;stroke-width:0.20705;\"/>\n   </g>\n   <g id=\"patch_71\">\n    <path clip-path=\"url(#p1022eae011)\" d=\"M 209.340332 224.64 \nL 211.410856 224.64 \nL 211.410856 18.184108 \nL 209.340332 18.184108 \nz\n\" style=\"fill:#1f77b4;fill-opacity:0.75;stroke:#000000;stroke-linejoin:miter;stroke-width:0.20705;\"/>\n   </g>\n   <g id=\"patch_72\">\n    <path clip-path=\"url(#p1022eae011)\" d=\"M 211.410828 224.64 \nL 213.481306 224.64 \nL 213.481306 17.554286 \nL 211.410828 17.554286 \nz\n\" style=\"fill:#1f77b4;fill-opacity:0.75;stroke:#000000;stroke-linejoin:miter;stroke-width:0.20705;\"/>\n   </g>\n   <g id=\"patch_73\">\n    <path clip-path=\"url(#p1022eae011)\" d=\"M 213.481323 224.64 \nL 215.551847 224.64 \nL 215.551847 21.711116 \nL 213.481323 21.711116 \nz\n\" style=\"fill:#1f77b4;fill-opacity:0.75;stroke:#000000;stroke-linejoin:miter;stroke-width:0.20705;\"/>\n   </g>\n   <g id=\"patch_74\">\n    <path clip-path=\"url(#p1022eae011)\" d=\"M 215.551819 224.64 \nL 217.622297 224.64 \nL 217.622297 17.554286 \nL 215.551819 17.554286 \nz\n\" style=\"fill:#1f77b4;fill-opacity:0.75;stroke:#000000;stroke-linejoin:miter;stroke-width:0.20705;\"/>\n   </g>\n   <g id=\"patch_75\">\n    <path clip-path=\"url(#p1022eae011)\" d=\"M 217.622314 224.64 \nL 219.692839 224.64 \nL 219.692839 29.143024 \nL 217.622314 29.143024 \nz\n\" style=\"fill:#1f77b4;fill-opacity:0.75;stroke:#000000;stroke-linejoin:miter;stroke-width:0.20705;\"/>\n   </g>\n   <g id=\"patch_76\">\n    <path clip-path=\"url(#p1022eae011)\" d=\"M 219.69281 224.64 \nL 221.763288 224.64 \nL 221.763288 35.945109 \nL 219.69281 35.945109 \nz\n\" style=\"fill:#1f77b4;fill-opacity:0.75;stroke:#000000;stroke-linejoin:miter;stroke-width:0.20705;\"/>\n   </g>\n   <g id=\"patch_77\">\n    <path clip-path=\"url(#p1022eae011)\" d=\"M 221.763306 224.64 \nL 223.83383 224.64 \nL 223.83383 33.299854 \nL 221.763306 33.299854 \nz\n\" style=\"fill:#1f77b4;fill-opacity:0.75;stroke:#000000;stroke-linejoin:miter;stroke-width:0.20705;\"/>\n   </g>\n   <g id=\"patch_78\">\n    <path clip-path=\"url(#p1022eae011)\" d=\"M 223.833862 224.64 \nL 225.90434 224.64 \nL 225.90434 35.567216 \nL 223.833862 35.567216 \nz\n\" style=\"fill:#1f77b4;fill-opacity:0.75;stroke:#000000;stroke-linejoin:miter;stroke-width:0.20705;\"/>\n   </g>\n   <g id=\"patch_79\">\n    <path clip-path=\"url(#p1022eae011)\" d=\"M 225.904297 224.64 \nL 227.974821 224.64 \nL 227.974821 43.125089 \nL 225.904297 43.125089 \nz\n\" style=\"fill:#1f77b4;fill-opacity:0.75;stroke:#000000;stroke-linejoin:miter;stroke-width:0.20705;\"/>\n   </g>\n   <g id=\"patch_80\">\n    <path clip-path=\"url(#p1022eae011)\" d=\"M 227.974854 224.64 \nL 230.045332 224.64 \nL 230.045332 50.431032 \nL 227.974854 50.431032 \nz\n\" style=\"fill:#1f77b4;fill-opacity:0.75;stroke:#000000;stroke-linejoin:miter;stroke-width:0.20705;\"/>\n   </g>\n   <g id=\"patch_81\">\n    <path clip-path=\"url(#p1022eae011)\" d=\"M 230.045288 224.64 \nL 232.115812 224.64 \nL 232.115812 58.618728 \nL 230.045288 58.618728 \nz\n\" style=\"fill:#1f77b4;fill-opacity:0.75;stroke:#000000;stroke-linejoin:miter;stroke-width:0.20705;\"/>\n   </g>\n   <g id=\"patch_82\">\n    <path clip-path=\"url(#p1022eae011)\" d=\"M 232.115845 224.64 \nL 234.186323 224.64 \nL 234.186323 70.207466 \nL 232.115845 70.207466 \nz\n\" style=\"fill:#1f77b4;fill-opacity:0.75;stroke:#000000;stroke-linejoin:miter;stroke-width:0.20705;\"/>\n   </g>\n   <g id=\"patch_83\">\n    <path clip-path=\"url(#p1022eae011)\" d=\"M 234.18634 224.64 \nL 236.256865 224.64 \nL 236.256865 83.433743 \nL 234.18634 83.433743 \nz\n\" style=\"fill:#1f77b4;fill-opacity:0.75;stroke:#000000;stroke-linejoin:miter;stroke-width:0.20705;\"/>\n   </g>\n   <g id=\"patch_84\">\n    <path clip-path=\"url(#p1022eae011)\" d=\"M 236.256836 224.64 \nL 238.327314 224.64 \nL 238.327314 87.21268 \nL 236.256836 87.21268 \nz\n\" style=\"fill:#1f77b4;fill-opacity:0.75;stroke:#000000;stroke-linejoin:miter;stroke-width:0.20705;\"/>\n   </g>\n   <g id=\"patch_85\">\n    <path clip-path=\"url(#p1022eae011)\" d=\"M 238.327332 224.64 \nL 240.397856 224.64 \nL 240.397856 96.785985 \nL 238.327332 96.785985 \nz\n\" style=\"fill:#1f77b4;fill-opacity:0.75;stroke:#000000;stroke-linejoin:miter;stroke-width:0.20705;\"/>\n   </g>\n   <g id=\"patch_86\">\n    <path clip-path=\"url(#p1022eae011)\" d=\"M 240.397827 224.64 \nL 242.468305 224.64 \nL 242.468305 103.965965 \nL 240.397827 103.965965 \nz\n\" style=\"fill:#1f77b4;fill-opacity:0.75;stroke:#000000;stroke-linejoin:miter;stroke-width:0.20705;\"/>\n   </g>\n   <g id=\"patch_87\">\n    <path clip-path=\"url(#p1022eae011)\" d=\"M 242.468323 224.64 \nL 244.538847 224.64 \nL 244.538847 114.043128 \nL 242.468323 114.043128 \nz\n\" style=\"fill:#1f77b4;fill-opacity:0.75;stroke:#000000;stroke-linejoin:miter;stroke-width:0.20705;\"/>\n   </g>\n   <g id=\"patch_88\">\n    <path clip-path=\"url(#p1022eae011)\" d=\"M 244.538818 224.64 \nL 246.609296 224.64 \nL 246.609296 122.734682 \nL 244.538818 122.734682 \nz\n\" style=\"fill:#1f77b4;fill-opacity:0.75;stroke:#000000;stroke-linejoin:miter;stroke-width:0.20705;\"/>\n   </g>\n   <g id=\"patch_89\">\n    <path clip-path=\"url(#p1022eae011)\" d=\"M 246.609314 224.64 \nL 248.679838 224.64 \nL 248.679838 132.307987 \nL 246.609314 132.307987 \nz\n\" style=\"fill:#1f77b4;fill-opacity:0.75;stroke:#000000;stroke-linejoin:miter;stroke-width:0.20705;\"/>\n   </g>\n   <g id=\"patch_90\">\n    <path clip-path=\"url(#p1022eae011)\" d=\"M 248.679871 224.64 \nL 250.750349 224.64 \nL 250.750349 136.086924 \nL 248.679871 136.086924 \nz\n\" style=\"fill:#1f77b4;fill-opacity:0.75;stroke:#000000;stroke-linejoin:miter;stroke-width:0.20705;\"/>\n   </g>\n   <g id=\"patch_91\">\n    <path clip-path=\"url(#p1022eae011)\" d=\"M 250.750305 224.64 \nL 252.820829 224.64 \nL 252.820829 145.534265 \nL 250.750305 145.534265 \nz\n\" style=\"fill:#1f77b4;fill-opacity:0.75;stroke:#000000;stroke-linejoin:miter;stroke-width:0.20705;\"/>\n   </g>\n   <g id=\"patch_92\">\n    <path clip-path=\"url(#p1022eae011)\" d=\"M 252.820862 224.64 \nL 254.89134 224.64 \nL 254.89134 151.706528 \nL 252.820862 151.706528 \nz\n\" style=\"fill:#1f77b4;fill-opacity:0.75;stroke:#000000;stroke-linejoin:miter;stroke-width:0.20705;\"/>\n   </g>\n   <g id=\"patch_93\">\n    <path clip-path=\"url(#p1022eae011)\" d=\"M 254.891357 224.64 \nL 256.961882 224.64 \nL 256.961882 159.012471 \nL 254.891357 159.012471 \nz\n\" style=\"fill:#1f77b4;fill-opacity:0.75;stroke:#000000;stroke-linejoin:miter;stroke-width:0.20705;\"/>\n   </g>\n   <g id=\"patch_94\">\n    <path clip-path=\"url(#p1022eae011)\" d=\"M 256.961853 224.64 \nL 259.032331 224.64 \nL 259.032331 160.65001 \nL 256.961853 160.65001 \nz\n\" style=\"fill:#1f77b4;fill-opacity:0.75;stroke:#000000;stroke-linejoin:miter;stroke-width:0.20705;\"/>\n   </g>\n   <g id=\"patch_95\">\n    <path clip-path=\"url(#p1022eae011)\" d=\"M 259.032349 224.64 \nL 261.102873 224.64 \nL 261.102873 166.44438 \nL 259.032349 166.44438 \nz\n\" style=\"fill:#1f77b4;fill-opacity:0.75;stroke:#000000;stroke-linejoin:miter;stroke-width:0.20705;\"/>\n   </g>\n   <g id=\"patch_96\">\n    <path clip-path=\"url(#p1022eae011)\" d=\"M 261.102844 224.64 \nL 263.173322 224.64 \nL 263.173322 177.781189 \nL 261.102844 177.781189 \nz\n\" style=\"fill:#1f77b4;fill-opacity:0.75;stroke:#000000;stroke-linejoin:miter;stroke-width:0.20705;\"/>\n   </g>\n   <g id=\"patch_97\">\n    <path clip-path=\"url(#p1022eae011)\" d=\"M 263.17334 224.64 \nL 265.243864 224.64 \nL 265.243864 178.411011 \nL 263.17334 178.411011 \nz\n\" style=\"fill:#1f77b4;fill-opacity:0.75;stroke:#000000;stroke-linejoin:miter;stroke-width:0.20705;\"/>\n   </g>\n   <g id=\"patch_98\">\n    <path clip-path=\"url(#p1022eae011)\" d=\"M 265.243835 224.64 \nL 267.314314 224.64 \nL 267.314314 188.866069 \nL 265.243835 188.866069 \nz\n\" style=\"fill:#1f77b4;fill-opacity:0.75;stroke:#000000;stroke-linejoin:miter;stroke-width:0.20705;\"/>\n   </g>\n   <g id=\"patch_99\">\n    <path clip-path=\"url(#p1022eae011)\" d=\"M 267.314331 224.64 \nL 269.384855 224.64 \nL 269.384855 186.850636 \nL 267.314331 186.850636 \nz\n\" style=\"fill:#1f77b4;fill-opacity:0.75;stroke:#000000;stroke-linejoin:miter;stroke-width:0.20705;\"/>\n   </g>\n   <g id=\"patch_100\">\n    <path clip-path=\"url(#p1022eae011)\" d=\"M 269.384888 224.64 \nL 271.455366 224.64 \nL 271.455366 192.645005 \nL 269.384888 192.645005 \nz\n\" style=\"fill:#1f77b4;fill-opacity:0.75;stroke:#000000;stroke-linejoin:miter;stroke-width:0.20705;\"/>\n   </g>\n   <g id=\"patch_101\">\n    <path clip-path=\"url(#p1022eae011)\" d=\"M 271.455322 224.64 \nL 273.5258 224.64 \nL 273.5258 196.046048 \nL 271.455322 196.046048 \nz\n\" style=\"fill:#1f77b4;fill-opacity:0.75;stroke:#000000;stroke-linejoin:miter;stroke-width:0.20705;\"/>\n   </g>\n   <g id=\"patch_102\">\n    <path clip-path=\"url(#p1022eae011)\" d=\"M 273.525818 224.64 \nL 275.596342 224.64 \nL 275.596342 200.580772 \nL 273.525818 200.580772 \nz\n\" style=\"fill:#1f77b4;fill-opacity:0.75;stroke:#000000;stroke-linejoin:miter;stroke-width:0.20705;\"/>\n   </g>\n   <g id=\"patch_103\">\n    <path clip-path=\"url(#p1022eae011)\" d=\"M 275.596313 224.64 \nL 277.666792 224.64 \nL 277.666792 202.47024 \nL 275.596313 202.47024 \nz\n\" style=\"fill:#1f77b4;fill-opacity:0.75;stroke:#000000;stroke-linejoin:miter;stroke-width:0.20705;\"/>\n   </g>\n   <g id=\"patch_104\">\n    <path clip-path=\"url(#p1022eae011)\" d=\"M 277.666809 224.64 \nL 279.737333 224.64 \nL 279.737333 205.871283 \nL 277.666809 205.871283 \nz\n\" style=\"fill:#1f77b4;fill-opacity:0.75;stroke:#000000;stroke-linejoin:miter;stroke-width:0.20705;\"/>\n   </g>\n   <g id=\"patch_105\">\n    <path clip-path=\"url(#p1022eae011)\" d=\"M 279.737366 224.64 \nL 281.807844 224.64 \nL 281.807844 206.878999 \nL 279.737366 206.878999 \nz\n\" style=\"fill:#1f77b4;fill-opacity:0.75;stroke:#000000;stroke-linejoin:miter;stroke-width:0.20705;\"/>\n   </g>\n   <g id=\"patch_106\">\n    <path clip-path=\"url(#p1022eae011)\" d=\"M 281.8078 224.64 \nL 283.878325 224.64 \nL 283.878325 211.035829 \nL 281.8078 211.035829 \nz\n\" style=\"fill:#1f77b4;fill-opacity:0.75;stroke:#000000;stroke-linejoin:miter;stroke-width:0.20705;\"/>\n   </g>\n   <g id=\"patch_107\">\n    <path clip-path=\"url(#p1022eae011)\" d=\"M 283.878357 224.64 \nL 285.948835 224.64 \nL 285.948835 211.287758 \nL 283.878357 211.287758 \nz\n\" style=\"fill:#1f77b4;fill-opacity:0.75;stroke:#000000;stroke-linejoin:miter;stroke-width:0.20705;\"/>\n   </g>\n   <g id=\"patch_108\">\n    <path clip-path=\"url(#p1022eae011)\" d=\"M 285.948853 224.64 \nL 288.019377 224.64 \nL 288.019377 214.058978 \nL 285.948853 214.058978 \nz\n\" style=\"fill:#1f77b4;fill-opacity:0.75;stroke:#000000;stroke-linejoin:miter;stroke-width:0.20705;\"/>\n   </g>\n   <g id=\"patch_109\">\n    <path clip-path=\"url(#p1022eae011)\" d=\"M 288.019348 224.64 \nL 290.089826 224.64 \nL 290.089826 212.547404 \nL 288.019348 212.547404 \nz\n\" style=\"fill:#1f77b4;fill-opacity:0.75;stroke:#000000;stroke-linejoin:miter;stroke-width:0.20705;\"/>\n   </g>\n   <g id=\"patch_110\">\n    <path clip-path=\"url(#p1022eae011)\" d=\"M 290.089844 224.64 \nL 292.160368 224.64 \nL 292.160368 215.318624 \nL 290.089844 215.318624 \nz\n\" style=\"fill:#1f77b4;fill-opacity:0.75;stroke:#000000;stroke-linejoin:miter;stroke-width:0.20705;\"/>\n   </g>\n   <g id=\"patch_111\">\n    <path clip-path=\"url(#p1022eae011)\" d=\"M 292.160339 224.64 \nL 294.230817 224.64 \nL 294.230817 216.578269 \nL 292.160339 216.578269 \nz\n\" style=\"fill:#1f77b4;fill-opacity:0.75;stroke:#000000;stroke-linejoin:miter;stroke-width:0.20705;\"/>\n   </g>\n   <g id=\"patch_112\">\n    <path clip-path=\"url(#p1022eae011)\" d=\"M 294.230835 224.64 \nL 296.301359 224.64 \nL 296.301359 216.830198 \nL 294.230835 216.830198 \nz\n\" style=\"fill:#1f77b4;fill-opacity:0.75;stroke:#000000;stroke-linejoin:miter;stroke-width:0.20705;\"/>\n   </g>\n   <g id=\"patch_113\">\n    <path clip-path=\"url(#p1022eae011)\" d=\"M 296.301331 224.64 \nL 298.371809 224.64 \nL 298.371809 217.963879 \nL 296.301331 217.963879 \nz\n\" style=\"fill:#1f77b4;fill-opacity:0.75;stroke:#000000;stroke-linejoin:miter;stroke-width:0.20705;\"/>\n   </g>\n   <g id=\"patch_114\">\n    <path clip-path=\"url(#p1022eae011)\" d=\"M 298.371826 224.64 \nL 300.44235 224.64 \nL 300.44235 219.727383 \nL 298.371826 219.727383 \nz\n\" style=\"fill:#1f77b4;fill-opacity:0.75;stroke:#000000;stroke-linejoin:miter;stroke-width:0.20705;\"/>\n   </g>\n   <g id=\"patch_115\">\n    <path clip-path=\"url(#p1022eae011)\" d=\"M 300.442383 224.64 \nL 302.512861 224.64 \nL 302.512861 220.735099 \nL 300.442383 220.735099 \nz\n\" style=\"fill:#1f77b4;fill-opacity:0.75;stroke:#000000;stroke-linejoin:miter;stroke-width:0.20705;\"/>\n   </g>\n   <g id=\"patch_116\">\n    <path clip-path=\"url(#p1022eae011)\" d=\"M 302.512817 224.64 \nL 304.583342 224.64 \nL 304.583342 221.490886 \nL 302.512817 221.490886 \nz\n\" style=\"fill:#1f77b4;fill-opacity:0.75;stroke:#000000;stroke-linejoin:miter;stroke-width:0.20705;\"/>\n   </g>\n   <g id=\"patch_117\">\n    <path clip-path=\"url(#p1022eae011)\" d=\"M 304.583374 224.64 \nL 306.653852 224.64 \nL 306.653852 221.86878 \nL 304.583374 221.86878 \nz\n\" style=\"fill:#1f77b4;fill-opacity:0.75;stroke:#000000;stroke-linejoin:miter;stroke-width:0.20705;\"/>\n   </g>\n   <g id=\"patch_118\">\n    <path clip-path=\"url(#p1022eae011)\" d=\"M 306.653809 224.64 \nL 308.724333 224.64 \nL 308.724333 221.86878 \nL 306.653809 221.86878 \nz\n\" style=\"fill:#1f77b4;fill-opacity:0.75;stroke:#000000;stroke-linejoin:miter;stroke-width:0.20705;\"/>\n   </g>\n   <g id=\"patch_119\">\n    <path clip-path=\"url(#p1022eae011)\" d=\"M 308.724365 224.64 \nL 310.794843 224.64 \nL 310.794843 222.120709 \nL 308.724365 222.120709 \nz\n\" style=\"fill:#1f77b4;fill-opacity:0.75;stroke:#000000;stroke-linejoin:miter;stroke-width:0.20705;\"/>\n   </g>\n   <g id=\"patch_120\">\n    <path clip-path=\"url(#p1022eae011)\" d=\"M 310.794861 224.64 \nL 312.865385 224.64 \nL 312.865385 222.624567 \nL 310.794861 222.624567 \nz\n\" style=\"fill:#1f77b4;fill-opacity:0.75;stroke:#000000;stroke-linejoin:miter;stroke-width:0.20705;\"/>\n   </g>\n   <g id=\"patch_121\">\n    <path clip-path=\"url(#p1022eae011)\" d=\"M 312.865356 224.64 \nL 314.935835 224.64 \nL 314.935835 222.750532 \nL 312.865356 222.750532 \nz\n\" style=\"fill:#1f77b4;fill-opacity:0.75;stroke:#000000;stroke-linejoin:miter;stroke-width:0.20705;\"/>\n   </g>\n   <g id=\"patch_122\">\n    <path clip-path=\"url(#p1022eae011)\" d=\"M 314.935852 224.64 \nL 317.006376 224.64 \nL 317.006376 223.25439 \nL 314.935852 223.25439 \nz\n\" style=\"fill:#1f77b4;fill-opacity:0.75;stroke:#000000;stroke-linejoin:miter;stroke-width:0.20705;\"/>\n   </g>\n   <g id=\"patch_123\">\n    <path clip-path=\"url(#p1022eae011)\" d=\"M 317.006348 224.64 \nL 319.076826 224.64 \nL 319.076826 223.002461 \nL 317.006348 223.002461 \nz\n\" style=\"fill:#1f77b4;fill-opacity:0.75;stroke:#000000;stroke-linejoin:miter;stroke-width:0.20705;\"/>\n   </g>\n   <g id=\"patch_124\">\n    <path clip-path=\"url(#p1022eae011)\" d=\"M 319.076843 224.64 \nL 321.147367 224.64 \nL 321.147367 223.128425 \nL 319.076843 223.128425 \nz\n\" style=\"fill:#1f77b4;fill-opacity:0.75;stroke:#000000;stroke-linejoin:miter;stroke-width:0.20705;\"/>\n   </g>\n   <g id=\"patch_125\">\n    <path clip-path=\"url(#p1022eae011)\" d=\"M 321.147339 224.64 \nL 323.217817 224.64 \nL 323.217817 223.25439 \nL 321.147339 223.25439 \nz\n\" style=\"fill:#1f77b4;fill-opacity:0.75;stroke:#000000;stroke-linejoin:miter;stroke-width:0.20705;\"/>\n   </g>\n   <g id=\"patch_126\">\n    <path clip-path=\"url(#p1022eae011)\" d=\"M 323.217834 224.64 \nL 325.288359 224.64 \nL 325.288359 224.136142 \nL 323.217834 224.136142 \nz\n\" style=\"fill:#1f77b4;fill-opacity:0.75;stroke:#000000;stroke-linejoin:miter;stroke-width:0.20705;\"/>\n   </g>\n   <g id=\"patch_127\">\n    <path clip-path=\"url(#p1022eae011)\" d=\"M 325.288391 224.64 \nL 327.358869 224.64 \nL 327.358869 224.136142 \nL 325.288391 224.136142 \nz\n\" style=\"fill:#1f77b4;fill-opacity:0.75;stroke:#000000;stroke-linejoin:miter;stroke-width:0.20705;\"/>\n   </g>\n   <g id=\"patch_128\">\n    <path clip-path=\"url(#p1022eae011)\" d=\"M 327.358826 224.64 \nL 329.42935 224.64 \nL 329.42935 224.262106 \nL 327.358826 224.262106 \nz\n\" style=\"fill:#1f77b4;fill-opacity:0.75;stroke:#000000;stroke-linejoin:miter;stroke-width:0.20705;\"/>\n   </g>\n   <g id=\"patch_129\">\n    <path clip-path=\"url(#p1022eae011)\" d=\"M 329.429382 224.64 \nL 331.49986 224.64 \nL 331.49986 224.262106 \nL 329.429382 224.262106 \nz\n\" style=\"fill:#1f77b4;fill-opacity:0.75;stroke:#000000;stroke-linejoin:miter;stroke-width:0.20705;\"/>\n   </g>\n   <g id=\"patch_130\">\n    <path clip-path=\"url(#p1022eae011)\" d=\"M 331.499878 224.64 \nL 333.570402 224.64 \nL 333.570402 224.388071 \nL 331.499878 224.388071 \nz\n\" style=\"fill:#1f77b4;fill-opacity:0.75;stroke:#000000;stroke-linejoin:miter;stroke-width:0.20705;\"/>\n   </g>\n   <g id=\"patch_131\">\n    <path clip-path=\"url(#p1022eae011)\" d=\"M 333.570374 224.64 \nL 335.640852 224.64 \nL 335.640852 224.388071 \nL 333.570374 224.388071 \nz\n\" style=\"fill:#1f77b4;fill-opacity:0.75;stroke:#000000;stroke-linejoin:miter;stroke-width:0.20705;\"/>\n   </g>\n   <g id=\"patch_132\">\n    <path clip-path=\"url(#p1022eae011)\" d=\"M 335.640869 224.64 \nL 337.711393 224.64 \nL 337.711393 223.884213 \nL 335.640869 223.884213 \nz\n\" style=\"fill:#1f77b4;fill-opacity:0.75;stroke:#000000;stroke-linejoin:miter;stroke-width:0.20705;\"/>\n   </g>\n   <g id=\"patch_133\">\n    <path clip-path=\"url(#p1022eae011)\" d=\"M 337.711365 224.64 \nL 339.781843 224.64 \nL 339.781843 224.64 \nL 337.711365 224.64 \nz\n\" style=\"fill:#1f77b4;fill-opacity:0.75;stroke:#000000;stroke-linejoin:miter;stroke-width:0.20705;\"/>\n   </g>\n   <g id=\"patch_134\">\n    <path clip-path=\"url(#p1022eae011)\" d=\"M 339.78186 224.64 \nL 341.852385 224.64 \nL 341.852385 224.262106 \nL 339.78186 224.262106 \nz\n\" style=\"fill:#1f77b4;fill-opacity:0.75;stroke:#000000;stroke-linejoin:miter;stroke-width:0.20705;\"/>\n   </g>\n   <g id=\"patch_135\">\n    <path clip-path=\"url(#p1022eae011)\" d=\"M 341.852356 224.64 \nL 343.922834 224.64 \nL 343.922834 224.514035 \nL 341.852356 224.514035 \nz\n\" style=\"fill:#1f77b4;fill-opacity:0.75;stroke:#000000;stroke-linejoin:miter;stroke-width:0.20705;\"/>\n   </g>\n   <g id=\"patch_136\">\n    <path clip-path=\"url(#p1022eae011)\" d=\"M 343.922852 224.64 \nL 345.993376 224.64 \nL 345.993376 224.388071 \nL 343.922852 224.388071 \nz\n\" style=\"fill:#1f77b4;fill-opacity:0.75;stroke:#000000;stroke-linejoin:miter;stroke-width:0.20705;\"/>\n   </g>\n   <g id=\"patch_137\">\n    <path clip-path=\"url(#p1022eae011)\" d=\"M 345.993408 224.64 \nL 348.063886 224.64 \nL 348.063886 224.514035 \nL 345.993408 224.514035 \nz\n\" style=\"fill:#1f77b4;fill-opacity:0.75;stroke:#000000;stroke-linejoin:miter;stroke-width:0.20705;\"/>\n   </g>\n   <g id=\"patch_138\">\n    <path clip-path=\"url(#p1022eae011)\" d=\"M 348.063843 224.64 \nL 350.134367 224.64 \nL 350.134367 224.64 \nL 348.063843 224.64 \nz\n\" style=\"fill:#1f77b4;fill-opacity:0.75;stroke:#000000;stroke-linejoin:miter;stroke-width:0.20705;\"/>\n   </g>\n   <g id=\"patch_139\">\n    <path clip-path=\"url(#p1022eae011)\" d=\"M 350.134399 224.64 \nL 352.204877 224.64 \nL 352.204877 224.64 \nL 350.134399 224.64 \nz\n\" style=\"fill:#1f77b4;fill-opacity:0.75;stroke:#000000;stroke-linejoin:miter;stroke-width:0.20705;\"/>\n   </g>\n   <g id=\"patch_140\">\n    <path clip-path=\"url(#p1022eae011)\" d=\"M 352.204834 224.64 \nL 354.275358 224.64 \nL 354.275358 224.388071 \nL 352.204834 224.388071 \nz\n\" style=\"fill:#1f77b4;fill-opacity:0.75;stroke:#000000;stroke-linejoin:miter;stroke-width:0.20705;\"/>\n   </g>\n   <g id=\"patch_141\">\n    <path clip-path=\"url(#p1022eae011)\" d=\"M 354.275391 224.64 \nL 356.345869 224.64 \nL 356.345869 224.64 \nL 354.275391 224.64 \nz\n\" style=\"fill:#1f77b4;fill-opacity:0.75;stroke:#000000;stroke-linejoin:miter;stroke-width:0.20705;\"/>\n   </g>\n   <g id=\"patch_142\">\n    <path clip-path=\"url(#p1022eae011)\" d=\"M 356.345886 224.64 \nL 358.41641 224.64 \nL 358.41641 224.514035 \nL 356.345886 224.514035 \nz\n\" style=\"fill:#1f77b4;fill-opacity:0.75;stroke:#000000;stroke-linejoin:miter;stroke-width:0.20705;\"/>\n   </g>\n   <g id=\"patch_143\">\n    <path clip-path=\"url(#p1022eae011)\" d=\"M 358.416382 224.64 \nL 360.48686 224.64 \nL 360.48686 224.64 \nL 358.416382 224.64 \nz\n\" style=\"fill:#1f77b4;fill-opacity:0.75;stroke:#000000;stroke-linejoin:miter;stroke-width:0.20705;\"/>\n   </g>\n   <g id=\"patch_144\">\n    <path clip-path=\"url(#p1022eae011)\" d=\"M 360.486877 224.64 \nL 362.557402 224.64 \nL 362.557402 224.514035 \nL 360.486877 224.514035 \nz\n\" style=\"fill:#1f77b4;fill-opacity:0.75;stroke:#000000;stroke-linejoin:miter;stroke-width:0.20705;\"/>\n   </g>\n   <g id=\"patch_145\">\n    <path clip-path=\"url(#p1022eae011)\" d=\"M 362.557373 224.64 \nL 364.627851 224.64 \nL 364.627851 224.64 \nL 362.557373 224.64 \nz\n\" style=\"fill:#1f77b4;fill-opacity:0.75;stroke:#000000;stroke-linejoin:miter;stroke-width:0.20705;\"/>\n   </g>\n   <g id=\"patch_146\">\n    <path clip-path=\"url(#p1022eae011)\" d=\"M 364.627869 224.64 \nL 366.698393 224.64 \nL 366.698393 224.64 \nL 364.627869 224.64 \nz\n\" style=\"fill:#1f77b4;fill-opacity:0.75;stroke:#000000;stroke-linejoin:miter;stroke-width:0.20705;\"/>\n   </g>\n   <g id=\"patch_147\">\n    <path clip-path=\"url(#p1022eae011)\" d=\"M 366.698364 224.64 \nL 368.768842 224.64 \nL 368.768842 224.64 \nL 366.698364 224.64 \nz\n\" style=\"fill:#1f77b4;fill-opacity:0.75;stroke:#000000;stroke-linejoin:miter;stroke-width:0.20705;\"/>\n   </g>\n   <g id=\"patch_148\">\n    <path clip-path=\"url(#p1022eae011)\" d=\"M 368.76886 224.64 \nL 370.839384 224.64 \nL 370.839384 224.64 \nL 368.76886 224.64 \nz\n\" style=\"fill:#1f77b4;fill-opacity:0.75;stroke:#000000;stroke-linejoin:miter;stroke-width:0.20705;\"/>\n   </g>\n   <g id=\"patch_149\">\n    <path clip-path=\"url(#p1022eae011)\" d=\"M 370.839417 224.64 \nL 372.909895 224.64 \nL 372.909895 224.514035 \nL 370.839417 224.514035 \nz\n\" style=\"fill:#1f77b4;fill-opacity:0.75;stroke:#000000;stroke-linejoin:miter;stroke-width:0.20705;\"/>\n   </g>\n   <g id=\"matplotlib.axis_1\">\n    <g id=\"xtick_1\">\n     <g id=\"line2d_1\">\n      <defs>\n       <path d=\"M 0 0 \nL 0 3.5 \n\" id=\"m0f2cb71ec5\" style=\"stroke:#000000;stroke-width:0.8;\"/>\n      </defs>\n      <g>\n       <use style=\"stroke:#000000;stroke-width:0.8;\" x=\"79.73584\" xlink:href=\"#m0f2cb71ec5\" y=\"224.64\"/>\n      </g>\n     </g>\n     <g id=\"text_1\">\n      <!-- 7.50 -->\n      <g transform=\"translate(68.603027 239.238437)scale(0.1 -0.1)\">\n       <defs>\n        <path d=\"M 8.203125 72.90625 \nL 55.078125 72.90625 \nL 55.078125 68.703125 \nL 28.609375 0 \nL 18.3125 0 \nL 43.21875 64.59375 \nL 8.203125 64.59375 \nz\n\" id=\"DejaVuSans-55\"/>\n        <path d=\"M 10.6875 12.40625 \nL 21 12.40625 \nL 21 0 \nL 10.6875 0 \nz\n\" id=\"DejaVuSans-46\"/>\n        <path d=\"M 10.796875 72.90625 \nL 49.515625 72.90625 \nL 49.515625 64.59375 \nL 19.828125 64.59375 \nL 19.828125 46.734375 \nQ 21.96875 47.46875 24.109375 47.828125 \nQ 26.265625 48.1875 28.421875 48.1875 \nQ 40.625 48.1875 47.75 41.5 \nQ 54.890625 34.8125 54.890625 23.390625 \nQ 54.890625 11.625 47.5625 5.09375 \nQ 40.234375 -1.421875 26.90625 -1.421875 \nQ 22.3125 -1.421875 17.546875 -0.640625 \nQ 12.796875 0.140625 7.71875 1.703125 \nL 7.71875 11.625 \nQ 12.109375 9.234375 16.796875 8.0625 \nQ 21.484375 6.890625 26.703125 6.890625 \nQ 35.15625 6.890625 40.078125 11.328125 \nQ 45.015625 15.765625 45.015625 23.390625 \nQ 45.015625 31 40.078125 35.4375 \nQ 35.15625 39.890625 26.703125 39.890625 \nQ 22.75 39.890625 18.8125 39.015625 \nQ 14.890625 38.140625 10.796875 36.28125 \nz\n\" id=\"DejaVuSans-53\"/>\n        <path d=\"M 31.78125 66.40625 \nQ 24.171875 66.40625 20.328125 58.90625 \nQ 16.5 51.421875 16.5 36.375 \nQ 16.5 21.390625 20.328125 13.890625 \nQ 24.171875 6.390625 31.78125 6.390625 \nQ 39.453125 6.390625 43.28125 13.890625 \nQ 47.125 21.390625 47.125 36.375 \nQ 47.125 51.421875 43.28125 58.90625 \nQ 39.453125 66.40625 31.78125 66.40625 \nz\nM 31.78125 74.21875 \nQ 44.046875 74.21875 50.515625 64.515625 \nQ 56.984375 54.828125 56.984375 36.375 \nQ 56.984375 17.96875 50.515625 8.265625 \nQ 44.046875 -1.421875 31.78125 -1.421875 \nQ 19.53125 -1.421875 13.0625 8.265625 \nQ 6.59375 17.96875 6.59375 36.375 \nQ 6.59375 54.828125 13.0625 64.515625 \nQ 19.53125 74.21875 31.78125 74.21875 \nz\n\" id=\"DejaVuSans-48\"/>\n       </defs>\n       <use xlink:href=\"#DejaVuSans-55\"/>\n       <use x=\"63.623047\" xlink:href=\"#DejaVuSans-46\"/>\n       <use x=\"95.410156\" xlink:href=\"#DejaVuSans-53\"/>\n       <use x=\"159.033203\" xlink:href=\"#DejaVuSans-48\"/>\n      </g>\n     </g>\n    </g>\n    <g id=\"xtick_2\">\n     <g id=\"line2d_2\">\n      <g>\n       <use style=\"stroke:#000000;stroke-width:0.8;\" x=\"121.310608\" xlink:href=\"#m0f2cb71ec5\" y=\"224.64\"/>\n      </g>\n     </g>\n     <g id=\"text_2\">\n      <!-- 7.75 -->\n      <g transform=\"translate(110.177795 239.238437)scale(0.1 -0.1)\">\n       <use xlink:href=\"#DejaVuSans-55\"/>\n       <use x=\"63.623047\" xlink:href=\"#DejaVuSans-46\"/>\n       <use x=\"95.410156\" xlink:href=\"#DejaVuSans-55\"/>\n       <use x=\"159.033203\" xlink:href=\"#DejaVuSans-53\"/>\n      </g>\n     </g>\n    </g>\n    <g id=\"xtick_3\">\n     <g id=\"line2d_3\">\n      <g>\n       <use style=\"stroke:#000000;stroke-width:0.8;\" x=\"162.885437\" xlink:href=\"#m0f2cb71ec5\" y=\"224.64\"/>\n      </g>\n     </g>\n     <g id=\"text_3\">\n      <!-- 8.00 -->\n      <g transform=\"translate(151.752625 239.238437)scale(0.1 -0.1)\">\n       <defs>\n        <path d=\"M 31.78125 34.625 \nQ 24.75 34.625 20.71875 30.859375 \nQ 16.703125 27.09375 16.703125 20.515625 \nQ 16.703125 13.921875 20.71875 10.15625 \nQ 24.75 6.390625 31.78125 6.390625 \nQ 38.8125 6.390625 42.859375 10.171875 \nQ 46.921875 13.96875 46.921875 20.515625 \nQ 46.921875 27.09375 42.890625 30.859375 \nQ 38.875 34.625 31.78125 34.625 \nz\nM 21.921875 38.8125 \nQ 15.578125 40.375 12.03125 44.71875 \nQ 8.5 49.078125 8.5 55.328125 \nQ 8.5 64.0625 14.71875 69.140625 \nQ 20.953125 74.21875 31.78125 74.21875 \nQ 42.671875 74.21875 48.875 69.140625 \nQ 55.078125 64.0625 55.078125 55.328125 \nQ 55.078125 49.078125 51.53125 44.71875 \nQ 48 40.375 41.703125 38.8125 \nQ 48.828125 37.15625 52.796875 32.3125 \nQ 56.78125 27.484375 56.78125 20.515625 \nQ 56.78125 9.90625 50.3125 4.234375 \nQ 43.84375 -1.421875 31.78125 -1.421875 \nQ 19.734375 -1.421875 13.25 4.234375 \nQ 6.78125 9.90625 6.78125 20.515625 \nQ 6.78125 27.484375 10.78125 32.3125 \nQ 14.796875 37.15625 21.921875 38.8125 \nz\nM 18.3125 54.390625 \nQ 18.3125 48.734375 21.84375 45.5625 \nQ 25.390625 42.390625 31.78125 42.390625 \nQ 38.140625 42.390625 41.71875 45.5625 \nQ 45.3125 48.734375 45.3125 54.390625 \nQ 45.3125 60.0625 41.71875 63.234375 \nQ 38.140625 66.40625 31.78125 66.40625 \nQ 25.390625 66.40625 21.84375 63.234375 \nQ 18.3125 60.0625 18.3125 54.390625 \nz\n\" id=\"DejaVuSans-56\"/>\n       </defs>\n       <use xlink:href=\"#DejaVuSans-56\"/>\n       <use x=\"63.623047\" xlink:href=\"#DejaVuSans-46\"/>\n       <use x=\"95.410156\" xlink:href=\"#DejaVuSans-48\"/>\n       <use x=\"159.033203\" xlink:href=\"#DejaVuSans-48\"/>\n      </g>\n     </g>\n    </g>\n    <g id=\"xtick_4\">\n     <g id=\"line2d_4\">\n      <g>\n       <use style=\"stroke:#000000;stroke-width:0.8;\" x=\"204.460205\" xlink:href=\"#m0f2cb71ec5\" y=\"224.64\"/>\n      </g>\n     </g>\n     <g id=\"text_4\">\n      <!-- 8.25 -->\n      <g transform=\"translate(193.327393 239.238437)scale(0.1 -0.1)\">\n       <defs>\n        <path d=\"M 19.1875 8.296875 \nL 53.609375 8.296875 \nL 53.609375 0 \nL 7.328125 0 \nL 7.328125 8.296875 \nQ 12.9375 14.109375 22.625 23.890625 \nQ 32.328125 33.6875 34.8125 36.53125 \nQ 39.546875 41.84375 41.421875 45.53125 \nQ 43.3125 49.21875 43.3125 52.78125 \nQ 43.3125 58.59375 39.234375 62.25 \nQ 35.15625 65.921875 28.609375 65.921875 \nQ 23.96875 65.921875 18.8125 64.3125 \nQ 13.671875 62.703125 7.8125 59.421875 \nL 7.8125 69.390625 \nQ 13.765625 71.78125 18.9375 73 \nQ 24.125 74.21875 28.421875 74.21875 \nQ 39.75 74.21875 46.484375 68.546875 \nQ 53.21875 62.890625 53.21875 53.421875 \nQ 53.21875 48.921875 51.53125 44.890625 \nQ 49.859375 40.875 45.40625 35.40625 \nQ 44.1875 33.984375 37.640625 27.21875 \nQ 31.109375 20.453125 19.1875 8.296875 \nz\n\" id=\"DejaVuSans-50\"/>\n       </defs>\n       <use xlink:href=\"#DejaVuSans-56\"/>\n       <use x=\"63.623047\" xlink:href=\"#DejaVuSans-46\"/>\n       <use x=\"95.410156\" xlink:href=\"#DejaVuSans-50\"/>\n       <use x=\"159.033203\" xlink:href=\"#DejaVuSans-53\"/>\n      </g>\n     </g>\n    </g>\n    <g id=\"xtick_5\">\n     <g id=\"line2d_5\">\n      <g>\n       <use style=\"stroke:#000000;stroke-width:0.8;\" x=\"246.034973\" xlink:href=\"#m0f2cb71ec5\" y=\"224.64\"/>\n      </g>\n     </g>\n     <g id=\"text_5\">\n      <!-- 8.50 -->\n      <g transform=\"translate(234.902161 239.238437)scale(0.1 -0.1)\">\n       <use xlink:href=\"#DejaVuSans-56\"/>\n       <use x=\"63.623047\" xlink:href=\"#DejaVuSans-46\"/>\n       <use x=\"95.410156\" xlink:href=\"#DejaVuSans-53\"/>\n       <use x=\"159.033203\" xlink:href=\"#DejaVuSans-48\"/>\n      </g>\n     </g>\n    </g>\n    <g id=\"xtick_6\">\n     <g id=\"line2d_6\">\n      <g>\n       <use style=\"stroke:#000000;stroke-width:0.8;\" x=\"287.609802\" xlink:href=\"#m0f2cb71ec5\" y=\"224.64\"/>\n      </g>\n     </g>\n     <g id=\"text_6\">\n      <!-- 8.75 -->\n      <g transform=\"translate(276.47699 239.238437)scale(0.1 -0.1)\">\n       <use xlink:href=\"#DejaVuSans-56\"/>\n       <use x=\"63.623047\" xlink:href=\"#DejaVuSans-46\"/>\n       <use x=\"95.410156\" xlink:href=\"#DejaVuSans-55\"/>\n       <use x=\"159.033203\" xlink:href=\"#DejaVuSans-53\"/>\n      </g>\n     </g>\n    </g>\n    <g id=\"xtick_7\">\n     <g id=\"line2d_7\">\n      <g>\n       <use style=\"stroke:#000000;stroke-width:0.8;\" x=\"329.18457\" xlink:href=\"#m0f2cb71ec5\" y=\"224.64\"/>\n      </g>\n     </g>\n     <g id=\"text_7\">\n      <!-- 9.00 -->\n      <g transform=\"translate(318.051758 239.238437)scale(0.1 -0.1)\">\n       <defs>\n        <path d=\"M 10.984375 1.515625 \nL 10.984375 10.5 \nQ 14.703125 8.734375 18.5 7.8125 \nQ 22.3125 6.890625 25.984375 6.890625 \nQ 35.75 6.890625 40.890625 13.453125 \nQ 46.046875 20.015625 46.78125 33.40625 \nQ 43.953125 29.203125 39.59375 26.953125 \nQ 35.25 24.703125 29.984375 24.703125 \nQ 19.046875 24.703125 12.671875 31.3125 \nQ 6.296875 37.9375 6.296875 49.421875 \nQ 6.296875 60.640625 12.9375 67.421875 \nQ 19.578125 74.21875 30.609375 74.21875 \nQ 43.265625 74.21875 49.921875 64.515625 \nQ 56.59375 54.828125 56.59375 36.375 \nQ 56.59375 19.140625 48.40625 8.859375 \nQ 40.234375 -1.421875 26.421875 -1.421875 \nQ 22.703125 -1.421875 18.890625 -0.6875 \nQ 15.09375 0.046875 10.984375 1.515625 \nz\nM 30.609375 32.421875 \nQ 37.25 32.421875 41.125 36.953125 \nQ 45.015625 41.5 45.015625 49.421875 \nQ 45.015625 57.28125 41.125 61.84375 \nQ 37.25 66.40625 30.609375 66.40625 \nQ 23.96875 66.40625 20.09375 61.84375 \nQ 16.21875 57.28125 16.21875 49.421875 \nQ 16.21875 41.5 20.09375 36.953125 \nQ 23.96875 32.421875 30.609375 32.421875 \nz\n\" id=\"DejaVuSans-57\"/>\n       </defs>\n       <use xlink:href=\"#DejaVuSans-57\"/>\n       <use x=\"63.623047\" xlink:href=\"#DejaVuSans-46\"/>\n       <use x=\"95.410156\" xlink:href=\"#DejaVuSans-48\"/>\n       <use x=\"159.033203\" xlink:href=\"#DejaVuSans-48\"/>\n      </g>\n     </g>\n    </g>\n    <g id=\"xtick_8\">\n     <g id=\"line2d_8\">\n      <g>\n       <use style=\"stroke:#000000;stroke-width:0.8;\" x=\"370.759399\" xlink:href=\"#m0f2cb71ec5\" y=\"224.64\"/>\n      </g>\n     </g>\n     <g id=\"text_8\">\n      <!-- 9.25 -->\n      <g transform=\"translate(359.626587 239.238437)scale(0.1 -0.1)\">\n       <use xlink:href=\"#DejaVuSans-57\"/>\n       <use x=\"63.623047\" xlink:href=\"#DejaVuSans-46\"/>\n       <use x=\"95.410156\" xlink:href=\"#DejaVuSans-50\"/>\n       <use x=\"159.033203\" xlink:href=\"#DejaVuSans-53\"/>\n      </g>\n     </g>\n    </g>\n    <g id=\"text_9\">\n     <!-- 1e−10+1.95981181e−1 -->\n     <g transform=\"translate(264.792188 251.916562)scale(0.1 -0.1)\">\n      <defs>\n       <path d=\"M 12.40625 8.296875 \nL 28.515625 8.296875 \nL 28.515625 63.921875 \nL 10.984375 60.40625 \nL 10.984375 69.390625 \nL 28.421875 72.90625 \nL 38.28125 72.90625 \nL 38.28125 8.296875 \nL 54.390625 8.296875 \nL 54.390625 0 \nL 12.40625 0 \nz\n\" id=\"DejaVuSans-49\"/>\n       <path d=\"M 56.203125 29.59375 \nL 56.203125 25.203125 \nL 14.890625 25.203125 \nQ 15.484375 15.921875 20.484375 11.0625 \nQ 25.484375 6.203125 34.421875 6.203125 \nQ 39.59375 6.203125 44.453125 7.46875 \nQ 49.3125 8.734375 54.109375 11.28125 \nL 54.109375 2.78125 \nQ 49.265625 0.734375 44.1875 -0.34375 \nQ 39.109375 -1.421875 33.890625 -1.421875 \nQ 20.796875 -1.421875 13.15625 6.1875 \nQ 5.515625 13.8125 5.515625 26.8125 \nQ 5.515625 40.234375 12.765625 48.109375 \nQ 20.015625 56 32.328125 56 \nQ 43.359375 56 49.78125 48.890625 \nQ 56.203125 41.796875 56.203125 29.59375 \nz\nM 47.21875 32.234375 \nQ 47.125 39.59375 43.09375 43.984375 \nQ 39.0625 48.390625 32.421875 48.390625 \nQ 24.90625 48.390625 20.390625 44.140625 \nQ 15.875 39.890625 15.1875 32.171875 \nz\n\" id=\"DejaVuSans-101\"/>\n       <path d=\"M 10.59375 35.5 \nL 73.1875 35.5 \nL 73.1875 27.203125 \nL 10.59375 27.203125 \nz\n\" id=\"DejaVuSans-8722\"/>\n       <path d=\"M 46 62.703125 \nL 46 35.5 \nL 73.1875 35.5 \nL 73.1875 27.203125 \nL 46 27.203125 \nL 46 0 \nL 37.796875 0 \nL 37.796875 27.203125 \nL 10.59375 27.203125 \nL 10.59375 35.5 \nL 37.796875 35.5 \nL 37.796875 62.703125 \nz\n\" id=\"DejaVuSans-43\"/>\n      </defs>\n      <use xlink:href=\"#DejaVuSans-49\"/>\n      <use x=\"63.623047\" xlink:href=\"#DejaVuSans-101\"/>\n      <use x=\"125.146484\" xlink:href=\"#DejaVuSans-8722\"/>\n      <use x=\"208.935547\" xlink:href=\"#DejaVuSans-49\"/>\n      <use x=\"272.558594\" xlink:href=\"#DejaVuSans-48\"/>\n      <use x=\"336.181641\" xlink:href=\"#DejaVuSans-43\"/>\n      <use x=\"419.970703\" xlink:href=\"#DejaVuSans-49\"/>\n      <use x=\"483.59375\" xlink:href=\"#DejaVuSans-46\"/>\n      <use x=\"515.380859\" xlink:href=\"#DejaVuSans-57\"/>\n      <use x=\"579.003906\" xlink:href=\"#DejaVuSans-53\"/>\n      <use x=\"642.626953\" xlink:href=\"#DejaVuSans-57\"/>\n      <use x=\"706.25\" xlink:href=\"#DejaVuSans-56\"/>\n      <use x=\"769.873047\" xlink:href=\"#DejaVuSans-49\"/>\n      <use x=\"833.496094\" xlink:href=\"#DejaVuSans-49\"/>\n      <use x=\"897.119141\" xlink:href=\"#DejaVuSans-56\"/>\n      <use x=\"960.742188\" xlink:href=\"#DejaVuSans-49\"/>\n      <use x=\"1024.365234\" xlink:href=\"#DejaVuSans-101\"/>\n      <use x=\"1085.888672\" xlink:href=\"#DejaVuSans-8722\"/>\n      <use x=\"1169.677734\" xlink:href=\"#DejaVuSans-49\"/>\n     </g>\n    </g>\n   </g>\n   <g id=\"matplotlib.axis_2\">\n    <g id=\"ytick_1\">\n     <g id=\"line2d_9\">\n      <defs>\n       <path d=\"M 0 0 \nL -3.5 0 \n\" id=\"mc3ed1e7f99\" style=\"stroke:#000000;stroke-width:0.8;\"/>\n      </defs>\n      <g>\n       <use style=\"stroke:#000000;stroke-width:0.8;\" x=\"53.328125\" xlink:href=\"#mc3ed1e7f99\" y=\"224.64\"/>\n      </g>\n     </g>\n     <g id=\"text_10\">\n      <!-- 0 -->\n      <g transform=\"translate(39.965625 228.439219)scale(0.1 -0.1)\">\n       <use xlink:href=\"#DejaVuSans-48\"/>\n      </g>\n     </g>\n    </g>\n    <g id=\"ytick_2\">\n     <g id=\"line2d_10\">\n      <g>\n       <use style=\"stroke:#000000;stroke-width:0.8;\" x=\"53.328125\" xlink:href=\"#mc3ed1e7f99\" y=\"199.447091\"/>\n      </g>\n     </g>\n     <g id=\"text_11\">\n      <!-- 200 -->\n      <g transform=\"translate(27.240625 203.246309)scale(0.1 -0.1)\">\n       <use xlink:href=\"#DejaVuSans-50\"/>\n       <use x=\"63.623047\" xlink:href=\"#DejaVuSans-48\"/>\n       <use x=\"127.246094\" xlink:href=\"#DejaVuSans-48\"/>\n      </g>\n     </g>\n    </g>\n    <g id=\"ytick_3\">\n     <g id=\"line2d_11\">\n      <g>\n       <use style=\"stroke:#000000;stroke-width:0.8;\" x=\"53.328125\" xlink:href=\"#mc3ed1e7f99\" y=\"174.254181\"/>\n      </g>\n     </g>\n     <g id=\"text_12\">\n      <!-- 400 -->\n      <g transform=\"translate(27.240625 178.0534)scale(0.1 -0.1)\">\n       <defs>\n        <path d=\"M 37.796875 64.3125 \nL 12.890625 25.390625 \nL 37.796875 25.390625 \nz\nM 35.203125 72.90625 \nL 47.609375 72.90625 \nL 47.609375 25.390625 \nL 58.015625 25.390625 \nL 58.015625 17.1875 \nL 47.609375 17.1875 \nL 47.609375 0 \nL 37.796875 0 \nL 37.796875 17.1875 \nL 4.890625 17.1875 \nL 4.890625 26.703125 \nz\n\" id=\"DejaVuSans-52\"/>\n       </defs>\n       <use xlink:href=\"#DejaVuSans-52\"/>\n       <use x=\"63.623047\" xlink:href=\"#DejaVuSans-48\"/>\n       <use x=\"127.246094\" xlink:href=\"#DejaVuSans-48\"/>\n      </g>\n     </g>\n    </g>\n    <g id=\"ytick_4\">\n     <g id=\"line2d_12\">\n      <g>\n       <use style=\"stroke:#000000;stroke-width:0.8;\" x=\"53.328125\" xlink:href=\"#mc3ed1e7f99\" y=\"149.061272\"/>\n      </g>\n     </g>\n     <g id=\"text_13\">\n      <!-- 600 -->\n      <g transform=\"translate(27.240625 152.860491)scale(0.1 -0.1)\">\n       <defs>\n        <path d=\"M 33.015625 40.375 \nQ 26.375 40.375 22.484375 35.828125 \nQ 18.609375 31.296875 18.609375 23.390625 \nQ 18.609375 15.53125 22.484375 10.953125 \nQ 26.375 6.390625 33.015625 6.390625 \nQ 39.65625 6.390625 43.53125 10.953125 \nQ 47.40625 15.53125 47.40625 23.390625 \nQ 47.40625 31.296875 43.53125 35.828125 \nQ 39.65625 40.375 33.015625 40.375 \nz\nM 52.59375 71.296875 \nL 52.59375 62.3125 \nQ 48.875 64.0625 45.09375 64.984375 \nQ 41.3125 65.921875 37.59375 65.921875 \nQ 27.828125 65.921875 22.671875 59.328125 \nQ 17.53125 52.734375 16.796875 39.40625 \nQ 19.671875 43.65625 24.015625 45.921875 \nQ 28.375 48.1875 33.59375 48.1875 \nQ 44.578125 48.1875 50.953125 41.515625 \nQ 57.328125 34.859375 57.328125 23.390625 \nQ 57.328125 12.15625 50.6875 5.359375 \nQ 44.046875 -1.421875 33.015625 -1.421875 \nQ 20.359375 -1.421875 13.671875 8.265625 \nQ 6.984375 17.96875 6.984375 36.375 \nQ 6.984375 53.65625 15.1875 63.9375 \nQ 23.390625 74.21875 37.203125 74.21875 \nQ 40.921875 74.21875 44.703125 73.484375 \nQ 48.484375 72.75 52.59375 71.296875 \nz\n\" id=\"DejaVuSans-54\"/>\n       </defs>\n       <use xlink:href=\"#DejaVuSans-54\"/>\n       <use x=\"63.623047\" xlink:href=\"#DejaVuSans-48\"/>\n       <use x=\"127.246094\" xlink:href=\"#DejaVuSans-48\"/>\n      </g>\n     </g>\n    </g>\n    <g id=\"ytick_5\">\n     <g id=\"line2d_13\">\n      <g>\n       <use style=\"stroke:#000000;stroke-width:0.8;\" x=\"53.328125\" xlink:href=\"#mc3ed1e7f99\" y=\"123.868363\"/>\n      </g>\n     </g>\n     <g id=\"text_14\">\n      <!-- 800 -->\n      <g transform=\"translate(27.240625 127.667582)scale(0.1 -0.1)\">\n       <use xlink:href=\"#DejaVuSans-56\"/>\n       <use x=\"63.623047\" xlink:href=\"#DejaVuSans-48\"/>\n       <use x=\"127.246094\" xlink:href=\"#DejaVuSans-48\"/>\n      </g>\n     </g>\n    </g>\n    <g id=\"ytick_6\">\n     <g id=\"line2d_14\">\n      <g>\n       <use style=\"stroke:#000000;stroke-width:0.8;\" x=\"53.328125\" xlink:href=\"#mc3ed1e7f99\" y=\"98.675454\"/>\n      </g>\n     </g>\n     <g id=\"text_15\">\n      <!-- 1000 -->\n      <g transform=\"translate(20.878125 102.474672)scale(0.1 -0.1)\">\n       <use xlink:href=\"#DejaVuSans-49\"/>\n       <use x=\"63.623047\" xlink:href=\"#DejaVuSans-48\"/>\n       <use x=\"127.246094\" xlink:href=\"#DejaVuSans-48\"/>\n       <use x=\"190.869141\" xlink:href=\"#DejaVuSans-48\"/>\n      </g>\n     </g>\n    </g>\n    <g id=\"ytick_7\">\n     <g id=\"line2d_15\">\n      <g>\n       <use style=\"stroke:#000000;stroke-width:0.8;\" x=\"53.328125\" xlink:href=\"#mc3ed1e7f99\" y=\"73.482544\"/>\n      </g>\n     </g>\n     <g id=\"text_16\">\n      <!-- 1200 -->\n      <g transform=\"translate(20.878125 77.281763)scale(0.1 -0.1)\">\n       <use xlink:href=\"#DejaVuSans-49\"/>\n       <use x=\"63.623047\" xlink:href=\"#DejaVuSans-50\"/>\n       <use x=\"127.246094\" xlink:href=\"#DejaVuSans-48\"/>\n       <use x=\"190.869141\" xlink:href=\"#DejaVuSans-48\"/>\n      </g>\n     </g>\n    </g>\n    <g id=\"ytick_8\">\n     <g id=\"line2d_16\">\n      <g>\n       <use style=\"stroke:#000000;stroke-width:0.8;\" x=\"53.328125\" xlink:href=\"#mc3ed1e7f99\" y=\"48.289635\"/>\n      </g>\n     </g>\n     <g id=\"text_17\">\n      <!-- 1400 -->\n      <g transform=\"translate(20.878125 52.088854)scale(0.1 -0.1)\">\n       <use xlink:href=\"#DejaVuSans-49\"/>\n       <use x=\"63.623047\" xlink:href=\"#DejaVuSans-52\"/>\n       <use x=\"127.246094\" xlink:href=\"#DejaVuSans-48\"/>\n       <use x=\"190.869141\" xlink:href=\"#DejaVuSans-48\"/>\n      </g>\n     </g>\n    </g>\n    <g id=\"ytick_9\">\n     <g id=\"line2d_17\">\n      <g>\n       <use style=\"stroke:#000000;stroke-width:0.8;\" x=\"53.328125\" xlink:href=\"#mc3ed1e7f99\" y=\"23.096726\"/>\n      </g>\n     </g>\n     <g id=\"text_18\">\n      <!-- 1600 -->\n      <g transform=\"translate(20.878125 26.895945)scale(0.1 -0.1)\">\n       <use xlink:href=\"#DejaVuSans-49\"/>\n       <use x=\"63.623047\" xlink:href=\"#DejaVuSans-54\"/>\n       <use x=\"127.246094\" xlink:href=\"#DejaVuSans-48\"/>\n       <use x=\"190.869141\" xlink:href=\"#DejaVuSans-48\"/>\n      </g>\n     </g>\n    </g>\n    <g id=\"text_19\">\n     <!-- Count -->\n     <g transform=\"translate(14.798438 130.768437)rotate(-90)scale(0.1 -0.1)\">\n      <defs>\n       <path d=\"M 64.40625 67.28125 \nL 64.40625 56.890625 \nQ 59.421875 61.53125 53.78125 63.8125 \nQ 48.140625 66.109375 41.796875 66.109375 \nQ 29.296875 66.109375 22.65625 58.46875 \nQ 16.015625 50.828125 16.015625 36.375 \nQ 16.015625 21.96875 22.65625 14.328125 \nQ 29.296875 6.6875 41.796875 6.6875 \nQ 48.140625 6.6875 53.78125 8.984375 \nQ 59.421875 11.28125 64.40625 15.921875 \nL 64.40625 5.609375 \nQ 59.234375 2.09375 53.4375 0.328125 \nQ 47.65625 -1.421875 41.21875 -1.421875 \nQ 24.65625 -1.421875 15.125 8.703125 \nQ 5.609375 18.84375 5.609375 36.375 \nQ 5.609375 53.953125 15.125 64.078125 \nQ 24.65625 74.21875 41.21875 74.21875 \nQ 47.75 74.21875 53.53125 72.484375 \nQ 59.328125 70.75 64.40625 67.28125 \nz\n\" id=\"DejaVuSans-67\"/>\n       <path d=\"M 30.609375 48.390625 \nQ 23.390625 48.390625 19.1875 42.75 \nQ 14.984375 37.109375 14.984375 27.296875 \nQ 14.984375 17.484375 19.15625 11.84375 \nQ 23.34375 6.203125 30.609375 6.203125 \nQ 37.796875 6.203125 41.984375 11.859375 \nQ 46.1875 17.53125 46.1875 27.296875 \nQ 46.1875 37.015625 41.984375 42.703125 \nQ 37.796875 48.390625 30.609375 48.390625 \nz\nM 30.609375 56 \nQ 42.328125 56 49.015625 48.375 \nQ 55.71875 40.765625 55.71875 27.296875 \nQ 55.71875 13.875 49.015625 6.21875 \nQ 42.328125 -1.421875 30.609375 -1.421875 \nQ 18.84375 -1.421875 12.171875 6.21875 \nQ 5.515625 13.875 5.515625 27.296875 \nQ 5.515625 40.765625 12.171875 48.375 \nQ 18.84375 56 30.609375 56 \nz\n\" id=\"DejaVuSans-111\"/>\n       <path d=\"M 8.5 21.578125 \nL 8.5 54.6875 \nL 17.484375 54.6875 \nL 17.484375 21.921875 \nQ 17.484375 14.15625 20.5 10.265625 \nQ 23.53125 6.390625 29.59375 6.390625 \nQ 36.859375 6.390625 41.078125 11.03125 \nQ 45.3125 15.671875 45.3125 23.6875 \nL 45.3125 54.6875 \nL 54.296875 54.6875 \nL 54.296875 0 \nL 45.3125 0 \nL 45.3125 8.40625 \nQ 42.046875 3.421875 37.71875 1 \nQ 33.40625 -1.421875 27.6875 -1.421875 \nQ 18.265625 -1.421875 13.375 4.4375 \nQ 8.5 10.296875 8.5 21.578125 \nz\nM 31.109375 56 \nz\n\" id=\"DejaVuSans-117\"/>\n       <path d=\"M 54.890625 33.015625 \nL 54.890625 0 \nL 45.90625 0 \nL 45.90625 32.71875 \nQ 45.90625 40.484375 42.875 44.328125 \nQ 39.84375 48.1875 33.796875 48.1875 \nQ 26.515625 48.1875 22.3125 43.546875 \nQ 18.109375 38.921875 18.109375 30.90625 \nL 18.109375 0 \nL 9.078125 0 \nL 9.078125 54.6875 \nL 18.109375 54.6875 \nL 18.109375 46.1875 \nQ 21.34375 51.125 25.703125 53.5625 \nQ 30.078125 56 35.796875 56 \nQ 45.21875 56 50.046875 50.171875 \nQ 54.890625 44.34375 54.890625 33.015625 \nz\n\" id=\"DejaVuSans-110\"/>\n       <path d=\"M 18.3125 70.21875 \nL 18.3125 54.6875 \nL 36.8125 54.6875 \nL 36.8125 47.703125 \nL 18.3125 47.703125 \nL 18.3125 18.015625 \nQ 18.3125 11.328125 20.140625 9.421875 \nQ 21.96875 7.515625 27.59375 7.515625 \nL 36.8125 7.515625 \nL 36.8125 0 \nL 27.59375 0 \nQ 17.1875 0 13.234375 3.875 \nQ 9.28125 7.765625 9.28125 18.015625 \nL 9.28125 47.703125 \nL 2.6875 47.703125 \nL 2.6875 54.6875 \nL 9.28125 54.6875 \nL 9.28125 70.21875 \nz\n\" id=\"DejaVuSans-116\"/>\n      </defs>\n      <use xlink:href=\"#DejaVuSans-67\"/>\n      <use x=\"69.824219\" xlink:href=\"#DejaVuSans-111\"/>\n      <use x=\"131.005859\" xlink:href=\"#DejaVuSans-117\"/>\n      <use x=\"194.384766\" xlink:href=\"#DejaVuSans-110\"/>\n      <use x=\"257.763672\" xlink:href=\"#DejaVuSans-116\"/>\n     </g>\n    </g>\n   </g>\n   <g id=\"patch_150\">\n    <path d=\"M 53.328125 224.64 \nL 53.328125 7.2 \n\" style=\"fill:none;stroke:#000000;stroke-linecap:square;stroke-linejoin:miter;stroke-width:0.8;\"/>\n   </g>\n   <g id=\"patch_151\">\n    <path d=\"M 388.128125 224.64 \nL 388.128125 7.2 \n\" style=\"fill:none;stroke:#000000;stroke-linecap:square;stroke-linejoin:miter;stroke-width:0.8;\"/>\n   </g>\n   <g id=\"patch_152\">\n    <path d=\"M 53.328064 224.64 \nL 388.128052 224.64 \n\" style=\"fill:none;stroke:#000000;stroke-linecap:square;stroke-linejoin:miter;stroke-width:0.8;\"/>\n   </g>\n   <g id=\"patch_153\">\n    <path d=\"M 53.328064 7.2 \nL 388.128052 7.2 \n\" style=\"fill:none;stroke:#000000;stroke-linecap:square;stroke-linejoin:miter;stroke-width:0.8;\"/>\n   </g>\n  </g>\n </g>\n <defs>\n  <clipPath id=\"p1022eae011\">\n   <rect height=\"217.44\" width=\"334.8\" x=\"53.328125\" y=\"7.2\"/>\n  </clipPath>\n </defs>\n</svg>\n",
      "image/png": "[encoded data removed]"
     },
     "metadata": {
      "needs_background": "light"
     }
    }
   ],
   "source": [
    "sns.histplot(dict_of_FP_values['A3'][0])"
   ]
  },
  {
   "cell_type": "code",
   "execution_count": 259,
   "metadata": {},
   "outputs": [
    {
     "output_type": "execute_result",
     "data": {
      "text/plain": [
       "0    53258\n",
       "1     6742\n",
       "dtype: int64"
      ]
     },
     "metadata": {},
     "execution_count": 259
    }
   ],
   "source": [
    "pd.Series(bin_y_train[0]).value_counts()"
   ]
  },
  {
   "cell_type": "code",
   "execution_count": 260,
   "metadata": {},
   "outputs": [
    {
     "output_type": "execute_result",
     "data": {
      "text/plain": [
       "[0.19598118182, 0.19598118183)    22722\n",
       "[0.19598118183, 0.19598118185)    16585\n",
       "[0.1959811818, 0.19598118182)     12429\n",
       "[0.19598118185, 0.19598118187)     5013\n",
       "[0.19598118178, 0.1959811818)      2232\n",
       "[0.19598118187, 0.19598118189)      827\n",
       "[0.19598118189, 0.19598118191)       98\n",
       "[0.19598118176, 0.19598118178)       85\n",
       "[0.19598118191, 0.19598118193)        8\n",
       "[0.19598118174, 0.19598118176)        1\n",
       "dtype: int64"
      ]
     },
     "metadata": {},
     "execution_count": 260
    }
   ],
   "source": [
    "pd.cut(pd.Series(dict_of_FP_values['A3'][0]), bins=10, right=False).value_counts()"
   ]
  },
  {
   "source": [
    "## OK. It just seems to have optimised by making everything 0. Let's see what happens if we just have two numbers in the sample"
   ],
   "cell_type": "markdown",
   "metadata": {}
  },
  {
   "cell_type": "code",
   "execution_count": 261,
   "metadata": {},
   "outputs": [],
   "source": [
    "#Get the indexes for 0s and 1s\n",
    "y_train_list_form = np.array([1 if y == 1 else 0 if y == 0 else 5 for y in y_train])\n",
    "y_train_1_2 = pd.DataFrame( {'value': y_train_list_form})\n",
    "index_1 = (y_train_1_2['value'] == 1) | (y_train_1_2['value'] == 0 )\n",
    "\n",
    "#Repeat this for test\n",
    "y_test_list_form = np.array([1 if y == 1 else 0 if y == 0 else 5 for y in y_test])\n",
    "y_test_1_2 = pd.DataFrame( {'value': y_test_list_form})\n",
    "index_2 = (y_test_1_2['value'] == 1) | (y_test_1_2['value'] == 0 )"
   ]
  },
  {
   "cell_type": "code",
   "execution_count": 262,
   "metadata": {},
   "outputs": [],
   "source": [
    "#then get the relevant lists\n",
    "y_train_two_classes = y_train_list_form[index_1]\n",
    "x_train_two_classes = x_train[index_1]\n",
    "y_test_two_classes = y_test_list_form[index_2]\n",
    "x_test_two_classes = x_test[index_2]"
   ]
  },
  {
   "cell_type": "code",
   "execution_count": 263,
   "metadata": {},
   "outputs": [
    {
     "output_type": "stream",
     "name": "stdout",
     "text": [
      "(784, 12665)\n"
     ]
    }
   ],
   "source": [
    "#flatten the shapes - note, we're not using x_test just yet, so can leave this as is.\n",
    "x_train_2, x_test_2, y_train_2, y_test_2 = flatten_and_reshape(x_train_two_classes, x_test_two_classes, y_train_two_classes, y_test_two_classes)"
   ]
  },
  {
   "cell_type": "code",
   "execution_count": 264,
   "metadata": {},
   "outputs": [
    {
     "output_type": "execute_result",
     "data": {
      "text/plain": [
       "1    6742\n",
       "0    5923\n",
       "dtype: int64"
      ]
     },
     "metadata": {},
     "execution_count": 264
    }
   ],
   "source": [
    "#shows the split of class values\n",
    "pd.Series(y_train_2[0]).value_counts()"
   ]
  },
  {
   "cell_type": "code",
   "execution_count": 295,
   "metadata": {},
   "outputs": [
    {
     "output_type": "stream",
     "name": "stdout",
     "text": [
      "Weights matrices\nW1 (50, 784)\nB1 (50, 1)\nW2 (50, 50)\nB2 (50, 1)\nW3 (1, 50)\nB3 (1, 1)\n"
     ]
    }
   ],
   "source": [
    "\n",
    "#init the weights\n",
    "dict_of_weights_2 = init_weights(x_train_2, 50, 50, 1)\n",
    "\n",
    "#then let's do some iterations\n",
    "learning_rate = 0.1 #set an arbitrary learning rate... we can iterate and try a few others soon\n",
    "iterations = 500\n",
    "cost = []\n",
    "\n",
    "for iteration in range(iterations):\n",
    "    \n",
    "    dict_of_FP_values_bin, Cost = forward_prop(dict_of_weights_2,x_train_2,y_train_2)\n",
    "    cost.append(Cost[0]) #add cost to the list.\n",
    "    #then, do back prop, storing the differentials\n",
    "    differentiat_dict_bin = back_prop(dict_of_weights_2, dict_of_FP_values_bin, y_train_2, x_train_2)\n",
    "\n",
    "    #then, do the gradient descent. Nothing stored, the weights just update and we re-use the new values in forward prop.\n",
    "    gradient_descent(learning_rate, dict_of_weights_2, differentiat_dict_bin)\n",
    "\n"
   ]
  },
  {
   "cell_type": "code",
   "execution_count": 283,
   "metadata": {},
   "outputs": [
    {
     "output_type": "execute_result",
     "data": {
      "text/plain": [
       "array([[0, 1, 1, ..., 1, 0, 1]])"
      ]
     },
     "metadata": {},
     "execution_count": 283
    }
   ],
   "source": [
    "y_train_2"
   ]
  },
  {
   "cell_type": "code",
   "execution_count": 285,
   "metadata": {},
   "outputs": [
    {
     "output_type": "execute_result",
     "data": {
      "text/plain": [
       "[0.000366, 0.1)    4211\n",
       "[0.898, 0.998)     3947\n",
       "[0.798, 0.898)     1690\n",
       "[0.1, 0.2)          760\n",
       "[0.698, 0.798)      615\n",
       "[0.2, 0.299)        364\n",
       "[0.599, 0.698)      331\n",
       "[0.299, 0.399)      277\n",
       "[0.399, 0.499)      240\n",
       "[0.499, 0.599)      230\n",
       "dtype: int64"
      ]
     },
     "metadata": {},
     "execution_count": 285
    }
   ],
   "source": [
    "pd.cut(pd.Series(dict_of_FP_values_bin['A3'][0]), bins=10, right=False).value_counts()"
   ]
  },
  {
   "source": [
    "Great - we have values at both ends of the spectrum!"
   ],
   "cell_type": "markdown",
   "metadata": {}
  },
  {
   "cell_type": "code",
   "execution_count": 286,
   "metadata": {},
   "outputs": [
    {
     "output_type": "stream",
     "name": "stderr",
     "text": [
      "/Users/jacoblourie/opt/anaconda3/lib/python3.8/site-packages/seaborn/_decorators.py:36: FutureWarning: Pass the following variables as keyword args: x, y. From version 0.12, the only valid positional argument will be `data`, and passing other arguments without an explicit keyword will result in an error or misinterpretation.\n  warnings.warn(\n"
     ]
    },
    {
     "output_type": "execute_result",
     "data": {
      "text/plain": [
       "<AxesSubplot:>"
      ]
     },
     "metadata": {},
     "execution_count": 286
    },
    {
     "output_type": "display_data",
     "data": {
      "text/plain": "<Figure size 432x288 with 1 Axes>",
      "image/svg+xml": "<?xml version=\"1.0\" encoding=\"utf-8\" standalone=\"no\"?>\n<!DOCTYPE svg PUBLIC \"-//W3C//DTD SVG 1.1//EN\"\n  \"http://www.w3.org/Graphics/SVG/1.1/DTD/svg11.dtd\">\n<!-- Created with matplotlib (https://matplotlib.org/) -->\n<svg height=\"248.518125pt\" version=\"1.1\" viewBox=\"0 0 378.465625 248.518125\" width=\"378.465625pt\" xmlns=\"http://www.w3.org/2000/svg\" xmlns:xlink=\"http://www.w3.org/1999/xlink\">\n <metadata>\n  <rdf:RDF xmlns:cc=\"http://creativecommons.org/ns#\" xmlns:dc=\"http://purl.org/dc/elements/1.1/\" xmlns:rdf=\"http://www.w3.org/1999/02/22-rdf-syntax-ns#\">\n   <cc:Work>\n    <dc:type rdf:resource=\"http://purl.org/dc/dcmitype/StillImage\"/>\n    <dc:date>2021-05-05T15:36:20.301525</dc:date>\n    <dc:format>image/svg+xml</dc:format>\n    <dc:creator>\n     <cc:Agent>\n      <dc:title>Matplotlib v3.3.2, https://matplotlib.org/</dc:title>\n     </cc:Agent>\n    </dc:creator>\n   </cc:Work>\n  </rdf:RDF>\n </metadata>\n <defs>\n  <style type=\"text/css\">*{stroke-linecap:butt;stroke-linejoin:round;}</style>\n </defs>\n <g id=\"figure_1\">\n  <g id=\"patch_1\">\n   <path d=\"M 0 248.518125 \nL 378.465625 248.518125 \nL 378.465625 0 \nL 0 0 \nz\n\" style=\"fill:none;\"/>\n  </g>\n  <g id=\"axes_1\">\n   <g id=\"patch_2\">\n    <path d=\"M 36.465625 224.64 \nL 371.265625 224.64 \nL 371.265625 7.2 \nL 36.465625 7.2 \nz\n\" style=\"fill:#ffffff;\"/>\n   </g>\n   <g id=\"matplotlib.axis_1\">\n    <g id=\"xtick_1\">\n     <g id=\"line2d_1\">\n      <defs>\n       <path d=\"M 0 0 \nL 0 3.5 \n\" id=\"m3ec88b0a8c\" style=\"stroke:#000000;stroke-width:0.8;\"/>\n      </defs>\n      <g>\n       <use style=\"stroke:#000000;stroke-width:0.8;\" x=\"51.07386\" xlink:href=\"#m3ec88b0a8c\" y=\"224.64\"/>\n      </g>\n     </g>\n     <g id=\"text_1\">\n      <!-- 0 -->\n      <g transform=\"translate(47.89261 239.238437)scale(0.1 -0.1)\">\n       <defs>\n        <path d=\"M 31.78125 66.40625 \nQ 24.171875 66.40625 20.328125 58.90625 \nQ 16.5 51.421875 16.5 36.375 \nQ 16.5 21.390625 20.328125 13.890625 \nQ 24.171875 6.390625 31.78125 6.390625 \nQ 39.453125 6.390625 43.28125 13.890625 \nQ 47.125 21.390625 47.125 36.375 \nQ 47.125 51.421875 43.28125 58.90625 \nQ 39.453125 66.40625 31.78125 66.40625 \nz\nM 31.78125 74.21875 \nQ 44.046875 74.21875 50.515625 64.515625 \nQ 56.984375 54.828125 56.984375 36.375 \nQ 56.984375 17.96875 50.515625 8.265625 \nQ 44.046875 -1.421875 31.78125 -1.421875 \nQ 19.53125 -1.421875 13.0625 8.265625 \nQ 6.59375 17.96875 6.59375 36.375 \nQ 6.59375 54.828125 13.0625 64.515625 \nQ 19.53125 74.21875 31.78125 74.21875 \nz\n\" id=\"DejaVuSans-48\"/>\n       </defs>\n       <use xlink:href=\"#DejaVuSans-48\"/>\n      </g>\n     </g>\n    </g>\n    <g id=\"xtick_2\">\n     <g id=\"line2d_2\">\n      <g>\n       <use style=\"stroke:#000000;stroke-width:0.8;\" x=\"112.068576\" xlink:href=\"#m3ec88b0a8c\" y=\"224.64\"/>\n      </g>\n     </g>\n     <g id=\"text_2\">\n      <!-- 100 -->\n      <g transform=\"translate(102.524826 239.238437)scale(0.1 -0.1)\">\n       <defs>\n        <path d=\"M 12.40625 8.296875 \nL 28.515625 8.296875 \nL 28.515625 63.921875 \nL 10.984375 60.40625 \nL 10.984375 69.390625 \nL 28.421875 72.90625 \nL 38.28125 72.90625 \nL 38.28125 8.296875 \nL 54.390625 8.296875 \nL 54.390625 0 \nL 12.40625 0 \nz\n\" id=\"DejaVuSans-49\"/>\n       </defs>\n       <use xlink:href=\"#DejaVuSans-49\"/>\n       <use x=\"63.623047\" xlink:href=\"#DejaVuSans-48\"/>\n       <use x=\"127.246094\" xlink:href=\"#DejaVuSans-48\"/>\n      </g>\n     </g>\n    </g>\n    <g id=\"xtick_3\">\n     <g id=\"line2d_3\">\n      <g>\n       <use style=\"stroke:#000000;stroke-width:0.8;\" x=\"173.063293\" xlink:href=\"#m3ec88b0a8c\" y=\"224.64\"/>\n      </g>\n     </g>\n     <g id=\"text_3\">\n      <!-- 200 -->\n      <g transform=\"translate(163.519543 239.238437)scale(0.1 -0.1)\">\n       <defs>\n        <path d=\"M 19.1875 8.296875 \nL 53.609375 8.296875 \nL 53.609375 0 \nL 7.328125 0 \nL 7.328125 8.296875 \nQ 12.9375 14.109375 22.625 23.890625 \nQ 32.328125 33.6875 34.8125 36.53125 \nQ 39.546875 41.84375 41.421875 45.53125 \nQ 43.3125 49.21875 43.3125 52.78125 \nQ 43.3125 58.59375 39.234375 62.25 \nQ 35.15625 65.921875 28.609375 65.921875 \nQ 23.96875 65.921875 18.8125 64.3125 \nQ 13.671875 62.703125 7.8125 59.421875 \nL 7.8125 69.390625 \nQ 13.765625 71.78125 18.9375 73 \nQ 24.125 74.21875 28.421875 74.21875 \nQ 39.75 74.21875 46.484375 68.546875 \nQ 53.21875 62.890625 53.21875 53.421875 \nQ 53.21875 48.921875 51.53125 44.890625 \nQ 49.859375 40.875 45.40625 35.40625 \nQ 44.1875 33.984375 37.640625 27.21875 \nQ 31.109375 20.453125 19.1875 8.296875 \nz\n\" id=\"DejaVuSans-50\"/>\n       </defs>\n       <use xlink:href=\"#DejaVuSans-50\"/>\n       <use x=\"63.623047\" xlink:href=\"#DejaVuSans-48\"/>\n       <use x=\"127.246094\" xlink:href=\"#DejaVuSans-48\"/>\n      </g>\n     </g>\n    </g>\n    <g id=\"xtick_4\">\n     <g id=\"line2d_4\">\n      <g>\n       <use style=\"stroke:#000000;stroke-width:0.8;\" x=\"234.05801\" xlink:href=\"#m3ec88b0a8c\" y=\"224.64\"/>\n      </g>\n     </g>\n     <g id=\"text_4\">\n      <!-- 300 -->\n      <g transform=\"translate(224.51426 239.238437)scale(0.1 -0.1)\">\n       <defs>\n        <path d=\"M 40.578125 39.3125 \nQ 47.65625 37.796875 51.625 33 \nQ 55.609375 28.21875 55.609375 21.1875 \nQ 55.609375 10.40625 48.1875 4.484375 \nQ 40.765625 -1.421875 27.09375 -1.421875 \nQ 22.515625 -1.421875 17.65625 -0.515625 \nQ 12.796875 0.390625 7.625 2.203125 \nL 7.625 11.71875 \nQ 11.71875 9.328125 16.59375 8.109375 \nQ 21.484375 6.890625 26.8125 6.890625 \nQ 36.078125 6.890625 40.9375 10.546875 \nQ 45.796875 14.203125 45.796875 21.1875 \nQ 45.796875 27.640625 41.28125 31.265625 \nQ 36.765625 34.90625 28.71875 34.90625 \nL 20.21875 34.90625 \nL 20.21875 43.015625 \nL 29.109375 43.015625 \nQ 36.375 43.015625 40.234375 45.921875 \nQ 44.09375 48.828125 44.09375 54.296875 \nQ 44.09375 59.90625 40.109375 62.90625 \nQ 36.140625 65.921875 28.71875 65.921875 \nQ 24.65625 65.921875 20.015625 65.03125 \nQ 15.375 64.15625 9.8125 62.3125 \nL 9.8125 71.09375 \nQ 15.4375 72.65625 20.34375 73.4375 \nQ 25.25 74.21875 29.59375 74.21875 \nQ 40.828125 74.21875 47.359375 69.109375 \nQ 53.90625 64.015625 53.90625 55.328125 \nQ 53.90625 49.265625 50.4375 45.09375 \nQ 46.96875 40.921875 40.578125 39.3125 \nz\n\" id=\"DejaVuSans-51\"/>\n       </defs>\n       <use xlink:href=\"#DejaVuSans-51\"/>\n       <use x=\"63.623047\" xlink:href=\"#DejaVuSans-48\"/>\n       <use x=\"127.246094\" xlink:href=\"#DejaVuSans-48\"/>\n      </g>\n     </g>\n    </g>\n    <g id=\"xtick_5\">\n     <g id=\"line2d_5\">\n      <g>\n       <use style=\"stroke:#000000;stroke-width:0.8;\" x=\"295.052726\" xlink:href=\"#m3ec88b0a8c\" y=\"224.64\"/>\n      </g>\n     </g>\n     <g id=\"text_5\">\n      <!-- 400 -->\n      <g transform=\"translate(285.508976 239.238437)scale(0.1 -0.1)\">\n       <defs>\n        <path d=\"M 37.796875 64.3125 \nL 12.890625 25.390625 \nL 37.796875 25.390625 \nz\nM 35.203125 72.90625 \nL 47.609375 72.90625 \nL 47.609375 25.390625 \nL 58.015625 25.390625 \nL 58.015625 17.1875 \nL 47.609375 17.1875 \nL 47.609375 0 \nL 37.796875 0 \nL 37.796875 17.1875 \nL 4.890625 17.1875 \nL 4.890625 26.703125 \nz\n\" id=\"DejaVuSans-52\"/>\n       </defs>\n       <use xlink:href=\"#DejaVuSans-52\"/>\n       <use x=\"63.623047\" xlink:href=\"#DejaVuSans-48\"/>\n       <use x=\"127.246094\" xlink:href=\"#DejaVuSans-48\"/>\n      </g>\n     </g>\n    </g>\n    <g id=\"xtick_6\">\n     <g id=\"line2d_6\">\n      <g>\n       <use style=\"stroke:#000000;stroke-width:0.8;\" x=\"356.047443\" xlink:href=\"#m3ec88b0a8c\" y=\"224.64\"/>\n      </g>\n     </g>\n     <g id=\"text_6\">\n      <!-- 500 -->\n      <g transform=\"translate(346.503693 239.238437)scale(0.1 -0.1)\">\n       <defs>\n        <path d=\"M 10.796875 72.90625 \nL 49.515625 72.90625 \nL 49.515625 64.59375 \nL 19.828125 64.59375 \nL 19.828125 46.734375 \nQ 21.96875 47.46875 24.109375 47.828125 \nQ 26.265625 48.1875 28.421875 48.1875 \nQ 40.625 48.1875 47.75 41.5 \nQ 54.890625 34.8125 54.890625 23.390625 \nQ 54.890625 11.625 47.5625 5.09375 \nQ 40.234375 -1.421875 26.90625 -1.421875 \nQ 22.3125 -1.421875 17.546875 -0.640625 \nQ 12.796875 0.140625 7.71875 1.703125 \nL 7.71875 11.625 \nQ 12.109375 9.234375 16.796875 8.0625 \nQ 21.484375 6.890625 26.703125 6.890625 \nQ 35.15625 6.890625 40.078125 11.328125 \nQ 45.015625 15.765625 45.015625 23.390625 \nQ 45.015625 31 40.078125 35.4375 \nQ 35.15625 39.890625 26.703125 39.890625 \nQ 22.75 39.890625 18.8125 39.015625 \nQ 14.890625 38.140625 10.796875 36.28125 \nz\n\" id=\"DejaVuSans-53\"/>\n       </defs>\n       <use xlink:href=\"#DejaVuSans-53\"/>\n       <use x=\"63.623047\" xlink:href=\"#DejaVuSans-48\"/>\n       <use x=\"127.246094\" xlink:href=\"#DejaVuSans-48\"/>\n      </g>\n     </g>\n    </g>\n   </g>\n   <g id=\"matplotlib.axis_2\">\n    <g id=\"ytick_1\">\n     <g id=\"line2d_7\">\n      <defs>\n       <path d=\"M 0 0 \nL -3.5 0 \n\" id=\"m625c40073c\" style=\"stroke:#000000;stroke-width:0.8;\"/>\n      </defs>\n      <g>\n       <use style=\"stroke:#000000;stroke-width:0.8;\" x=\"36.465625\" xlink:href=\"#m625c40073c\" y=\"211.263825\"/>\n      </g>\n     </g>\n     <g id=\"text_7\">\n      <!-- 0.05 -->\n      <g transform=\"translate(7.2 215.063044)scale(0.1 -0.1)\">\n       <defs>\n        <path d=\"M 10.6875 12.40625 \nL 21 12.40625 \nL 21 0 \nL 10.6875 0 \nz\n\" id=\"DejaVuSans-46\"/>\n       </defs>\n       <use xlink:href=\"#DejaVuSans-48\"/>\n       <use x=\"63.623047\" xlink:href=\"#DejaVuSans-46\"/>\n       <use x=\"95.410156\" xlink:href=\"#DejaVuSans-48\"/>\n       <use x=\"159.033203\" xlink:href=\"#DejaVuSans-53\"/>\n      </g>\n     </g>\n    </g>\n    <g id=\"ytick_2\">\n     <g id=\"line2d_8\">\n      <g>\n       <use style=\"stroke:#000000;stroke-width:0.8;\" x=\"36.465625\" xlink:href=\"#m625c40073c\" y=\"184.5915\"/>\n      </g>\n     </g>\n     <g id=\"text_8\">\n      <!-- 0.10 -->\n      <g transform=\"translate(7.2 188.390718)scale(0.1 -0.1)\">\n       <use xlink:href=\"#DejaVuSans-48\"/>\n       <use x=\"63.623047\" xlink:href=\"#DejaVuSans-46\"/>\n       <use x=\"95.410156\" xlink:href=\"#DejaVuSans-49\"/>\n       <use x=\"159.033203\" xlink:href=\"#DejaVuSans-48\"/>\n      </g>\n     </g>\n    </g>\n    <g id=\"ytick_3\">\n     <g id=\"line2d_9\">\n      <g>\n       <use style=\"stroke:#000000;stroke-width:0.8;\" x=\"36.465625\" xlink:href=\"#m625c40073c\" y=\"157.919174\"/>\n      </g>\n     </g>\n     <g id=\"text_9\">\n      <!-- 0.15 -->\n      <g transform=\"translate(7.2 161.718393)scale(0.1 -0.1)\">\n       <use xlink:href=\"#DejaVuSans-48\"/>\n       <use x=\"63.623047\" xlink:href=\"#DejaVuSans-46\"/>\n       <use x=\"95.410156\" xlink:href=\"#DejaVuSans-49\"/>\n       <use x=\"159.033203\" xlink:href=\"#DejaVuSans-53\"/>\n      </g>\n     </g>\n    </g>\n    <g id=\"ytick_4\">\n     <g id=\"line2d_10\">\n      <g>\n       <use style=\"stroke:#000000;stroke-width:0.8;\" x=\"36.465625\" xlink:href=\"#m625c40073c\" y=\"131.246848\"/>\n      </g>\n     </g>\n     <g id=\"text_10\">\n      <!-- 0.20 -->\n      <g transform=\"translate(7.2 135.046067)scale(0.1 -0.1)\">\n       <use xlink:href=\"#DejaVuSans-48\"/>\n       <use x=\"63.623047\" xlink:href=\"#DejaVuSans-46\"/>\n       <use x=\"95.410156\" xlink:href=\"#DejaVuSans-50\"/>\n       <use x=\"159.033203\" xlink:href=\"#DejaVuSans-48\"/>\n      </g>\n     </g>\n    </g>\n    <g id=\"ytick_5\">\n     <g id=\"line2d_11\">\n      <g>\n       <use style=\"stroke:#000000;stroke-width:0.8;\" x=\"36.465625\" xlink:href=\"#m625c40073c\" y=\"104.574522\"/>\n      </g>\n     </g>\n     <g id=\"text_11\">\n      <!-- 0.25 -->\n      <g transform=\"translate(7.2 108.373741)scale(0.1 -0.1)\">\n       <use xlink:href=\"#DejaVuSans-48\"/>\n       <use x=\"63.623047\" xlink:href=\"#DejaVuSans-46\"/>\n       <use x=\"95.410156\" xlink:href=\"#DejaVuSans-50\"/>\n       <use x=\"159.033203\" xlink:href=\"#DejaVuSans-53\"/>\n      </g>\n     </g>\n    </g>\n    <g id=\"ytick_6\">\n     <g id=\"line2d_12\">\n      <g>\n       <use style=\"stroke:#000000;stroke-width:0.8;\" x=\"36.465625\" xlink:href=\"#m625c40073c\" y=\"77.902196\"/>\n      </g>\n     </g>\n     <g id=\"text_12\">\n      <!-- 0.30 -->\n      <g transform=\"translate(7.2 81.701415)scale(0.1 -0.1)\">\n       <use xlink:href=\"#DejaVuSans-48\"/>\n       <use x=\"63.623047\" xlink:href=\"#DejaVuSans-46\"/>\n       <use x=\"95.410156\" xlink:href=\"#DejaVuSans-51\"/>\n       <use x=\"159.033203\" xlink:href=\"#DejaVuSans-48\"/>\n      </g>\n     </g>\n    </g>\n    <g id=\"ytick_7\">\n     <g id=\"line2d_13\">\n      <g>\n       <use style=\"stroke:#000000;stroke-width:0.8;\" x=\"36.465625\" xlink:href=\"#m625c40073c\" y=\"51.22987\"/>\n      </g>\n     </g>\n     <g id=\"text_13\">\n      <!-- 0.35 -->\n      <g transform=\"translate(7.2 55.029089)scale(0.1 -0.1)\">\n       <use xlink:href=\"#DejaVuSans-48\"/>\n       <use x=\"63.623047\" xlink:href=\"#DejaVuSans-46\"/>\n       <use x=\"95.410156\" xlink:href=\"#DejaVuSans-51\"/>\n       <use x=\"159.033203\" xlink:href=\"#DejaVuSans-53\"/>\n      </g>\n     </g>\n    </g>\n    <g id=\"ytick_8\">\n     <g id=\"line2d_14\">\n      <g>\n       <use style=\"stroke:#000000;stroke-width:0.8;\" x=\"36.465625\" xlink:href=\"#m625c40073c\" y=\"24.557544\"/>\n      </g>\n     </g>\n     <g id=\"text_14\">\n      <!-- 0.40 -->\n      <g transform=\"translate(7.2 28.356763)scale(0.1 -0.1)\">\n       <use xlink:href=\"#DejaVuSans-48\"/>\n       <use x=\"63.623047\" xlink:href=\"#DejaVuSans-46\"/>\n       <use x=\"95.410156\" xlink:href=\"#DejaVuSans-52\"/>\n       <use x=\"159.033203\" xlink:href=\"#DejaVuSans-48\"/>\n      </g>\n     </g>\n    </g>\n   </g>\n   <g id=\"line2d_15\">\n    <path clip-path=\"url(#p97480acddd)\" d=\"M 51.683807 17.083636 \nL 54.733543 19.947617 \nL 57.783278 23.087226 \nL 61.442961 27.207509 \nL 65.102644 31.673023 \nL 69.372275 37.226003 \nL 76.081694 46.381814 \nL 90.720426 66.446477 \nL 99.259686 77.727076 \nL 107.188999 87.851675 \nL 114.508365 96.862072 \nL 121.827731 105.517061 \nL 128.53715 113.119055 \nL 135.246569 120.394771 \nL 141.955988 127.342139 \nL 148.665406 133.962346 \nL 155.374825 140.257122 \nL 162.084244 146.227164 \nL 168.183716 151.372113 \nL 174.283187 156.246981 \nL 180.382659 160.850796 \nL 186.482131 165.183597 \nL 192.581602 169.247187 \nL 198.681074 173.045648 \nL 204.780546 176.585546 \nL 210.880017 179.87582 \nL 216.979489 182.927445 \nL 223.688908 186.023583 \nL 230.398327 188.864234 \nL 237.107746 191.468221 \nL 244.427112 194.061208 \nL 251.746478 196.418925 \nL 259.675791 198.733967 \nL 268.215051 200.978961 \nL 276.754311 202.996491 \nL 285.903519 204.936825 \nL 295.662674 206.786847 \nL 306.641723 208.635031 \nL 318.230719 210.358119 \nL 331.039609 212.033854 \nL 345.068394 213.639835 \nL 356.047443 214.756364 \nL 356.047443 214.756364 \n\" style=\"fill:none;stroke:#1f77b4;stroke-linecap:square;stroke-width:1.5;\"/>\n   </g>\n   <g id=\"patch_3\">\n    <path d=\"M 36.465625 224.64 \nL 36.465625 7.2 \n\" style=\"fill:none;stroke:#000000;stroke-linecap:square;stroke-linejoin:miter;stroke-width:0.8;\"/>\n   </g>\n   <g id=\"patch_4\">\n    <path d=\"M 371.265625 224.64 \nL 371.265625 7.2 \n\" style=\"fill:none;stroke:#000000;stroke-linecap:square;stroke-linejoin:miter;stroke-width:0.8;\"/>\n   </g>\n   <g id=\"patch_5\">\n    <path d=\"M 36.465625 224.64 \nL 371.265625 224.64 \n\" style=\"fill:none;stroke:#000000;stroke-linecap:square;stroke-linejoin:miter;stroke-width:0.8;\"/>\n   </g>\n   <g id=\"patch_6\">\n    <path d=\"M 36.465625 7.2 \nL 371.265625 7.2 \n\" style=\"fill:none;stroke:#000000;stroke-linecap:square;stroke-linejoin:miter;stroke-width:0.8;\"/>\n   </g>\n  </g>\n </g>\n <defs>\n  <clipPath id=\"p97480acddd\">\n   <rect height=\"217.44\" width=\"334.8\" x=\"36.465625\" y=\"7.2\"/>\n  </clipPath>\n </defs>\n</svg>\n",
      "image/png": "[encoded data removed]"
     },
     "metadata": {
      "needs_background": "light"
     }
    }
   ],
   "source": [
    "cost_x = np.linspace(1,iterations,iterations)\n",
    "fig = plt.figure(figsize = (6,4))\n",
    "sns.lineplot(cost_x,cost)"
   ]
  },
  {
   "source": [
    "0.01 - what does this mean? it's the average of the sum of squared values. so on average the sum of the squared values is 0.01, which means the average modulus of the value is 0.1"
   ],
   "cell_type": "markdown",
   "metadata": {}
  },
  {
   "source": [
    "## Next - let's use this to \"Predict the Test Set\""
   ],
   "cell_type": "markdown",
   "metadata": {}
  },
  {
   "cell_type": "code",
   "execution_count": 269,
   "metadata": {},
   "outputs": [],
   "source": [
    "def predict(vector_of_x, vector_of_y):\n",
    "    FP_values, Cost = forward_prop(dict_of_weights_2,vector_of_x, vector_of_y)\n",
    "    y_prob = FP_values['A3']\n",
    "    #y_pred = round(FP_values['A3'])\n",
    "    accuracy_vector = abs(y_prob - vector_of_y) < 0.5\n",
    "    return y_prob,  accuracy_vector\n",
    "\n",
    "prob, av = predict(x_test_2, y_test_2)"
   ]
  },
  {
   "cell_type": "code",
   "execution_count": 270,
   "metadata": {},
   "outputs": [
    {
     "output_type": "execute_result",
     "data": {
      "text/plain": [
       "True     1135\n",
       "False     980\n",
       "dtype: int64"
      ]
     },
     "metadata": {},
     "execution_count": 270
    }
   ],
   "source": [
    "pd.Series(av[0]).value_counts()"
   ]
  },
  {
   "source": [
    "## Alright, Let's move on to SoftMax function and try to predict correctly from all the numbers\n",
    "\n",
    "We should also test the log versus non-logged form of the cost function, as the literature really supports the idea we should be using the logged form"
   ],
   "cell_type": "markdown",
   "metadata": {}
  },
  {
   "cell_type": "code",
   "execution_count": 521,
   "metadata": {},
   "outputs": [
    {
     "output_type": "stream",
     "name": "stdout",
     "text": [
      "(784, 60000)\n"
     ]
    }
   ],
   "source": [
    "#OK, let's get the data as we need it. we can use x_train_flat and x_test_flat\n",
    "print(x_train_flat.shape)\n",
    "#for y, we need to do some form of hot encoding.\n",
    "from sklearn.preprocessing import OneHotEncoder\n",
    "one_hot = OneHotEncoder(sparse = False)\n",
    "one_hot_y_train= one_hot.fit_transform(y_train_two_classes.reshape(-1,1)).T\n",
    "one_hot_y_test = one_hot.fit_transform(y_test_two_classes.reshape(-1,1)).T\n"
   ]
  },
  {
   "cell_type": "code",
   "execution_count": 506,
   "metadata": {},
   "outputs": [
    {
     "output_type": "stream",
     "name": "stdout",
     "text": [
      "Weights matrices\nW1 (50, 784)\nB1 (50, 1)\nW2 (50, 50)\nB2 (50, 1)\nW3 (10, 50)\nB3 (10, 1)\n"
     ]
    }
   ],
   "source": [
    "# let's see if we can initialise the weights\n",
    "dict_of_weights_softmax = init_weights(x_train_flat, 50, 50, 10)"
   ]
  },
  {
   "source": [
    "## Gravy. Now let's take a look at the forward prop\n",
    "\n",
    "One thing for sure is that we need to change the calculation of the cost function."
   ],
   "cell_type": "markdown",
   "metadata": {}
  },
  {
   "cell_type": "code",
   "execution_count": 507,
   "metadata": {},
   "outputs": [
    {
     "output_type": "execute_result",
     "data": {
      "text/plain": [
       "(10, 60000)"
      ]
     },
     "metadata": {},
     "execution_count": 507
    }
   ],
   "source": [
    "one_hot_y_train.shape"
   ]
  },
  {
   "cell_type": "code",
   "execution_count": 508,
   "metadata": {},
   "outputs": [],
   "source": [
    "dict_of_FP_values_softmax = {}\n",
    "#FORWARD PROPOGATION\n",
    "def last_leg_softmax(previous_a, W, B):\n",
    "    Z = W @ previous_a + B\n",
    "    A = np.exp(Z)\n",
    "    A = A / np.sum(A,axis=0) \n",
    "    return Z, A\n",
    "\n",
    "def forward_prop_softmax(dict_of_weights,x_train_flat,y_train_softmax):\n",
    "    W1, B1, W2, B2, W3, B3 = dict_of_weights.values()\n",
    "    Z1, A1 = sigmoid_forward_prop(x_train_flat, W1, B1)\n",
    "    Z2, A2 = sigmoid_forward_prop(A1, W2, B2)    \n",
    "    Z3, A3 = last_leg_softmax(A2, W3, B3)\n",
    "    \n",
    "    dict_of_FP_values['Z1'] = Z1\n",
    "    dict_of_FP_values['A1'] = A1\n",
    "    dict_of_FP_values['Z2'] = Z2\n",
    "    dict_of_FP_values['A2'] = A2\n",
    "    dict_of_FP_values['Z3'] = Z3\n",
    "    dict_of_FP_values['A3'] = A3\n",
    "    \n",
    "    #for cost fucntion, use the y log y_hat\n",
    "    Cost = -np.sum(y_train_softmax * np.log(A3)) / y_train_softmax.shape[1]\n",
    "    \n",
    "    return dict_of_FP_values, Cost\n",
    "\n",
    "dict_of_FP_values_softmax, Cost_softmax = forward_prop_softmax(dict_of_weights_SM,x_train_flat,one_hot_y_train)"
   ]
  },
  {
   "cell_type": "code",
   "execution_count": 509,
   "metadata": {},
   "outputs": [],
   "source": [
    "def back_prop_first_soft_max_layer(y_true, y_predicted, previous_A, Z, W):    \n",
    "    #dC/dz first layer is just y - ÿ\n",
    "    dC_dZ_final = y_predicted - y_true\n",
    "\n",
    "    #get diffs at that layer\n",
    "    dZfinal_dW = previous_A\n",
    "    dZfinal_dB = np.zeros_like(Z) + 1\n",
    "\n",
    "    #combine to get useful differentials\n",
    "    dC_dW = dC_dZ_final @ dZfinal_dW.T / Z.size\n",
    "    dC_dB = np.sum(dC_dZ_final @ dZfinal_dB.T,axis=1,keepdims=True) / dZfinal_dB.shape[1]\n",
    "\n",
    "    #and then get the previous layer cost fuctions\n",
    "    dZfinal_dA_minus_one = W\n",
    "    dC_dA_minus_one = (dC_dZ_final.T @ dZfinal_dA_minus_one).T\n",
    "\n",
    "    return dC_dW, dC_dB, dC_dZ_final, dC_dA_minus_one\n",
    "\n",
    "def back_prop_softmax(dict_of_weights_softmax, dict_of_FP_values_softmax, y_true, x_train_flat):\n",
    "    W1, B1, W2, B2, W3, W3 = dict_of_weights_softmax.values()\n",
    "    Z1, A1, Z2, A2, Z3, A3 = dict_of_FP_values_softmax.values()\n",
    "    \n",
    "    differentiat_dict = {}\n",
    "    \n",
    "    #This line is unique it's for the first layer\n",
    "    dC_dW3, dC_dB3, dC_dZ_last, dC_dA2 = back_prop_first_soft_max_layer(y_true, A3, A2, Z3, W3)\n",
    "\n",
    "    #do the back props\n",
    "    dC_dW2, dC_dB2, dC_dZ2, dC_dA1 = back_prop_one_layer_from_A_to_previous_A(dC_dA2, Z2, A1, W2)\n",
    "    dC_dW1, dC_dB1, dC_dZ1, dC_dA0 = back_prop_one_layer_from_A_to_previous_A(dC_dA1, Z1, x_train_flat, W1)\n",
    "\n",
    "    differentiat_dict['dW1'] = dC_dW1\n",
    "    differentiat_dict['dB1'] = dC_dB1\n",
    "    differentiat_dict['dW2'] = dC_dW2\n",
    "    differentiat_dict['dB2'] = dC_dB2\n",
    "    differentiat_dict['dW3'] = dC_dW3\n",
    "    differentiat_dict['dB3'] = dC_dB3\n",
    "\n",
    "    return differentiat_dict\n",
    "\n",
    "differentiat_dict_softmax = back_prop_softmax(dict_of_weights_softmax, dict_of_FP_values_softmax, one_hot_y_train, x_train_flat)"
   ]
  },
  {
   "cell_type": "code",
   "execution_count": 510,
   "metadata": {},
   "outputs": [
    {
     "output_type": "execute_result",
     "data": {
      "text/plain": [
       "600000"
      ]
     },
     "metadata": {},
     "execution_count": 510
    }
   ],
   "source": [
    "one_hot_y_train.size"
   ]
  },
  {
   "cell_type": "code",
   "execution_count": 511,
   "metadata": {},
   "outputs": [
    {
     "output_type": "execute_result",
     "data": {
      "text/plain": [
       "-0.8516821609792049"
      ]
     },
     "metadata": {},
     "execution_count": 511
    }
   ],
   "source": [
    "np.sum(differentiat_dict_softmax['dW2'])"
   ]
  },
  {
   "cell_type": "code",
   "execution_count": 526,
   "metadata": {
    "tags": []
   },
   "outputs": [
    {
     "output_type": "stream",
     "name": "stdout",
     "text": [
      "Weights matrices\n",
      "W1 (80, 784)\n",
      "B1 (80, 1)\n",
      "W2 (80, 80)\n",
      "B2 (80, 1)\n",
      "W3 (2, 80)\n",
      "B3 (2, 1)\n",
      "iteration: 0\n",
      "cost: 1.1223749085207957\n",
      "iteration: 10\n",
      "cost: 1.4068859306499448\n",
      "iteration: 20\n",
      "cost: 0.9548705922573397\n",
      "iteration: 30\n",
      "cost: 0.6679425641290209\n",
      "iteration: 40\n",
      "cost: 0.5233022870587428\n",
      "iteration: 50\n",
      "cost: 0.4269249919878206\n",
      "iteration: 60\n",
      "cost: 0.35957468005130366\n",
      "iteration: 70\n",
      "cost: 0.3107103367387199\n",
      "iteration: 80\n",
      "cost: 0.27430106918348474\n",
      "iteration: 90\n",
      "cost: 0.24681208094453694\n",
      "iteration: 100\n",
      "cost: 0.22573158579300898\n",
      "iteration: 110\n",
      "cost: 0.20899023522742685\n",
      "iteration: 120\n",
      "cost: 0.19496756138705001\n",
      "iteration: 130\n",
      "cost: 0.18266306837896162\n",
      "iteration: 140\n",
      "cost: 0.17163858030431478\n",
      "iteration: 150\n",
      "cost: 0.1617434663560522\n",
      "iteration: 160\n",
      "cost: 0.15289862343035443\n",
      "iteration: 170\n",
      "cost: 0.14501807332117375\n",
      "iteration: 180\n",
      "cost: 0.13800189476287503\n",
      "iteration: 190\n",
      "cost: 0.1317465484521595\n",
      "iteration: 200\n",
      "cost: 0.12615375729618264\n",
      "iteration: 210\n",
      "cost: 0.12113505102778536\n",
      "iteration: 220\n",
      "cost: 0.11661316608364497\n",
      "iteration: 230\n",
      "cost: 0.11252174096923194\n",
      "iteration: 240\n",
      "cost: 0.10880425777516498\n",
      "iteration: 250\n",
      "cost: 0.10541274916696272\n",
      "iteration: 260\n",
      "cost: 0.10230652264914616\n",
      "iteration: 270\n",
      "cost: 0.09945100829487617\n",
      "iteration: 280\n",
      "cost: 0.09681676287897913\n",
      "iteration: 290\n",
      "cost: 0.09437862922527658\n"
     ]
    }
   ],
   "source": [
    "##softmax iteration\n",
    "\n",
    "learning_rate = 0.1 #set an arbitrary learning rate... we can iterate and try a few others soon\n",
    "iterations_SM = 300\n",
    "cost_softmax = []\n",
    "dict_of_weights_softmax = init_weights(x_train_flat, 80, 80, 2)\n",
    "\n",
    "for iteration in range(iterations_SM):\n",
    "\n",
    "    dict_of_FP_values_softmax, Cost_softmax = forward_prop_softmax(dict_of_weights_softmax,x_train_2,one_hot_y_train)\n",
    "    cost_softmax.append(Cost_softmax) #add cost to the list.\n",
    "    \n",
    "    #then, do back prop, storing the differentials\n",
    "\n",
    "    differentiat_dict_softmax = back_prop_softmax(dict_of_weights_softmax, dict_of_FP_values_softmax, one_hot_y_train, x_train_2)\n",
    "    #then, do the gradient descent. Nothing stored, the weights just update and we re-use the new values in forward prop.\n",
    "    gradient_descent(learning_rate, dict_of_weights_softmax, differentiat_dict_softmax)\n",
    "    if iteration % 10 == 0:\n",
    "        print(f'iteration: {iteration}\\ncost: {Cost_softmax}')\n"
   ]
  },
  {
   "cell_type": "code",
   "execution_count": 456,
   "metadata": {},
   "outputs": [
    {
     "output_type": "execute_result",
     "data": {
      "text/plain": [
       "-2.3025850929940455"
      ]
     },
     "metadata": {},
     "execution_count": 456
    }
   ],
   "source": [
    "np.log(0./10) #this is what we'd get as a cost if we stuck everything at 0.1 on A3."
   ]
  },
  {
   "cell_type": "code",
   "execution_count": 527,
   "metadata": {},
   "outputs": [
    {
     "output_type": "stream",
     "name": "stderr",
     "text": [
      "/Users/jacoblourie/opt/anaconda3/lib/python3.8/site-packages/seaborn/_decorators.py:36: FutureWarning: Pass the following variables as keyword args: x, y. From version 0.12, the only valid positional argument will be `data`, and passing other arguments without an explicit keyword will result in an error or misinterpretation.\n  warnings.warn(\n"
     ]
    },
    {
     "output_type": "display_data",
     "data": {
      "text/plain": "<Figure size 576x288 with 1 Axes>",
      "image/svg+xml": "<?xml version=\"1.0\" encoding=\"utf-8\" standalone=\"no\"?>\n<!DOCTYPE svg PUBLIC \"-//W3C//DTD SVG 1.1//EN\"\n  \"http://www.w3.org/Graphics/SVG/1.1/DTD/svg11.dtd\">\n<!-- Created with matplotlib (https://matplotlib.org/) -->\n<svg height=\"275.24225pt\" version=\"1.1\" viewBox=\"0 0 496.38575 275.24225\" width=\"496.38575pt\" xmlns=\"http://www.w3.org/2000/svg\" xmlns:xlink=\"http://www.w3.org/1999/xlink\">\n <metadata>\n  <rdf:RDF xmlns:cc=\"http://creativecommons.org/ns#\" xmlns:dc=\"http://purl.org/dc/elements/1.1/\" xmlns:rdf=\"http://www.w3.org/1999/02/22-rdf-syntax-ns#\">\n   <cc:Work>\n    <dc:type rdf:resource=\"http://purl.org/dc/dcmitype/StillImage\"/>\n    <dc:date>2021-05-05T18:39:18.087344</dc:date>\n    <dc:format>image/svg+xml</dc:format>\n    <dc:creator>\n     <cc:Agent>\n      <dc:title>Matplotlib v3.3.2, https://matplotlib.org/</dc:title>\n     </cc:Agent>\n    </dc:creator>\n   </cc:Work>\n  </rdf:RDF>\n </metadata>\n <defs>\n  <style type=\"text/css\">*{stroke-linecap:butt;stroke-linejoin:round;}</style>\n </defs>\n <g id=\"figure_1\">\n  <g id=\"patch_1\">\n   <path d=\"M 0 275.24225 \nL 496.38575 275.24225 \nL 496.38575 0 \nL 0 0 \nz\n\" style=\"fill:none;\"/>\n  </g>\n  <g id=\"axes_1\">\n   <g id=\"patch_2\">\n    <path d=\"M 42.78575 237.9345 \nL 489.18575 237.9345 \nL 489.18575 20.4945 \nL 42.78575 20.4945 \nz\n\" style=\"fill:#ffffff;\"/>\n   </g>\n   <g id=\"matplotlib.axis_1\">\n    <g id=\"xtick_1\">\n     <g id=\"line2d_1\">\n      <defs>\n       <path d=\"M 0 0 \nL 0 4.8 \n\" id=\"m95527e76e1\" style=\"stroke:#000000;\"/>\n      </defs>\n      <g>\n       <use style=\"stroke:#000000;\" x=\"61.719408\" xlink:href=\"#m95527e76e1\" y=\"237.9345\"/>\n      </g>\n     </g>\n     <g id=\"text_1\">\n      <!-- 0 -->\n      <g transform=\"translate(58.919908 252.921125)scale(0.088 -0.088)\">\n       <defs>\n        <path d=\"M 31.78125 66.40625 \nQ 24.171875 66.40625 20.328125 58.90625 \nQ 16.5 51.421875 16.5 36.375 \nQ 16.5 21.390625 20.328125 13.890625 \nQ 24.171875 6.390625 31.78125 6.390625 \nQ 39.453125 6.390625 43.28125 13.890625 \nQ 47.125 21.390625 47.125 36.375 \nQ 47.125 51.421875 43.28125 58.90625 \nQ 39.453125 66.40625 31.78125 66.40625 \nz\nM 31.78125 74.21875 \nQ 44.046875 74.21875 50.515625 64.515625 \nQ 56.984375 54.828125 56.984375 36.375 \nQ 56.984375 17.96875 50.515625 8.265625 \nQ 44.046875 -1.421875 31.78125 -1.421875 \nQ 19.53125 -1.421875 13.0625 8.265625 \nQ 6.59375 17.96875 6.59375 36.375 \nQ 6.59375 54.828125 13.0625 64.515625 \nQ 19.53125 74.21875 31.78125 74.21875 \nz\n\" id=\"DejaVuSans-48\"/>\n       </defs>\n       <use xlink:href=\"#DejaVuSans-48\"/>\n      </g>\n     </g>\n    </g>\n    <g id=\"xtick_2\">\n     <g id=\"line2d_2\">\n      <g>\n       <use style=\"stroke:#000000;\" x=\"129.58198\" xlink:href=\"#m95527e76e1\" y=\"237.9345\"/>\n      </g>\n     </g>\n     <g id=\"text_2\">\n      <!-- 50 -->\n      <g transform=\"translate(123.98298 252.921125)scale(0.088 -0.088)\">\n       <defs>\n        <path d=\"M 10.796875 72.90625 \nL 49.515625 72.90625 \nL 49.515625 64.59375 \nL 19.828125 64.59375 \nL 19.828125 46.734375 \nQ 21.96875 47.46875 24.109375 47.828125 \nQ 26.265625 48.1875 28.421875 48.1875 \nQ 40.625 48.1875 47.75 41.5 \nQ 54.890625 34.8125 54.890625 23.390625 \nQ 54.890625 11.625 47.5625 5.09375 \nQ 40.234375 -1.421875 26.90625 -1.421875 \nQ 22.3125 -1.421875 17.546875 -0.640625 \nQ 12.796875 0.140625 7.71875 1.703125 \nL 7.71875 11.625 \nQ 12.109375 9.234375 16.796875 8.0625 \nQ 21.484375 6.890625 26.703125 6.890625 \nQ 35.15625 6.890625 40.078125 11.328125 \nQ 45.015625 15.765625 45.015625 23.390625 \nQ 45.015625 31 40.078125 35.4375 \nQ 35.15625 39.890625 26.703125 39.890625 \nQ 22.75 39.890625 18.8125 39.015625 \nQ 14.890625 38.140625 10.796875 36.28125 \nz\n\" id=\"DejaVuSans-53\"/>\n       </defs>\n       <use xlink:href=\"#DejaVuSans-53\"/>\n       <use x=\"63.623047\" xlink:href=\"#DejaVuSans-48\"/>\n      </g>\n     </g>\n    </g>\n    <g id=\"xtick_3\">\n     <g id=\"line2d_3\">\n      <g>\n       <use style=\"stroke:#000000;\" x=\"197.444552\" xlink:href=\"#m95527e76e1\" y=\"237.9345\"/>\n      </g>\n     </g>\n     <g id=\"text_3\">\n      <!-- 100 -->\n      <g transform=\"translate(189.046052 252.921125)scale(0.088 -0.088)\">\n       <defs>\n        <path d=\"M 12.40625 8.296875 \nL 28.515625 8.296875 \nL 28.515625 63.921875 \nL 10.984375 60.40625 \nL 10.984375 69.390625 \nL 28.421875 72.90625 \nL 38.28125 72.90625 \nL 38.28125 8.296875 \nL 54.390625 8.296875 \nL 54.390625 0 \nL 12.40625 0 \nz\n\" id=\"DejaVuSans-49\"/>\n       </defs>\n       <use xlink:href=\"#DejaVuSans-49\"/>\n       <use x=\"63.623047\" xlink:href=\"#DejaVuSans-48\"/>\n       <use x=\"127.246094\" xlink:href=\"#DejaVuSans-48\"/>\n      </g>\n     </g>\n    </g>\n    <g id=\"xtick_4\">\n     <g id=\"line2d_4\">\n      <g>\n       <use style=\"stroke:#000000;\" x=\"265.307124\" xlink:href=\"#m95527e76e1\" y=\"237.9345\"/>\n      </g>\n     </g>\n     <g id=\"text_4\">\n      <!-- 150 -->\n      <g transform=\"translate(256.908624 252.921125)scale(0.088 -0.088)\">\n       <use xlink:href=\"#DejaVuSans-49\"/>\n       <use x=\"63.623047\" xlink:href=\"#DejaVuSans-53\"/>\n       <use x=\"127.246094\" xlink:href=\"#DejaVuSans-48\"/>\n      </g>\n     </g>\n    </g>\n    <g id=\"xtick_5\">\n     <g id=\"line2d_5\">\n      <g>\n       <use style=\"stroke:#000000;\" x=\"333.169696\" xlink:href=\"#m95527e76e1\" y=\"237.9345\"/>\n      </g>\n     </g>\n     <g id=\"text_5\">\n      <!-- 200 -->\n      <g transform=\"translate(324.771196 252.921125)scale(0.088 -0.088)\">\n       <defs>\n        <path d=\"M 19.1875 8.296875 \nL 53.609375 8.296875 \nL 53.609375 0 \nL 7.328125 0 \nL 7.328125 8.296875 \nQ 12.9375 14.109375 22.625 23.890625 \nQ 32.328125 33.6875 34.8125 36.53125 \nQ 39.546875 41.84375 41.421875 45.53125 \nQ 43.3125 49.21875 43.3125 52.78125 \nQ 43.3125 58.59375 39.234375 62.25 \nQ 35.15625 65.921875 28.609375 65.921875 \nQ 23.96875 65.921875 18.8125 64.3125 \nQ 13.671875 62.703125 7.8125 59.421875 \nL 7.8125 69.390625 \nQ 13.765625 71.78125 18.9375 73 \nQ 24.125 74.21875 28.421875 74.21875 \nQ 39.75 74.21875 46.484375 68.546875 \nQ 53.21875 62.890625 53.21875 53.421875 \nQ 53.21875 48.921875 51.53125 44.890625 \nQ 49.859375 40.875 45.40625 35.40625 \nQ 44.1875 33.984375 37.640625 27.21875 \nQ 31.109375 20.453125 19.1875 8.296875 \nz\n\" id=\"DejaVuSans-50\"/>\n       </defs>\n       <use xlink:href=\"#DejaVuSans-50\"/>\n       <use x=\"63.623047\" xlink:href=\"#DejaVuSans-48\"/>\n       <use x=\"127.246094\" xlink:href=\"#DejaVuSans-48\"/>\n      </g>\n     </g>\n    </g>\n    <g id=\"xtick_6\">\n     <g id=\"line2d_6\">\n      <g>\n       <use style=\"stroke:#000000;\" x=\"401.032269\" xlink:href=\"#m95527e76e1\" y=\"237.9345\"/>\n      </g>\n     </g>\n     <g id=\"text_6\">\n      <!-- 250 -->\n      <g transform=\"translate(392.633769 252.921125)scale(0.088 -0.088)\">\n       <use xlink:href=\"#DejaVuSans-50\"/>\n       <use x=\"63.623047\" xlink:href=\"#DejaVuSans-53\"/>\n       <use x=\"127.246094\" xlink:href=\"#DejaVuSans-48\"/>\n      </g>\n     </g>\n    </g>\n    <g id=\"xtick_7\">\n     <g id=\"line2d_7\">\n      <g>\n       <use style=\"stroke:#000000;\" x=\"468.894841\" xlink:href=\"#m95527e76e1\" y=\"237.9345\"/>\n      </g>\n     </g>\n     <g id=\"text_7\">\n      <!-- 300 -->\n      <g transform=\"translate(460.496341 252.921125)scale(0.088 -0.088)\">\n       <defs>\n        <path d=\"M 40.578125 39.3125 \nQ 47.65625 37.796875 51.625 33 \nQ 55.609375 28.21875 55.609375 21.1875 \nQ 55.609375 10.40625 48.1875 4.484375 \nQ 40.765625 -1.421875 27.09375 -1.421875 \nQ 22.515625 -1.421875 17.65625 -0.515625 \nQ 12.796875 0.390625 7.625 2.203125 \nL 7.625 11.71875 \nQ 11.71875 9.328125 16.59375 8.109375 \nQ 21.484375 6.890625 26.8125 6.890625 \nQ 36.078125 6.890625 40.9375 10.546875 \nQ 45.796875 14.203125 45.796875 21.1875 \nQ 45.796875 27.640625 41.28125 31.265625 \nQ 36.765625 34.90625 28.71875 34.90625 \nL 20.21875 34.90625 \nL 20.21875 43.015625 \nL 29.109375 43.015625 \nQ 36.375 43.015625 40.234375 45.921875 \nQ 44.09375 48.828125 44.09375 54.296875 \nQ 44.09375 59.90625 40.109375 62.90625 \nQ 36.140625 65.921875 28.71875 65.921875 \nQ 24.65625 65.921875 20.015625 65.03125 \nQ 15.375 64.15625 9.8125 62.3125 \nL 9.8125 71.09375 \nQ 15.4375 72.65625 20.34375 73.4375 \nQ 25.25 74.21875 29.59375 74.21875 \nQ 40.828125 74.21875 47.359375 69.109375 \nQ 53.90625 64.015625 53.90625 55.328125 \nQ 53.90625 49.265625 50.4375 45.09375 \nQ 46.96875 40.921875 40.578125 39.3125 \nz\n\" id=\"DejaVuSans-51\"/>\n       </defs>\n       <use xlink:href=\"#DejaVuSans-51\"/>\n       <use x=\"63.623047\" xlink:href=\"#DejaVuSans-48\"/>\n       <use x=\"127.246094\" xlink:href=\"#DejaVuSans-48\"/>\n      </g>\n     </g>\n    </g>\n    <g id=\"text_8\">\n     <!-- iteration -->\n     <g transform=\"translate(245.708 266.04575)scale(0.096 -0.096)\">\n      <defs>\n       <path d=\"M 9.421875 54.6875 \nL 18.40625 54.6875 \nL 18.40625 0 \nL 9.421875 0 \nz\nM 9.421875 75.984375 \nL 18.40625 75.984375 \nL 18.40625 64.59375 \nL 9.421875 64.59375 \nz\n\" id=\"DejaVuSans-105\"/>\n       <path d=\"M 18.3125 70.21875 \nL 18.3125 54.6875 \nL 36.8125 54.6875 \nL 36.8125 47.703125 \nL 18.3125 47.703125 \nL 18.3125 18.015625 \nQ 18.3125 11.328125 20.140625 9.421875 \nQ 21.96875 7.515625 27.59375 7.515625 \nL 36.8125 7.515625 \nL 36.8125 0 \nL 27.59375 0 \nQ 17.1875 0 13.234375 3.875 \nQ 9.28125 7.765625 9.28125 18.015625 \nL 9.28125 47.703125 \nL 2.6875 47.703125 \nL 2.6875 54.6875 \nL 9.28125 54.6875 \nL 9.28125 70.21875 \nz\n\" id=\"DejaVuSans-116\"/>\n       <path d=\"M 56.203125 29.59375 \nL 56.203125 25.203125 \nL 14.890625 25.203125 \nQ 15.484375 15.921875 20.484375 11.0625 \nQ 25.484375 6.203125 34.421875 6.203125 \nQ 39.59375 6.203125 44.453125 7.46875 \nQ 49.3125 8.734375 54.109375 11.28125 \nL 54.109375 2.78125 \nQ 49.265625 0.734375 44.1875 -0.34375 \nQ 39.109375 -1.421875 33.890625 -1.421875 \nQ 20.796875 -1.421875 13.15625 6.1875 \nQ 5.515625 13.8125 5.515625 26.8125 \nQ 5.515625 40.234375 12.765625 48.109375 \nQ 20.015625 56 32.328125 56 \nQ 43.359375 56 49.78125 48.890625 \nQ 56.203125 41.796875 56.203125 29.59375 \nz\nM 47.21875 32.234375 \nQ 47.125 39.59375 43.09375 43.984375 \nQ 39.0625 48.390625 32.421875 48.390625 \nQ 24.90625 48.390625 20.390625 44.140625 \nQ 15.875 39.890625 15.1875 32.171875 \nz\n\" id=\"DejaVuSans-101\"/>\n       <path d=\"M 41.109375 46.296875 \nQ 39.59375 47.171875 37.8125 47.578125 \nQ 36.03125 48 33.890625 48 \nQ 26.265625 48 22.1875 43.046875 \nQ 18.109375 38.09375 18.109375 28.8125 \nL 18.109375 0 \nL 9.078125 0 \nL 9.078125 54.6875 \nL 18.109375 54.6875 \nL 18.109375 46.1875 \nQ 20.953125 51.171875 25.484375 53.578125 \nQ 30.03125 56 36.53125 56 \nQ 37.453125 56 38.578125 55.875 \nQ 39.703125 55.765625 41.0625 55.515625 \nz\n\" id=\"DejaVuSans-114\"/>\n       <path d=\"M 34.28125 27.484375 \nQ 23.390625 27.484375 19.1875 25 \nQ 14.984375 22.515625 14.984375 16.5 \nQ 14.984375 11.71875 18.140625 8.90625 \nQ 21.296875 6.109375 26.703125 6.109375 \nQ 34.1875 6.109375 38.703125 11.40625 \nQ 43.21875 16.703125 43.21875 25.484375 \nL 43.21875 27.484375 \nz\nM 52.203125 31.203125 \nL 52.203125 0 \nL 43.21875 0 \nL 43.21875 8.296875 \nQ 40.140625 3.328125 35.546875 0.953125 \nQ 30.953125 -1.421875 24.3125 -1.421875 \nQ 15.921875 -1.421875 10.953125 3.296875 \nQ 6 8.015625 6 15.921875 \nQ 6 25.140625 12.171875 29.828125 \nQ 18.359375 34.515625 30.609375 34.515625 \nL 43.21875 34.515625 \nL 43.21875 35.40625 \nQ 43.21875 41.609375 39.140625 45 \nQ 35.0625 48.390625 27.6875 48.390625 \nQ 23 48.390625 18.546875 47.265625 \nQ 14.109375 46.140625 10.015625 43.890625 \nL 10.015625 52.203125 \nQ 14.9375 54.109375 19.578125 55.046875 \nQ 24.21875 56 28.609375 56 \nQ 40.484375 56 46.34375 49.84375 \nQ 52.203125 43.703125 52.203125 31.203125 \nz\n\" id=\"DejaVuSans-97\"/>\n       <path d=\"M 30.609375 48.390625 \nQ 23.390625 48.390625 19.1875 42.75 \nQ 14.984375 37.109375 14.984375 27.296875 \nQ 14.984375 17.484375 19.15625 11.84375 \nQ 23.34375 6.203125 30.609375 6.203125 \nQ 37.796875 6.203125 41.984375 11.859375 \nQ 46.1875 17.53125 46.1875 27.296875 \nQ 46.1875 37.015625 41.984375 42.703125 \nQ 37.796875 48.390625 30.609375 48.390625 \nz\nM 30.609375 56 \nQ 42.328125 56 49.015625 48.375 \nQ 55.71875 40.765625 55.71875 27.296875 \nQ 55.71875 13.875 49.015625 6.21875 \nQ 42.328125 -1.421875 30.609375 -1.421875 \nQ 18.84375 -1.421875 12.171875 6.21875 \nQ 5.515625 13.875 5.515625 27.296875 \nQ 5.515625 40.765625 12.171875 48.375 \nQ 18.84375 56 30.609375 56 \nz\n\" id=\"DejaVuSans-111\"/>\n       <path d=\"M 54.890625 33.015625 \nL 54.890625 0 \nL 45.90625 0 \nL 45.90625 32.71875 \nQ 45.90625 40.484375 42.875 44.328125 \nQ 39.84375 48.1875 33.796875 48.1875 \nQ 26.515625 48.1875 22.3125 43.546875 \nQ 18.109375 38.921875 18.109375 30.90625 \nL 18.109375 0 \nL 9.078125 0 \nL 9.078125 54.6875 \nL 18.109375 54.6875 \nL 18.109375 46.1875 \nQ 21.34375 51.125 25.703125 53.5625 \nQ 30.078125 56 35.796875 56 \nQ 45.21875 56 50.046875 50.171875 \nQ 54.890625 44.34375 54.890625 33.015625 \nz\n\" id=\"DejaVuSans-110\"/>\n      </defs>\n      <use xlink:href=\"#DejaVuSans-105\"/>\n      <use x=\"27.783203\" xlink:href=\"#DejaVuSans-116\"/>\n      <use x=\"66.992188\" xlink:href=\"#DejaVuSans-101\"/>\n      <use x=\"128.515625\" xlink:href=\"#DejaVuSans-114\"/>\n      <use x=\"169.628906\" xlink:href=\"#DejaVuSans-97\"/>\n      <use x=\"230.908203\" xlink:href=\"#DejaVuSans-116\"/>\n      <use x=\"270.117188\" xlink:href=\"#DejaVuSans-105\"/>\n      <use x=\"297.900391\" xlink:href=\"#DejaVuSans-111\"/>\n      <use x=\"359.082031\" xlink:href=\"#DejaVuSans-110\"/>\n     </g>\n    </g>\n   </g>\n   <g id=\"matplotlib.axis_2\">\n    <g id=\"ytick_1\">\n     <g id=\"line2d_8\">\n      <defs>\n       <path d=\"M 0 0 \nL -4.8 0 \n\" id=\"m79224a1014\" style=\"stroke:#000000;\"/>\n      </defs>\n      <g>\n       <use style=\"stroke:#000000;\" x=\"42.78575\" xlink:href=\"#m79224a1014\" y=\"212.623233\"/>\n      </g>\n     </g>\n     <g id=\"text_9\">\n      <!-- 0.2 -->\n      <g transform=\"translate(20.491 215.966546)scale(0.088 -0.088)\">\n       <defs>\n        <path d=\"M 10.6875 12.40625 \nL 21 12.40625 \nL 21 0 \nL 10.6875 0 \nz\n\" id=\"DejaVuSans-46\"/>\n       </defs>\n       <use xlink:href=\"#DejaVuSans-48\"/>\n       <use x=\"63.623047\" xlink:href=\"#DejaVuSans-46\"/>\n       <use x=\"95.410156\" xlink:href=\"#DejaVuSans-50\"/>\n      </g>\n     </g>\n    </g>\n    <g id=\"ytick_2\">\n     <g id=\"line2d_9\">\n      <g>\n       <use style=\"stroke:#000000;\" x=\"42.78575\" xlink:href=\"#m79224a1014\" y=\"183.964895\"/>\n      </g>\n     </g>\n     <g id=\"text_10\">\n      <!-- 0.4 -->\n      <g transform=\"translate(20.491 187.308208)scale(0.088 -0.088)\">\n       <defs>\n        <path d=\"M 37.796875 64.3125 \nL 12.890625 25.390625 \nL 37.796875 25.390625 \nz\nM 35.203125 72.90625 \nL 47.609375 72.90625 \nL 47.609375 25.390625 \nL 58.015625 25.390625 \nL 58.015625 17.1875 \nL 47.609375 17.1875 \nL 47.609375 0 \nL 37.796875 0 \nL 37.796875 17.1875 \nL 4.890625 17.1875 \nL 4.890625 26.703125 \nz\n\" id=\"DejaVuSans-52\"/>\n       </defs>\n       <use xlink:href=\"#DejaVuSans-48\"/>\n       <use x=\"63.623047\" xlink:href=\"#DejaVuSans-46\"/>\n       <use x=\"95.410156\" xlink:href=\"#DejaVuSans-52\"/>\n      </g>\n     </g>\n    </g>\n    <g id=\"ytick_3\">\n     <g id=\"line2d_10\">\n      <g>\n       <use style=\"stroke:#000000;\" x=\"42.78575\" xlink:href=\"#m79224a1014\" y=\"155.306557\"/>\n      </g>\n     </g>\n     <g id=\"text_11\">\n      <!-- 0.6 -->\n      <g transform=\"translate(20.491 158.649869)scale(0.088 -0.088)\">\n       <defs>\n        <path d=\"M 33.015625 40.375 \nQ 26.375 40.375 22.484375 35.828125 \nQ 18.609375 31.296875 18.609375 23.390625 \nQ 18.609375 15.53125 22.484375 10.953125 \nQ 26.375 6.390625 33.015625 6.390625 \nQ 39.65625 6.390625 43.53125 10.953125 \nQ 47.40625 15.53125 47.40625 23.390625 \nQ 47.40625 31.296875 43.53125 35.828125 \nQ 39.65625 40.375 33.015625 40.375 \nz\nM 52.59375 71.296875 \nL 52.59375 62.3125 \nQ 48.875 64.0625 45.09375 64.984375 \nQ 41.3125 65.921875 37.59375 65.921875 \nQ 27.828125 65.921875 22.671875 59.328125 \nQ 17.53125 52.734375 16.796875 39.40625 \nQ 19.671875 43.65625 24.015625 45.921875 \nQ 28.375 48.1875 33.59375 48.1875 \nQ 44.578125 48.1875 50.953125 41.515625 \nQ 57.328125 34.859375 57.328125 23.390625 \nQ 57.328125 12.15625 50.6875 5.359375 \nQ 44.046875 -1.421875 33.015625 -1.421875 \nQ 20.359375 -1.421875 13.671875 8.265625 \nQ 6.984375 17.96875 6.984375 36.375 \nQ 6.984375 53.65625 15.1875 63.9375 \nQ 23.390625 74.21875 37.203125 74.21875 \nQ 40.921875 74.21875 44.703125 73.484375 \nQ 48.484375 72.75 52.59375 71.296875 \nz\n\" id=\"DejaVuSans-54\"/>\n       </defs>\n       <use xlink:href=\"#DejaVuSans-48\"/>\n       <use x=\"63.623047\" xlink:href=\"#DejaVuSans-46\"/>\n       <use x=\"95.410156\" xlink:href=\"#DejaVuSans-54\"/>\n      </g>\n     </g>\n    </g>\n    <g id=\"ytick_4\">\n     <g id=\"line2d_11\">\n      <g>\n       <use style=\"stroke:#000000;\" x=\"42.78575\" xlink:href=\"#m79224a1014\" y=\"126.648219\"/>\n      </g>\n     </g>\n     <g id=\"text_12\">\n      <!-- 0.8 -->\n      <g transform=\"translate(20.491 129.991531)scale(0.088 -0.088)\">\n       <defs>\n        <path d=\"M 31.78125 34.625 \nQ 24.75 34.625 20.71875 30.859375 \nQ 16.703125 27.09375 16.703125 20.515625 \nQ 16.703125 13.921875 20.71875 10.15625 \nQ 24.75 6.390625 31.78125 6.390625 \nQ 38.8125 6.390625 42.859375 10.171875 \nQ 46.921875 13.96875 46.921875 20.515625 \nQ 46.921875 27.09375 42.890625 30.859375 \nQ 38.875 34.625 31.78125 34.625 \nz\nM 21.921875 38.8125 \nQ 15.578125 40.375 12.03125 44.71875 \nQ 8.5 49.078125 8.5 55.328125 \nQ 8.5 64.0625 14.71875 69.140625 \nQ 20.953125 74.21875 31.78125 74.21875 \nQ 42.671875 74.21875 48.875 69.140625 \nQ 55.078125 64.0625 55.078125 55.328125 \nQ 55.078125 49.078125 51.53125 44.71875 \nQ 48 40.375 41.703125 38.8125 \nQ 48.828125 37.15625 52.796875 32.3125 \nQ 56.78125 27.484375 56.78125 20.515625 \nQ 56.78125 9.90625 50.3125 4.234375 \nQ 43.84375 -1.421875 31.78125 -1.421875 \nQ 19.734375 -1.421875 13.25 4.234375 \nQ 6.78125 9.90625 6.78125 20.515625 \nQ 6.78125 27.484375 10.78125 32.3125 \nQ 14.796875 37.15625 21.921875 38.8125 \nz\nM 18.3125 54.390625 \nQ 18.3125 48.734375 21.84375 45.5625 \nQ 25.390625 42.390625 31.78125 42.390625 \nQ 38.140625 42.390625 41.71875 45.5625 \nQ 45.3125 48.734375 45.3125 54.390625 \nQ 45.3125 60.0625 41.71875 63.234375 \nQ 38.140625 66.40625 31.78125 66.40625 \nQ 25.390625 66.40625 21.84375 63.234375 \nQ 18.3125 60.0625 18.3125 54.390625 \nz\n\" id=\"DejaVuSans-56\"/>\n       </defs>\n       <use xlink:href=\"#DejaVuSans-48\"/>\n       <use x=\"63.623047\" xlink:href=\"#DejaVuSans-46\"/>\n       <use x=\"95.410156\" xlink:href=\"#DejaVuSans-56\"/>\n      </g>\n     </g>\n    </g>\n    <g id=\"ytick_5\">\n     <g id=\"line2d_12\">\n      <g>\n       <use style=\"stroke:#000000;\" x=\"42.78575\" xlink:href=\"#m79224a1014\" y=\"97.989881\"/>\n      </g>\n     </g>\n     <g id=\"text_13\">\n      <!-- 1.0 -->\n      <g transform=\"translate(20.491 101.333193)scale(0.088 -0.088)\">\n       <use xlink:href=\"#DejaVuSans-49\"/>\n       <use x=\"63.623047\" xlink:href=\"#DejaVuSans-46\"/>\n       <use x=\"95.410156\" xlink:href=\"#DejaVuSans-48\"/>\n      </g>\n     </g>\n    </g>\n    <g id=\"ytick_6\">\n     <g id=\"line2d_13\">\n      <g>\n       <use style=\"stroke:#000000;\" x=\"42.78575\" xlink:href=\"#m79224a1014\" y=\"69.331542\"/>\n      </g>\n     </g>\n     <g id=\"text_14\">\n      <!-- 1.2 -->\n      <g transform=\"translate(20.491 72.674855)scale(0.088 -0.088)\">\n       <use xlink:href=\"#DejaVuSans-49\"/>\n       <use x=\"63.623047\" xlink:href=\"#DejaVuSans-46\"/>\n       <use x=\"95.410156\" xlink:href=\"#DejaVuSans-50\"/>\n      </g>\n     </g>\n    </g>\n    <g id=\"ytick_7\">\n     <g id=\"line2d_14\">\n      <g>\n       <use style=\"stroke:#000000;\" x=\"42.78575\" xlink:href=\"#m79224a1014\" y=\"40.673204\"/>\n      </g>\n     </g>\n     <g id=\"text_15\">\n      <!-- 1.4 -->\n      <g transform=\"translate(20.491 44.016517)scale(0.088 -0.088)\">\n       <use xlink:href=\"#DejaVuSans-49\"/>\n       <use x=\"63.623047\" xlink:href=\"#DejaVuSans-46\"/>\n       <use x=\"95.410156\" xlink:href=\"#DejaVuSans-52\"/>\n      </g>\n     </g>\n    </g>\n    <g id=\"text_16\">\n     <!-- Cost function -->\n     <g transform=\"translate(14.4945 161.01825)rotate(-90)scale(0.096 -0.096)\">\n      <defs>\n       <path d=\"M 64.40625 67.28125 \nL 64.40625 56.890625 \nQ 59.421875 61.53125 53.78125 63.8125 \nQ 48.140625 66.109375 41.796875 66.109375 \nQ 29.296875 66.109375 22.65625 58.46875 \nQ 16.015625 50.828125 16.015625 36.375 \nQ 16.015625 21.96875 22.65625 14.328125 \nQ 29.296875 6.6875 41.796875 6.6875 \nQ 48.140625 6.6875 53.78125 8.984375 \nQ 59.421875 11.28125 64.40625 15.921875 \nL 64.40625 5.609375 \nQ 59.234375 2.09375 53.4375 0.328125 \nQ 47.65625 -1.421875 41.21875 -1.421875 \nQ 24.65625 -1.421875 15.125 8.703125 \nQ 5.609375 18.84375 5.609375 36.375 \nQ 5.609375 53.953125 15.125 64.078125 \nQ 24.65625 74.21875 41.21875 74.21875 \nQ 47.75 74.21875 53.53125 72.484375 \nQ 59.328125 70.75 64.40625 67.28125 \nz\n\" id=\"DejaVuSans-67\"/>\n       <path d=\"M 44.28125 53.078125 \nL 44.28125 44.578125 \nQ 40.484375 46.53125 36.375 47.5 \nQ 32.28125 48.484375 27.875 48.484375 \nQ 21.1875 48.484375 17.84375 46.4375 \nQ 14.5 44.390625 14.5 40.28125 \nQ 14.5 37.15625 16.890625 35.375 \nQ 19.28125 33.59375 26.515625 31.984375 \nL 29.59375 31.296875 \nQ 39.15625 29.25 43.1875 25.515625 \nQ 47.21875 21.78125 47.21875 15.09375 \nQ 47.21875 7.46875 41.1875 3.015625 \nQ 35.15625 -1.421875 24.609375 -1.421875 \nQ 20.21875 -1.421875 15.453125 -0.5625 \nQ 10.6875 0.296875 5.421875 2 \nL 5.421875 11.28125 \nQ 10.40625 8.6875 15.234375 7.390625 \nQ 20.0625 6.109375 24.8125 6.109375 \nQ 31.15625 6.109375 34.5625 8.28125 \nQ 37.984375 10.453125 37.984375 14.40625 \nQ 37.984375 18.0625 35.515625 20.015625 \nQ 33.0625 21.96875 24.703125 23.78125 \nL 21.578125 24.515625 \nQ 13.234375 26.265625 9.515625 29.90625 \nQ 5.8125 33.546875 5.8125 39.890625 \nQ 5.8125 47.609375 11.28125 51.796875 \nQ 16.75 56 26.8125 56 \nQ 31.78125 56 36.171875 55.265625 \nQ 40.578125 54.546875 44.28125 53.078125 \nz\n\" id=\"DejaVuSans-115\"/>\n       <path id=\"DejaVuSans-32\"/>\n       <path d=\"M 37.109375 75.984375 \nL 37.109375 68.5 \nL 28.515625 68.5 \nQ 23.6875 68.5 21.796875 66.546875 \nQ 19.921875 64.59375 19.921875 59.515625 \nL 19.921875 54.6875 \nL 34.71875 54.6875 \nL 34.71875 47.703125 \nL 19.921875 47.703125 \nL 19.921875 0 \nL 10.890625 0 \nL 10.890625 47.703125 \nL 2.296875 47.703125 \nL 2.296875 54.6875 \nL 10.890625 54.6875 \nL 10.890625 58.5 \nQ 10.890625 67.625 15.140625 71.796875 \nQ 19.390625 75.984375 28.609375 75.984375 \nz\n\" id=\"DejaVuSans-102\"/>\n       <path d=\"M 8.5 21.578125 \nL 8.5 54.6875 \nL 17.484375 54.6875 \nL 17.484375 21.921875 \nQ 17.484375 14.15625 20.5 10.265625 \nQ 23.53125 6.390625 29.59375 6.390625 \nQ 36.859375 6.390625 41.078125 11.03125 \nQ 45.3125 15.671875 45.3125 23.6875 \nL 45.3125 54.6875 \nL 54.296875 54.6875 \nL 54.296875 0 \nL 45.3125 0 \nL 45.3125 8.40625 \nQ 42.046875 3.421875 37.71875 1 \nQ 33.40625 -1.421875 27.6875 -1.421875 \nQ 18.265625 -1.421875 13.375 4.4375 \nQ 8.5 10.296875 8.5 21.578125 \nz\nM 31.109375 56 \nz\n\" id=\"DejaVuSans-117\"/>\n       <path d=\"M 48.78125 52.59375 \nL 48.78125 44.1875 \nQ 44.96875 46.296875 41.140625 47.34375 \nQ 37.3125 48.390625 33.40625 48.390625 \nQ 24.65625 48.390625 19.8125 42.84375 \nQ 14.984375 37.3125 14.984375 27.296875 \nQ 14.984375 17.28125 19.8125 11.734375 \nQ 24.65625 6.203125 33.40625 6.203125 \nQ 37.3125 6.203125 41.140625 7.25 \nQ 44.96875 8.296875 48.78125 10.40625 \nL 48.78125 2.09375 \nQ 45.015625 0.34375 40.984375 -0.53125 \nQ 36.96875 -1.421875 32.421875 -1.421875 \nQ 20.0625 -1.421875 12.78125 6.34375 \nQ 5.515625 14.109375 5.515625 27.296875 \nQ 5.515625 40.671875 12.859375 48.328125 \nQ 20.21875 56 33.015625 56 \nQ 37.15625 56 41.109375 55.140625 \nQ 45.0625 54.296875 48.78125 52.59375 \nz\n\" id=\"DejaVuSans-99\"/>\n      </defs>\n      <use xlink:href=\"#DejaVuSans-67\"/>\n      <use x=\"69.824219\" xlink:href=\"#DejaVuSans-111\"/>\n      <use x=\"131.005859\" xlink:href=\"#DejaVuSans-115\"/>\n      <use x=\"183.105469\" xlink:href=\"#DejaVuSans-116\"/>\n      <use x=\"222.314453\" xlink:href=\"#DejaVuSans-32\"/>\n      <use x=\"254.101562\" xlink:href=\"#DejaVuSans-102\"/>\n      <use x=\"289.306641\" xlink:href=\"#DejaVuSans-117\"/>\n      <use x=\"352.685547\" xlink:href=\"#DejaVuSans-110\"/>\n      <use x=\"416.064453\" xlink:href=\"#DejaVuSans-99\"/>\n      <use x=\"471.044922\" xlink:href=\"#DejaVuSans-116\"/>\n      <use x=\"510.253906\" xlink:href=\"#DejaVuSans-105\"/>\n      <use x=\"538.037109\" xlink:href=\"#DejaVuSans-111\"/>\n      <use x=\"599.21875\" xlink:href=\"#DejaVuSans-110\"/>\n     </g>\n    </g>\n   </g>\n   <g id=\"line2d_15\">\n    <path clip-path=\"url(#p85b1ba3c8f)\" d=\"M 63.076659 80.454573 \nL 64.433911 74.983814 \nL 65.791162 68.084983 \nL 67.148413 58.832179 \nL 68.505665 48.072352 \nL 69.862916 38.235058 \nL 71.220168 31.986952 \nL 72.577419 30.378136 \nL 73.934671 32.14822 \nL 75.291922 35.51365 \nL 76.649174 39.686507 \nL 78.006425 44.510752 \nL 79.363676 49.892469 \nL 82.078179 62.015164 \nL 84.792682 75.7257 \nL 90.221688 104.45655 \nL 91.578939 110.723951 \nL 92.936191 116.367554 \nL 94.293442 121.403732 \nL 95.650694 125.897193 \nL 97.007945 129.929903 \nL 99.722448 136.92159 \nL 102.436951 142.877398 \nL 105.151454 148.111987 \nL 107.865957 152.810751 \nL 110.58046 157.083404 \nL 113.294963 160.998195 \nL 116.009465 164.601179 \nL 118.723968 167.926461 \nL 121.438471 171.001452 \nL 125.510226 175.194937 \nL 129.58198 178.94501 \nL 133.653734 182.309703 \nL 137.725489 185.339137 \nL 141.797243 188.07647 \nL 145.868997 190.558526 \nL 149.940752 192.816395 \nL 155.369757 195.522499 \nL 160.798763 197.92594 \nL 166.227769 200.066479 \nL 171.656775 201.976508 \nL 177.08578 203.683458 \nL 183.872038 205.568222 \nL 190.658295 207.216136 \nL 198.801804 208.936111 \nL 206.945312 210.433423 \nL 216.446072 211.970342 \nL 228.661335 213.713709 \nL 243.591101 215.599231 \nL 259.878119 217.415622 \nL 276.165136 219.007369 \nL 293.809405 220.501687 \nL 312.810925 221.87785 \nL 333.169696 223.128545 \nL 356.242971 224.320595 \nL 382.030748 225.430725 \nL 411.89028 226.49235 \nL 447.178818 227.516144 \nL 468.894841 228.050864 \nL 468.894841 228.050864 \n\" style=\"fill:none;stroke:#1f77b4;stroke-linecap:square;stroke-width:1.2;\"/>\n   </g>\n   <g id=\"patch_3\">\n    <path d=\"M 42.78575 237.9345 \nL 42.78575 20.4945 \n\" style=\"fill:none;stroke:#000000;stroke-linecap:square;stroke-linejoin:miter;\"/>\n   </g>\n   <g id=\"patch_4\">\n    <path d=\"M 489.18575 237.9345 \nL 489.18575 20.4945 \n\" style=\"fill:none;stroke:#000000;stroke-linecap:square;stroke-linejoin:miter;\"/>\n   </g>\n   <g id=\"patch_5\">\n    <path d=\"M 42.78575 237.9345 \nL 489.18575 237.9345 \n\" style=\"fill:none;stroke:#000000;stroke-linecap:square;stroke-linejoin:miter;\"/>\n   </g>\n   <g id=\"patch_6\">\n    <path d=\"M 42.78575 20.4945 \nL 489.18575 20.4945 \n\" style=\"fill:none;stroke:#000000;stroke-linecap:square;stroke-linejoin:miter;\"/>\n   </g>\n   <g id=\"text_17\">\n    <!-- cost over time -->\n    <g transform=\"translate(231.42725 14.4945)scale(0.096 -0.096)\">\n     <defs>\n      <path d=\"M 2.984375 54.6875 \nL 12.5 54.6875 \nL 29.59375 8.796875 \nL 46.6875 54.6875 \nL 56.203125 54.6875 \nL 35.6875 0 \nL 23.484375 0 \nz\n\" id=\"DejaVuSans-118\"/>\n      <path d=\"M 52 44.1875 \nQ 55.375 50.25 60.0625 53.125 \nQ 64.75 56 71.09375 56 \nQ 79.640625 56 84.28125 50.015625 \nQ 88.921875 44.046875 88.921875 33.015625 \nL 88.921875 0 \nL 79.890625 0 \nL 79.890625 32.71875 \nQ 79.890625 40.578125 77.09375 44.375 \nQ 74.3125 48.1875 68.609375 48.1875 \nQ 61.625 48.1875 57.5625 43.546875 \nQ 53.515625 38.921875 53.515625 30.90625 \nL 53.515625 0 \nL 44.484375 0 \nL 44.484375 32.71875 \nQ 44.484375 40.625 41.703125 44.40625 \nQ 38.921875 48.1875 33.109375 48.1875 \nQ 26.21875 48.1875 22.15625 43.53125 \nQ 18.109375 38.875 18.109375 30.90625 \nL 18.109375 0 \nL 9.078125 0 \nL 9.078125 54.6875 \nL 18.109375 54.6875 \nL 18.109375 46.1875 \nQ 21.1875 51.21875 25.484375 53.609375 \nQ 29.78125 56 35.6875 56 \nQ 41.65625 56 45.828125 52.96875 \nQ 50 49.953125 52 44.1875 \nz\n\" id=\"DejaVuSans-109\"/>\n     </defs>\n     <use xlink:href=\"#DejaVuSans-99\"/>\n     <use x=\"54.980469\" xlink:href=\"#DejaVuSans-111\"/>\n     <use x=\"116.162109\" xlink:href=\"#DejaVuSans-115\"/>\n     <use x=\"168.261719\" xlink:href=\"#DejaVuSans-116\"/>\n     <use x=\"207.470703\" xlink:href=\"#DejaVuSans-32\"/>\n     <use x=\"239.257812\" xlink:href=\"#DejaVuSans-111\"/>\n     <use x=\"300.439453\" xlink:href=\"#DejaVuSans-118\"/>\n     <use x=\"359.619141\" xlink:href=\"#DejaVuSans-101\"/>\n     <use x=\"421.142578\" xlink:href=\"#DejaVuSans-114\"/>\n     <use x=\"462.255859\" xlink:href=\"#DejaVuSans-32\"/>\n     <use x=\"494.042969\" xlink:href=\"#DejaVuSans-116\"/>\n     <use x=\"533.251953\" xlink:href=\"#DejaVuSans-105\"/>\n     <use x=\"561.035156\" xlink:href=\"#DejaVuSans-109\"/>\n     <use x=\"658.447266\" xlink:href=\"#DejaVuSans-101\"/>\n    </g>\n   </g>\n  </g>\n </g>\n <defs>\n  <clipPath id=\"p85b1ba3c8f\">\n   <rect height=\"217.44\" width=\"446.4\" x=\"42.78575\" y=\"20.4945\"/>\n  </clipPath>\n </defs>\n</svg>\n",
      "image/png": "[encoded data removed]"
     },
     "metadata": {
      "needs_background": "light"
     }
    }
   ],
   "source": [
    "sns.set_context('paper')\n",
    "fig = plt.figure(figsize=(8,4))\n",
    "ax = sns.lineplot(np.linspace(1,iterations_SM,iterations_SM),cost_softmax)\n",
    "ax.set_title('cost over time')\n",
    "ax.set_ylabel('Cost function')\n",
    "ax.set_xlabel('iteration')\n",
    "plt.show()"
   ]
  },
  {
   "source": [
    "Alright, does it predict things correctly?"
   ],
   "cell_type": "markdown",
   "metadata": {}
  },
  {
   "cell_type": "code",
   "execution_count": 528,
   "metadata": {},
   "outputs": [
    {
     "output_type": "execute_result",
     "data": {
      "text/plain": [
       "      0         1         2         3         4        5         6      \\\n",
       "0  0.997152  0.016499  0.025008  0.002055  0.031833  0.99897  0.076171   \n",
       "1  0.002848  0.983501  0.974992  0.997945  0.968167  0.00103  0.923829   \n",
       "\n",
       "      7         8         9      ...     12655     12656     12657     12658  \\\n",
       "0  0.821965  0.999794  0.999644  ...  0.846869  0.771639  0.124904  0.004924   \n",
       "1  0.178035  0.000206  0.000356  ...  0.153131  0.228361  0.875096  0.995076   \n",
       "\n",
       "      12659     12660     12661    12662     12663     12664  \n",
       "0  0.666298  0.958971  0.021422  0.00761  0.999643  0.027542  \n",
       "1  0.333702  0.041029  0.978578  0.99239  0.000357  0.972458  \n",
       "\n",
       "[2 rows x 12665 columns]"
      ],
      "text/html": "<div>\n<style scoped>\n    .dataframe tbody tr th:only-of-type {\n        vertical-align: middle;\n    }\n\n    .dataframe tbody tr th {\n        vertical-align: top;\n    }\n\n    .dataframe thead th {\n        text-align: right;\n    }\n</style>\n<table border=\"1\" class=\"dataframe\">\n  <thead>\n    <tr style=\"text-align: right;\">\n      <th></th>\n      <th>0</th>\n      <th>1</th>\n      <th>2</th>\n      <th>3</th>\n      <th>4</th>\n      <th>5</th>\n      <th>6</th>\n      <th>7</th>\n      <th>8</th>\n      <th>9</th>\n      <th>...</th>\n      <th>12655</th>\n      <th>12656</th>\n      <th>12657</th>\n      <th>12658</th>\n      <th>12659</th>\n      <th>12660</th>\n      <th>12661</th>\n      <th>12662</th>\n      <th>12663</th>\n      <th>12664</th>\n    </tr>\n  </thead>\n  <tbody>\n    <tr>\n      <th>0</th>\n      <td>0.997152</td>\n      <td>0.016499</td>\n      <td>0.025008</td>\n      <td>0.002055</td>\n      <td>0.031833</td>\n      <td>0.99897</td>\n      <td>0.076171</td>\n      <td>0.821965</td>\n      <td>0.999794</td>\n      <td>0.999644</td>\n      <td>...</td>\n      <td>0.846869</td>\n      <td>0.771639</td>\n      <td>0.124904</td>\n      <td>0.004924</td>\n      <td>0.666298</td>\n      <td>0.958971</td>\n      <td>0.021422</td>\n      <td>0.00761</td>\n      <td>0.999643</td>\n      <td>0.027542</td>\n    </tr>\n    <tr>\n      <th>1</th>\n      <td>0.002848</td>\n      <td>0.983501</td>\n      <td>0.974992</td>\n      <td>0.997945</td>\n      <td>0.968167</td>\n      <td>0.00103</td>\n      <td>0.923829</td>\n      <td>0.178035</td>\n      <td>0.000206</td>\n      <td>0.000356</td>\n      <td>...</td>\n      <td>0.153131</td>\n      <td>0.228361</td>\n      <td>0.875096</td>\n      <td>0.995076</td>\n      <td>0.333702</td>\n      <td>0.041029</td>\n      <td>0.978578</td>\n      <td>0.99239</td>\n      <td>0.000357</td>\n      <td>0.972458</td>\n    </tr>\n  </tbody>\n</table>\n<p>2 rows × 12665 columns</p>\n</div>"
     },
     "metadata": {},
     "execution_count": 528
    }
   ],
   "source": [
    "pd.DataFrame(dict_of_FP_values_softmax['A3'])"
   ]
  },
  {
   "cell_type": "code",
   "execution_count": 529,
   "metadata": {},
   "outputs": [],
   "source": [
    "predictions_softmax = dict_of_FP_values_softmax['A3'].T\n",
    "list_of_predictions = []\n",
    "for row in predictions_softmax:\n",
    "    max = np.amax(row)\n",
    "    for idx,col in enumerate(row):\n",
    "        if col == max:\n",
    "            list_of_predictions.append(idx)\n",
    "            break\n",
    "\n"
   ]
  },
  {
   "cell_type": "code",
   "execution_count": 532,
   "metadata": {},
   "outputs": [
    {
     "output_type": "stream",
     "name": "stdout",
     "text": [
      "[[0 1 1 ... 1 0 1]]\n[0, 1, 1, 1, 1, 0, 1, 0, 0, 0, 1, 0, 0, 1, 0, 1, 1, 0, 1, 1]\n"
     ]
    }
   ],
   "source": [
    "print(y_train_2[0:20])\n",
    "print(list_of_predictions[:20])"
   ]
  },
  {
   "cell_type": "code",
   "execution_count": 534,
   "metadata": {},
   "outputs": [],
   "source": [
    "#ok so we need now to compare the list of predcitions to the y values.list_of_prediction\n",
    "correct = 0\n",
    "incorrect = 0\n",
    "for prediction, true in zip(list_of_predictions,y_train_2[0]):\n",
    "    if prediction == true:\n",
    "        correct +=1\n",
    "    else:\n",
    "        incorrect +=1 \n"
   ]
  },
  {
   "cell_type": "code",
   "execution_count": 536,
   "metadata": {},
   "outputs": [
    {
     "output_type": "execute_result",
     "data": {
      "text/plain": [
       "12315"
      ]
     },
     "metadata": {},
     "execution_count": 536
    }
   ],
   "source": [
    "correct"
   ]
  },
  {
   "cell_type": "code",
   "execution_count": null,
   "metadata": {},
   "outputs": [],
   "source": [
    "print(5)"
   ]
  },
  {
   "source": [
    "## END OF DOCUMENT\n",
    "\n",
    "Below here are just copy and paste from functions defined above, pasted here for ease of viewing when debugging"
   ],
   "cell_type": "markdown",
   "metadata": {}
  },
  {
   "cell_type": "code",
   "execution_count": null,
   "metadata": {},
   "outputs": [],
   "source": [
    "##just for reference back prop one layer\n",
    "\n",
    "def back_prop_one_layer_from_A_to_previous_A(cost_of_that_A, Z, prev_A,W):    \n",
    "        #going back from A to z\n",
    "        dAn_dZn = np.exp(-Z) / ((1+np.exp(-Z))**2)\n",
    "        dC_dZn = cost_of_that_A * dAn_dZn\n",
    "        \n",
    "        #get diffs at that layer\n",
    "        dZn_dWn = prev_A\n",
    "        dZn_dBn = np.zeros_like(Z) + 1\n",
    "\n",
    "        #combien to get useful differentials\n",
    "        dC_dWn = dC_dZn @ dZn_dWn.T\n",
    "        dC_dBn = np.sum(dC_dZn @ dZn_dBn.T,axis=1,keepdims=True) / dZn_dBn.shape[1]\n",
    "\n",
    "        #and then get the previous layer cost fuctions\n",
    "        dZn_dA_minus_one = W\n",
    "        dC_dA_minus_one = (dC_dZn.T @ dZn_dA_minus_one).T\n",
    "\n",
    "        return dC_dWn, dC_dBn, dC_dZn, dC_dA_minus_one"
   ]
  },
  {
   "cell_type": "code",
   "execution_count": null,
   "metadata": {},
   "outputs": [],
   "source": [
    "##just for reference forwardprop.\n",
    "\n",
    "def sigmoid(x):\n",
    "    return (1/(1+np.exp(-x)))\n",
    "\n",
    "dict_of_FP_values = {}\n",
    "#FORWARD PROPOGATION\n",
    "def sigmoid_forward_prop(previous_a, W, B):\n",
    "    Z = W @ previous_a + B\n",
    "    next_A = sigmoid(Z)\n",
    "    return Z, next_A\n",
    "\n"
   ]
  },
  {
   "cell_type": "code",
   "execution_count": null,
   "metadata": {},
   "outputs": [],
   "source": [
    "#just putting this here for reference / remidner.\n",
    "'''def gradient_descent_softmax(learning_rate, dict_of_weights, differentiat_dict):\n",
    "    \n",
    "    #we have dictionaries for the weights and the differentials, which we should be able to use quite easily here. They are also in order so we can kind of cheat... but let's not \n",
    "    for key, value in dict_of_weights.items():\n",
    "        dict_of_weights[key] += -learning_rate * differentiat_dict[f'd{key}']\n",
    "    \n",
    "    \n",
    "learning_rate = 0.1  #no idea if this is a good learning rate\n",
    "gradient_descent(learning_rate, dict_of_weights, differentiat_dict)'''"
   ]
  }
 ]
}