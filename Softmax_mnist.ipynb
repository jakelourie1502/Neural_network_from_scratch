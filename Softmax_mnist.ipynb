{
 "metadata": {
  "language_info": {
   "codemirror_mode": {
    "name": "ipython",
    "version": 3
   },
   "file_extension": ".py",
   "mimetype": "text/x-python",
   "name": "python",
   "nbconvert_exporter": "python",
   "pygments_lexer": "ipython3",
   "version": "3.8.5"
  },
  "orig_nbformat": 2,
  "kernelspec": {
   "name": "pythonjvsc74a57bd03140f74d8e1d28421ccd34109d4bdb636d1200d25e7dadfa8785402db4096f74",
   "display_name": "Python 3.8.5  ('base': conda)"
  },
  "metadata": {
   "interpreter": {
    "hash": "3140f74d8e1d28421ccd34109d4bdb636d1200d25e7dadfa8785402db4096f74"
   }
  }
 },
 "nbformat": 4,
 "nbformat_minor": 2,
 "cells": [
  {
   "source": [
    "## Creating a SoftMax Neural Net from Scratch"
   ],
   "cell_type": "markdown",
   "metadata": {}
  },
  {
   "cell_type": "code",
   "execution_count": 1,
   "metadata": {},
   "outputs": [],
   "source": [
    "import numpy as np \n",
    "import pandas as pd \n",
    "import matplotlib.pyplot as plot \n",
    "import seaborn \n",
    "import tensorflow as tf\n",
    "from sklearn.preprocessing import OneHotEncoder"
   ]
  },
  {
   "cell_type": "code",
   "execution_count": 3,
   "metadata": {},
   "outputs": [],
   "source": [
    "#Load the data\n",
    "mnist = tf.keras.datasets.mnist\n",
    "(x_train, y_train), (x_test, y_test) = mnist.load_data()\n",
    "x_train, y_train, x_test, y_test = x_train.astype('int'), y_train.astype('int'), x_test.astype('int'), y_test.astype('int')"
   ]
  },
  {
   "cell_type": "code",
   "execution_count": 2,
   "metadata": {},
   "outputs": [],
   "source": [
    "#Data preparation section\n",
    "\n",
    "def create_one_hot_train_and_test(y_train, y_test):\n",
    "    one_hot = OneHotEncoder(sparse = False)\n",
    "    one_hot_y_train= one_hot.fit_transform(y_train.reshape(-1,1)).T ###currently doing it on two classes\n",
    "    one_hot_y_test = one_hot.fit_transform(y_test.reshape(-1,1)).T\n",
    "    return one_hot_y_train, one_hot_y_test\n",
    "\n",
    "def flatten_and_normalise_x_values(x_train, x_test):\n",
    "    x_train_flat = x_train.reshape((x_train.shape[0],-1)).T / 255\n",
    "    x_test_flat = x_test.reshape((x_test.shape[0],-1)).T / 255\n",
    "    return x_train_flat, x_test_flat"
   ]
  },
  {
   "cell_type": "code",
   "execution_count": 5,
   "metadata": {},
   "outputs": [],
   "source": [
    "x_train_flat, x_test_flat = flatten_and_normalise_x_values(x_train,x_test)\n",
    "one_hot_y_train, one_hot_y_test = create_one_hot_train_and_test(y_train, y_test)"
   ]
  },
  {
   "cell_type": "code",
   "execution_count": null,
   "metadata": {},
   "outputs": [],
   "source": []
  },
  {
   "cell_type": "code",
   "execution_count": 119,
   "metadata": {},
   "outputs": [],
   "source": [
    "class Neural_Net_Softmax():\n",
    "    \n",
    "    #Initialise with the input shape and output shape\n",
    "    def __init__(self, input_features, output_features):\n",
    "        self.input_dimension = input_features\n",
    "        self.output_dimensions = output_features\n",
    "        #Initialise the dictionaries here so we can't accidentally store values we don't need if we change the input sizes.\n",
    "        self.fp_dict = {}\n",
    "        self.bp_dict = {}\n",
    "\n",
    "    def create_layers(self,array_of_mid_layer_sizes, activation_functions = 'relu'):\n",
    "        self.mid_layer_sizes = array_of_mid_layer_sizes        \n",
    "        \n",
    "        #for layer type, we can either set all layers to one type or have an array of layers passed\n",
    "        if activation_functions in ('relu', 'sigmoid'):\n",
    "            self.mid_layer_types = [activation_functions] * len(array_of_mid_layer_sizes)\n",
    "        else:\n",
    "            self.mid_layer_types = activation_functions\n",
    "        self.fp_rounds = len(array_of_mid_layer_sizes) + 1 #Define this here as will be used a lot later and creates one terminology\n",
    "        self.all_layers = [self.input_dimension] + self.mid_layer_sizes + [self.output_dimensions] #\n",
    "\n",
    "    def init_weights(self, init_methods='gaussian'):\n",
    "        self.weights = {}\n",
    "        \n",
    "        #Allow either a list of init_methods or one init method for all layers\n",
    "        if type(init_methods) == str:\n",
    "            init_methods = [init_methods] * self.fp_rounds #This creates a list of layers-1 weight initialisation strings.\n",
    "        \n",
    "        #this iterates through the size of layer and the init methods\n",
    "        for layer, init_methods in zip(range(self.fp_rounds),init_methods):\n",
    "            output_dim = self.all_layers[layer+1]\n",
    "            input_dim = self.all_layers[layer] \n",
    "\n",
    "            #Use locals to call the reelvant function\n",
    "            self.weights[f'W{layer+1}'], self.weights[f'B{layer+1}'] = globals()[f'_{init_methods}_init'](output_dim, input_dim)\n",
    "        return self.weights\n",
    "    \n",
    "    def forward_prop(self, x_flat, one_hot_y, regularisation = False, gradient_smoother = False):\n",
    "        self.fp_dict['A0'], self.fp_dict['Z0'] = x_flat,0 #helpful for iteratting through a's and Z's in backprop\n",
    "        fp_rounds = self.fp_rounds\n",
    "\n",
    "        #First, do all the layers up to thte softmax layer ,which has a different activation function.\n",
    "        for key, activation_function in zip(range(1,fp_rounds),self.mid_layer_types): #starts at 1, goes up to the last hidden layer\n",
    "            self.fp_dict[f'Z{key}'], self.fp_dict[f'A{key}'] = _sigmoid_fp(self.fp_dict[f'A{key-1}'], self.weights[f'W{key}'], self.weights[f'B{key}'])\n",
    "\n",
    "        #Then do the final layer and calculate cost\n",
    "        self.fp_dict[f'Z{fp_rounds}'], self.fp_dict[f'A{fp_rounds}'] = _last_leg_softmax(self.fp_dict[f'A{fp_rounds-1}'], self.weights[f'W{fp_rounds}'], self.weights[f'B{fp_rounds}']) \n",
    "        cost = -np.sum(one_hot_y * np.log(self.fp_dict[f'A{fp_rounds}'])) / one_hot_y.shape[1] #divides by training examples\n",
    "        return self.fp_dict, cost\n",
    "\n",
    "    def back_prop(self, x_flat, one_hot_y):\n",
    "        ZA_dict = {} #this is a temporary dict to store values that are needed at later stages of back prop.\n",
    "        ZA_dict['Z0'] = {} #Just useful for iterations.\n",
    "        \n",
    "        #The first dC_dZ is the classic Softmax function, ÿ - y\n",
    "        ZA_dict[f'dC_dZ{self.fp_rounds}'] = self.fp_dict[f'A{self.fp_rounds}'] - one_hot_y\n",
    "        \n",
    "        #Then we need to iterate back across all layers, getting the relevant dw's for grad descent and the dZs for the previous layer        \n",
    "        final_layer_code = 'no' #this is to solve the issue of the last layer not having Z values\n",
    "        print(self.fp_rounds+1)\n",
    "        for key in reversed(range(1,self.fp_rounds+1)): #e.g. for a network with 5 layers (and 5 Ws, 5 Bs), this will iterate 5,4,3,2,1 and on 1 it will have final layer code of 'yes'\n",
    "            if key == 1:\n",
    "                final_layer_code = 'yes'\n",
    "            self.bp_dict[f'dW{key}'], self.bp_dict[f'dB{key}'], ZA_dict[f'dC_dZ{key-1}'] = back_prop_from_z_to_z_sigmoid(ZA_dict[f'dC_dZ{key}'], final_layer_code, self.fp_dict[f'Z{key-1}'], self.fp_dict[f'A{key-1}'], self.weights[f'W{key}'])\n",
    "        return self.bp_dict\n",
    "\n",
    "    def gradient_descent(self, learning_rate):\n",
    "\n",
    "\n",
    "'''Helper functions - outside of class so they can be called with globals'''\n",
    "\n",
    "#weights initialisati\"ons\n",
    "def _gaussian_init(output_dim, input_dim):\n",
    "    W, B = np.random.randn(output_dim,input_dim), np.random.randn(output_dim,1)\n",
    "    return W,B\n",
    "def _xavier_init(output_dim,input_dim):\n",
    "    W, B = np.random.uniform(-np.sqrt(6)/(np.sqrt(output_dim+input_dim)),np.sqrt(6)/(np.sqrt(output_dim+input_dim)),[output_dim,input_dim]), np.random.uniform(-np.sqrt(6)/(np.sqrt(output_dim+1)),np.sqrt(6)/(np.sqrt(output_dim+1)),[output_dim,1])\n",
    "    return W,B\n",
    "#add relu     \n",
    "\n",
    "#forward props\n",
    "def _sigmoid(x):\n",
    "    return (1/(1+np.exp(-x)))\n",
    "def _sigmoid_fp(prev_a, W, B):\n",
    "    Z = W @ prev_a + B\n",
    "    return Z, _sigmoid(Z)    \n",
    "def _relu(x):\n",
    "    return(max(0,x))\n",
    "def _relu_fp(prev_a, W, B):\n",
    "    Z = W @ prev_a + B\n",
    "    return Z, _relu(Z)\n",
    "def _last_leg_softmax(previous_a, W, B):\n",
    "    Z = W @ previous_a + B\n",
    "    A = np.exp(Z)\n",
    "    A = A / np.sum(A,axis=0) \n",
    "    return Z, A   \n",
    "\n",
    "## BACK PROPOGATION \n",
    "def back_prop_from_z_to_z_sigmoid(dC_dZn, final_layer_or_not,prev_Z, prev_A,W):    \n",
    "\n",
    "    #get diffs at that layer\n",
    "    dZn_dWn = prev_A\n",
    "    dZn_dBn = np.zeros_like(dC_dZn) + 1 #output feature x training examples\n",
    "    #combien to get useful differentials\n",
    "    dC_dWn = dC_dZn @ dZn_dWn.T / dC_dZn.shape[1] #training examples\n",
    "    dC_dBn = np.sum(dC_dZn @ dZn_dBn.T,axis=1,keepdims=True) / dZn_dBn.size ###THIS COULD BE WRONG, MIGHT BE SHAPE. let's try both. BUT IT LOOKS like this is creating a column created from mxmx10, which is shape.\n",
    "\n",
    "    #and then get the previous layer cost fuctions\n",
    "    if final_layer_or_not == 'no':\n",
    "        dZn_dA_minus_one = W\n",
    "        dC__dA_minus_one = (dC_dZn.T @ dZn_dA_minus_one).T\n",
    "        dAn_minus_one__dZ_minus_one = np.exp(-prev_Z) / ((1+np.exp(-prev_Z))**2) #sigmoid differentiated\n",
    "        dC__dZ_minus_one = dC__dA_minus_one * dAn_minus_one__dZ_minus_one\n",
    "        return dC_dWn, dC_dBn, dC__dZ_minus_one\n",
    "    else:\n",
    "        return dC_dWn, dC_dBn, 0"
   ]
  },
  {
   "source": [
    "Unit test 1 - check whether xavier / He gives the right mean and variance of Z1"
   ],
   "cell_type": "markdown",
   "metadata": {}
  },
  {
   "cell_type": "code",
   "execution_count": 121,
   "metadata": {},
   "outputs": [
    {
     "output_type": "stream",
     "name": "stdout",
     "text": [
      "4\n[[0. 0. 0. ... 0. 0. 0.]\n [0. 0. 0. ... 0. 0. 0.]\n [0. 0. 0. ... 0. 0. 0.]\n ...\n [0. 0. 0. ... 0. 0. 0.]\n [0. 0. 0. ... 0. 0. 0.]\n [0. 0. 0. ... 0. 0. 0.]] [[ 0.00020314]\n [-0.01451835]\n [-0.00124917]\n [-0.00244308]\n [ 0.00676162]\n [ 0.00449899]\n [-0.00086447]\n [ 0.0012348 ]\n [ 0.00323632]\n [-0.01618736]] 0 [[ 5.06864432e-02  4.58890848e-04  1.00387101e-07 ...  1.84230343e-03\n  -6.81064196e-03  1.11950022e-04]\n [-2.99336097e-02  3.59145214e-04  3.23328599e-02 ... -2.51820238e-01\n  -2.40344363e-03  3.71287082e-07]\n [ 1.87179945e-05 -6.76004398e-04  9.52350718e-02 ...  1.48308409e-01\n   3.77855717e-03 -1.53329816e-01]\n ...\n [ 1.04893545e-03 -9.69362619e-03  3.74122085e-02 ...  1.86835583e-03\n  -5.20870357e-09 -1.63459276e-06]\n [ 3.50679475e-02 -9.75270098e-02 -1.57924894e-02 ...  1.07850918e-04\n  -8.82440465e-03  1.87803646e-03]\n [-9.26014119e-04  1.15360171e-04 -3.24386600e-03 ...  1.41772972e-02\n   4.52061169e-06 -5.60522790e-04]] yes 0 [[0. 0. 0. ... 0. 0. 0.]\n [0. 0. 0. ... 0. 0. 0.]\n [0. 0. 0. ... 0. 0. 0.]\n ...\n [0. 0. 0. ... 0. 0. 0.]\n [0. 0. 0. ... 0. 0. 0.]\n [0. 0. 0. ... 0. 0. 0.]] [[-0.13664007 -0.94414093 -0.19617095 ...  1.29117151  0.8628462\n   0.43830507]\n [-0.78987438 -0.66919592  1.58089777 ...  0.80014162 -0.09277527\n  -0.61870506]\n [ 0.12790471  1.84312307 -0.35969311 ...  0.68374595 -0.23817653\n   0.25426298]\n ...\n [-1.20950943 -0.49739024  3.55565573 ... -0.48734032 -0.96347274\n   1.77005097]\n [ 0.39319472 -0.7832933  -0.76210889 ...  2.38688017 -1.21725935\n  -0.99968114]\n [-1.48313426  0.60050133 -0.54147537 ...  1.6019348   1.34056094\n  -0.49835136]]\n"
     ]
    },
    {
     "output_type": "execute_result",
     "data": {
      "text/plain": [
       "[784, 10, 10, 10]"
      ]
     },
     "metadata": {},
     "execution_count": 121
    }
   ],
   "source": [
    "nn_test = Neural_Net_Softmax(784, 10)\n",
    "nn_test.create_layers([10,10], 'relu')\n",
    "nn_test.init_weights()\n",
    "nn_test.forward_prop(x_train_flat,one_hot_y_train)\n",
    "nn_test.back_prop(x_train_flat, one_hot_y_train)\n",
    "(nn_test.all_layers)"
   ]
  },
  {
   "cell_type": "code",
   "execution_count": 138,
   "metadata": {},
   "outputs": [
    {
     "output_type": "execute_result",
     "data": {
      "text/plain": [
       "array([[  0,   1,   0],\n",
       "       [  2,   2,   3],\n",
       "       [  0,   2, 100]])"
      ]
     },
     "metadata": {},
     "execution_count": 138
    }
   ],
   "source": [
    "pretend_relu = [\n",
    "[-1,1,-1],\n",
    "[2,2,3],\n",
    "[-10,2,100]\n",
    "]\n",
    "\n",
    "def relu_function(Z):\n",
    "    return(np.maximum(Z,np.zeros_like(Z)))\n",
    "relu_function(pretend_relu)\n"
   ]
  },
  {
   "cell_type": "code",
   "execution_count": null,
   "metadata": {},
   "outputs": [],
   "source": []
  }
 ]
}