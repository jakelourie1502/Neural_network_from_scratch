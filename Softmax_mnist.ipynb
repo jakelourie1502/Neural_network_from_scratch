{
 "metadata": {
  "language_info": {
   "codemirror_mode": {
    "name": "ipython",
    "version": 3
   },
   "file_extension": ".py",
   "mimetype": "text/x-python",
   "name": "python",
   "nbconvert_exporter": "python",
   "pygments_lexer": "ipython3",
   "version": "3.9.2"
  },
  "orig_nbformat": 2,
  "kernelspec": {
   "name": "python392jvsc74a57bd04ed8d8b1f4ffee5a4313117a95b9856306a47d5c4054627e596e3adf695d82a8",
   "display_name": "Python 3.9.2 64-bit ('jakesfirstworld': conda)"
  }
 },
 "nbformat": 4,
 "nbformat_minor": 2,
 "cells": [
  {
   "source": [
    "## Creating a SoftMax Neural Net from Scratch"
   ],
   "cell_type": "markdown",
   "metadata": {}
  },
  {
   "cell_type": "code",
   "execution_count": 1,
   "metadata": {},
   "outputs": [
    {
     "output_type": "error",
     "ename": "SyntaxError",
     "evalue": "invalid syntax (<ipython-input-1-d780d9452157>, line 1)",
     "traceback": [
      "\u001b[0;36m  File \u001b[0;32m\"<ipython-input-1-d780d9452157>\"\u001b[0;36m, line \u001b[0;32m1\u001b[0m\n\u001b[0;31m    slass Neural_Net_Softmax():\u001b[0m\n\u001b[0m          ^\u001b[0m\n\u001b[0;31mSyntaxError\u001b[0m\u001b[0;31m:\u001b[0m invalid syntax\n"
     ]
    }
   ],
   "source": [
    "class Neural_Net_Softmax():\n",
    "    \n",
    "    #Initialise with the input shape and output shape\n",
    "    def __init__(self, input_dimension, output_dimensions):\n",
    "        self.input_dimension = input_dimension\n",
    "        self.output_dimensions = output_dimensions\n",
    "    \n",
    "    #\n",
    "    def init_weights(array_of_mid_layer_sizes, array_of_mid_layer_activations, init_method='gaussian'):\n",
    "        dict_of_weights = {}\n",
    "        all_layers = [x_train_flat.shape[0]] + array_of_layers + [y_train.shape[0]]\n",
    "        \n",
    "        for layer in range(len(size_of_layer) - 1):\n",
    "            size_of_layer[layer+1] = output_dim\n",
    "            size_of_layer[layer] = input_dim\n",
    "\n",
    "            if init_method = 'gaussian': #Normal(0,1)\n",
    "                dict_of_weights[f\"W{layer+1}\"] = np.random.randn(output_dim,input_dim])\n",
    "                dict_of_weights[f\"B{layer+1}\"] = np.random.randn(output_dim,1)\n",
    "            \n",
    "            if xavier == 'yes': #Uniform distribution\n",
    "                dict_of_weights[f\"W{layer+1}\"] = np.random.uniform(np.sqrt(-6)/(np.sqrt(output_dim+input_dim)),np.sqrt(6)/(np.sqrt(output_dim+input_dim)),(output_dim,input_dim)\n",
    "                dict_of_weights[f\"B{layer+1}\"] = np.random.uniform(np.sqrt(-6)/(np.sqrt(output_dim+1)),np.sqrt(6)/(np.sqrt(output_dim+1)),(output_dim,1)\n",
    "            \n",
    "            ##ADD IN THE 'HE' for relu\n",
    "        "
   ]
  },
  {
   "cell_type": "code",
   "execution_count": null,
   "metadata": {},
   "outputs": [],
   "source": []
  }
 ]
}